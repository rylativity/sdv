{
 "cells": [
  {
   "cell_type": "code",
   "execution_count": 1,
   "metadata": {},
   "outputs": [],
   "source": [
    "from sdv.datasets.demo import download_demo\n",
    "from sdv.lite import SingleTablePreset\n",
    "from sdv.single_table import GaussianCopulaSynthesizer\n",
    "from sdv.evaluation.single_table import evaluate_quality, get_column_plot, get_column_pair_plot"
   ]
  },
  {
   "cell_type": "code",
   "execution_count": 2,
   "metadata": {},
   "outputs": [],
   "source": [
    "real_data, metadata = download_demo(\n",
    "    modality='single_table',\n",
    "    dataset_name='fake_hotel_guests')"
   ]
  },
  {
   "cell_type": "markdown",
   "metadata": {},
   "source": [
    "# Data & Metadata Formats"
   ]
  },
  {
   "cell_type": "code",
   "execution_count": 3,
   "metadata": {},
   "outputs": [
    {
     "data": {
      "text/html": [
       "<div>\n",
       "<style scoped>\n",
       "    .dataframe tbody tr th:only-of-type {\n",
       "        vertical-align: middle;\n",
       "    }\n",
       "\n",
       "    .dataframe tbody tr th {\n",
       "        vertical-align: top;\n",
       "    }\n",
       "\n",
       "    .dataframe thead th {\n",
       "        text-align: right;\n",
       "    }\n",
       "</style>\n",
       "<table border=\"1\" class=\"dataframe\">\n",
       "  <thead>\n",
       "    <tr style=\"text-align: right;\">\n",
       "      <th></th>\n",
       "      <th>guest_email</th>\n",
       "      <th>has_rewards</th>\n",
       "      <th>room_type</th>\n",
       "      <th>amenities_fee</th>\n",
       "      <th>checkin_date</th>\n",
       "      <th>checkout_date</th>\n",
       "      <th>room_rate</th>\n",
       "      <th>billing_address</th>\n",
       "      <th>credit_card_number</th>\n",
       "    </tr>\n",
       "  </thead>\n",
       "  <tbody>\n",
       "    <tr>\n",
       "      <th>0</th>\n",
       "      <td>michaelsanders@shaw.net</td>\n",
       "      <td>False</td>\n",
       "      <td>BASIC</td>\n",
       "      <td>37.89</td>\n",
       "      <td>27 Dec 2020</td>\n",
       "      <td>29 Dec 2020</td>\n",
       "      <td>131.23</td>\n",
       "      <td>49380 Rivers Street\\nSpencerville, AK 68265</td>\n",
       "      <td>4075084747483975747</td>\n",
       "    </tr>\n",
       "    <tr>\n",
       "      <th>1</th>\n",
       "      <td>randy49@brown.biz</td>\n",
       "      <td>False</td>\n",
       "      <td>BASIC</td>\n",
       "      <td>24.37</td>\n",
       "      <td>30 Dec 2020</td>\n",
       "      <td>02 Jan 2021</td>\n",
       "      <td>114.43</td>\n",
       "      <td>88394 Boyle Meadows\\nConleyberg, TN 22063</td>\n",
       "      <td>180072822063468</td>\n",
       "    </tr>\n",
       "    <tr>\n",
       "      <th>2</th>\n",
       "      <td>webermelissa@neal.com</td>\n",
       "      <td>True</td>\n",
       "      <td>DELUXE</td>\n",
       "      <td>0.00</td>\n",
       "      <td>17 Sep 2020</td>\n",
       "      <td>18 Sep 2020</td>\n",
       "      <td>368.33</td>\n",
       "      <td>0323 Lisa Station Apt. 208\\nPort Thomas, LA 82585</td>\n",
       "      <td>38983476971380</td>\n",
       "    </tr>\n",
       "    <tr>\n",
       "      <th>3</th>\n",
       "      <td>gsims@terry.com</td>\n",
       "      <td>False</td>\n",
       "      <td>BASIC</td>\n",
       "      <td>NaN</td>\n",
       "      <td>28 Dec 2020</td>\n",
       "      <td>31 Dec 2020</td>\n",
       "      <td>115.61</td>\n",
       "      <td>77 Massachusetts Ave\\nCambridge, MA 02139</td>\n",
       "      <td>4969551998845740</td>\n",
       "    </tr>\n",
       "    <tr>\n",
       "      <th>4</th>\n",
       "      <td>misty33@smith.biz</td>\n",
       "      <td>False</td>\n",
       "      <td>BASIC</td>\n",
       "      <td>16.45</td>\n",
       "      <td>05 Apr 2020</td>\n",
       "      <td>NaN</td>\n",
       "      <td>122.41</td>\n",
       "      <td>1234 Corporate Drive\\nBoston, MA 02116</td>\n",
       "      <td>3558512986488983</td>\n",
       "    </tr>\n",
       "  </tbody>\n",
       "</table>\n",
       "</div>"
      ],
      "text/plain": [
       "               guest_email  has_rewards room_type  amenities_fee checkin_date  \\\n",
       "0  michaelsanders@shaw.net        False     BASIC          37.89  27 Dec 2020   \n",
       "1        randy49@brown.biz        False     BASIC          24.37  30 Dec 2020   \n",
       "2    webermelissa@neal.com         True    DELUXE           0.00  17 Sep 2020   \n",
       "3          gsims@terry.com        False     BASIC            NaN  28 Dec 2020   \n",
       "4        misty33@smith.biz        False     BASIC          16.45  05 Apr 2020   \n",
       "\n",
       "  checkout_date  room_rate                                    billing_address  \\\n",
       "0   29 Dec 2020     131.23        49380 Rivers Street\\nSpencerville, AK 68265   \n",
       "1   02 Jan 2021     114.43          88394 Boyle Meadows\\nConleyberg, TN 22063   \n",
       "2   18 Sep 2020     368.33  0323 Lisa Station Apt. 208\\nPort Thomas, LA 82585   \n",
       "3   31 Dec 2020     115.61          77 Massachusetts Ave\\nCambridge, MA 02139   \n",
       "4           NaN     122.41             1234 Corporate Drive\\nBoston, MA 02116   \n",
       "\n",
       "    credit_card_number  \n",
       "0  4075084747483975747  \n",
       "1      180072822063468  \n",
       "2       38983476971380  \n",
       "3     4969551998845740  \n",
       "4     3558512986488983  "
      ]
     },
     "execution_count": 3,
     "metadata": {},
     "output_type": "execute_result"
    }
   ],
   "source": [
    "# Take a look at real_data and metadata\n",
    "real_data.head()\n",
    "\n",
    "## We can pass any pandas dataframe to SDV (as long as the column is not entirely empty)"
   ]
  },
  {
   "cell_type": "code",
   "execution_count": 4,
   "metadata": {},
   "outputs": [
    {
     "data": {
      "text/plain": [
       "{\n",
       "    \"primary_key\": \"guest_email\",\n",
       "    \"columns\": {\n",
       "        \"guest_email\": {\n",
       "            \"sdtype\": \"email\",\n",
       "            \"pii\": true\n",
       "        },\n",
       "        \"has_rewards\": {\n",
       "            \"sdtype\": \"boolean\"\n",
       "        },\n",
       "        \"room_type\": {\n",
       "            \"sdtype\": \"categorical\"\n",
       "        },\n",
       "        \"amenities_fee\": {\n",
       "            \"sdtype\": \"numerical\",\n",
       "            \"computer_representation\": \"Float\"\n",
       "        },\n",
       "        \"checkin_date\": {\n",
       "            \"sdtype\": \"datetime\",\n",
       "            \"datetime_format\": \"%d %b %Y\"\n",
       "        },\n",
       "        \"checkout_date\": {\n",
       "            \"sdtype\": \"datetime\",\n",
       "            \"datetime_format\": \"%d %b %Y\"\n",
       "        },\n",
       "        \"room_rate\": {\n",
       "            \"sdtype\": \"numerical\",\n",
       "            \"computer_representation\": \"Float\"\n",
       "        },\n",
       "        \"billing_address\": {\n",
       "            \"sdtype\": \"address\",\n",
       "            \"pii\": true\n",
       "        },\n",
       "        \"credit_card_number\": {\n",
       "            \"sdtype\": \"credit_card_number\",\n",
       "            \"pii\": true\n",
       "        }\n",
       "    },\n",
       "    \"METADATA_SPEC_VERSION\": \"SINGLE_TABLE_V1\"\n",
       "}"
      ]
     },
     "execution_count": 4,
     "metadata": {},
     "output_type": "execute_result"
    }
   ],
   "source": [
    "metadata\n",
    "\n",
    "# metadata is essentially a JSON object or python dict containing column names and SDTypes. SDTypes can be found here -https://docs.sdv.dev/sdv/reference/metadata-spec/sdtypes\n",
    "# We can use Faker types as SDTypes\n",
    "# SDV gives us a couple additional utility methods and attributes for metadata objects"
   ]
  },
  {
   "cell_type": "markdown",
   "metadata": {},
   "source": [
    "# Creating a Synthesizer"
   ]
  },
  {
   "cell_type": "code",
   "execution_count": 5,
   "metadata": {},
   "outputs": [],
   "source": [
    "## Won't use these imports below, just to see available synthesizers\n",
    "\n",
    "# from sdv.single_table import CTGANSynthesizer, GaussianCopulaSynthesizer, TVAESynthesizer, CopulaGANSynthesizer\n",
    "# from sdv.multi_table import HMASynthesizer\n",
    "# from sdv.sequential import PARSynthesizer"
   ]
  },
  {
   "cell_type": "code",
   "execution_count": 11,
   "metadata": {},
   "outputs": [],
   "source": [
    "# Create a Synthesizer (we are fitting a GuassianCopulaSynthesizer, which uses classic, statistical methods to train a model and generate synthetic data.)\n",
    "synthesizer = GaussianCopulaSynthesizer(metadata, \n",
    "                                        numerical_distributions={\"amenities_fee\":\"norm\"}\n",
    "                                        )\n",
    "synthesizer.fit(data=real_data)"
   ]
  },
  {
   "cell_type": "markdown",
   "metadata": {},
   "source": [
    "# Generating Synthetic Data"
   ]
  },
  {
   "cell_type": "code",
   "execution_count": 12,
   "metadata": {},
   "outputs": [],
   "source": [
    "synthetic_data = synthesizer.sample(num_rows=500)"
   ]
  },
  {
   "cell_type": "code",
   "execution_count": 13,
   "metadata": {},
   "outputs": [
    {
     "data": {
      "text/html": [
       "<div>\n",
       "<style scoped>\n",
       "    .dataframe tbody tr th:only-of-type {\n",
       "        vertical-align: middle;\n",
       "    }\n",
       "\n",
       "    .dataframe tbody tr th {\n",
       "        vertical-align: top;\n",
       "    }\n",
       "\n",
       "    .dataframe thead th {\n",
       "        text-align: right;\n",
       "    }\n",
       "</style>\n",
       "<table border=\"1\" class=\"dataframe\">\n",
       "  <thead>\n",
       "    <tr style=\"text-align: right;\">\n",
       "      <th></th>\n",
       "      <th>guest_email</th>\n",
       "      <th>has_rewards</th>\n",
       "      <th>room_type</th>\n",
       "      <th>amenities_fee</th>\n",
       "      <th>checkin_date</th>\n",
       "      <th>checkout_date</th>\n",
       "      <th>room_rate</th>\n",
       "      <th>billing_address</th>\n",
       "      <th>credit_card_number</th>\n",
       "    </tr>\n",
       "  </thead>\n",
       "  <tbody>\n",
       "    <tr>\n",
       "      <th>0</th>\n",
       "      <td>dsullivan@example.net</td>\n",
       "      <td>False</td>\n",
       "      <td>DELUXE</td>\n",
       "      <td>9.94</td>\n",
       "      <td>12 Mar 2020</td>\n",
       "      <td>30 Mar 2020</td>\n",
       "      <td>114.22</td>\n",
       "      <td>90469 Karla Knolls Apt. 781\\nSusanberg, NC 28401</td>\n",
       "      <td>5161033759518983</td>\n",
       "    </tr>\n",
       "    <tr>\n",
       "      <th>1</th>\n",
       "      <td>steven59@example.org</td>\n",
       "      <td>False</td>\n",
       "      <td>DELUXE</td>\n",
       "      <td>NaN</td>\n",
       "      <td>21 Jun 2020</td>\n",
       "      <td>04 Sep 2020</td>\n",
       "      <td>176.24</td>\n",
       "      <td>1080 Ashley Creek Apt. 622\\nWest Amy, NM 25058</td>\n",
       "      <td>4133047413145475690</td>\n",
       "    </tr>\n",
       "    <tr>\n",
       "      <th>2</th>\n",
       "      <td>brandon15@example.net</td>\n",
       "      <td>False</td>\n",
       "      <td>BASIC</td>\n",
       "      <td>23.12</td>\n",
       "      <td>31 Mar 2020</td>\n",
       "      <td>20 Mar 2020</td>\n",
       "      <td>125.61</td>\n",
       "      <td>99923 Anderson Trace Suite 861\\nNorth Haley, T...</td>\n",
       "      <td>4977328103788</td>\n",
       "    </tr>\n",
       "    <tr>\n",
       "      <th>3</th>\n",
       "      <td>humphreyjennifer@example.net</td>\n",
       "      <td>False</td>\n",
       "      <td>BASIC</td>\n",
       "      <td>23.40</td>\n",
       "      <td>13 May 2020</td>\n",
       "      <td>27 May 2020</td>\n",
       "      <td>200.98</td>\n",
       "      <td>9301 John Parkways\\nThomasland, OH 61350</td>\n",
       "      <td>3524946844839485</td>\n",
       "    </tr>\n",
       "    <tr>\n",
       "      <th>4</th>\n",
       "      <td>joshuabrown@example.net</td>\n",
       "      <td>False</td>\n",
       "      <td>DELUXE</td>\n",
       "      <td>20.29</td>\n",
       "      <td>11 Jan 2020</td>\n",
       "      <td>09 Jan 2020</td>\n",
       "      <td>178.67</td>\n",
       "      <td>126 George Tunnel\\nDuranstad, MS 95176</td>\n",
       "      <td>4446905799576890978</td>\n",
       "    </tr>\n",
       "  </tbody>\n",
       "</table>\n",
       "</div>"
      ],
      "text/plain": [
       "                    guest_email  has_rewards room_type  amenities_fee  \\\n",
       "0         dsullivan@example.net        False    DELUXE           9.94   \n",
       "1          steven59@example.org        False    DELUXE            NaN   \n",
       "2         brandon15@example.net        False     BASIC          23.12   \n",
       "3  humphreyjennifer@example.net        False     BASIC          23.40   \n",
       "4       joshuabrown@example.net        False    DELUXE          20.29   \n",
       "\n",
       "  checkin_date checkout_date  room_rate  \\\n",
       "0  12 Mar 2020   30 Mar 2020     114.22   \n",
       "1  21 Jun 2020   04 Sep 2020     176.24   \n",
       "2  31 Mar 2020   20 Mar 2020     125.61   \n",
       "3  13 May 2020   27 May 2020     200.98   \n",
       "4  11 Jan 2020   09 Jan 2020     178.67   \n",
       "\n",
       "                                     billing_address   credit_card_number  \n",
       "0   90469 Karla Knolls Apt. 781\\nSusanberg, NC 28401     5161033759518983  \n",
       "1     1080 Ashley Creek Apt. 622\\nWest Amy, NM 25058  4133047413145475690  \n",
       "2  99923 Anderson Trace Suite 861\\nNorth Haley, T...        4977328103788  \n",
       "3           9301 John Parkways\\nThomasland, OH 61350     3524946844839485  \n",
       "4             126 George Tunnel\\nDuranstad, MS 95176  4446905799576890978  "
      ]
     },
     "execution_count": 13,
     "metadata": {},
     "output_type": "execute_result"
    }
   ],
   "source": [
    "synthetic_data.head()"
   ]
  },
  {
   "cell_type": "code",
   "execution_count": 14,
   "metadata": {},
   "outputs": [
    {
     "data": {
      "text/plain": [
       "[]"
      ]
     },
     "execution_count": 14,
     "metadata": {},
     "output_type": "execute_result"
    }
   ],
   "source": [
    "# Let's see if it included any \"real\" emails (from our original data) in our synthetic output\n",
    "[email for email in real_data[\"guest_email\"] if email in synthetic_data[\"guest_email\"]]\n",
    "\n",
    "## It doesn't include any of the original emails because we marked it as PII in the metadata object"
   ]
  },
  {
   "cell_type": "markdown",
   "metadata": {},
   "source": [
    "# Quality Evaluation "
   ]
  },
  {
   "cell_type": "code",
   "execution_count": 15,
   "metadata": {},
   "outputs": [
    {
     "data": {
      "application/vnd.plotly.v1+json": {
       "config": {
        "plotlyServerURL": "https://plot.ly"
       },
       "data": [
        {
         "alignmentgroup": "True",
         "bingroup": "x",
         "histnorm": "probability density",
         "hovertemplate": "<b>Real</b><br>Frequency: %{y}<extra></extra>",
         "legendgroup": "Real",
         "marker": {
          "color": "#000036",
          "pattern": {
           "shape": ""
          }
         },
         "name": "Real",
         "offsetgroup": "Real",
         "orientation": "v",
         "showlegend": true,
         "type": "histogram",
         "x": [
          false,
          false,
          true,
          false,
          false,
          true,
          false,
          false,
          false,
          false,
          false,
          false,
          false,
          false,
          true,
          false,
          false,
          false,
          false,
          false,
          false,
          false,
          false,
          false,
          false,
          false,
          true,
          true,
          false,
          false,
          true,
          false,
          false,
          false,
          false,
          false,
          false,
          false,
          true,
          false,
          false,
          false,
          false,
          false,
          false,
          false,
          false,
          false,
          false,
          false,
          true,
          false,
          false,
          false,
          false,
          true,
          false,
          false,
          false,
          false,
          false,
          false,
          false,
          false,
          true,
          false,
          false,
          false,
          false,
          false,
          false,
          false,
          false,
          false,
          false,
          false,
          false,
          false,
          false,
          false,
          false,
          false,
          false,
          false,
          false,
          false,
          false,
          false,
          false,
          false,
          false,
          false,
          false,
          false,
          false,
          false,
          false,
          false,
          true,
          false,
          false,
          false,
          false,
          false,
          false,
          false,
          true,
          false,
          false,
          false,
          false,
          false,
          false,
          false,
          true,
          false,
          false,
          false,
          false,
          false,
          true,
          true,
          true,
          false,
          false,
          false,
          false,
          false,
          false,
          false,
          false,
          false,
          false,
          true,
          false,
          false,
          false,
          false,
          false,
          false,
          false,
          false,
          true,
          false,
          true,
          false,
          false,
          false,
          false,
          true,
          true,
          false,
          false,
          false,
          false,
          false,
          false,
          false,
          false,
          false,
          false,
          false,
          false,
          false,
          false,
          true,
          true,
          false,
          false,
          false,
          false,
          false,
          false,
          false,
          false,
          false,
          false,
          false,
          true,
          false,
          false,
          false,
          false,
          true,
          false,
          false,
          false,
          false,
          false,
          false,
          false,
          true,
          false,
          false,
          false,
          false,
          true,
          false,
          false,
          false,
          false,
          false,
          false,
          false,
          false,
          false,
          false,
          false,
          false,
          false,
          false,
          false,
          false,
          false,
          false,
          false,
          true,
          false,
          false,
          true,
          false,
          false,
          false,
          false,
          false,
          false,
          false,
          false,
          false,
          false,
          false,
          false,
          false,
          false,
          false,
          false,
          true,
          false,
          false,
          false,
          false,
          false,
          false,
          false,
          false,
          false,
          true,
          false,
          false,
          false,
          true,
          false,
          false,
          false,
          false,
          false,
          false,
          false,
          false,
          false,
          false,
          false,
          false,
          false,
          false,
          false,
          false,
          false,
          false,
          false,
          false,
          false,
          false,
          false,
          false,
          false,
          false,
          false,
          false,
          false,
          false,
          false,
          false,
          false,
          false,
          false,
          false,
          false,
          false,
          false,
          false,
          false,
          false,
          false,
          false,
          true,
          false,
          true,
          false,
          false,
          false,
          false,
          false,
          false,
          false,
          false,
          false,
          false,
          false,
          false,
          false,
          false,
          false,
          false,
          false,
          false,
          false,
          false,
          false,
          false,
          false,
          false,
          false,
          false,
          false,
          false,
          false,
          false,
          false,
          false,
          false,
          false,
          false,
          false,
          false,
          true,
          false,
          false,
          false,
          false,
          false,
          false,
          false,
          false,
          true,
          false,
          false,
          false,
          false,
          true,
          false,
          false,
          false,
          false,
          false,
          false,
          false,
          false,
          false,
          false,
          false,
          false,
          false,
          false,
          false,
          false,
          false,
          false,
          false,
          false,
          false,
          true,
          false,
          false,
          true,
          false,
          false,
          false,
          false,
          false,
          false,
          false,
          false,
          false,
          false,
          false,
          false,
          false,
          true,
          false,
          false,
          false,
          false,
          true,
          false,
          false,
          false,
          false,
          false,
          false,
          false,
          false,
          true,
          false,
          false,
          false,
          false,
          false,
          true,
          false,
          false,
          false,
          false,
          false,
          false,
          false,
          false,
          false,
          false,
          false,
          false,
          true,
          true,
          true,
          false,
          false,
          true,
          false,
          false,
          false,
          false,
          false,
          false,
          false,
          false,
          false,
          false,
          true,
          false,
          false,
          false,
          true,
          false,
          true,
          false,
          false,
          false,
          false,
          false,
          false,
          false,
          false,
          false,
          false,
          false,
          false,
          false,
          false,
          false,
          false,
          false,
          false,
          false,
          false,
          false,
          false,
          false,
          false,
          false,
          false,
          false,
          false,
          false,
          false,
          false,
          true,
          false,
          false,
          true,
          false,
          false,
          false,
          false,
          false,
          false,
          false,
          false,
          true,
          false,
          false,
          false,
          false,
          false,
          false,
          false,
          false,
          false,
          false,
          false,
          false
         ],
         "xaxis": "x",
         "yaxis": "y"
        },
        {
         "alignmentgroup": "True",
         "bingroup": "x",
         "histnorm": "probability density",
         "hovertemplate": "<b>Synthetic</b><br>Frequency: %{y}<extra></extra>",
         "legendgroup": "Synthetic",
         "marker": {
          "color": "#01E0C9",
          "pattern": {
           "shape": "/"
          }
         },
         "name": "Synthetic",
         "offsetgroup": "Synthetic",
         "orientation": "v",
         "showlegend": true,
         "type": "histogram",
         "x": [
          false,
          false,
          false,
          false,
          false,
          false,
          false,
          false,
          false,
          false,
          true,
          false,
          false,
          false,
          false,
          false,
          false,
          false,
          false,
          false,
          false,
          false,
          false,
          true,
          false,
          false,
          false,
          false,
          true,
          false,
          false,
          false,
          false,
          false,
          true,
          false,
          false,
          false,
          false,
          false,
          false,
          false,
          false,
          true,
          false,
          false,
          false,
          false,
          false,
          false,
          false,
          false,
          false,
          false,
          false,
          false,
          false,
          false,
          true,
          false,
          false,
          false,
          false,
          false,
          false,
          false,
          false,
          false,
          false,
          false,
          false,
          true,
          true,
          false,
          false,
          false,
          false,
          true,
          false,
          false,
          false,
          false,
          false,
          false,
          false,
          true,
          false,
          false,
          false,
          false,
          false,
          false,
          false,
          false,
          false,
          false,
          false,
          false,
          false,
          false,
          false,
          false,
          false,
          false,
          false,
          false,
          false,
          false,
          false,
          false,
          false,
          false,
          false,
          false,
          false,
          false,
          false,
          true,
          false,
          false,
          false,
          true,
          false,
          false,
          false,
          false,
          false,
          false,
          false,
          true,
          true,
          false,
          false,
          false,
          false,
          false,
          false,
          false,
          false,
          false,
          false,
          false,
          true,
          false,
          false,
          false,
          false,
          false,
          false,
          false,
          false,
          false,
          false,
          false,
          false,
          true,
          false,
          false,
          false,
          false,
          false,
          false,
          false,
          false,
          false,
          false,
          true,
          false,
          false,
          false,
          false,
          false,
          false,
          false,
          false,
          false,
          false,
          false,
          false,
          false,
          false,
          true,
          false,
          false,
          true,
          true,
          false,
          false,
          false,
          true,
          false,
          false,
          false,
          false,
          false,
          false,
          false,
          false,
          true,
          false,
          false,
          true,
          false,
          false,
          true,
          true,
          false,
          false,
          false,
          false,
          false,
          false,
          false,
          false,
          false,
          false,
          false,
          false,
          false,
          false,
          false,
          false,
          false,
          false,
          false,
          false,
          false,
          true,
          false,
          false,
          false,
          false,
          false,
          false,
          false,
          true,
          false,
          false,
          false,
          true,
          false,
          false,
          false,
          false,
          false,
          false,
          false,
          false,
          false,
          false,
          false,
          false,
          false,
          false,
          false,
          false,
          false,
          false,
          false,
          false,
          false,
          true,
          false,
          false,
          false,
          false,
          false,
          false,
          false,
          false,
          false,
          true,
          false,
          false,
          false,
          false,
          false,
          false,
          false,
          false,
          true,
          false,
          false,
          false,
          false,
          false,
          false,
          false,
          false,
          false,
          false,
          false,
          true,
          false,
          false,
          true,
          false,
          false,
          false,
          false,
          false,
          false,
          false,
          false,
          false,
          false,
          false,
          true,
          false,
          false,
          false,
          false,
          false,
          false,
          false,
          false,
          false,
          false,
          false,
          false,
          false,
          false,
          false,
          false,
          false,
          false,
          false,
          false,
          false,
          true,
          false,
          false,
          false,
          false,
          false,
          false,
          false,
          false,
          false,
          false,
          false,
          false,
          false,
          false,
          false,
          false,
          false,
          false,
          false,
          false,
          false,
          false,
          false,
          true,
          false,
          false,
          false,
          false,
          false,
          false,
          false,
          false,
          false,
          false,
          false,
          false,
          false,
          false,
          false,
          false,
          false,
          false,
          false,
          false,
          false,
          false,
          false,
          false,
          true,
          false,
          false,
          false,
          true,
          false,
          false,
          false,
          false,
          false,
          false,
          false,
          false,
          false,
          false,
          false,
          false,
          false,
          false,
          false,
          false,
          false,
          false,
          false,
          true,
          false,
          false,
          false,
          false,
          true,
          false,
          true,
          false,
          false,
          false,
          false,
          false,
          false,
          false,
          false,
          false,
          false,
          false,
          false,
          false,
          false,
          false,
          false,
          true,
          false,
          false,
          true,
          false,
          false,
          false,
          false,
          false,
          false,
          false,
          false,
          false,
          false,
          true,
          false,
          false,
          false,
          false,
          false,
          false,
          false,
          false,
          false,
          false,
          false,
          false,
          false,
          false,
          false,
          false,
          false,
          false,
          true,
          false,
          false,
          false,
          false,
          false,
          false,
          false,
          false,
          false,
          false,
          false,
          false,
          true,
          false,
          false,
          false,
          false,
          false,
          true,
          false,
          false,
          false,
          false,
          false,
          false,
          false,
          false,
          false,
          false,
          true,
          false,
          false,
          false,
          false,
          false,
          false,
          false,
          true,
          false,
          false
         ],
         "xaxis": "x",
         "yaxis": "y"
        }
       ],
       "layout": {
        "barmode": "group",
        "font": {
         "size": 18
        },
        "legend": {
         "title": {
          "text": "Data"
         },
         "tracegroupgap": 0
        },
        "margin": {
         "t": 60
        },
        "plot_bgcolor": "#F5F5F8",
        "template": {
         "data": {
          "bar": [
           {
            "error_x": {
             "color": "#2a3f5f"
            },
            "error_y": {
             "color": "#2a3f5f"
            },
            "marker": {
             "line": {
              "color": "#E5ECF6",
              "width": 0.5
             },
             "pattern": {
              "fillmode": "overlay",
              "size": 10,
              "solidity": 0.2
             }
            },
            "type": "bar"
           }
          ],
          "barpolar": [
           {
            "marker": {
             "line": {
              "color": "#E5ECF6",
              "width": 0.5
             },
             "pattern": {
              "fillmode": "overlay",
              "size": 10,
              "solidity": 0.2
             }
            },
            "type": "barpolar"
           }
          ],
          "carpet": [
           {
            "aaxis": {
             "endlinecolor": "#2a3f5f",
             "gridcolor": "white",
             "linecolor": "white",
             "minorgridcolor": "white",
             "startlinecolor": "#2a3f5f"
            },
            "baxis": {
             "endlinecolor": "#2a3f5f",
             "gridcolor": "white",
             "linecolor": "white",
             "minorgridcolor": "white",
             "startlinecolor": "#2a3f5f"
            },
            "type": "carpet"
           }
          ],
          "choropleth": [
           {
            "colorbar": {
             "outlinewidth": 0,
             "ticks": ""
            },
            "type": "choropleth"
           }
          ],
          "contour": [
           {
            "colorbar": {
             "outlinewidth": 0,
             "ticks": ""
            },
            "colorscale": [
             [
              0,
              "#0d0887"
             ],
             [
              0.1111111111111111,
              "#46039f"
             ],
             [
              0.2222222222222222,
              "#7201a8"
             ],
             [
              0.3333333333333333,
              "#9c179e"
             ],
             [
              0.4444444444444444,
              "#bd3786"
             ],
             [
              0.5555555555555556,
              "#d8576b"
             ],
             [
              0.6666666666666666,
              "#ed7953"
             ],
             [
              0.7777777777777778,
              "#fb9f3a"
             ],
             [
              0.8888888888888888,
              "#fdca26"
             ],
             [
              1,
              "#f0f921"
             ]
            ],
            "type": "contour"
           }
          ],
          "contourcarpet": [
           {
            "colorbar": {
             "outlinewidth": 0,
             "ticks": ""
            },
            "type": "contourcarpet"
           }
          ],
          "heatmap": [
           {
            "colorbar": {
             "outlinewidth": 0,
             "ticks": ""
            },
            "colorscale": [
             [
              0,
              "#0d0887"
             ],
             [
              0.1111111111111111,
              "#46039f"
             ],
             [
              0.2222222222222222,
              "#7201a8"
             ],
             [
              0.3333333333333333,
              "#9c179e"
             ],
             [
              0.4444444444444444,
              "#bd3786"
             ],
             [
              0.5555555555555556,
              "#d8576b"
             ],
             [
              0.6666666666666666,
              "#ed7953"
             ],
             [
              0.7777777777777778,
              "#fb9f3a"
             ],
             [
              0.8888888888888888,
              "#fdca26"
             ],
             [
              1,
              "#f0f921"
             ]
            ],
            "type": "heatmap"
           }
          ],
          "heatmapgl": [
           {
            "colorbar": {
             "outlinewidth": 0,
             "ticks": ""
            },
            "colorscale": [
             [
              0,
              "#0d0887"
             ],
             [
              0.1111111111111111,
              "#46039f"
             ],
             [
              0.2222222222222222,
              "#7201a8"
             ],
             [
              0.3333333333333333,
              "#9c179e"
             ],
             [
              0.4444444444444444,
              "#bd3786"
             ],
             [
              0.5555555555555556,
              "#d8576b"
             ],
             [
              0.6666666666666666,
              "#ed7953"
             ],
             [
              0.7777777777777778,
              "#fb9f3a"
             ],
             [
              0.8888888888888888,
              "#fdca26"
             ],
             [
              1,
              "#f0f921"
             ]
            ],
            "type": "heatmapgl"
           }
          ],
          "histogram": [
           {
            "marker": {
             "pattern": {
              "fillmode": "overlay",
              "size": 10,
              "solidity": 0.2
             }
            },
            "type": "histogram"
           }
          ],
          "histogram2d": [
           {
            "colorbar": {
             "outlinewidth": 0,
             "ticks": ""
            },
            "colorscale": [
             [
              0,
              "#0d0887"
             ],
             [
              0.1111111111111111,
              "#46039f"
             ],
             [
              0.2222222222222222,
              "#7201a8"
             ],
             [
              0.3333333333333333,
              "#9c179e"
             ],
             [
              0.4444444444444444,
              "#bd3786"
             ],
             [
              0.5555555555555556,
              "#d8576b"
             ],
             [
              0.6666666666666666,
              "#ed7953"
             ],
             [
              0.7777777777777778,
              "#fb9f3a"
             ],
             [
              0.8888888888888888,
              "#fdca26"
             ],
             [
              1,
              "#f0f921"
             ]
            ],
            "type": "histogram2d"
           }
          ],
          "histogram2dcontour": [
           {
            "colorbar": {
             "outlinewidth": 0,
             "ticks": ""
            },
            "colorscale": [
             [
              0,
              "#0d0887"
             ],
             [
              0.1111111111111111,
              "#46039f"
             ],
             [
              0.2222222222222222,
              "#7201a8"
             ],
             [
              0.3333333333333333,
              "#9c179e"
             ],
             [
              0.4444444444444444,
              "#bd3786"
             ],
             [
              0.5555555555555556,
              "#d8576b"
             ],
             [
              0.6666666666666666,
              "#ed7953"
             ],
             [
              0.7777777777777778,
              "#fb9f3a"
             ],
             [
              0.8888888888888888,
              "#fdca26"
             ],
             [
              1,
              "#f0f921"
             ]
            ],
            "type": "histogram2dcontour"
           }
          ],
          "mesh3d": [
           {
            "colorbar": {
             "outlinewidth": 0,
             "ticks": ""
            },
            "type": "mesh3d"
           }
          ],
          "parcoords": [
           {
            "line": {
             "colorbar": {
              "outlinewidth": 0,
              "ticks": ""
             }
            },
            "type": "parcoords"
           }
          ],
          "pie": [
           {
            "automargin": true,
            "type": "pie"
           }
          ],
          "scatter": [
           {
            "fillpattern": {
             "fillmode": "overlay",
             "size": 10,
             "solidity": 0.2
            },
            "type": "scatter"
           }
          ],
          "scatter3d": [
           {
            "line": {
             "colorbar": {
              "outlinewidth": 0,
              "ticks": ""
             }
            },
            "marker": {
             "colorbar": {
              "outlinewidth": 0,
              "ticks": ""
             }
            },
            "type": "scatter3d"
           }
          ],
          "scattercarpet": [
           {
            "marker": {
             "colorbar": {
              "outlinewidth": 0,
              "ticks": ""
             }
            },
            "type": "scattercarpet"
           }
          ],
          "scattergeo": [
           {
            "marker": {
             "colorbar": {
              "outlinewidth": 0,
              "ticks": ""
             }
            },
            "type": "scattergeo"
           }
          ],
          "scattergl": [
           {
            "marker": {
             "colorbar": {
              "outlinewidth": 0,
              "ticks": ""
             }
            },
            "type": "scattergl"
           }
          ],
          "scattermapbox": [
           {
            "marker": {
             "colorbar": {
              "outlinewidth": 0,
              "ticks": ""
             }
            },
            "type": "scattermapbox"
           }
          ],
          "scatterpolar": [
           {
            "marker": {
             "colorbar": {
              "outlinewidth": 0,
              "ticks": ""
             }
            },
            "type": "scatterpolar"
           }
          ],
          "scatterpolargl": [
           {
            "marker": {
             "colorbar": {
              "outlinewidth": 0,
              "ticks": ""
             }
            },
            "type": "scatterpolargl"
           }
          ],
          "scatterternary": [
           {
            "marker": {
             "colorbar": {
              "outlinewidth": 0,
              "ticks": ""
             }
            },
            "type": "scatterternary"
           }
          ],
          "surface": [
           {
            "colorbar": {
             "outlinewidth": 0,
             "ticks": ""
            },
            "colorscale": [
             [
              0,
              "#0d0887"
             ],
             [
              0.1111111111111111,
              "#46039f"
             ],
             [
              0.2222222222222222,
              "#7201a8"
             ],
             [
              0.3333333333333333,
              "#9c179e"
             ],
             [
              0.4444444444444444,
              "#bd3786"
             ],
             [
              0.5555555555555556,
              "#d8576b"
             ],
             [
              0.6666666666666666,
              "#ed7953"
             ],
             [
              0.7777777777777778,
              "#fb9f3a"
             ],
             [
              0.8888888888888888,
              "#fdca26"
             ],
             [
              1,
              "#f0f921"
             ]
            ],
            "type": "surface"
           }
          ],
          "table": [
           {
            "cells": {
             "fill": {
              "color": "#EBF0F8"
             },
             "line": {
              "color": "white"
             }
            },
            "header": {
             "fill": {
              "color": "#C8D4E3"
             },
             "line": {
              "color": "white"
             }
            },
            "type": "table"
           }
          ]
         },
         "layout": {
          "annotationdefaults": {
           "arrowcolor": "#2a3f5f",
           "arrowhead": 0,
           "arrowwidth": 1
          },
          "autotypenumbers": "strict",
          "coloraxis": {
           "colorbar": {
            "outlinewidth": 0,
            "ticks": ""
           }
          },
          "colorscale": {
           "diverging": [
            [
             0,
             "#8e0152"
            ],
            [
             0.1,
             "#c51b7d"
            ],
            [
             0.2,
             "#de77ae"
            ],
            [
             0.3,
             "#f1b6da"
            ],
            [
             0.4,
             "#fde0ef"
            ],
            [
             0.5,
             "#f7f7f7"
            ],
            [
             0.6,
             "#e6f5d0"
            ],
            [
             0.7,
             "#b8e186"
            ],
            [
             0.8,
             "#7fbc41"
            ],
            [
             0.9,
             "#4d9221"
            ],
            [
             1,
             "#276419"
            ]
           ],
           "sequential": [
            [
             0,
             "#0d0887"
            ],
            [
             0.1111111111111111,
             "#46039f"
            ],
            [
             0.2222222222222222,
             "#7201a8"
            ],
            [
             0.3333333333333333,
             "#9c179e"
            ],
            [
             0.4444444444444444,
             "#bd3786"
            ],
            [
             0.5555555555555556,
             "#d8576b"
            ],
            [
             0.6666666666666666,
             "#ed7953"
            ],
            [
             0.7777777777777778,
             "#fb9f3a"
            ],
            [
             0.8888888888888888,
             "#fdca26"
            ],
            [
             1,
             "#f0f921"
            ]
           ],
           "sequentialminus": [
            [
             0,
             "#0d0887"
            ],
            [
             0.1111111111111111,
             "#46039f"
            ],
            [
             0.2222222222222222,
             "#7201a8"
            ],
            [
             0.3333333333333333,
             "#9c179e"
            ],
            [
             0.4444444444444444,
             "#bd3786"
            ],
            [
             0.5555555555555556,
             "#d8576b"
            ],
            [
             0.6666666666666666,
             "#ed7953"
            ],
            [
             0.7777777777777778,
             "#fb9f3a"
            ],
            [
             0.8888888888888888,
             "#fdca26"
            ],
            [
             1,
             "#f0f921"
            ]
           ]
          },
          "colorway": [
           "#636efa",
           "#EF553B",
           "#00cc96",
           "#ab63fa",
           "#FFA15A",
           "#19d3f3",
           "#FF6692",
           "#B6E880",
           "#FF97FF",
           "#FECB52"
          ],
          "font": {
           "color": "#2a3f5f"
          },
          "geo": {
           "bgcolor": "white",
           "lakecolor": "white",
           "landcolor": "#E5ECF6",
           "showlakes": true,
           "showland": true,
           "subunitcolor": "white"
          },
          "hoverlabel": {
           "align": "left"
          },
          "hovermode": "closest",
          "mapbox": {
           "style": "light"
          },
          "paper_bgcolor": "white",
          "plot_bgcolor": "#E5ECF6",
          "polar": {
           "angularaxis": {
            "gridcolor": "white",
            "linecolor": "white",
            "ticks": ""
           },
           "bgcolor": "#E5ECF6",
           "radialaxis": {
            "gridcolor": "white",
            "linecolor": "white",
            "ticks": ""
           }
          },
          "scene": {
           "xaxis": {
            "backgroundcolor": "#E5ECF6",
            "gridcolor": "white",
            "gridwidth": 2,
            "linecolor": "white",
            "showbackground": true,
            "ticks": "",
            "zerolinecolor": "white"
           },
           "yaxis": {
            "backgroundcolor": "#E5ECF6",
            "gridcolor": "white",
            "gridwidth": 2,
            "linecolor": "white",
            "showbackground": true,
            "ticks": "",
            "zerolinecolor": "white"
           },
           "zaxis": {
            "backgroundcolor": "#E5ECF6",
            "gridcolor": "white",
            "gridwidth": 2,
            "linecolor": "white",
            "showbackground": true,
            "ticks": "",
            "zerolinecolor": "white"
           }
          },
          "shapedefaults": {
           "line": {
            "color": "#2a3f5f"
           }
          },
          "ternary": {
           "aaxis": {
            "gridcolor": "white",
            "linecolor": "white",
            "ticks": ""
           },
           "baxis": {
            "gridcolor": "white",
            "linecolor": "white",
            "ticks": ""
           },
           "bgcolor": "#E5ECF6",
           "caxis": {
            "gridcolor": "white",
            "linecolor": "white",
            "ticks": ""
           }
          },
          "title": {
           "x": 0.05
          },
          "xaxis": {
           "automargin": true,
           "gridcolor": "white",
           "linecolor": "white",
           "ticks": "",
           "title": {
            "standoff": 15
           },
           "zerolinecolor": "white",
           "zerolinewidth": 2
          },
          "yaxis": {
           "automargin": true,
           "gridcolor": "white",
           "linecolor": "white",
           "ticks": "",
           "title": {
            "standoff": 15
           },
           "zerolinecolor": "white",
           "zerolinewidth": 2
          }
         }
        },
        "title": {
         "text": "Real vs. Synthetic Data for column 'has_rewards'"
        },
        "xaxis": {
         "anchor": "y",
         "domain": [
          0,
          1
         ],
         "title": {
          "text": "Category"
         }
        },
        "yaxis": {
         "anchor": "x",
         "domain": [
          0,
          1
         ],
         "title": {
          "text": "Frequency"
         }
        }
       }
      }
     },
     "metadata": {},
     "output_type": "display_data"
    },
    {
     "data": {
      "application/vnd.plotly.v1+json": {
       "config": {
        "plotlyServerURL": "https://plot.ly"
       },
       "data": [
        {
         "alignmentgroup": "True",
         "bingroup": "x",
         "histnorm": "probability density",
         "hovertemplate": "<b>Real</b><br>Frequency: %{y}<extra></extra>",
         "legendgroup": "Real",
         "marker": {
          "color": "#000036",
          "pattern": {
           "shape": ""
          }
         },
         "name": "Real",
         "offsetgroup": "Real",
         "orientation": "v",
         "showlegend": true,
         "type": "histogram",
         "x": [
          "BASIC",
          "BASIC",
          "DELUXE",
          "BASIC",
          "BASIC",
          "BASIC",
          "BASIC",
          "BASIC",
          "BASIC",
          "BASIC",
          "BASIC",
          "BASIC",
          "BASIC",
          "BASIC",
          "BASIC",
          "BASIC",
          "DELUXE",
          "BASIC",
          "DELUXE",
          "BASIC",
          "BASIC",
          "BASIC",
          "BASIC",
          "BASIC",
          "BASIC",
          "BASIC",
          "BASIC",
          "BASIC",
          "BASIC",
          "BASIC",
          "DELUXE",
          "BASIC",
          "BASIC",
          "BASIC",
          "BASIC",
          "BASIC",
          "BASIC",
          "BASIC",
          "BASIC",
          "BASIC",
          "SUITE",
          "BASIC",
          "DELUXE",
          "BASIC",
          "BASIC",
          "BASIC",
          "BASIC",
          "BASIC",
          "BASIC",
          "SUITE",
          "DELUXE",
          "BASIC",
          "BASIC",
          "DELUXE",
          "BASIC",
          "BASIC",
          "BASIC",
          "BASIC",
          "SUITE",
          "SUITE",
          "DELUXE",
          "BASIC",
          "BASIC",
          "BASIC",
          "BASIC",
          "BASIC",
          "BASIC",
          "BASIC",
          "SUITE",
          "BASIC",
          "BASIC",
          "BASIC",
          "BASIC",
          "BASIC",
          "DELUXE",
          "BASIC",
          "BASIC",
          "BASIC",
          "BASIC",
          "BASIC",
          "BASIC",
          "BASIC",
          "BASIC",
          "BASIC",
          "BASIC",
          "BASIC",
          "BASIC",
          "BASIC",
          "SUITE",
          "BASIC",
          "BASIC",
          "BASIC",
          "BASIC",
          "BASIC",
          "BASIC",
          "BASIC",
          "BASIC",
          "BASIC",
          "BASIC",
          "DELUXE",
          "BASIC",
          "BASIC",
          "DELUXE",
          "BASIC",
          "BASIC",
          "BASIC",
          "BASIC",
          "DELUXE",
          "BASIC",
          "BASIC",
          "BASIC",
          "DELUXE",
          "BASIC",
          "BASIC",
          "DELUXE",
          "DELUXE",
          "BASIC",
          "BASIC",
          "BASIC",
          "BASIC",
          "DELUXE",
          "DELUXE",
          "BASIC",
          "BASIC",
          "BASIC",
          "BASIC",
          "BASIC",
          "BASIC",
          "BASIC",
          "BASIC",
          "BASIC",
          "BASIC",
          "BASIC",
          "BASIC",
          "BASIC",
          "BASIC",
          "DELUXE",
          "SUITE",
          "BASIC",
          "BASIC",
          "BASIC",
          "BASIC",
          "SUITE",
          "BASIC",
          "SUITE",
          "BASIC",
          "BASIC",
          "BASIC",
          "BASIC",
          "SUITE",
          "BASIC",
          "BASIC",
          "BASIC",
          "BASIC",
          "BASIC",
          "BASIC",
          "BASIC",
          "BASIC",
          "BASIC",
          "BASIC",
          "DELUXE",
          "BASIC",
          "BASIC",
          "BASIC",
          "BASIC",
          "SUITE",
          "DELUXE",
          "BASIC",
          "BASIC",
          "BASIC",
          "BASIC",
          "BASIC",
          "BASIC",
          "BASIC",
          "BASIC",
          "BASIC",
          "BASIC",
          "BASIC",
          "DELUXE",
          "SUITE",
          "BASIC",
          "BASIC",
          "BASIC",
          "SUITE",
          "BASIC",
          "DELUXE",
          "BASIC",
          "BASIC",
          "BASIC",
          "BASIC",
          "DELUXE",
          "BASIC",
          "BASIC",
          "BASIC",
          "BASIC",
          "BASIC",
          "SUITE",
          "BASIC",
          "DELUXE",
          "BASIC",
          "BASIC",
          "BASIC",
          "BASIC",
          "BASIC",
          "BASIC",
          "BASIC",
          "DELUXE",
          "BASIC",
          "DELUXE",
          "DELUXE",
          "DELUXE",
          "DELUXE",
          "BASIC",
          "BASIC",
          "BASIC",
          "DELUXE",
          "SUITE",
          "BASIC",
          "BASIC",
          "SUITE",
          "DELUXE",
          "BASIC",
          "BASIC",
          "DELUXE",
          "BASIC",
          "BASIC",
          "BASIC",
          "BASIC",
          "DELUXE",
          "BASIC",
          "BASIC",
          "BASIC",
          "BASIC",
          "BASIC",
          "BASIC",
          "BASIC",
          "SUITE",
          "BASIC",
          "BASIC",
          "DELUXE",
          "BASIC",
          "BASIC",
          "BASIC",
          "BASIC",
          "BASIC",
          "BASIC",
          "SUITE",
          "BASIC",
          "BASIC",
          "BASIC",
          "BASIC",
          "DELUXE",
          "BASIC",
          "BASIC",
          "BASIC",
          "BASIC",
          "BASIC",
          "BASIC",
          "BASIC",
          "BASIC",
          "BASIC",
          "BASIC",
          "BASIC",
          "BASIC",
          "BASIC",
          "BASIC",
          "DELUXE",
          "SUITE",
          "BASIC",
          "BASIC",
          "BASIC",
          "BASIC",
          "BASIC",
          "BASIC",
          "BASIC",
          "DELUXE",
          "BASIC",
          "SUITE",
          "SUITE",
          "DELUXE",
          "BASIC",
          "BASIC",
          "DELUXE",
          "SUITE",
          "DELUXE",
          "BASIC",
          "BASIC",
          "BASIC",
          "BASIC",
          "BASIC",
          "DELUXE",
          "DELUXE",
          "BASIC",
          "BASIC",
          "BASIC",
          "BASIC",
          "BASIC",
          "DELUXE",
          "BASIC",
          "DELUXE",
          "BASIC",
          "BASIC",
          "BASIC",
          "BASIC",
          "DELUXE",
          "BASIC",
          "BASIC",
          "BASIC",
          "BASIC",
          "DELUXE",
          "DELUXE",
          "BASIC",
          "SUITE",
          "BASIC",
          "BASIC",
          "BASIC",
          "BASIC",
          "SUITE",
          "BASIC",
          "BASIC",
          "BASIC",
          "BASIC",
          "DELUXE",
          "BASIC",
          "BASIC",
          "BASIC",
          "BASIC",
          "BASIC",
          "BASIC",
          "BASIC",
          "BASIC",
          "BASIC",
          "BASIC",
          "BASIC",
          "BASIC",
          "SUITE",
          "BASIC",
          "BASIC",
          "BASIC",
          "BASIC",
          "BASIC",
          "BASIC",
          "BASIC",
          "BASIC",
          "DELUXE",
          "BASIC",
          "BASIC",
          "DELUXE",
          "BASIC",
          "DELUXE",
          "BASIC",
          "BASIC",
          "DELUXE",
          "DELUXE",
          "DELUXE",
          "SUITE",
          "BASIC",
          "BASIC",
          "DELUXE",
          "BASIC",
          "BASIC",
          "BASIC",
          "BASIC",
          "BASIC",
          "BASIC",
          "BASIC",
          "BASIC",
          "BASIC",
          "BASIC",
          "BASIC",
          "BASIC",
          "BASIC",
          "DELUXE",
          "DELUXE",
          "BASIC",
          "BASIC",
          "BASIC",
          "BASIC",
          "BASIC",
          "DELUXE",
          "BASIC",
          "BASIC",
          "BASIC",
          "SUITE",
          "BASIC",
          "BASIC",
          "BASIC",
          "BASIC",
          "BASIC",
          "DELUXE",
          "BASIC",
          "BASIC",
          "BASIC",
          "BASIC",
          "BASIC",
          "BASIC",
          "DELUXE",
          "BASIC",
          "BASIC",
          "BASIC",
          "BASIC",
          "BASIC",
          "DELUXE",
          "BASIC",
          "BASIC",
          "BASIC",
          "BASIC",
          "DELUXE",
          "DELUXE",
          "DELUXE",
          "BASIC",
          "BASIC",
          "BASIC",
          "BASIC",
          "BASIC",
          "BASIC",
          "BASIC",
          "DELUXE",
          "BASIC",
          "DELUXE",
          "BASIC",
          "SUITE",
          "DELUXE",
          "SUITE",
          "BASIC",
          "BASIC",
          "SUITE",
          "DELUXE",
          "BASIC",
          "SUITE",
          "BASIC",
          "BASIC",
          "BASIC",
          "DELUXE",
          "BASIC",
          "BASIC",
          "SUITE",
          "DELUXE",
          "BASIC",
          "BASIC",
          "BASIC",
          "SUITE",
          "BASIC",
          "DELUXE",
          "BASIC",
          "BASIC",
          "BASIC",
          "BASIC",
          "BASIC",
          "BASIC",
          "BASIC",
          "BASIC",
          "BASIC",
          "SUITE",
          "BASIC",
          "BASIC",
          "BASIC",
          "BASIC",
          "BASIC",
          "DELUXE",
          "BASIC",
          "DELUXE",
          "BASIC",
          "DELUXE",
          "BASIC",
          "DELUXE",
          "SUITE",
          "BASIC",
          "BASIC",
          "BASIC",
          "BASIC",
          "BASIC",
          "BASIC",
          "DELUXE",
          "BASIC",
          "SUITE",
          "BASIC",
          "BASIC",
          "SUITE",
          "SUITE",
          "BASIC",
          "BASIC",
          "BASIC",
          "BASIC",
          "BASIC",
          "BASIC",
          "BASIC",
          "DELUXE",
          "BASIC",
          "BASIC",
          "BASIC",
          "BASIC",
          "DELUXE",
          "BASIC",
          "BASIC",
          "BASIC",
          "BASIC",
          "BASIC",
          "BASIC",
          "BASIC"
         ],
         "xaxis": "x",
         "yaxis": "y"
        },
        {
         "alignmentgroup": "True",
         "bingroup": "x",
         "histnorm": "probability density",
         "hovertemplate": "<b>Synthetic</b><br>Frequency: %{y}<extra></extra>",
         "legendgroup": "Synthetic",
         "marker": {
          "color": "#01E0C9",
          "pattern": {
           "shape": "/"
          }
         },
         "name": "Synthetic",
         "offsetgroup": "Synthetic",
         "orientation": "v",
         "showlegend": true,
         "type": "histogram",
         "x": [
          "DELUXE",
          "DELUXE",
          "BASIC",
          "BASIC",
          "DELUXE",
          "BASIC",
          "BASIC",
          "SUITE",
          "BASIC",
          "BASIC",
          "BASIC",
          "BASIC",
          "SUITE",
          "DELUXE",
          "BASIC",
          "DELUXE",
          "BASIC",
          "BASIC",
          "SUITE",
          "BASIC",
          "BASIC",
          "BASIC",
          "BASIC",
          "BASIC",
          "BASIC",
          "BASIC",
          "DELUXE",
          "BASIC",
          "BASIC",
          "BASIC",
          "BASIC",
          "BASIC",
          "BASIC",
          "BASIC",
          "BASIC",
          "BASIC",
          "BASIC",
          "BASIC",
          "BASIC",
          "BASIC",
          "DELUXE",
          "BASIC",
          "BASIC",
          "DELUXE",
          "DELUXE",
          "BASIC",
          "BASIC",
          "BASIC",
          "BASIC",
          "BASIC",
          "BASIC",
          "BASIC",
          "BASIC",
          "DELUXE",
          "BASIC",
          "BASIC",
          "DELUXE",
          "DELUXE",
          "BASIC",
          "BASIC",
          "BASIC",
          "BASIC",
          "BASIC",
          "BASIC",
          "BASIC",
          "BASIC",
          "BASIC",
          "BASIC",
          "DELUXE",
          "BASIC",
          "BASIC",
          "BASIC",
          "BASIC",
          "BASIC",
          "BASIC",
          "BASIC",
          "BASIC",
          "BASIC",
          "BASIC",
          "DELUXE",
          "BASIC",
          "BASIC",
          "BASIC",
          "BASIC",
          "BASIC",
          "BASIC",
          "BASIC",
          "BASIC",
          "BASIC",
          "BASIC",
          "BASIC",
          "BASIC",
          "BASIC",
          "BASIC",
          "BASIC",
          "BASIC",
          "BASIC",
          "BASIC",
          "BASIC",
          "BASIC",
          "DELUXE",
          "BASIC",
          "DELUXE",
          "BASIC",
          "BASIC",
          "BASIC",
          "BASIC",
          "BASIC",
          "DELUXE",
          "BASIC",
          "BASIC",
          "BASIC",
          "DELUXE",
          "BASIC",
          "BASIC",
          "BASIC",
          "DELUXE",
          "BASIC",
          "DELUXE",
          "BASIC",
          "BASIC",
          "SUITE",
          "BASIC",
          "SUITE",
          "BASIC",
          "BASIC",
          "BASIC",
          "BASIC",
          "BASIC",
          "DELUXE",
          "DELUXE",
          "SUITE",
          "BASIC",
          "DELUXE",
          "BASIC",
          "BASIC",
          "BASIC",
          "BASIC",
          "BASIC",
          "BASIC",
          "BASIC",
          "BASIC",
          "DELUXE",
          "DELUXE",
          "BASIC",
          "BASIC",
          "BASIC",
          "DELUXE",
          "BASIC",
          "BASIC",
          "BASIC",
          "BASIC",
          "BASIC",
          "BASIC",
          "BASIC",
          "SUITE",
          "DELUXE",
          "BASIC",
          "BASIC",
          "BASIC",
          "SUITE",
          "DELUXE",
          "BASIC",
          "BASIC",
          "DELUXE",
          "BASIC",
          "BASIC",
          "BASIC",
          "BASIC",
          "BASIC",
          "BASIC",
          "BASIC",
          "BASIC",
          "BASIC",
          "BASIC",
          "BASIC",
          "DELUXE",
          "BASIC",
          "BASIC",
          "BASIC",
          "BASIC",
          "BASIC",
          "BASIC",
          "SUITE",
          "DELUXE",
          "DELUXE",
          "BASIC",
          "BASIC",
          "BASIC",
          "SUITE",
          "BASIC",
          "BASIC",
          "BASIC",
          "BASIC",
          "BASIC",
          "BASIC",
          "BASIC",
          "BASIC",
          "BASIC",
          "BASIC",
          "BASIC",
          "BASIC",
          "BASIC",
          "BASIC",
          "BASIC",
          "BASIC",
          "BASIC",
          "BASIC",
          "BASIC",
          "BASIC",
          "BASIC",
          "BASIC",
          "BASIC",
          "BASIC",
          "BASIC",
          "DELUXE",
          "DELUXE",
          "BASIC",
          "BASIC",
          "BASIC",
          "DELUXE",
          "SUITE",
          "BASIC",
          "BASIC",
          "BASIC",
          "BASIC",
          "BASIC",
          "BASIC",
          "BASIC",
          "SUITE",
          "BASIC",
          "BASIC",
          "BASIC",
          "BASIC",
          "BASIC",
          "BASIC",
          "BASIC",
          "BASIC",
          "BASIC",
          "DELUXE",
          "BASIC",
          "BASIC",
          "BASIC",
          "BASIC",
          "BASIC",
          "SUITE",
          "BASIC",
          "BASIC",
          "BASIC",
          "SUITE",
          "BASIC",
          "BASIC",
          "BASIC",
          "BASIC",
          "BASIC",
          "BASIC",
          "BASIC",
          "BASIC",
          "BASIC",
          "DELUXE",
          "BASIC",
          "BASIC",
          "DELUXE",
          "BASIC",
          "BASIC",
          "BASIC",
          "BASIC",
          "BASIC",
          "DELUXE",
          "BASIC",
          "BASIC",
          "BASIC",
          "BASIC",
          "DELUXE",
          "BASIC",
          "BASIC",
          "BASIC",
          "BASIC",
          "BASIC",
          "BASIC",
          "BASIC",
          "BASIC",
          "BASIC",
          "DELUXE",
          "BASIC",
          "BASIC",
          "BASIC",
          "DELUXE",
          "BASIC",
          "SUITE",
          "BASIC",
          "BASIC",
          "BASIC",
          "BASIC",
          "BASIC",
          "BASIC",
          "BASIC",
          "BASIC",
          "BASIC",
          "BASIC",
          "BASIC",
          "BASIC",
          "BASIC",
          "BASIC",
          "BASIC",
          "BASIC",
          "BASIC",
          "DELUXE",
          "BASIC",
          "BASIC",
          "BASIC",
          "BASIC",
          "BASIC",
          "BASIC",
          "BASIC",
          "DELUXE",
          "BASIC",
          "BASIC",
          "BASIC",
          "BASIC",
          "BASIC",
          "BASIC",
          "DELUXE",
          "SUITE",
          "BASIC",
          "SUITE",
          "BASIC",
          "BASIC",
          "BASIC",
          "SUITE",
          "DELUXE",
          "BASIC",
          "BASIC",
          "DELUXE",
          "BASIC",
          "BASIC",
          "BASIC",
          "BASIC",
          "BASIC",
          "DELUXE",
          "BASIC",
          "BASIC",
          "BASIC",
          "BASIC",
          "BASIC",
          "BASIC",
          "BASIC",
          "BASIC",
          "DELUXE",
          "BASIC",
          "DELUXE",
          "BASIC",
          "BASIC",
          "BASIC",
          "BASIC",
          "BASIC",
          "BASIC",
          "BASIC",
          "BASIC",
          "SUITE",
          "DELUXE",
          "BASIC",
          "BASIC",
          "BASIC",
          "DELUXE",
          "BASIC",
          "BASIC",
          "BASIC",
          "DELUXE",
          "BASIC",
          "BASIC",
          "SUITE",
          "BASIC",
          "DELUXE",
          "BASIC",
          "BASIC",
          "DELUXE",
          "BASIC",
          "BASIC",
          "BASIC",
          "BASIC",
          "BASIC",
          "BASIC",
          "BASIC",
          "BASIC",
          "BASIC",
          "BASIC",
          "BASIC",
          "BASIC",
          "BASIC",
          "BASIC",
          "BASIC",
          "BASIC",
          "BASIC",
          "DELUXE",
          "BASIC",
          "BASIC",
          "BASIC",
          "BASIC",
          "BASIC",
          "DELUXE",
          "SUITE",
          "BASIC",
          "BASIC",
          "BASIC",
          "DELUXE",
          "BASIC",
          "BASIC",
          "BASIC",
          "DELUXE",
          "BASIC",
          "BASIC",
          "BASIC",
          "BASIC",
          "DELUXE",
          "BASIC",
          "BASIC",
          "DELUXE",
          "BASIC",
          "BASIC",
          "BASIC",
          "DELUXE",
          "BASIC",
          "BASIC",
          "BASIC",
          "DELUXE",
          "DELUXE",
          "BASIC",
          "BASIC",
          "BASIC",
          "BASIC",
          "BASIC",
          "SUITE",
          "BASIC",
          "BASIC",
          "BASIC",
          "BASIC",
          "BASIC",
          "BASIC",
          "SUITE",
          "BASIC",
          "DELUXE",
          "BASIC",
          "BASIC",
          "BASIC",
          "BASIC",
          "BASIC",
          "BASIC",
          "BASIC",
          "BASIC",
          "BASIC",
          "DELUXE",
          "BASIC",
          "BASIC",
          "BASIC",
          "SUITE",
          "BASIC",
          "BASIC",
          "BASIC",
          "BASIC",
          "BASIC",
          "BASIC",
          "DELUXE",
          "DELUXE",
          "BASIC",
          "SUITE",
          "BASIC",
          "BASIC",
          "DELUXE",
          "BASIC",
          "BASIC",
          "BASIC",
          "BASIC",
          "BASIC",
          "BASIC",
          "BASIC",
          "BASIC",
          "DELUXE",
          "SUITE",
          "BASIC",
          "BASIC",
          "BASIC",
          "BASIC",
          "BASIC",
          "DELUXE",
          "DELUXE",
          "BASIC",
          "DELUXE",
          "BASIC",
          "BASIC",
          "BASIC",
          "BASIC",
          "BASIC",
          "BASIC",
          "DELUXE",
          "BASIC",
          "SUITE",
          "BASIC",
          "BASIC",
          "BASIC"
         ],
         "xaxis": "x",
         "yaxis": "y"
        }
       ],
       "layout": {
        "barmode": "group",
        "font": {
         "size": 18
        },
        "legend": {
         "title": {
          "text": "Data"
         },
         "tracegroupgap": 0
        },
        "margin": {
         "t": 60
        },
        "plot_bgcolor": "#F5F5F8",
        "template": {
         "data": {
          "bar": [
           {
            "error_x": {
             "color": "#2a3f5f"
            },
            "error_y": {
             "color": "#2a3f5f"
            },
            "marker": {
             "line": {
              "color": "#E5ECF6",
              "width": 0.5
             },
             "pattern": {
              "fillmode": "overlay",
              "size": 10,
              "solidity": 0.2
             }
            },
            "type": "bar"
           }
          ],
          "barpolar": [
           {
            "marker": {
             "line": {
              "color": "#E5ECF6",
              "width": 0.5
             },
             "pattern": {
              "fillmode": "overlay",
              "size": 10,
              "solidity": 0.2
             }
            },
            "type": "barpolar"
           }
          ],
          "carpet": [
           {
            "aaxis": {
             "endlinecolor": "#2a3f5f",
             "gridcolor": "white",
             "linecolor": "white",
             "minorgridcolor": "white",
             "startlinecolor": "#2a3f5f"
            },
            "baxis": {
             "endlinecolor": "#2a3f5f",
             "gridcolor": "white",
             "linecolor": "white",
             "minorgridcolor": "white",
             "startlinecolor": "#2a3f5f"
            },
            "type": "carpet"
           }
          ],
          "choropleth": [
           {
            "colorbar": {
             "outlinewidth": 0,
             "ticks": ""
            },
            "type": "choropleth"
           }
          ],
          "contour": [
           {
            "colorbar": {
             "outlinewidth": 0,
             "ticks": ""
            },
            "colorscale": [
             [
              0,
              "#0d0887"
             ],
             [
              0.1111111111111111,
              "#46039f"
             ],
             [
              0.2222222222222222,
              "#7201a8"
             ],
             [
              0.3333333333333333,
              "#9c179e"
             ],
             [
              0.4444444444444444,
              "#bd3786"
             ],
             [
              0.5555555555555556,
              "#d8576b"
             ],
             [
              0.6666666666666666,
              "#ed7953"
             ],
             [
              0.7777777777777778,
              "#fb9f3a"
             ],
             [
              0.8888888888888888,
              "#fdca26"
             ],
             [
              1,
              "#f0f921"
             ]
            ],
            "type": "contour"
           }
          ],
          "contourcarpet": [
           {
            "colorbar": {
             "outlinewidth": 0,
             "ticks": ""
            },
            "type": "contourcarpet"
           }
          ],
          "heatmap": [
           {
            "colorbar": {
             "outlinewidth": 0,
             "ticks": ""
            },
            "colorscale": [
             [
              0,
              "#0d0887"
             ],
             [
              0.1111111111111111,
              "#46039f"
             ],
             [
              0.2222222222222222,
              "#7201a8"
             ],
             [
              0.3333333333333333,
              "#9c179e"
             ],
             [
              0.4444444444444444,
              "#bd3786"
             ],
             [
              0.5555555555555556,
              "#d8576b"
             ],
             [
              0.6666666666666666,
              "#ed7953"
             ],
             [
              0.7777777777777778,
              "#fb9f3a"
             ],
             [
              0.8888888888888888,
              "#fdca26"
             ],
             [
              1,
              "#f0f921"
             ]
            ],
            "type": "heatmap"
           }
          ],
          "heatmapgl": [
           {
            "colorbar": {
             "outlinewidth": 0,
             "ticks": ""
            },
            "colorscale": [
             [
              0,
              "#0d0887"
             ],
             [
              0.1111111111111111,
              "#46039f"
             ],
             [
              0.2222222222222222,
              "#7201a8"
             ],
             [
              0.3333333333333333,
              "#9c179e"
             ],
             [
              0.4444444444444444,
              "#bd3786"
             ],
             [
              0.5555555555555556,
              "#d8576b"
             ],
             [
              0.6666666666666666,
              "#ed7953"
             ],
             [
              0.7777777777777778,
              "#fb9f3a"
             ],
             [
              0.8888888888888888,
              "#fdca26"
             ],
             [
              1,
              "#f0f921"
             ]
            ],
            "type": "heatmapgl"
           }
          ],
          "histogram": [
           {
            "marker": {
             "pattern": {
              "fillmode": "overlay",
              "size": 10,
              "solidity": 0.2
             }
            },
            "type": "histogram"
           }
          ],
          "histogram2d": [
           {
            "colorbar": {
             "outlinewidth": 0,
             "ticks": ""
            },
            "colorscale": [
             [
              0,
              "#0d0887"
             ],
             [
              0.1111111111111111,
              "#46039f"
             ],
             [
              0.2222222222222222,
              "#7201a8"
             ],
             [
              0.3333333333333333,
              "#9c179e"
             ],
             [
              0.4444444444444444,
              "#bd3786"
             ],
             [
              0.5555555555555556,
              "#d8576b"
             ],
             [
              0.6666666666666666,
              "#ed7953"
             ],
             [
              0.7777777777777778,
              "#fb9f3a"
             ],
             [
              0.8888888888888888,
              "#fdca26"
             ],
             [
              1,
              "#f0f921"
             ]
            ],
            "type": "histogram2d"
           }
          ],
          "histogram2dcontour": [
           {
            "colorbar": {
             "outlinewidth": 0,
             "ticks": ""
            },
            "colorscale": [
             [
              0,
              "#0d0887"
             ],
             [
              0.1111111111111111,
              "#46039f"
             ],
             [
              0.2222222222222222,
              "#7201a8"
             ],
             [
              0.3333333333333333,
              "#9c179e"
             ],
             [
              0.4444444444444444,
              "#bd3786"
             ],
             [
              0.5555555555555556,
              "#d8576b"
             ],
             [
              0.6666666666666666,
              "#ed7953"
             ],
             [
              0.7777777777777778,
              "#fb9f3a"
             ],
             [
              0.8888888888888888,
              "#fdca26"
             ],
             [
              1,
              "#f0f921"
             ]
            ],
            "type": "histogram2dcontour"
           }
          ],
          "mesh3d": [
           {
            "colorbar": {
             "outlinewidth": 0,
             "ticks": ""
            },
            "type": "mesh3d"
           }
          ],
          "parcoords": [
           {
            "line": {
             "colorbar": {
              "outlinewidth": 0,
              "ticks": ""
             }
            },
            "type": "parcoords"
           }
          ],
          "pie": [
           {
            "automargin": true,
            "type": "pie"
           }
          ],
          "scatter": [
           {
            "fillpattern": {
             "fillmode": "overlay",
             "size": 10,
             "solidity": 0.2
            },
            "type": "scatter"
           }
          ],
          "scatter3d": [
           {
            "line": {
             "colorbar": {
              "outlinewidth": 0,
              "ticks": ""
             }
            },
            "marker": {
             "colorbar": {
              "outlinewidth": 0,
              "ticks": ""
             }
            },
            "type": "scatter3d"
           }
          ],
          "scattercarpet": [
           {
            "marker": {
             "colorbar": {
              "outlinewidth": 0,
              "ticks": ""
             }
            },
            "type": "scattercarpet"
           }
          ],
          "scattergeo": [
           {
            "marker": {
             "colorbar": {
              "outlinewidth": 0,
              "ticks": ""
             }
            },
            "type": "scattergeo"
           }
          ],
          "scattergl": [
           {
            "marker": {
             "colorbar": {
              "outlinewidth": 0,
              "ticks": ""
             }
            },
            "type": "scattergl"
           }
          ],
          "scattermapbox": [
           {
            "marker": {
             "colorbar": {
              "outlinewidth": 0,
              "ticks": ""
             }
            },
            "type": "scattermapbox"
           }
          ],
          "scatterpolar": [
           {
            "marker": {
             "colorbar": {
              "outlinewidth": 0,
              "ticks": ""
             }
            },
            "type": "scatterpolar"
           }
          ],
          "scatterpolargl": [
           {
            "marker": {
             "colorbar": {
              "outlinewidth": 0,
              "ticks": ""
             }
            },
            "type": "scatterpolargl"
           }
          ],
          "scatterternary": [
           {
            "marker": {
             "colorbar": {
              "outlinewidth": 0,
              "ticks": ""
             }
            },
            "type": "scatterternary"
           }
          ],
          "surface": [
           {
            "colorbar": {
             "outlinewidth": 0,
             "ticks": ""
            },
            "colorscale": [
             [
              0,
              "#0d0887"
             ],
             [
              0.1111111111111111,
              "#46039f"
             ],
             [
              0.2222222222222222,
              "#7201a8"
             ],
             [
              0.3333333333333333,
              "#9c179e"
             ],
             [
              0.4444444444444444,
              "#bd3786"
             ],
             [
              0.5555555555555556,
              "#d8576b"
             ],
             [
              0.6666666666666666,
              "#ed7953"
             ],
             [
              0.7777777777777778,
              "#fb9f3a"
             ],
             [
              0.8888888888888888,
              "#fdca26"
             ],
             [
              1,
              "#f0f921"
             ]
            ],
            "type": "surface"
           }
          ],
          "table": [
           {
            "cells": {
             "fill": {
              "color": "#EBF0F8"
             },
             "line": {
              "color": "white"
             }
            },
            "header": {
             "fill": {
              "color": "#C8D4E3"
             },
             "line": {
              "color": "white"
             }
            },
            "type": "table"
           }
          ]
         },
         "layout": {
          "annotationdefaults": {
           "arrowcolor": "#2a3f5f",
           "arrowhead": 0,
           "arrowwidth": 1
          },
          "autotypenumbers": "strict",
          "coloraxis": {
           "colorbar": {
            "outlinewidth": 0,
            "ticks": ""
           }
          },
          "colorscale": {
           "diverging": [
            [
             0,
             "#8e0152"
            ],
            [
             0.1,
             "#c51b7d"
            ],
            [
             0.2,
             "#de77ae"
            ],
            [
             0.3,
             "#f1b6da"
            ],
            [
             0.4,
             "#fde0ef"
            ],
            [
             0.5,
             "#f7f7f7"
            ],
            [
             0.6,
             "#e6f5d0"
            ],
            [
             0.7,
             "#b8e186"
            ],
            [
             0.8,
             "#7fbc41"
            ],
            [
             0.9,
             "#4d9221"
            ],
            [
             1,
             "#276419"
            ]
           ],
           "sequential": [
            [
             0,
             "#0d0887"
            ],
            [
             0.1111111111111111,
             "#46039f"
            ],
            [
             0.2222222222222222,
             "#7201a8"
            ],
            [
             0.3333333333333333,
             "#9c179e"
            ],
            [
             0.4444444444444444,
             "#bd3786"
            ],
            [
             0.5555555555555556,
             "#d8576b"
            ],
            [
             0.6666666666666666,
             "#ed7953"
            ],
            [
             0.7777777777777778,
             "#fb9f3a"
            ],
            [
             0.8888888888888888,
             "#fdca26"
            ],
            [
             1,
             "#f0f921"
            ]
           ],
           "sequentialminus": [
            [
             0,
             "#0d0887"
            ],
            [
             0.1111111111111111,
             "#46039f"
            ],
            [
             0.2222222222222222,
             "#7201a8"
            ],
            [
             0.3333333333333333,
             "#9c179e"
            ],
            [
             0.4444444444444444,
             "#bd3786"
            ],
            [
             0.5555555555555556,
             "#d8576b"
            ],
            [
             0.6666666666666666,
             "#ed7953"
            ],
            [
             0.7777777777777778,
             "#fb9f3a"
            ],
            [
             0.8888888888888888,
             "#fdca26"
            ],
            [
             1,
             "#f0f921"
            ]
           ]
          },
          "colorway": [
           "#636efa",
           "#EF553B",
           "#00cc96",
           "#ab63fa",
           "#FFA15A",
           "#19d3f3",
           "#FF6692",
           "#B6E880",
           "#FF97FF",
           "#FECB52"
          ],
          "font": {
           "color": "#2a3f5f"
          },
          "geo": {
           "bgcolor": "white",
           "lakecolor": "white",
           "landcolor": "#E5ECF6",
           "showlakes": true,
           "showland": true,
           "subunitcolor": "white"
          },
          "hoverlabel": {
           "align": "left"
          },
          "hovermode": "closest",
          "mapbox": {
           "style": "light"
          },
          "paper_bgcolor": "white",
          "plot_bgcolor": "#E5ECF6",
          "polar": {
           "angularaxis": {
            "gridcolor": "white",
            "linecolor": "white",
            "ticks": ""
           },
           "bgcolor": "#E5ECF6",
           "radialaxis": {
            "gridcolor": "white",
            "linecolor": "white",
            "ticks": ""
           }
          },
          "scene": {
           "xaxis": {
            "backgroundcolor": "#E5ECF6",
            "gridcolor": "white",
            "gridwidth": 2,
            "linecolor": "white",
            "showbackground": true,
            "ticks": "",
            "zerolinecolor": "white"
           },
           "yaxis": {
            "backgroundcolor": "#E5ECF6",
            "gridcolor": "white",
            "gridwidth": 2,
            "linecolor": "white",
            "showbackground": true,
            "ticks": "",
            "zerolinecolor": "white"
           },
           "zaxis": {
            "backgroundcolor": "#E5ECF6",
            "gridcolor": "white",
            "gridwidth": 2,
            "linecolor": "white",
            "showbackground": true,
            "ticks": "",
            "zerolinecolor": "white"
           }
          },
          "shapedefaults": {
           "line": {
            "color": "#2a3f5f"
           }
          },
          "ternary": {
           "aaxis": {
            "gridcolor": "white",
            "linecolor": "white",
            "ticks": ""
           },
           "baxis": {
            "gridcolor": "white",
            "linecolor": "white",
            "ticks": ""
           },
           "bgcolor": "#E5ECF6",
           "caxis": {
            "gridcolor": "white",
            "linecolor": "white",
            "ticks": ""
           }
          },
          "title": {
           "x": 0.05
          },
          "xaxis": {
           "automargin": true,
           "gridcolor": "white",
           "linecolor": "white",
           "ticks": "",
           "title": {
            "standoff": 15
           },
           "zerolinecolor": "white",
           "zerolinewidth": 2
          },
          "yaxis": {
           "automargin": true,
           "gridcolor": "white",
           "linecolor": "white",
           "ticks": "",
           "title": {
            "standoff": 15
           },
           "zerolinecolor": "white",
           "zerolinewidth": 2
          }
         }
        },
        "title": {
         "text": "Real vs. Synthetic Data for column 'room_type'"
        },
        "xaxis": {
         "anchor": "y",
         "domain": [
          0,
          1
         ],
         "title": {
          "text": "Category"
         }
        },
        "yaxis": {
         "anchor": "x",
         "domain": [
          0,
          1
         ],
         "title": {
          "text": "Frequency"
         }
        }
       }
      }
     },
     "metadata": {},
     "output_type": "display_data"
    },
    {
     "data": {
      "application/vnd.plotly.v1+json": {
       "config": {
        "plotlyServerURL": "https://plot.ly"
       },
       "data": [
        {
         "fill": "tozeroy",
         "hovertemplate": "<b>Real</b><br>Value: %{x}<br>Frequency: %{y}<extra></extra>",
         "legendgroup": "Real",
         "marker": {
          "color": "#000036"
         },
         "mode": "lines",
         "name": "Real",
         "showlegend": true,
         "type": "scatter",
         "x": [
          0,
          0.09623999999999999,
          0.19247999999999998,
          0.28872,
          0.38495999999999997,
          0.48119999999999996,
          0.57744,
          0.67368,
          0.7699199999999999,
          0.8661599999999999,
          0.9623999999999999,
          1.0586399999999998,
          1.15488,
          1.2511199999999998,
          1.34736,
          1.4436,
          1.5398399999999999,
          1.63608,
          1.7323199999999999,
          1.82856,
          1.9247999999999998,
          2.02104,
          2.1172799999999996,
          2.21352,
          2.30976,
          2.406,
          2.5022399999999996,
          2.59848,
          2.69472,
          2.79096,
          2.8872,
          2.98344,
          3.0796799999999998,
          3.1759199999999996,
          3.27216,
          3.3684,
          3.4646399999999997,
          3.5608799999999996,
          3.65712,
          3.75336,
          3.8495999999999997,
          3.9458399999999996,
          4.04208,
          4.138319999999999,
          4.234559999999999,
          4.3308,
          4.42704,
          4.52328,
          4.61952,
          4.7157599999999995,
          4.812,
          4.90824,
          5.004479999999999,
          5.100719999999999,
          5.19696,
          5.2932,
          5.38944,
          5.4856799999999994,
          5.58192,
          5.67816,
          5.7744,
          5.87064,
          5.96688,
          6.06312,
          6.1593599999999995,
          6.255599999999999,
          6.351839999999999,
          6.44808,
          6.54432,
          6.64056,
          6.7368,
          6.83304,
          6.929279999999999,
          7.025519999999999,
          7.121759999999999,
          7.218,
          7.31424,
          7.41048,
          7.50672,
          7.60296,
          7.699199999999999,
          7.795439999999999,
          7.891679999999999,
          7.987919999999999,
          8.08416,
          8.180399999999999,
          8.276639999999999,
          8.372879999999999,
          8.469119999999998,
          8.565359999999998,
          8.6616,
          8.75784,
          8.85408,
          8.95032,
          9.04656,
          9.1428,
          9.23904,
          9.33528,
          9.431519999999999,
          9.52776,
          9.624,
          9.72024,
          9.81648,
          9.91272,
          10.008959999999998,
          10.105199999999998,
          10.201439999999998,
          10.29768,
          10.39392,
          10.49016,
          10.5864,
          10.68264,
          10.77888,
          10.875119999999999,
          10.971359999999999,
          11.067599999999999,
          11.16384,
          11.26008,
          11.35632,
          11.45256,
          11.5488,
          11.64504,
          11.74128,
          11.837519999999998,
          11.93376,
          12.03,
          12.12624,
          12.22248,
          12.318719999999999,
          12.414959999999999,
          12.511199999999999,
          12.607439999999999,
          12.703679999999999,
          12.79992,
          12.89616,
          12.9924,
          13.08864,
          13.18488,
          13.28112,
          13.37736,
          13.4736,
          13.569840000000001,
          13.66608,
          13.762319999999999,
          13.858559999999999,
          13.954799999999999,
          14.051039999999999,
          14.147279999999999,
          14.243519999999998,
          14.339759999999998,
          14.436,
          14.53224,
          14.62848,
          14.72472,
          14.82096,
          14.9172,
          15.01344,
          15.109679999999999,
          15.20592,
          15.30216,
          15.398399999999999,
          15.494639999999999,
          15.590879999999999,
          15.687119999999998,
          15.783359999999998,
          15.879599999999998,
          15.975839999999998,
          16.07208,
          16.16832,
          16.26456,
          16.360799999999998,
          16.45704,
          16.553279999999997,
          16.64952,
          16.745759999999997,
          16.842,
          16.938239999999997,
          17.03448,
          17.130719999999997,
          17.22696,
          17.3232,
          17.419439999999998,
          17.51568,
          17.611919999999998,
          17.70816,
          17.804399999999998,
          17.90064,
          17.996879999999997,
          18.09312,
          18.18936,
          18.2856,
          18.38184,
          18.47808,
          18.57432,
          18.67056,
          18.7668,
          18.863039999999998,
          18.95928,
          19.05552,
          19.15176,
          19.248,
          19.34424,
          19.44048,
          19.53672,
          19.63296,
          19.729200000000002,
          19.82544,
          19.921680000000002,
          20.017919999999997,
          20.11416,
          20.210399999999996,
          20.306639999999998,
          20.402879999999996,
          20.499119999999998,
          20.59536,
          20.691599999999998,
          20.78784,
          20.884079999999997,
          20.98032,
          21.076559999999997,
          21.1728,
          21.269039999999997,
          21.36528,
          21.46152,
          21.55776,
          21.654,
          21.750239999999998,
          21.84648,
          21.942719999999998,
          22.03896,
          22.135199999999998,
          22.23144,
          22.32768,
          22.42392,
          22.52016,
          22.6164,
          22.71264,
          22.80888,
          22.90512,
          23.001360000000002,
          23.0976,
          23.19384,
          23.29008,
          23.38632,
          23.48256,
          23.578799999999998,
          23.675039999999996,
          23.771279999999997,
          23.86752,
          23.963759999999997,
          24.06,
          24.156239999999997,
          24.25248,
          24.348719999999997,
          24.44496,
          24.541199999999996,
          24.637439999999998,
          24.73368,
          24.829919999999998,
          24.92616,
          25.022399999999998,
          25.11864,
          25.214879999999997,
          25.31112,
          25.407359999999997,
          25.5036,
          25.59984,
          25.69608,
          25.79232,
          25.88856,
          25.9848,
          26.081039999999998,
          26.17728,
          26.273519999999998,
          26.36976,
          26.466,
          26.56224,
          26.65848,
          26.75472,
          26.85096,
          26.9472,
          27.04344,
          27.139680000000002,
          27.235919999999997,
          27.33216,
          27.428399999999996,
          27.524639999999998,
          27.620879999999996,
          27.717119999999998,
          27.813359999999996,
          27.909599999999998,
          28.00584,
          28.102079999999997,
          28.19832,
          28.294559999999997,
          28.3908,
          28.487039999999997,
          28.58328,
          28.679519999999997,
          28.77576,
          28.872,
          28.968239999999998,
          29.06448,
          29.160719999999998,
          29.25696,
          29.353199999999998,
          29.44944,
          29.545679999999997,
          29.64192,
          29.73816,
          29.8344,
          29.93064,
          30.02688,
          30.12312,
          30.219359999999998,
          30.3156,
          30.41184,
          30.50808,
          30.60432,
          30.70056,
          30.796799999999998,
          30.893039999999996,
          30.989279999999997,
          31.085519999999995,
          31.181759999999997,
          31.278,
          31.374239999999997,
          31.47048,
          31.566719999999997,
          31.662959999999998,
          31.759199999999996,
          31.855439999999998,
          31.951679999999996,
          32.04792,
          32.14416,
          32.2404,
          32.33664,
          32.43288,
          32.52912,
          32.62535999999999,
          32.721599999999995,
          32.81784,
          32.91408,
          33.01032,
          33.106559999999995,
          33.202799999999996,
          33.29904,
          33.39528,
          33.491519999999994,
          33.587759999999996,
          33.684,
          33.78024,
          33.876479999999994,
          33.97272,
          34.06896,
          34.1652,
          34.26143999999999,
          34.35768,
          34.45392,
          34.55016,
          34.6464,
          34.74264,
          34.838879999999996,
          34.93512,
          35.03136,
          35.1276,
          35.223839999999996,
          35.320080000000004,
          35.41632,
          35.51256,
          35.608799999999995,
          35.705040000000004,
          35.80128,
          35.89752,
          35.993759999999995,
          36.09,
          36.18624,
          36.28247999999999,
          36.37872,
          36.474959999999996,
          36.5712,
          36.66743999999999,
          36.76368,
          36.859919999999995,
          36.95616,
          37.0524,
          37.14864,
          37.244879999999995,
          37.34112,
          37.43736,
          37.5336,
          37.629839999999994,
          37.726079999999996,
          37.82232,
          37.91856,
          38.014799999999994,
          38.11104,
          38.20728,
          38.30352,
          38.39975999999999,
          38.496,
          38.59224,
          38.68848,
          38.78472,
          38.88096,
          38.977199999999996,
          39.07344,
          39.16968,
          39.26592,
          39.362159999999996,
          39.458400000000005,
          39.55464,
          39.65088,
          39.747119999999995,
          39.843360000000004,
          39.9396,
          40.03583999999999,
          40.132079999999995,
          40.22832,
          40.32456,
          40.42079999999999,
          40.51704,
          40.613279999999996,
          40.70952,
          40.80575999999999,
          40.902,
          40.998239999999996,
          41.09448,
          41.19072,
          41.28696,
          41.383199999999995,
          41.47944,
          41.57568,
          41.67192,
          41.768159999999995,
          41.864399999999996,
          41.96064,
          42.05688,
          42.153119999999994,
          42.24936,
          42.3456,
          42.44184,
          42.538079999999994,
          42.63432,
          42.73056,
          42.8268,
          42.92304,
          43.01928,
          43.11552,
          43.21176,
          43.308,
          43.40424,
          43.500479999999996,
          43.59672,
          43.69296,
          43.789199999999994,
          43.885439999999996,
          43.98168,
          44.07792,
          44.17415999999999,
          44.270399999999995,
          44.36664,
          44.46288,
          44.55911999999999,
          44.65536,
          44.751599999999996,
          44.84784,
          44.94407999999999,
          45.04032,
          45.136559999999996,
          45.2328,
          45.32904,
          45.42528,
          45.521519999999995,
          45.61776,
          45.714,
          45.81024,
          45.906479999999995,
          46.002720000000004,
          46.09896,
          46.1952,
          46.291439999999994,
          46.38768,
          46.48392,
          46.58016,
          46.676399999999994,
          46.77264,
          46.86888,
          46.96512,
          47.06136,
          47.157599999999995,
          47.25384,
          47.35007999999999,
          47.44632,
          47.542559999999995,
          47.638799999999996,
          47.73504,
          47.83128,
          47.927519999999994,
          48.023759999999996
         ],
         "xaxis": "x",
         "y": [
          0.01751157773273591,
          0.017604707809214807,
          0.017686940878632637,
          0.017758335777264003,
          0.01781898650545314,
          0.017869022004252135,
          0.01790860577819474,
          0.01793793536593227,
          0.017957241661334805,
          0.017966788088522048,
          0.01796686963511642,
          0.017957811748811302,
          0.017939969103106385,
          0.01791372423877729,
          0.017879486088314182,
          0.017837688391178445,
          0.017788788008281223,
          0.01773326314458758,
          0.01767161148917993,
          0.01760434828248519,
          0.017532004320669828,
          0.017455123907441288,
          0.017374262763658076,
          0.017289985905248162,
          0.017202865499964238,
          0.017113478713466954,
          0.017022405555125027,
          0.016930226733757103,
          0.016837521533316153,
          0.01674486571823651,
          0.016652829477829693,
          0.01656197541873223,
          0.016472856613980146,
          0.0163860147168162,
          0.016301978146828565,
          0.016221260355483987,
          0.016144358177552415,
          0.016071750274333954,
          0.016003895673993674,
          0.015941232413693406,
          0.015884176287583172,
          0.015833119704085633,
          0.01578843065527893,
          0.015750451800557688,
          0.015719499666138042,
          0.015695863961367254,
          0.01567980701221272,
          0.015671563311733763,
          0.015671339186793323,
          0.01567931257974184,
          0.015695632943307513,
          0.015720421246456364,
          0.015753770088545307,
          0.015795743918679432,
          0.015846379356805603,
          0.015905685612727004,
          0.015973644998907324,
          0.01605021353265047,
          0.016135321622989432,
          0.016228874837400115,
          0.016330754743264963,
          0.01644081981885591,
          0.016558906428474175,
          0.016684829856287234,
          0.016818385393326613,
          0.016959349472066343,
          0.017107480842976332,
          0.017262521787447735,
          0.017424199361509032,
          0.017592226664796,
          0.017766304129300966,
          0.01794612082250789,
          0.018131355759617447,
          0.018321679219680097,
          0.01851675406058175,
          0.018716237027968475,
          0.018919780053349676,
          0.01912703153678319,
          0.019337637609721056,
          0.01955124337377903,
          0.019767494111385557,
          0.01998603646446817,
          0.020206519577542152,
          0.02042859620178399,
          0.020651923756891205,
          0.020876165347759355,
          0.021100990733238754,
          0.021326077244470637,
          0.02155111065054269,
          0.021775785969451747,
          0.02199980822260557,
          0.02222289313135025,
          0.02244476775425915,
          0.022665171064177005,
          0.022883854464264504,
          0.0231005822425472,
          0.023315131964725063,
          0.02352729480525419,
          0.023736875816962273,
          0.023943694139709062,
          0.02414758314884712,
          0.024348390544478227,
          0.024545978382733567,
          0.024740223050536213,
          0.024931015185519035,
          0.025118259542985837,
          0.02530187481200135,
          0.025481793382886263,
          0.025657961068569074,
          0.025830336782412727,
          0.02599889217528214,
          0.0261636112347531,
          0.02632448984948403,
          0.02648153534187033,
          0.026634765972189584,
          0.026784210417506935,
          0.026929907228661294,
          0.027071904268679076,
          0.0272102581359704,
          0.027345033575652235,
          0.027476302882310823,
          0.027604145297466742,
          0.02772864640493299,
          0.027849897527170923,
          0.027967995125637773,
          0.028083040207996467,
          0.02819513774491469,
          0.028304396099023358,
          0.02841092646843003,
          0.028514842346997565,
          0.02861625900339906,
          0.02871529298075089,
          0.028812061618407797,
          0.028906682597278414,
          0.02899927350978775,
          0.02908995145538032,
          0.029178832662219007,
          0.029266032135500372,
          0.02935166333257279,
          0.029435837864811264,
          0.029518665225983554,
          0.02960025254662046,
          0.029680704373701367,
          0.02976012247476671,
          0.029838605665391333,
          0.029916249658780456,
          0.029993146936102135,
          0.03006938663603437,
          0.030145054461887755,
          0.030220232604571722,
          0.030294999679591882,
          0.030369430676212807,
          0.03044359691688699,
          0.030517566025034495,
          0.030591401899270287,
          0.03066516469220278,
          0.030738910791979653,
          0.0308126928048275,
          0.03088655953692221,
          0.030960555974036522,
          0.031034723257538182,
          0.031109098655453755,
          0.031183715527473378,
          0.03125860328293948,
          0.03133378733104738,
          0.031409289022676395,
          0.03148512558346931,
          0.03156131003798446,
          0.03163785112495207,
          0.031714753203877274,
          0.031792016153442,
          0.03186963526236314,
          0.03194760111356688,
          0.03202589946273432,
          0.03210451111245546,
          0.03218341178340648,
          0.032262571984123425,
          0.03234195688109331,
          0.03242152617101229,
          0.03250123395717284,
          0.03258102863203571,
          0.03266085276811191,
          0.03274064301933434,
          0.03282033003512437,
          0.03289983838936717,
          0.03297908652649016,
          0.033057986726801734,
          0.03313644509318022,
          0.03321436156111979,
          0.0332916299340295,
          0.03336813794555168,
          0.0334437673505137,
          0.033518394045956974,
          0.03359188822349711,
          0.03366411455406146,
          0.033734932405829914,
          0.03380419609596828,
          0.03387175517649633,
          0.033937454754376144,
          0.03400113584564235,
          0.03406263576312431,
          0.03412178853704211,
          0.03417842536747949,
          0.03423237510747008,
          0.03428346477516407,
          0.034331520093281304,
          0.03437636605380592,
          0.034417827505635316,
          0.03445572976266935,
          0.03448989922961111,
          0.03452016404255863,
          0.03454635472128401,
          0.034568304829947584,
          0.034585851642854375,
          0.03459883681175292,
          0.034607107031089275,
          0.03461051469756683,
          0.034608918560330104,
          0.03460218435807904,
          0.03459018543944179,
          0.034572803362975475,
          0.034549928473239774,
          0.03452146044948198,
          0.034487308823597906,
          0.03444739346417993,
          0.034401645023633326,
          0.03435000534553789,
          0.0342924278296437,
          0.03422887775212445,
          0.0341593325389628,
          0.03408378199060731,
          0.03400222845632157,
          0.03391468695693607,
          0.03382118525501442,
          0.03372176387175243,
          0.03361647605023932,
          0.03350538766502405,
          0.03338857707824557,
          0.03326613494289293,
          0.03313816395407024,
          0.03300477854944027,
          0.03286610456030948,
          0.032722278815097025,
          0.032573448697196576,
          0.032419771659488616,
          0.032261414697998404,
          0.03209855378740766,
          0.031931373281327585,
          0.031760065280416035,
          0.0315848289715762,
          0.03140586994160824,
          0.031223399468793177,
          0.0310376337959763,
          0.03084879338877927,
          0.030657102182611327,
          0.03046278682216352,
          0.03026607589706641,
          0.03006719917735906,
          0.029866386852370634,
          0.029663868776538295,
          0.029459873725600074,
          0.029254628666485077,
          0.029048358044098832,
          0.028841283088055652,
          0.02863362114225111,
          0.028425585019995172,
          0.02821738238724137,
          0.028009215176253918,
          0.027801279031848616,
          0.027593762792136472,
          0.02738684800547863,
          0.027180708485144558,
          0.02697550990294055,
          0.026771409422853307,
          0.02656855537552994,
          0.026367086974194424,
          0.0261671340723832,
          0.025968816963668578,
          0.025772246223330464,
          0.02557752259173517,
          0.025384736898987195,
          0.025193970030232285,
          0.025005292930814122,
          0.024818766650320536,
          0.024634442424396448,
          0.02445236179305577,
          0.024272556754088688,
          0.024095049950035634,
          0.02391985488708764,
          0.02374697618417015,
          0.023576409850377712,
          0.02340814358884842,
          0.023242157125099076,
          0.0230784225577857,
          0.02291690472980908,
          0.0227575616176492,
          0.02260034473678816,
          0.022445199561066817,
          0.02229206595381458,
          0.02214087860859672,
          0.021991567497436304,
          0.021844058324389508,
          0.021698272982383023,
          0.02155413001125986,
          0.021411545055024666,
          0.021270431316331877,
          0.02113070000631871,
          0.020992260787949964,
          0.02085502221111264,
          0.02071889213777541,
          0.02058377815560906,
          0.02044958797855219,
          0.02031622983289701,
          0.020183612827566526,
          0.020051647307354682,
          0.0199202451880031,
          0.019789320272097313,
          0.01965878854487295,
          0.019528568449136176,
          0.01939858113861648,
          0.019268750709187377,
          0.01913900440750637,
          0.019009272816747157,
          0.018879490019213446,
          0.018749593735744193,
          0.018619525441939313,
          0.018489230461351213,
          0.018358658035904307,
          0.01822776137391892,
          0.018096497676225964,
          0.017964828140968336,
          0.01783271794778774,
          0.01770013622219572,
          0.01756705598102312,
          0.017433454059929444,
          0.017299311024038495,
          0.017164611062841534,
          0.017029341870578748,
          0.016893494513371087,
          0.016757063284428452,
          0.01662004554870363,
          0.016482441578399187,
          0.016344254380759878,
          0.016205489519601813,
          0.016066154932037013,
          0.015926260741850475,
          0.015785819070976613,
          0.01564484385049991,
          0.015503350632575288,
          0.015361356404624415,
          0.01521887940711526,
          0.015075938956175266,
          0.014932555272224153,
          0.014788749315737896,
          0.014644542631177147,
          0.014499957200025093,
          0.014355015303788545,
          0.014209739397717637,
          0.014064151995898307,
          0.013918275568264998,
          0.013772132449974658,
          0.013625744763471165,
          0.013479134353459763,
          0.013332322734899212,
          0.01318533105400955,
          0.013038180062184547,
          0.01289089010259213,
          0.012743481109143215,
          0.012595972617411423,
          0.012448383786991566,
          0.012300733434698258,
          0.012153040077923095,
          0.01200532198739473,
          0.011857597248518282,
          0.011709883830411353,
          0.01156219966170156,
          0.011414562712108585,
          0.011266991078797988,
          0.011119503076469858,
          0.010972117330127528,
          0.010824852869464264,
          0.01067772922380652,
          0.010530766516561846,
          0.01038398555813695,
          0.010237407936317248,
          0.010091056103132611,
          0.009944953457274279,
          0.009799124421174832,
          0.009653594511916662,
          0.009508390405193136,
          0.009363539991609994,
          0.009219072424682988,
          0.009075018159959324,
          0.00893140898476506,
          0.008788278038157826,
          0.008645659820742954,
          0.008503590194090329,
          0.00836210636957032,
          0.008221246886505558,
          0.008081051579615786,
          0.0079415615358089,
          0.007802819040448465,
          0.007664867513299211,
          0.0075277514344237705,
          0.007391516260369624,
          0.0072562083310484015,
          0.007121874767768961,
          0.006988563362940177,
          0.006856322462009211,
          0.006725200838246792,
          0.006595247561031112,
          0.006466511858318039,
          0.006339042974014878,
          0.006212890021001554,
          0.006088101830562331,
          0.005964726799007688,
          0.005842812732275738,
          0.005722406689309095,
          0.005603554825004036,
          0.005486302233525589,
          0.005370692792775132,
          0.005256769010785121,
          0.005144571874801012,
          0.00503414070379047,
          0.004925513005099088,
          0.004818724335945117,
          0.004713808170418309,
          0.00461079577261642,
          0.004509716076520077,
          0.0044105955731703035,
          0.004313458205676371,
          0.0042183252725412285,
          0.0041252153397518705,
          0.004034144162038932,
          0.003945124613666932,
          0.0038581666290719205,
          0.003773277153618542,
          0.0036904601047023327,
          0.0036097163433774903,
          0.0035310436566435574,
          0.0034544367504783908,
          0.0033798872536579755,
          0.003307383732357909,
          0.003236911715485238,
          0.003168453730644293,
          0.003101989350595169,
          0.003037495250020238,
          0.0029749452723704735,
          0.002914310506522171,
          0.0028555593729336364,
          0.00279865771895243,
          0.0027435689228858923,
          0.002690254006411661,
          0.0026386717548705415,
          0.00258877884495186,
          0.002540529979250867,
          0.0024938780271498966,
          0.002448774171448974,
          0.0024051680601483074,
          0.0023630079627642727,
          0.0023222409305422983,
          0.002282812959914792,
          0.002244669158539648,
          0.002207753913245373,
          0.0021720110592023307,
          0.00213738404963612,
          0.002103816125398757,
          0.002071250483716206,
          0.0020396304454365966,
          0.002008899620112885,
          0.001979002068265596,
          0.0019498824601870172,
          0.0019214862306663656,
          0.0018937597290368713,
          0.0018666503639700282,
          0.0018401067424692029,
          0.0018140788025443795,
          0.0017885179390820368,
          0.0017633771224584613,
          0.0017386110094815,
          0.001714176046284115,
          0.0016900305628335171,
          0.0016661348587613065,
          0.0016424512802631775,
          0.0016189442878607498,
          0.001595580514863173,
          0.0015723288164113307,
          0.0015491603090334537,
          0.0015260484006865177,
          0.0015029688113033792,
          0.0014798995839106612,
          0.001456821086426531,
          0.0014337160042909034,
          0.0014105693241225031,
          0.001387368308637763,
          0.0013641024631053404,
          0.0013407634936468964,
          0.001317345257729552,
          0.0012938437072278189,
          0.0012702568244628177
         ],
         "yaxis": "y"
        },
        {
         "fill": "tozeroy",
         "hovertemplate": "<b>Synthetic</b><br>Value: %{x}<br>Frequency: %{y}<extra></extra>",
         "legendgroup": "Synthetic",
         "marker": {
          "color": "#01E0C9"
         },
         "mode": "lines",
         "name": "Synthetic",
         "showlegend": true,
         "type": "scatter",
         "x": [
          0,
          0.0935,
          0.187,
          0.2805,
          0.374,
          0.4675,
          0.561,
          0.6545,
          0.748,
          0.8415,
          0.935,
          1.0285,
          1.122,
          1.2155,
          1.309,
          1.4025,
          1.496,
          1.5895,
          1.683,
          1.7765,
          1.87,
          1.9635,
          2.057,
          2.1505,
          2.244,
          2.3375,
          2.431,
          2.5245,
          2.618,
          2.7115,
          2.805,
          2.8985,
          2.992,
          3.0855,
          3.179,
          3.2725,
          3.366,
          3.4595,
          3.553,
          3.6465,
          3.74,
          3.8335,
          3.927,
          4.0205,
          4.114,
          4.2075,
          4.301,
          4.3945,
          4.488,
          4.5815,
          4.675,
          4.7685,
          4.862,
          4.9555,
          5.049,
          5.1425,
          5.236,
          5.3295,
          5.423,
          5.5165,
          5.61,
          5.7035,
          5.797,
          5.8905,
          5.984,
          6.0775,
          6.171,
          6.2645,
          6.358,
          6.4515,
          6.545,
          6.6385,
          6.732,
          6.8255,
          6.919,
          7.0125,
          7.106,
          7.1995,
          7.293,
          7.3865,
          7.48,
          7.5735,
          7.667,
          7.7605,
          7.854,
          7.9475,
          8.041,
          8.1345,
          8.228,
          8.3215,
          8.415,
          8.5085,
          8.602,
          8.6955,
          8.789,
          8.8825,
          8.976,
          9.0695,
          9.163,
          9.2565,
          9.35,
          9.4435,
          9.537,
          9.6305,
          9.724,
          9.8175,
          9.911,
          10.0045,
          10.098,
          10.1915,
          10.285,
          10.3785,
          10.472,
          10.5655,
          10.659,
          10.7525,
          10.846,
          10.9395,
          11.033,
          11.1265,
          11.22,
          11.3135,
          11.407,
          11.5005,
          11.594,
          11.6875,
          11.781,
          11.8745,
          11.968,
          12.0615,
          12.155,
          12.2485,
          12.342,
          12.4355,
          12.529,
          12.6225,
          12.716,
          12.8095,
          12.903,
          12.9965,
          13.09,
          13.1835,
          13.277,
          13.3705,
          13.464,
          13.5575,
          13.651,
          13.7445,
          13.838,
          13.9315,
          14.025,
          14.1185,
          14.212,
          14.3055,
          14.399,
          14.4925,
          14.586,
          14.6795,
          14.773,
          14.8665,
          14.96,
          15.0535,
          15.147,
          15.2405,
          15.334,
          15.4275,
          15.521,
          15.6145,
          15.708,
          15.8015,
          15.895,
          15.9885,
          16.082,
          16.1755,
          16.269,
          16.3625,
          16.456,
          16.5495,
          16.643,
          16.7365,
          16.83,
          16.9235,
          17.017,
          17.1105,
          17.204,
          17.2975,
          17.391,
          17.4845,
          17.578,
          17.6715,
          17.765,
          17.8585,
          17.952,
          18.0455,
          18.139,
          18.2325,
          18.326,
          18.4195,
          18.513,
          18.6065,
          18.7,
          18.7935,
          18.887,
          18.9805,
          19.074,
          19.1675,
          19.261,
          19.3545,
          19.448,
          19.5415,
          19.635,
          19.7285,
          19.822,
          19.9155,
          20.009,
          20.1025,
          20.196,
          20.2895,
          20.383,
          20.4765,
          20.57,
          20.6635,
          20.757,
          20.8505,
          20.944,
          21.0375,
          21.131,
          21.2245,
          21.318,
          21.4115,
          21.505,
          21.5985,
          21.692,
          21.7855,
          21.879,
          21.9725,
          22.066,
          22.1595,
          22.253,
          22.3465,
          22.44,
          22.5335,
          22.627,
          22.7205,
          22.814,
          22.9075,
          23.001,
          23.0945,
          23.188,
          23.2815,
          23.375,
          23.4685,
          23.562,
          23.6555,
          23.749,
          23.8425,
          23.936,
          24.0295,
          24.123,
          24.2165,
          24.31,
          24.4035,
          24.497,
          24.5905,
          24.684,
          24.7775,
          24.871,
          24.9645,
          25.058,
          25.1515,
          25.245,
          25.3385,
          25.432,
          25.5255,
          25.619,
          25.7125,
          25.806,
          25.8995,
          25.993,
          26.0865,
          26.18,
          26.2735,
          26.367,
          26.4605,
          26.554,
          26.6475,
          26.741,
          26.8345,
          26.928,
          27.0215,
          27.115,
          27.2085,
          27.302,
          27.3955,
          27.489,
          27.5825,
          27.676,
          27.7695,
          27.863,
          27.9565,
          28.05,
          28.1435,
          28.237,
          28.3305,
          28.424,
          28.5175,
          28.611,
          28.7045,
          28.798,
          28.8915,
          28.985,
          29.0785,
          29.172,
          29.2655,
          29.359,
          29.4525,
          29.546,
          29.6395,
          29.733,
          29.8265,
          29.92,
          30.0135,
          30.107,
          30.2005,
          30.294,
          30.3875,
          30.481,
          30.5745,
          30.668,
          30.7615,
          30.855,
          30.9485,
          31.042,
          31.1355,
          31.229,
          31.3225,
          31.416,
          31.5095,
          31.603,
          31.6965,
          31.79,
          31.8835,
          31.977,
          32.0705,
          32.164,
          32.2575,
          32.351,
          32.4445,
          32.538,
          32.6315,
          32.725,
          32.8185,
          32.912,
          33.0055,
          33.099,
          33.1925,
          33.286,
          33.3795,
          33.473,
          33.5665,
          33.66,
          33.7535,
          33.847,
          33.9405,
          34.034,
          34.1275,
          34.221,
          34.3145,
          34.408,
          34.5015,
          34.595,
          34.6885,
          34.782,
          34.8755,
          34.969,
          35.0625,
          35.156,
          35.2495,
          35.343,
          35.4365,
          35.53,
          35.6235,
          35.717,
          35.8105,
          35.904,
          35.9975,
          36.091,
          36.1845,
          36.278,
          36.3715,
          36.465,
          36.5585,
          36.652,
          36.7455,
          36.839,
          36.9325,
          37.026,
          37.1195,
          37.213,
          37.3065,
          37.4,
          37.4935,
          37.587,
          37.6805,
          37.774,
          37.8675,
          37.961,
          38.0545,
          38.148,
          38.2415,
          38.335,
          38.4285,
          38.522,
          38.6155,
          38.709,
          38.8025,
          38.896,
          38.9895,
          39.083,
          39.1765,
          39.27,
          39.3635,
          39.457,
          39.5505,
          39.644,
          39.7375,
          39.831,
          39.9245,
          40.018,
          40.1115,
          40.205,
          40.2985,
          40.392,
          40.4855,
          40.579,
          40.6725,
          40.766,
          40.8595,
          40.953,
          41.0465,
          41.14,
          41.2335,
          41.327,
          41.4205,
          41.514,
          41.6075,
          41.701,
          41.7945,
          41.888,
          41.9815,
          42.075,
          42.1685,
          42.262,
          42.3555,
          42.449,
          42.5425,
          42.636,
          42.7295,
          42.823,
          42.9165,
          43.01,
          43.1035,
          43.197,
          43.2905,
          43.384,
          43.4775,
          43.571,
          43.6645,
          43.758,
          43.8515,
          43.945,
          44.0385,
          44.132,
          44.2255,
          44.319,
          44.4125,
          44.506,
          44.5995,
          44.693,
          44.7865,
          44.88,
          44.9735,
          45.067,
          45.1605,
          45.254,
          45.3475,
          45.441,
          45.5345,
          45.628,
          45.7215,
          45.815,
          45.9085,
          46.002,
          46.0955,
          46.189,
          46.2825,
          46.376,
          46.4695,
          46.563,
          46.6565
         ],
         "xaxis": "x",
         "y": [
          0.01270458858578256,
          0.012910744054638762,
          0.013112893521135881,
          0.013310914217442581,
          0.01350469836562429,
          0.013694153309031213,
          0.013879201560782343,
          0.014059780770305058,
          0.014235843609516808,
          0.01440735758084349,
          0.014574304749851916,
          0.014736681405823493,
          0.014894497654112828,
          0.015047776944607712,
          0.015196555541036483,
          0.015340881936248357,
          0.01548081621892103,
          0.015616429397423014,
          0.01574780268677679,
          0.015875026764827705,
          0.015998201003827074,
          0.016117432683681737,
          0.01623283619310918,
          0.01634453222486952,
          0.016452646971122455,
          0.016557311324783847,
          0.016658660092533955,
          0.01675683122486224,
          0.016851965068225554,
          0.016944203644050543,
          0.017033689958934797,
          0.017120567349994287,
          0.017204978868879284,
          0.01728706670753282,
          0.01736697166830976,
          0.017444832680607293,
          0.017520786365690696,
          0.017594966650930702,
          0.01766750443421033,
          0.017738527298809738,
          0.017808159278644962,
          0.01787652067332146,
          0.01794372791207061,
          0.018009893465270026,
          0.018075125801909005,
          0.01813952939104833,
          0.01820320474504651,
          0.01826624850207561,
          0.018328753545237313,
          0.018390809155408586,
          0.01845250119479924,
          0.018513912318090325,
          0.018575122207937885,
          0.01863620783157735,
          0.01869724371523967,
          0.018758302233097292,
          0.018819453907487283,
          0.018880767717215637,
          0.018942311410821044,
          0.019004151821771675,
          0.01906635518268078,
          0.01912898743575159,
          0.019192114536799663,
          0.019255802750348307,
          0.019320118933446005,
          0.01938513080601497,
          0.019450907205701532,
          0.01951751832536418,
          0.019585035931497935,
          0.019653533562056406,
          0.019723086702292423,
          0.01979377293739369,
          0.01986567208084172,
          0.01993886627756758,
          0.020013440081120517,
          0.020089480504199037,
          0.02016707704202555,
          0.020246321668169302,
          0.020327308802541685,
          0.020410135251404362,
          0.0204949001193396,
          0.020581704693241294,
          0.020670652298489547,
          0.020761848127573743,
          0.020855399041531063,
          0.020951413344667935,
          0.02105000053313179,
          0.021151271018002047,
          0.021255335823671076,
          0.021362306262388157,
          0.021472293585946215,
          0.021585408615594798,
          0.021701761351373274,
          0.021821460562167317,
          0.02194461335790205,
          0.022071324745398073,
          0.022201697169529393,
          0.022335830041432723,
          0.02247381925563039,
          0.022615756698037254,
          0.022761729746927174,
          0.022911820769038083,
          0.02306610661308944,
          0.023224658103076494,
          0.023387539533787985,
          0.02355480817106614,
          0.023726513759391332,
          0.023902698039423874,
          0.02408339427817435,
          0.024268626814497745,
          0.024458410622615494,
          0.024652750896364397,
          0.024851642656845852,
          0.025055070386110077,
          0.02526300768944926,
          0.02547541698879854,
          0.025692249249645673,
          0.025913443743737906,
          0.026138927849740475,
          0.026368616893850703,
          0.02660241403220395,
          0.026840210176720513,
          0.027081883965843604,
          0.027327301781400283,
          0.027576317812589183,
          0.027828774167855355,
          0.028084501035161236,
          0.028343316890900343,
          0.02860502875743173,
          0.028869432508939277,
          0.029136313225043287,
          0.029405445591312356,
          0.029676594345547678,
          0.02994951476843648,
          0.030223953216903958,
          0.030499647698230048,
          0.03077632848274713,
          0.031053718752694158,
          0.03133153528457597,
          0.031609489162166125,
          0.03188728651709771,
          0.03216462929381241,
          0.03244121603548343,
          0.03271674268739553,
          0.03299090341415678,
          0.03326339142703027,
          0.03353389981761355,
          0.03380212239405859,
          0.03406775451601388,
          0.034330493924487684,
          0.03459004156287167,
          0.03484610238543147,
          0.035098386149662486,
          0.035346608189024194,
          0.03559049016270537,
          0.035829760779233846,
          0.03606415649092339,
          0.03629342215635402,
          0.036517311668294763,
          0.03673558854471608,
          0.03694802648078081,
          0.03715440985996324,
          0.03735453422271116,
          0.03754820669134051,
          0.03773524635012931,
          0.03791548457985943,
          0.03808876534633312,
          0.03825494544267095,
          0.03841389468546875,
          0.038565496065157856,
          0.03870964585116865,
          0.038846253652743336,
          0.03897524243647273,
          0.039096548501852756,
          0.03921012141635007,
          0.0393159239116524,
          0.03941393174293822,
          0.03950413351314112,
          0.03958653046430475,
          0.0396611362382197,
          0.0397279766086102,
          0.03978708918718764,
          0.03983852310591845,
          0.039882338677859515,
          0.03991860703889913,
          0.039947409772703384,
          0.03996883852111173,
          0.03998299458214948,
          0.039989988497728245,
          0.03998993963299859,
          0.03998297574919093,
          0.039969232571644385,
          0.03994885335457477,
          0.03992198844397495,
          0.03988879483987697,
          0.039849435759037544,
          0.039804080198937934,
          0.03975290250381792,
          0.03969608193329558,
          0.03963380223396322,
          0.039566251214188455,
          0.03949362032220505,
          0.03941610422743701,
          0.039333900404876845,
          0.03924720872222294,
          0.03915623102939037,
          0.03906117074992386,
          0.0389622324737851,
          0.03885962155094013,
          0.038753543685149924,
          0.038644204527363765,
          0.03853180926813028,
          0.03841656222847626,
          0.03829866644876114,
          0.03817832327508566,
          0.03805573194292999,
          0.03793108915780342,
          0.03780458867281558,
          0.037676420863219505,
          0.03754677229812976,
          0.037415825309785905,
          0.03728375756090313,
          0.03715074161083637,
          0.03701694448146857,
          0.03688252722392415,
          0.03674764448739778,
          0.03661244409157732,
          0.0364770666043199,
          0.036341644926419496,
          0.036206303885468166,
          0.03607115984096732,
          0.03593632030298876,
          0.03580188356680482,
          0.03566793836601575,
          0.035534563546784595,
          0.03540182776585448,
          0.03526978921506054,
          0.035138495375062494,
          0.035007982801010966,
          0.03487827694281968,
          0.03474939200264853,
          0.03462133083210335,
          0.03449408487153624,
          0.034367634133671686,
          0.03424194723360653,
          0.03411698146701975,
          0.033992682938192666,
          0.03386898673918152,
          0.033745817181198075,
          0.033623088078948975,
          0.03350070308836129,
          0.03337855609777594,
          0.03325653167233542,
          0.03313450555092337,
          0.03301234519463459,
          0.03288991038536904,
          0.03276705387275865,
          0.032643622067246976,
          0.032519455776760714,
          0.03239439098403699,
          0.03226825966130514,
          0.03214089061867266,
          0.03201211038223352,
          0.031881744097603415,
          0.03174961645430278,
          0.03161555262614674,
          0.031479379222571886,
          0.031340925245634164,
          0.031200023047249583,
          0.031056509281126684,
          0.030910225843754222,
          0.030761020798764343,
          0.03060874927898921,
          0.030453274360572,
          0.030294467903575463,
          0.030132211353662588,
          0.029966396499593036,
          0.02979692618149611,
          0.029623714945134327,
          0.029446689637671258,
          0.029265789940789544,
          0.029080968837377506,
          0.02889219300840687,
          0.02869944315706114,
          0.02850271425763512,
          0.028302015727216006,
          0.028097371518663088,
          0.027888820133927367,
          0.027676414557290505,
          0.027460222108645484,
          0.027240324217490598,
          0.02701681611885712,
          0.02678980647292904,
          0.026559416910650398,
          0.0263257815081284,
          0.026089046193142472,
          0.02584936808754296,
          0.025606914789771992,
          0.02536186360215706,
          0.025114400708008588,
          0.024864720303899957,
          0.024613023692810092,
          0.02435951834406991,
          0.024104416926269367,
          0.02384793631944704,
          0.023590296613003783,
          0.023331720095849592,
          0.023072430245310485,
          0.022812650721289338,
          0.022552604372092708,
          0.02229251225820195,
          0.022032592700088383,
          0.02177306035594538,
          0.021514125334940026,
          0.021255992351274334,
          0.020998859923997096,
          0.02074291962711895,
          0.020488355394167494,
          0.02023534288087105,
          0.019984048889190375,
          0.019734630855427048,
          0.019487236404630383,
          0.019242002973008404,
          0.01899905749952428,
          0.018758516187332222,
          0.01852048433518501,
          0.01828505623842592,
          0.01805231515867377,
          0.01782233336081589,
          0.01759517221545479,
          0.0173708823645023,
          0.017149503947193046,
          0.01693106688339495,
          0.016715591210732243,
          0.01650308747170975,
          0.01629355714673642,
          0.016086993128694386,
          0.015883380234487373,
          0.01568269574883155,
          0.015484909995421898,
          0.015289986930518794,
          0.015097884753953785,
          0.01490855653254675,
          0.01472195083096228,
          0.01453801234510552,
          0.014356682533268975,
          0.014177900240387415,
          0.014001602310938076,
          0.013827724186233313,
          0.013656200482092144,
          0.013486965543142602,
          0.01331995397029314,
          0.01315510111822032,
          0.01299234356004397,
          0.012831619516699111,
          0.012672869248863093,
          0.012516035409652569,
          0.012361063356665364,
          0.012207901422304795,
          0.012056501141683931,
          0.011906817437763506,
          0.011758808763726035,
          0.011612437202928108,
          0.011467668527099236,
          0.011324472213770104,
          0.01118282142420827,
          0.011042692943419075,
          0.010904067084028664,
          0.010766927556103825,
          0.010631261305179673,
          0.010497058320959025,
          0.010364311419316798,
          0.010233016000386862,
          0.010103169785628929,
          0.00997477253686862,
          0.009847825760372915,
          0.009722332399069809,
          0.00959829651604101,
          0.009475722972414717,
          0.00935461710275906,
          0.009234984391028284,
          0.009116830150044719,
          0.009000159207408561,
          0.008884975600617712,
          0.008771282284052759,
          0.008659080850336509,
          0.008548371268417093,
          0.008439151640549494,
          0.00833141798016212,
          0.008225164012396492,
          0.008120380998899694,
          0.008017057588231633,
          0.007915179693026277,
          0.007814730394816624,
          0.007715689877200984,
          0.007618035387793837,
          0.007521741229169379,
          0.0074267787787724564,
          0.007333116537540125,
          0.007240720206750426,
          0.007149552792393526,
          0.0070595747361458724,
          0.006970744071822798,
          0.0068830166059884665,
          0.006796346121217601,
          0.006710684600330839,
          0.006625982469766536,
          0.006542188860107324,
          0.006459251881651197,
          0.0063771189128039255,
          0.006295736898974732,
          0.006215052659579856,
          0.006135013200699616,
          0.006055566030894406,
          0.005976659477664896,
          0.005898243002039437,
          0.005820267508790266,
          0.005742685649817059,
          0.0056654521182925395,
          0.005588523931239876,
          0.0055118606983043435,
          0.005435424874592151,
          0.005359181995575915,
          0.005283100892208846,
          0.005207153884546357,
          0.00513131695234387,
          0.005055569881281585,
          0.0049798963836591905,
          0.0049042841926047005,
          0.004828725129050242,
          0.0047532151409414415,
          0.004677754314364934,
          0.00460234685649843,
          0.004527001050507744,
          0.0044517291827334635,
          0.00437654744272525,
          0.004301475796891087,
          0.004226537836731883,
          0.004151760602825782,
          0.004077174385910565,
          0.004002812506584443,
          0.0039287110753045635,
          0.003854908734507248,
          0.0037814463848022356,
          0.0037083668973060158,
          0.0036357148142736923,
          0.0035635360402653284,
          0.003491877526140531,
          0.003420786948213647,
          0.0033503123849212978,
          0.003280501993353906,
          0.0032114036879839127,
          0.0031430648238852388,
          0.0030755318866824166,
          0.003008850191393817,
          0.002943063592242663,
          0.0028782142054026875,
          0.0028143421465241154,
          0.002751485284750186,
          0.0026896790147875275,
          0.002628956048435146,
          0.002569346226809598,
          0.0025108763543283327,
          0.0024535700553319725,
          0.002397447654040047,
          0.0023425260783460954,
          0.002288818787767754,
          0.0022363357256780176,
          0.00218508329575612,
          0.0021350643624127473,
          0.0020862782747653186,
          0.002038720913567041,
          0.001992384760329039,
          0.0019472589877198923,
          0.0019033295701820741,
          0.001860579413571515,
          0.0018189885025053825,
          0.0017785340639952041,
          0.0017391907458481507,
          0.0017009308082393082,
          0.0016637243267922657,
          0.0016275394054548497,
          0.0015923423974211293,
          0.001558098132330193,
          0.0015247701479661202,
          0.0014923209246921496,
          0.0014607121208744796,
          0.001429904807587205,
          0.0013998597009387075,
          0.0013705373904208964,
          0.001341898561754878,
          0.0013139042127894311,
          0.0012865158611006819,
          0.0012596957420419278,
          0.0012334069961003006,
          0.0012076138445310262,
          0.0011822817523589972,
          0.001157377577960413,
          0.00113286970856287,
          0.0011087281811296469
         ],
         "yaxis": "y"
        }
       ],
       "layout": {
        "annotations": [
         {
          "showarrow": false,
          "text": "*Missing Values: Real Data (9.0%), Synthetic Data (7.6%)",
          "x": 1,
          "xref": "paper",
          "y": 1.05,
          "yref": "paper"
         }
        ],
        "barmode": "overlay",
        "font": {
         "size": 18
        },
        "hovermode": "closest",
        "legend": {
         "traceorder": "reversed"
        },
        "plot_bgcolor": "#F5F5F8",
        "template": {
         "data": {
          "bar": [
           {
            "error_x": {
             "color": "#2a3f5f"
            },
            "error_y": {
             "color": "#2a3f5f"
            },
            "marker": {
             "line": {
              "color": "#E5ECF6",
              "width": 0.5
             },
             "pattern": {
              "fillmode": "overlay",
              "size": 10,
              "solidity": 0.2
             }
            },
            "type": "bar"
           }
          ],
          "barpolar": [
           {
            "marker": {
             "line": {
              "color": "#E5ECF6",
              "width": 0.5
             },
             "pattern": {
              "fillmode": "overlay",
              "size": 10,
              "solidity": 0.2
             }
            },
            "type": "barpolar"
           }
          ],
          "carpet": [
           {
            "aaxis": {
             "endlinecolor": "#2a3f5f",
             "gridcolor": "white",
             "linecolor": "white",
             "minorgridcolor": "white",
             "startlinecolor": "#2a3f5f"
            },
            "baxis": {
             "endlinecolor": "#2a3f5f",
             "gridcolor": "white",
             "linecolor": "white",
             "minorgridcolor": "white",
             "startlinecolor": "#2a3f5f"
            },
            "type": "carpet"
           }
          ],
          "choropleth": [
           {
            "colorbar": {
             "outlinewidth": 0,
             "ticks": ""
            },
            "type": "choropleth"
           }
          ],
          "contour": [
           {
            "colorbar": {
             "outlinewidth": 0,
             "ticks": ""
            },
            "colorscale": [
             [
              0,
              "#0d0887"
             ],
             [
              0.1111111111111111,
              "#46039f"
             ],
             [
              0.2222222222222222,
              "#7201a8"
             ],
             [
              0.3333333333333333,
              "#9c179e"
             ],
             [
              0.4444444444444444,
              "#bd3786"
             ],
             [
              0.5555555555555556,
              "#d8576b"
             ],
             [
              0.6666666666666666,
              "#ed7953"
             ],
             [
              0.7777777777777778,
              "#fb9f3a"
             ],
             [
              0.8888888888888888,
              "#fdca26"
             ],
             [
              1,
              "#f0f921"
             ]
            ],
            "type": "contour"
           }
          ],
          "contourcarpet": [
           {
            "colorbar": {
             "outlinewidth": 0,
             "ticks": ""
            },
            "type": "contourcarpet"
           }
          ],
          "heatmap": [
           {
            "colorbar": {
             "outlinewidth": 0,
             "ticks": ""
            },
            "colorscale": [
             [
              0,
              "#0d0887"
             ],
             [
              0.1111111111111111,
              "#46039f"
             ],
             [
              0.2222222222222222,
              "#7201a8"
             ],
             [
              0.3333333333333333,
              "#9c179e"
             ],
             [
              0.4444444444444444,
              "#bd3786"
             ],
             [
              0.5555555555555556,
              "#d8576b"
             ],
             [
              0.6666666666666666,
              "#ed7953"
             ],
             [
              0.7777777777777778,
              "#fb9f3a"
             ],
             [
              0.8888888888888888,
              "#fdca26"
             ],
             [
              1,
              "#f0f921"
             ]
            ],
            "type": "heatmap"
           }
          ],
          "heatmapgl": [
           {
            "colorbar": {
             "outlinewidth": 0,
             "ticks": ""
            },
            "colorscale": [
             [
              0,
              "#0d0887"
             ],
             [
              0.1111111111111111,
              "#46039f"
             ],
             [
              0.2222222222222222,
              "#7201a8"
             ],
             [
              0.3333333333333333,
              "#9c179e"
             ],
             [
              0.4444444444444444,
              "#bd3786"
             ],
             [
              0.5555555555555556,
              "#d8576b"
             ],
             [
              0.6666666666666666,
              "#ed7953"
             ],
             [
              0.7777777777777778,
              "#fb9f3a"
             ],
             [
              0.8888888888888888,
              "#fdca26"
             ],
             [
              1,
              "#f0f921"
             ]
            ],
            "type": "heatmapgl"
           }
          ],
          "histogram": [
           {
            "marker": {
             "pattern": {
              "fillmode": "overlay",
              "size": 10,
              "solidity": 0.2
             }
            },
            "type": "histogram"
           }
          ],
          "histogram2d": [
           {
            "colorbar": {
             "outlinewidth": 0,
             "ticks": ""
            },
            "colorscale": [
             [
              0,
              "#0d0887"
             ],
             [
              0.1111111111111111,
              "#46039f"
             ],
             [
              0.2222222222222222,
              "#7201a8"
             ],
             [
              0.3333333333333333,
              "#9c179e"
             ],
             [
              0.4444444444444444,
              "#bd3786"
             ],
             [
              0.5555555555555556,
              "#d8576b"
             ],
             [
              0.6666666666666666,
              "#ed7953"
             ],
             [
              0.7777777777777778,
              "#fb9f3a"
             ],
             [
              0.8888888888888888,
              "#fdca26"
             ],
             [
              1,
              "#f0f921"
             ]
            ],
            "type": "histogram2d"
           }
          ],
          "histogram2dcontour": [
           {
            "colorbar": {
             "outlinewidth": 0,
             "ticks": ""
            },
            "colorscale": [
             [
              0,
              "#0d0887"
             ],
             [
              0.1111111111111111,
              "#46039f"
             ],
             [
              0.2222222222222222,
              "#7201a8"
             ],
             [
              0.3333333333333333,
              "#9c179e"
             ],
             [
              0.4444444444444444,
              "#bd3786"
             ],
             [
              0.5555555555555556,
              "#d8576b"
             ],
             [
              0.6666666666666666,
              "#ed7953"
             ],
             [
              0.7777777777777778,
              "#fb9f3a"
             ],
             [
              0.8888888888888888,
              "#fdca26"
             ],
             [
              1,
              "#f0f921"
             ]
            ],
            "type": "histogram2dcontour"
           }
          ],
          "mesh3d": [
           {
            "colorbar": {
             "outlinewidth": 0,
             "ticks": ""
            },
            "type": "mesh3d"
           }
          ],
          "parcoords": [
           {
            "line": {
             "colorbar": {
              "outlinewidth": 0,
              "ticks": ""
             }
            },
            "type": "parcoords"
           }
          ],
          "pie": [
           {
            "automargin": true,
            "type": "pie"
           }
          ],
          "scatter": [
           {
            "fillpattern": {
             "fillmode": "overlay",
             "size": 10,
             "solidity": 0.2
            },
            "type": "scatter"
           }
          ],
          "scatter3d": [
           {
            "line": {
             "colorbar": {
              "outlinewidth": 0,
              "ticks": ""
             }
            },
            "marker": {
             "colorbar": {
              "outlinewidth": 0,
              "ticks": ""
             }
            },
            "type": "scatter3d"
           }
          ],
          "scattercarpet": [
           {
            "marker": {
             "colorbar": {
              "outlinewidth": 0,
              "ticks": ""
             }
            },
            "type": "scattercarpet"
           }
          ],
          "scattergeo": [
           {
            "marker": {
             "colorbar": {
              "outlinewidth": 0,
              "ticks": ""
             }
            },
            "type": "scattergeo"
           }
          ],
          "scattergl": [
           {
            "marker": {
             "colorbar": {
              "outlinewidth": 0,
              "ticks": ""
             }
            },
            "type": "scattergl"
           }
          ],
          "scattermapbox": [
           {
            "marker": {
             "colorbar": {
              "outlinewidth": 0,
              "ticks": ""
             }
            },
            "type": "scattermapbox"
           }
          ],
          "scatterpolar": [
           {
            "marker": {
             "colorbar": {
              "outlinewidth": 0,
              "ticks": ""
             }
            },
            "type": "scatterpolar"
           }
          ],
          "scatterpolargl": [
           {
            "marker": {
             "colorbar": {
              "outlinewidth": 0,
              "ticks": ""
             }
            },
            "type": "scatterpolargl"
           }
          ],
          "scatterternary": [
           {
            "marker": {
             "colorbar": {
              "outlinewidth": 0,
              "ticks": ""
             }
            },
            "type": "scatterternary"
           }
          ],
          "surface": [
           {
            "colorbar": {
             "outlinewidth": 0,
             "ticks": ""
            },
            "colorscale": [
             [
              0,
              "#0d0887"
             ],
             [
              0.1111111111111111,
              "#46039f"
             ],
             [
              0.2222222222222222,
              "#7201a8"
             ],
             [
              0.3333333333333333,
              "#9c179e"
             ],
             [
              0.4444444444444444,
              "#bd3786"
             ],
             [
              0.5555555555555556,
              "#d8576b"
             ],
             [
              0.6666666666666666,
              "#ed7953"
             ],
             [
              0.7777777777777778,
              "#fb9f3a"
             ],
             [
              0.8888888888888888,
              "#fdca26"
             ],
             [
              1,
              "#f0f921"
             ]
            ],
            "type": "surface"
           }
          ],
          "table": [
           {
            "cells": {
             "fill": {
              "color": "#EBF0F8"
             },
             "line": {
              "color": "white"
             }
            },
            "header": {
             "fill": {
              "color": "#C8D4E3"
             },
             "line": {
              "color": "white"
             }
            },
            "type": "table"
           }
          ]
         },
         "layout": {
          "annotationdefaults": {
           "arrowcolor": "#2a3f5f",
           "arrowhead": 0,
           "arrowwidth": 1
          },
          "autotypenumbers": "strict",
          "coloraxis": {
           "colorbar": {
            "outlinewidth": 0,
            "ticks": ""
           }
          },
          "colorscale": {
           "diverging": [
            [
             0,
             "#8e0152"
            ],
            [
             0.1,
             "#c51b7d"
            ],
            [
             0.2,
             "#de77ae"
            ],
            [
             0.3,
             "#f1b6da"
            ],
            [
             0.4,
             "#fde0ef"
            ],
            [
             0.5,
             "#f7f7f7"
            ],
            [
             0.6,
             "#e6f5d0"
            ],
            [
             0.7,
             "#b8e186"
            ],
            [
             0.8,
             "#7fbc41"
            ],
            [
             0.9,
             "#4d9221"
            ],
            [
             1,
             "#276419"
            ]
           ],
           "sequential": [
            [
             0,
             "#0d0887"
            ],
            [
             0.1111111111111111,
             "#46039f"
            ],
            [
             0.2222222222222222,
             "#7201a8"
            ],
            [
             0.3333333333333333,
             "#9c179e"
            ],
            [
             0.4444444444444444,
             "#bd3786"
            ],
            [
             0.5555555555555556,
             "#d8576b"
            ],
            [
             0.6666666666666666,
             "#ed7953"
            ],
            [
             0.7777777777777778,
             "#fb9f3a"
            ],
            [
             0.8888888888888888,
             "#fdca26"
            ],
            [
             1,
             "#f0f921"
            ]
           ],
           "sequentialminus": [
            [
             0,
             "#0d0887"
            ],
            [
             0.1111111111111111,
             "#46039f"
            ],
            [
             0.2222222222222222,
             "#7201a8"
            ],
            [
             0.3333333333333333,
             "#9c179e"
            ],
            [
             0.4444444444444444,
             "#bd3786"
            ],
            [
             0.5555555555555556,
             "#d8576b"
            ],
            [
             0.6666666666666666,
             "#ed7953"
            ],
            [
             0.7777777777777778,
             "#fb9f3a"
            ],
            [
             0.8888888888888888,
             "#fdca26"
            ],
            [
             1,
             "#f0f921"
            ]
           ]
          },
          "colorway": [
           "#636efa",
           "#EF553B",
           "#00cc96",
           "#ab63fa",
           "#FFA15A",
           "#19d3f3",
           "#FF6692",
           "#B6E880",
           "#FF97FF",
           "#FECB52"
          ],
          "font": {
           "color": "#2a3f5f"
          },
          "geo": {
           "bgcolor": "white",
           "lakecolor": "white",
           "landcolor": "#E5ECF6",
           "showlakes": true,
           "showland": true,
           "subunitcolor": "white"
          },
          "hoverlabel": {
           "align": "left"
          },
          "hovermode": "closest",
          "mapbox": {
           "style": "light"
          },
          "paper_bgcolor": "white",
          "plot_bgcolor": "#E5ECF6",
          "polar": {
           "angularaxis": {
            "gridcolor": "white",
            "linecolor": "white",
            "ticks": ""
           },
           "bgcolor": "#E5ECF6",
           "radialaxis": {
            "gridcolor": "white",
            "linecolor": "white",
            "ticks": ""
           }
          },
          "scene": {
           "xaxis": {
            "backgroundcolor": "#E5ECF6",
            "gridcolor": "white",
            "gridwidth": 2,
            "linecolor": "white",
            "showbackground": true,
            "ticks": "",
            "zerolinecolor": "white"
           },
           "yaxis": {
            "backgroundcolor": "#E5ECF6",
            "gridcolor": "white",
            "gridwidth": 2,
            "linecolor": "white",
            "showbackground": true,
            "ticks": "",
            "zerolinecolor": "white"
           },
           "zaxis": {
            "backgroundcolor": "#E5ECF6",
            "gridcolor": "white",
            "gridwidth": 2,
            "linecolor": "white",
            "showbackground": true,
            "ticks": "",
            "zerolinecolor": "white"
           }
          },
          "shapedefaults": {
           "line": {
            "color": "#2a3f5f"
           }
          },
          "ternary": {
           "aaxis": {
            "gridcolor": "white",
            "linecolor": "white",
            "ticks": ""
           },
           "baxis": {
            "gridcolor": "white",
            "linecolor": "white",
            "ticks": ""
           },
           "bgcolor": "#E5ECF6",
           "caxis": {
            "gridcolor": "white",
            "linecolor": "white",
            "ticks": ""
           }
          },
          "title": {
           "x": 0.05
          },
          "xaxis": {
           "automargin": true,
           "gridcolor": "white",
           "linecolor": "white",
           "ticks": "",
           "title": {
            "standoff": 15
           },
           "zerolinecolor": "white",
           "zerolinewidth": 2
          },
          "yaxis": {
           "automargin": true,
           "gridcolor": "white",
           "linecolor": "white",
           "ticks": "",
           "title": {
            "standoff": 15
           },
           "zerolinecolor": "white",
           "zerolinewidth": 2
          }
         }
        },
        "title": {
         "text": "Real vs. Synthetic Data for column amenities_fee"
        },
        "xaxis": {
         "anchor": "y2",
         "domain": [
          0,
          1
         ],
         "title": {
          "text": "Value"
         },
         "zeroline": false
        },
        "yaxis": {
         "anchor": "free",
         "domain": [
          0,
          1
         ],
         "position": 0,
         "title": {
          "text": "Frequency"
         }
        }
       }
      }
     },
     "metadata": {},
     "output_type": "display_data"
    },
    {
     "data": {
      "application/vnd.plotly.v1+json": {
       "config": {
        "plotlyServerURL": "https://plot.ly"
       },
       "data": [
        {
         "fill": "tozeroy",
         "hovertemplate": "<b>Real</b><br>Value: %{x}<br>Frequency: %{y}<extra></extra>",
         "legendgroup": "Real",
         "marker": {
          "color": "#000036"
         },
         "mode": "lines",
         "name": "Real",
         "showlegend": true,
         "type": "scatter",
         "x": [
          "2020-01-05T00:00:00",
          "2020-01-05T17:39:50.400000",
          "2020-01-06T11:19:40.800000",
          "2020-01-07T04:59:31.200000",
          "2020-01-07T22:39:21.600000",
          "2020-01-08T16:19:12",
          "2020-01-09T09:59:02.400000",
          "2020-01-10T03:38:52.800000",
          "2020-01-10T21:18:43.200000",
          "2020-01-11T14:58:33.600000",
          "2020-01-12T08:38:24",
          "2020-01-13T02:18:14.400000",
          "2020-01-13T19:58:04.800000",
          "2020-01-14T13:37:55.200000",
          "2020-01-15T07:17:45.600000",
          "2020-01-16T00:57:36",
          "2020-01-16T18:37:26.400000",
          "2020-01-17T12:17:16.800000",
          "2020-01-18T05:57:07.200000",
          "2020-01-18T23:36:57.600000",
          "2020-01-19T17:16:48",
          "2020-01-20T10:56:38.400000",
          "2020-01-21T04:36:28.800000",
          "2020-01-21T22:16:19.200000",
          "2020-01-22T15:56:09.600000",
          "2020-01-23T09:36:00",
          "2020-01-24T03:15:50.400000",
          "2020-01-24T20:55:40.800000",
          "2020-01-25T14:35:31.200000",
          "2020-01-26T08:15:21.600000",
          "2020-01-27T01:55:12",
          "2020-01-27T19:35:02.400000",
          "2020-01-28T13:14:52.800000",
          "2020-01-29T06:54:43.200000",
          "2020-01-30T00:34:33.600000",
          "2020-01-30T18:14:24",
          "2020-01-31T11:54:14.400000",
          "2020-02-01T05:34:04.800000",
          "2020-02-01T23:13:55.200000",
          "2020-02-02T16:53:45.600000",
          "2020-02-03T10:33:36",
          "2020-02-04T04:13:26.400000",
          "2020-02-04T21:53:16.800000",
          "2020-02-05T15:33:07.200000",
          "2020-02-06T09:12:57.600000",
          "2020-02-07T02:52:48",
          "2020-02-07T20:32:38.400000",
          "2020-02-08T14:12:28.800000",
          "2020-02-09T07:52:19.200000",
          "2020-02-10T01:32:09.600000",
          "2020-02-10T19:12:00",
          "2020-02-11T12:51:50.400000",
          "2020-02-12T06:31:40.800000",
          "2020-02-13T00:11:31.200000",
          "2020-02-13T17:51:21.600000",
          "2020-02-14T11:31:12",
          "2020-02-15T05:11:02.400000",
          "2020-02-15T22:50:52.800000",
          "2020-02-16T16:30:43.200000",
          "2020-02-17T10:10:33.600000",
          "2020-02-18T03:50:24",
          "2020-02-18T21:30:14.400000",
          "2020-02-19T15:10:04.800000",
          "2020-02-20T08:49:55.200000",
          "2020-02-21T02:29:45.600000",
          "2020-02-21T20:09:36",
          "2020-02-22T13:49:26.400000",
          "2020-02-23T07:29:16.800000",
          "2020-02-24T01:09:07.200000",
          "2020-02-24T18:48:57.600000",
          "2020-02-25T12:28:48",
          "2020-02-26T06:08:38.400000",
          "2020-02-26T23:48:28.800000",
          "2020-02-27T17:28:19.200000",
          "2020-02-28T11:08:09.600000",
          "2020-02-29T04:48:00",
          "2020-02-29T22:27:50.400000",
          "2020-03-01T16:07:40.800000",
          "2020-03-02T09:47:31.200000",
          "2020-03-03T03:27:21.600000",
          "2020-03-03T21:07:12",
          "2020-03-04T14:47:02.400000",
          "2020-03-05T08:26:52.800000",
          "2020-03-06T02:06:43.200000",
          "2020-03-06T19:46:33.600000",
          "2020-03-07T13:26:24",
          "2020-03-08T07:06:14.400000",
          "2020-03-09T00:46:04.800000",
          "2020-03-09T18:25:55.200000",
          "2020-03-10T12:05:45.600000",
          "2020-03-11T05:45:36",
          "2020-03-11T23:25:26.400000",
          "2020-03-12T17:05:16.800000",
          "2020-03-13T10:45:07.200000",
          "2020-03-14T04:24:57.600000",
          "2020-03-14T22:04:48",
          "2020-03-15T15:44:38.400000",
          "2020-03-16T09:24:28.800000",
          "2020-03-17T03:04:19.200000",
          "2020-03-17T20:44:09.600000",
          "2020-03-18T14:24:00",
          "2020-03-19T08:03:50.400000",
          "2020-03-20T01:43:40.800000",
          "2020-03-20T19:23:31.200000",
          "2020-03-21T13:03:21.600000",
          "2020-03-22T06:43:12",
          "2020-03-23T00:23:02.400000",
          "2020-03-23T18:02:52.800000",
          "2020-03-24T11:42:43.200000",
          "2020-03-25T05:22:33.600000",
          "2020-03-25T23:02:24",
          "2020-03-26T16:42:14.400000",
          "2020-03-27T10:22:04.800000",
          "2020-03-28T04:01:55.200000",
          "2020-03-28T21:41:45.600000",
          "2020-03-29T15:21:36",
          "2020-03-30T09:01:26.400000",
          "2020-03-31T02:41:16.800000",
          "2020-03-31T20:21:07.200000",
          "2020-04-01T14:00:57.600000",
          "2020-04-02T07:40:48",
          "2020-04-03T01:20:38.400000",
          "2020-04-03T19:00:28.800000",
          "2020-04-04T12:40:19.200000",
          "2020-04-05T06:20:09.600000",
          "2020-04-06T00:00:00",
          "2020-04-06T17:39:50.400000",
          "2020-04-07T11:19:40.800000",
          "2020-04-08T04:59:31.200000",
          "2020-04-08T22:39:21.600000",
          "2020-04-09T16:19:12",
          "2020-04-10T09:59:02.400000",
          "2020-04-11T03:38:52.800000",
          "2020-04-11T21:18:43.200000",
          "2020-04-12T14:58:33.600000",
          "2020-04-13T08:38:24",
          "2020-04-14T02:18:14.400000",
          "2020-04-14T19:58:04.800000",
          "2020-04-15T13:37:55.200000",
          "2020-04-16T07:17:45.600000",
          "2020-04-17T00:57:36",
          "2020-04-17T18:37:26.400000",
          "2020-04-18T12:17:16.800000",
          "2020-04-19T05:57:07.200000",
          "2020-04-19T23:36:57.600000",
          "2020-04-20T17:16:48",
          "2020-04-21T10:56:38.400000",
          "2020-04-22T04:36:28.800000",
          "2020-04-22T22:16:19.200000",
          "2020-04-23T15:56:09.600000",
          "2020-04-24T09:36:00",
          "2020-04-25T03:15:50.400000",
          "2020-04-25T20:55:40.800000",
          "2020-04-26T14:35:31.200000",
          "2020-04-27T08:15:21.600000",
          "2020-04-28T01:55:12",
          "2020-04-28T19:35:02.400000",
          "2020-04-29T13:14:52.800000",
          "2020-04-30T06:54:43.200000",
          "2020-05-01T00:34:33.600000",
          "2020-05-01T18:14:24",
          "2020-05-02T11:54:14.400000",
          "2020-05-03T05:34:04.800000",
          "2020-05-03T23:13:55.200000",
          "2020-05-04T16:53:45.600000",
          "2020-05-05T10:33:36",
          "2020-05-06T04:13:26.400000",
          "2020-05-06T21:53:16.800000",
          "2020-05-07T15:33:07.200000",
          "2020-05-08T09:12:57.600000",
          "2020-05-09T02:52:48",
          "2020-05-09T20:32:38.400000",
          "2020-05-10T14:12:28.800000",
          "2020-05-11T07:52:19.200000",
          "2020-05-12T01:32:09.600000",
          "2020-05-12T19:12:00",
          "2020-05-13T12:51:50.400000",
          "2020-05-14T06:31:40.800000",
          "2020-05-15T00:11:31.200000",
          "2020-05-15T17:51:21.600000",
          "2020-05-16T11:31:12",
          "2020-05-17T05:11:02.400000",
          "2020-05-17T22:50:52.800000",
          "2020-05-18T16:30:43.200000",
          "2020-05-19T10:10:33.600000",
          "2020-05-20T03:50:24",
          "2020-05-20T21:30:14.400000",
          "2020-05-21T15:10:04.800000",
          "2020-05-22T08:49:55.200000",
          "2020-05-23T02:29:45.600000",
          "2020-05-23T20:09:36",
          "2020-05-24T13:49:26.400000",
          "2020-05-25T07:29:16.800000",
          "2020-05-26T01:09:07.200000",
          "2020-05-26T18:48:57.600000",
          "2020-05-27T12:28:48",
          "2020-05-28T06:08:38.400000",
          "2020-05-28T23:48:28.800000",
          "2020-05-29T17:28:19.200000",
          "2020-05-30T11:08:09.600000",
          "2020-05-31T04:48:00",
          "2020-05-31T22:27:50.400000",
          "2020-06-01T16:07:40.800000",
          "2020-06-02T09:47:31.200000",
          "2020-06-03T03:27:21.600000",
          "2020-06-03T21:07:12",
          "2020-06-04T14:47:02.400000",
          "2020-06-05T08:26:52.800000",
          "2020-06-06T02:06:43.200000",
          "2020-06-06T19:46:33.600000",
          "2020-06-07T13:26:24",
          "2020-06-08T07:06:14.400000",
          "2020-06-09T00:46:04.800000",
          "2020-06-09T18:25:55.200000",
          "2020-06-10T12:05:45.600000",
          "2020-06-11T05:45:36",
          "2020-06-11T23:25:26.400000",
          "2020-06-12T17:05:16.800000",
          "2020-06-13T10:45:07.200000",
          "2020-06-14T04:24:57.600000",
          "2020-06-14T22:04:48",
          "2020-06-15T15:44:38.400000",
          "2020-06-16T09:24:28.800000",
          "2020-06-17T03:04:19.200000",
          "2020-06-17T20:44:09.600000",
          "2020-06-18T14:24:00",
          "2020-06-19T08:03:50.400000",
          "2020-06-20T01:43:40.800000",
          "2020-06-20T19:23:31.200000",
          "2020-06-21T13:03:21.600000",
          "2020-06-22T06:43:12",
          "2020-06-23T00:23:02.400000",
          "2020-06-23T18:02:52.800000",
          "2020-06-24T11:42:43.200000",
          "2020-06-25T05:22:33.600000",
          "2020-06-25T23:02:24",
          "2020-06-26T16:42:14.400000",
          "2020-06-27T10:22:04.800000",
          "2020-06-28T04:01:55.200000",
          "2020-06-28T21:41:45.600000",
          "2020-06-29T15:21:36",
          "2020-06-30T09:01:26.400000",
          "2020-07-01T02:41:16.800000",
          "2020-07-01T20:21:07.200000",
          "2020-07-02T14:00:57.600000",
          "2020-07-03T07:40:48",
          "2020-07-04T01:20:38.400000",
          "2020-07-04T19:00:28.800000",
          "2020-07-05T12:40:19.200000",
          "2020-07-06T06:20:09.600000",
          "2020-07-07T00:00:00",
          "2020-07-07T17:39:50.400000",
          "2020-07-08T11:19:40.800000",
          "2020-07-09T04:59:31.200000",
          "2020-07-09T22:39:21.600000",
          "2020-07-10T16:19:12",
          "2020-07-11T09:59:02.400000",
          "2020-07-12T03:38:52.800000",
          "2020-07-12T21:18:43.200000",
          "2020-07-13T14:58:33.600000",
          "2020-07-14T08:38:24",
          "2020-07-15T02:18:14.400000",
          "2020-07-15T19:58:04.800000",
          "2020-07-16T13:37:55.200000",
          "2020-07-17T07:17:45.600000",
          "2020-07-18T00:57:36",
          "2020-07-18T18:37:26.400000",
          "2020-07-19T12:17:16.800000",
          "2020-07-20T05:57:07.200000",
          "2020-07-20T23:36:57.600000",
          "2020-07-21T17:16:48",
          "2020-07-22T10:56:38.400000",
          "2020-07-23T04:36:28.800000",
          "2020-07-23T22:16:19.200000",
          "2020-07-24T15:56:09.600000",
          "2020-07-25T09:36:00",
          "2020-07-26T03:15:50.400000",
          "2020-07-26T20:55:40.800000",
          "2020-07-27T14:35:31.200000",
          "2020-07-28T08:15:21.600000",
          "2020-07-29T01:55:12",
          "2020-07-29T19:35:02.400000",
          "2020-07-30T13:14:52.800000",
          "2020-07-31T06:54:43.200000",
          "2020-08-01T00:34:33.600000",
          "2020-08-01T18:14:24",
          "2020-08-02T11:54:14.400000",
          "2020-08-03T05:34:04.800000",
          "2020-08-03T23:13:55.200000",
          "2020-08-04T16:53:45.600000",
          "2020-08-05T10:33:36",
          "2020-08-06T04:13:26.400000",
          "2020-08-06T21:53:16.800000",
          "2020-08-07T15:33:07.200000",
          "2020-08-08T09:12:57.600000",
          "2020-08-09T02:52:48",
          "2020-08-09T20:32:38.400000",
          "2020-08-10T14:12:28.800000",
          "2020-08-11T07:52:19.200000",
          "2020-08-12T01:32:09.600000",
          "2020-08-12T19:12:00",
          "2020-08-13T12:51:50.400000",
          "2020-08-14T06:31:40.800000",
          "2020-08-15T00:11:31.200000",
          "2020-08-15T17:51:21.600000",
          "2020-08-16T11:31:12",
          "2020-08-17T05:11:02.400000",
          "2020-08-17T22:50:52.800000",
          "2020-08-18T16:30:43.200000",
          "2020-08-19T10:10:33.600000",
          "2020-08-20T03:50:24",
          "2020-08-20T21:30:14.400000",
          "2020-08-21T15:10:04.800000",
          "2020-08-22T08:49:55.200000",
          "2020-08-23T02:29:45.600000",
          "2020-08-23T20:09:36",
          "2020-08-24T13:49:26.400000",
          "2020-08-25T07:29:16.800000",
          "2020-08-26T01:09:07.200000",
          "2020-08-26T18:48:57.600000",
          "2020-08-27T12:28:48",
          "2020-08-28T06:08:38.400000",
          "2020-08-28T23:48:28.800000",
          "2020-08-29T17:28:19.200000",
          "2020-08-30T11:08:09.600000",
          "2020-08-31T04:48:00",
          "2020-08-31T22:27:50.400000",
          "2020-09-01T16:07:40.800000",
          "2020-09-02T09:47:31.200000",
          "2020-09-03T03:27:21.600000",
          "2020-09-03T21:07:12",
          "2020-09-04T14:47:02.400000",
          "2020-09-05T08:26:52.800000",
          "2020-09-06T02:06:43.200000",
          "2020-09-06T19:46:33.600000",
          "2020-09-07T13:26:24",
          "2020-09-08T07:06:14.400000",
          "2020-09-09T00:46:04.800000",
          "2020-09-09T18:25:55.200000",
          "2020-09-10T12:05:45.600000",
          "2020-09-11T05:45:36",
          "2020-09-11T23:25:26.400000",
          "2020-09-12T17:05:16.800000",
          "2020-09-13T10:45:07.200000",
          "2020-09-14T04:24:57.600000",
          "2020-09-14T22:04:48",
          "2020-09-15T15:44:38.400000",
          "2020-09-16T09:24:28.800000",
          "2020-09-17T03:04:19.200000",
          "2020-09-17T20:44:09.600000",
          "2020-09-18T14:24:00",
          "2020-09-19T08:03:50.400000",
          "2020-09-20T01:43:40.800000",
          "2020-09-20T19:23:31.200000",
          "2020-09-21T13:03:21.600000",
          "2020-09-22T06:43:12",
          "2020-09-23T00:23:02.400000",
          "2020-09-23T18:02:52.800000",
          "2020-09-24T11:42:43.200000",
          "2020-09-25T05:22:33.600000",
          "2020-09-25T23:02:24",
          "2020-09-26T16:42:14.400000",
          "2020-09-27T10:22:04.800000",
          "2020-09-28T04:01:55.200000",
          "2020-09-28T21:41:45.600000",
          "2020-09-29T15:21:36",
          "2020-09-30T09:01:26.400000",
          "2020-10-01T02:41:16.800000",
          "2020-10-01T20:21:07.200000",
          "2020-10-02T14:00:57.600000",
          "2020-10-03T07:40:48",
          "2020-10-04T01:20:38.400000",
          "2020-10-04T19:00:28.800000",
          "2020-10-05T12:40:19.200000",
          "2020-10-06T06:20:09.600000",
          "2020-10-07T00:00:00",
          "2020-10-07T17:39:50.400000",
          "2020-10-08T11:19:40.800000",
          "2020-10-09T04:59:31.200000",
          "2020-10-09T22:39:21.600000",
          "2020-10-10T16:19:12",
          "2020-10-11T09:59:02.400000",
          "2020-10-12T03:38:52.800000",
          "2020-10-12T21:18:43.200000",
          "2020-10-13T14:58:33.600000",
          "2020-10-14T08:38:24",
          "2020-10-15T02:18:14.400000",
          "2020-10-15T19:58:04.800000",
          "2020-10-16T13:37:55.200000",
          "2020-10-17T07:17:45.600000",
          "2020-10-18T00:57:36",
          "2020-10-18T18:37:26.400000",
          "2020-10-19T12:17:16.800000",
          "2020-10-20T05:57:07.200000",
          "2020-10-20T23:36:57.600000",
          "2020-10-21T17:16:48",
          "2020-10-22T10:56:38.400000",
          "2020-10-23T04:36:28.800000",
          "2020-10-23T22:16:19.200000",
          "2020-10-24T15:56:09.600000",
          "2020-10-25T09:36:00",
          "2020-10-26T03:15:50.400000",
          "2020-10-26T20:55:40.800000",
          "2020-10-27T14:35:31.200000",
          "2020-10-28T08:15:21.600000",
          "2020-10-29T01:55:12",
          "2020-10-29T19:35:02.400000",
          "2020-10-30T13:14:52.800000",
          "2020-10-31T06:54:43.200000",
          "2020-11-01T00:34:33.600000",
          "2020-11-01T18:14:24",
          "2020-11-02T11:54:14.400000",
          "2020-11-03T05:34:04.800000",
          "2020-11-03T23:13:55.200000",
          "2020-11-04T16:53:45.600000",
          "2020-11-05T10:33:36",
          "2020-11-06T04:13:26.400000",
          "2020-11-06T21:53:16.800000",
          "2020-11-07T15:33:07.200000",
          "2020-11-08T09:12:57.600000",
          "2020-11-09T02:52:48",
          "2020-11-09T20:32:38.400000",
          "2020-11-10T14:12:28.800000",
          "2020-11-11T07:52:19.200000",
          "2020-11-12T01:32:09.600000",
          "2020-11-12T19:12:00",
          "2020-11-13T12:51:50.400000",
          "2020-11-14T06:31:40.800000",
          "2020-11-15T00:11:31.200000",
          "2020-11-15T17:51:21.600000",
          "2020-11-16T11:31:12",
          "2020-11-17T05:11:02.400000",
          "2020-11-17T22:50:52.800000",
          "2020-11-18T16:30:43.200000",
          "2020-11-19T10:10:33.600000",
          "2020-11-20T03:50:24",
          "2020-11-20T21:30:14.400000",
          "2020-11-21T15:10:04.800000",
          "2020-11-22T08:49:55.200000",
          "2020-11-23T02:29:45.600000",
          "2020-11-23T20:09:36",
          "2020-11-24T13:49:26.400000",
          "2020-11-25T07:29:16.800000",
          "2020-11-26T01:09:07.200000",
          "2020-11-26T18:48:57.600000",
          "2020-11-27T12:28:48",
          "2020-11-28T06:08:38.400000",
          "2020-11-28T23:48:28.800000",
          "2020-11-29T17:28:19.200000",
          "2020-11-30T11:08:09.600000",
          "2020-12-01T04:48:00",
          "2020-12-01T22:27:50.400000",
          "2020-12-02T16:07:40.800000",
          "2020-12-03T09:47:31.200000",
          "2020-12-04T03:27:21.600000",
          "2020-12-04T21:07:12",
          "2020-12-05T14:47:02.400000",
          "2020-12-06T08:26:52.800000",
          "2020-12-07T02:06:43.200000",
          "2020-12-07T19:46:33.600000",
          "2020-12-08T13:26:24",
          "2020-12-09T07:06:14.400000",
          "2020-12-10T00:46:04.800000",
          "2020-12-10T18:25:55.200000",
          "2020-12-11T12:05:45.600000",
          "2020-12-12T05:45:36",
          "2020-12-12T23:25:26.400000",
          "2020-12-13T17:05:16.800000",
          "2020-12-14T10:45:07.200000",
          "2020-12-15T04:24:57.600000",
          "2020-12-15T22:04:48",
          "2020-12-16T15:44:38.400000",
          "2020-12-17T09:24:28.800000",
          "2020-12-18T03:04:19.200000",
          "2020-12-18T20:44:09.600000",
          "2020-12-19T14:24:00",
          "2020-12-20T08:03:50.400000",
          "2020-12-21T01:43:40.800000",
          "2020-12-21T19:23:31.200000",
          "2020-12-22T13:03:21.600000",
          "2020-12-23T06:43:12",
          "2020-12-24T00:23:02.400000",
          "2020-12-24T18:02:52.800000",
          "2020-12-25T11:42:43.200000",
          "2020-12-26T05:22:33.600000",
          "2020-12-26T23:02:24",
          "2020-12-27T16:42:14.400000",
          "2020-12-28T10:22:04.800000",
          "2020-12-29T04:01:55.200000",
          "2020-12-29T21:41:45.600000",
          "2020-12-30T15:21:36",
          "2020-12-31T09:01:26.400000",
          "2021-01-01T02:41:16.800000",
          "2021-01-01T20:21:07.200000",
          "2021-01-02T14:00:57.600000",
          "2021-01-03T07:40:48",
          "2021-01-04T01:20:38.400000",
          "2021-01-04T19:00:28.800000",
          "2021-01-05T12:40:19.200000",
          "2021-01-06T06:20:09.600000"
         ],
         "xaxis": "x",
         "y": [
          1.5251630571962152e-17,
          1.5529862518374555e-17,
          1.5807399573736684e-17,
          1.6084075528733184e-17,
          1.6359725528927274e-17,
          1.6634186363996903e-17,
          1.690729675201794e-17,
          1.7178897617984753e-17,
          1.7448832365701154e-17,
          1.7716947142285235e-17,
          1.7983091094489886e-17,
          1.8247116616122862e-17,
          1.8508879585886395e-17,
          1.8768239594954414e-17,
          1.9025060163720285e-17,
          1.927920894711397e-17,
          1.953055792801748e-17,
          1.9778983598277947e-17,
          2.0024367126947653e-17,
          2.026659451536613e-17,
          2.0505556738796026e-17,
          2.0741149874380404e-17,
          2.0973275215204584e-17,
          2.1201839370366382e-17,
          2.1426754350943267e-17,
          2.164793764187244e-17,
          2.186531225975222e-17,
          2.2078806796666844e-17,
          2.2288355450188828e-17,
          2.2493898039729055e-17,
          2.2695380009511756e-17,
          2.2892752418435845e-17,
          2.3085971917194097e-17,
          2.327500071300149e-17,
          2.3459806522385786e-17,
          2.3640362512477866e-17,
          2.3816647231307792e-17,
          2.3988644527642142e-17,
          2.415634346089789e-17,
          2.431973820173964e-17,
          2.4478827923937034e-17,
          2.463361668812826e-17,
          2.478411331810515e-17,
          2.4930331270274953e-17,
          2.507228849696014e-17,
          2.5210007304176305e-17,
          2.5343514204569327e-17,
          2.5472839766146244e-17,
          2.5598018457470888e-17,
          2.5719088489945528e-17,
          2.5836091657826367e-17,
          2.594907317657164e-17,
          2.6058081520124727e-17,
          2.6163168257713416e-17,
          2.6264387890704585e-17,
          2.636179769005902e-17,
          2.645545753487153e-17,
          2.6545429752484045e-17,
          2.6631778960602524e-17,
          2.671457191183389e-17,
          2.6793877341025057e-17,
          2.6869765815740054e-17,
          2.6942309590198263e-17,
          2.7011582462938294e-17,
          2.7077659638462514e-17,
          2.7140617593057735e-17,
          2.7200533944977227e-17,
          2.725748732911447e-17,
          2.731155727627979e-17,
          2.7362824097155947e-17,
          2.741136877096903e-17,
          2.7457272838895568e-17,
          2.7500618302182368e-17,
          2.7541487524941838e-17,
          2.7579963141548592e-17,
          2.7616127968546363e-17,
          2.7650064920950607e-17,
          2.768185693280637e-17,
          2.7711586881852153e-17,
          2.7739337518112368e-17,
          2.776519139623802e-17,
          2.7789230811391877e-17,
          2.7811537738473363e-17,
          2.7832193774461905e-17,
          2.7851280083656865e-17,
          2.7868877345584683e-17,
          2.7885065705340864e-17,
          2.789992472613727e-17,
          2.7913533343820843e-17,
          2.792596982313836e-17,
          2.7937311715521896e-17,
          2.794763581817825e-17,
          2.7957018134273365e-17,
          2.7965533834008914e-17,
          2.797325721640246e-17,
          2.798026167159033e-17,
          2.798661964348793e-17,
          2.799240259265239e-17,
          2.799768095920967e-17,
          2.8002524125721366e-17,
          2.800700037988213e-17,
          2.801117687695526e-17,
          2.801511960186927e-17,
          2.801889333091643e-17,
          2.8022561593008997e-17,
          2.802618663046693e-17,
          2.802982935932768e-17,
          2.8033549329183586e-17,
          2.803740468257086e-17,
          2.804145211394785e-17,
          2.80457468283173e-17,
          2.8050342499561653e-17,
          2.8055291228574726e-17,
          2.806064350128653e-17,
          2.806644814669185e-17,
          2.807275229500488e-17,
          2.8079601336072634e-17,
          2.8087038878192684e-17,
          2.8095106707487405e-17,
          2.810384474799848e-17,
          2.8113291022670213e-17,
          2.8123481615398797e-17,
          2.813445063433008e-17,
          2.81462301765909e-17,
          2.8158850294645066e-17,
          2.817233896446595e-17,
          2.818672205571868e-17,
          2.820202330414512e-17,
          2.821826428634564e-17,
          2.8235464397145687e-17,
          2.825364082973548e-17,
          2.827280855876639e-17,
          2.8292980326578905e-17,
          2.831416663273584e-17,
          2.8336375727021736e-17,
          2.8359613606065267e-17,
          2.8383884013728356e-17,
          2.840918844539863e-17,
          2.8435526156306815e-17,
          2.846289417398154e-17,
          2.84912873149403e-17,
          2.852069820569809e-17,
          2.855111730816689e-17,
          2.858253294949641e-17,
          2.861493135639797e-17,
          2.864829669396943e-17,
          2.868261110902772e-17,
          2.871785477793612e-17,
          2.875400595889262e-17,
          2.8791041048633787e-17,
          2.8828934643481536e-17,
          2.886765960465133e-17,
          2.8907187127711535e-17,
          2.894748681607488e-17,
          2.8988526758375085e-17,
          2.903027360957028e-17,
          2.907269267559538e-17,
          2.9115748001362546e-17,
          2.9159402461901974e-17,
          2.920361785640614e-17,
          2.924835500493839e-17,
          2.9293573847538116e-17,
          2.933923354545077e-17,
          2.938529258419469e-17,
          2.9431708878159605e-17,
          2.9478439876431026e-17,
          2.952544266951201e-17,
          2.9572674096619576e-17,
          2.9620090853210745e-17,
          2.966764959840306e-17,
          2.97153070619368e-17,
          2.976302015033111e-17,
          2.98107460518871e-17,
          2.985844234018192e-17,
          2.990606707571366e-17,
          2.995357890534709e-17,
          3.0000937159230564e-17,
          3.0048101944847716e-17,
          3.009503423788749e-17,
          3.0141695969624355e-17,
          3.0188050110507466e-17,
          3.0234060749682673e-17,
          3.027969317017414e-17,
          3.032491391948372e-17,
          3.0369690875370167e-17,
          3.0413993306605166e-17,
          3.0457791928511045e-17,
          3.05010589531167e-17,
          3.0543768133790035e-17,
          3.058589480422301e-17,
          3.0627415911682315e-17,
          3.066831004445158e-17,
          3.070855745342856e-17,
          3.0748140067859173e-17,
          3.078704150521971e-17,
          3.082524707528993e-17,
          3.086274377847594e-17,
          3.089952029847962e-17,
          3.093556698942856e-17,
          3.097087585761149e-17,
          3.1005440537983224e-17,
          3.1039256265633774e-17,
          3.107231984243082e-17,
          3.110462959907178e-17,
          3.113618535280116e-17,
          3.116698836106177e-17,
          3.1197041271374325e-17,
          3.122634806774533e-17,
          3.125491401392526e-17,
          3.128274559384345e-17,
          3.1309850449558696e-17,
          3.133623731707413e-17,
          3.136191596036413e-17,
          3.138689710397117e-17,
          3.141119236452445e-17,
          3.143481418153953e-17,
          3.145777574784518e-17,
          3.148009093998654e-17,
          3.15017742489427e-17,
          3.1522840711485075e-17,
          3.154330584249789e-17,
          3.1563185568561354e-17,
          3.158249616309003e-17,
          3.1601254183295196e-17,
          3.161947640922907e-17,
          3.163717978514262e-17,
          3.165438136337125e-17,
          3.167109825094083e-17,
          3.1687347559060253e-17,
          3.1703146355646684e-17,
          3.171851162100246e-17,
          3.1733460206738755e-17,
          3.174800879801558e-17,
          3.176217387914134e-17,
          3.177597170255333e-17,
          3.1789418261168875e-17,
          3.180252926408038e-17,
          3.181532011553561e-17,
          3.182780589712783e-17,
          3.1840001353092506e-17,
          3.185192087859089e-17,
          3.186357851083615e-17,
          3.187498792290278e-17,
          3.1886162420040954e-17,
          3.189711493830108e-17,
          3.1907858045262927e-17,
          3.191840394264719e-17,
          3.1928764470582346e-17,
          3.193895111328612e-17,
          3.1948975005918497e-17,
          3.195884694235784e-17,
          3.196857738364767e-17,
          3.1978176466865276e-17,
          3.1987654014160656e-17,
          3.199701954172254e-17,
          3.2006282268431045e-17,
          3.201545112396576e-17,
          3.202453475614809e-17,
          3.203354153730632e-17,
          3.2042479569468e-17,
          3.205135668819579e-17,
          3.2060180464901834e-17,
          3.2068958207491776e-17,
          3.207769695920906e-17,
          3.2086403495569674e-17,
          3.209508431929883e-17,
          3.2103745653202083e-17,
          3.211239343092665e-17,
          3.212103328559013e-17,
          3.2129670536277715e-17,
          3.213831017243235e-17,
          3.2146956836184255e-17,
          3.215561480269042e-17,
          3.21642879585768e-17,
          3.217297977859697e-17,
          3.218169330064509e-17,
          3.2190431099276915e-17,
          3.21991952579187e-17,
          3.2207987339954595e-17,
          3.221680835890767e-17,
          3.222565874793998e-17,
          3.22345383289151e-17,
          3.2243446281276896e-17,
          3.2252381111011783e-17,
          3.2261340619968915e-17,
          3.2270321875821194e-17,
          3.227932118295763e-17,
          3.2288334054597143e-17,
          3.22973551864204e-17,
          3.230637843201338e-17,
          3.2315396780414176e-17,
          3.232440233605327e-17,
          3.233338630136788e-17,
          3.23423389623654e-17,
          3.235124967740103e-17,
          3.236010686942178e-17,
          3.236889802191682e-17,
          3.2377609678797774e-17,
          3.2386227448417774e-17,
          3.2394736011916804e-17,
          3.2403119136063387e-17,
          3.2411359690740746e-17,
          3.2419439671202825e-17,
          3.2427340225201696e-17,
          3.2435041685064834e-17,
          3.2442523604773134e-17,
          3.244976480206597e-17,
          3.2456743405572016e-17,
          3.24634369069371e-17,
          3.2469822217893604e-17,
          3.2475875732186373e-17,
          3.248157339224436e-17,
          3.248689076045757e-17,
          3.2491803094891584e-17,
          3.249628542924664e-17,
          3.250031265683739e-17,
          3.2503859618348853e-17,
          3.250690119309339e-17,
          3.250941239347311e-17,
          3.251136846232614e-17,
          3.2512744972814845e-17,
          3.251351793049212e-17,
          3.2513663877161466e-17,
          3.251315999613129e-17,
          3.2511984218443494e-17,
          3.251011532964498e-17,
          3.2507533076655175e-17,
          3.2504218274272627e-17,
          3.250015291085427e-17,
          3.249532025269262e-17,
          3.248970494661149e-17,
          3.2483293120297124e-17,
          3.2476072479880415e-17,
          3.2468032404286555e-17,
          3.245916403587117e-17,
          3.244946036686709e-17,
          3.2438916321173996e-17,
          3.2427528831029603e-17,
          3.2415296908117664e-17,
          3.2402221708673967e-17,
          3.238830659217558e-17,
          3.237355717320873e-17,
          3.2357981366134343e-17,
          3.234158942219065e-17,
          3.2324393958693934e-17,
          3.2306409980026665e-17,
          3.2287654890123256e-17,
          3.226814849619897e-17,
          3.224791300348959e-17,
          3.222697300080643e-17,
          3.220535543673877e-17,
          3.2183089586371734e-17,
          3.2160207008421476e-17,
          3.213674149272203e-17,
          3.2112728998038627e-17,
          3.208820758021254e-17,
          3.2063217310685737e-17,
          3.2037800185484496e-17,
          3.201200002478335e-17,
          3.1985862363204126e-17,
          3.195943433104382e-17,
          3.1932764526662173e-17,
          3.190590288029221e-17,
          3.18789005095796e-17,
          3.185180956718187e-17,
          3.1824683080803106e-17,
          3.179757478606206e-17,
          3.177053895263216e-17,
          3.174363020411573e-17,
          3.1716903332146224e-17,
          3.169041310524037e-17,
          3.166421407294379e-17,
          3.163836036584258e-17,
          3.1612905492029074e-17,
          3.158790213063566e-17,
          3.15634019230614e-17,
          3.1539455262538496e-17,
          3.151611108269343e-17,
          3.1493416645768856e-17,
          3.1471417331185055e-17,
          3.145015642511893e-17,
          3.1429674911787943e-17,
          3.141001126712332e-17,
          3.13912012555173e-17,
          3.1373277730326683e-17,
          3.135627043880242e-17,
          3.1340205832116104e-17,
          3.1325106881132834e-17,
          3.131099289857428e-17,
          3.12978793681947e-17,
          3.128577778157943e-17,
          3.127469548315025e-17,
          3.126463552394463e-17,
          3.125559652470932e-17,
          3.124757254882296e-17,
          3.1240552985536895e-17,
          3.123452244399114e-17,
          3.1229460658435515e-17,
          3.1225342405050986e-17,
          3.122213743073502e-17,
          3.121981039418009e-17,
          3.121832081953919e-17,
          3.1217623062936875e-17,
          3.1217666292047346e-17,
          3.121839447892458e-17,
          3.121974640623092e-17,
          3.122165568697636e-17,
          3.122405079783721e-17,
          3.122685512609175e-17,
          3.1229987030167967e-17,
          3.1233359913764416e-17,
          3.123688231346606e-17,
          3.1240457999743964e-17,
          3.1243986091187293e-17,
          3.124736118178704e-17,
          3.12504734810517e-17,
          3.1253208966704914e-17,
          3.1255449549682365e-17,
          3.125707325111313e-17,
          3.1257954390942084e-17,
          3.125796378782081e-17,
          3.125696896986523e-17,
          3.125483439585444e-17,
          3.125142168641862e-17,
          3.1246589864739247e-17,
          3.1240195606265816e-17,
          3.1232093496927194e-17,
          3.12221362993008e-17,
          3.121017522618085e-17,
          3.1196060220972593e-17,
          3.1179640244320914e-17,
          3.1160763566369287e-17,
          3.113927806403231e-17,
          3.1115031522649855e-17,
          3.1087871941385546e-17,
          3.1057647841716984e-17,
          3.102420857836301e-17,
          3.098740465198026e-17,
          3.0947088022961215e-17,
          3.090311242565797e-17,
          3.0855333682351263e-17,
          3.0803610016288135e-17,
          3.074780236310076e-17,
          3.0687774679930676e-17,
          3.062339425157015e-17,
          3.055453199294939e-17,
          3.048106274728584e-17,
          3.0402865579230636e-17,
          3.0319824062343824e-17,
          3.0231826560234926e-17,
          3.013876650072627e-17,
          3.004054264238389e-17,
          2.993705933279669e-17,
          2.982822675796881e-17,
          2.9713961182226545e-17,
          2.959418517804192e-17,
          2.946882784518512e-17,
          2.9337825018657044e-17,
          2.9201119464838186e-17,
          2.9058661065345595e-17,
          2.8910406988072104e-17,
          2.8756321844944554e-17,
          2.859637783591872e-17,
          2.843055487879293e-17,
          2.8258840724424505e-17,
          2.8081231056958007e-17,
          2.78977295787352e-17,
          2.7708348079537816e-17,
          2.7513106489903267e-17,
          2.7312032918229706e-17,
          2.710516367147305e-17,
          2.6892543259244068e-17,
          2.6674224381148848e-17,
          2.6450267897291696e-17,
          2.62207427818416e-17,
          2.59857260596708e-17,
          2.5745302726048142e-17,
          2.5499565649482205e-17,
          2.5248615457783025e-17,
          2.4992560407520103e-17,
          2.4731516237057478e-17,
          2.4465606003393526e-17,
          2.4194959903118706e-17,
          2.3919715077783532e-17,
          2.3640015404091562e-17,
          2.335601126929723e-17,
          2.3067859332306168e-17,
          2.2775722270972556e-17,
          2.2479768516131414e-17,
          2.21801719729925e-17,
          2.1877111730486928e-17,
          2.1570771759283434e-17,
          2.1261340599139147e-17,
          2.094901103637634e-17,
          2.0633979772218796e-17,
          2.0316447082835653e-17,
          1.9996616471916354e-17,
          1.9674694316627818e-17,
          1.9350889507881323e-17,
          1.9025413085771243e-17
         ],
         "yaxis": "y"
        },
        {
         "fill": "tozeroy",
         "hovertemplate": "<b>Synthetic</b><br>Value: %{x}<br>Frequency: %{y}<extra></extra>",
         "legendgroup": "Synthetic",
         "marker": {
          "color": "#01E0C9"
         },
         "mode": "lines",
         "name": "Synthetic",
         "showlegend": true,
         "type": "scatter",
         "x": [
          "2020-01-05T00:00:00",
          "2020-01-05T17:36:57.600000",
          "2020-01-06T11:13:55.200000",
          "2020-01-07T04:50:52.800000",
          "2020-01-07T22:27:50.400000",
          "2020-01-08T16:04:48",
          "2020-01-09T09:41:45.600000",
          "2020-01-10T03:18:43.200000",
          "2020-01-10T20:55:40.800000",
          "2020-01-11T14:32:38.400000",
          "2020-01-12T08:09:36",
          "2020-01-13T01:46:33.600000",
          "2020-01-13T19:23:31.200000",
          "2020-01-14T13:00:28.800000",
          "2020-01-15T06:37:26.400000",
          "2020-01-16T00:14:24",
          "2020-01-16T17:51:21.600000",
          "2020-01-17T11:28:19.200000",
          "2020-01-18T05:05:16.800000",
          "2020-01-18T22:42:14.400000",
          "2020-01-19T16:19:12",
          "2020-01-20T09:56:09.600000",
          "2020-01-21T03:33:07.200000",
          "2020-01-21T21:10:04.800000",
          "2020-01-22T14:47:02.400000",
          "2020-01-23T08:24:00",
          "2020-01-24T02:00:57.600000",
          "2020-01-24T19:37:55.200000",
          "2020-01-25T13:14:52.800000",
          "2020-01-26T06:51:50.400000",
          "2020-01-27T00:28:48",
          "2020-01-27T18:05:45.600000",
          "2020-01-28T11:42:43.200000",
          "2020-01-29T05:19:40.800000",
          "2020-01-29T22:56:38.400000",
          "2020-01-30T16:33:36",
          "2020-01-31T10:10:33.600000",
          "2020-02-01T03:47:31.200000",
          "2020-02-01T21:24:28.800000",
          "2020-02-02T15:01:26.400000",
          "2020-02-03T08:38:24",
          "2020-02-04T02:15:21.600000",
          "2020-02-04T19:52:19.200000",
          "2020-02-05T13:29:16.800000",
          "2020-02-06T07:06:14.400000",
          "2020-02-07T00:43:12",
          "2020-02-07T18:20:09.600000",
          "2020-02-08T11:57:07.200000",
          "2020-02-09T05:34:04.800000",
          "2020-02-09T23:11:02.400000",
          "2020-02-10T16:48:00",
          "2020-02-11T10:24:57.600000",
          "2020-02-12T04:01:55.200000",
          "2020-02-12T21:38:52.800000",
          "2020-02-13T15:15:50.400000",
          "2020-02-14T08:52:48",
          "2020-02-15T02:29:45.600000",
          "2020-02-15T20:06:43.200000",
          "2020-02-16T13:43:40.800000",
          "2020-02-17T07:20:38.400000",
          "2020-02-18T00:57:36",
          "2020-02-18T18:34:33.600000",
          "2020-02-19T12:11:31.200000",
          "2020-02-20T05:48:28.800000",
          "2020-02-20T23:25:26.400000",
          "2020-02-21T17:02:24",
          "2020-02-22T10:39:21.600000",
          "2020-02-23T04:16:19.200000",
          "2020-02-23T21:53:16.800000",
          "2020-02-24T15:30:14.400000",
          "2020-02-25T09:07:12",
          "2020-02-26T02:44:09.600000",
          "2020-02-26T20:21:07.200000",
          "2020-02-27T13:58:04.800000",
          "2020-02-28T07:35:02.400000",
          "2020-02-29T01:12:00",
          "2020-02-29T18:48:57.600000",
          "2020-03-01T12:25:55.200000",
          "2020-03-02T06:02:52.800000",
          "2020-03-02T23:39:50.400000",
          "2020-03-03T17:16:48",
          "2020-03-04T10:53:45.600000",
          "2020-03-05T04:30:43.200000",
          "2020-03-05T22:07:40.800000",
          "2020-03-06T15:44:38.400000",
          "2020-03-07T09:21:36",
          "2020-03-08T02:58:33.600000",
          "2020-03-08T20:35:31.200000",
          "2020-03-09T14:12:28.800000",
          "2020-03-10T07:49:26.400000",
          "2020-03-11T01:26:24",
          "2020-03-11T19:03:21.600000",
          "2020-03-12T12:40:19.200000",
          "2020-03-13T06:17:16.800000",
          "2020-03-13T23:54:14.400000",
          "2020-03-14T17:31:12",
          "2020-03-15T11:08:09.600000",
          "2020-03-16T04:45:07.200000",
          "2020-03-16T22:22:04.800000",
          "2020-03-17T15:59:02.400000",
          "2020-03-18T09:36:00",
          "2020-03-19T03:12:57.600000",
          "2020-03-19T20:49:55.200000",
          "2020-03-20T14:26:52.800000",
          "2020-03-21T08:03:50.400000",
          "2020-03-22T01:40:48",
          "2020-03-22T19:17:45.600000",
          "2020-03-23T12:54:43.200000",
          "2020-03-24T06:31:40.800000",
          "2020-03-25T00:08:38.400000",
          "2020-03-25T17:45:36",
          "2020-03-26T11:22:33.600000",
          "2020-03-27T04:59:31.200000",
          "2020-03-27T22:36:28.800000",
          "2020-03-28T16:13:26.400000",
          "2020-03-29T09:50:24",
          "2020-03-30T03:27:21.600000",
          "2020-03-30T21:04:19.200000",
          "2020-03-31T14:41:16.800000",
          "2020-04-01T08:18:14.400000",
          "2020-04-02T01:55:12",
          "2020-04-02T19:32:09.600000",
          "2020-04-03T13:09:07.200000",
          "2020-04-04T06:46:04.800000",
          "2020-04-05T00:23:02.400000",
          "2020-04-05T18:00:00",
          "2020-04-06T11:36:57.600000",
          "2020-04-07T05:13:55.200000",
          "2020-04-07T22:50:52.800000",
          "2020-04-08T16:27:50.400000",
          "2020-04-09T10:04:48",
          "2020-04-10T03:41:45.600000",
          "2020-04-10T21:18:43.200000",
          "2020-04-11T14:55:40.800000",
          "2020-04-12T08:32:38.400000",
          "2020-04-13T02:09:36",
          "2020-04-13T19:46:33.600000",
          "2020-04-14T13:23:31.200000",
          "2020-04-15T07:00:28.800000",
          "2020-04-16T00:37:26.400000",
          "2020-04-16T18:14:24",
          "2020-04-17T11:51:21.600000",
          "2020-04-18T05:28:19.200000",
          "2020-04-18T23:05:16.800000",
          "2020-04-19T16:42:14.400000",
          "2020-04-20T10:19:12",
          "2020-04-21T03:56:09.600000",
          "2020-04-21T21:33:07.200000",
          "2020-04-22T15:10:04.800000",
          "2020-04-23T08:47:02.400000",
          "2020-04-24T02:24:00",
          "2020-04-24T20:00:57.600000",
          "2020-04-25T13:37:55.200000",
          "2020-04-26T07:14:52.800000",
          "2020-04-27T00:51:50.400000",
          "2020-04-27T18:28:48",
          "2020-04-28T12:05:45.600000",
          "2020-04-29T05:42:43.200000",
          "2020-04-29T23:19:40.800000",
          "2020-04-30T16:56:38.400000",
          "2020-05-01T10:33:36",
          "2020-05-02T04:10:33.600000",
          "2020-05-02T21:47:31.200000",
          "2020-05-03T15:24:28.800000",
          "2020-05-04T09:01:26.400000",
          "2020-05-05T02:38:24",
          "2020-05-05T20:15:21.600000",
          "2020-05-06T13:52:19.200000",
          "2020-05-07T07:29:16.800000",
          "2020-05-08T01:06:14.400000",
          "2020-05-08T18:43:12",
          "2020-05-09T12:20:09.600000",
          "2020-05-10T05:57:07.200000",
          "2020-05-10T23:34:04.800000",
          "2020-05-11T17:11:02.400000",
          "2020-05-12T10:48:00",
          "2020-05-13T04:24:57.600000",
          "2020-05-13T22:01:55.200000",
          "2020-05-14T15:38:52.800000",
          "2020-05-15T09:15:50.400000",
          "2020-05-16T02:52:48",
          "2020-05-16T20:29:45.600000",
          "2020-05-17T14:06:43.200000",
          "2020-05-18T07:43:40.800000",
          "2020-05-19T01:20:38.400000",
          "2020-05-19T18:57:36",
          "2020-05-20T12:34:33.600000",
          "2020-05-21T06:11:31.200000",
          "2020-05-21T23:48:28.800000",
          "2020-05-22T17:25:26.400000",
          "2020-05-23T11:02:24",
          "2020-05-24T04:39:21.600000",
          "2020-05-24T22:16:19.200000",
          "2020-05-25T15:53:16.800000",
          "2020-05-26T09:30:14.400000",
          "2020-05-27T03:07:12",
          "2020-05-27T20:44:09.600000",
          "2020-05-28T14:21:07.200000",
          "2020-05-29T07:58:04.800000",
          "2020-05-30T01:35:02.400000",
          "2020-05-30T19:12:00",
          "2020-05-31T12:48:57.600000",
          "2020-06-01T06:25:55.200000",
          "2020-06-02T00:02:52.800000",
          "2020-06-02T17:39:50.400000",
          "2020-06-03T11:16:48",
          "2020-06-04T04:53:45.600000",
          "2020-06-04T22:30:43.200000",
          "2020-06-05T16:07:40.800000",
          "2020-06-06T09:44:38.400000",
          "2020-06-07T03:21:36",
          "2020-06-07T20:58:33.600000",
          "2020-06-08T14:35:31.200000",
          "2020-06-09T08:12:28.800000",
          "2020-06-10T01:49:26.400000",
          "2020-06-10T19:26:24",
          "2020-06-11T13:03:21.600000",
          "2020-06-12T06:40:19.200000",
          "2020-06-13T00:17:16.800000",
          "2020-06-13T17:54:14.400000",
          "2020-06-14T11:31:12",
          "2020-06-15T05:08:09.600000",
          "2020-06-15T22:45:07.200000",
          "2020-06-16T16:22:04.800000",
          "2020-06-17T09:59:02.400000",
          "2020-06-18T03:36:00",
          "2020-06-18T21:12:57.600000",
          "2020-06-19T14:49:55.200000",
          "2020-06-20T08:26:52.800000",
          "2020-06-21T02:03:50.400000",
          "2020-06-21T19:40:48",
          "2020-06-22T13:17:45.600000",
          "2020-06-23T06:54:43.200000",
          "2020-06-24T00:31:40.800000",
          "2020-06-24T18:08:38.400000",
          "2020-06-25T11:45:36",
          "2020-06-26T05:22:33.600000",
          "2020-06-26T22:59:31.200000",
          "2020-06-27T16:36:28.800000",
          "2020-06-28T10:13:26.400000",
          "2020-06-29T03:50:24",
          "2020-06-29T21:27:21.600000",
          "2020-06-30T15:04:19.200000",
          "2020-07-01T08:41:16.800000",
          "2020-07-02T02:18:14.400000",
          "2020-07-02T19:55:12",
          "2020-07-03T13:32:09.600000",
          "2020-07-04T07:09:07.200000",
          "2020-07-05T00:46:04.800000",
          "2020-07-05T18:23:02.400000",
          "2020-07-06T12:00:00",
          "2020-07-07T05:36:57.600000",
          "2020-07-07T23:13:55.200000",
          "2020-07-08T16:50:52.800000",
          "2020-07-09T10:27:50.400000",
          "2020-07-10T04:04:48",
          "2020-07-10T21:41:45.600000",
          "2020-07-11T15:18:43.200000",
          "2020-07-12T08:55:40.800000",
          "2020-07-13T02:32:38.400000",
          "2020-07-13T20:09:36",
          "2020-07-14T13:46:33.600000",
          "2020-07-15T07:23:31.200000",
          "2020-07-16T01:00:28.800000",
          "2020-07-16T18:37:26.400000",
          "2020-07-17T12:14:24",
          "2020-07-18T05:51:21.600000",
          "2020-07-18T23:28:19.200000",
          "2020-07-19T17:05:16.800000",
          "2020-07-20T10:42:14.400000",
          "2020-07-21T04:19:12",
          "2020-07-21T21:56:09.600000",
          "2020-07-22T15:33:07.200000",
          "2020-07-23T09:10:04.800000",
          "2020-07-24T02:47:02.400000",
          "2020-07-24T20:24:00",
          "2020-07-25T14:00:57.600000",
          "2020-07-26T07:37:55.200000",
          "2020-07-27T01:14:52.800000",
          "2020-07-27T18:51:50.400000",
          "2020-07-28T12:28:48",
          "2020-07-29T06:05:45.600000",
          "2020-07-29T23:42:43.200000",
          "2020-07-30T17:19:40.800000",
          "2020-07-31T10:56:38.400000",
          "2020-08-01T04:33:36",
          "2020-08-01T22:10:33.600000",
          "2020-08-02T15:47:31.200000",
          "2020-08-03T09:24:28.800000",
          "2020-08-04T03:01:26.400000",
          "2020-08-04T20:38:24",
          "2020-08-05T14:15:21.600000",
          "2020-08-06T07:52:19.200000",
          "2020-08-07T01:29:16.800000",
          "2020-08-07T19:06:14.400000",
          "2020-08-08T12:43:12",
          "2020-08-09T06:20:09.600000",
          "2020-08-09T23:57:07.200000",
          "2020-08-10T17:34:04.800000",
          "2020-08-11T11:11:02.400000",
          "2020-08-12T04:48:00",
          "2020-08-12T22:24:57.600000",
          "2020-08-13T16:01:55.200000",
          "2020-08-14T09:38:52.800000",
          "2020-08-15T03:15:50.400000",
          "2020-08-15T20:52:48",
          "2020-08-16T14:29:45.600000",
          "2020-08-17T08:06:43.200000",
          "2020-08-18T01:43:40.800000",
          "2020-08-18T19:20:38.400000",
          "2020-08-19T12:57:36",
          "2020-08-20T06:34:33.600000",
          "2020-08-21T00:11:31.200000",
          "2020-08-21T17:48:28.800000",
          "2020-08-22T11:25:26.400000",
          "2020-08-23T05:02:24",
          "2020-08-23T22:39:21.600000",
          "2020-08-24T16:16:19.200000",
          "2020-08-25T09:53:16.800000",
          "2020-08-26T03:30:14.400000",
          "2020-08-26T21:07:12",
          "2020-08-27T14:44:09.600000",
          "2020-08-28T08:21:07.200000",
          "2020-08-29T01:58:04.800000",
          "2020-08-29T19:35:02.400000",
          "2020-08-30T13:12:00",
          "2020-08-31T06:48:57.600000",
          "2020-09-01T00:25:55.200000",
          "2020-09-01T18:02:52.800000",
          "2020-09-02T11:39:50.400000",
          "2020-09-03T05:16:48",
          "2020-09-03T22:53:45.600000",
          "2020-09-04T16:30:43.200000",
          "2020-09-05T10:07:40.800000",
          "2020-09-06T03:44:38.400000",
          "2020-09-06T21:21:36",
          "2020-09-07T14:58:33.600000",
          "2020-09-08T08:35:31.200000",
          "2020-09-09T02:12:28.800000",
          "2020-09-09T19:49:26.400000",
          "2020-09-10T13:26:24",
          "2020-09-11T07:03:21.600000",
          "2020-09-12T00:40:19.200000",
          "2020-09-12T18:17:16.800000",
          "2020-09-13T11:54:14.400000",
          "2020-09-14T05:31:12",
          "2020-09-14T23:08:09.600000",
          "2020-09-15T16:45:07.200000",
          "2020-09-16T10:22:04.800000",
          "2020-09-17T03:59:02.400000",
          "2020-09-17T21:36:00",
          "2020-09-18T15:12:57.600000",
          "2020-09-19T08:49:55.200000",
          "2020-09-20T02:26:52.800000",
          "2020-09-20T20:03:50.400000",
          "2020-09-21T13:40:48",
          "2020-09-22T07:17:45.600000",
          "2020-09-23T00:54:43.200000",
          "2020-09-23T18:31:40.800000",
          "2020-09-24T12:08:38.400000",
          "2020-09-25T05:45:36",
          "2020-09-25T23:22:33.600000",
          "2020-09-26T16:59:31.200000",
          "2020-09-27T10:36:28.800000",
          "2020-09-28T04:13:26.400000",
          "2020-09-28T21:50:24",
          "2020-09-29T15:27:21.600000",
          "2020-09-30T09:04:19.200000",
          "2020-10-01T02:41:16.800000",
          "2020-10-01T20:18:14.400000",
          "2020-10-02T13:55:12",
          "2020-10-03T07:32:09.600000",
          "2020-10-04T01:09:07.200000",
          "2020-10-04T18:46:04.800000",
          "2020-10-05T12:23:02.400000",
          "2020-10-06T06:00:00",
          "2020-10-06T23:36:57.600000",
          "2020-10-07T17:13:55.200000",
          "2020-10-08T10:50:52.800000",
          "2020-10-09T04:27:50.400000",
          "2020-10-09T22:04:48",
          "2020-10-10T15:41:45.600000",
          "2020-10-11T09:18:43.200000",
          "2020-10-12T02:55:40.800000",
          "2020-10-12T20:32:38.400000",
          "2020-10-13T14:09:36",
          "2020-10-14T07:46:33.600000",
          "2020-10-15T01:23:31.200000",
          "2020-10-15T19:00:28.800000",
          "2020-10-16T12:37:26.400000",
          "2020-10-17T06:14:24",
          "2020-10-17T23:51:21.600000",
          "2020-10-18T17:28:19.200000",
          "2020-10-19T11:05:16.800000",
          "2020-10-20T04:42:14.400000",
          "2020-10-20T22:19:12",
          "2020-10-21T15:56:09.600000",
          "2020-10-22T09:33:07.200000",
          "2020-10-23T03:10:04.800000",
          "2020-10-23T20:47:02.400000",
          "2020-10-24T14:24:00",
          "2020-10-25T08:00:57.600000",
          "2020-10-26T01:37:55.200000",
          "2020-10-26T19:14:52.800000",
          "2020-10-27T12:51:50.400000",
          "2020-10-28T06:28:48",
          "2020-10-29T00:05:45.600000",
          "2020-10-29T17:42:43.200000",
          "2020-10-30T11:19:40.800000",
          "2020-10-31T04:56:38.400000",
          "2020-10-31T22:33:36",
          "2020-11-01T16:10:33.600000",
          "2020-11-02T09:47:31.200000",
          "2020-11-03T03:24:28.800000",
          "2020-11-03T21:01:26.400000",
          "2020-11-04T14:38:24",
          "2020-11-05T08:15:21.600000",
          "2020-11-06T01:52:19.200000",
          "2020-11-06T19:29:16.800000",
          "2020-11-07T13:06:14.400000",
          "2020-11-08T06:43:12",
          "2020-11-09T00:20:09.600000",
          "2020-11-09T17:57:07.200000",
          "2020-11-10T11:34:04.800000",
          "2020-11-11T05:11:02.400000",
          "2020-11-11T22:48:00",
          "2020-11-12T16:24:57.600000",
          "2020-11-13T10:01:55.200000",
          "2020-11-14T03:38:52.800000",
          "2020-11-14T21:15:50.400000",
          "2020-11-15T14:52:48",
          "2020-11-16T08:29:45.600000",
          "2020-11-17T02:06:43.200000",
          "2020-11-17T19:43:40.800000",
          "2020-11-18T13:20:38.400000",
          "2020-11-19T06:57:36",
          "2020-11-20T00:34:33.600000",
          "2020-11-20T18:11:31.200000",
          "2020-11-21T11:48:28.800000",
          "2020-11-22T05:25:26.400000",
          "2020-11-22T23:02:24",
          "2020-11-23T16:39:21.600000",
          "2020-11-24T10:16:19.200000",
          "2020-11-25T03:53:16.800000",
          "2020-11-25T21:30:14.400000",
          "2020-11-26T15:07:12",
          "2020-11-27T08:44:09.600000",
          "2020-11-28T02:21:07.200000",
          "2020-11-28T19:58:04.800000",
          "2020-11-29T13:35:02.400000",
          "2020-11-30T07:12:00",
          "2020-12-01T00:48:57.600000",
          "2020-12-01T18:25:55.200000",
          "2020-12-02T12:02:52.800000",
          "2020-12-03T05:39:50.400000",
          "2020-12-03T23:16:48",
          "2020-12-04T16:53:45.600000",
          "2020-12-05T10:30:43.200000",
          "2020-12-06T04:07:40.800000",
          "2020-12-06T21:44:38.400000",
          "2020-12-07T15:21:36",
          "2020-12-08T08:58:33.600000",
          "2020-12-09T02:35:31.200000",
          "2020-12-09T20:12:28.800000",
          "2020-12-10T13:49:26.400000",
          "2020-12-11T07:26:24",
          "2020-12-12T01:03:21.600000",
          "2020-12-12T18:40:19.200000",
          "2020-12-13T12:17:16.800000",
          "2020-12-14T05:54:14.400000",
          "2020-12-14T23:31:12",
          "2020-12-15T17:08:09.600000",
          "2020-12-16T10:45:07.200000",
          "2020-12-17T04:22:04.800000",
          "2020-12-17T21:59:02.400000",
          "2020-12-18T15:36:00",
          "2020-12-19T09:12:57.600000",
          "2020-12-20T02:49:55.200000",
          "2020-12-20T20:26:52.800000",
          "2020-12-21T14:03:50.400000",
          "2020-12-22T07:40:48",
          "2020-12-23T01:17:45.600000",
          "2020-12-23T18:54:43.200000",
          "2020-12-24T12:31:40.800000",
          "2020-12-25T06:08:38.400000",
          "2020-12-25T23:45:36",
          "2020-12-26T17:22:33.600000",
          "2020-12-27T10:59:31.200000",
          "2020-12-28T04:36:28.800000",
          "2020-12-28T22:13:26.400000",
          "2020-12-29T15:50:24",
          "2020-12-30T09:27:21.600000",
          "2020-12-31T03:04:19.200000",
          "2020-12-31T20:41:16.800000",
          "2021-01-01T14:18:14.400000",
          "2021-01-02T07:55:12",
          "2021-01-03T01:32:09.600000",
          "2021-01-03T19:09:07.200000",
          "2021-01-04T12:46:04.800000",
          "2021-01-05T06:23:02.400000"
         ],
         "xaxis": "x",
         "y": [
          1.3070250612130106e-17,
          1.3317883144329581e-17,
          1.356549836557311e-17,
          1.3812965266650784e-17,
          1.406015336091552e-17,
          1.430693290246403e-17,
          1.4553175102455145e-17,
          1.479875234295803e-17,
          1.504353838779597e-17,
          1.5287408589820957e-17,
          1.5530240094066575e-17,
          1.577191203628183e-17,
          1.6012305736300488e-17,
          1.6251304885781484e-17,
          1.648879572983472e-17,
          1.6724667242067522e-17,
          1.695881129264833e-17,
          1.7191122808945106e-17,
          1.7421499928383207e-17,
          1.764984414315207e-17,
          1.787606043641855e-17,
          1.8100057409769448e-17,
          1.832174740157398e-17,
          1.8541046596046203e-17,
          1.875787512277817e-17,
          1.8972157146545414e-17,
          1.9183820947253295e-17,
          1.9392798989865343e-17,
          1.959902798424385e-17,
          1.9802448934825382e-17,
          2.0003007180087665e-17,
          2.0200652421827314e-17,
          2.03953387442448e-17,
          2.0587024622923016e-17,
          2.0775672923756124e-17,
          2.0961250891966815e-17,
          2.1143730131345914e-17,
          2.132308657387685e-17,
          2.1499300439965064e-17,
          2.167235618947106e-17,
          2.184224246381861e-17,
          2.2008952019443048e-17,
          2.2172481652870335e-17,
          2.2332832117765838e-17,
          2.24900080342706e-17,
          2.2644017791005442e-17,
          2.27948734401137e-17,
          2.2942590585732823e-17,
          2.3087188266325023e-17,
          2.3228688831272366e-17,
          2.3367117812194602e-17,
          2.3502503789432746e-17,
          2.3634878254155356e-17,
          2.3764275466572245e-17,
          2.3890732310713857e-17,
          2.4014288146274734e-17,
          2.4134984658000028e-17,
          2.425286570309773e-17,
          2.4367977157179638e-17,
          2.4480366759201688e-17,
          2.459008395590155e-17,
          2.4697179746209342e-17,
          2.480170652609996e-17,
          2.4903717934367e-17,
          2.5003268699760943e-17,
          2.510041448995365e-17,
          2.5195211762750724e-17,
          2.5287717619984133e-17,
          2.5377989664487652e-17,
          2.5466085860541254e-17,
          2.5552064398168258e-17,
          2.563598356162634e-17,
          2.5717901602437353e-17,
          2.5797876617264867e-17,
          2.5875966430926626e-17,
          2.5952228484819622e-17,
          2.6026719730991073e-17,
          2.6099496532084155e-17,
          2.617061456734912e-17,
          2.6240128744886114e-17,
          2.6308093120269593e-17,
          2.6374560821661753e-17,
          2.6439583981511727e-17,
          2.6503213674900294e-17,
          2.656549986456251e-17,
          2.6626491352605105e-17,
          2.6686235738892208e-17,
          2.6744779386062616e-17,
          2.6802167391107348e-17,
          2.6858443563409177e-17,
          2.691365040913287e-17,
          2.696782912181528e-17,
          2.7021019578996688e-17,
          2.7073260344703558e-17,
          2.7124588677572628e-17,
          2.717504054439524e-17,
          2.7224650638828897e-17,
          2.7273452405020575e-17,
          2.7321478065857808e-17,
          2.736875865555973e-17,
          2.7415324056302257e-17,
          2.7461203038558378e-17,
          2.7506423304835255e-17,
          2.755101153646712e-17,
          2.7594993443131194e-17,
          2.7638393814740662e-17,
          2.7681236575365566e-17,
          2.7723544838839017e-17,
          2.7765340965695695e-17,
          2.780664662110112e-17,
          2.7847482833428587e-17,
          2.788787005314365e-17,
          2.7927828211671607e-17,
          2.796737677991849e-17,
          2.8006534826136923e-17,
          2.804532107283286e-17,
          2.8083753952417863e-17,
          2.812185166133492e-17,
          2.8159632212385914e-17,
          2.81971134850157e-17,
          2.8234313273315444e-17,
          2.827124933152534e-17,
          2.830793941683889e-17,
          2.8344401329319494e-17,
          2.8380652948766376e-17,
          2.8416712268379316e-17,
          2.84525974250913e-17,
          2.8488326726459816e-17,
          2.852391867401928e-17,
          2.8559391983023636e-17,
          2.85947655985201e-17,
          2.8630058707713954e-17,
          2.866529074860731e-17,
          2.87004814149027e-17,
          2.87356506571902e-17,
          2.877081868044146e-17,
          2.880600593786075e-17,
          2.884123312115135e-17,
          2.8876521147269206e-17,
          2.8911891141758074e-17,
          2.894736441876109e-17,
          2.898296245782713e-17,
          2.901870687763537e-17,
          2.9054619406771317e-17,
          2.909072185170471e-17,
          2.912703606211827e-17,
          2.916358389375375e-17,
          2.9200387168944275e-17,
          2.9237467635007043e-17,
          2.9274846920683387e-17,
          2.931254649080789e-17,
          2.93505875994026e-17,
          2.9388991241389606e-17,
          2.9427778103117754e-17,
          2.9466968511907904e-17,
          2.9506582384812635e-17,
          2.9546639176797054e-17,
          2.9587157828541355e-17,
          2.9628156714064116e-17,
          2.9669653588373744e-17,
          2.971166553533987e-17,
          2.975420891598765e-17,
          2.979729931740852e-17,
          2.984095150247521e-17,
          2.988517936055643e-17,
          2.9929995859407794e-17,
          2.997541299842563e-17,
          3.002144176343311e-17,
          3.006809208317219e-17,
          3.01153727876651e-17,
          3.016329156859951e-17,
          3.021185494189568e-17,
          3.026106821259267e-17,
          3.031093544219671e-17,
          3.0361459418619476e-17,
          3.041264162882425e-17,
          3.04644822343007e-17,
          3.051698004946289e-17,
          3.0570132523073156e-17,
          3.06239357227739e-17,
          3.0678384322799615e-17,
          3.073347159494104e-17,
          3.0789189402806633e-17,
          3.084552819943195e-17,
          3.090247702826523e-17,
          3.0960023527546467e-17,
          3.1018153938095294e-17,
          3.1076853114494533e-17,
          3.1136104539660666e-17,
          3.1195890342769056e-17,
          3.125619132048975e-17,
          3.131698696148678e-17,
          3.137825547410495e-17,
          3.143997381717302e-17,
          3.150211773382682e-17,
          3.1564661788245743e-17,
          3.1627579405193584e-17,
          3.1690842912224615e-17,
          3.175442358442603e-17,
          3.181829169153511e-17,
          3.1882416547276786e-17,
          3.194676656074768e-17,
          3.201130928966046e-17,
          3.207601149526784e-17,
          3.214083919875741e-17,
          3.2205757738921e-17,
          3.227073183088275e-17,
          3.233572562566702e-17,
          3.2400702770392093e-17,
          3.2465626468856373e-17,
          3.253045954229806e-17,
          3.259516449009799e-17,
          3.2659703550194926e-17,
          3.272403875899484e-17,
          3.278813201054259e-17,
          3.2851945114742205e-17,
          3.291543985440977e-17,
          3.297857804094651e-17,
          3.304132156843898e-17,
          3.310363246598502e-17,
          3.3165472948069605e-17,
          3.322680546281734e-17,
          3.328759273795685e-17,
          3.3347797824359135e-17,
          3.340738413700681e-17,
          3.346631549328407e-17,
          3.3524556148480374e-17,
          3.358207082841982e-17,
          3.363882475915169e-17,
          3.3694783693642156e-17,
          3.374991393544076e-17,
          3.3804182359295904e-17,
          3.385755642872783e-17,
          3.39100042105764e-17,
          3.3961494386558424e-17,
          3.4011996261896967e-17,
          3.406147977109027e-17,
          3.410991548091655e-17,
          3.415727459078131e-17,
          3.420352893052996e-17,
          3.42486509558728e-17,
          3.429261374156973e-17,
          3.4335390972552644e-17,
          3.437695693316314e-17,
          3.4417286494701937e-17,
          3.4456355101498375e-17,
          3.4494138755711064e-17,
          3.453061400108857e-17,
          3.456575790591932e-17,
          3.459954804540594e-17,
          3.463196248370972e-17,
          3.466297975590505e-17,
          3.469257885009289e-17,
          3.472073918991793e-17,
          3.474744061773162e-17,
          3.477266337864718e-17,
          3.479638810571863e-17,
          3.481859580647786e-17,
          3.4839267851054e-17,
          3.4858385962088223e-17,
          3.487593220665331e-17,
          3.4891888990369256e-17,
          3.4906239053899964e-17,
          3.4918965472e-17,
          3.493005165526475e-17,
          3.493948135472698e-17,
          3.4947238669419804e-17,
          3.4953308057016813e-17,
          3.495767434763547e-17,
          3.4960322760877345e-17,
          3.496123892615679e-17,
          3.4960408906352126e-17,
          3.4957819224794064e-17,
          3.495345689558622e-17,
          3.4947309457233255e-17,
          3.493936500953293e-17,
          3.492961225366891e-17,
          3.4918040535420904e-17,
          3.49046398913918e-17,
          3.488940109813113e-17,
          3.487231572401685e-17,
          3.4853376183740316e-17,
          3.4832575795220685e-17,
          3.4809908838762034e-17,
          3.4785370618247285e-17,
          3.475895752415037e-17,
          3.473066709813557e-17,
          3.4700498098996555e-17,
          3.466845056968014e-17,
          3.463452590512574e-17,
          3.459872692064199e-17,
          3.4561057920538724e-17,
          3.4521524766714584e-17,
          3.4480134946906945e-17,
          3.443689764229493e-17,
          3.439182379414846e-17,
          3.434492616921469e-17,
          3.4296219423524104e-17,
          3.424572016431081e-17,
          3.419344700972735e-17,
          3.4139420646054073e-17,
          3.4083663882089634e-17,
          3.402620170042598e-17,
          3.39670613053148e-17,
          3.390627216683166e-17,
          3.3843866061067054e-17,
          3.377987710606694e-17,
          3.371434179326716e-17,
          3.3647299014176367e-17,
          3.3578790082065345e-17,
          3.3508858748450335e-17,
          3.3437551214155644e-17,
          3.3364916134767147e-17,
          3.329100462030491e-17,
          3.321587022894767e-17,
          3.3139568954680283e-17,
          3.306215920873205e-17,
          3.298370179470788e-17,
          3.2904259877330625e-17,
          3.282389894472467e-17,
          3.27426867642073e-17,
          3.266069333155641e-17,
          3.257799081375937e-17,
          3.2494653485264855e-17,
          3.241075765777092e-17,
          3.232638160362448e-17,
          3.224160547290541e-17,
          3.215651120430597e-17,
          3.207118242993564e-17,
          3.198570437418778e-17,
          3.1900163746849264e-17,
          3.181464863062535e-17,
          3.172924836330026e-17,
          3.164405341474623e-17,
          3.155915525902864e-17,
          3.1474646241869924e-17,
          3.1390619443737453e-17,
          3.130716853885702e-17,
          3.1224387650447414e-17,
          3.114237120249563e-17,
          3.106121376840586e-17,
          3.09810099168513e-17,
          3.090185405518838e-17,
          3.082384027077972e-17,
          3.07470621705911e-17,
          3.067161271943382e-17,
          3.059758407721277e-17,
          3.052506743556405e-17,
          3.045415285424532e-17,
          3.038492909765428e-17,
          3.0317483471847696e-17,
          3.025190166241768e-17,
          3.018826757359415e-17,
          3.012666316891851e-17,
          3.006716831383548e-17,
          3.000986062054104e-17,
          2.995481529540199e-17,
          2.990210498926783e-17,
          2.985179965096572e-17,
          2.980396638426458e-17,
          2.9758669308579743e-17,
          2.9715969423663446e-17,
          2.9675924478524333e-17,
          2.96385888447849e-17,
          2.9604013394684095e-17,
          2.9572245383899445e-17,
          2.95433283393527e-17,
          2.951730195214377e-17,
          2.9494201975731314e-17,
          2.947406012946986e-17,
          2.9456904007584975e-17,
          2.944275699365521e-17,
          2.943163818065174e-17,
          2.9423562296563865e-17,
          2.9418539635629866e-17,
          2.9416575995169947e-17,
          2.941767261800734e-17,
          2.9421826140449164e-17,
          2.942902854578531e-17,
          2.943926712325308e-17,
          2.945252443240573e-17,
          2.946877827281408e-17,
          2.948800165902341e-17,
          2.951016280068398e-17,
          2.953522508776638e-17,
          2.9563147080774904e-17,
          2.9593882505869206e-17,
          2.9627380254803154e-17,
          2.966358438960002e-17,
          2.9702434151876807e-17,
          2.974386397674561e-17,
          2.978780351122247e-17,
          2.983417763708076e-17,
          2.988290649810297e-17,
          2.993390553168675e-17,
          2.99870855047812e-17,
          3.0042352554138845e-17,
          3.0099608230878564e-17,
          3.0158749549381114e-17,
          3.021966904053802e-17,
          3.028225480940706e-17,
          3.034639059732578e-17,
          3.0411955848566974e-17,
          3.04788257816245e-17,
          3.054687146523268e-17,
          3.0615959899248644e-17,
          3.06859541005241e-17,
          3.07567131939217e-17,
          3.082809250863368e-17,
          3.089994367997003e-17,
          3.0972114756804785e-17,
          3.104445031485709e-17,
          3.1116791576009704e-17,
          3.1188976533857416e-17,
          3.126084008568202e-17,
          3.1332214171059067e-17,
          3.140292791728304e-17,
          3.147280779180802e-17,
          3.154167776188376e-17,
          3.1609359461555324e-17,
          3.167567236619307e-17,
          3.174043397468686e-17,
          3.180345999943645e-17,
          3.1864564564239035e-17,
          3.192356041015046e-17,
          3.1980259109380956e-17,
          3.203447128724099e-17,
          3.2086006852138767e-17,
          3.213467523358342e-17,
          3.218028562811809e-17,
          3.222264725307186e-17,
          3.226156960797086e-17,
          3.22968627434188e-17,
          3.23283375372015e-17,
          3.235580597733744e-17,
          3.237908145174302e-17,
          3.23979790441368e-17,
          3.2412315835763335e-17,
          3.242191121246594e-17,
          3.2426587176593686e-17,
          3.242616866318024e-17,
          3.242048385978546e-17,
          3.240936452934793e-17,
          3.239264633534957e-17,
          3.237016916855416e-17,
          3.2341777474538694e-17,
          3.2307320581200775e-17,
          3.22666530253857e-17,
          3.221963487774927e-17,
          3.216613206493558e-17,
          3.210601668812668e-17,
          3.203916733699961e-17,
          3.1965469398096924e-17,
          3.1884815356616364e-17,
          3.1797105090598214e-17,
          3.170224615649152e-17,
          3.1600154065080335e-17,
          3.149075254673717e-17,
          3.137397380500182e-17,
          3.124975875747182e-17,
          3.1118057263020353e-17,
          3.097882833438415e-17,
          3.0832040335166294e-17,
          3.0677671160365926e-17,
          3.0515708399541736e-17,
          3.0346149481800297e-17,
          3.016900180180443e-17,
          2.998428282607434e-17,
          2.979202017890715e-17,
          2.9592251707271413e-17,
          2.938502552414014e-17,
          2.9170400029746074e-17,
          2.89484439103402e-17,
          2.871923611411022e-17,
          2.848286580395408e-17,
          2.823943228693808e-17,
          2.798904492028979e-17,
          2.773182299389491e-17,
          2.746789558935132e-17,
          2.7197401415673935e-17,
          2.692048862189564e-17,
          2.6637314586824218e-17,
          2.6348045686343713e-17,
          2.6052857038732533e-17,
          2.575193222850383e-17,
          2.5445463009430956e-17,
          2.5133648987421473e-17,
          2.4816697284029164e-17,
          2.4494822181467004e-17,
          2.4168244750003174e-17,
          2.383719245877065e-17,
          2.3501898771001665e-17,
          2.3162602724810212e-17,
          2.2819548500701115e-17,
          2.247298497697931e-17,
          2.212316527436753e-17,
          2.177034629107866e-17,
          2.14147882297268e-17,
          2.1056754117399477e-17,
          2.0696509320293558e-17
         ],
         "yaxis": "y"
        }
       ],
       "layout": {
        "barmode": "overlay",
        "font": {
         "size": 18
        },
        "hovermode": "closest",
        "legend": {
         "traceorder": "reversed"
        },
        "plot_bgcolor": "#F5F5F8",
        "template": {
         "data": {
          "bar": [
           {
            "error_x": {
             "color": "#2a3f5f"
            },
            "error_y": {
             "color": "#2a3f5f"
            },
            "marker": {
             "line": {
              "color": "#E5ECF6",
              "width": 0.5
             },
             "pattern": {
              "fillmode": "overlay",
              "size": 10,
              "solidity": 0.2
             }
            },
            "type": "bar"
           }
          ],
          "barpolar": [
           {
            "marker": {
             "line": {
              "color": "#E5ECF6",
              "width": 0.5
             },
             "pattern": {
              "fillmode": "overlay",
              "size": 10,
              "solidity": 0.2
             }
            },
            "type": "barpolar"
           }
          ],
          "carpet": [
           {
            "aaxis": {
             "endlinecolor": "#2a3f5f",
             "gridcolor": "white",
             "linecolor": "white",
             "minorgridcolor": "white",
             "startlinecolor": "#2a3f5f"
            },
            "baxis": {
             "endlinecolor": "#2a3f5f",
             "gridcolor": "white",
             "linecolor": "white",
             "minorgridcolor": "white",
             "startlinecolor": "#2a3f5f"
            },
            "type": "carpet"
           }
          ],
          "choropleth": [
           {
            "colorbar": {
             "outlinewidth": 0,
             "ticks": ""
            },
            "type": "choropleth"
           }
          ],
          "contour": [
           {
            "colorbar": {
             "outlinewidth": 0,
             "ticks": ""
            },
            "colorscale": [
             [
              0,
              "#0d0887"
             ],
             [
              0.1111111111111111,
              "#46039f"
             ],
             [
              0.2222222222222222,
              "#7201a8"
             ],
             [
              0.3333333333333333,
              "#9c179e"
             ],
             [
              0.4444444444444444,
              "#bd3786"
             ],
             [
              0.5555555555555556,
              "#d8576b"
             ],
             [
              0.6666666666666666,
              "#ed7953"
             ],
             [
              0.7777777777777778,
              "#fb9f3a"
             ],
             [
              0.8888888888888888,
              "#fdca26"
             ],
             [
              1,
              "#f0f921"
             ]
            ],
            "type": "contour"
           }
          ],
          "contourcarpet": [
           {
            "colorbar": {
             "outlinewidth": 0,
             "ticks": ""
            },
            "type": "contourcarpet"
           }
          ],
          "heatmap": [
           {
            "colorbar": {
             "outlinewidth": 0,
             "ticks": ""
            },
            "colorscale": [
             [
              0,
              "#0d0887"
             ],
             [
              0.1111111111111111,
              "#46039f"
             ],
             [
              0.2222222222222222,
              "#7201a8"
             ],
             [
              0.3333333333333333,
              "#9c179e"
             ],
             [
              0.4444444444444444,
              "#bd3786"
             ],
             [
              0.5555555555555556,
              "#d8576b"
             ],
             [
              0.6666666666666666,
              "#ed7953"
             ],
             [
              0.7777777777777778,
              "#fb9f3a"
             ],
             [
              0.8888888888888888,
              "#fdca26"
             ],
             [
              1,
              "#f0f921"
             ]
            ],
            "type": "heatmap"
           }
          ],
          "heatmapgl": [
           {
            "colorbar": {
             "outlinewidth": 0,
             "ticks": ""
            },
            "colorscale": [
             [
              0,
              "#0d0887"
             ],
             [
              0.1111111111111111,
              "#46039f"
             ],
             [
              0.2222222222222222,
              "#7201a8"
             ],
             [
              0.3333333333333333,
              "#9c179e"
             ],
             [
              0.4444444444444444,
              "#bd3786"
             ],
             [
              0.5555555555555556,
              "#d8576b"
             ],
             [
              0.6666666666666666,
              "#ed7953"
             ],
             [
              0.7777777777777778,
              "#fb9f3a"
             ],
             [
              0.8888888888888888,
              "#fdca26"
             ],
             [
              1,
              "#f0f921"
             ]
            ],
            "type": "heatmapgl"
           }
          ],
          "histogram": [
           {
            "marker": {
             "pattern": {
              "fillmode": "overlay",
              "size": 10,
              "solidity": 0.2
             }
            },
            "type": "histogram"
           }
          ],
          "histogram2d": [
           {
            "colorbar": {
             "outlinewidth": 0,
             "ticks": ""
            },
            "colorscale": [
             [
              0,
              "#0d0887"
             ],
             [
              0.1111111111111111,
              "#46039f"
             ],
             [
              0.2222222222222222,
              "#7201a8"
             ],
             [
              0.3333333333333333,
              "#9c179e"
             ],
             [
              0.4444444444444444,
              "#bd3786"
             ],
             [
              0.5555555555555556,
              "#d8576b"
             ],
             [
              0.6666666666666666,
              "#ed7953"
             ],
             [
              0.7777777777777778,
              "#fb9f3a"
             ],
             [
              0.8888888888888888,
              "#fdca26"
             ],
             [
              1,
              "#f0f921"
             ]
            ],
            "type": "histogram2d"
           }
          ],
          "histogram2dcontour": [
           {
            "colorbar": {
             "outlinewidth": 0,
             "ticks": ""
            },
            "colorscale": [
             [
              0,
              "#0d0887"
             ],
             [
              0.1111111111111111,
              "#46039f"
             ],
             [
              0.2222222222222222,
              "#7201a8"
             ],
             [
              0.3333333333333333,
              "#9c179e"
             ],
             [
              0.4444444444444444,
              "#bd3786"
             ],
             [
              0.5555555555555556,
              "#d8576b"
             ],
             [
              0.6666666666666666,
              "#ed7953"
             ],
             [
              0.7777777777777778,
              "#fb9f3a"
             ],
             [
              0.8888888888888888,
              "#fdca26"
             ],
             [
              1,
              "#f0f921"
             ]
            ],
            "type": "histogram2dcontour"
           }
          ],
          "mesh3d": [
           {
            "colorbar": {
             "outlinewidth": 0,
             "ticks": ""
            },
            "type": "mesh3d"
           }
          ],
          "parcoords": [
           {
            "line": {
             "colorbar": {
              "outlinewidth": 0,
              "ticks": ""
             }
            },
            "type": "parcoords"
           }
          ],
          "pie": [
           {
            "automargin": true,
            "type": "pie"
           }
          ],
          "scatter": [
           {
            "fillpattern": {
             "fillmode": "overlay",
             "size": 10,
             "solidity": 0.2
            },
            "type": "scatter"
           }
          ],
          "scatter3d": [
           {
            "line": {
             "colorbar": {
              "outlinewidth": 0,
              "ticks": ""
             }
            },
            "marker": {
             "colorbar": {
              "outlinewidth": 0,
              "ticks": ""
             }
            },
            "type": "scatter3d"
           }
          ],
          "scattercarpet": [
           {
            "marker": {
             "colorbar": {
              "outlinewidth": 0,
              "ticks": ""
             }
            },
            "type": "scattercarpet"
           }
          ],
          "scattergeo": [
           {
            "marker": {
             "colorbar": {
              "outlinewidth": 0,
              "ticks": ""
             }
            },
            "type": "scattergeo"
           }
          ],
          "scattergl": [
           {
            "marker": {
             "colorbar": {
              "outlinewidth": 0,
              "ticks": ""
             }
            },
            "type": "scattergl"
           }
          ],
          "scattermapbox": [
           {
            "marker": {
             "colorbar": {
              "outlinewidth": 0,
              "ticks": ""
             }
            },
            "type": "scattermapbox"
           }
          ],
          "scatterpolar": [
           {
            "marker": {
             "colorbar": {
              "outlinewidth": 0,
              "ticks": ""
             }
            },
            "type": "scatterpolar"
           }
          ],
          "scatterpolargl": [
           {
            "marker": {
             "colorbar": {
              "outlinewidth": 0,
              "ticks": ""
             }
            },
            "type": "scatterpolargl"
           }
          ],
          "scatterternary": [
           {
            "marker": {
             "colorbar": {
              "outlinewidth": 0,
              "ticks": ""
             }
            },
            "type": "scatterternary"
           }
          ],
          "surface": [
           {
            "colorbar": {
             "outlinewidth": 0,
             "ticks": ""
            },
            "colorscale": [
             [
              0,
              "#0d0887"
             ],
             [
              0.1111111111111111,
              "#46039f"
             ],
             [
              0.2222222222222222,
              "#7201a8"
             ],
             [
              0.3333333333333333,
              "#9c179e"
             ],
             [
              0.4444444444444444,
              "#bd3786"
             ],
             [
              0.5555555555555556,
              "#d8576b"
             ],
             [
              0.6666666666666666,
              "#ed7953"
             ],
             [
              0.7777777777777778,
              "#fb9f3a"
             ],
             [
              0.8888888888888888,
              "#fdca26"
             ],
             [
              1,
              "#f0f921"
             ]
            ],
            "type": "surface"
           }
          ],
          "table": [
           {
            "cells": {
             "fill": {
              "color": "#EBF0F8"
             },
             "line": {
              "color": "white"
             }
            },
            "header": {
             "fill": {
              "color": "#C8D4E3"
             },
             "line": {
              "color": "white"
             }
            },
            "type": "table"
           }
          ]
         },
         "layout": {
          "annotationdefaults": {
           "arrowcolor": "#2a3f5f",
           "arrowhead": 0,
           "arrowwidth": 1
          },
          "autotypenumbers": "strict",
          "coloraxis": {
           "colorbar": {
            "outlinewidth": 0,
            "ticks": ""
           }
          },
          "colorscale": {
           "diverging": [
            [
             0,
             "#8e0152"
            ],
            [
             0.1,
             "#c51b7d"
            ],
            [
             0.2,
             "#de77ae"
            ],
            [
             0.3,
             "#f1b6da"
            ],
            [
             0.4,
             "#fde0ef"
            ],
            [
             0.5,
             "#f7f7f7"
            ],
            [
             0.6,
             "#e6f5d0"
            ],
            [
             0.7,
             "#b8e186"
            ],
            [
             0.8,
             "#7fbc41"
            ],
            [
             0.9,
             "#4d9221"
            ],
            [
             1,
             "#276419"
            ]
           ],
           "sequential": [
            [
             0,
             "#0d0887"
            ],
            [
             0.1111111111111111,
             "#46039f"
            ],
            [
             0.2222222222222222,
             "#7201a8"
            ],
            [
             0.3333333333333333,
             "#9c179e"
            ],
            [
             0.4444444444444444,
             "#bd3786"
            ],
            [
             0.5555555555555556,
             "#d8576b"
            ],
            [
             0.6666666666666666,
             "#ed7953"
            ],
            [
             0.7777777777777778,
             "#fb9f3a"
            ],
            [
             0.8888888888888888,
             "#fdca26"
            ],
            [
             1,
             "#f0f921"
            ]
           ],
           "sequentialminus": [
            [
             0,
             "#0d0887"
            ],
            [
             0.1111111111111111,
             "#46039f"
            ],
            [
             0.2222222222222222,
             "#7201a8"
            ],
            [
             0.3333333333333333,
             "#9c179e"
            ],
            [
             0.4444444444444444,
             "#bd3786"
            ],
            [
             0.5555555555555556,
             "#d8576b"
            ],
            [
             0.6666666666666666,
             "#ed7953"
            ],
            [
             0.7777777777777778,
             "#fb9f3a"
            ],
            [
             0.8888888888888888,
             "#fdca26"
            ],
            [
             1,
             "#f0f921"
            ]
           ]
          },
          "colorway": [
           "#636efa",
           "#EF553B",
           "#00cc96",
           "#ab63fa",
           "#FFA15A",
           "#19d3f3",
           "#FF6692",
           "#B6E880",
           "#FF97FF",
           "#FECB52"
          ],
          "font": {
           "color": "#2a3f5f"
          },
          "geo": {
           "bgcolor": "white",
           "lakecolor": "white",
           "landcolor": "#E5ECF6",
           "showlakes": true,
           "showland": true,
           "subunitcolor": "white"
          },
          "hoverlabel": {
           "align": "left"
          },
          "hovermode": "closest",
          "mapbox": {
           "style": "light"
          },
          "paper_bgcolor": "white",
          "plot_bgcolor": "#E5ECF6",
          "polar": {
           "angularaxis": {
            "gridcolor": "white",
            "linecolor": "white",
            "ticks": ""
           },
           "bgcolor": "#E5ECF6",
           "radialaxis": {
            "gridcolor": "white",
            "linecolor": "white",
            "ticks": ""
           }
          },
          "scene": {
           "xaxis": {
            "backgroundcolor": "#E5ECF6",
            "gridcolor": "white",
            "gridwidth": 2,
            "linecolor": "white",
            "showbackground": true,
            "ticks": "",
            "zerolinecolor": "white"
           },
           "yaxis": {
            "backgroundcolor": "#E5ECF6",
            "gridcolor": "white",
            "gridwidth": 2,
            "linecolor": "white",
            "showbackground": true,
            "ticks": "",
            "zerolinecolor": "white"
           },
           "zaxis": {
            "backgroundcolor": "#E5ECF6",
            "gridcolor": "white",
            "gridwidth": 2,
            "linecolor": "white",
            "showbackground": true,
            "ticks": "",
            "zerolinecolor": "white"
           }
          },
          "shapedefaults": {
           "line": {
            "color": "#2a3f5f"
           }
          },
          "ternary": {
           "aaxis": {
            "gridcolor": "white",
            "linecolor": "white",
            "ticks": ""
           },
           "baxis": {
            "gridcolor": "white",
            "linecolor": "white",
            "ticks": ""
           },
           "bgcolor": "#E5ECF6",
           "caxis": {
            "gridcolor": "white",
            "linecolor": "white",
            "ticks": ""
           }
          },
          "title": {
           "x": 0.05
          },
          "xaxis": {
           "automargin": true,
           "gridcolor": "white",
           "linecolor": "white",
           "ticks": "",
           "title": {
            "standoff": 15
           },
           "zerolinecolor": "white",
           "zerolinewidth": 2
          },
          "yaxis": {
           "automargin": true,
           "gridcolor": "white",
           "linecolor": "white",
           "ticks": "",
           "title": {
            "standoff": 15
           },
           "zerolinecolor": "white",
           "zerolinewidth": 2
          }
         }
        },
        "title": {
         "text": "Real vs. Synthetic Data for column checkin_date"
        },
        "xaxis": {
         "anchor": "y2",
         "domain": [
          0,
          1
         ],
         "title": {
          "text": "Value"
         },
         "zeroline": false
        },
        "yaxis": {
         "anchor": "free",
         "domain": [
          0,
          1
         ],
         "position": 0,
         "title": {
          "text": "Frequency"
         }
        }
       }
      }
     },
     "metadata": {},
     "output_type": "display_data"
    },
    {
     "data": {
      "application/vnd.plotly.v1+json": {
       "config": {
        "plotlyServerURL": "https://plot.ly"
       },
       "data": [
        {
         "fill": "tozeroy",
         "hovertemplate": "<b>Real</b><br>Value: %{x}<br>Frequency: %{y}<extra></extra>",
         "legendgroup": "Real",
         "marker": {
          "color": "#000036"
         },
         "mode": "lines",
         "name": "Real",
         "showlegend": true,
         "type": "scatter",
         "x": [
          "2020-01-07T00:00:00",
          "2020-01-07T17:36:57.600000",
          "2020-01-08T11:13:55.200000",
          "2020-01-09T04:50:52.800000",
          "2020-01-09T22:27:50.400000",
          "2020-01-10T16:04:48",
          "2020-01-11T09:41:45.600000",
          "2020-01-12T03:18:43.200000",
          "2020-01-12T20:55:40.800000",
          "2020-01-13T14:32:38.400000",
          "2020-01-14T08:09:36",
          "2020-01-15T01:46:33.600000",
          "2020-01-15T19:23:31.200000",
          "2020-01-16T13:00:28.800000",
          "2020-01-17T06:37:26.400000",
          "2020-01-18T00:14:24",
          "2020-01-18T17:51:21.600000",
          "2020-01-19T11:28:19.200000",
          "2020-01-20T05:05:16.800000",
          "2020-01-20T22:42:14.400000",
          "2020-01-21T16:19:12",
          "2020-01-22T09:56:09.600000",
          "2020-01-23T03:33:07.200000",
          "2020-01-23T21:10:04.800000",
          "2020-01-24T14:47:02.400000",
          "2020-01-25T08:24:00",
          "2020-01-26T02:00:57.600000",
          "2020-01-26T19:37:55.200000",
          "2020-01-27T13:14:52.800000",
          "2020-01-28T06:51:50.400000",
          "2020-01-29T00:28:48",
          "2020-01-29T18:05:45.600000",
          "2020-01-30T11:42:43.200000",
          "2020-01-31T05:19:40.800000",
          "2020-01-31T22:56:38.400000",
          "2020-02-01T16:33:36",
          "2020-02-02T10:10:33.600000",
          "2020-02-03T03:47:31.200000",
          "2020-02-03T21:24:28.800000",
          "2020-02-04T15:01:26.400000",
          "2020-02-05T08:38:24",
          "2020-02-06T02:15:21.600000",
          "2020-02-06T19:52:19.200000",
          "2020-02-07T13:29:16.800000",
          "2020-02-08T07:06:14.400000",
          "2020-02-09T00:43:12",
          "2020-02-09T18:20:09.600000",
          "2020-02-10T11:57:07.200000",
          "2020-02-11T05:34:04.800000",
          "2020-02-11T23:11:02.400000",
          "2020-02-12T16:48:00",
          "2020-02-13T10:24:57.600000",
          "2020-02-14T04:01:55.200000",
          "2020-02-14T21:38:52.800000",
          "2020-02-15T15:15:50.400000",
          "2020-02-16T08:52:48",
          "2020-02-17T02:29:45.600000",
          "2020-02-17T20:06:43.200000",
          "2020-02-18T13:43:40.800000",
          "2020-02-19T07:20:38.400000",
          "2020-02-20T00:57:36",
          "2020-02-20T18:34:33.600000",
          "2020-02-21T12:11:31.200000",
          "2020-02-22T05:48:28.800000",
          "2020-02-22T23:25:26.400000",
          "2020-02-23T17:02:24",
          "2020-02-24T10:39:21.600000",
          "2020-02-25T04:16:19.200000",
          "2020-02-25T21:53:16.800000",
          "2020-02-26T15:30:14.400000",
          "2020-02-27T09:07:12",
          "2020-02-28T02:44:09.600000",
          "2020-02-28T20:21:07.200000",
          "2020-02-29T13:58:04.800000",
          "2020-03-01T07:35:02.400000",
          "2020-03-02T01:12:00",
          "2020-03-02T18:48:57.600000",
          "2020-03-03T12:25:55.200000",
          "2020-03-04T06:02:52.800000",
          "2020-03-04T23:39:50.400000",
          "2020-03-05T17:16:48",
          "2020-03-06T10:53:45.600000",
          "2020-03-07T04:30:43.200000",
          "2020-03-07T22:07:40.800000",
          "2020-03-08T15:44:38.400000",
          "2020-03-09T09:21:36",
          "2020-03-10T02:58:33.600000",
          "2020-03-10T20:35:31.200000",
          "2020-03-11T14:12:28.800000",
          "2020-03-12T07:49:26.400000",
          "2020-03-13T01:26:24",
          "2020-03-13T19:03:21.600000",
          "2020-03-14T12:40:19.200000",
          "2020-03-15T06:17:16.800000",
          "2020-03-15T23:54:14.400000",
          "2020-03-16T17:31:12",
          "2020-03-17T11:08:09.600000",
          "2020-03-18T04:45:07.200000",
          "2020-03-18T22:22:04.800000",
          "2020-03-19T15:59:02.400000",
          "2020-03-20T09:36:00",
          "2020-03-21T03:12:57.600000",
          "2020-03-21T20:49:55.200000",
          "2020-03-22T14:26:52.800000",
          "2020-03-23T08:03:50.400000",
          "2020-03-24T01:40:48",
          "2020-03-24T19:17:45.600000",
          "2020-03-25T12:54:43.200000",
          "2020-03-26T06:31:40.800000",
          "2020-03-27T00:08:38.400000",
          "2020-03-27T17:45:36",
          "2020-03-28T11:22:33.600000",
          "2020-03-29T04:59:31.200000",
          "2020-03-29T22:36:28.800000",
          "2020-03-30T16:13:26.400000",
          "2020-03-31T09:50:24",
          "2020-04-01T03:27:21.600000",
          "2020-04-01T21:04:19.200000",
          "2020-04-02T14:41:16.800000",
          "2020-04-03T08:18:14.400000",
          "2020-04-04T01:55:12",
          "2020-04-04T19:32:09.600000",
          "2020-04-05T13:09:07.200000",
          "2020-04-06T06:46:04.800000",
          "2020-04-07T00:23:02.400000",
          "2020-04-07T18:00:00",
          "2020-04-08T11:36:57.600000",
          "2020-04-09T05:13:55.200000",
          "2020-04-09T22:50:52.800000",
          "2020-04-10T16:27:50.400000",
          "2020-04-11T10:04:48",
          "2020-04-12T03:41:45.600000",
          "2020-04-12T21:18:43.200000",
          "2020-04-13T14:55:40.800000",
          "2020-04-14T08:32:38.400000",
          "2020-04-15T02:09:36",
          "2020-04-15T19:46:33.600000",
          "2020-04-16T13:23:31.200000",
          "2020-04-17T07:00:28.800000",
          "2020-04-18T00:37:26.400000",
          "2020-04-18T18:14:24",
          "2020-04-19T11:51:21.600000",
          "2020-04-20T05:28:19.200000",
          "2020-04-20T23:05:16.800000",
          "2020-04-21T16:42:14.400000",
          "2020-04-22T10:19:12",
          "2020-04-23T03:56:09.600000",
          "2020-04-23T21:33:07.200000",
          "2020-04-24T15:10:04.800000",
          "2020-04-25T08:47:02.400000",
          "2020-04-26T02:24:00",
          "2020-04-26T20:00:57.600000",
          "2020-04-27T13:37:55.200000",
          "2020-04-28T07:14:52.800000",
          "2020-04-29T00:51:50.400000",
          "2020-04-29T18:28:48",
          "2020-04-30T12:05:45.600000",
          "2020-05-01T05:42:43.200000",
          "2020-05-01T23:19:40.800000",
          "2020-05-02T16:56:38.400000",
          "2020-05-03T10:33:36",
          "2020-05-04T04:10:33.600000",
          "2020-05-04T21:47:31.200000",
          "2020-05-05T15:24:28.800000",
          "2020-05-06T09:01:26.400000",
          "2020-05-07T02:38:24",
          "2020-05-07T20:15:21.600000",
          "2020-05-08T13:52:19.200000",
          "2020-05-09T07:29:16.800000",
          "2020-05-10T01:06:14.400000",
          "2020-05-10T18:43:12",
          "2020-05-11T12:20:09.600000",
          "2020-05-12T05:57:07.200000",
          "2020-05-12T23:34:04.800000",
          "2020-05-13T17:11:02.400000",
          "2020-05-14T10:48:00",
          "2020-05-15T04:24:57.600000",
          "2020-05-15T22:01:55.200000",
          "2020-05-16T15:38:52.800000",
          "2020-05-17T09:15:50.400000",
          "2020-05-18T02:52:48",
          "2020-05-18T20:29:45.600000",
          "2020-05-19T14:06:43.200000",
          "2020-05-20T07:43:40.800000",
          "2020-05-21T01:20:38.400000",
          "2020-05-21T18:57:36",
          "2020-05-22T12:34:33.600000",
          "2020-05-23T06:11:31.200000",
          "2020-05-23T23:48:28.800000",
          "2020-05-24T17:25:26.400000",
          "2020-05-25T11:02:24",
          "2020-05-26T04:39:21.600000",
          "2020-05-26T22:16:19.200000",
          "2020-05-27T15:53:16.800000",
          "2020-05-28T09:30:14.400000",
          "2020-05-29T03:07:12",
          "2020-05-29T20:44:09.600000",
          "2020-05-30T14:21:07.200000",
          "2020-05-31T07:58:04.800000",
          "2020-06-01T01:35:02.400000",
          "2020-06-01T19:12:00",
          "2020-06-02T12:48:57.600000",
          "2020-06-03T06:25:55.200000",
          "2020-06-04T00:02:52.800000",
          "2020-06-04T17:39:50.400000",
          "2020-06-05T11:16:48",
          "2020-06-06T04:53:45.600000",
          "2020-06-06T22:30:43.200000",
          "2020-06-07T16:07:40.800000",
          "2020-06-08T09:44:38.400000",
          "2020-06-09T03:21:36",
          "2020-06-09T20:58:33.600000",
          "2020-06-10T14:35:31.200000",
          "2020-06-11T08:12:28.800000",
          "2020-06-12T01:49:26.400000",
          "2020-06-12T19:26:24",
          "2020-06-13T13:03:21.600000",
          "2020-06-14T06:40:19.200000",
          "2020-06-15T00:17:16.800000",
          "2020-06-15T17:54:14.400000",
          "2020-06-16T11:31:12",
          "2020-06-17T05:08:09.600000",
          "2020-06-17T22:45:07.200000",
          "2020-06-18T16:22:04.800000",
          "2020-06-19T09:59:02.400000",
          "2020-06-20T03:36:00",
          "2020-06-20T21:12:57.600000",
          "2020-06-21T14:49:55.200000",
          "2020-06-22T08:26:52.800000",
          "2020-06-23T02:03:50.400000",
          "2020-06-23T19:40:48",
          "2020-06-24T13:17:45.600000",
          "2020-06-25T06:54:43.200000",
          "2020-06-26T00:31:40.800000",
          "2020-06-26T18:08:38.400000",
          "2020-06-27T11:45:36",
          "2020-06-28T05:22:33.600000",
          "2020-06-28T22:59:31.200000",
          "2020-06-29T16:36:28.800000",
          "2020-06-30T10:13:26.400000",
          "2020-07-01T03:50:24",
          "2020-07-01T21:27:21.600000",
          "2020-07-02T15:04:19.200000",
          "2020-07-03T08:41:16.800000",
          "2020-07-04T02:18:14.400000",
          "2020-07-04T19:55:12",
          "2020-07-05T13:32:09.600000",
          "2020-07-06T07:09:07.200000",
          "2020-07-07T00:46:04.800000",
          "2020-07-07T18:23:02.400000",
          "2020-07-08T12:00:00",
          "2020-07-09T05:36:57.600000",
          "2020-07-09T23:13:55.200000",
          "2020-07-10T16:50:52.800000",
          "2020-07-11T10:27:50.400000",
          "2020-07-12T04:04:48",
          "2020-07-12T21:41:45.600000",
          "2020-07-13T15:18:43.200000",
          "2020-07-14T08:55:40.800000",
          "2020-07-15T02:32:38.400000",
          "2020-07-15T20:09:36",
          "2020-07-16T13:46:33.600000",
          "2020-07-17T07:23:31.200000",
          "2020-07-18T01:00:28.800000",
          "2020-07-18T18:37:26.400000",
          "2020-07-19T12:14:24",
          "2020-07-20T05:51:21.600000",
          "2020-07-20T23:28:19.200000",
          "2020-07-21T17:05:16.800000",
          "2020-07-22T10:42:14.400000",
          "2020-07-23T04:19:12",
          "2020-07-23T21:56:09.600000",
          "2020-07-24T15:33:07.200000",
          "2020-07-25T09:10:04.800000",
          "2020-07-26T02:47:02.400000",
          "2020-07-26T20:24:00",
          "2020-07-27T14:00:57.600000",
          "2020-07-28T07:37:55.200000",
          "2020-07-29T01:14:52.800000",
          "2020-07-29T18:51:50.400000",
          "2020-07-30T12:28:48",
          "2020-07-31T06:05:45.600000",
          "2020-07-31T23:42:43.200000",
          "2020-08-01T17:19:40.800000",
          "2020-08-02T10:56:38.400000",
          "2020-08-03T04:33:36",
          "2020-08-03T22:10:33.600000",
          "2020-08-04T15:47:31.200000",
          "2020-08-05T09:24:28.800000",
          "2020-08-06T03:01:26.400000",
          "2020-08-06T20:38:24",
          "2020-08-07T14:15:21.600000",
          "2020-08-08T07:52:19.200000",
          "2020-08-09T01:29:16.800000",
          "2020-08-09T19:06:14.400000",
          "2020-08-10T12:43:12",
          "2020-08-11T06:20:09.600000",
          "2020-08-11T23:57:07.200000",
          "2020-08-12T17:34:04.800000",
          "2020-08-13T11:11:02.400000",
          "2020-08-14T04:48:00",
          "2020-08-14T22:24:57.600000",
          "2020-08-15T16:01:55.200000",
          "2020-08-16T09:38:52.800000",
          "2020-08-17T03:15:50.400000",
          "2020-08-17T20:52:48",
          "2020-08-18T14:29:45.600000",
          "2020-08-19T08:06:43.200000",
          "2020-08-20T01:43:40.800000",
          "2020-08-20T19:20:38.400000",
          "2020-08-21T12:57:36",
          "2020-08-22T06:34:33.600000",
          "2020-08-23T00:11:31.200000",
          "2020-08-23T17:48:28.800000",
          "2020-08-24T11:25:26.400000",
          "2020-08-25T05:02:24",
          "2020-08-25T22:39:21.600000",
          "2020-08-26T16:16:19.200000",
          "2020-08-27T09:53:16.800000",
          "2020-08-28T03:30:14.400000",
          "2020-08-28T21:07:12",
          "2020-08-29T14:44:09.600000",
          "2020-08-30T08:21:07.200000",
          "2020-08-31T01:58:04.800000",
          "2020-08-31T19:35:02.400000",
          "2020-09-01T13:12:00",
          "2020-09-02T06:48:57.600000",
          "2020-09-03T00:25:55.200000",
          "2020-09-03T18:02:52.800000",
          "2020-09-04T11:39:50.400000",
          "2020-09-05T05:16:48",
          "2020-09-05T22:53:45.600000",
          "2020-09-06T16:30:43.200000",
          "2020-09-07T10:07:40.800000",
          "2020-09-08T03:44:38.400000",
          "2020-09-08T21:21:36",
          "2020-09-09T14:58:33.600000",
          "2020-09-10T08:35:31.200000",
          "2020-09-11T02:12:28.800000",
          "2020-09-11T19:49:26.400000",
          "2020-09-12T13:26:24",
          "2020-09-13T07:03:21.600000",
          "2020-09-14T00:40:19.200000",
          "2020-09-14T18:17:16.800000",
          "2020-09-15T11:54:14.400000",
          "2020-09-16T05:31:12",
          "2020-09-16T23:08:09.600000",
          "2020-09-17T16:45:07.200000",
          "2020-09-18T10:22:04.800000",
          "2020-09-19T03:59:02.400000",
          "2020-09-19T21:36:00",
          "2020-09-20T15:12:57.600000",
          "2020-09-21T08:49:55.200000",
          "2020-09-22T02:26:52.800000",
          "2020-09-22T20:03:50.400000",
          "2020-09-23T13:40:48",
          "2020-09-24T07:17:45.600000",
          "2020-09-25T00:54:43.200000",
          "2020-09-25T18:31:40.800000",
          "2020-09-26T12:08:38.400000",
          "2020-09-27T05:45:36",
          "2020-09-27T23:22:33.600000",
          "2020-09-28T16:59:31.200000",
          "2020-09-29T10:36:28.800000",
          "2020-09-30T04:13:26.400000",
          "2020-09-30T21:50:24",
          "2020-10-01T15:27:21.600000",
          "2020-10-02T09:04:19.200000",
          "2020-10-03T02:41:16.800000",
          "2020-10-03T20:18:14.400000",
          "2020-10-04T13:55:12",
          "2020-10-05T07:32:09.600000",
          "2020-10-06T01:09:07.200000",
          "2020-10-06T18:46:04.800000",
          "2020-10-07T12:23:02.400000",
          "2020-10-08T06:00:00",
          "2020-10-08T23:36:57.600000",
          "2020-10-09T17:13:55.200000",
          "2020-10-10T10:50:52.800000",
          "2020-10-11T04:27:50.400000",
          "2020-10-11T22:04:48",
          "2020-10-12T15:41:45.600000",
          "2020-10-13T09:18:43.200000",
          "2020-10-14T02:55:40.800000",
          "2020-10-14T20:32:38.400000",
          "2020-10-15T14:09:36",
          "2020-10-16T07:46:33.600000",
          "2020-10-17T01:23:31.200000",
          "2020-10-17T19:00:28.800000",
          "2020-10-18T12:37:26.400000",
          "2020-10-19T06:14:24",
          "2020-10-19T23:51:21.600000",
          "2020-10-20T17:28:19.200000",
          "2020-10-21T11:05:16.800000",
          "2020-10-22T04:42:14.400000",
          "2020-10-22T22:19:12",
          "2020-10-23T15:56:09.600000",
          "2020-10-24T09:33:07.200000",
          "2020-10-25T03:10:04.800000",
          "2020-10-25T20:47:02.400000",
          "2020-10-26T14:24:00",
          "2020-10-27T08:00:57.600000",
          "2020-10-28T01:37:55.200000",
          "2020-10-28T19:14:52.800000",
          "2020-10-29T12:51:50.400000",
          "2020-10-30T06:28:48",
          "2020-10-31T00:05:45.600000",
          "2020-10-31T17:42:43.200000",
          "2020-11-01T11:19:40.800000",
          "2020-11-02T04:56:38.400000",
          "2020-11-02T22:33:36",
          "2020-11-03T16:10:33.600000",
          "2020-11-04T09:47:31.200000",
          "2020-11-05T03:24:28.800000",
          "2020-11-05T21:01:26.400000",
          "2020-11-06T14:38:24",
          "2020-11-07T08:15:21.600000",
          "2020-11-08T01:52:19.200000",
          "2020-11-08T19:29:16.800000",
          "2020-11-09T13:06:14.400000",
          "2020-11-10T06:43:12",
          "2020-11-11T00:20:09.600000",
          "2020-11-11T17:57:07.200000",
          "2020-11-12T11:34:04.800000",
          "2020-11-13T05:11:02.400000",
          "2020-11-13T22:48:00",
          "2020-11-14T16:24:57.600000",
          "2020-11-15T10:01:55.200000",
          "2020-11-16T03:38:52.800000",
          "2020-11-16T21:15:50.400000",
          "2020-11-17T14:52:48",
          "2020-11-18T08:29:45.600000",
          "2020-11-19T02:06:43.200000",
          "2020-11-19T19:43:40.800000",
          "2020-11-20T13:20:38.400000",
          "2020-11-21T06:57:36",
          "2020-11-22T00:34:33.600000",
          "2020-11-22T18:11:31.200000",
          "2020-11-23T11:48:28.800000",
          "2020-11-24T05:25:26.400000",
          "2020-11-24T23:02:24",
          "2020-11-25T16:39:21.600000",
          "2020-11-26T10:16:19.200000",
          "2020-11-27T03:53:16.800000",
          "2020-11-27T21:30:14.400000",
          "2020-11-28T15:07:12",
          "2020-11-29T08:44:09.600000",
          "2020-11-30T02:21:07.200000",
          "2020-11-30T19:58:04.800000",
          "2020-12-01T13:35:02.400000",
          "2020-12-02T07:12:00",
          "2020-12-03T00:48:57.600000",
          "2020-12-03T18:25:55.200000",
          "2020-12-04T12:02:52.800000",
          "2020-12-05T05:39:50.400000",
          "2020-12-05T23:16:48",
          "2020-12-06T16:53:45.600000",
          "2020-12-07T10:30:43.200000",
          "2020-12-08T04:07:40.800000",
          "2020-12-08T21:44:38.400000",
          "2020-12-09T15:21:36",
          "2020-12-10T08:58:33.600000",
          "2020-12-11T02:35:31.200000",
          "2020-12-11T20:12:28.800000",
          "2020-12-12T13:49:26.400000",
          "2020-12-13T07:26:24",
          "2020-12-14T01:03:21.600000",
          "2020-12-14T18:40:19.200000",
          "2020-12-15T12:17:16.800000",
          "2020-12-16T05:54:14.400000",
          "2020-12-16T23:31:12",
          "2020-12-17T17:08:09.600000",
          "2020-12-18T10:45:07.200000",
          "2020-12-19T04:22:04.800000",
          "2020-12-19T21:59:02.400000",
          "2020-12-20T15:36:00",
          "2020-12-21T09:12:57.600000",
          "2020-12-22T02:49:55.200000",
          "2020-12-22T20:26:52.800000",
          "2020-12-23T14:03:50.400000",
          "2020-12-24T07:40:48",
          "2020-12-25T01:17:45.600000",
          "2020-12-25T18:54:43.200000",
          "2020-12-26T12:31:40.800000",
          "2020-12-27T06:08:38.400000",
          "2020-12-27T23:45:36",
          "2020-12-28T17:22:33.600000",
          "2020-12-29T10:59:31.200000",
          "2020-12-30T04:36:28.800000",
          "2020-12-30T22:13:26.400000",
          "2020-12-31T15:50:24",
          "2021-01-01T09:27:21.600000",
          "2021-01-02T03:04:19.200000",
          "2021-01-02T20:41:16.800000",
          "2021-01-03T14:18:14.400000",
          "2021-01-04T07:55:12",
          "2021-01-05T01:32:09.600000",
          "2021-01-05T19:09:07.200000",
          "2021-01-06T12:46:04.800000",
          "2021-01-07T06:23:02.400000"
         ],
         "xaxis": "x",
         "y": [
          1.5197422546488184e-17,
          1.5470252751969864e-17,
          1.5742363354588137e-17,
          1.601359443348518e-17,
          1.628378736280524e-17,
          1.6552785079613898e-17,
          1.6820432347153615e-17,
          1.7086576012675456e-17,
          1.7351065259138204e-17,
          1.7613751850046866e-17,
          1.7874490366778126e-17,
          1.81331384377476e-17,
          1.8389556958809366e-17,
          1.8643610304341147e-17,
          1.8895166528465127e-17,
          1.9144097555940672e-17,
          1.9390279362284186e-17,
          1.9633592142717225e-17,
          1.987392046961533e-17,
          2.0111153438136207e-17,
          2.0345184799796363e-17,
          2.057591308379153e-17,
          2.0803241705905384e-17,
          2.102707906492503e-17,
          2.1247338626489692e-17,
          2.146393899438966e-17,
          2.1676803969356547e-17,
          2.1885862595434977e-17,
          2.2091049194091583e-17,
          2.2292303386225855e-17,
          2.248957010232684e-17,
          2.2682799581038667e-17,
          2.2871947356438008e-17,
          2.305697423438205e-17,
          2.3237846258285303e-17,
          2.3414534664749582e-17,
          2.3587015829478327e-17,
          2.375527120394136e-17,
          2.3919287243271503e-17,
          2.4079055325910357e-17,
          2.4234571665510888e-17,
          2.4385837215644226e-17,
          2.4532857567853906e-17,
          2.4675642843607044e-17,
          2.481420758071182e-17,
          2.4948570614746015e-17,
          2.5078754956064332e-17,
          2.5204787662933315e-17,
          2.5326699711336122e-17,
          2.544452586199032e-17,
          2.5558304525088848e-17,
          2.5668077623279137e-17,
          2.5773890453366642e-17,
          2.5875791547209007e-17,
          2.5973832532257348e-17,
          2.6068067992157238e-17,
          2.6158555327818256e-17,
          2.6245354619322197e-17,
          2.632852848901392e-17,
          2.64081419661e-17,
          2.6484262353035097e-17,
          2.655695909396265e-17,
          2.6626303645437566e-17,
          2.6692369349629602e-17,
          2.675523131018326e-17,
          2.6814966270868755e-17,
          2.687165249714164e-17,
          2.6925369660693326e-17,
          2.697619872704881e-17,
          2.7024221846245977e-17,
          2.7069522246596545e-17,
          2.7112184131514833e-17,
          2.7152292579371836e-17,
          2.7189933446312366e-17,
          2.7225193271957364e-17,
          2.7258159187888563e-17,
          2.7288918828805466e-17,
          2.731756024622392e-17,
          2.7344171824577248e-17,
          2.73688421995707e-17,
          2.7391660178628514e-17,
          2.7412714663270842e-17,
          2.7432094573251116e-17,
          2.744988877228205e-17,
          2.7466185995178026e-17,
          2.748107477624406e-17,
          2.7494643378741646e-17,
          2.7506979725269188e-17,
          2.751817132889903e-17,
          2.752830522492171e-17,
          2.7537467903056058e-17,
          2.754574523999542e-17,
          2.755322243216989e-17,
          2.755998392861923e-17,
          2.7566113363881745e-17,
          2.7571693490822262e-17,
          2.7576806113333418e-17,
          2.758153201886271e-17,
          2.758595091073285e-17,
          2.75901413402392e-17,
          2.7594180638524507e-17,
          2.7598144848247304e-17,
          2.7602108655078312e-17,
          2.7606145319073298e-17,
          2.7610326605988872e-17,
          2.7614722718622416e-17,
          2.7619402228272238e-17,
          2.762443200642957e-17,
          2.7629877156827796e-17,
          2.763580094798585e-17,
          2.764226474639876e-17,
          2.764932795053524e-17,
          2.76570479258164e-17,
          2.7665479940758092e-17,
          2.7674677104465858e-17,
          2.768469030568307e-17,
          2.7695568153594647e-17,
          2.770735692059582e-17,
          2.772010048724089e-17,
          2.77338402895852e-17,
          2.774861526914021e-17,
          2.7764461825656853e-17,
          2.778141377295575e-17,
          2.7799502298016424e-17,
          2.7818755923538096e-17,
          2.7839200474177303e-17,
          2.7860859046662986e-17,
          2.788375198398225e-17,
          2.790789685382272e-17,
          2.7933308431446794e-17,
          2.7959998687166295e-17,
          2.798797677856896e-17,
          2.8017249047643123e-17,
          2.8047819022928524e-17,
          2.807968742681009e-17,
          2.8112852188054847e-17,
          2.814730845968121e-17,
          2.8183048642225807e-17,
          2.822006241246506e-17,
          2.8258336757624874e-17,
          2.829785601509749e-17,
          2.833860191766594e-17,
          2.838055364421489e-17,
          2.8423687875892656e-17,
          2.846797885766578e-17,
          2.8513398465189694e-17,
          2.8559916276902294e-17,
          2.860749965122071e-17,
          2.865611380871147e-17,
          2.870572191907664e-17,
          2.875628519278439e-17,
          2.880776297715473e-17,
          2.886011285668575e-17,
          2.8913290757397154e-17,
          2.896725105494344e-17,
          2.902194668623563e-17,
          2.907732926429523e-17,
          2.913334919604466e-17,
          2.918995580272877e-17,
          2.924709744264706e-17,
          2.9304721635860604e-17,
          2.9362775190534194e-17,
          2.942120433055364e-17,
          2.94799548240582e-17,
          2.9538972112516486e-17,
          2.9598201439965866e-17,
          2.965758798203832e-17,
          2.971707697438111e-17,
          2.977661384008827e-17,
          2.983614431575478e-17,
          2.989561457576402e-17,
          2.9954971354430014e-17,
          3.001416206560834e-17,
          3.007313491940795e-17,
          3.013183903563599e-17,
          3.019022455361855e-17,
          3.024824273805657e-17,
          3.030584608057903e-17,
          3.036298839667906e-17,
          3.041962491772969e-17,
          3.047571237779401e-17,
          3.053120909496199e-17,
          3.058607504697244e-17,
          3.064027194088834e-17,
          3.0693763276628674e-17,
          3.074651440417617e-17,
          3.079849257430587e-17,
          3.084966698270976e-17,
          3.090000880741133e-17,
          3.0949491239398155e-17,
          3.0998089506424606e-17,
          3.104578088996444e-17,
          3.1092544735325267e-17,
          3.1138362454958746e-17,
          3.118321752503503e-17,
          3.1227095475375196e-17,
          3.126998387286166e-17,
          3.131187229848041e-17,
          3.135275231816569e-17,
          3.139261744765338e-17,
          3.1431463111569084e-17,
          3.146928659700087e-17,
          3.1506087001833767e-17,
          3.154186517813812e-17,
          3.1576623670929234e-17,
          3.1610366652632756e-17,
          3.1643099853603345e-17,
          3.167483048906753e-17,
          3.1705567182863696e-17,
          3.1735319888372605e-17,
          3.176409980703587e-17,
          3.179191930486788e-17,
          3.181879182737321e-17,
          3.184473181327982e-17,
          3.1869754607504304e-17,
          3.189387637375959e-17,
          3.191711400721258e-17,
          3.193948504759518e-17,
          3.1961007593159884e-17,
          3.1981700215864255e-17,
          3.20015818781554e-17,
          3.202067185170887e-17,
          3.20389896384651e-17,
          3.2056554894282366e-17,
          3.2073387355511186e-17,
          3.2089506768770657e-17,
          3.2104932824185267e-17,
          3.211968509231781e-17,
          3.213378296500854e-17,
          3.21472456003036e-17,
          3.2160091871631845e-17,
          3.217234032135846e-17,
          3.218400911881834e-17,
          3.219511602290426e-17,
          3.220567834925367e-17,
          3.2215712942053324e-17,
          3.2225236150450964e-17,
          3.22342638095361e-17,
          3.224281122582507e-17,
          3.2250893167158896e-17,
          3.225852385689793e-17,
          3.22657169722712e-17,
          3.2272485646717816e-17,
          3.2278842476032806e-17,
          3.228479952811246e-17,
          3.229036835607249e-17,
          3.2295560014497514e-17,
          3.230038507856359e-17,
          3.2304853665762324e-17,
          3.2308975459943756e-17,
          3.2312759737385034e-17,
          3.231621539458448e-17,
          3.231935097747529e-17,
          3.232217471174949e-17,
          3.2324694533980876e-17,
          3.232691812323712e-17,
          3.232885293287327e-17,
          3.2330506222204413e-17,
          3.233188508776003e-17,
          3.233299649383421e-17,
          3.233384730205346e-17,
          3.233444429969704e-17,
          3.233479422651972e-17,
          3.233490379984014e-17,
          3.233477973767665e-17,
          3.2334428779728905e-17,
          3.2333857706025036e-17,
          3.233307335307245e-17,
          3.233208262737299e-17,
          3.233089251618458e-17,
          3.232951009543534e-17,
          3.232794253471772e-17,
          3.2326197099315045e-17,
          3.2324281149236566e-17,
          3.232220213526005e-17,
          3.2319967592005476e-17,
          3.2317585128085827e-17,
          3.231506241340595e-17,
          3.2312407163699363e-17,
          3.2309627122419075e-17,
          3.230673004011448e-17,
          3.2303723651451364e-17,
          3.230061565004643e-17,
          3.22974136613086e-17,
          3.229412521349401e-17,
          3.229075770719785e-17,
          3.228731838351817e-17,
          3.2283814291140944e-17,
          3.228025225260422e-17,
          3.227663883000877e-17,
          3.227298029044986e-17,
          3.226928257144988e-17,
          3.226555124667443e-17,
          3.226179149221784e-17,
          3.2258008053742115e-17,
          3.225420521475284e-17,
          3.225038676629188e-17,
          3.2246555978319507e-17,
          3.2242715573055086e-17,
          3.2238867700532154e-17,
          3.223501391661785e-17,
          3.2231155163730315e-17,
          3.222729175447842e-17,
          3.2223423358429066e-17,
          3.221954899219518e-17,
          3.221566701301538e-17,
          3.2211775115982704e-17,
          3.220787033505495e-17,
          3.220394904796223e-17,
          3.220000698510383e-17,
          3.219603924250318e-17,
          3.219204029887072e-17,
          3.218800403679498e-17,
          3.218392376806352e-17,
          3.217979226308794e-17,
          3.217560178438431e-17,
          3.217134412403525e-17,
          3.216701064503549e-17,
          3.2162592326399895e-17,
          3.2158079811886714e-17,
          3.21534634621678e-17,
          3.21487334102542e-17,
          3.2143879619962396e-17,
          3.213889194718632e-17,
          3.213376020371964e-17,
          3.2128474223353264e-17,
          3.2123023929955014e-17,
          3.2117399407220646e-17,
          3.211159096977195e-17,
          3.2105589235259255e-17,
          3.209938519711707e-17,
          3.2092970297607757e-17,
          3.2086336500778673e-17,
          3.207947636495061e-17,
          3.207238311434907e-17,
          3.2065050709484624e-17,
          3.205747391588622e-17,
          3.204964837079024e-17,
          3.2041570647389364e-17,
          3.2033238316246935e-17,
          3.20246500034877e-17,
          3.201580544538318e-17,
          3.20067055389562e-17,
          3.1997352388240884e-17,
          3.198774934584602e-17,
          3.197790104948174e-17,
          3.1967813453128916e-17,
          3.195749385254234e-17,
          3.1946950904802074e-17,
          3.193619464164616e-17,
          3.192523647633744e-17,
          3.191408920384458e-17,
          3.190276699413847e-17,
          3.189128537843238e-17,
          3.187966122822089e-17,
          3.186791272699939e-17,
          3.185605933457789e-17,
          3.184412174392698e-17,
          3.183212183053015e-17,
          3.1820082594242195e-17,
          3.180802809368802e-17,
          3.1795983373265666e-17,
          3.1783974382849556e-17,
          3.1772027890322183e-17,
          3.176017138709296e-17,
          3.17484329867936e-17,
          3.1736841317372364e-17,
          3.1725425406838376e-17,
          3.171421456293521e-17,
          3.170323824705621e-17,
          3.1692525942736186e-17,
          3.168210701908638e-17,
          3.167201058956128e-17,
          3.166226536647225e-17,
          3.165289951168556e-17,
          3.164394048396385e-17,
          3.163541488342926e-17,
          3.162734829364613e-17,
          3.161976512183678e-17,
          3.1612688437757724e-17,
          3.1606139811778406e-17,
          3.1600139152712966e-17,
          3.159470454596611e-17,
          3.158985209256034e-17,
          3.15855957496151e-17,
          3.158194717285297e-17,
          3.157891556170724e-17,
          3.1576507507603054e-17,
          3.15747268459818e-17,
          3.1573574512630933e-17,
          3.157304840487466e-17,
          3.157314324817054e-17,
          3.157385046864404e-17,
          3.15751580720809e-17,
          3.1577050529880016e-17,
          3.1579508672452103e-17,
          3.1582509590530633e-17,
          3.158602654483994e-17,
          3.159002888454352e-17,
          3.1594481974870154e-17,
          3.1599347134292397e-17,
          3.160458158160325e-17,
          3.1610138393209796e-17,
          3.161596647093431e-17,
          3.1622010520583756e-17,
          3.162821104151554e-17,
          3.163450432740081e-17,
          3.164082247834997e-17,
          3.164709342453642e-17,
          3.1653240961419695e-17,
          3.1659184796637087e-17,
          3.1664840608601304e-17,
          3.1670120116805255e-17,
          3.167493116380601e-17,
          3.1679177808824886e-17,
          3.168276043286845e-17,
          3.168557585524507e-17,
          3.168751746131655e-17,
          3.168847534129719e-17,
          3.168833643987989e-17,
          3.1686984716439113e-17,
          3.1684301315533936e-17,
          3.1680164747402534e-17,
          3.167445107811683e-17,
          3.166703412903508e-17,
          3.165778568516865e-17,
          3.1646575712053334e-17,
          3.163327258069122e-17,
          3.1617743300110095e-17,
          3.15998537570633e-17,
          3.1579468962374726e-17,
          3.155645330341503e-17,
          3.153067080217559e-17,
          3.1501985378394365e-17,
          3.1470261117168044e-17,
          3.143536254047416e-17,
          3.1397154882014065e-17,
          3.1355504364771834e-17,
          3.131027848068205e-17,
          3.126134627178186e-17,
          3.1208578612219776e-17,
          3.1151848490487416e-17,
          3.109103129122992e-17,
          3.1026005075995224e-17,
          3.0956650862270755e-17,
          3.088285290016008e-17,
          3.080449894605215e-17,
          3.0721480532628734e-17,
          3.0633693234572304e-17,
          3.0541036929325563e-17,
          3.044341605226804e-17,
          3.034073984567949e-17,
          3.023292260086132e-17,
          3.011988389280965e-17,
          3.00015488068296e-17,
          2.987784815649993e-17,
          2.974871869241338e-17,
          2.961410330111859e-17,
          2.9473951193726495e-17,
          2.932821808364393e-17,
          2.917686635292317e-17,
          2.901986520674207e-17,
          2.885719081553382e-17,
          2.8688826444335926e-17,
          2.85147625689268e-17,
          2.8334996978360497e-17,
          2.8149534863531935e-17,
          2.79583888914411e-17,
          2.7761579264836825e-17,
          2.7559133766984178e-17,
          2.7351087791301848e-17,
          2.7137484355667628e-17,
          2.6918374101227522e-17,
          2.669381527556062e-17,
          2.6463873700124724e-17,
          2.6228622721912185e-17,
          2.5988143149305245e-17,
          2.574252317216087e-17,
          2.5491858266175315e-17,
          2.523625108165863e-17,
          2.4975811316852693e-17,
          2.471065557599243e-17,
          2.444090721235096e-17,
          2.4166696156530355e-17,
          2.3888158730343056e-17,
          2.3605437446629583e-17,
          2.331868079542399e-17,
          2.302804301692051e-17,
          2.2733683861708017e-17,
          2.2435768338826143e-17,
          2.2134466452186602e-17,
          2.182995292596924e-17,
          2.1522406919635442e-17,
          2.1212011733208907e-17,
          2.089895450355546e-17,
          2.058342589237179e-17,
          2.0265619766651872e-17,
          1.9945732872423582e-17,
          1.962396450254246e-17,
          1.930051615940264e-17
         ],
         "yaxis": "y"
        },
        {
         "fill": "tozeroy",
         "hovertemplate": "<b>Synthetic</b><br>Value: %{x}<br>Frequency: %{y}<extra></extra>",
         "legendgroup": "Synthetic",
         "marker": {
          "color": "#01E0C9"
         },
         "mode": "lines",
         "name": "Synthetic",
         "showlegend": true,
         "type": "scatter",
         "x": [
          "2020-01-07T00:00:00",
          "2020-01-07T17:34:04.800000",
          "2020-01-08T11:08:09.600000",
          "2020-01-09T04:42:14.400000",
          "2020-01-09T22:16:19.200000",
          "2020-01-10T15:50:24",
          "2020-01-11T09:24:28.800000",
          "2020-01-12T02:58:33.600000",
          "2020-01-12T20:32:38.400000",
          "2020-01-13T14:06:43.200000",
          "2020-01-14T07:40:48",
          "2020-01-15T01:14:52.800000",
          "2020-01-15T18:48:57.600000",
          "2020-01-16T12:23:02.400000",
          "2020-01-17T05:57:07.200000",
          "2020-01-17T23:31:12",
          "2020-01-18T17:05:16.800000",
          "2020-01-19T10:39:21.600000",
          "2020-01-20T04:13:26.400000",
          "2020-01-20T21:47:31.200000",
          "2020-01-21T15:21:36",
          "2020-01-22T08:55:40.800000",
          "2020-01-23T02:29:45.600000",
          "2020-01-23T20:03:50.400000",
          "2020-01-24T13:37:55.200000",
          "2020-01-25T07:12:00",
          "2020-01-26T00:46:04.800000",
          "2020-01-26T18:20:09.600000",
          "2020-01-27T11:54:14.400000",
          "2020-01-28T05:28:19.200000",
          "2020-01-28T23:02:24",
          "2020-01-29T16:36:28.800000",
          "2020-01-30T10:10:33.600000",
          "2020-01-31T03:44:38.400000",
          "2020-01-31T21:18:43.200000",
          "2020-02-01T14:52:48",
          "2020-02-02T08:26:52.800000",
          "2020-02-03T02:00:57.600000",
          "2020-02-03T19:35:02.400000",
          "2020-02-04T13:09:07.200000",
          "2020-02-05T06:43:12",
          "2020-02-06T00:17:16.800000",
          "2020-02-06T17:51:21.600000",
          "2020-02-07T11:25:26.400000",
          "2020-02-08T04:59:31.200000",
          "2020-02-08T22:33:36",
          "2020-02-09T16:07:40.800000",
          "2020-02-10T09:41:45.600000",
          "2020-02-11T03:15:50.400000",
          "2020-02-11T20:49:55.200000",
          "2020-02-12T14:24:00",
          "2020-02-13T07:58:04.800000",
          "2020-02-14T01:32:09.600000",
          "2020-02-14T19:06:14.400000",
          "2020-02-15T12:40:19.200000",
          "2020-02-16T06:14:24",
          "2020-02-16T23:48:28.800000",
          "2020-02-17T17:22:33.600000",
          "2020-02-18T10:56:38.400000",
          "2020-02-19T04:30:43.200000",
          "2020-02-19T22:04:48",
          "2020-02-20T15:38:52.800000",
          "2020-02-21T09:12:57.600000",
          "2020-02-22T02:47:02.400000",
          "2020-02-22T20:21:07.200000",
          "2020-02-23T13:55:12",
          "2020-02-24T07:29:16.800000",
          "2020-02-25T01:03:21.600000",
          "2020-02-25T18:37:26.400000",
          "2020-02-26T12:11:31.200000",
          "2020-02-27T05:45:36",
          "2020-02-27T23:19:40.800000",
          "2020-02-28T16:53:45.600000",
          "2020-02-29T10:27:50.400000",
          "2020-03-01T04:01:55.200000",
          "2020-03-01T21:36:00",
          "2020-03-02T15:10:04.800000",
          "2020-03-03T08:44:09.600000",
          "2020-03-04T02:18:14.400000",
          "2020-03-04T19:52:19.200000",
          "2020-03-05T13:26:24",
          "2020-03-06T07:00:28.800000",
          "2020-03-07T00:34:33.600000",
          "2020-03-07T18:08:38.400000",
          "2020-03-08T11:42:43.200000",
          "2020-03-09T05:16:48",
          "2020-03-09T22:50:52.800000",
          "2020-03-10T16:24:57.600000",
          "2020-03-11T09:59:02.400000",
          "2020-03-12T03:33:07.200000",
          "2020-03-12T21:07:12",
          "2020-03-13T14:41:16.800000",
          "2020-03-14T08:15:21.600000",
          "2020-03-15T01:49:26.400000",
          "2020-03-15T19:23:31.200000",
          "2020-03-16T12:57:36",
          "2020-03-17T06:31:40.800000",
          "2020-03-18T00:05:45.600000",
          "2020-03-18T17:39:50.400000",
          "2020-03-19T11:13:55.200000",
          "2020-03-20T04:48:00",
          "2020-03-20T22:22:04.800000",
          "2020-03-21T15:56:09.600000",
          "2020-03-22T09:30:14.400000",
          "2020-03-23T03:04:19.200000",
          "2020-03-23T20:38:24",
          "2020-03-24T14:12:28.800000",
          "2020-03-25T07:46:33.600000",
          "2020-03-26T01:20:38.400000",
          "2020-03-26T18:54:43.200000",
          "2020-03-27T12:28:48",
          "2020-03-28T06:02:52.800000",
          "2020-03-28T23:36:57.600000",
          "2020-03-29T17:11:02.400000",
          "2020-03-30T10:45:07.200000",
          "2020-03-31T04:19:12",
          "2020-03-31T21:53:16.800000",
          "2020-04-01T15:27:21.600000",
          "2020-04-02T09:01:26.400000",
          "2020-04-03T02:35:31.200000",
          "2020-04-03T20:09:36",
          "2020-04-04T13:43:40.800000",
          "2020-04-05T07:17:45.600000",
          "2020-04-06T00:51:50.400000",
          "2020-04-06T18:25:55.200000",
          "2020-04-07T12:00:00",
          "2020-04-08T05:34:04.800000",
          "2020-04-08T23:08:09.600000",
          "2020-04-09T16:42:14.400000",
          "2020-04-10T10:16:19.200000",
          "2020-04-11T03:50:24",
          "2020-04-11T21:24:28.800000",
          "2020-04-12T14:58:33.600000",
          "2020-04-13T08:32:38.400000",
          "2020-04-14T02:06:43.200000",
          "2020-04-14T19:40:48",
          "2020-04-15T13:14:52.800000",
          "2020-04-16T06:48:57.600000",
          "2020-04-17T00:23:02.400000",
          "2020-04-17T17:57:07.200000",
          "2020-04-18T11:31:12",
          "2020-04-19T05:05:16.800000",
          "2020-04-19T22:39:21.600000",
          "2020-04-20T16:13:26.400000",
          "2020-04-21T09:47:31.200000",
          "2020-04-22T03:21:36",
          "2020-04-22T20:55:40.800000",
          "2020-04-23T14:29:45.600000",
          "2020-04-24T08:03:50.400000",
          "2020-04-25T01:37:55.200000",
          "2020-04-25T19:12:00",
          "2020-04-26T12:46:04.800000",
          "2020-04-27T06:20:09.600000",
          "2020-04-27T23:54:14.400000",
          "2020-04-28T17:28:19.200000",
          "2020-04-29T11:02:24",
          "2020-04-30T04:36:28.800000",
          "2020-04-30T22:10:33.600000",
          "2020-05-01T15:44:38.400000",
          "2020-05-02T09:18:43.200000",
          "2020-05-03T02:52:48",
          "2020-05-03T20:26:52.800000",
          "2020-05-04T14:00:57.600000",
          "2020-05-05T07:35:02.400000",
          "2020-05-06T01:09:07.200000",
          "2020-05-06T18:43:12",
          "2020-05-07T12:17:16.800000",
          "2020-05-08T05:51:21.600000",
          "2020-05-08T23:25:26.400000",
          "2020-05-09T16:59:31.200000",
          "2020-05-10T10:33:36",
          "2020-05-11T04:07:40.800000",
          "2020-05-11T21:41:45.600000",
          "2020-05-12T15:15:50.400000",
          "2020-05-13T08:49:55.200000",
          "2020-05-14T02:24:00",
          "2020-05-14T19:58:04.800000",
          "2020-05-15T13:32:09.600000",
          "2020-05-16T07:06:14.400000",
          "2020-05-17T00:40:19.200000",
          "2020-05-17T18:14:24",
          "2020-05-18T11:48:28.800000",
          "2020-05-19T05:22:33.600000",
          "2020-05-19T22:56:38.400000",
          "2020-05-20T16:30:43.200000",
          "2020-05-21T10:04:48",
          "2020-05-22T03:38:52.800000",
          "2020-05-22T21:12:57.600000",
          "2020-05-23T14:47:02.400000",
          "2020-05-24T08:21:07.200000",
          "2020-05-25T01:55:12",
          "2020-05-25T19:29:16.800000",
          "2020-05-26T13:03:21.600000",
          "2020-05-27T06:37:26.400000",
          "2020-05-28T00:11:31.200000",
          "2020-05-28T17:45:36",
          "2020-05-29T11:19:40.800000",
          "2020-05-30T04:53:45.600000",
          "2020-05-30T22:27:50.400000",
          "2020-05-31T16:01:55.200000",
          "2020-06-01T09:36:00",
          "2020-06-02T03:10:04.800000",
          "2020-06-02T20:44:09.600000",
          "2020-06-03T14:18:14.400000",
          "2020-06-04T07:52:19.200000",
          "2020-06-05T01:26:24",
          "2020-06-05T19:00:28.800000",
          "2020-06-06T12:34:33.600000",
          "2020-06-07T06:08:38.400000",
          "2020-06-07T23:42:43.200000",
          "2020-06-08T17:16:48",
          "2020-06-09T10:50:52.800000",
          "2020-06-10T04:24:57.600000",
          "2020-06-10T21:59:02.400000",
          "2020-06-11T15:33:07.200000",
          "2020-06-12T09:07:12",
          "2020-06-13T02:41:16.800000",
          "2020-06-13T20:15:21.600000",
          "2020-06-14T13:49:26.400000",
          "2020-06-15T07:23:31.200000",
          "2020-06-16T00:57:36",
          "2020-06-16T18:31:40.800000",
          "2020-06-17T12:05:45.600000",
          "2020-06-18T05:39:50.400000",
          "2020-06-18T23:13:55.200000",
          "2020-06-19T16:48:00",
          "2020-06-20T10:22:04.800000",
          "2020-06-21T03:56:09.600000",
          "2020-06-21T21:30:14.400000",
          "2020-06-22T15:04:19.200000",
          "2020-06-23T08:38:24",
          "2020-06-24T02:12:28.800000",
          "2020-06-24T19:46:33.600000",
          "2020-06-25T13:20:38.400000",
          "2020-06-26T06:54:43.200000",
          "2020-06-27T00:28:48",
          "2020-06-27T18:02:52.800000",
          "2020-06-28T11:36:57.600000",
          "2020-06-29T05:11:02.400000",
          "2020-06-29T22:45:07.200000",
          "2020-06-30T16:19:12",
          "2020-07-01T09:53:16.800000",
          "2020-07-02T03:27:21.600000",
          "2020-07-02T21:01:26.400000",
          "2020-07-03T14:35:31.200000",
          "2020-07-04T08:09:36",
          "2020-07-05T01:43:40.800000",
          "2020-07-05T19:17:45.600000",
          "2020-07-06T12:51:50.400000",
          "2020-07-07T06:25:55.200000",
          "2020-07-08T00:00:00",
          "2020-07-08T17:34:04.800000",
          "2020-07-09T11:08:09.600000",
          "2020-07-10T04:42:14.400000",
          "2020-07-10T22:16:19.200000",
          "2020-07-11T15:50:24",
          "2020-07-12T09:24:28.800000",
          "2020-07-13T02:58:33.600000",
          "2020-07-13T20:32:38.400000",
          "2020-07-14T14:06:43.200000",
          "2020-07-15T07:40:48",
          "2020-07-16T01:14:52.800000",
          "2020-07-16T18:48:57.600000",
          "2020-07-17T12:23:02.400000",
          "2020-07-18T05:57:07.200000",
          "2020-07-18T23:31:12",
          "2020-07-19T17:05:16.800000",
          "2020-07-20T10:39:21.600000",
          "2020-07-21T04:13:26.400000",
          "2020-07-21T21:47:31.200000",
          "2020-07-22T15:21:36",
          "2020-07-23T08:55:40.800000",
          "2020-07-24T02:29:45.600000",
          "2020-07-24T20:03:50.400000",
          "2020-07-25T13:37:55.200000",
          "2020-07-26T07:12:00",
          "2020-07-27T00:46:04.800000",
          "2020-07-27T18:20:09.600000",
          "2020-07-28T11:54:14.400000",
          "2020-07-29T05:28:19.200000",
          "2020-07-29T23:02:24",
          "2020-07-30T16:36:28.800000",
          "2020-07-31T10:10:33.600000",
          "2020-08-01T03:44:38.400000",
          "2020-08-01T21:18:43.200000",
          "2020-08-02T14:52:48",
          "2020-08-03T08:26:52.800000",
          "2020-08-04T02:00:57.600000",
          "2020-08-04T19:35:02.400000",
          "2020-08-05T13:09:07.200000",
          "2020-08-06T06:43:12",
          "2020-08-07T00:17:16.800000",
          "2020-08-07T17:51:21.600000",
          "2020-08-08T11:25:26.400000",
          "2020-08-09T04:59:31.200000",
          "2020-08-09T22:33:36",
          "2020-08-10T16:07:40.800000",
          "2020-08-11T09:41:45.600000",
          "2020-08-12T03:15:50.400000",
          "2020-08-12T20:49:55.200000",
          "2020-08-13T14:24:00",
          "2020-08-14T07:58:04.800000",
          "2020-08-15T01:32:09.600000",
          "2020-08-15T19:06:14.400000",
          "2020-08-16T12:40:19.200000",
          "2020-08-17T06:14:24",
          "2020-08-17T23:48:28.800000",
          "2020-08-18T17:22:33.600000",
          "2020-08-19T10:56:38.400000",
          "2020-08-20T04:30:43.200000",
          "2020-08-20T22:04:48",
          "2020-08-21T15:38:52.800000",
          "2020-08-22T09:12:57.600000",
          "2020-08-23T02:47:02.400000",
          "2020-08-23T20:21:07.200000",
          "2020-08-24T13:55:12",
          "2020-08-25T07:29:16.800000",
          "2020-08-26T01:03:21.600000",
          "2020-08-26T18:37:26.400000",
          "2020-08-27T12:11:31.200000",
          "2020-08-28T05:45:36",
          "2020-08-28T23:19:40.800000",
          "2020-08-29T16:53:45.600000",
          "2020-08-30T10:27:50.400000",
          "2020-08-31T04:01:55.200000",
          "2020-08-31T21:36:00",
          "2020-09-01T15:10:04.800000",
          "2020-09-02T08:44:09.600000",
          "2020-09-03T02:18:14.400000",
          "2020-09-03T19:52:19.200000",
          "2020-09-04T13:26:24",
          "2020-09-05T07:00:28.800000",
          "2020-09-06T00:34:33.600000",
          "2020-09-06T18:08:38.400000",
          "2020-09-07T11:42:43.200000",
          "2020-09-08T05:16:48",
          "2020-09-08T22:50:52.800000",
          "2020-09-09T16:24:57.600000",
          "2020-09-10T09:59:02.400000",
          "2020-09-11T03:33:07.200000",
          "2020-09-11T21:07:12",
          "2020-09-12T14:41:16.800000",
          "2020-09-13T08:15:21.600000",
          "2020-09-14T01:49:26.400000",
          "2020-09-14T19:23:31.200000",
          "2020-09-15T12:57:36",
          "2020-09-16T06:31:40.800000",
          "2020-09-17T00:05:45.600000",
          "2020-09-17T17:39:50.400000",
          "2020-09-18T11:13:55.200000",
          "2020-09-19T04:48:00",
          "2020-09-19T22:22:04.800000",
          "2020-09-20T15:56:09.600000",
          "2020-09-21T09:30:14.400000",
          "2020-09-22T03:04:19.200000",
          "2020-09-22T20:38:24",
          "2020-09-23T14:12:28.800000",
          "2020-09-24T07:46:33.600000",
          "2020-09-25T01:20:38.400000",
          "2020-09-25T18:54:43.200000",
          "2020-09-26T12:28:48",
          "2020-09-27T06:02:52.800000",
          "2020-09-27T23:36:57.600000",
          "2020-09-28T17:11:02.400000",
          "2020-09-29T10:45:07.200000",
          "2020-09-30T04:19:12",
          "2020-09-30T21:53:16.800000",
          "2020-10-01T15:27:21.600000",
          "2020-10-02T09:01:26.400000",
          "2020-10-03T02:35:31.200000",
          "2020-10-03T20:09:36",
          "2020-10-04T13:43:40.800000",
          "2020-10-05T07:17:45.600000",
          "2020-10-06T00:51:50.400000",
          "2020-10-06T18:25:55.200000",
          "2020-10-07T12:00:00",
          "2020-10-08T05:34:04.800000",
          "2020-10-08T23:08:09.600000",
          "2020-10-09T16:42:14.400000",
          "2020-10-10T10:16:19.200000",
          "2020-10-11T03:50:24",
          "2020-10-11T21:24:28.800000",
          "2020-10-12T14:58:33.600000",
          "2020-10-13T08:32:38.400000",
          "2020-10-14T02:06:43.200000",
          "2020-10-14T19:40:48",
          "2020-10-15T13:14:52.800000",
          "2020-10-16T06:48:57.600000",
          "2020-10-17T00:23:02.400000",
          "2020-10-17T17:57:07.200000",
          "2020-10-18T11:31:12",
          "2020-10-19T05:05:16.800000",
          "2020-10-19T22:39:21.600000",
          "2020-10-20T16:13:26.400000",
          "2020-10-21T09:47:31.200000",
          "2020-10-22T03:21:36",
          "2020-10-22T20:55:40.800000",
          "2020-10-23T14:29:45.600000",
          "2020-10-24T08:03:50.400000",
          "2020-10-25T01:37:55.200000",
          "2020-10-25T19:12:00",
          "2020-10-26T12:46:04.800000",
          "2020-10-27T06:20:09.600000",
          "2020-10-27T23:54:14.400000",
          "2020-10-28T17:28:19.200000",
          "2020-10-29T11:02:24",
          "2020-10-30T04:36:28.800000",
          "2020-10-30T22:10:33.600000",
          "2020-10-31T15:44:38.400000",
          "2020-11-01T09:18:43.200000",
          "2020-11-02T02:52:48",
          "2020-11-02T20:26:52.800000",
          "2020-11-03T14:00:57.600000",
          "2020-11-04T07:35:02.400000",
          "2020-11-05T01:09:07.200000",
          "2020-11-05T18:43:12",
          "2020-11-06T12:17:16.800000",
          "2020-11-07T05:51:21.600000",
          "2020-11-07T23:25:26.400000",
          "2020-11-08T16:59:31.200000",
          "2020-11-09T10:33:36",
          "2020-11-10T04:07:40.800000",
          "2020-11-10T21:41:45.600000",
          "2020-11-11T15:15:50.400000",
          "2020-11-12T08:49:55.200000",
          "2020-11-13T02:24:00",
          "2020-11-13T19:58:04.800000",
          "2020-11-14T13:32:09.600000",
          "2020-11-15T07:06:14.400000",
          "2020-11-16T00:40:19.200000",
          "2020-11-16T18:14:24",
          "2020-11-17T11:48:28.800000",
          "2020-11-18T05:22:33.600000",
          "2020-11-18T22:56:38.400000",
          "2020-11-19T16:30:43.200000",
          "2020-11-20T10:04:48",
          "2020-11-21T03:38:52.800000",
          "2020-11-21T21:12:57.600000",
          "2020-11-22T14:47:02.400000",
          "2020-11-23T08:21:07.200000",
          "2020-11-24T01:55:12",
          "2020-11-24T19:29:16.800000",
          "2020-11-25T13:03:21.600000",
          "2020-11-26T06:37:26.400000",
          "2020-11-27T00:11:31.200000",
          "2020-11-27T17:45:36",
          "2020-11-28T11:19:40.800000",
          "2020-11-29T04:53:45.600000",
          "2020-11-29T22:27:50.400000",
          "2020-11-30T16:01:55.200000",
          "2020-12-01T09:36:00",
          "2020-12-02T03:10:04.800000",
          "2020-12-02T20:44:09.600000",
          "2020-12-03T14:18:14.400000",
          "2020-12-04T07:52:19.200000",
          "2020-12-05T01:26:24",
          "2020-12-05T19:00:28.800000",
          "2020-12-06T12:34:33.600000",
          "2020-12-07T06:08:38.400000",
          "2020-12-07T23:42:43.200000",
          "2020-12-08T17:16:48",
          "2020-12-09T10:50:52.800000",
          "2020-12-10T04:24:57.600000",
          "2020-12-10T21:59:02.400000",
          "2020-12-11T15:33:07.200000",
          "2020-12-12T09:07:12",
          "2020-12-13T02:41:16.800000",
          "2020-12-13T20:15:21.600000",
          "2020-12-14T13:49:26.400000",
          "2020-12-15T07:23:31.200000",
          "2020-12-16T00:57:36",
          "2020-12-16T18:31:40.800000",
          "2020-12-17T12:05:45.600000",
          "2020-12-18T05:39:50.400000",
          "2020-12-18T23:13:55.200000",
          "2020-12-19T16:48:00",
          "2020-12-20T10:22:04.800000",
          "2020-12-21T03:56:09.600000",
          "2020-12-21T21:30:14.400000",
          "2020-12-22T15:04:19.200000",
          "2020-12-23T08:38:24",
          "2020-12-24T02:12:28.800000",
          "2020-12-24T19:46:33.600000",
          "2020-12-25T13:20:38.400000",
          "2020-12-26T06:54:43.200000",
          "2020-12-27T00:28:48",
          "2020-12-27T18:02:52.800000",
          "2020-12-28T11:36:57.600000",
          "2020-12-29T05:11:02.400000",
          "2020-12-29T22:45:07.200000",
          "2020-12-30T16:19:12",
          "2020-12-31T09:53:16.800000",
          "2021-01-01T03:27:21.600000",
          "2021-01-01T21:01:26.400000",
          "2021-01-02T14:35:31.200000",
          "2021-01-03T08:09:36",
          "2021-01-04T01:43:40.800000",
          "2021-01-04T19:17:45.600000",
          "2021-01-05T12:51:50.400000",
          "2021-01-06T06:25:55.200000"
         ],
         "xaxis": "x",
         "y": [
          1.4100479412555e-17,
          1.4363131054526977e-17,
          1.462583290981194e-17,
          1.4888448559293473e-17,
          1.515084145580118e-17,
          1.54128751136354e-17,
          1.5674413297871984e-17,
          1.5935320213057314e-17,
          1.619546069095424e-17,
          1.6454700376972997e-17,
          1.6712905914929773e-17,
          1.6969945129821106e-17,
          1.7225687208267276e-17,
          1.7480002876325746e-17,
          1.7732764574350388e-17,
          1.7983846628629756e-17,
          1.823312541950508e-17,
          1.84804795457147e-17,
          1.872578998469151e-17,
          1.896894024859332e-17,
          1.9209816535825887e-17,
          1.9448307877830977e-17,
          1.9684306280957375e-17,
          1.9917706863203034e-17,
          2.014840798566297e-17,
          2.0376311378495115e-17,
          2.0601322261269666e-17,
          2.0823349457544778e-17,
          2.1042305503524138e-17,
          2.1258106750692437e-17,
          2.1470673462295913e-17,
          2.1679929903575518e-17,
          2.1885804425639447e-17,
          2.2088229542906878e-17,
          2.2287142004033387e-17,
          2.2482482856237962e-17,
          2.2674197502984473e-17,
          2.286223575494554e-17,
          2.3046551874208087e-17,
          2.3227104611661853e-17,
          2.340385723754905e-17,
          2.357677756513421e-17,
          2.3745837967459745e-17,
          2.3911015387181803e-17,
          2.4072291339457002e-17,
          2.4229651907879395e-17,
          2.4383087733449925e-17,
          2.4532593996595456e-17,
          2.4678170392230746e-17,
          2.481982109788576e-17,
          2.4957554734905277e-17,
          2.5091384322760304e-17,
          2.522132722649662e-17,
          2.5347405097355873e-17,
          2.5469643806627995e-17,
          2.5588073372782128e-17,
          2.5702727881947634e-17,
          2.581364540180969e-17,
          2.5920867889016684e-17,
          2.60244410901868e-17,
          2.6124414436616227e-17,
          2.6220840932816937e-17,
          2.6313777039004722e-17,
          2.640328254768728e-17,
          2.6489420454499924e-17,
          2.6572256823469048e-17,
          2.665186064688264e-17,
          2.672830369996339e-17,
          2.6801660390568395e-17,
          2.6872007604136544e-17,
          2.69394245441365e-17,
          2.7003992568269838e-17,
          2.7065795020715272e-17,
          2.7124917060704023e-17,
          2.7181445487734906e-17,
          2.723546856376129e-17,
          2.728707583268727e-17,
          2.7336357937534497e-17,
          2.7383406435648067e-17,
          2.742831361233443e-17,
          2.747117229332853e-17,
          2.7512075656507208e-17,
          2.7551117043272947e-17,
          2.7588389770049563e-17,
          2.7623986940337423e-17,
          2.7658001257783255e-17,
          2.7690524840734968e-17,
          2.772164903875077e-17,
          2.7751464251541382e-17,
          2.7780059750825205e-17,
          2.780752350558249e-17,
          2.783394201118969e-17,
          2.785940012291686e-17,
          2.788398089426853e-17,
          2.790776542064064e-17,
          2.7930832688762295e-17,
          2.7953259432378786e-17,
          2.7975119994625624e-17,
          2.7996486197527367e-17,
          2.801742721904072e-17,
          2.803800947804678e-17,
          2.8058296527675765e-17,
          2.807834895732963e-17,
          2.8098224303742117e-17,
          2.811797697139626e-17,
          2.813765816258858e-17,
          2.8157315817403274e-17,
          2.8176994563831997e-17,
          2.819673567823998e-17,
          2.821657705635115e-17,
          2.823655319488691e-17,
          2.825669518396191e-17,
          2.827703071030215e-17,
          2.829758407131432e-17,
          2.831837619999638e-17,
          2.833942470064411e-17,
          2.8360743895265884e-17,
          2.8382344880580007e-17,
          2.840423559543183e-17,
          2.842642089842386e-17,
          2.8448902655518867e-17,
          2.8471679837330715e-17,
          2.8494748625785663e-17,
          2.851810252979592e-17,
          2.8541732509549925e-17,
          2.856562710899253e-17,
          2.858977259603009e-17,
          2.8614153109964967e-17,
          2.863875081563137e-17,
          2.86635460636775e-17,
          2.8688517556410124e-17,
          2.87136425185908e-17,
          2.873889687255499e-17,
          2.8764255416998545e-17,
          2.878969200876357e-17,
          2.8815179746934504e-17,
          2.8840691158549e-17,
          2.886619838521206e-17,
          2.889167336989719e-17,
          2.891708804321639e-17,
          2.894241450843514e-17,
          2.896762522451413e-17,
          2.899269318646092e-17,
          2.901759210228673e-17,
          2.904229656586985e-17,
          2.906678222504575e-17,
          2.909102594425538e-17,
          2.911500596110915e-17,
          2.913870203624241e-17,
          2.916209559586366e-17,
          2.918516986642863e-17,
          2.9207910000899805e-17,
          2.923030319608636e-17,
          2.9252338800593846e-17,
          2.9274008412951855e-17,
          2.929530596952635e-17,
          2.931622782186344e-17,
          2.933677280315859e-17,
          2.935694228358353e-17,
          2.937674021425548e-17,
          2.9396173159672717e-17,
          2.9415250318495556e-17,
          2.9433983532592975e-17,
          2.945238728432815e-17,
          2.947047868210253e-17,
          2.9488277434226955e-17,
          2.9505805811237125e-17,
          2.9523088596816e-17,
          2.954015302753635e-17,
          2.95570287216786e-17,
          2.957374759742556e-17,
          2.9590343780779063e-17,
          2.9606853503583946e-17,
          2.962331499208596e-17,
          2.963976834648518e-17,
          2.965625541198635e-17,
          2.9672819641876015e-17,
          2.968950595319116e-17,
          2.9706360575568264e-17,
          2.9723430893890386e-17,
          2.974076528537085e-17,
          2.97584129517302e-17,
          2.9776423747142163e-17,
          2.979484800263651e-17,
          2.981373634765546e-17,
          2.9833139529469736e-17,
          2.985310823116302e-17,
          2.987369288889338e-17,
          2.9894943509139067e-17,
          2.991690948662993e-17,
          2.9939639423656296e-17,
          2.9963180951437174e-17,
          2.998758055421133e-17,
          3.001288339670275e-17,
          3.003913315558737e-17,
          3.0066371855564964e-17,
          3.009463971061991e-17,
          3.012397497102089e-17,
          3.0154413776584533e-17,
          3.018599001669262e-17,
          3.021873519752361e-17,
          3.0252678316920864e-17,
          3.0287845747283056e-17,
          3.0324261126830015e-17,
          3.036194525955172e-17,
          3.0400916024115276e-17,
          3.0441188291959055e-17,
          3.048277385476917e-17,
          3.052568136148772e-17,
          3.056991626496636e-17,
          3.061548077833311e-17,
          3.06623738411087e-17,
          3.0710591095063505e-17,
          3.076012486976757e-17,
          3.081096417775618e-17,
          3.0863094719189283e-17,
          3.091649889585402e-17,
          3.097115583432194e-17,
          3.1027041418046464e-17,
          3.108412832815285e-17,
          3.114238609264122e-17,
          3.1201781143707865e-17,
          3.1262276882854286e-17,
          3.1323833753440336e-17,
          3.13864093203098e-17,
          3.1449958356108653e-17,
          3.151443293389493e-17,
          3.1579782525622056e-17,
          3.164595410607932e-17,
          3.171289226185096e-17,
          3.178053930485877e-17,
          3.184883539003976e-17,
          3.191771863671998e-17,
          3.198712525323545e-17,
          3.205698966435504e-17,
          3.212724464107106e-17,
          3.2197821432319525e-17,
          3.2268649898208e-17,
          3.233965864432882e-17,
          3.2410775156758564e-17,
          3.2481925937345406e-17,
          3.255303663890762e-17,
          3.262403219997375e-17,
          3.2694836978720423e-17,
          3.2765374885773947e-17,
          3.2835569515556774e-17,
          3.2905344275889767e-17,
          3.2974622515568166e-17,
          3.3043327649656727e-17,
          3.311138328226121e-17,
          3.317871332656615e-17,
          3.324524212193627e-17,
          3.3310894547902864e-17,
          3.337559613488402e-17,
          3.3439273171495094e-17,
          3.3501852808337275e-17,
          3.356326315815872e-17,
          3.36234333923166e-17,
          3.368229383347357e-17,
          3.3739776044483527e-17,
          3.379581291344512e-17,
          3.385033873490632e-17,
          3.390328928723003e-17,
          3.395460190613371e-17,
          3.4004215554442737e-17,
          3.40520708880999e-17,
          3.40981103184875e-17,
          3.414227807113541e-17,
          3.418452024089097e-17,
          3.4224784843641334e-17,
          3.426302186468268e-17,
          3.429918330384319e-17,
          3.4333223217469955e-17,
          3.4365097757395446e-17,
          3.4394765207004394e-17,
          3.4422186014528663e-17,
          3.4447322823695507e-17,
          3.447014050186062e-17,
          3.449060616575871e-17,
          3.450868920500198e-17,
          3.4524361303461376e-17,
          3.4537596458660037e-17,
          3.454837099931028e-17,
          3.455666360112289e-17,
          3.4562455301011304e-17,
          3.4565729509815884e-17,
          3.456647202366425e-17,
          3.456467103408156e-17,
          3.4560317136959345e-17,
          3.455340334048607e-17,
          3.454392507213611e-17,
          3.4531880184807354e-17,
          3.451726896219144e-17,
          3.4500094123452855e-17,
          3.448036082728457e-17,
          3.445807667540189e-17,
          3.443325171552515e-17,
          3.4405898443894716e-17,
          3.4376031807353147e-17,
          3.434366920501711e-17,
          3.4308830489555915e-17,
          3.427153796807904e-17,
          3.423181640263084e-17,
          3.418969301027265e-17,
          3.414519746272908e-17,
          3.4098361885559736e-17,
          3.404922085680977e-17,
          3.399781140508059e-17,
          3.3944173006948855e-17,
          3.3888347583658923e-17,
          3.383037949699101e-17,
          3.3770315544208684e-17,
          3.370820495196901e-17,
          3.3644099369078574e-17,
          3.357805285795645e-17,
          3.351012188466471e-17,
          3.344036530735837e-17,
          3.336884436298705e-17,
          3.3295622652087254e-17,
          3.32207661214826e-17,
          3.314434304471573e-17,
          3.306642400001539e-17,
          3.298708184560618e-17,
          3.290639169216566e-17,
          3.2824430872217594e-17,
          3.2741278906261445e-17,
          3.265701746542614e-17,
          3.257173033044603e-17,
          3.2485503346743927e-17,
          3.2398424375419144e-17,
          3.231058323994223e-17,
          3.222207166835027e-17,
          3.213298323075731e-17,
          3.204341327199059e-17,
          3.1953458839182124e-17,
          3.186321860414246e-17,
          3.1772792780367426e-17,
          3.1682283034531786e-17,
          3.159179239234935e-17,
          3.150142513867916e-17,
          3.1411286711787586e-17,
          3.1321483591693773e-17,
          3.1232123182533756e-17,
          3.114331368891479e-17,
          3.105516398624093e-17,
          3.096778348502683e-17,
          3.0881281989224556e-17,
          3.079576954862742e-17,
          3.071135630543754e-17,
          3.062815233510215e-17,
          3.054626748156151e-17,
          3.046581118707145e-17,
          3.038689231679868e-17,
          3.03096189784042e-17,
          3.02340983368669e-17,
          3.016043642482944e-17,
          3.0088737948763973e-17,
          3.001910609129596e-17,
          2.995164231004165e-17,
          2.988644613334966e-17,
          2.9823614953350895e-17,
          2.9763243816754535e-17,
          2.97054252138507e-17,
          2.965024886619299e-17,
          2.959780151346613e-17,
          2.95481667000541e-17,
          2.950142456184795e-17,
          2.9457651613840146e-17,
          2.941692053907402e-17,
          2.937929997952161e-17,
          2.934485432947884e-17,
          2.931364353206723e-17,
          2.928572287944262e-17,
          2.926114281731241e-17,
          2.923994875436031e-17,
          2.922218087718096e-17,
          2.920787397131846e-17,
          2.9197057248999484e-17,
          2.918975418414028e-17,
          2.918598235519791e-17,
          2.9185753296421884e-17,
          2.918907235804672e-17,
          2.9195938575948666e-17,
          2.920634455127014e-17,
          2.922027634049276e-17,
          2.923771335641811e-17,
          2.925862828048777e-17,
          2.928298698684809e-17,
          2.9310748478536855e-17,
          2.9341864836138524e-17,
          2.9376281179222623e-17,
          2.941393564084715e-17,
          2.945475935537789e-17,
          2.949867645983677e-17,
          2.9545604108957187e-17,
          2.959545250409248e-17,
          2.964812493608242e-17,
          2.9703517842150245e-17,
          2.9761520876861463e-17,
          2.9822016997145735e-17,
          2.9884882561340056e-17,
          2.994998744218136e-17,
          3.0017195153632675e-17,
          3.008636299140419e-17,
          3.015734218698575e-17,
          3.022997807497484e-17,
          3.030411027346045e-17,
          3.037957287717911e-17,
          3.045619466314099e-17,
          3.0533799308380654e-17,
          3.061220561947559e-17,
          3.069122777343674e-17,
          3.0770675569549926e-17,
          3.085035469173374e-17,
          3.0930066980944406e-17,
          3.100961071714632e-17,
          3.108878091033775e-17,
          3.116736960011641e-17,
          3.124516616324141e-17,
          3.132195762863322e-17,
          3.139752899925131e-17,
          3.1471663580261e-17,
          3.1544143312902954e-17,
          3.1614749113457295e-17,
          3.168326121669974e-17,
          3.174945952322816e-17,
          3.1813123950034484e-17,
          3.187403478369907e-17,
          3.193197303557242e-17,
          3.1986720798310894e-17,
          3.203806160312816e-17,
          3.208578077712962e-17,
          3.212966580008912e-17,
          3.2169506660035296e-17,
          3.2205096207009206e-17,
          3.223623050436703e-17,
          3.2262709176995585e-17,
          3.228433575581654e-17,
          3.230091801796151e-17,
          3.231226832200074e-17,
          3.2318203937618004e-17,
          3.2318547369128096e-17,
          3.231312667224166e-17,
          3.230177576348952e-17,
          3.2284334721726474e-17,
          3.2260650081143033e-17,
          3.223057511522479e-17,
          3.219397011110626e-17,
          3.2150702633781404e-17,
          3.2100647779638964e-17,
          3.2043688418807356e-17,
          3.1979715425807376e-17,
          3.1908627898020513e-17,
          3.18303333615008e-17,
          3.174474796366895e-17,
          3.165179665245318e-17,
          3.155141334144577e-17,
          3.144354106067364e-17,
          3.132813209260338e-17,
          3.120514809300914e-17,
          3.107456019636962e-17,
          3.0936349105471196e-17,
          3.0790505164935924e-17,
          3.0637028418396e-17,
          3.047592864908632e-17,
          3.030722540363964e-17,
          3.01309479989159e-17,
          2.994713551170532e-17,
          2.9755836751196225e-17,
          2.955711021413594e-17,
          2.9351024022621946e-17,
          2.9137655844528706e-17,
          2.891709279658608e-17,
          2.868943133019226e-17,
          2.845477710004655e-17,
          2.821324481575603e-17,
          2.796495807661221e-17,
          2.7710049189743623e-17,
          2.7448658971929692e-17,
          2.7180936535372737e-17,
          2.6907039057799855e-17,
          2.6627131537264573e-17,
          2.6341386532095834e-17,
          2.604998388648299e-17,
          2.575311044219088e-17,
          2.5450959736983632e-17,
          2.5143731690339575e-17,
          2.4831632277115305e-17,
          2.45148731898046e-17,
          2.419367149012313e-17,
          2.3868249250644788e-17,
          2.3538833187289443e-17,
          2.3205654283438815e-17,
          2.2868947406527006e-17,
          2.2528950917982315e-17,
          2.2185906277371153e-17,
          2.1840057641676257e-17,
          2.149165146061091e-17,
          2.1140936068935062e-17,
          2.0788161276691965e-17
         ],
         "yaxis": "y"
        }
       ],
       "layout": {
        "annotations": [
         {
          "showarrow": false,
          "text": "*Missing Values: Real Data (4.0%), Synthetic Data (4.0%)",
          "x": 1,
          "xref": "paper",
          "y": 1.05,
          "yref": "paper"
         }
        ],
        "barmode": "overlay",
        "font": {
         "size": 18
        },
        "hovermode": "closest",
        "legend": {
         "traceorder": "reversed"
        },
        "plot_bgcolor": "#F5F5F8",
        "template": {
         "data": {
          "bar": [
           {
            "error_x": {
             "color": "#2a3f5f"
            },
            "error_y": {
             "color": "#2a3f5f"
            },
            "marker": {
             "line": {
              "color": "#E5ECF6",
              "width": 0.5
             },
             "pattern": {
              "fillmode": "overlay",
              "size": 10,
              "solidity": 0.2
             }
            },
            "type": "bar"
           }
          ],
          "barpolar": [
           {
            "marker": {
             "line": {
              "color": "#E5ECF6",
              "width": 0.5
             },
             "pattern": {
              "fillmode": "overlay",
              "size": 10,
              "solidity": 0.2
             }
            },
            "type": "barpolar"
           }
          ],
          "carpet": [
           {
            "aaxis": {
             "endlinecolor": "#2a3f5f",
             "gridcolor": "white",
             "linecolor": "white",
             "minorgridcolor": "white",
             "startlinecolor": "#2a3f5f"
            },
            "baxis": {
             "endlinecolor": "#2a3f5f",
             "gridcolor": "white",
             "linecolor": "white",
             "minorgridcolor": "white",
             "startlinecolor": "#2a3f5f"
            },
            "type": "carpet"
           }
          ],
          "choropleth": [
           {
            "colorbar": {
             "outlinewidth": 0,
             "ticks": ""
            },
            "type": "choropleth"
           }
          ],
          "contour": [
           {
            "colorbar": {
             "outlinewidth": 0,
             "ticks": ""
            },
            "colorscale": [
             [
              0,
              "#0d0887"
             ],
             [
              0.1111111111111111,
              "#46039f"
             ],
             [
              0.2222222222222222,
              "#7201a8"
             ],
             [
              0.3333333333333333,
              "#9c179e"
             ],
             [
              0.4444444444444444,
              "#bd3786"
             ],
             [
              0.5555555555555556,
              "#d8576b"
             ],
             [
              0.6666666666666666,
              "#ed7953"
             ],
             [
              0.7777777777777778,
              "#fb9f3a"
             ],
             [
              0.8888888888888888,
              "#fdca26"
             ],
             [
              1,
              "#f0f921"
             ]
            ],
            "type": "contour"
           }
          ],
          "contourcarpet": [
           {
            "colorbar": {
             "outlinewidth": 0,
             "ticks": ""
            },
            "type": "contourcarpet"
           }
          ],
          "heatmap": [
           {
            "colorbar": {
             "outlinewidth": 0,
             "ticks": ""
            },
            "colorscale": [
             [
              0,
              "#0d0887"
             ],
             [
              0.1111111111111111,
              "#46039f"
             ],
             [
              0.2222222222222222,
              "#7201a8"
             ],
             [
              0.3333333333333333,
              "#9c179e"
             ],
             [
              0.4444444444444444,
              "#bd3786"
             ],
             [
              0.5555555555555556,
              "#d8576b"
             ],
             [
              0.6666666666666666,
              "#ed7953"
             ],
             [
              0.7777777777777778,
              "#fb9f3a"
             ],
             [
              0.8888888888888888,
              "#fdca26"
             ],
             [
              1,
              "#f0f921"
             ]
            ],
            "type": "heatmap"
           }
          ],
          "heatmapgl": [
           {
            "colorbar": {
             "outlinewidth": 0,
             "ticks": ""
            },
            "colorscale": [
             [
              0,
              "#0d0887"
             ],
             [
              0.1111111111111111,
              "#46039f"
             ],
             [
              0.2222222222222222,
              "#7201a8"
             ],
             [
              0.3333333333333333,
              "#9c179e"
             ],
             [
              0.4444444444444444,
              "#bd3786"
             ],
             [
              0.5555555555555556,
              "#d8576b"
             ],
             [
              0.6666666666666666,
              "#ed7953"
             ],
             [
              0.7777777777777778,
              "#fb9f3a"
             ],
             [
              0.8888888888888888,
              "#fdca26"
             ],
             [
              1,
              "#f0f921"
             ]
            ],
            "type": "heatmapgl"
           }
          ],
          "histogram": [
           {
            "marker": {
             "pattern": {
              "fillmode": "overlay",
              "size": 10,
              "solidity": 0.2
             }
            },
            "type": "histogram"
           }
          ],
          "histogram2d": [
           {
            "colorbar": {
             "outlinewidth": 0,
             "ticks": ""
            },
            "colorscale": [
             [
              0,
              "#0d0887"
             ],
             [
              0.1111111111111111,
              "#46039f"
             ],
             [
              0.2222222222222222,
              "#7201a8"
             ],
             [
              0.3333333333333333,
              "#9c179e"
             ],
             [
              0.4444444444444444,
              "#bd3786"
             ],
             [
              0.5555555555555556,
              "#d8576b"
             ],
             [
              0.6666666666666666,
              "#ed7953"
             ],
             [
              0.7777777777777778,
              "#fb9f3a"
             ],
             [
              0.8888888888888888,
              "#fdca26"
             ],
             [
              1,
              "#f0f921"
             ]
            ],
            "type": "histogram2d"
           }
          ],
          "histogram2dcontour": [
           {
            "colorbar": {
             "outlinewidth": 0,
             "ticks": ""
            },
            "colorscale": [
             [
              0,
              "#0d0887"
             ],
             [
              0.1111111111111111,
              "#46039f"
             ],
             [
              0.2222222222222222,
              "#7201a8"
             ],
             [
              0.3333333333333333,
              "#9c179e"
             ],
             [
              0.4444444444444444,
              "#bd3786"
             ],
             [
              0.5555555555555556,
              "#d8576b"
             ],
             [
              0.6666666666666666,
              "#ed7953"
             ],
             [
              0.7777777777777778,
              "#fb9f3a"
             ],
             [
              0.8888888888888888,
              "#fdca26"
             ],
             [
              1,
              "#f0f921"
             ]
            ],
            "type": "histogram2dcontour"
           }
          ],
          "mesh3d": [
           {
            "colorbar": {
             "outlinewidth": 0,
             "ticks": ""
            },
            "type": "mesh3d"
           }
          ],
          "parcoords": [
           {
            "line": {
             "colorbar": {
              "outlinewidth": 0,
              "ticks": ""
             }
            },
            "type": "parcoords"
           }
          ],
          "pie": [
           {
            "automargin": true,
            "type": "pie"
           }
          ],
          "scatter": [
           {
            "fillpattern": {
             "fillmode": "overlay",
             "size": 10,
             "solidity": 0.2
            },
            "type": "scatter"
           }
          ],
          "scatter3d": [
           {
            "line": {
             "colorbar": {
              "outlinewidth": 0,
              "ticks": ""
             }
            },
            "marker": {
             "colorbar": {
              "outlinewidth": 0,
              "ticks": ""
             }
            },
            "type": "scatter3d"
           }
          ],
          "scattercarpet": [
           {
            "marker": {
             "colorbar": {
              "outlinewidth": 0,
              "ticks": ""
             }
            },
            "type": "scattercarpet"
           }
          ],
          "scattergeo": [
           {
            "marker": {
             "colorbar": {
              "outlinewidth": 0,
              "ticks": ""
             }
            },
            "type": "scattergeo"
           }
          ],
          "scattergl": [
           {
            "marker": {
             "colorbar": {
              "outlinewidth": 0,
              "ticks": ""
             }
            },
            "type": "scattergl"
           }
          ],
          "scattermapbox": [
           {
            "marker": {
             "colorbar": {
              "outlinewidth": 0,
              "ticks": ""
             }
            },
            "type": "scattermapbox"
           }
          ],
          "scatterpolar": [
           {
            "marker": {
             "colorbar": {
              "outlinewidth": 0,
              "ticks": ""
             }
            },
            "type": "scatterpolar"
           }
          ],
          "scatterpolargl": [
           {
            "marker": {
             "colorbar": {
              "outlinewidth": 0,
              "ticks": ""
             }
            },
            "type": "scatterpolargl"
           }
          ],
          "scatterternary": [
           {
            "marker": {
             "colorbar": {
              "outlinewidth": 0,
              "ticks": ""
             }
            },
            "type": "scatterternary"
           }
          ],
          "surface": [
           {
            "colorbar": {
             "outlinewidth": 0,
             "ticks": ""
            },
            "colorscale": [
             [
              0,
              "#0d0887"
             ],
             [
              0.1111111111111111,
              "#46039f"
             ],
             [
              0.2222222222222222,
              "#7201a8"
             ],
             [
              0.3333333333333333,
              "#9c179e"
             ],
             [
              0.4444444444444444,
              "#bd3786"
             ],
             [
              0.5555555555555556,
              "#d8576b"
             ],
             [
              0.6666666666666666,
              "#ed7953"
             ],
             [
              0.7777777777777778,
              "#fb9f3a"
             ],
             [
              0.8888888888888888,
              "#fdca26"
             ],
             [
              1,
              "#f0f921"
             ]
            ],
            "type": "surface"
           }
          ],
          "table": [
           {
            "cells": {
             "fill": {
              "color": "#EBF0F8"
             },
             "line": {
              "color": "white"
             }
            },
            "header": {
             "fill": {
              "color": "#C8D4E3"
             },
             "line": {
              "color": "white"
             }
            },
            "type": "table"
           }
          ]
         },
         "layout": {
          "annotationdefaults": {
           "arrowcolor": "#2a3f5f",
           "arrowhead": 0,
           "arrowwidth": 1
          },
          "autotypenumbers": "strict",
          "coloraxis": {
           "colorbar": {
            "outlinewidth": 0,
            "ticks": ""
           }
          },
          "colorscale": {
           "diverging": [
            [
             0,
             "#8e0152"
            ],
            [
             0.1,
             "#c51b7d"
            ],
            [
             0.2,
             "#de77ae"
            ],
            [
             0.3,
             "#f1b6da"
            ],
            [
             0.4,
             "#fde0ef"
            ],
            [
             0.5,
             "#f7f7f7"
            ],
            [
             0.6,
             "#e6f5d0"
            ],
            [
             0.7,
             "#b8e186"
            ],
            [
             0.8,
             "#7fbc41"
            ],
            [
             0.9,
             "#4d9221"
            ],
            [
             1,
             "#276419"
            ]
           ],
           "sequential": [
            [
             0,
             "#0d0887"
            ],
            [
             0.1111111111111111,
             "#46039f"
            ],
            [
             0.2222222222222222,
             "#7201a8"
            ],
            [
             0.3333333333333333,
             "#9c179e"
            ],
            [
             0.4444444444444444,
             "#bd3786"
            ],
            [
             0.5555555555555556,
             "#d8576b"
            ],
            [
             0.6666666666666666,
             "#ed7953"
            ],
            [
             0.7777777777777778,
             "#fb9f3a"
            ],
            [
             0.8888888888888888,
             "#fdca26"
            ],
            [
             1,
             "#f0f921"
            ]
           ],
           "sequentialminus": [
            [
             0,
             "#0d0887"
            ],
            [
             0.1111111111111111,
             "#46039f"
            ],
            [
             0.2222222222222222,
             "#7201a8"
            ],
            [
             0.3333333333333333,
             "#9c179e"
            ],
            [
             0.4444444444444444,
             "#bd3786"
            ],
            [
             0.5555555555555556,
             "#d8576b"
            ],
            [
             0.6666666666666666,
             "#ed7953"
            ],
            [
             0.7777777777777778,
             "#fb9f3a"
            ],
            [
             0.8888888888888888,
             "#fdca26"
            ],
            [
             1,
             "#f0f921"
            ]
           ]
          },
          "colorway": [
           "#636efa",
           "#EF553B",
           "#00cc96",
           "#ab63fa",
           "#FFA15A",
           "#19d3f3",
           "#FF6692",
           "#B6E880",
           "#FF97FF",
           "#FECB52"
          ],
          "font": {
           "color": "#2a3f5f"
          },
          "geo": {
           "bgcolor": "white",
           "lakecolor": "white",
           "landcolor": "#E5ECF6",
           "showlakes": true,
           "showland": true,
           "subunitcolor": "white"
          },
          "hoverlabel": {
           "align": "left"
          },
          "hovermode": "closest",
          "mapbox": {
           "style": "light"
          },
          "paper_bgcolor": "white",
          "plot_bgcolor": "#E5ECF6",
          "polar": {
           "angularaxis": {
            "gridcolor": "white",
            "linecolor": "white",
            "ticks": ""
           },
           "bgcolor": "#E5ECF6",
           "radialaxis": {
            "gridcolor": "white",
            "linecolor": "white",
            "ticks": ""
           }
          },
          "scene": {
           "xaxis": {
            "backgroundcolor": "#E5ECF6",
            "gridcolor": "white",
            "gridwidth": 2,
            "linecolor": "white",
            "showbackground": true,
            "ticks": "",
            "zerolinecolor": "white"
           },
           "yaxis": {
            "backgroundcolor": "#E5ECF6",
            "gridcolor": "white",
            "gridwidth": 2,
            "linecolor": "white",
            "showbackground": true,
            "ticks": "",
            "zerolinecolor": "white"
           },
           "zaxis": {
            "backgroundcolor": "#E5ECF6",
            "gridcolor": "white",
            "gridwidth": 2,
            "linecolor": "white",
            "showbackground": true,
            "ticks": "",
            "zerolinecolor": "white"
           }
          },
          "shapedefaults": {
           "line": {
            "color": "#2a3f5f"
           }
          },
          "ternary": {
           "aaxis": {
            "gridcolor": "white",
            "linecolor": "white",
            "ticks": ""
           },
           "baxis": {
            "gridcolor": "white",
            "linecolor": "white",
            "ticks": ""
           },
           "bgcolor": "#E5ECF6",
           "caxis": {
            "gridcolor": "white",
            "linecolor": "white",
            "ticks": ""
           }
          },
          "title": {
           "x": 0.05
          },
          "xaxis": {
           "automargin": true,
           "gridcolor": "white",
           "linecolor": "white",
           "ticks": "",
           "title": {
            "standoff": 15
           },
           "zerolinecolor": "white",
           "zerolinewidth": 2
          },
          "yaxis": {
           "automargin": true,
           "gridcolor": "white",
           "linecolor": "white",
           "ticks": "",
           "title": {
            "standoff": 15
           },
           "zerolinecolor": "white",
           "zerolinewidth": 2
          }
         }
        },
        "title": {
         "text": "Real vs. Synthetic Data for column checkout_date"
        },
        "xaxis": {
         "anchor": "y2",
         "domain": [
          0,
          1
         ],
         "title": {
          "text": "Value"
         },
         "zeroline": false
        },
        "yaxis": {
         "anchor": "free",
         "domain": [
          0,
          1
         ],
         "position": 0,
         "title": {
          "text": "Frequency"
         }
        }
       }
      }
     },
     "metadata": {},
     "output_type": "display_data"
    },
    {
     "data": {
      "application/vnd.plotly.v1+json": {
       "config": {
        "plotlyServerURL": "https://plot.ly"
       },
       "data": [
        {
         "fill": "tozeroy",
         "hovertemplate": "<b>Real</b><br>Value: %{x}<br>Frequency: %{y}<extra></extra>",
         "legendgroup": "Real",
         "marker": {
          "color": "#000036"
         },
         "mode": "lines",
         "name": "Real",
         "showlegend": true,
         "type": "scatter",
         "x": [
          83.8,
          84.48208,
          85.16416,
          85.84624,
          86.52832,
          87.21039999999999,
          87.89247999999999,
          88.57455999999999,
          89.25663999999999,
          89.93871999999999,
          90.6208,
          91.30288,
          91.98496,
          92.66704,
          93.34912,
          94.0312,
          94.71328,
          95.39536,
          96.07744,
          96.75952,
          97.4416,
          98.12368,
          98.80575999999999,
          99.48783999999999,
          100.16991999999999,
          100.852,
          101.53407999999999,
          102.21616,
          102.89823999999999,
          103.58032,
          104.2624,
          104.94448,
          105.62656,
          106.30864,
          106.99072,
          107.6728,
          108.35488,
          109.03696,
          109.71903999999999,
          110.40111999999999,
          111.08319999999999,
          111.76527999999999,
          112.44735999999999,
          113.12943999999999,
          113.81152,
          114.4936,
          115.17568,
          115.85775999999998,
          116.53984,
          117.22192,
          117.904,
          118.58607999999998,
          119.26816,
          119.95024,
          120.63231999999999,
          121.31439999999999,
          121.99647999999999,
          122.67856,
          123.36063999999999,
          124.04271999999999,
          124.72479999999999,
          125.40688,
          126.08895999999999,
          126.77104,
          127.45311999999998,
          128.1352,
          128.81727999999998,
          129.49936,
          130.18144,
          130.86352,
          131.54559999999998,
          132.22768,
          132.90976,
          133.59184,
          134.27392,
          134.956,
          135.63808,
          136.32016,
          137.00223999999997,
          137.68431999999999,
          138.3664,
          139.04847999999998,
          139.73056,
          140.41263999999998,
          141.09472,
          141.77679999999998,
          142.45888,
          143.14095999999998,
          143.82304,
          144.50511999999998,
          145.1872,
          145.86928,
          146.55136,
          147.23344,
          147.91552,
          148.5976,
          149.27967999999998,
          149.96176,
          150.64384,
          151.32592,
          152.00799999999998,
          152.69007999999997,
          153.37215999999998,
          154.05424,
          154.73631999999998,
          155.4184,
          156.10048,
          156.78256,
          157.46463999999997,
          158.14672,
          158.8288,
          159.51088,
          160.19295999999997,
          160.87503999999998,
          161.55712,
          162.23919999999998,
          162.92128,
          163.60335999999998,
          164.28544,
          164.96751999999998,
          165.6496,
          166.33168,
          167.01376,
          167.69583999999998,
          168.37791999999996,
          169.06,
          169.74208,
          170.42415999999997,
          171.10623999999999,
          171.78832,
          172.47039999999998,
          173.15248,
          173.83456,
          174.51664,
          175.19871999999998,
          175.88079999999997,
          176.56288,
          177.24496,
          177.92703999999998,
          178.60912,
          179.29119999999998,
          179.97328,
          180.65535999999997,
          181.33744,
          182.01952,
          182.70159999999998,
          183.38367999999997,
          184.06576,
          184.74784,
          185.42991999999998,
          186.11199999999997,
          186.79407999999998,
          187.47616,
          188.15823999999998,
          188.84032,
          189.5224,
          190.20448,
          190.88655999999997,
          191.56864,
          192.25072,
          192.9328,
          193.61487999999997,
          194.29695999999998,
          194.97904,
          195.66111999999998,
          196.34319999999997,
          197.02527999999998,
          197.70736,
          198.38943999999998,
          199.07152,
          199.7536,
          200.43568,
          201.11775999999998,
          201.79983999999996,
          202.48191999999997,
          203.164,
          203.84607999999997,
          204.52815999999999,
          205.21024,
          205.89231999999998,
          206.5744,
          207.25647999999998,
          207.93856,
          208.62063999999998,
          209.30271999999997,
          209.98479999999998,
          210.66688,
          211.34895999999998,
          212.03103999999996,
          212.71312,
          213.3952,
          214.07727999999997,
          214.75935999999996,
          215.44143999999994,
          216.12351999999998,
          216.80559999999997,
          217.48768,
          218.16976,
          218.85183999999998,
          219.53391999999997,
          220.216,
          220.89808,
          221.58015999999998,
          222.26223999999996,
          222.94431999999995,
          223.6264,
          224.30847999999997,
          224.99056000000002,
          225.67264,
          226.35472,
          227.03679999999997,
          227.71887999999996,
          228.40096,
          229.08303999999998,
          229.76511999999997,
          230.44719999999995,
          231.12928,
          231.81135999999998,
          232.49343999999996,
          233.17552,
          233.8576,
          234.53967999999998,
          235.22175999999996,
          235.90384,
          236.58592,
          237.26799999999997,
          237.95007999999996,
          238.63216,
          239.31423999999998,
          239.99631999999997,
          240.6784,
          241.36048,
          242.04255999999998,
          242.72463999999997,
          243.40671999999995,
          244.0888,
          244.77087999999998,
          245.45295999999996,
          246.13504,
          246.81712,
          247.49919999999997,
          248.18127999999996,
          248.86336,
          249.54543999999999,
          250.22751999999997,
          250.90959999999995,
          251.59168,
          252.27375999999998,
          252.95583999999997,
          253.63792,
          254.32,
          255.00207999999998,
          255.68415999999996,
          256.36624,
          257.04832,
          257.7304,
          258.41247999999996,
          259.09455999999994,
          259.77664,
          260.45871999999997,
          261.1408,
          261.82288,
          262.50496,
          263.18703999999997,
          263.86912,
          264.5512,
          265.23328,
          265.91535999999996,
          266.59743999999995,
          267.27952,
          267.9616,
          268.64368,
          269.32576,
          270.00784,
          270.68992,
          271.37199999999996,
          272.05408,
          272.73616,
          273.41823999999997,
          274.10031999999995,
          274.78239999999994,
          275.46448,
          276.14655999999997,
          276.82864,
          277.51072,
          278.1928,
          278.87487999999996,
          279.55696,
          280.23904,
          280.92112,
          281.60319999999996,
          282.28527999999994,
          282.96736,
          283.64943999999997,
          284.33152,
          285.0136,
          285.69568,
          286.37775999999997,
          287.05983999999995,
          287.74192,
          288.424,
          289.10607999999996,
          289.78815999999995,
          290.47024,
          291.15232,
          291.83439999999996,
          292.51648,
          293.19856,
          293.88063999999997,
          294.56271999999996,
          295.2448,
          295.92688,
          296.60895999999997,
          297.29103999999995,
          297.97311999999994,
          298.6552,
          299.33727999999996,
          300.01936,
          300.70144,
          301.38352,
          302.06559999999996,
          302.74767999999995,
          303.42976,
          304.11184,
          304.79391999999996,
          305.47599999999994,
          306.15808,
          306.84015999999997,
          307.52224,
          308.20432,
          308.8864,
          309.56847999999997,
          310.25055999999995,
          310.93264,
          311.61472,
          312.29679999999996,
          312.97887999999995,
          313.66095999999993,
          314.34304,
          315.02511999999996,
          315.7072,
          316.38928,
          317.07135999999997,
          317.75343999999996,
          318.43551999999994,
          319.1176,
          319.79967999999997,
          320.48175999999995,
          321.16383999999994,
          321.84592,
          322.52799999999996,
          323.21008,
          323.89216,
          324.57424,
          325.25631999999996,
          325.93839999999994,
          326.62048,
          327.30255999999997,
          327.98463999999996,
          328.66671999999994,
          329.3488,
          330.03087999999997,
          330.71295999999995,
          331.39504,
          332.07712,
          332.75919999999996,
          333.44127999999995,
          334.12336,
          334.80544,
          335.48751999999996,
          336.16959999999995,
          336.85168,
          337.53376,
          338.21583999999996,
          338.89792,
          339.58,
          340.26207999999997,
          340.94416,
          341.62624,
          342.30832,
          342.99039999999997,
          343.67248,
          344.35456,
          345.03664,
          345.71871999999996,
          346.4008,
          347.08287999999993,
          347.76496,
          348.44704,
          349.12912,
          349.8112,
          350.49327999999997,
          351.17536,
          351.85743999999994,
          352.53952,
          353.22159999999997,
          353.90368,
          354.58575999999994,
          355.26784,
          355.94992,
          356.632,
          357.31408,
          357.99616,
          358.67824,
          359.36031999999994,
          360.0424,
          360.72447999999997,
          361.40656,
          362.08863999999994,
          362.77072,
          363.4528,
          364.13487999999995,
          364.81696,
          365.49904,
          366.18112,
          366.86319999999995,
          367.54528,
          368.22736,
          368.90943999999996,
          369.59151999999995,
          370.2736,
          370.95568000000003,
          371.63775999999996,
          372.31984,
          373.00192,
          373.68399999999997,
          374.36607999999995,
          375.04816,
          375.73024,
          376.41231999999997,
          377.09439999999995,
          377.77648,
          378.45856,
          379.14063999999996,
          379.82272,
          380.5048,
          381.18688,
          381.86895999999996,
          382.55104,
          383.23312,
          383.91519999999997,
          384.59727999999996,
          385.27936,
          385.96144,
          386.64351999999997,
          387.3256,
          388.00768,
          388.68976,
          389.37183999999996,
          390.05392,
          390.73599999999993,
          391.41808,
          392.10015999999996,
          392.78224,
          393.46432,
          394.14639999999997,
          394.82848,
          395.51055999999994,
          396.19264,
          396.87471999999997,
          397.5568,
          398.23887999999994,
          398.92096,
          399.60303999999996,
          400.28512,
          400.9672,
          401.64928,
          402.33136,
          403.01343999999995,
          403.69552,
          404.3776,
          405.05968,
          405.74175999999994,
          406.42384,
          407.10591999999997,
          407.78799999999995,
          408.47008,
          409.15216,
          409.83424,
          410.51631999999995,
          411.1984,
          411.88048,
          412.56255999999996,
          413.24463999999995,
          413.92672,
          414.6088,
          415.29087999999996,
          415.97296,
          416.65504,
          417.33711999999997,
          418.01919999999996,
          418.70128,
          419.38336,
          420.06543999999997,
          420.74751999999995,
          421.4296,
          422.1116799999999,
          422.79375999999996,
          423.47584,
          424.15792
         ],
         "xaxis": "x",
         "y": [
          0.002992102776527496,
          0.0031745052654736537,
          0.0033638606016342873,
          0.0035600776665581464,
          0.003763030945208623,
          0.003972559224693042,
          0.004188464490108042,
          0.004410511039705895,
          0.004638424840413247,
          0.004871893143216959,
          0.005110564376075185,
          0.005354048329823994,
          0.005601916650045917,
          0.005853703645067347,
          0.00610890741718417,
          0.006366991320911049,
          0.006627385748547718,
          0.006889490239698289,
          0.0071526759076138285,
          0.0074162881714052295,
          0.00767964977934694,
          0.00794206410471673,
          0.008202818691952194,
          0.008461189027404338,
          0.008716442505693004,
          0.008967842559668782,
          0.009214652919314949,
          0.009456141962628938,
          0.009691587119646516,
          0.009920279289352544,
          0.010141527228289605,
          0.01035466186925332,
          0.010559040528566046,
          0.010754050961058345,
          0.01093911522305636,
          0.011113693305366204,
          0.011277286500444858,
          0.011429440470623702,
          0.01156974798737403,
          0.011697851315129505,
          0.011813444217063,
          0.011916273564398411,
          0.012006140535264258,
          0.01208290139370097,
          0.012146467844153396,
          0.012196806961543499,
          0.012233940701760818,
          0.012257945002058738,
          0.012268948485338894,
          0.012267130786580269,
          0.01225272052366373,
          0.012225992938503842,
          0.012187267237676517,
          0.012136903664585117,
          0.01207530033759924,
          0.012002889890506496,
          0.011920135953016211,
          0.011827529509935316,
          0.011725585177996618,
          0.011614837439165844,
          0.011495836868596718,
          0.011369146394265643,
          0.011235337623727153,
          0.011094987271420253,
          0.010948673717567602,
          0.010796973726984054,
          0.010640459353102885,
          0.010479695049282676,
          0.010315235006034694,
          0.010147620729260365,
          0.009977378870969873,
          0.009805019320317427,
          0.00963103355919244,
          0.009455893283096498,
          0.009280049284664056,
          0.00910393059399126,
          0.008927943866964176,
          0.008752473010057984,
          0.00857787902764265,
          0.008404500075703173,
          0.008232651704079871,
          0.008062627267872676,
          0.007894698487536794,
          0.007729116136430807,
          0.007566110834155006,
          0.007405893923933123,
          0.0072486584125277444,
          0.007094579951724805,
          0.006943817841250645,
          0.006796516034076914,
          0.006652804126390603,
          0.006512798316035633,
          0.0063766023149326705,
          0.006244308202825398,
          0.006115997211651027,
          0.0059917404318554045,
          0.005871599434039259,
          0.005755626801395069,
          0.005643866570447565,
          0.005536354579611255,
          0.005433118727001064,
          0.005334179140749684,
          0.005239548266775141,
          0.005149230880484232,
          0.0050632240302730305,
          0.00498151692188066,
          0.0049040907536545665,
          0.004830918513585503,
          0.004761964749562884,
          0.0046971853246828045,
          0.004636527169611705,
          0.004579928043971949,
          0.004527316318476371,
          0.0044786107891054755,
          0.004433720534005178,
          0.004392544822995634,
          0.0043549730886405106,
          0.004320884966745786,
          0.004290150412957257,
          0.004262629900826802,
          0.004238174705338798,
          0.004216627274453256,
          0.004197821689752343,
          0.004181584215795431,
          0.004167733936316897,
          0.004156083473962726,
          0.004146439788877979,
          0.004138605050148602,
          0.004132377572885723,
          0.00412755281263797,
          0.004123924407842274,
          0.004121285260190019,
          0.004119428642106041,
          0.004118149320020819,
          0.004117244681769034,
          0.00411651585627406,
          0.0041157688136795895,
          0.0041148154342647725,
          0.004113474534824546,
          0.004111572841704598,
          0.00410894590034244,
          0.004105438911969718,
          0.004100907489063276,
          0.004095218322177135,
          0.0040882497519274365,
          0.004079892241118745,
          0.004070048743272976,
          0.004058634965131167,
          0.004045579522022879,
          0.004030823986317029,
          0.004014322830461481,
          0.003996043267367175,
          0.0039759649920774924,
          0.003954079829768204,
          0.0039303912961321475,
          0.003904914077102961,
          0.0038776734356522806,
          0.0038487045540459165,
          0.0038180518204612166,
          0.003785768069244675,
          0.0037519137843263647,
          0.003716556275405414,
          0.003679768836483082,
          0.003641629896152381,
          0.003602222168762924,
          0.0035616318151770266,
          0.0035199476213286724,
          0.0034772602022032275,
          0.0034336612381861385,
          0.0033892427499975734,
          0.003344096417651248,
          0.0032983129480638747,
          0.0032519814951119603,
          0.003205189135097794,
          0.0031580203997602645,
          0.003110556868160638,
          0.003062876817999446,
          0.0030150549361879758,
          0.002967162087815183,
          0.002919265142024023,
          0.0028714268527469406,
          0.0028237057917510073,
          0.002776156331011844,
          0.0027288286710732265,
          0.0026817689117547994,
          0.002635019161342891,
          0.0025886176802357185,
          0.0025425990549111125,
          0.0024969943980376664,
          0.002451831570554409,
          0.002407135421594117,
          0.0023629280422160707,
          0.0023192290290399696,
          0.0022760557540279633,
          0.0022334236368418085,
          0.002191346416401831,
          0.002149836418488834,
          0.002108904816456401,
          0.002068561882354435,
          0.0020288172260033354,
          0.0019896800197991655,
          0.001951159207271526,
          0.0019132636936563172,
          0.0018760025169844905,
          0.0018393849984240805,
          0.001803420870846317,
          0.0017681203848174249,
          0.0017334943914457137,
          0.0016995544017387152,
          0.0016663126223479606,
          0.0016337819677990854,
          0.0016019760495224586,
          0.001570909142213916,
          0.0015405961282661809,
          0.0015110524212179235,
          0.0014822938693686517,
          0.0014543366409017038,
          0.001427197092043594,
          0.0014008916199635213,
          0.0013754365022802038,
          0.0013508477251921943,
          0.0013271408023799798,
          0.0013043305869416203,
          0.001282431078715561,
          0.0012614552294132378,
          0.001241414748027318,
          0.0012223199089980083,
          0.0012041793656078078,
          0.0011869999710336168,
          0.0011707866094135594,
          0.0011555420391841196,
          0.001141266750811373,
          0.0011279588408792769,
          0.0011156139043094829,
          0.001104224946272616,
          0.0010937823151132735,
          0.0010842736573524916,
          0.0010756838955559192,
          0.0010679952295668546,
          0.0010611871613048615,
          0.0010552365430272007,
          0.0010501176486463393,
          0.0010458022673971532,
          0.0010422598188565351,
          0.0010394574880409659,
          0.0010373603790485135,
          0.0010359316854750384,
          0.001035132875624055,
          0.0010349238903493568,
          0.0010352633512222087,
          0.001036108776603171,
          0.0010374168031244697,
          0.0010391434100534985,
          0.0010412441440122019,
          0.0010436743415706128,
          0.0010463893473149199,
          0.0010493447251096466,
          0.0010524964604275413,
          0.0010558011518068803,
          0.0010592161897105387,
          0.0010626999213003993,
          0.0010662117999000547,
          0.0010697125181933838,
          0.0010731641244914293,
          0.0010765301216895888,
          0.0010797755488263208,
          0.0010828670454376564,
          0.0010857728991739328,
          0.0010884630774009758,
          0.0010909092437431465,
          0.001093084760735769,
          0.001094964679935975,
          0.0010965257209908101,
          0.0010977462412771275,
          0.0010986061978077737,
          0.001099087103141807,
          0.0010991719770429213,
          0.00109884529560044,
          0.0010980929394626322,
          0.0010969021427346495,
          0.0010952614439659835,
          0.0010931606404982488,
          0.0010905907472672208,
          0.0010875439609576735,
          0.0010840136302003697,
          0.0010799942322823495,
          0.0010754813566194149,
          0.0010704716950184867,
          0.001064963038542004,
          0.0010589542805815703,
          0.001052445425557789,
          0.001045437602491632,
          0.0010379330825431702,
          0.0010299352994887776,
          0.0010214488720103512,
          0.0010124796266010806,
          0.001003034619852696,
          0.000993122158879237,
          0.0009827518186514234,
          0.000971934455062803,
          0.0009606822126219113,
          0.0009490085257616069,
          0.0009369281128746526,
          0.0009244569623201316,
          0.0009116123097952288,
          0.0008984126066271044,
          0.0008848774787066306,
          0.000871027675955352,
          0.0008568850123857061,
          0.0008424722969784563,
          0.0008278132557571555,
          0.000812932445584252,
          0.0007978551603343462,
          0.0007826073302152305,
          0.0007672154151044934,
          0.0007517062928479256,
          0.0007361071435246284,
          0.0007204453307226065,
          0.000704748280888066,
          0.0006890433618121749,
          0.0006733577613022249,
          0.0006577183670511136,
          0.0006421516486721066,
          0.0006266835428067263,
          0.0006113393421447913,
          0.0005961435891194682,
          0.0005811199749589189,
          0.0005662912446923021,
          0.0005516791086234437,
          0.000537304160702777,
          0.0005231858041486163,
          0.0005093421845943031,
          0.0004957901309692491,
          0.0004825451042603269,
          0.0004696211542460636,
          0.000457030884249632,
          0.0004447854239178859,
          0.00043289441000187367,
          0.0004213659750889007,
          0.00041020674421626493,
          0.00039942183928099286,
          0.00038901489114722527,
          0.000378988059341601,
          0.00036934205921608943,
          0.00036007619644542967,
          0.00035118840871169844,
          0.0003426753144102311,
          0.0003345322681881677,
          0.00032675342309873,
          0.00031933179912020003,
          0.0003122593577485233,
          0.0003055270823263571,
          0.00029912506371977557,
          0.0002930425908972638,
          0.00028726824590513043,
          0.00028179000267016934,
          0.0002765953289957691,
          0.0002716712910532757,
          0.0002670046596080446,
          0.0002625820171610322,
          0.0002583898651339218,
          0.0002544147301804105,
          0.00025064326867025845,
          0.0002470623683675828,
          0.0002436592463121856,
          0.0002404215419136454,
          0.000237337404283461,
          0.00023439557286138524,
          0.00023158545043856188,
          0.00022889716774221428,
          0.00022632163882405225,
          0.0002238506065865667,
          0.00022147667788696086,
          0.00021919334777618623,
          0.0002169950125588271,
          0.0002148769714963769,
          0.00021283541711969727,
          0.00021086741426374928,
          0.0002089708680865777,
          0.000207144481482479,
          0.00020538770244370416,
          0.00020370066206340789,
          0.0002020841040024314,
          0.00020053930636155617,
          0.00019906799700702906,
          0.00019767226348850966,
          0.00019635445876357383,
          0.00019511710400018598,
          0.00019396278976720996,
          0.00019289407694238835,
          0.00019191339866709257,
          0.0001910229646575699,
          0.00019022466914387322,
          0.00018952000365093707,
          0.0001889099757624439,
          0.00018839503491862328,
          0.00018797500619555817,
          0.0001876490328978186,
          0.0001874155286703163,
          0.00018727213970135006,
          0.00018721571744911972,
          0.000187242302180825,
          0.00018734711746909248,
          0.00018752457564711862,
          0.00018776829408371845,
          0.00018807112200440972,
          0.00018842517745660628,
          0.0001888218938975683,
          0.0001892520757744247,
          0.0001897059623675345,
          0.00019017329908267366,
          0.00019064341530474258,
          0.0001911053078663716,
          0.00019154772913919572,
          0.0001919592787236921,
          0.00019232849769512341,
          0.00019264396435790166,
          0.0001928943904680183,
          0.0001930687169023389,
          0.00019315620778368402,
          0.0001931465421107652,
          0.00019302990199115982,
          0.00019279705663253607,
          0.00019243944131113591,
          0.00019194923060599528,
          0.00019131940526140488,
          0.00019054381211763057,
          0.0001896172166298795,
          0.00018853534757696706,
          0.0001872949336431841,
          0.00018589373163868734,
          0.00018433054620456283,
          0.00018260524092788858,
          0.0001807187408690575,
          0.000178673026577792,
          0.00017647111974525523,
          0.00017411706070704654,
          0.0001716158780753789,
          0.00016897355083806014,
          0.00016619696331687486,
          0.00016329385342838003,
          0.0001602727547358598,
          0.00015714293282212798,
          0.00015391431654891547,
          0.00015059742479970107,
          0.00014720328932896846,
          0.0001437433743619761,
          0.00014022949360521314,
          0.00013667372533876707,
          0.0001330883262678822,
          0.0001294856448120681,
          0.00012587803450628878,
          0.00012227776818011282,
          0.00011869695356727377,
          0.00011514745098011968,
          0.00011164079366090044,
          0.00010818811139510839,
          0.00010480005794118578,
          0.00010148674279619173,
          0.0000982576677786784,
          0.00009512166886831723,
          0.00009208686369714721,
          0.00008916060503986159,
          0.00008634944060083179,
          0.00008365907934377303,
          0.00008109436455664487,
          0.00007865925378978883,
          0.00007635680574995764,
          0.00007418917417713824,
          0.00007215760867533279,
          0.00007026246241320709,
          0.00006850320655607909,
          0.00006687845123760912,
          0.00006538597282810164,
          0.0000640227472069866,
          0.000062784988700177,
          0.00006166819429900286,
          0.00006066719273664453,
          0.00005977619796078415,
          0.000058988866507899563,
          0.00005829835825552992,
          0.000057697400004239164,
          0.0000571783513211373,
          0.00005673327206191245,
          0.000056353990978563776,
          0.00005603217481554785,
          0.00005575939729796547,
          0.00005552720742177714,
          0.000055327196467843554,
          0.00005515106317880384,
          0.000054990676560313585,
          0.000054838135795814215,
          0.000054685826796562986,
          0.00005452647494584127,
          0.000054353193637730544,
          0.0000541595282561964,
          0.000053939495288993934,
          0.000053687616322585804,
          0.00005339894671829199,
          0.00005306909882565798
         ],
         "yaxis": "y"
        },
        {
         "fill": "tozeroy",
         "hovertemplate": "<b>Synthetic</b><br>Value: %{x}<br>Frequency: %{y}<extra></extra>",
         "legendgroup": "Synthetic",
         "marker": {
          "color": "#01E0C9"
         },
         "mode": "lines",
         "name": "Synthetic",
         "showlegend": true,
         "type": "scatter",
         "x": [
          83.81,
          84.4603,
          85.1106,
          85.7609,
          86.41120000000001,
          87.0615,
          87.7118,
          88.3621,
          89.0124,
          89.6627,
          90.313,
          90.9633,
          91.6136,
          92.2639,
          92.9142,
          93.56450000000001,
          94.2148,
          94.8651,
          95.5154,
          96.1657,
          96.816,
          97.4663,
          98.1166,
          98.7669,
          99.41720000000001,
          100.0675,
          100.7178,
          101.3681,
          102.0184,
          102.6687,
          103.319,
          103.9693,
          104.6196,
          105.2699,
          105.9202,
          106.57050000000001,
          107.2208,
          107.8711,
          108.5214,
          109.1717,
          109.822,
          110.4723,
          111.1226,
          111.77289999999999,
          112.4232,
          113.0735,
          113.7238,
          114.3741,
          115.0244,
          115.6747,
          116.32499999999999,
          116.9753,
          117.62559999999999,
          118.2759,
          118.9262,
          119.57650000000001,
          120.2268,
          120.8771,
          121.5274,
          122.1777,
          122.828,
          123.47829999999999,
          124.1286,
          124.7789,
          125.42920000000001,
          126.0795,
          126.7298,
          127.3801,
          128.0304,
          128.6807,
          129.33100000000002,
          129.9813,
          130.6316,
          131.2819,
          131.9322,
          132.5825,
          133.2328,
          133.8831,
          134.5334,
          135.1837,
          135.834,
          136.4843,
          137.1346,
          137.7849,
          138.4352,
          139.0855,
          139.73579999999998,
          140.3861,
          141.0364,
          141.6867,
          142.337,
          142.9873,
          143.6376,
          144.28789999999998,
          144.9382,
          145.5885,
          146.2388,
          146.88909999999998,
          147.5394,
          148.18970000000002,
          148.83999999999997,
          149.4903,
          150.1406,
          150.7909,
          151.44119999999998,
          152.0915,
          152.74179999999998,
          153.3921,
          154.0424,
          154.6927,
          155.34300000000002,
          155.99329999999998,
          156.6436,
          157.2939,
          157.9442,
          158.59449999999998,
          159.2448,
          159.8951,
          160.5454,
          161.1957,
          161.846,
          162.4963,
          163.14659999999998,
          163.7969,
          164.4472,
          165.0975,
          165.74779999999998,
          166.3981,
          167.04840000000002,
          167.6987,
          168.349,
          168.9993,
          169.6496,
          170.29989999999998,
          170.9502,
          171.6005,
          172.25079999999997,
          172.90109999999999,
          173.5514,
          174.20170000000002,
          174.852,
          175.5023,
          176.1526,
          176.8029,
          177.45319999999998,
          178.1035,
          178.75379999999998,
          179.4041,
          180.0544,
          180.7047,
          181.35500000000002,
          182.00529999999998,
          182.6556,
          183.3059,
          183.9562,
          184.60649999999998,
          185.2568,
          185.9071,
          186.5574,
          187.2077,
          187.858,
          188.5083,
          189.15859999999998,
          189.8089,
          190.4592,
          191.10949999999997,
          191.75979999999998,
          192.4101,
          193.06040000000002,
          193.7107,
          194.361,
          195.0113,
          195.6616,
          196.31189999999998,
          196.9622,
          197.61249999999998,
          198.26279999999997,
          198.9131,
          199.5634,
          200.21370000000002,
          200.86399999999998,
          201.5143,
          202.1646,
          202.8149,
          203.46519999999998,
          204.1155,
          204.76579999999998,
          205.4161,
          206.0664,
          206.7167,
          207.367,
          208.01729999999998,
          208.6676,
          209.3179,
          209.9682,
          210.61849999999998,
          211.2688,
          211.9191,
          212.5694,
          213.2197,
          213.86999999999998,
          214.5203,
          215.17059999999998,
          215.8209,
          216.47119999999998,
          217.1215,
          217.77179999999998,
          218.42209999999997,
          219.0724,
          219.72269999999997,
          220.373,
          221.02329999999998,
          221.67359999999996,
          222.3239,
          222.9742,
          223.6245,
          224.2748,
          224.9251,
          225.5754,
          226.2257,
          226.876,
          227.5263,
          228.17659999999998,
          228.8269,
          229.47719999999998,
          230.1275,
          230.77779999999998,
          231.42809999999997,
          232.0784,
          232.72869999999998,
          233.379,
          234.02929999999998,
          234.67959999999997,
          235.3299,
          235.9802,
          236.6305,
          237.2808,
          237.9311,
          238.5814,
          239.2317,
          239.882,
          240.5323,
          241.18259999999998,
          241.8329,
          242.48319999999998,
          243.1335,
          243.78379999999999,
          244.43409999999997,
          245.0844,
          245.73469999999998,
          246.385,
          247.03529999999998,
          247.68559999999997,
          248.3359,
          248.9862,
          249.6365,
          250.2868,
          250.9371,
          251.5874,
          252.2377,
          252.888,
          253.5383,
          254.18859999999998,
          254.8389,
          255.48919999999998,
          256.1395,
          256.7898,
          257.4401,
          258.0904,
          258.74069999999995,
          259.39099999999996,
          260.0413,
          260.6916,
          261.3419,
          261.9922,
          262.64250000000004,
          263.2928,
          263.94309999999996,
          264.5934,
          265.2437,
          265.894,
          266.5443,
          267.1946,
          267.8449,
          268.49519999999995,
          269.14549999999997,
          269.7958,
          270.4461,
          271.0964,
          271.7467,
          272.397,
          273.04729999999995,
          273.69759999999997,
          274.3479,
          274.9982,
          275.6485,
          276.2988,
          276.9491,
          277.5994,
          278.24969999999996,
          278.9,
          279.5503,
          280.2006,
          280.8509,
          281.5012,
          282.1515,
          282.80179999999996,
          283.4521,
          284.1024,
          284.7527,
          285.403,
          286.0533,
          286.70359999999994,
          287.3539,
          288.00419999999997,
          288.6545,
          289.3048,
          289.9551,
          290.60540000000003,
          291.2557,
          291.906,
          292.55629999999996,
          293.2066,
          293.8569,
          294.5072,
          295.15749999999997,
          295.8078,
          296.45809999999994,
          297.10839999999996,
          297.7587,
          298.409,
          299.0593,
          299.70959999999997,
          300.35990000000004,
          301.0102,
          301.66049999999996,
          302.3108,
          302.9611,
          303.6114,
          304.2617,
          304.912,
          305.5623,
          306.21259999999995,
          306.86289999999997,
          307.5132,
          308.1635,
          308.8138,
          309.4641,
          310.1144,
          310.76469999999995,
          311.41499999999996,
          312.0653,
          312.7156,
          313.3659,
          314.0162,
          314.6665,
          315.3168,
          315.96709999999996,
          316.6174,
          317.2677,
          317.918,
          318.5683,
          319.2186,
          319.8689,
          320.51919999999996,
          321.16949999999997,
          321.8198,
          322.4701,
          323.1204,
          323.7707,
          324.42099999999994,
          325.07129999999995,
          325.72159999999997,
          326.3719,
          327.0222,
          327.6725,
          328.32280000000003,
          328.9731,
          329.6234,
          330.27369999999996,
          330.924,
          331.5743,
          332.2246,
          332.8749,
          333.5252,
          334.17549999999994,
          334.82579999999996,
          335.4761,
          336.1264,
          336.7767,
          337.42699999999996,
          338.0773,
          338.72759999999994,
          339.37789999999995,
          340.02819999999997,
          340.6785,
          341.3288,
          341.97909999999996,
          342.6294,
          343.2797,
          343.92999999999995,
          344.58029999999997,
          345.2306,
          345.8809,
          346.53119999999996,
          347.1815,
          347.8318,
          348.4821,
          349.13239999999996,
          349.7827,
          350.433,
          351.0833,
          351.73359999999997,
          352.3839,
          353.03419999999994,
          353.6845,
          354.3348,
          354.9851,
          355.63539999999995,
          356.28569999999996,
          356.936,
          357.5863,
          358.23659999999995,
          358.88689999999997,
          359.5371999999999,
          360.1875,
          360.8378,
          361.4881,
          362.1384,
          362.78869999999995,
          363.439,
          364.0893,
          364.7396,
          365.38989999999995,
          366.04019999999997,
          366.6905,
          367.3408,
          367.99109999999996,
          368.6414,
          369.29169999999993,
          369.942,
          370.59229999999997,
          371.2426,
          371.89289999999994,
          372.54319999999996,
          373.19350000000003,
          373.8438,
          374.4941,
          375.14439999999996,
          375.7947,
          376.445,
          377.0953,
          377.74559999999997,
          378.3959,
          379.04619999999994,
          379.6965,
          380.3468,
          380.9971,
          381.64739999999995,
          382.29769999999996,
          382.948,
          383.5983,
          384.24859999999995,
          384.89889999999997,
          385.5491999999999,
          386.1995,
          386.8498,
          387.5001,
          388.1504,
          388.80069999999995,
          389.451,
          390.1013,
          390.7516,
          391.40189999999996,
          392.05219999999997,
          392.7025,
          393.3528,
          394.00309999999996,
          394.6534,
          395.30369999999994,
          395.954,
          396.60429999999997,
          397.2546,
          397.90489999999994,
          398.55519999999996,
          399.20550000000003,
          399.8558,
          400.5061,
          401.15639999999996,
          401.8067,
          402.457,
          403.1073,
          403.75759999999997,
          404.4079,
          405.05819999999994,
          405.7085,
          406.3588,
          407.0091,
          407.65939999999995,
          408.30969999999996
         ],
         "xaxis": "x",
         "y": [
          0.006518944606860741,
          0.006649660500588087,
          0.006777414064666704,
          0.0069020028644780915,
          0.007023233331209419,
          0.0071409214296653525,
          0.007254893271148869,
          0.007364985668265291,
          0.007471046629013983,
          0.007572935788058412,
          0.007670524773602846,
          0.007763697508845677,
          0.007852350447519552,
          0.007936392743561494,
          0.008015746355474996,
          0.00809034608644664,
          0.008160139561756149,
          0.008225087145465493,
          0.008285161798787346,
          0.008340348882909781,
          0.008390645909391576,
          0.0084360622415362,
          0.008476618750402532,
          0.008512347429313966,
          0.008543290970884337,
          0.00856950231068954,
          0.008591044141778428,
          0.008607988404235711,
          0.008620415753986076,
          0.008628415014965111,
          0.008632082618679615,
          0.008631522035043412,
          0.008626843198205952,
          0.008618161930895585,
          0.008605599370579545,
          0.008589281400504021,
          0.008569338088423887,
          0.00854590313556699,
          0.008519113338106012,
          0.008489108063137093,
          0.008456028740891446,
          0.008420018374638178,
          0.008381221069476153,
          0.008339781580965287,
          0.008295844884311374,
          0.008249555764601497,
          0.008201058428385645,
          0.008150496136719464,
          0.008098010859622801,
          0.008043742951768991,
          0.00798783084910246,
          0.0079304107859846,
          0.00787161653239242,
          0.007811579150637384,
          0.00775042677103402,
          0.007688284385926463,
          0.007625273661475939,
          0.00756151276661863,
          0.007497116218623711,
          0.007432194744708104,
          0.0073668551592008715,
          0.007301200255789523,
          0.007235328714423829,
          0.007169335022496073,
          0.0071033094099591425,
          0.00703733779808324,
          0.006971501761586434,
          0.006905878503903317,
          0.006840540845377256,
          0.006775557224175151,
          0.006710991709728457,
          0.006646904028499183,
          0.00658334960185606,
          0.006520379595822779,
          0.006458040982427793,
          0.0063963766123454596,
          0.006335425298469669,
          0.006275221910007334,
          0.006215797476618882,
          0.006157179302069409,
          0.00609939108678748,
          0.006042453058661215,
          0.005986382111333866,
          0.005931191949196228,
          0.005876893238211413,
          0.005823493761651101,
          0.005770998579772319,
          0.005719410192421584,
          0.00566872870352038,
          0.0056189519863626015,
          0.005570075848643083,
          0.005522094196135922,
          0.005474999193953358,
          0.005428781424340676,
          0.005383430039999723,
          0.005338932911983397,
          0.005295276771265146,
          0.005252447343160851,
          0.005210429473864851,
          0.005169207248455079,
          0.005128764099825542,
          0.005089082908113847,
          0.005050146090307106,
          0.005011935679830089,
          0.004974433396042023,
          0.004937620703692476,
          0.004901478862509741,
          0.004865988967216216,
          0.0048311319783814425,
          0.004796888744634576,
          0.004763240016861324,
          0.004730166455104889,
          0.004697648628974848,
          0.004665667012440713,
          0.00463420197394743,
          0.004603233762837069,
          0.004572742493094263,
          0.004542708125451594,
          0.004513110448895225,
          0.0044839290626004025,
          0.004455143359301593,
          0.004426732511062598,
          0.00439867545835953,
          0.004370950903324235,
          0.004343537307918829,
          0.004316412897724433,
          0.0042895556719307025,
          0.004262943420008154,
          0.004236553745434636,
          0.004210364096731784,
          0.004184351805949076,
          0.00415849413461335,
          0.004132768327042101,
          0.0041071516708020275,
          0.004081621563980165,
          0.004056155588826946,
          0.004030731591228323,
          0.0040053277653706735,
          0.003979922742877251,
          0.00395449568562066,
          0.003929026381352566,
          0.003903495341240195,
          0.003877883898360209,
          0.0038521743061739025,
          0.003826349835994217,
          0.003800394872453985,
          0.0037742950059969074,
          0.0037480371214363628,
          0.0037216094816630925,
          0.003695001805628962,
          0.003668205339791012,
          0.0036412129222653284,
          0.0036140190390143057,
          0.00358661987147133,
          0.003559013335093262,
          0.0035311991084217413,
          0.003503178652327934,
          0.003474955219211132,
          0.003446533852017234,
          0.0034179213730387513,
          0.0033891263625511077,
          0.0033601591274302054,
          0.003331031659982555,
          0.003301757587300165,
          0.003272352111527736,
          0.0032428319414982707,
          0.003213215216254613,
          0.0031835214210284186,
          0.0031537712962936343,
          0.0031239867405495015,
          0.0030941907075174207,
          0.0030644070984572618,
          0.0030346606503222693,
          0.0030049768204768717,
          0.0029753816687004015,
          0.002945901737190937,
          0.002916563929268681,
          0.002887395387457858,
          0.0028584233716004515,
          0.0028296751376256303,
          0.002801177817565044,
          0.00277295830136837,
          0.00274504312103516,
          0.0027174583375396285,
          0.002690229430984834,
          0.0026633811943827202,
          0.002636937631416914,
          0.002610921858506956,
          0.002585356011456126,
          0.002560261156930374,
          0.002535657208983865,
          0.002511562850817308,
          0.0024879954619286175,
          0.0024649710507920184,
          0.0024425041931810058,
          0.002420607976233141,
          0.0023992939483397386,
          0.0023785720749313465,
          0.0023584507002201737,
          0.0023389365149529373,
          0.002320034530221438,
          0.0023017480573737864,
          0.002284078694065272,
          0.002267026316484771,
          0.0022505890777895134,
          0.002234763412777345,
          0.0022195440488215804,
          0.0022049240230878515,
          0.002190894706045459,
          0.0021774458312766518,
          0.002164565531576125,
          0.0021522403813193864,
          0.0021404554450622005,
          0.0021291943323143176,
          0.0021184392584085434,
          0.0021081711113613297,
          0.0020983695245932834,
          0.0020890129553474174,
          0.0020800787686100454,
          0.002071543326303708,
          0.0020633820814843465,
          0.002055569677235902,
          0.0020480800499154644,
          0.0020408865363612015,
          0.002033961984634322,
          0.002027278867825542,
          0.0020208094004168396,
          0.0020145256566509633,
          0.002008399690324935,
          0.0020024036553905576,
          0.0019965099267145402,
          0.001990691220324915,
          0.0019849207124484243,
          0.0019791721566269796,
          0.0019734199981898295,
          0.0019676394853527356,
          0.001961806776216305,
          0.001955899040942969,
          0.0019498945584064437,
          0.0019437728066285388,
          0.001937514546346614,
          0.0019311018970900352,
          0.001924518405186331,
          0.001917749103166617,
          0.0019107805600952984,
          0.001903600922410571,
          0.0018961999449293816,
          0.001888569011742834,
          0.0018807011468047186,
          0.0018725910140964983,
          0.0018642349073356194,
          0.0018556307292799115,
          0.0018467779607679805,
          0.0018376776197231554,
          0.001828332210435739,
          0.0018187456635238757,
          0.0018089232670567665,
          0.0017988715894037399,
          0.0017885983944482642,
          0.0017781125498763574,
          0.0017674239293129764,
          0.0017565433091373335,
          0.0017454822608575873,
          0.001734253039966727,
          0.0017228684722336851,
          0.0017113418384066613,
          0.0016996867583187554,
          0.0016879170753890177,
          0.0016760467425048498,
          0.001664089710254333,
          0.0016520598184494332,
          0.0016399706918436643,
          0.0016278356409007069,
          0.0016156675684144551,
          0.0016034788827163694,
          0.001591281418133622,
          0.0015790863632822382,
          0.0015669041976940565,
          0.0015547446371857755,
          0.0015426165882839547,
          0.0015305281119223184,
          0.0015184863965287008,
          0.001506497740519097,
          0.0014945675441172903,
          0.0014827003103212773,
          0.001470899654743351,
          0.0014591683239607296,
          0.0014475082219284872,
          0.0014359204439280495,
          0.0014244053174528332,
          0.0014129624493690342,
          0.0014015907786348134,
          0.0013902886338154376,
          0.0013790537945962565,
          0.0013678835564697527,
          0.001356774797757575,
          0.0013457240481236908,
          0.0013347275577401242,
          0.0013237813662824972,
          0.0013128813709578273,
          0.0013020233928017653,
          0.0012912032405258407,
          0.0012804167712465724,
          0.001269659947486828,
          0.0012589288899046772,
          0.0012482199252748904,
          0.001237529629322752,
          0.0012268548640871294,
          0.0012161928095695024,
          0.0012055409895060107,
          0.0011948972911799787,
          0.0011842599792714686,
          0.001173627703817213,
          0.0011629995024277683,
          0.0011523747969780546,
          0.0011417533850516714,
          0.0011311354264778222,
          0.0011205214253516584,
          0.0011099122079738042,
          0.0010993088971824397,
          0.0010887128835810704,
          0.001078125794187104,
          0.0010675494590402497,
          0.0010569858763158522,
          0.0010464371764865017,
          0.0010359055860661886,
          0.0010253933914550126,
          0.0010149029033796715,
          0.0010044364223961496,
          0.0009939962058868562,
          0.0009835844369455538,
          0.0009732031955006783,
          0.0009628544319816672,
          0.0009525399437846219,
          0.0009422613547438364,
          0.0009320200977650659,
          0.0009218174007259905,
          0.0009116542756995242,
          0.0009015315115074426,
          0.0008914496695657405,
          0.000881409082939894,
          0.000871409858488184,
          0.0008614518819350774,
          0.0008515348256845091,
          0.0008416581591553333,
          0.0008318211613981265,
          0.000822022935734291,
          0.0008122624261449671,
          0.000802538435128528,
          0.0007928496427414703,
          0.0007831946265378344,
          0.00077357188212705,
          0.0007639798440785713,
          0.0007544169069137943,
          0.0007448814459410083,
          0.000735371837707082,
          0.0007258864798598094,
          0.0007164238102368441,
          0.0007069823250204576,
          0.0006975605958214965,
          0.0006881572855804057,
          0.0006787711631976095,
          0.0006694011168294512,
          0.0006600461658088962,
          0.000650705471172003,
          0.0006413783447913437,
          0.000632064257135997,
          0.0006227628436940607,
          0.0006134739101078317,
          0.0006041974360836321,
          0.000594933578147752,
          0.0005856826713270631,
          0.0005764452298375833,
          0.000567221946866746,
          0.0005580136935353802,
          0.000548821517123752,
          0.0005396466386424465,
          0.0005304904498237607,
          0.0005213545096028073,
          0.0005122405401499114,
          0.0005031504225074606,
          0.0004940861918753799,
          0.00048505003258006603,
          0.0004760442727523205,
          0.0004670713787306638,
          0.0004581339491977973,
          0.00044923470904996725,
          0.00044037650299192006,
          0.00043156228884406675,
          0.0004227951305436381,
          0.00041407819081805994,
          0.00040541472350659707,
          0.00039680806550561093,
          0.00038826162831345534,
          0.0003797788891532079,
          0.0003713633816549267,
          0.0003630186860839622,
          0.00035474841910785926,
          0.00034655622310145304,
          0.0003384457549977608,
          0.0003304206747009738,
          0.0003224846330871188,
          0.00031464125962759297,
          0.0003068941496805014,
          0.0002992468515044335,
          0.00029170285305871364,
          0.0002842655686630929,
          0.0002769383255980628,
          0.0002697243507343845,
          0.00026262675728671095,
          0.00025564853179136304,
          0.00024879252141209055,
          0.0002420614216800587,
          0.00023545776477513678,
          0.00022898390845486118,
          0.00022264202573508404,
          0.00021643409542242226,
          0.00021036189359303334,
          0.00020442698610523524,
          0.00019863072222491015,
          0.00019297422943280877,
          0.00018745840947171879,
          0.0001820839356793298,
          0.00017685125163951863,
          0.00017176057117098797,
          0.0001668118796578453,
          0.0001620049367120888,
          0.00015733928014318994,
          0.00015281423119535047,
          0.00014842890099870938,
          0.0001441821981670079,
          0.0001400728374612501,
          0.0001360993494268076,
          0.0001322600909005435,
          0.00012855325627487437,
          0.00012497688939753091,
          0.00012152889597917027,
          0.00011820705637605533,
          0.0001150090386118384,
          0.00011193241150109848,
          0.00010897465773772306,
          0.00010613318681349345,
          0.00010340534763627364,
          0.00010078844072301459,
          0.0000982797298502001,
          0.00009587645305337332,
          0.00009357583287776464,
          0.00009137508579372602,
          0.00008927143070343619,
          0.00008726209647901699,
          0.00008534432848660683,
          0.00008351539406582795,
          0.00008177258694929382,
          0.00008011323062207093,
          0.00007853468063615626,
          0.00007703432590980051,
          0.00007560958905574338,
          0.00007425792579587027,
          0.00007297682353232507,
          0.00007176379915648975,
          0.0000706163961873661,
          0.00006953218133959416,
          0.00006850874062851933,
          0.00006754367512528528,
          0.00006663459647880888,
          0.0000657791223236403,
          0.00006497487169312651,
          0.00006421946055596216,
          0.00006351049759118238,
          0.00006284558031197298,
          0.00006222229164242033,
          0.0000616381970436176,
          0.00006109084227647345,
          0.00006057775187831272,
          0.0000600964284190339,
          0.00005964435259039203,
          0.00005921898416906874,
          0.00005881776388077199,
          0.000058438116178861594,
          0.00005807745293712404,
          0.00005773317804250767,
          0.00005740269286008181,
          0.000057083402529367276,
          0.00005677272303869885,
          0.000056468089012570815,
          0.00005616696213614969,
          0.000055866840131446145,
          0.00005556526619114234,
          0.00005525983876887732,
          0.000054948221618980386,
          0.00005462815397427928,
          0.000054297460747733395,
          0.00005395406264227606,
          0.000053595986053395346,
          0.000053221372650614994,
          0.00005282848852711954,
          0.000052415732811238685,
          0.00005198164563928637,
          0.00005152491539625132,
          0.00005104438513893932
         ],
         "yaxis": "y"
        }
       ],
       "layout": {
        "barmode": "overlay",
        "font": {
         "size": 18
        },
        "hovermode": "closest",
        "legend": {
         "traceorder": "reversed"
        },
        "plot_bgcolor": "#F5F5F8",
        "template": {
         "data": {
          "bar": [
           {
            "error_x": {
             "color": "#2a3f5f"
            },
            "error_y": {
             "color": "#2a3f5f"
            },
            "marker": {
             "line": {
              "color": "#E5ECF6",
              "width": 0.5
             },
             "pattern": {
              "fillmode": "overlay",
              "size": 10,
              "solidity": 0.2
             }
            },
            "type": "bar"
           }
          ],
          "barpolar": [
           {
            "marker": {
             "line": {
              "color": "#E5ECF6",
              "width": 0.5
             },
             "pattern": {
              "fillmode": "overlay",
              "size": 10,
              "solidity": 0.2
             }
            },
            "type": "barpolar"
           }
          ],
          "carpet": [
           {
            "aaxis": {
             "endlinecolor": "#2a3f5f",
             "gridcolor": "white",
             "linecolor": "white",
             "minorgridcolor": "white",
             "startlinecolor": "#2a3f5f"
            },
            "baxis": {
             "endlinecolor": "#2a3f5f",
             "gridcolor": "white",
             "linecolor": "white",
             "minorgridcolor": "white",
             "startlinecolor": "#2a3f5f"
            },
            "type": "carpet"
           }
          ],
          "choropleth": [
           {
            "colorbar": {
             "outlinewidth": 0,
             "ticks": ""
            },
            "type": "choropleth"
           }
          ],
          "contour": [
           {
            "colorbar": {
             "outlinewidth": 0,
             "ticks": ""
            },
            "colorscale": [
             [
              0,
              "#0d0887"
             ],
             [
              0.1111111111111111,
              "#46039f"
             ],
             [
              0.2222222222222222,
              "#7201a8"
             ],
             [
              0.3333333333333333,
              "#9c179e"
             ],
             [
              0.4444444444444444,
              "#bd3786"
             ],
             [
              0.5555555555555556,
              "#d8576b"
             ],
             [
              0.6666666666666666,
              "#ed7953"
             ],
             [
              0.7777777777777778,
              "#fb9f3a"
             ],
             [
              0.8888888888888888,
              "#fdca26"
             ],
             [
              1,
              "#f0f921"
             ]
            ],
            "type": "contour"
           }
          ],
          "contourcarpet": [
           {
            "colorbar": {
             "outlinewidth": 0,
             "ticks": ""
            },
            "type": "contourcarpet"
           }
          ],
          "heatmap": [
           {
            "colorbar": {
             "outlinewidth": 0,
             "ticks": ""
            },
            "colorscale": [
             [
              0,
              "#0d0887"
             ],
             [
              0.1111111111111111,
              "#46039f"
             ],
             [
              0.2222222222222222,
              "#7201a8"
             ],
             [
              0.3333333333333333,
              "#9c179e"
             ],
             [
              0.4444444444444444,
              "#bd3786"
             ],
             [
              0.5555555555555556,
              "#d8576b"
             ],
             [
              0.6666666666666666,
              "#ed7953"
             ],
             [
              0.7777777777777778,
              "#fb9f3a"
             ],
             [
              0.8888888888888888,
              "#fdca26"
             ],
             [
              1,
              "#f0f921"
             ]
            ],
            "type": "heatmap"
           }
          ],
          "heatmapgl": [
           {
            "colorbar": {
             "outlinewidth": 0,
             "ticks": ""
            },
            "colorscale": [
             [
              0,
              "#0d0887"
             ],
             [
              0.1111111111111111,
              "#46039f"
             ],
             [
              0.2222222222222222,
              "#7201a8"
             ],
             [
              0.3333333333333333,
              "#9c179e"
             ],
             [
              0.4444444444444444,
              "#bd3786"
             ],
             [
              0.5555555555555556,
              "#d8576b"
             ],
             [
              0.6666666666666666,
              "#ed7953"
             ],
             [
              0.7777777777777778,
              "#fb9f3a"
             ],
             [
              0.8888888888888888,
              "#fdca26"
             ],
             [
              1,
              "#f0f921"
             ]
            ],
            "type": "heatmapgl"
           }
          ],
          "histogram": [
           {
            "marker": {
             "pattern": {
              "fillmode": "overlay",
              "size": 10,
              "solidity": 0.2
             }
            },
            "type": "histogram"
           }
          ],
          "histogram2d": [
           {
            "colorbar": {
             "outlinewidth": 0,
             "ticks": ""
            },
            "colorscale": [
             [
              0,
              "#0d0887"
             ],
             [
              0.1111111111111111,
              "#46039f"
             ],
             [
              0.2222222222222222,
              "#7201a8"
             ],
             [
              0.3333333333333333,
              "#9c179e"
             ],
             [
              0.4444444444444444,
              "#bd3786"
             ],
             [
              0.5555555555555556,
              "#d8576b"
             ],
             [
              0.6666666666666666,
              "#ed7953"
             ],
             [
              0.7777777777777778,
              "#fb9f3a"
             ],
             [
              0.8888888888888888,
              "#fdca26"
             ],
             [
              1,
              "#f0f921"
             ]
            ],
            "type": "histogram2d"
           }
          ],
          "histogram2dcontour": [
           {
            "colorbar": {
             "outlinewidth": 0,
             "ticks": ""
            },
            "colorscale": [
             [
              0,
              "#0d0887"
             ],
             [
              0.1111111111111111,
              "#46039f"
             ],
             [
              0.2222222222222222,
              "#7201a8"
             ],
             [
              0.3333333333333333,
              "#9c179e"
             ],
             [
              0.4444444444444444,
              "#bd3786"
             ],
             [
              0.5555555555555556,
              "#d8576b"
             ],
             [
              0.6666666666666666,
              "#ed7953"
             ],
             [
              0.7777777777777778,
              "#fb9f3a"
             ],
             [
              0.8888888888888888,
              "#fdca26"
             ],
             [
              1,
              "#f0f921"
             ]
            ],
            "type": "histogram2dcontour"
           }
          ],
          "mesh3d": [
           {
            "colorbar": {
             "outlinewidth": 0,
             "ticks": ""
            },
            "type": "mesh3d"
           }
          ],
          "parcoords": [
           {
            "line": {
             "colorbar": {
              "outlinewidth": 0,
              "ticks": ""
             }
            },
            "type": "parcoords"
           }
          ],
          "pie": [
           {
            "automargin": true,
            "type": "pie"
           }
          ],
          "scatter": [
           {
            "fillpattern": {
             "fillmode": "overlay",
             "size": 10,
             "solidity": 0.2
            },
            "type": "scatter"
           }
          ],
          "scatter3d": [
           {
            "line": {
             "colorbar": {
              "outlinewidth": 0,
              "ticks": ""
             }
            },
            "marker": {
             "colorbar": {
              "outlinewidth": 0,
              "ticks": ""
             }
            },
            "type": "scatter3d"
           }
          ],
          "scattercarpet": [
           {
            "marker": {
             "colorbar": {
              "outlinewidth": 0,
              "ticks": ""
             }
            },
            "type": "scattercarpet"
           }
          ],
          "scattergeo": [
           {
            "marker": {
             "colorbar": {
              "outlinewidth": 0,
              "ticks": ""
             }
            },
            "type": "scattergeo"
           }
          ],
          "scattergl": [
           {
            "marker": {
             "colorbar": {
              "outlinewidth": 0,
              "ticks": ""
             }
            },
            "type": "scattergl"
           }
          ],
          "scattermapbox": [
           {
            "marker": {
             "colorbar": {
              "outlinewidth": 0,
              "ticks": ""
             }
            },
            "type": "scattermapbox"
           }
          ],
          "scatterpolar": [
           {
            "marker": {
             "colorbar": {
              "outlinewidth": 0,
              "ticks": ""
             }
            },
            "type": "scatterpolar"
           }
          ],
          "scatterpolargl": [
           {
            "marker": {
             "colorbar": {
              "outlinewidth": 0,
              "ticks": ""
             }
            },
            "type": "scatterpolargl"
           }
          ],
          "scatterternary": [
           {
            "marker": {
             "colorbar": {
              "outlinewidth": 0,
              "ticks": ""
             }
            },
            "type": "scatterternary"
           }
          ],
          "surface": [
           {
            "colorbar": {
             "outlinewidth": 0,
             "ticks": ""
            },
            "colorscale": [
             [
              0,
              "#0d0887"
             ],
             [
              0.1111111111111111,
              "#46039f"
             ],
             [
              0.2222222222222222,
              "#7201a8"
             ],
             [
              0.3333333333333333,
              "#9c179e"
             ],
             [
              0.4444444444444444,
              "#bd3786"
             ],
             [
              0.5555555555555556,
              "#d8576b"
             ],
             [
              0.6666666666666666,
              "#ed7953"
             ],
             [
              0.7777777777777778,
              "#fb9f3a"
             ],
             [
              0.8888888888888888,
              "#fdca26"
             ],
             [
              1,
              "#f0f921"
             ]
            ],
            "type": "surface"
           }
          ],
          "table": [
           {
            "cells": {
             "fill": {
              "color": "#EBF0F8"
             },
             "line": {
              "color": "white"
             }
            },
            "header": {
             "fill": {
              "color": "#C8D4E3"
             },
             "line": {
              "color": "white"
             }
            },
            "type": "table"
           }
          ]
         },
         "layout": {
          "annotationdefaults": {
           "arrowcolor": "#2a3f5f",
           "arrowhead": 0,
           "arrowwidth": 1
          },
          "autotypenumbers": "strict",
          "coloraxis": {
           "colorbar": {
            "outlinewidth": 0,
            "ticks": ""
           }
          },
          "colorscale": {
           "diverging": [
            [
             0,
             "#8e0152"
            ],
            [
             0.1,
             "#c51b7d"
            ],
            [
             0.2,
             "#de77ae"
            ],
            [
             0.3,
             "#f1b6da"
            ],
            [
             0.4,
             "#fde0ef"
            ],
            [
             0.5,
             "#f7f7f7"
            ],
            [
             0.6,
             "#e6f5d0"
            ],
            [
             0.7,
             "#b8e186"
            ],
            [
             0.8,
             "#7fbc41"
            ],
            [
             0.9,
             "#4d9221"
            ],
            [
             1,
             "#276419"
            ]
           ],
           "sequential": [
            [
             0,
             "#0d0887"
            ],
            [
             0.1111111111111111,
             "#46039f"
            ],
            [
             0.2222222222222222,
             "#7201a8"
            ],
            [
             0.3333333333333333,
             "#9c179e"
            ],
            [
             0.4444444444444444,
             "#bd3786"
            ],
            [
             0.5555555555555556,
             "#d8576b"
            ],
            [
             0.6666666666666666,
             "#ed7953"
            ],
            [
             0.7777777777777778,
             "#fb9f3a"
            ],
            [
             0.8888888888888888,
             "#fdca26"
            ],
            [
             1,
             "#f0f921"
            ]
           ],
           "sequentialminus": [
            [
             0,
             "#0d0887"
            ],
            [
             0.1111111111111111,
             "#46039f"
            ],
            [
             0.2222222222222222,
             "#7201a8"
            ],
            [
             0.3333333333333333,
             "#9c179e"
            ],
            [
             0.4444444444444444,
             "#bd3786"
            ],
            [
             0.5555555555555556,
             "#d8576b"
            ],
            [
             0.6666666666666666,
             "#ed7953"
            ],
            [
             0.7777777777777778,
             "#fb9f3a"
            ],
            [
             0.8888888888888888,
             "#fdca26"
            ],
            [
             1,
             "#f0f921"
            ]
           ]
          },
          "colorway": [
           "#636efa",
           "#EF553B",
           "#00cc96",
           "#ab63fa",
           "#FFA15A",
           "#19d3f3",
           "#FF6692",
           "#B6E880",
           "#FF97FF",
           "#FECB52"
          ],
          "font": {
           "color": "#2a3f5f"
          },
          "geo": {
           "bgcolor": "white",
           "lakecolor": "white",
           "landcolor": "#E5ECF6",
           "showlakes": true,
           "showland": true,
           "subunitcolor": "white"
          },
          "hoverlabel": {
           "align": "left"
          },
          "hovermode": "closest",
          "mapbox": {
           "style": "light"
          },
          "paper_bgcolor": "white",
          "plot_bgcolor": "#E5ECF6",
          "polar": {
           "angularaxis": {
            "gridcolor": "white",
            "linecolor": "white",
            "ticks": ""
           },
           "bgcolor": "#E5ECF6",
           "radialaxis": {
            "gridcolor": "white",
            "linecolor": "white",
            "ticks": ""
           }
          },
          "scene": {
           "xaxis": {
            "backgroundcolor": "#E5ECF6",
            "gridcolor": "white",
            "gridwidth": 2,
            "linecolor": "white",
            "showbackground": true,
            "ticks": "",
            "zerolinecolor": "white"
           },
           "yaxis": {
            "backgroundcolor": "#E5ECF6",
            "gridcolor": "white",
            "gridwidth": 2,
            "linecolor": "white",
            "showbackground": true,
            "ticks": "",
            "zerolinecolor": "white"
           },
           "zaxis": {
            "backgroundcolor": "#E5ECF6",
            "gridcolor": "white",
            "gridwidth": 2,
            "linecolor": "white",
            "showbackground": true,
            "ticks": "",
            "zerolinecolor": "white"
           }
          },
          "shapedefaults": {
           "line": {
            "color": "#2a3f5f"
           }
          },
          "ternary": {
           "aaxis": {
            "gridcolor": "white",
            "linecolor": "white",
            "ticks": ""
           },
           "baxis": {
            "gridcolor": "white",
            "linecolor": "white",
            "ticks": ""
           },
           "bgcolor": "#E5ECF6",
           "caxis": {
            "gridcolor": "white",
            "linecolor": "white",
            "ticks": ""
           }
          },
          "title": {
           "x": 0.05
          },
          "xaxis": {
           "automargin": true,
           "gridcolor": "white",
           "linecolor": "white",
           "ticks": "",
           "title": {
            "standoff": 15
           },
           "zerolinecolor": "white",
           "zerolinewidth": 2
          },
          "yaxis": {
           "automargin": true,
           "gridcolor": "white",
           "linecolor": "white",
           "ticks": "",
           "title": {
            "standoff": 15
           },
           "zerolinecolor": "white",
           "zerolinewidth": 2
          }
         }
        },
        "title": {
         "text": "Real vs. Synthetic Data for column room_rate"
        },
        "xaxis": {
         "anchor": "y2",
         "domain": [
          0,
          1
         ],
         "title": {
          "text": "Value"
         },
         "zeroline": false
        },
        "yaxis": {
         "anchor": "free",
         "domain": [
          0,
          1
         ],
         "position": 0,
         "title": {
          "text": "Frequency"
         }
        }
       }
      }
     },
     "metadata": {},
     "output_type": "display_data"
    }
   ],
   "source": [
    "for column in real_data.columns: # Cannot plot PII columns since they are unique and meant to be different\n",
    "    try:\n",
    "        fig = get_column_plot(\n",
    "            real_data=real_data,\n",
    "            synthetic_data=synthetic_data,\n",
    "            column_name=column,\n",
    "            metadata=metadata\n",
    "        )\n",
    "            \n",
    "        fig.show()\n",
    "    except:\n",
    "        pass\n",
    "\n",
    "# Note the missing values that were included by the synthesizer"
   ]
  },
  {
   "cell_type": "code",
   "execution_count": 16,
   "metadata": {},
   "outputs": [
    {
     "data": {
      "text/plain": [
       "(18.59, 18.07)"
      ]
     },
     "execution_count": 16,
     "metadata": {},
     "output_type": "execute_result"
    }
   ],
   "source": [
    "real_data[\"amenities_fee\"].median(), synthetic_data[\"amenities_fee\"].median()"
   ]
  },
  {
   "cell_type": "code",
   "execution_count": 17,
   "metadata": {},
   "outputs": [],
   "source": [
    "## Go back and reinstantiate GaussianCopulaSynthesizer with \"numerical_distributions\" argument line uncommented"
   ]
  },
  {
   "cell_type": "markdown",
   "metadata": {},
   "source": [
    "### Quality Report"
   ]
  },
  {
   "cell_type": "code",
   "execution_count": 18,
   "metadata": {},
   "outputs": [
    {
     "name": "stdout",
     "output_type": "stream",
     "text": [
      "Generating report ...\n",
      "(1/2) Evaluating Column Shapes: : 100%|██████████| 9/9 [00:00<00:00, 1830.60it/s]\n",
      "(2/2) Evaluating Column Pair Trends: : 100%|██████████| 36/36 [00:00<00:00, 295.30it/s]\n",
      "\n",
      "Overall Quality Score: 92.45%\n",
      "\n",
      "Properties:\n",
      "- Column Shapes: 93.13%\n",
      "- Column Pair Trends: 91.77%\n"
     ]
    }
   ],
   "source": [
    "# Evaluating the Synthetic Data\n",
    "quality_report = evaluate_quality(\n",
    "    real_data,\n",
    "    synthetic_data,\n",
    "    metadata)"
   ]
  },
  {
   "cell_type": "code",
   "execution_count": 21,
   "metadata": {},
   "outputs": [
    {
     "data": {
      "text/html": [
       "<div>\n",
       "<style scoped>\n",
       "    .dataframe tbody tr th:only-of-type {\n",
       "        vertical-align: middle;\n",
       "    }\n",
       "\n",
       "    .dataframe tbody tr th {\n",
       "        vertical-align: top;\n",
       "    }\n",
       "\n",
       "    .dataframe thead th {\n",
       "        text-align: right;\n",
       "    }\n",
       "</style>\n",
       "<table border=\"1\" class=\"dataframe\">\n",
       "  <thead>\n",
       "    <tr style=\"text-align: right;\">\n",
       "      <th></th>\n",
       "      <th>Property</th>\n",
       "      <th>Score</th>\n",
       "    </tr>\n",
       "  </thead>\n",
       "  <tbody>\n",
       "    <tr>\n",
       "      <th>0</th>\n",
       "      <td>Column Shapes</td>\n",
       "      <td>0.931287</td>\n",
       "    </tr>\n",
       "    <tr>\n",
       "      <th>1</th>\n",
       "      <td>Column Pair Trends</td>\n",
       "      <td>0.917693</td>\n",
       "    </tr>\n",
       "  </tbody>\n",
       "</table>\n",
       "</div>"
      ],
      "text/plain": [
       "             Property     Score\n",
       "0       Column Shapes  0.931287\n",
       "1  Column Pair Trends  0.917693"
      ]
     },
     "execution_count": 21,
     "metadata": {},
     "output_type": "execute_result"
    }
   ],
   "source": [
    "quality_report.get_properties()"
   ]
  },
  {
   "cell_type": "code",
   "execution_count": 22,
   "metadata": {},
   "outputs": [
    {
     "data": {
      "text/html": [
       "<div>\n",
       "<style scoped>\n",
       "    .dataframe tbody tr th:only-of-type {\n",
       "        vertical-align: middle;\n",
       "    }\n",
       "\n",
       "    .dataframe tbody tr th {\n",
       "        vertical-align: top;\n",
       "    }\n",
       "\n",
       "    .dataframe thead th {\n",
       "        text-align: right;\n",
       "    }\n",
       "</style>\n",
       "<table border=\"1\" class=\"dataframe\">\n",
       "  <thead>\n",
       "    <tr style=\"text-align: right;\">\n",
       "      <th></th>\n",
       "      <th>Column</th>\n",
       "      <th>Metric</th>\n",
       "      <th>Score</th>\n",
       "    </tr>\n",
       "  </thead>\n",
       "  <tbody>\n",
       "    <tr>\n",
       "      <th>0</th>\n",
       "      <td>has_rewards</td>\n",
       "      <td>TVComplement</td>\n",
       "      <td>0.992000</td>\n",
       "    </tr>\n",
       "    <tr>\n",
       "      <th>1</th>\n",
       "      <td>room_type</td>\n",
       "      <td>TVComplement</td>\n",
       "      <td>0.970000</td>\n",
       "    </tr>\n",
       "    <tr>\n",
       "      <th>2</th>\n",
       "      <td>amenities_fee</td>\n",
       "      <td>KSComplement</td>\n",
       "      <td>0.926807</td>\n",
       "    </tr>\n",
       "    <tr>\n",
       "      <th>3</th>\n",
       "      <td>checkin_date</td>\n",
       "      <td>KSComplement</td>\n",
       "      <td>0.964000</td>\n",
       "    </tr>\n",
       "    <tr>\n",
       "      <th>4</th>\n",
       "      <td>checkout_date</td>\n",
       "      <td>KSComplement</td>\n",
       "      <td>0.972917</td>\n",
       "    </tr>\n",
       "    <tr>\n",
       "      <th>5</th>\n",
       "      <td>room_rate</td>\n",
       "      <td>KSComplement</td>\n",
       "      <td>0.762000</td>\n",
       "    </tr>\n",
       "  </tbody>\n",
       "</table>\n",
       "</div>"
      ],
      "text/plain": [
       "          Column        Metric     Score\n",
       "0    has_rewards  TVComplement  0.992000\n",
       "1      room_type  TVComplement  0.970000\n",
       "2  amenities_fee  KSComplement  0.926807\n",
       "3   checkin_date  KSComplement  0.964000\n",
       "4  checkout_date  KSComplement  0.972917\n",
       "5      room_rate  KSComplement  0.762000"
      ]
     },
     "execution_count": 22,
     "metadata": {},
     "output_type": "execute_result"
    }
   ],
   "source": [
    "quality_report.get_details(property_name='Column Shapes')"
   ]
  },
  {
   "cell_type": "code",
   "execution_count": 23,
   "metadata": {},
   "outputs": [
    {
     "data": {
      "application/vnd.plotly.v1+json": {
       "config": {
        "plotlyServerURL": "https://plot.ly"
       },
       "data": [
        {
         "alignmentgroup": "True",
         "customdata": [
          [
           "TVComplement"
          ],
          [
           "TVComplement"
          ]
         ],
         "hovertemplate": "<b>%{hovertext}</b><br><br>Metric=%{customdata[0]}<br>Score=%{y}<extra></extra>",
         "hovertext": [
          "has_rewards",
          "room_type"
         ],
         "legendgroup": "TVComplement",
         "marker": {
          "color": "#03AFF1",
          "pattern": {
           "shape": ""
          }
         },
         "name": "TVComplement",
         "offsetgroup": "TVComplement",
         "orientation": "v",
         "showlegend": true,
         "textposition": "auto",
         "type": "bar",
         "x": [
          "has_rewards",
          "room_type"
         ],
         "xaxis": "x",
         "y": [
          0.992,
          0.97
         ],
         "yaxis": "y"
        },
        {
         "alignmentgroup": "True",
         "customdata": [
          [
           "KSComplement"
          ],
          [
           "KSComplement"
          ],
          [
           "KSComplement"
          ],
          [
           "KSComplement"
          ]
         ],
         "hovertemplate": "<b>%{hovertext}</b><br><br>Metric=%{customdata[0]}<br>Score=%{y}<extra></extra>",
         "hovertext": [
          "amenities_fee",
          "checkin_date",
          "checkout_date",
          "room_rate"
         ],
         "legendgroup": "KSComplement",
         "marker": {
          "color": "#000036",
          "pattern": {
           "shape": "/"
          }
         },
         "name": "KSComplement",
         "offsetgroup": "KSComplement",
         "orientation": "v",
         "showlegend": true,
         "textposition": "auto",
         "type": "bar",
         "x": [
          "amenities_fee",
          "checkin_date",
          "checkout_date",
          "room_rate"
         ],
         "xaxis": "x",
         "y": [
          0.9268065268065269,
          0.964,
          0.9729166666666667,
          0.762
         ],
         "yaxis": "y"
        }
       ],
       "layout": {
        "barmode": "relative",
        "font": {
         "size": 18
        },
        "legend": {
         "title": {
          "text": "Metric"
         },
         "tracegroupgap": 0
        },
        "margin": {
         "t": 150
        },
        "plot_bgcolor": "#F5F5F8",
        "template": {
         "data": {
          "bar": [
           {
            "error_x": {
             "color": "#2a3f5f"
            },
            "error_y": {
             "color": "#2a3f5f"
            },
            "marker": {
             "line": {
              "color": "#E5ECF6",
              "width": 0.5
             },
             "pattern": {
              "fillmode": "overlay",
              "size": 10,
              "solidity": 0.2
             }
            },
            "type": "bar"
           }
          ],
          "barpolar": [
           {
            "marker": {
             "line": {
              "color": "#E5ECF6",
              "width": 0.5
             },
             "pattern": {
              "fillmode": "overlay",
              "size": 10,
              "solidity": 0.2
             }
            },
            "type": "barpolar"
           }
          ],
          "carpet": [
           {
            "aaxis": {
             "endlinecolor": "#2a3f5f",
             "gridcolor": "white",
             "linecolor": "white",
             "minorgridcolor": "white",
             "startlinecolor": "#2a3f5f"
            },
            "baxis": {
             "endlinecolor": "#2a3f5f",
             "gridcolor": "white",
             "linecolor": "white",
             "minorgridcolor": "white",
             "startlinecolor": "#2a3f5f"
            },
            "type": "carpet"
           }
          ],
          "choropleth": [
           {
            "colorbar": {
             "outlinewidth": 0,
             "ticks": ""
            },
            "type": "choropleth"
           }
          ],
          "contour": [
           {
            "colorbar": {
             "outlinewidth": 0,
             "ticks": ""
            },
            "colorscale": [
             [
              0,
              "#0d0887"
             ],
             [
              0.1111111111111111,
              "#46039f"
             ],
             [
              0.2222222222222222,
              "#7201a8"
             ],
             [
              0.3333333333333333,
              "#9c179e"
             ],
             [
              0.4444444444444444,
              "#bd3786"
             ],
             [
              0.5555555555555556,
              "#d8576b"
             ],
             [
              0.6666666666666666,
              "#ed7953"
             ],
             [
              0.7777777777777778,
              "#fb9f3a"
             ],
             [
              0.8888888888888888,
              "#fdca26"
             ],
             [
              1,
              "#f0f921"
             ]
            ],
            "type": "contour"
           }
          ],
          "contourcarpet": [
           {
            "colorbar": {
             "outlinewidth": 0,
             "ticks": ""
            },
            "type": "contourcarpet"
           }
          ],
          "heatmap": [
           {
            "colorbar": {
             "outlinewidth": 0,
             "ticks": ""
            },
            "colorscale": [
             [
              0,
              "#0d0887"
             ],
             [
              0.1111111111111111,
              "#46039f"
             ],
             [
              0.2222222222222222,
              "#7201a8"
             ],
             [
              0.3333333333333333,
              "#9c179e"
             ],
             [
              0.4444444444444444,
              "#bd3786"
             ],
             [
              0.5555555555555556,
              "#d8576b"
             ],
             [
              0.6666666666666666,
              "#ed7953"
             ],
             [
              0.7777777777777778,
              "#fb9f3a"
             ],
             [
              0.8888888888888888,
              "#fdca26"
             ],
             [
              1,
              "#f0f921"
             ]
            ],
            "type": "heatmap"
           }
          ],
          "heatmapgl": [
           {
            "colorbar": {
             "outlinewidth": 0,
             "ticks": ""
            },
            "colorscale": [
             [
              0,
              "#0d0887"
             ],
             [
              0.1111111111111111,
              "#46039f"
             ],
             [
              0.2222222222222222,
              "#7201a8"
             ],
             [
              0.3333333333333333,
              "#9c179e"
             ],
             [
              0.4444444444444444,
              "#bd3786"
             ],
             [
              0.5555555555555556,
              "#d8576b"
             ],
             [
              0.6666666666666666,
              "#ed7953"
             ],
             [
              0.7777777777777778,
              "#fb9f3a"
             ],
             [
              0.8888888888888888,
              "#fdca26"
             ],
             [
              1,
              "#f0f921"
             ]
            ],
            "type": "heatmapgl"
           }
          ],
          "histogram": [
           {
            "marker": {
             "pattern": {
              "fillmode": "overlay",
              "size": 10,
              "solidity": 0.2
             }
            },
            "type": "histogram"
           }
          ],
          "histogram2d": [
           {
            "colorbar": {
             "outlinewidth": 0,
             "ticks": ""
            },
            "colorscale": [
             [
              0,
              "#0d0887"
             ],
             [
              0.1111111111111111,
              "#46039f"
             ],
             [
              0.2222222222222222,
              "#7201a8"
             ],
             [
              0.3333333333333333,
              "#9c179e"
             ],
             [
              0.4444444444444444,
              "#bd3786"
             ],
             [
              0.5555555555555556,
              "#d8576b"
             ],
             [
              0.6666666666666666,
              "#ed7953"
             ],
             [
              0.7777777777777778,
              "#fb9f3a"
             ],
             [
              0.8888888888888888,
              "#fdca26"
             ],
             [
              1,
              "#f0f921"
             ]
            ],
            "type": "histogram2d"
           }
          ],
          "histogram2dcontour": [
           {
            "colorbar": {
             "outlinewidth": 0,
             "ticks": ""
            },
            "colorscale": [
             [
              0,
              "#0d0887"
             ],
             [
              0.1111111111111111,
              "#46039f"
             ],
             [
              0.2222222222222222,
              "#7201a8"
             ],
             [
              0.3333333333333333,
              "#9c179e"
             ],
             [
              0.4444444444444444,
              "#bd3786"
             ],
             [
              0.5555555555555556,
              "#d8576b"
             ],
             [
              0.6666666666666666,
              "#ed7953"
             ],
             [
              0.7777777777777778,
              "#fb9f3a"
             ],
             [
              0.8888888888888888,
              "#fdca26"
             ],
             [
              1,
              "#f0f921"
             ]
            ],
            "type": "histogram2dcontour"
           }
          ],
          "mesh3d": [
           {
            "colorbar": {
             "outlinewidth": 0,
             "ticks": ""
            },
            "type": "mesh3d"
           }
          ],
          "parcoords": [
           {
            "line": {
             "colorbar": {
              "outlinewidth": 0,
              "ticks": ""
             }
            },
            "type": "parcoords"
           }
          ],
          "pie": [
           {
            "automargin": true,
            "type": "pie"
           }
          ],
          "scatter": [
           {
            "fillpattern": {
             "fillmode": "overlay",
             "size": 10,
             "solidity": 0.2
            },
            "type": "scatter"
           }
          ],
          "scatter3d": [
           {
            "line": {
             "colorbar": {
              "outlinewidth": 0,
              "ticks": ""
             }
            },
            "marker": {
             "colorbar": {
              "outlinewidth": 0,
              "ticks": ""
             }
            },
            "type": "scatter3d"
           }
          ],
          "scattercarpet": [
           {
            "marker": {
             "colorbar": {
              "outlinewidth": 0,
              "ticks": ""
             }
            },
            "type": "scattercarpet"
           }
          ],
          "scattergeo": [
           {
            "marker": {
             "colorbar": {
              "outlinewidth": 0,
              "ticks": ""
             }
            },
            "type": "scattergeo"
           }
          ],
          "scattergl": [
           {
            "marker": {
             "colorbar": {
              "outlinewidth": 0,
              "ticks": ""
             }
            },
            "type": "scattergl"
           }
          ],
          "scattermapbox": [
           {
            "marker": {
             "colorbar": {
              "outlinewidth": 0,
              "ticks": ""
             }
            },
            "type": "scattermapbox"
           }
          ],
          "scatterpolar": [
           {
            "marker": {
             "colorbar": {
              "outlinewidth": 0,
              "ticks": ""
             }
            },
            "type": "scatterpolar"
           }
          ],
          "scatterpolargl": [
           {
            "marker": {
             "colorbar": {
              "outlinewidth": 0,
              "ticks": ""
             }
            },
            "type": "scatterpolargl"
           }
          ],
          "scatterternary": [
           {
            "marker": {
             "colorbar": {
              "outlinewidth": 0,
              "ticks": ""
             }
            },
            "type": "scatterternary"
           }
          ],
          "surface": [
           {
            "colorbar": {
             "outlinewidth": 0,
             "ticks": ""
            },
            "colorscale": [
             [
              0,
              "#0d0887"
             ],
             [
              0.1111111111111111,
              "#46039f"
             ],
             [
              0.2222222222222222,
              "#7201a8"
             ],
             [
              0.3333333333333333,
              "#9c179e"
             ],
             [
              0.4444444444444444,
              "#bd3786"
             ],
             [
              0.5555555555555556,
              "#d8576b"
             ],
             [
              0.6666666666666666,
              "#ed7953"
             ],
             [
              0.7777777777777778,
              "#fb9f3a"
             ],
             [
              0.8888888888888888,
              "#fdca26"
             ],
             [
              1,
              "#f0f921"
             ]
            ],
            "type": "surface"
           }
          ],
          "table": [
           {
            "cells": {
             "fill": {
              "color": "#EBF0F8"
             },
             "line": {
              "color": "white"
             }
            },
            "header": {
             "fill": {
              "color": "#C8D4E3"
             },
             "line": {
              "color": "white"
             }
            },
            "type": "table"
           }
          ]
         },
         "layout": {
          "annotationdefaults": {
           "arrowcolor": "#2a3f5f",
           "arrowhead": 0,
           "arrowwidth": 1
          },
          "autotypenumbers": "strict",
          "coloraxis": {
           "colorbar": {
            "outlinewidth": 0,
            "ticks": ""
           }
          },
          "colorscale": {
           "diverging": [
            [
             0,
             "#8e0152"
            ],
            [
             0.1,
             "#c51b7d"
            ],
            [
             0.2,
             "#de77ae"
            ],
            [
             0.3,
             "#f1b6da"
            ],
            [
             0.4,
             "#fde0ef"
            ],
            [
             0.5,
             "#f7f7f7"
            ],
            [
             0.6,
             "#e6f5d0"
            ],
            [
             0.7,
             "#b8e186"
            ],
            [
             0.8,
             "#7fbc41"
            ],
            [
             0.9,
             "#4d9221"
            ],
            [
             1,
             "#276419"
            ]
           ],
           "sequential": [
            [
             0,
             "#0d0887"
            ],
            [
             0.1111111111111111,
             "#46039f"
            ],
            [
             0.2222222222222222,
             "#7201a8"
            ],
            [
             0.3333333333333333,
             "#9c179e"
            ],
            [
             0.4444444444444444,
             "#bd3786"
            ],
            [
             0.5555555555555556,
             "#d8576b"
            ],
            [
             0.6666666666666666,
             "#ed7953"
            ],
            [
             0.7777777777777778,
             "#fb9f3a"
            ],
            [
             0.8888888888888888,
             "#fdca26"
            ],
            [
             1,
             "#f0f921"
            ]
           ],
           "sequentialminus": [
            [
             0,
             "#0d0887"
            ],
            [
             0.1111111111111111,
             "#46039f"
            ],
            [
             0.2222222222222222,
             "#7201a8"
            ],
            [
             0.3333333333333333,
             "#9c179e"
            ],
            [
             0.4444444444444444,
             "#bd3786"
            ],
            [
             0.5555555555555556,
             "#d8576b"
            ],
            [
             0.6666666666666666,
             "#ed7953"
            ],
            [
             0.7777777777777778,
             "#fb9f3a"
            ],
            [
             0.8888888888888888,
             "#fdca26"
            ],
            [
             1,
             "#f0f921"
            ]
           ]
          },
          "colorway": [
           "#636efa",
           "#EF553B",
           "#00cc96",
           "#ab63fa",
           "#FFA15A",
           "#19d3f3",
           "#FF6692",
           "#B6E880",
           "#FF97FF",
           "#FECB52"
          ],
          "font": {
           "color": "#2a3f5f"
          },
          "geo": {
           "bgcolor": "white",
           "lakecolor": "white",
           "landcolor": "#E5ECF6",
           "showlakes": true,
           "showland": true,
           "subunitcolor": "white"
          },
          "hoverlabel": {
           "align": "left"
          },
          "hovermode": "closest",
          "mapbox": {
           "style": "light"
          },
          "paper_bgcolor": "white",
          "plot_bgcolor": "#E5ECF6",
          "polar": {
           "angularaxis": {
            "gridcolor": "white",
            "linecolor": "white",
            "ticks": ""
           },
           "bgcolor": "#E5ECF6",
           "radialaxis": {
            "gridcolor": "white",
            "linecolor": "white",
            "ticks": ""
           }
          },
          "scene": {
           "xaxis": {
            "backgroundcolor": "#E5ECF6",
            "gridcolor": "white",
            "gridwidth": 2,
            "linecolor": "white",
            "showbackground": true,
            "ticks": "",
            "zerolinecolor": "white"
           },
           "yaxis": {
            "backgroundcolor": "#E5ECF6",
            "gridcolor": "white",
            "gridwidth": 2,
            "linecolor": "white",
            "showbackground": true,
            "ticks": "",
            "zerolinecolor": "white"
           },
           "zaxis": {
            "backgroundcolor": "#E5ECF6",
            "gridcolor": "white",
            "gridwidth": 2,
            "linecolor": "white",
            "showbackground": true,
            "ticks": "",
            "zerolinecolor": "white"
           }
          },
          "shapedefaults": {
           "line": {
            "color": "#2a3f5f"
           }
          },
          "ternary": {
           "aaxis": {
            "gridcolor": "white",
            "linecolor": "white",
            "ticks": ""
           },
           "baxis": {
            "gridcolor": "white",
            "linecolor": "white",
            "ticks": ""
           },
           "bgcolor": "#E5ECF6",
           "caxis": {
            "gridcolor": "white",
            "linecolor": "white",
            "ticks": ""
           }
          },
          "title": {
           "x": 0.05
          },
          "xaxis": {
           "automargin": true,
           "gridcolor": "white",
           "linecolor": "white",
           "ticks": "",
           "title": {
            "standoff": 15
           },
           "zerolinecolor": "white",
           "zerolinewidth": 2
          },
          "yaxis": {
           "automargin": true,
           "gridcolor": "white",
           "linecolor": "white",
           "ticks": "",
           "title": {
            "standoff": 15
           },
           "zerolinecolor": "white",
           "zerolinewidth": 2
          }
         }
        },
        "title": {
         "text": "Data Quality: Column Shapes (Average Score=0.93)"
        },
        "xaxis": {
         "anchor": "y",
         "categoryorder": "total ascending",
         "domain": [
          0,
          1
         ],
         "title": {
          "text": "Column"
         }
        },
        "yaxis": {
         "anchor": "x",
         "domain": [
          0,
          1
         ],
         "range": [
          0,
          1
         ],
         "title": {
          "text": "Score"
         }
        }
       }
      }
     },
     "metadata": {},
     "output_type": "display_data"
    }
   ],
   "source": [
    "quality_report.get_visualization(property_name='Column Shapes')"
   ]
  },
  {
   "cell_type": "code",
   "execution_count": 24,
   "metadata": {},
   "outputs": [
    {
     "data": {
      "text/html": [
       "<div>\n",
       "<style scoped>\n",
       "    .dataframe tbody tr th:only-of-type {\n",
       "        vertical-align: middle;\n",
       "    }\n",
       "\n",
       "    .dataframe tbody tr th {\n",
       "        vertical-align: top;\n",
       "    }\n",
       "\n",
       "    .dataframe thead th {\n",
       "        text-align: right;\n",
       "    }\n",
       "</style>\n",
       "<table border=\"1\" class=\"dataframe\">\n",
       "  <thead>\n",
       "    <tr style=\"text-align: right;\">\n",
       "      <th></th>\n",
       "      <th>Column 1</th>\n",
       "      <th>Column 2</th>\n",
       "      <th>Metric</th>\n",
       "      <th>Score</th>\n",
       "      <th>Real Correlation</th>\n",
       "      <th>Synthetic Correlation</th>\n",
       "    </tr>\n",
       "  </thead>\n",
       "  <tbody>\n",
       "    <tr>\n",
       "      <th>0</th>\n",
       "      <td>has_rewards</td>\n",
       "      <td>room_type</td>\n",
       "      <td>ContingencySimilarity</td>\n",
       "      <td>0.962000</td>\n",
       "      <td>NaN</td>\n",
       "      <td>NaN</td>\n",
       "    </tr>\n",
       "    <tr>\n",
       "      <th>1</th>\n",
       "      <td>has_rewards</td>\n",
       "      <td>amenities_fee</td>\n",
       "      <td>ContingencySimilarity</td>\n",
       "      <td>0.810000</td>\n",
       "      <td>NaN</td>\n",
       "      <td>NaN</td>\n",
       "    </tr>\n",
       "    <tr>\n",
       "      <th>2</th>\n",
       "      <td>has_rewards</td>\n",
       "      <td>checkin_date</td>\n",
       "      <td>ContingencySimilarity</td>\n",
       "      <td>0.914000</td>\n",
       "      <td>NaN</td>\n",
       "      <td>NaN</td>\n",
       "    </tr>\n",
       "    <tr>\n",
       "      <th>3</th>\n",
       "      <td>has_rewards</td>\n",
       "      <td>checkout_date</td>\n",
       "      <td>ContingencySimilarity</td>\n",
       "      <td>0.918000</td>\n",
       "      <td>NaN</td>\n",
       "      <td>NaN</td>\n",
       "    </tr>\n",
       "    <tr>\n",
       "      <th>4</th>\n",
       "      <td>has_rewards</td>\n",
       "      <td>room_rate</td>\n",
       "      <td>ContingencySimilarity</td>\n",
       "      <td>0.876000</td>\n",
       "      <td>NaN</td>\n",
       "      <td>NaN</td>\n",
       "    </tr>\n",
       "    <tr>\n",
       "      <th>5</th>\n",
       "      <td>room_type</td>\n",
       "      <td>amenities_fee</td>\n",
       "      <td>ContingencySimilarity</td>\n",
       "      <td>0.852000</td>\n",
       "      <td>NaN</td>\n",
       "      <td>NaN</td>\n",
       "    </tr>\n",
       "    <tr>\n",
       "      <th>6</th>\n",
       "      <td>room_type</td>\n",
       "      <td>checkin_date</td>\n",
       "      <td>ContingencySimilarity</td>\n",
       "      <td>0.876000</td>\n",
       "      <td>NaN</td>\n",
       "      <td>NaN</td>\n",
       "    </tr>\n",
       "    <tr>\n",
       "      <th>7</th>\n",
       "      <td>room_type</td>\n",
       "      <td>checkout_date</td>\n",
       "      <td>ContingencySimilarity</td>\n",
       "      <td>0.866000</td>\n",
       "      <td>NaN</td>\n",
       "      <td>NaN</td>\n",
       "    </tr>\n",
       "    <tr>\n",
       "      <th>8</th>\n",
       "      <td>room_type</td>\n",
       "      <td>room_rate</td>\n",
       "      <td>ContingencySimilarity</td>\n",
       "      <td>0.752000</td>\n",
       "      <td>NaN</td>\n",
       "      <td>NaN</td>\n",
       "    </tr>\n",
       "    <tr>\n",
       "      <th>9</th>\n",
       "      <td>amenities_fee</td>\n",
       "      <td>checkin_date</td>\n",
       "      <td>CorrelationSimilarity</td>\n",
       "      <td>0.991508</td>\n",
       "      <td>0.031410</td>\n",
       "      <td>0.048393</td>\n",
       "    </tr>\n",
       "    <tr>\n",
       "      <th>10</th>\n",
       "      <td>amenities_fee</td>\n",
       "      <td>checkout_date</td>\n",
       "      <td>CorrelationSimilarity</td>\n",
       "      <td>0.979024</td>\n",
       "      <td>0.023049</td>\n",
       "      <td>0.065001</td>\n",
       "    </tr>\n",
       "    <tr>\n",
       "      <th>11</th>\n",
       "      <td>amenities_fee</td>\n",
       "      <td>room_rate</td>\n",
       "      <td>CorrelationSimilarity</td>\n",
       "      <td>0.990426</td>\n",
       "      <td>0.008852</td>\n",
       "      <td>0.028001</td>\n",
       "    </tr>\n",
       "    <tr>\n",
       "      <th>12</th>\n",
       "      <td>checkin_date</td>\n",
       "      <td>checkout_date</td>\n",
       "      <td>CorrelationSimilarity</td>\n",
       "      <td>0.985532</td>\n",
       "      <td>0.999953</td>\n",
       "      <td>0.971018</td>\n",
       "    </tr>\n",
       "    <tr>\n",
       "      <th>13</th>\n",
       "      <td>checkin_date</td>\n",
       "      <td>room_rate</td>\n",
       "      <td>CorrelationSimilarity</td>\n",
       "      <td>0.998204</td>\n",
       "      <td>0.017820</td>\n",
       "      <td>0.021412</td>\n",
       "    </tr>\n",
       "    <tr>\n",
       "      <th>14</th>\n",
       "      <td>checkout_date</td>\n",
       "      <td>room_rate</td>\n",
       "      <td>CorrelationSimilarity</td>\n",
       "      <td>0.994701</td>\n",
       "      <td>0.008203</td>\n",
       "      <td>-0.002394</td>\n",
       "    </tr>\n",
       "  </tbody>\n",
       "</table>\n",
       "</div>"
      ],
      "text/plain": [
       "         Column 1       Column 2                 Metric     Score  \\\n",
       "0     has_rewards      room_type  ContingencySimilarity  0.962000   \n",
       "1     has_rewards  amenities_fee  ContingencySimilarity  0.810000   \n",
       "2     has_rewards   checkin_date  ContingencySimilarity  0.914000   \n",
       "3     has_rewards  checkout_date  ContingencySimilarity  0.918000   \n",
       "4     has_rewards      room_rate  ContingencySimilarity  0.876000   \n",
       "5       room_type  amenities_fee  ContingencySimilarity  0.852000   \n",
       "6       room_type   checkin_date  ContingencySimilarity  0.876000   \n",
       "7       room_type  checkout_date  ContingencySimilarity  0.866000   \n",
       "8       room_type      room_rate  ContingencySimilarity  0.752000   \n",
       "9   amenities_fee   checkin_date  CorrelationSimilarity  0.991508   \n",
       "10  amenities_fee  checkout_date  CorrelationSimilarity  0.979024   \n",
       "11  amenities_fee      room_rate  CorrelationSimilarity  0.990426   \n",
       "12   checkin_date  checkout_date  CorrelationSimilarity  0.985532   \n",
       "13   checkin_date      room_rate  CorrelationSimilarity  0.998204   \n",
       "14  checkout_date      room_rate  CorrelationSimilarity  0.994701   \n",
       "\n",
       "    Real Correlation  Synthetic Correlation  \n",
       "0                NaN                    NaN  \n",
       "1                NaN                    NaN  \n",
       "2                NaN                    NaN  \n",
       "3                NaN                    NaN  \n",
       "4                NaN                    NaN  \n",
       "5                NaN                    NaN  \n",
       "6                NaN                    NaN  \n",
       "7                NaN                    NaN  \n",
       "8                NaN                    NaN  \n",
       "9           0.031410               0.048393  \n",
       "10          0.023049               0.065001  \n",
       "11          0.008852               0.028001  \n",
       "12          0.999953               0.971018  \n",
       "13          0.017820               0.021412  \n",
       "14          0.008203              -0.002394  "
      ]
     },
     "execution_count": 24,
     "metadata": {},
     "output_type": "execute_result"
    }
   ],
   "source": [
    "quality_report.get_details(property_name='Column Pair Trends')\n",
    "# No ContingencySimilarities because those only apply to comparisons between 2 categorical columns, and we only have 1 (room_type)"
   ]
  },
  {
   "cell_type": "markdown",
   "metadata": {},
   "source": [
    "### For more evaluation metrics, see - https://docs.sdv.dev/sdmetrics/metrics/metrics-glossary"
   ]
  },
  {
   "cell_type": "markdown",
   "metadata": {},
   "source": [
    "# Conditional Sampling"
   ]
  },
  {
   "cell_type": "markdown",
   "metadata": {},
   "source": [
    "### Fixed Conditions"
   ]
  },
  {
   "cell_type": "code",
   "execution_count": 25,
   "metadata": {},
   "outputs": [],
   "source": [
    "from sdv.sampling import Condition\n",
    "\n",
    "suite_guests_with_rewards = Condition(\n",
    "    num_rows=250,\n",
    "    column_values={'room_type': 'SUITE', 'has_rewards': True}\n",
    ")\n",
    "\n",
    "suite_guests_without_rewards = Condition(\n",
    "    num_rows=250,\n",
    "    column_values={'room_type': 'SUITE', 'has_rewards': False}\n",
    ")"
   ]
  },
  {
   "cell_type": "code",
   "execution_count": 27,
   "metadata": {},
   "outputs": [
    {
     "name": "stderr",
     "output_type": "stream",
     "text": [
      "Sampling conditions: 100%|██████████| 500/500 [00:00<00:00, 2399.34it/s]\n"
     ]
    }
   ],
   "source": [
    "synthetic_data = synthesizer.sample_from_conditions(\n",
    "    conditions=[suite_guests_with_rewards, suite_guests_without_rewards],\n",
    "    output_file_path='synthetic_simulated_scenario.csv'\n",
    ")"
   ]
  },
  {
   "cell_type": "code",
   "execution_count": 28,
   "metadata": {},
   "outputs": [
    {
     "data": {
      "text/plain": [
       "(500, 9)"
      ]
     },
     "execution_count": 28,
     "metadata": {},
     "output_type": "execute_result"
    }
   ],
   "source": [
    "synthetic_data.shape"
   ]
  },
  {
   "cell_type": "code",
   "execution_count": 29,
   "metadata": {},
   "outputs": [
    {
     "data": {
      "text/plain": [
       "has_rewards\n",
       "True     250\n",
       "False    250\n",
       "Name: count, dtype: int64"
      ]
     },
     "execution_count": 29,
     "metadata": {},
     "output_type": "execute_result"
    }
   ],
   "source": [
    "synthetic_data[\"has_rewards\"].value_counts()"
   ]
  },
  {
   "cell_type": "markdown",
   "metadata": {},
   "source": [
    "### Condition on Known Column Values"
   ]
  },
  {
   "cell_type": "code",
   "execution_count": 30,
   "metadata": {},
   "outputs": [],
   "source": [
    "import pandas as pd"
   ]
  },
  {
   "cell_type": "code",
   "execution_count": 31,
   "metadata": {},
   "outputs": [],
   "source": [
    "existing_column_data = pd.DataFrame(data={\n",
    "    'room_type': ['SUITE', 'SUITE', 'DELUXE', 'BASIC', 'BASIC'],\n",
    "    'has_rewards': [True, True, True, False, False]\n",
    "})"
   ]
  },
  {
   "cell_type": "code",
   "execution_count": 32,
   "metadata": {},
   "outputs": [
    {
     "data": {
      "text/html": [
       "<div>\n",
       "<style scoped>\n",
       "    .dataframe tbody tr th:only-of-type {\n",
       "        vertical-align: middle;\n",
       "    }\n",
       "\n",
       "    .dataframe tbody tr th {\n",
       "        vertical-align: top;\n",
       "    }\n",
       "\n",
       "    .dataframe thead th {\n",
       "        text-align: right;\n",
       "    }\n",
       "</style>\n",
       "<table border=\"1\" class=\"dataframe\">\n",
       "  <thead>\n",
       "    <tr style=\"text-align: right;\">\n",
       "      <th></th>\n",
       "      <th>room_type</th>\n",
       "      <th>has_rewards</th>\n",
       "    </tr>\n",
       "  </thead>\n",
       "  <tbody>\n",
       "    <tr>\n",
       "      <th>0</th>\n",
       "      <td>SUITE</td>\n",
       "      <td>True</td>\n",
       "    </tr>\n",
       "    <tr>\n",
       "      <th>1</th>\n",
       "      <td>SUITE</td>\n",
       "      <td>True</td>\n",
       "    </tr>\n",
       "    <tr>\n",
       "      <th>2</th>\n",
       "      <td>DELUXE</td>\n",
       "      <td>True</td>\n",
       "    </tr>\n",
       "    <tr>\n",
       "      <th>3</th>\n",
       "      <td>BASIC</td>\n",
       "      <td>False</td>\n",
       "    </tr>\n",
       "    <tr>\n",
       "      <th>4</th>\n",
       "      <td>BASIC</td>\n",
       "      <td>False</td>\n",
       "    </tr>\n",
       "  </tbody>\n",
       "</table>\n",
       "</div>"
      ],
      "text/plain": [
       "  room_type  has_rewards\n",
       "0     SUITE         True\n",
       "1     SUITE         True\n",
       "2    DELUXE         True\n",
       "3     BASIC        False\n",
       "4     BASIC        False"
      ]
     },
     "execution_count": 32,
     "metadata": {},
     "output_type": "execute_result"
    }
   ],
   "source": [
    "existing_column_data.head()"
   ]
  },
  {
   "cell_type": "code",
   "execution_count": 33,
   "metadata": {},
   "outputs": [
    {
     "name": "stderr",
     "output_type": "stream",
     "text": [
      "Sampling remaining columns: 100%|██████████| 5/5 [00:00<00:00, 46.02it/s]\n"
     ]
    }
   ],
   "source": [
    "synthetic_data = synthesizer.sample_remaining_columns(\n",
    "    known_columns=existing_column_data,\n",
    "    max_tries_per_batch=500\n",
    ")"
   ]
  },
  {
   "cell_type": "code",
   "execution_count": 34,
   "metadata": {},
   "outputs": [
    {
     "data": {
      "text/html": [
       "<div>\n",
       "<style scoped>\n",
       "    .dataframe tbody tr th:only-of-type {\n",
       "        vertical-align: middle;\n",
       "    }\n",
       "\n",
       "    .dataframe tbody tr th {\n",
       "        vertical-align: top;\n",
       "    }\n",
       "\n",
       "    .dataframe thead th {\n",
       "        text-align: right;\n",
       "    }\n",
       "</style>\n",
       "<table border=\"1\" class=\"dataframe\">\n",
       "  <thead>\n",
       "    <tr style=\"text-align: right;\">\n",
       "      <th></th>\n",
       "      <th>guest_email</th>\n",
       "      <th>has_rewards</th>\n",
       "      <th>room_type</th>\n",
       "      <th>amenities_fee</th>\n",
       "      <th>checkin_date</th>\n",
       "      <th>checkout_date</th>\n",
       "      <th>room_rate</th>\n",
       "      <th>billing_address</th>\n",
       "      <th>credit_card_number</th>\n",
       "    </tr>\n",
       "  </thead>\n",
       "  <tbody>\n",
       "    <tr>\n",
       "      <th>0</th>\n",
       "      <td>christophermiller@example.com</td>\n",
       "      <td>True</td>\n",
       "      <td>SUITE</td>\n",
       "      <td>2.39</td>\n",
       "      <td>02 Feb 2020</td>\n",
       "      <td>27 Feb 2020</td>\n",
       "      <td>306.56</td>\n",
       "      <td>6897 Joseph Meadow Suite 514\\nVillarrealberg, ...</td>\n",
       "      <td>30343480880655</td>\n",
       "    </tr>\n",
       "    <tr>\n",
       "      <th>1</th>\n",
       "      <td>dgarcia@example.org</td>\n",
       "      <td>True</td>\n",
       "      <td>SUITE</td>\n",
       "      <td>NaN</td>\n",
       "      <td>13 May 2020</td>\n",
       "      <td>27 May 2020</td>\n",
       "      <td>110.88</td>\n",
       "      <td>930 Matthew Union Suite 195\\nWest Cynthia, NM ...</td>\n",
       "      <td>4930915359735</td>\n",
       "    </tr>\n",
       "    <tr>\n",
       "      <th>2</th>\n",
       "      <td>iwhite@example.org</td>\n",
       "      <td>True</td>\n",
       "      <td>DELUXE</td>\n",
       "      <td>NaN</td>\n",
       "      <td>20 Jun 2020</td>\n",
       "      <td>07 Jul 2020</td>\n",
       "      <td>154.81</td>\n",
       "      <td>96602 Carl Spur Apt. 379\\nCatherineberg, NM 41348</td>\n",
       "      <td>6573028438398211</td>\n",
       "    </tr>\n",
       "    <tr>\n",
       "      <th>3</th>\n",
       "      <td>tsanchez@example.com</td>\n",
       "      <td>False</td>\n",
       "      <td>BASIC</td>\n",
       "      <td>16.61</td>\n",
       "      <td>15 May 2020</td>\n",
       "      <td>21 Apr 2020</td>\n",
       "      <td>100.44</td>\n",
       "      <td>24570 Wilson Walks\\nWest Megan, WY 54869</td>\n",
       "      <td>3582077138450885</td>\n",
       "    </tr>\n",
       "    <tr>\n",
       "      <th>4</th>\n",
       "      <td>bellshawn@example.com</td>\n",
       "      <td>False</td>\n",
       "      <td>BASIC</td>\n",
       "      <td>NaN</td>\n",
       "      <td>23 Jul 2020</td>\n",
       "      <td>22 Jul 2020</td>\n",
       "      <td>113.52</td>\n",
       "      <td>Unit 2094 Box 3077\\nDPO AE 02522</td>\n",
       "      <td>4142271383722418</td>\n",
       "    </tr>\n",
       "  </tbody>\n",
       "</table>\n",
       "</div>"
      ],
      "text/plain": [
       "                     guest_email  has_rewards room_type  amenities_fee  \\\n",
       "0  christophermiller@example.com         True     SUITE           2.39   \n",
       "1            dgarcia@example.org         True     SUITE            NaN   \n",
       "2             iwhite@example.org         True    DELUXE            NaN   \n",
       "3           tsanchez@example.com        False     BASIC          16.61   \n",
       "4          bellshawn@example.com        False     BASIC            NaN   \n",
       "\n",
       "  checkin_date checkout_date  room_rate  \\\n",
       "0  02 Feb 2020   27 Feb 2020     306.56   \n",
       "1  13 May 2020   27 May 2020     110.88   \n",
       "2  20 Jun 2020   07 Jul 2020     154.81   \n",
       "3  15 May 2020   21 Apr 2020     100.44   \n",
       "4  23 Jul 2020   22 Jul 2020     113.52   \n",
       "\n",
       "                                     billing_address  credit_card_number  \n",
       "0  6897 Joseph Meadow Suite 514\\nVillarrealberg, ...      30343480880655  \n",
       "1  930 Matthew Union Suite 195\\nWest Cynthia, NM ...       4930915359735  \n",
       "2  96602 Carl Spur Apt. 379\\nCatherineberg, NM 41348    6573028438398211  \n",
       "3           24570 Wilson Walks\\nWest Megan, WY 54869    3582077138450885  \n",
       "4                   Unit 2094 Box 3077\\nDPO AE 02522    4142271383722418  "
      ]
     },
     "execution_count": 34,
     "metadata": {},
     "output_type": "execute_result"
    }
   ],
   "source": [
    "synthetic_data"
   ]
  },
  {
   "cell_type": "markdown",
   "metadata": {},
   "source": [
    "# Saving & Loading"
   ]
  },
  {
   "cell_type": "code",
   "execution_count": 35,
   "metadata": {},
   "outputs": [],
   "source": [
    "save_path = \"basic_synthesizer.pkl\"\n",
    "synthesizer.save(save_path)"
   ]
  },
  {
   "cell_type": "code",
   "execution_count": 36,
   "metadata": {},
   "outputs": [],
   "source": [
    "loaded_synthesizer = SingleTablePreset.load(save_path)"
   ]
  },
  {
   "cell_type": "code",
   "execution_count": 37,
   "metadata": {},
   "outputs": [
    {
     "data": {
      "text/html": [
       "<div>\n",
       "<style scoped>\n",
       "    .dataframe tbody tr th:only-of-type {\n",
       "        vertical-align: middle;\n",
       "    }\n",
       "\n",
       "    .dataframe tbody tr th {\n",
       "        vertical-align: top;\n",
       "    }\n",
       "\n",
       "    .dataframe thead th {\n",
       "        text-align: right;\n",
       "    }\n",
       "</style>\n",
       "<table border=\"1\" class=\"dataframe\">\n",
       "  <thead>\n",
       "    <tr style=\"text-align: right;\">\n",
       "      <th></th>\n",
       "      <th>guest_email</th>\n",
       "      <th>has_rewards</th>\n",
       "      <th>room_type</th>\n",
       "      <th>amenities_fee</th>\n",
       "      <th>checkin_date</th>\n",
       "      <th>checkout_date</th>\n",
       "      <th>room_rate</th>\n",
       "      <th>billing_address</th>\n",
       "      <th>credit_card_number</th>\n",
       "    </tr>\n",
       "  </thead>\n",
       "  <tbody>\n",
       "    <tr>\n",
       "      <th>0</th>\n",
       "      <td>zrivera@example.net</td>\n",
       "      <td>False</td>\n",
       "      <td>BASIC</td>\n",
       "      <td>17.88</td>\n",
       "      <td>04 Jun 2020</td>\n",
       "      <td>04 May 2020</td>\n",
       "      <td>190.33</td>\n",
       "      <td>4421 Terry Inlet\\nSouth Leeborough, ND 01324</td>\n",
       "      <td>4939771093271108</td>\n",
       "    </tr>\n",
       "    <tr>\n",
       "      <th>1</th>\n",
       "      <td>david46@example.com</td>\n",
       "      <td>False</td>\n",
       "      <td>BASIC</td>\n",
       "      <td>29.28</td>\n",
       "      <td>11 Nov 2020</td>\n",
       "      <td>NaN</td>\n",
       "      <td>95.56</td>\n",
       "      <td>7166 Blackburn Extension\\nSouth Dennisberg, PA...</td>\n",
       "      <td>3515171266282087</td>\n",
       "    </tr>\n",
       "  </tbody>\n",
       "</table>\n",
       "</div>"
      ],
      "text/plain": [
       "           guest_email  has_rewards room_type  amenities_fee checkin_date  \\\n",
       "0  zrivera@example.net        False     BASIC          17.88  04 Jun 2020   \n",
       "1  david46@example.com        False     BASIC          29.28  11 Nov 2020   \n",
       "\n",
       "  checkout_date  room_rate                                    billing_address  \\\n",
       "0   04 May 2020     190.33       4421 Terry Inlet\\nSouth Leeborough, ND 01324   \n",
       "1           NaN      95.56  7166 Blackburn Extension\\nSouth Dennisberg, PA...   \n",
       "\n",
       "   credit_card_number  \n",
       "0    4939771093271108  \n",
       "1    3515171266282087  "
      ]
     },
     "execution_count": 37,
     "metadata": {},
     "output_type": "execute_result"
    }
   ],
   "source": [
    "loaded_synthesizer.sample(2)"
   ]
  },
  {
   "cell_type": "code",
   "execution_count": null,
   "metadata": {},
   "outputs": [],
   "source": []
  },
  {
   "cell_type": "code",
   "execution_count": null,
   "metadata": {},
   "outputs": [],
   "source": []
  }
 ],
 "metadata": {
  "kernelspec": {
   "display_name": "venv",
   "language": "python",
   "name": "python3"
  },
  "language_info": {
   "codemirror_mode": {
    "name": "ipython",
    "version": 3
   },
   "file_extension": ".py",
   "mimetype": "text/x-python",
   "name": "python",
   "nbconvert_exporter": "python",
   "pygments_lexer": "ipython3",
   "version": "3.10.12"
  },
  "orig_nbformat": 4
 },
 "nbformat": 4,
 "nbformat_minor": 2
}
