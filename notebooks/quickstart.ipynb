{
 "cells": [
  {
   "cell_type": "code",
   "execution_count": 1,
   "metadata": {},
   "outputs": [],
   "source": [
    "from sdv.datasets.demo import download_demo\n",
    "from sdv.lite import SingleTablePreset\n",
    "from sdv.single_table import GaussianCopulaSynthesizer\n",
    "from sdv.evaluation.single_table import evaluate_quality, get_column_plot, get_column_pair_plot"
   ]
  },
  {
   "cell_type": "code",
   "execution_count": 2,
   "metadata": {},
   "outputs": [],
   "source": [
    "real_data, metadata = download_demo(\n",
    "    modality='single_table',\n",
    "    dataset_name='fake_hotel_guests')"
   ]
  },
  {
   "cell_type": "markdown",
   "metadata": {},
   "source": [
    "# Data & Metadata Formats"
   ]
  },
  {
   "cell_type": "code",
   "execution_count": 3,
   "metadata": {},
   "outputs": [
    {
     "data": {
      "text/html": [
       "<div>\n",
       "<style scoped>\n",
       "    .dataframe tbody tr th:only-of-type {\n",
       "        vertical-align: middle;\n",
       "    }\n",
       "\n",
       "    .dataframe tbody tr th {\n",
       "        vertical-align: top;\n",
       "    }\n",
       "\n",
       "    .dataframe thead th {\n",
       "        text-align: right;\n",
       "    }\n",
       "</style>\n",
       "<table border=\"1\" class=\"dataframe\">\n",
       "  <thead>\n",
       "    <tr style=\"text-align: right;\">\n",
       "      <th></th>\n",
       "      <th>guest_email</th>\n",
       "      <th>has_rewards</th>\n",
       "      <th>room_type</th>\n",
       "      <th>amenities_fee</th>\n",
       "      <th>checkin_date</th>\n",
       "      <th>checkout_date</th>\n",
       "      <th>room_rate</th>\n",
       "      <th>billing_address</th>\n",
       "      <th>credit_card_number</th>\n",
       "    </tr>\n",
       "  </thead>\n",
       "  <tbody>\n",
       "    <tr>\n",
       "      <th>0</th>\n",
       "      <td>michaelsanders@shaw.net</td>\n",
       "      <td>False</td>\n",
       "      <td>BASIC</td>\n",
       "      <td>37.89</td>\n",
       "      <td>27 Dec 2020</td>\n",
       "      <td>29 Dec 2020</td>\n",
       "      <td>131.23</td>\n",
       "      <td>49380 Rivers Street\\nSpencerville, AK 68265</td>\n",
       "      <td>4075084747483975747</td>\n",
       "    </tr>\n",
       "    <tr>\n",
       "      <th>1</th>\n",
       "      <td>randy49@brown.biz</td>\n",
       "      <td>False</td>\n",
       "      <td>BASIC</td>\n",
       "      <td>24.37</td>\n",
       "      <td>30 Dec 2020</td>\n",
       "      <td>02 Jan 2021</td>\n",
       "      <td>114.43</td>\n",
       "      <td>88394 Boyle Meadows\\nConleyberg, TN 22063</td>\n",
       "      <td>180072822063468</td>\n",
       "    </tr>\n",
       "    <tr>\n",
       "      <th>2</th>\n",
       "      <td>webermelissa@neal.com</td>\n",
       "      <td>True</td>\n",
       "      <td>DELUXE</td>\n",
       "      <td>0.00</td>\n",
       "      <td>17 Sep 2020</td>\n",
       "      <td>18 Sep 2020</td>\n",
       "      <td>368.33</td>\n",
       "      <td>0323 Lisa Station Apt. 208\\nPort Thomas, LA 82585</td>\n",
       "      <td>38983476971380</td>\n",
       "    </tr>\n",
       "    <tr>\n",
       "      <th>3</th>\n",
       "      <td>gsims@terry.com</td>\n",
       "      <td>False</td>\n",
       "      <td>BASIC</td>\n",
       "      <td>NaN</td>\n",
       "      <td>28 Dec 2020</td>\n",
       "      <td>31 Dec 2020</td>\n",
       "      <td>115.61</td>\n",
       "      <td>77 Massachusetts Ave\\nCambridge, MA 02139</td>\n",
       "      <td>4969551998845740</td>\n",
       "    </tr>\n",
       "    <tr>\n",
       "      <th>4</th>\n",
       "      <td>misty33@smith.biz</td>\n",
       "      <td>False</td>\n",
       "      <td>BASIC</td>\n",
       "      <td>16.45</td>\n",
       "      <td>05 Apr 2020</td>\n",
       "      <td>NaN</td>\n",
       "      <td>122.41</td>\n",
       "      <td>1234 Corporate Drive\\nBoston, MA 02116</td>\n",
       "      <td>3558512986488983</td>\n",
       "    </tr>\n",
       "  </tbody>\n",
       "</table>\n",
       "</div>"
      ],
      "text/plain": [
       "               guest_email  has_rewards room_type  amenities_fee checkin_date  \\\n",
       "0  michaelsanders@shaw.net        False     BASIC          37.89  27 Dec 2020   \n",
       "1        randy49@brown.biz        False     BASIC          24.37  30 Dec 2020   \n",
       "2    webermelissa@neal.com         True    DELUXE           0.00  17 Sep 2020   \n",
       "3          gsims@terry.com        False     BASIC            NaN  28 Dec 2020   \n",
       "4        misty33@smith.biz        False     BASIC          16.45  05 Apr 2020   \n",
       "\n",
       "  checkout_date  room_rate                                    billing_address  \\\n",
       "0   29 Dec 2020     131.23        49380 Rivers Street\\nSpencerville, AK 68265   \n",
       "1   02 Jan 2021     114.43          88394 Boyle Meadows\\nConleyberg, TN 22063   \n",
       "2   18 Sep 2020     368.33  0323 Lisa Station Apt. 208\\nPort Thomas, LA 82585   \n",
       "3   31 Dec 2020     115.61          77 Massachusetts Ave\\nCambridge, MA 02139   \n",
       "4           NaN     122.41             1234 Corporate Drive\\nBoston, MA 02116   \n",
       "\n",
       "    credit_card_number  \n",
       "0  4075084747483975747  \n",
       "1      180072822063468  \n",
       "2       38983476971380  \n",
       "3     4969551998845740  \n",
       "4     3558512986488983  "
      ]
     },
     "execution_count": 3,
     "metadata": {},
     "output_type": "execute_result"
    }
   ],
   "source": [
    "# Take a look at real_data and metadata\n",
    "real_data.head()\n",
    "\n",
    "## We can pass any pandas dataframe to SDV (as long as the column is not entirely empty)"
   ]
  },
  {
   "cell_type": "code",
   "execution_count": 4,
   "metadata": {},
   "outputs": [
    {
     "data": {
      "text/plain": [
       "{\n",
       "    \"METADATA_SPEC_VERSION\": \"SINGLE_TABLE_V1\",\n",
       "    \"primary_key\": \"guest_email\",\n",
       "    \"columns\": {\n",
       "        \"guest_email\": {\n",
       "            \"sdtype\": \"email\",\n",
       "            \"pii\": true\n",
       "        },\n",
       "        \"has_rewards\": {\n",
       "            \"sdtype\": \"boolean\"\n",
       "        },\n",
       "        \"room_type\": {\n",
       "            \"sdtype\": \"categorical\"\n",
       "        },\n",
       "        \"amenities_fee\": {\n",
       "            \"sdtype\": \"numerical\",\n",
       "            \"computer_representation\": \"Float\"\n",
       "        },\n",
       "        \"checkin_date\": {\n",
       "            \"sdtype\": \"datetime\",\n",
       "            \"datetime_format\": \"%d %b %Y\"\n",
       "        },\n",
       "        \"checkout_date\": {\n",
       "            \"sdtype\": \"datetime\",\n",
       "            \"datetime_format\": \"%d %b %Y\"\n",
       "        },\n",
       "        \"room_rate\": {\n",
       "            \"sdtype\": \"numerical\",\n",
       "            \"computer_representation\": \"Float\"\n",
       "        },\n",
       "        \"billing_address\": {\n",
       "            \"sdtype\": \"address\",\n",
       "            \"pii\": true\n",
       "        },\n",
       "        \"credit_card_number\": {\n",
       "            \"sdtype\": \"credit_card_number\",\n",
       "            \"pii\": true\n",
       "        }\n",
       "    }\n",
       "}"
      ]
     },
     "execution_count": 4,
     "metadata": {},
     "output_type": "execute_result"
    }
   ],
   "source": [
    "metadata\n",
    "\n",
    "# metadata is essentially a JSON object or python dict containing column names and SDTypes. SDTypes can be found here -https://docs.sdv.dev/sdv/reference/metadata-spec/sdtypes\n",
    "# We can use Faker types as SDTypes\n",
    "# SDV gives us a couple additional utility methods and attributes for metadata objects"
   ]
  },
  {
   "cell_type": "markdown",
   "metadata": {},
   "source": [
    "# Creating a Synthesizer"
   ]
  },
  {
   "cell_type": "code",
   "execution_count": 5,
   "metadata": {},
   "outputs": [],
   "source": [
    "## Won't use these imports below, just to see available synthesizers\n",
    "\n",
    "# from sdv.single_table import CTGANSynthesizer, GaussianCopulaSynthesizer, TVAESynthesizer, CopulaGANSynthesizer\n",
    "# from sdv.multi_table import HMASynthesizer\n",
    "# from sdv.sequential import PARSynthesizer"
   ]
  },
  {
   "cell_type": "code",
   "execution_count": 6,
   "metadata": {},
   "outputs": [],
   "source": [
    "# Create a Synthesizer (we are fitting a GuassianCopulaSynthesizer, which uses classic, statistical methods to train a model and generate synthetic data.)\n",
    "synthesizer = GaussianCopulaSynthesizer(metadata, \n",
    "                                        # numerical_distributions={\"amenities_fee\":\"norm\"}\n",
    "                                        )\n",
    "synthesizer.fit(data=real_data)"
   ]
  },
  {
   "cell_type": "markdown",
   "metadata": {},
   "source": [
    "# Generating Synthetic Data"
   ]
  },
  {
   "cell_type": "code",
   "execution_count": 7,
   "metadata": {},
   "outputs": [],
   "source": [
    "synthetic_data = synthesizer.sample(num_rows=500)"
   ]
  },
  {
   "cell_type": "code",
   "execution_count": 8,
   "metadata": {},
   "outputs": [
    {
     "data": {
      "text/html": [
       "<div>\n",
       "<style scoped>\n",
       "    .dataframe tbody tr th:only-of-type {\n",
       "        vertical-align: middle;\n",
       "    }\n",
       "\n",
       "    .dataframe tbody tr th {\n",
       "        vertical-align: top;\n",
       "    }\n",
       "\n",
       "    .dataframe thead th {\n",
       "        text-align: right;\n",
       "    }\n",
       "</style>\n",
       "<table border=\"1\" class=\"dataframe\">\n",
       "  <thead>\n",
       "    <tr style=\"text-align: right;\">\n",
       "      <th></th>\n",
       "      <th>guest_email</th>\n",
       "      <th>has_rewards</th>\n",
       "      <th>room_type</th>\n",
       "      <th>amenities_fee</th>\n",
       "      <th>checkin_date</th>\n",
       "      <th>checkout_date</th>\n",
       "      <th>room_rate</th>\n",
       "      <th>billing_address</th>\n",
       "      <th>credit_card_number</th>\n",
       "    </tr>\n",
       "  </thead>\n",
       "  <tbody>\n",
       "    <tr>\n",
       "      <th>0</th>\n",
       "      <td>dsullivan@example.net</td>\n",
       "      <td>True</td>\n",
       "      <td>BASIC</td>\n",
       "      <td>2.10</td>\n",
       "      <td>26 Mar 2020</td>\n",
       "      <td>12 Apr 2020</td>\n",
       "      <td>122.83</td>\n",
       "      <td>90469 Karla Knolls Apt. 781\\nSusanberg, NC 28401</td>\n",
       "      <td>5161033759518983</td>\n",
       "    </tr>\n",
       "    <tr>\n",
       "      <th>1</th>\n",
       "      <td>steven59@example.org</td>\n",
       "      <td>False</td>\n",
       "      <td>DELUXE</td>\n",
       "      <td>NaN</td>\n",
       "      <td>03 Jul 2020</td>\n",
       "      <td>15 Sep 2020</td>\n",
       "      <td>175.30</td>\n",
       "      <td>1080 Ashley Creek Apt. 622\\nWest Amy, NM 25058</td>\n",
       "      <td>4133047413145475690</td>\n",
       "    </tr>\n",
       "    <tr>\n",
       "      <th>2</th>\n",
       "      <td>brandon15@example.net</td>\n",
       "      <td>False</td>\n",
       "      <td>DELUXE</td>\n",
       "      <td>22.38</td>\n",
       "      <td>30 Mar 2020</td>\n",
       "      <td>17 Mar 2020</td>\n",
       "      <td>151.45</td>\n",
       "      <td>99923 Anderson Trace Suite 861\\nNorth Haley, T...</td>\n",
       "      <td>4977328103788</td>\n",
       "    </tr>\n",
       "    <tr>\n",
       "      <th>3</th>\n",
       "      <td>humphreyjennifer@example.net</td>\n",
       "      <td>False</td>\n",
       "      <td>BASIC</td>\n",
       "      <td>8.44</td>\n",
       "      <td>05 May 2020</td>\n",
       "      <td>22 May 2020</td>\n",
       "      <td>169.82</td>\n",
       "      <td>9301 John Parkways\\nThomasland, OH 61350</td>\n",
       "      <td>3524946844839485</td>\n",
       "    </tr>\n",
       "    <tr>\n",
       "      <th>4</th>\n",
       "      <td>joshuabrown@example.net</td>\n",
       "      <td>False</td>\n",
       "      <td>SUITE</td>\n",
       "      <td>8.21</td>\n",
       "      <td>13 Jan 2020</td>\n",
       "      <td>10 Jan 2020</td>\n",
       "      <td>189.85</td>\n",
       "      <td>126 George Tunnel\\nDuranstad, MS 95176</td>\n",
       "      <td>4446905799576890978</td>\n",
       "    </tr>\n",
       "  </tbody>\n",
       "</table>\n",
       "</div>"
      ],
      "text/plain": [
       "                    guest_email  has_rewards room_type  amenities_fee  \\\n",
       "0         dsullivan@example.net         True     BASIC           2.10   \n",
       "1          steven59@example.org        False    DELUXE            NaN   \n",
       "2         brandon15@example.net        False    DELUXE          22.38   \n",
       "3  humphreyjennifer@example.net        False     BASIC           8.44   \n",
       "4       joshuabrown@example.net        False     SUITE           8.21   \n",
       "\n",
       "  checkin_date checkout_date  room_rate  \\\n",
       "0  26 Mar 2020   12 Apr 2020     122.83   \n",
       "1  03 Jul 2020   15 Sep 2020     175.30   \n",
       "2  30 Mar 2020   17 Mar 2020     151.45   \n",
       "3  05 May 2020   22 May 2020     169.82   \n",
       "4  13 Jan 2020   10 Jan 2020     189.85   \n",
       "\n",
       "                                     billing_address   credit_card_number  \n",
       "0   90469 Karla Knolls Apt. 781\\nSusanberg, NC 28401     5161033759518983  \n",
       "1     1080 Ashley Creek Apt. 622\\nWest Amy, NM 25058  4133047413145475690  \n",
       "2  99923 Anderson Trace Suite 861\\nNorth Haley, T...        4977328103788  \n",
       "3           9301 John Parkways\\nThomasland, OH 61350     3524946844839485  \n",
       "4             126 George Tunnel\\nDuranstad, MS 95176  4446905799576890978  "
      ]
     },
     "execution_count": 8,
     "metadata": {},
     "output_type": "execute_result"
    }
   ],
   "source": [
    "synthetic_data.head()"
   ]
  },
  {
   "cell_type": "code",
   "execution_count": 9,
   "metadata": {},
   "outputs": [
    {
     "data": {
      "text/plain": [
       "[]"
      ]
     },
     "execution_count": 9,
     "metadata": {},
     "output_type": "execute_result"
    }
   ],
   "source": [
    "# Let's see if it included any \"real\" emails (from our original data) in our synthetic output\n",
    "[email for email in real_data[\"guest_email\"] if email in synthetic_data[\"guest_email\"]]\n",
    "\n",
    "## It doesn't include any of the original emails because we marked it as PII in the metadata object"
   ]
  },
  {
   "cell_type": "markdown",
   "metadata": {},
   "source": [
    "# Quality Evaluation "
   ]
  },
  {
   "cell_type": "code",
   "execution_count": 12,
   "metadata": {},
   "outputs": [
    {
     "data": {
      "application/vnd.plotly.v1+json": {
       "config": {
        "plotlyServerURL": "https://plot.ly"
       },
       "data": [
        {
         "alignmentgroup": "True",
         "bingroup": "x",
         "histnorm": "probability density",
         "hovertemplate": "<b>Real</b><br>Frequency: %{y}<extra></extra>",
         "legendgroup": "Real",
         "marker": {
          "color": "#000036",
          "pattern": {
           "shape": ""
          }
         },
         "name": "Real",
         "offsetgroup": "Real",
         "orientation": "v",
         "showlegend": true,
         "type": "histogram",
         "x": [
          false,
          false,
          true,
          false,
          false,
          true,
          false,
          false,
          false,
          false,
          false,
          false,
          false,
          false,
          true,
          false,
          false,
          false,
          false,
          false,
          false,
          false,
          false,
          false,
          false,
          false,
          true,
          true,
          false,
          false,
          true,
          false,
          false,
          false,
          false,
          false,
          false,
          false,
          true,
          false,
          false,
          false,
          false,
          false,
          false,
          false,
          false,
          false,
          false,
          false,
          true,
          false,
          false,
          false,
          false,
          true,
          false,
          false,
          false,
          false,
          false,
          false,
          false,
          false,
          true,
          false,
          false,
          false,
          false,
          false,
          false,
          false,
          false,
          false,
          false,
          false,
          false,
          false,
          false,
          false,
          false,
          false,
          false,
          false,
          false,
          false,
          false,
          false,
          false,
          false,
          false,
          false,
          false,
          false,
          false,
          false,
          false,
          false,
          true,
          false,
          false,
          false,
          false,
          false,
          false,
          false,
          true,
          false,
          false,
          false,
          false,
          false,
          false,
          false,
          true,
          false,
          false,
          false,
          false,
          false,
          true,
          true,
          true,
          false,
          false,
          false,
          false,
          false,
          false,
          false,
          false,
          false,
          false,
          true,
          false,
          false,
          false,
          false,
          false,
          false,
          false,
          false,
          true,
          false,
          true,
          false,
          false,
          false,
          false,
          true,
          true,
          false,
          false,
          false,
          false,
          false,
          false,
          false,
          false,
          false,
          false,
          false,
          false,
          false,
          false,
          true,
          true,
          false,
          false,
          false,
          false,
          false,
          false,
          false,
          false,
          false,
          false,
          false,
          true,
          false,
          false,
          false,
          false,
          true,
          false,
          false,
          false,
          false,
          false,
          false,
          false,
          true,
          false,
          false,
          false,
          false,
          true,
          false,
          false,
          false,
          false,
          false,
          false,
          false,
          false,
          false,
          false,
          false,
          false,
          false,
          false,
          false,
          false,
          false,
          false,
          false,
          true,
          false,
          false,
          true,
          false,
          false,
          false,
          false,
          false,
          false,
          false,
          false,
          false,
          false,
          false,
          false,
          false,
          false,
          false,
          false,
          true,
          false,
          false,
          false,
          false,
          false,
          false,
          false,
          false,
          false,
          true,
          false,
          false,
          false,
          true,
          false,
          false,
          false,
          false,
          false,
          false,
          false,
          false,
          false,
          false,
          false,
          false,
          false,
          false,
          false,
          false,
          false,
          false,
          false,
          false,
          false,
          false,
          false,
          false,
          false,
          false,
          false,
          false,
          false,
          false,
          false,
          false,
          false,
          false,
          false,
          false,
          false,
          false,
          false,
          false,
          false,
          false,
          false,
          false,
          true,
          false,
          true,
          false,
          false,
          false,
          false,
          false,
          false,
          false,
          false,
          false,
          false,
          false,
          false,
          false,
          false,
          false,
          false,
          false,
          false,
          false,
          false,
          false,
          false,
          false,
          false,
          false,
          false,
          false,
          false,
          false,
          false,
          false,
          false,
          false,
          false,
          false,
          false,
          false,
          true,
          false,
          false,
          false,
          false,
          false,
          false,
          false,
          false,
          true,
          false,
          false,
          false,
          false,
          true,
          false,
          false,
          false,
          false,
          false,
          false,
          false,
          false,
          false,
          false,
          false,
          false,
          false,
          false,
          false,
          false,
          false,
          false,
          false,
          false,
          false,
          true,
          false,
          false,
          true,
          false,
          false,
          false,
          false,
          false,
          false,
          false,
          false,
          false,
          false,
          false,
          false,
          false,
          true,
          false,
          false,
          false,
          false,
          true,
          false,
          false,
          false,
          false,
          false,
          false,
          false,
          false,
          true,
          false,
          false,
          false,
          false,
          false,
          true,
          false,
          false,
          false,
          false,
          false,
          false,
          false,
          false,
          false,
          false,
          false,
          false,
          true,
          true,
          true,
          false,
          false,
          true,
          false,
          false,
          false,
          false,
          false,
          false,
          false,
          false,
          false,
          false,
          true,
          false,
          false,
          false,
          true,
          false,
          true,
          false,
          false,
          false,
          false,
          false,
          false,
          false,
          false,
          false,
          false,
          false,
          false,
          false,
          false,
          false,
          false,
          false,
          false,
          false,
          false,
          false,
          false,
          false,
          false,
          false,
          false,
          false,
          false,
          false,
          false,
          false,
          true,
          false,
          false,
          true,
          false,
          false,
          false,
          false,
          false,
          false,
          false,
          false,
          true,
          false,
          false,
          false,
          false,
          false,
          false,
          false,
          false,
          false,
          false,
          false,
          false
         ],
         "xaxis": "x",
         "yaxis": "y"
        },
        {
         "alignmentgroup": "True",
         "bingroup": "x",
         "histnorm": "probability density",
         "hovertemplate": "<b>Synthetic</b><br>Frequency: %{y}<extra></extra>",
         "legendgroup": "Synthetic",
         "marker": {
          "color": "#01E0C9",
          "pattern": {
           "shape": "/"
          }
         },
         "name": "Synthetic",
         "offsetgroup": "Synthetic",
         "orientation": "v",
         "showlegend": true,
         "type": "histogram",
         "x": [
          true,
          false,
          false,
          false,
          false,
          true,
          false,
          true,
          false,
          false,
          true,
          false,
          false,
          true,
          false,
          true,
          false,
          false,
          false,
          false,
          false,
          false,
          false,
          true,
          true,
          false,
          false,
          false,
          true,
          false,
          false,
          true,
          false,
          false,
          false,
          false,
          false,
          false,
          false,
          false,
          false,
          false,
          false,
          true,
          true,
          false,
          false,
          false,
          true,
          false,
          false,
          false,
          false,
          false,
          false,
          false,
          false,
          false,
          false,
          false,
          true,
          false,
          false,
          false,
          false,
          false,
          false,
          false,
          false,
          false,
          false,
          false,
          true,
          false,
          false,
          false,
          false,
          true,
          false,
          false,
          false,
          false,
          false,
          false,
          false,
          true,
          false,
          false,
          false,
          false,
          false,
          false,
          false,
          false,
          false,
          true,
          false,
          false,
          false,
          false,
          false,
          false,
          false,
          false,
          false,
          false,
          false,
          false,
          false,
          false,
          false,
          false,
          false,
          false,
          false,
          false,
          false,
          false,
          false,
          false,
          false,
          true,
          false,
          false,
          true,
          false,
          false,
          false,
          false,
          true,
          true,
          true,
          false,
          false,
          false,
          false,
          false,
          true,
          false,
          false,
          false,
          false,
          false,
          false,
          false,
          false,
          false,
          true,
          false,
          false,
          false,
          false,
          false,
          false,
          false,
          true,
          false,
          false,
          false,
          false,
          false,
          false,
          false,
          false,
          false,
          false,
          true,
          false,
          false,
          false,
          false,
          false,
          false,
          false,
          false,
          false,
          false,
          false,
          false,
          false,
          false,
          true,
          false,
          false,
          true,
          true,
          false,
          false,
          false,
          true,
          false,
          false,
          false,
          false,
          false,
          false,
          false,
          false,
          true,
          false,
          false,
          true,
          false,
          false,
          true,
          true,
          false,
          false,
          false,
          false,
          false,
          false,
          false,
          false,
          false,
          false,
          false,
          false,
          false,
          false,
          false,
          false,
          false,
          false,
          false,
          false,
          false,
          true,
          false,
          true,
          false,
          false,
          true,
          false,
          false,
          true,
          false,
          false,
          false,
          true,
          false,
          false,
          false,
          false,
          false,
          true,
          false,
          false,
          false,
          true,
          false,
          false,
          false,
          false,
          false,
          false,
          false,
          false,
          false,
          true,
          false,
          false,
          false,
          false,
          false,
          false,
          false,
          false,
          false,
          false,
          false,
          true,
          false,
          false,
          false,
          false,
          false,
          false,
          true,
          false,
          false,
          false,
          false,
          false,
          false,
          false,
          false,
          false,
          false,
          false,
          false,
          false,
          true,
          false,
          false,
          true,
          false,
          false,
          false,
          false,
          false,
          false,
          false,
          false,
          false,
          false,
          false,
          true,
          false,
          false,
          false,
          false,
          false,
          false,
          false,
          false,
          false,
          false,
          false,
          false,
          false,
          false,
          false,
          true,
          false,
          false,
          false,
          false,
          false,
          true,
          false,
          false,
          false,
          false,
          false,
          false,
          false,
          false,
          false,
          false,
          false,
          false,
          false,
          false,
          false,
          false,
          false,
          false,
          false,
          false,
          true,
          true,
          false,
          true,
          false,
          false,
          false,
          false,
          false,
          false,
          false,
          false,
          false,
          false,
          true,
          false,
          false,
          false,
          true,
          false,
          false,
          true,
          false,
          false,
          false,
          false,
          false,
          false,
          true,
          false,
          false,
          false,
          false,
          false,
          false,
          false,
          false,
          false,
          false,
          false,
          false,
          false,
          false,
          true,
          false,
          false,
          true,
          false,
          false,
          false,
          false,
          false,
          true,
          false,
          false,
          true,
          false,
          false,
          false,
          true,
          false,
          false,
          false,
          false,
          false,
          false,
          false,
          false,
          false,
          false,
          false,
          false,
          true,
          false,
          false,
          false,
          true,
          false,
          false,
          false,
          false,
          false,
          true,
          false,
          false,
          false,
          false,
          false,
          false,
          false,
          true,
          false,
          false,
          false,
          false,
          false,
          false,
          false,
          false,
          false,
          false,
          true,
          false,
          false,
          true,
          false,
          false,
          false,
          false,
          true,
          false,
          false,
          false,
          false,
          false,
          true,
          false,
          false,
          false,
          true,
          false,
          false,
          true,
          false,
          false,
          false,
          false,
          false,
          true,
          false,
          false,
          false,
          false,
          false,
          false,
          true,
          false,
          false,
          false,
          true,
          false,
          false,
          false,
          false,
          false,
          false,
          true,
          true,
          false,
          false
         ],
         "xaxis": "x",
         "yaxis": "y"
        }
       ],
       "layout": {
        "barmode": "group",
        "legend": {
         "title": {
          "text": "Data"
         },
         "tracegroupgap": 0
        },
        "margin": {
         "t": 60
        },
        "plot_bgcolor": "#F5F5F8",
        "template": {
         "data": {
          "bar": [
           {
            "error_x": {
             "color": "#2a3f5f"
            },
            "error_y": {
             "color": "#2a3f5f"
            },
            "marker": {
             "line": {
              "color": "#E5ECF6",
              "width": 0.5
             },
             "pattern": {
              "fillmode": "overlay",
              "size": 10,
              "solidity": 0.2
             }
            },
            "type": "bar"
           }
          ],
          "barpolar": [
           {
            "marker": {
             "line": {
              "color": "#E5ECF6",
              "width": 0.5
             },
             "pattern": {
              "fillmode": "overlay",
              "size": 10,
              "solidity": 0.2
             }
            },
            "type": "barpolar"
           }
          ],
          "carpet": [
           {
            "aaxis": {
             "endlinecolor": "#2a3f5f",
             "gridcolor": "white",
             "linecolor": "white",
             "minorgridcolor": "white",
             "startlinecolor": "#2a3f5f"
            },
            "baxis": {
             "endlinecolor": "#2a3f5f",
             "gridcolor": "white",
             "linecolor": "white",
             "minorgridcolor": "white",
             "startlinecolor": "#2a3f5f"
            },
            "type": "carpet"
           }
          ],
          "choropleth": [
           {
            "colorbar": {
             "outlinewidth": 0,
             "ticks": ""
            },
            "type": "choropleth"
           }
          ],
          "contour": [
           {
            "colorbar": {
             "outlinewidth": 0,
             "ticks": ""
            },
            "colorscale": [
             [
              0,
              "#0d0887"
             ],
             [
              0.1111111111111111,
              "#46039f"
             ],
             [
              0.2222222222222222,
              "#7201a8"
             ],
             [
              0.3333333333333333,
              "#9c179e"
             ],
             [
              0.4444444444444444,
              "#bd3786"
             ],
             [
              0.5555555555555556,
              "#d8576b"
             ],
             [
              0.6666666666666666,
              "#ed7953"
             ],
             [
              0.7777777777777778,
              "#fb9f3a"
             ],
             [
              0.8888888888888888,
              "#fdca26"
             ],
             [
              1,
              "#f0f921"
             ]
            ],
            "type": "contour"
           }
          ],
          "contourcarpet": [
           {
            "colorbar": {
             "outlinewidth": 0,
             "ticks": ""
            },
            "type": "contourcarpet"
           }
          ],
          "heatmap": [
           {
            "colorbar": {
             "outlinewidth": 0,
             "ticks": ""
            },
            "colorscale": [
             [
              0,
              "#0d0887"
             ],
             [
              0.1111111111111111,
              "#46039f"
             ],
             [
              0.2222222222222222,
              "#7201a8"
             ],
             [
              0.3333333333333333,
              "#9c179e"
             ],
             [
              0.4444444444444444,
              "#bd3786"
             ],
             [
              0.5555555555555556,
              "#d8576b"
             ],
             [
              0.6666666666666666,
              "#ed7953"
             ],
             [
              0.7777777777777778,
              "#fb9f3a"
             ],
             [
              0.8888888888888888,
              "#fdca26"
             ],
             [
              1,
              "#f0f921"
             ]
            ],
            "type": "heatmap"
           }
          ],
          "heatmapgl": [
           {
            "colorbar": {
             "outlinewidth": 0,
             "ticks": ""
            },
            "colorscale": [
             [
              0,
              "#0d0887"
             ],
             [
              0.1111111111111111,
              "#46039f"
             ],
             [
              0.2222222222222222,
              "#7201a8"
             ],
             [
              0.3333333333333333,
              "#9c179e"
             ],
             [
              0.4444444444444444,
              "#bd3786"
             ],
             [
              0.5555555555555556,
              "#d8576b"
             ],
             [
              0.6666666666666666,
              "#ed7953"
             ],
             [
              0.7777777777777778,
              "#fb9f3a"
             ],
             [
              0.8888888888888888,
              "#fdca26"
             ],
             [
              1,
              "#f0f921"
             ]
            ],
            "type": "heatmapgl"
           }
          ],
          "histogram": [
           {
            "marker": {
             "pattern": {
              "fillmode": "overlay",
              "size": 10,
              "solidity": 0.2
             }
            },
            "type": "histogram"
           }
          ],
          "histogram2d": [
           {
            "colorbar": {
             "outlinewidth": 0,
             "ticks": ""
            },
            "colorscale": [
             [
              0,
              "#0d0887"
             ],
             [
              0.1111111111111111,
              "#46039f"
             ],
             [
              0.2222222222222222,
              "#7201a8"
             ],
             [
              0.3333333333333333,
              "#9c179e"
             ],
             [
              0.4444444444444444,
              "#bd3786"
             ],
             [
              0.5555555555555556,
              "#d8576b"
             ],
             [
              0.6666666666666666,
              "#ed7953"
             ],
             [
              0.7777777777777778,
              "#fb9f3a"
             ],
             [
              0.8888888888888888,
              "#fdca26"
             ],
             [
              1,
              "#f0f921"
             ]
            ],
            "type": "histogram2d"
           }
          ],
          "histogram2dcontour": [
           {
            "colorbar": {
             "outlinewidth": 0,
             "ticks": ""
            },
            "colorscale": [
             [
              0,
              "#0d0887"
             ],
             [
              0.1111111111111111,
              "#46039f"
             ],
             [
              0.2222222222222222,
              "#7201a8"
             ],
             [
              0.3333333333333333,
              "#9c179e"
             ],
             [
              0.4444444444444444,
              "#bd3786"
             ],
             [
              0.5555555555555556,
              "#d8576b"
             ],
             [
              0.6666666666666666,
              "#ed7953"
             ],
             [
              0.7777777777777778,
              "#fb9f3a"
             ],
             [
              0.8888888888888888,
              "#fdca26"
             ],
             [
              1,
              "#f0f921"
             ]
            ],
            "type": "histogram2dcontour"
           }
          ],
          "mesh3d": [
           {
            "colorbar": {
             "outlinewidth": 0,
             "ticks": ""
            },
            "type": "mesh3d"
           }
          ],
          "parcoords": [
           {
            "line": {
             "colorbar": {
              "outlinewidth": 0,
              "ticks": ""
             }
            },
            "type": "parcoords"
           }
          ],
          "pie": [
           {
            "automargin": true,
            "type": "pie"
           }
          ],
          "scatter": [
           {
            "fillpattern": {
             "fillmode": "overlay",
             "size": 10,
             "solidity": 0.2
            },
            "type": "scatter"
           }
          ],
          "scatter3d": [
           {
            "line": {
             "colorbar": {
              "outlinewidth": 0,
              "ticks": ""
             }
            },
            "marker": {
             "colorbar": {
              "outlinewidth": 0,
              "ticks": ""
             }
            },
            "type": "scatter3d"
           }
          ],
          "scattercarpet": [
           {
            "marker": {
             "colorbar": {
              "outlinewidth": 0,
              "ticks": ""
             }
            },
            "type": "scattercarpet"
           }
          ],
          "scattergeo": [
           {
            "marker": {
             "colorbar": {
              "outlinewidth": 0,
              "ticks": ""
             }
            },
            "type": "scattergeo"
           }
          ],
          "scattergl": [
           {
            "marker": {
             "colorbar": {
              "outlinewidth": 0,
              "ticks": ""
             }
            },
            "type": "scattergl"
           }
          ],
          "scattermapbox": [
           {
            "marker": {
             "colorbar": {
              "outlinewidth": 0,
              "ticks": ""
             }
            },
            "type": "scattermapbox"
           }
          ],
          "scatterpolar": [
           {
            "marker": {
             "colorbar": {
              "outlinewidth": 0,
              "ticks": ""
             }
            },
            "type": "scatterpolar"
           }
          ],
          "scatterpolargl": [
           {
            "marker": {
             "colorbar": {
              "outlinewidth": 0,
              "ticks": ""
             }
            },
            "type": "scatterpolargl"
           }
          ],
          "scatterternary": [
           {
            "marker": {
             "colorbar": {
              "outlinewidth": 0,
              "ticks": ""
             }
            },
            "type": "scatterternary"
           }
          ],
          "surface": [
           {
            "colorbar": {
             "outlinewidth": 0,
             "ticks": ""
            },
            "colorscale": [
             [
              0,
              "#0d0887"
             ],
             [
              0.1111111111111111,
              "#46039f"
             ],
             [
              0.2222222222222222,
              "#7201a8"
             ],
             [
              0.3333333333333333,
              "#9c179e"
             ],
             [
              0.4444444444444444,
              "#bd3786"
             ],
             [
              0.5555555555555556,
              "#d8576b"
             ],
             [
              0.6666666666666666,
              "#ed7953"
             ],
             [
              0.7777777777777778,
              "#fb9f3a"
             ],
             [
              0.8888888888888888,
              "#fdca26"
             ],
             [
              1,
              "#f0f921"
             ]
            ],
            "type": "surface"
           }
          ],
          "table": [
           {
            "cells": {
             "fill": {
              "color": "#EBF0F8"
             },
             "line": {
              "color": "white"
             }
            },
            "header": {
             "fill": {
              "color": "#C8D4E3"
             },
             "line": {
              "color": "white"
             }
            },
            "type": "table"
           }
          ]
         },
         "layout": {
          "annotationdefaults": {
           "arrowcolor": "#2a3f5f",
           "arrowhead": 0,
           "arrowwidth": 1
          },
          "autotypenumbers": "strict",
          "coloraxis": {
           "colorbar": {
            "outlinewidth": 0,
            "ticks": ""
           }
          },
          "colorscale": {
           "diverging": [
            [
             0,
             "#8e0152"
            ],
            [
             0.1,
             "#c51b7d"
            ],
            [
             0.2,
             "#de77ae"
            ],
            [
             0.3,
             "#f1b6da"
            ],
            [
             0.4,
             "#fde0ef"
            ],
            [
             0.5,
             "#f7f7f7"
            ],
            [
             0.6,
             "#e6f5d0"
            ],
            [
             0.7,
             "#b8e186"
            ],
            [
             0.8,
             "#7fbc41"
            ],
            [
             0.9,
             "#4d9221"
            ],
            [
             1,
             "#276419"
            ]
           ],
           "sequential": [
            [
             0,
             "#0d0887"
            ],
            [
             0.1111111111111111,
             "#46039f"
            ],
            [
             0.2222222222222222,
             "#7201a8"
            ],
            [
             0.3333333333333333,
             "#9c179e"
            ],
            [
             0.4444444444444444,
             "#bd3786"
            ],
            [
             0.5555555555555556,
             "#d8576b"
            ],
            [
             0.6666666666666666,
             "#ed7953"
            ],
            [
             0.7777777777777778,
             "#fb9f3a"
            ],
            [
             0.8888888888888888,
             "#fdca26"
            ],
            [
             1,
             "#f0f921"
            ]
           ],
           "sequentialminus": [
            [
             0,
             "#0d0887"
            ],
            [
             0.1111111111111111,
             "#46039f"
            ],
            [
             0.2222222222222222,
             "#7201a8"
            ],
            [
             0.3333333333333333,
             "#9c179e"
            ],
            [
             0.4444444444444444,
             "#bd3786"
            ],
            [
             0.5555555555555556,
             "#d8576b"
            ],
            [
             0.6666666666666666,
             "#ed7953"
            ],
            [
             0.7777777777777778,
             "#fb9f3a"
            ],
            [
             0.8888888888888888,
             "#fdca26"
            ],
            [
             1,
             "#f0f921"
            ]
           ]
          },
          "colorway": [
           "#636efa",
           "#EF553B",
           "#00cc96",
           "#ab63fa",
           "#FFA15A",
           "#19d3f3",
           "#FF6692",
           "#B6E880",
           "#FF97FF",
           "#FECB52"
          ],
          "font": {
           "color": "#2a3f5f"
          },
          "geo": {
           "bgcolor": "white",
           "lakecolor": "white",
           "landcolor": "#E5ECF6",
           "showlakes": true,
           "showland": true,
           "subunitcolor": "white"
          },
          "hoverlabel": {
           "align": "left"
          },
          "hovermode": "closest",
          "mapbox": {
           "style": "light"
          },
          "paper_bgcolor": "white",
          "plot_bgcolor": "#E5ECF6",
          "polar": {
           "angularaxis": {
            "gridcolor": "white",
            "linecolor": "white",
            "ticks": ""
           },
           "bgcolor": "#E5ECF6",
           "radialaxis": {
            "gridcolor": "white",
            "linecolor": "white",
            "ticks": ""
           }
          },
          "scene": {
           "xaxis": {
            "backgroundcolor": "#E5ECF6",
            "gridcolor": "white",
            "gridwidth": 2,
            "linecolor": "white",
            "showbackground": true,
            "ticks": "",
            "zerolinecolor": "white"
           },
           "yaxis": {
            "backgroundcolor": "#E5ECF6",
            "gridcolor": "white",
            "gridwidth": 2,
            "linecolor": "white",
            "showbackground": true,
            "ticks": "",
            "zerolinecolor": "white"
           },
           "zaxis": {
            "backgroundcolor": "#E5ECF6",
            "gridcolor": "white",
            "gridwidth": 2,
            "linecolor": "white",
            "showbackground": true,
            "ticks": "",
            "zerolinecolor": "white"
           }
          },
          "shapedefaults": {
           "line": {
            "color": "#2a3f5f"
           }
          },
          "ternary": {
           "aaxis": {
            "gridcolor": "white",
            "linecolor": "white",
            "ticks": ""
           },
           "baxis": {
            "gridcolor": "white",
            "linecolor": "white",
            "ticks": ""
           },
           "bgcolor": "#E5ECF6",
           "caxis": {
            "gridcolor": "white",
            "linecolor": "white",
            "ticks": ""
           }
          },
          "title": {
           "x": 0.05
          },
          "xaxis": {
           "automargin": true,
           "gridcolor": "white",
           "linecolor": "white",
           "ticks": "",
           "title": {
            "standoff": 15
           },
           "zerolinecolor": "white",
           "zerolinewidth": 2
          },
          "yaxis": {
           "automargin": true,
           "gridcolor": "white",
           "linecolor": "white",
           "ticks": "",
           "title": {
            "standoff": 15
           },
           "zerolinecolor": "white",
           "zerolinewidth": 2
          }
         }
        },
        "title": {
         "text": "Real vs. Synthetic Data for column 'has_rewards'"
        },
        "xaxis": {
         "anchor": "y",
         "domain": [
          0,
          1
         ],
         "title": {
          "text": "Category"
         }
        },
        "yaxis": {
         "anchor": "x",
         "domain": [
          0,
          1
         ],
         "title": {
          "text": "Frequency"
         }
        }
       }
      }
     },
     "metadata": {},
     "output_type": "display_data"
    },
    {
     "data": {
      "application/vnd.plotly.v1+json": {
       "config": {
        "plotlyServerURL": "https://plot.ly"
       },
       "data": [
        {
         "alignmentgroup": "True",
         "bingroup": "x",
         "histnorm": "probability density",
         "hovertemplate": "<b>Real</b><br>Frequency: %{y}<extra></extra>",
         "legendgroup": "Real",
         "marker": {
          "color": "#000036",
          "pattern": {
           "shape": ""
          }
         },
         "name": "Real",
         "offsetgroup": "Real",
         "orientation": "v",
         "showlegend": true,
         "type": "histogram",
         "x": [
          "BASIC",
          "BASIC",
          "DELUXE",
          "BASIC",
          "BASIC",
          "BASIC",
          "BASIC",
          "BASIC",
          "BASIC",
          "BASIC",
          "BASIC",
          "BASIC",
          "BASIC",
          "BASIC",
          "BASIC",
          "BASIC",
          "DELUXE",
          "BASIC",
          "DELUXE",
          "BASIC",
          "BASIC",
          "BASIC",
          "BASIC",
          "BASIC",
          "BASIC",
          "BASIC",
          "BASIC",
          "BASIC",
          "BASIC",
          "BASIC",
          "DELUXE",
          "BASIC",
          "BASIC",
          "BASIC",
          "BASIC",
          "BASIC",
          "BASIC",
          "BASIC",
          "BASIC",
          "BASIC",
          "SUITE",
          "BASIC",
          "DELUXE",
          "BASIC",
          "BASIC",
          "BASIC",
          "BASIC",
          "BASIC",
          "BASIC",
          "SUITE",
          "DELUXE",
          "BASIC",
          "BASIC",
          "DELUXE",
          "BASIC",
          "BASIC",
          "BASIC",
          "BASIC",
          "SUITE",
          "SUITE",
          "DELUXE",
          "BASIC",
          "BASIC",
          "BASIC",
          "BASIC",
          "BASIC",
          "BASIC",
          "BASIC",
          "SUITE",
          "BASIC",
          "BASIC",
          "BASIC",
          "BASIC",
          "BASIC",
          "DELUXE",
          "BASIC",
          "BASIC",
          "BASIC",
          "BASIC",
          "BASIC",
          "BASIC",
          "BASIC",
          "BASIC",
          "BASIC",
          "BASIC",
          "BASIC",
          "BASIC",
          "BASIC",
          "SUITE",
          "BASIC",
          "BASIC",
          "BASIC",
          "BASIC",
          "BASIC",
          "BASIC",
          "BASIC",
          "BASIC",
          "BASIC",
          "BASIC",
          "DELUXE",
          "BASIC",
          "BASIC",
          "DELUXE",
          "BASIC",
          "BASIC",
          "BASIC",
          "BASIC",
          "DELUXE",
          "BASIC",
          "BASIC",
          "BASIC",
          "DELUXE",
          "BASIC",
          "BASIC",
          "DELUXE",
          "DELUXE",
          "BASIC",
          "BASIC",
          "BASIC",
          "BASIC",
          "DELUXE",
          "DELUXE",
          "BASIC",
          "BASIC",
          "BASIC",
          "BASIC",
          "BASIC",
          "BASIC",
          "BASIC",
          "BASIC",
          "BASIC",
          "BASIC",
          "BASIC",
          "BASIC",
          "BASIC",
          "BASIC",
          "DELUXE",
          "SUITE",
          "BASIC",
          "BASIC",
          "BASIC",
          "BASIC",
          "SUITE",
          "BASIC",
          "SUITE",
          "BASIC",
          "BASIC",
          "BASIC",
          "BASIC",
          "SUITE",
          "BASIC",
          "BASIC",
          "BASIC",
          "BASIC",
          "BASIC",
          "BASIC",
          "BASIC",
          "BASIC",
          "BASIC",
          "BASIC",
          "DELUXE",
          "BASIC",
          "BASIC",
          "BASIC",
          "BASIC",
          "SUITE",
          "DELUXE",
          "BASIC",
          "BASIC",
          "BASIC",
          "BASIC",
          "BASIC",
          "BASIC",
          "BASIC",
          "BASIC",
          "BASIC",
          "BASIC",
          "BASIC",
          "DELUXE",
          "SUITE",
          "BASIC",
          "BASIC",
          "BASIC",
          "SUITE",
          "BASIC",
          "DELUXE",
          "BASIC",
          "BASIC",
          "BASIC",
          "BASIC",
          "DELUXE",
          "BASIC",
          "BASIC",
          "BASIC",
          "BASIC",
          "BASIC",
          "SUITE",
          "BASIC",
          "DELUXE",
          "BASIC",
          "BASIC",
          "BASIC",
          "BASIC",
          "BASIC",
          "BASIC",
          "BASIC",
          "DELUXE",
          "BASIC",
          "DELUXE",
          "DELUXE",
          "DELUXE",
          "DELUXE",
          "BASIC",
          "BASIC",
          "BASIC",
          "DELUXE",
          "SUITE",
          "BASIC",
          "BASIC",
          "SUITE",
          "DELUXE",
          "BASIC",
          "BASIC",
          "DELUXE",
          "BASIC",
          "BASIC",
          "BASIC",
          "BASIC",
          "DELUXE",
          "BASIC",
          "BASIC",
          "BASIC",
          "BASIC",
          "BASIC",
          "BASIC",
          "BASIC",
          "SUITE",
          "BASIC",
          "BASIC",
          "DELUXE",
          "BASIC",
          "BASIC",
          "BASIC",
          "BASIC",
          "BASIC",
          "BASIC",
          "SUITE",
          "BASIC",
          "BASIC",
          "BASIC",
          "BASIC",
          "DELUXE",
          "BASIC",
          "BASIC",
          "BASIC",
          "BASIC",
          "BASIC",
          "BASIC",
          "BASIC",
          "BASIC",
          "BASIC",
          "BASIC",
          "BASIC",
          "BASIC",
          "BASIC",
          "BASIC",
          "DELUXE",
          "SUITE",
          "BASIC",
          "BASIC",
          "BASIC",
          "BASIC",
          "BASIC",
          "BASIC",
          "BASIC",
          "DELUXE",
          "BASIC",
          "SUITE",
          "SUITE",
          "DELUXE",
          "BASIC",
          "BASIC",
          "DELUXE",
          "SUITE",
          "DELUXE",
          "BASIC",
          "BASIC",
          "BASIC",
          "BASIC",
          "BASIC",
          "DELUXE",
          "DELUXE",
          "BASIC",
          "BASIC",
          "BASIC",
          "BASIC",
          "BASIC",
          "DELUXE",
          "BASIC",
          "DELUXE",
          "BASIC",
          "BASIC",
          "BASIC",
          "BASIC",
          "DELUXE",
          "BASIC",
          "BASIC",
          "BASIC",
          "BASIC",
          "DELUXE",
          "DELUXE",
          "BASIC",
          "SUITE",
          "BASIC",
          "BASIC",
          "BASIC",
          "BASIC",
          "SUITE",
          "BASIC",
          "BASIC",
          "BASIC",
          "BASIC",
          "DELUXE",
          "BASIC",
          "BASIC",
          "BASIC",
          "BASIC",
          "BASIC",
          "BASIC",
          "BASIC",
          "BASIC",
          "BASIC",
          "BASIC",
          "BASIC",
          "BASIC",
          "SUITE",
          "BASIC",
          "BASIC",
          "BASIC",
          "BASIC",
          "BASIC",
          "BASIC",
          "BASIC",
          "BASIC",
          "DELUXE",
          "BASIC",
          "BASIC",
          "DELUXE",
          "BASIC",
          "DELUXE",
          "BASIC",
          "BASIC",
          "DELUXE",
          "DELUXE",
          "DELUXE",
          "SUITE",
          "BASIC",
          "BASIC",
          "DELUXE",
          "BASIC",
          "BASIC",
          "BASIC",
          "BASIC",
          "BASIC",
          "BASIC",
          "BASIC",
          "BASIC",
          "BASIC",
          "BASIC",
          "BASIC",
          "BASIC",
          "BASIC",
          "DELUXE",
          "DELUXE",
          "BASIC",
          "BASIC",
          "BASIC",
          "BASIC",
          "BASIC",
          "DELUXE",
          "BASIC",
          "BASIC",
          "BASIC",
          "SUITE",
          "BASIC",
          "BASIC",
          "BASIC",
          "BASIC",
          "BASIC",
          "DELUXE",
          "BASIC",
          "BASIC",
          "BASIC",
          "BASIC",
          "BASIC",
          "BASIC",
          "DELUXE",
          "BASIC",
          "BASIC",
          "BASIC",
          "BASIC",
          "BASIC",
          "DELUXE",
          "BASIC",
          "BASIC",
          "BASIC",
          "BASIC",
          "DELUXE",
          "DELUXE",
          "DELUXE",
          "BASIC",
          "BASIC",
          "BASIC",
          "BASIC",
          "BASIC",
          "BASIC",
          "BASIC",
          "DELUXE",
          "BASIC",
          "DELUXE",
          "BASIC",
          "SUITE",
          "DELUXE",
          "SUITE",
          "BASIC",
          "BASIC",
          "SUITE",
          "DELUXE",
          "BASIC",
          "SUITE",
          "BASIC",
          "BASIC",
          "BASIC",
          "DELUXE",
          "BASIC",
          "BASIC",
          "SUITE",
          "DELUXE",
          "BASIC",
          "BASIC",
          "BASIC",
          "SUITE",
          "BASIC",
          "DELUXE",
          "BASIC",
          "BASIC",
          "BASIC",
          "BASIC",
          "BASIC",
          "BASIC",
          "BASIC",
          "BASIC",
          "BASIC",
          "SUITE",
          "BASIC",
          "BASIC",
          "BASIC",
          "BASIC",
          "BASIC",
          "DELUXE",
          "BASIC",
          "DELUXE",
          "BASIC",
          "DELUXE",
          "BASIC",
          "DELUXE",
          "SUITE",
          "BASIC",
          "BASIC",
          "BASIC",
          "BASIC",
          "BASIC",
          "BASIC",
          "DELUXE",
          "BASIC",
          "SUITE",
          "BASIC",
          "BASIC",
          "SUITE",
          "SUITE",
          "BASIC",
          "BASIC",
          "BASIC",
          "BASIC",
          "BASIC",
          "BASIC",
          "BASIC",
          "DELUXE",
          "BASIC",
          "BASIC",
          "BASIC",
          "BASIC",
          "DELUXE",
          "BASIC",
          "BASIC",
          "BASIC",
          "BASIC",
          "BASIC",
          "BASIC",
          "BASIC"
         ],
         "xaxis": "x",
         "yaxis": "y"
        },
        {
         "alignmentgroup": "True",
         "bingroup": "x",
         "histnorm": "probability density",
         "hovertemplate": "<b>Synthetic</b><br>Frequency: %{y}<extra></extra>",
         "legendgroup": "Synthetic",
         "marker": {
          "color": "#01E0C9",
          "pattern": {
           "shape": "/"
          }
         },
         "name": "Synthetic",
         "offsetgroup": "Synthetic",
         "orientation": "v",
         "showlegend": true,
         "type": "histogram",
         "x": [
          "BASIC",
          "DELUXE",
          "DELUXE",
          "BASIC",
          "SUITE",
          "BASIC",
          "BASIC",
          "DELUXE",
          "BASIC",
          "BASIC",
          "BASIC",
          "BASIC",
          "BASIC",
          "BASIC",
          "BASIC",
          "BASIC",
          "BASIC",
          "BASIC",
          "SUITE",
          "DELUXE",
          "BASIC",
          "DELUXE",
          "DELUXE",
          "BASIC",
          "BASIC",
          "BASIC",
          "DELUXE",
          "BASIC",
          "BASIC",
          "BASIC",
          "BASIC",
          "BASIC",
          "BASIC",
          "BASIC",
          "BASIC",
          "BASIC",
          "BASIC",
          "BASIC",
          "BASIC",
          "BASIC",
          "DELUXE",
          "BASIC",
          "DELUXE",
          "BASIC",
          "DELUXE",
          "BASIC",
          "BASIC",
          "BASIC",
          "BASIC",
          "BASIC",
          "DELUXE",
          "BASIC",
          "BASIC",
          "DELUXE",
          "BASIC",
          "DELUXE",
          "DELUXE",
          "DELUXE",
          "BASIC",
          "DELUXE",
          "BASIC",
          "DELUXE",
          "BASIC",
          "BASIC",
          "BASIC",
          "BASIC",
          "BASIC",
          "BASIC",
          "DELUXE",
          "BASIC",
          "BASIC",
          "BASIC",
          "BASIC",
          "DELUXE",
          "BASIC",
          "BASIC",
          "BASIC",
          "BASIC",
          "BASIC",
          "DELUXE",
          "BASIC",
          "BASIC",
          "BASIC",
          "BASIC",
          "BASIC",
          "BASIC",
          "BASIC",
          "BASIC",
          "BASIC",
          "BASIC",
          "BASIC",
          "BASIC",
          "BASIC",
          "BASIC",
          "BASIC",
          "BASIC",
          "DELUXE",
          "BASIC",
          "BASIC",
          "BASIC",
          "DELUXE",
          "BASIC",
          "DELUXE",
          "BASIC",
          "DELUXE",
          "BASIC",
          "BASIC",
          "BASIC",
          "DELUXE",
          "DELUXE",
          "BASIC",
          "DELUXE",
          "DELUXE",
          "DELUXE",
          "BASIC",
          "BASIC",
          "DELUXE",
          "BASIC",
          "DELUXE",
          "BASIC",
          "BASIC",
          "DELUXE",
          "BASIC",
          "SUITE",
          "BASIC",
          "BASIC",
          "BASIC",
          "BASIC",
          "BASIC",
          "BASIC",
          "BASIC",
          "DELUXE",
          "BASIC",
          "DELUXE",
          "BASIC",
          "BASIC",
          "BASIC",
          "BASIC",
          "BASIC",
          "BASIC",
          "BASIC",
          "BASIC",
          "BASIC",
          "DELUXE",
          "BASIC",
          "BASIC",
          "BASIC",
          "DELUXE",
          "BASIC",
          "BASIC",
          "BASIC",
          "BASIC",
          "BASIC",
          "BASIC",
          "DELUXE",
          "DELUXE",
          "DELUXE",
          "BASIC",
          "BASIC",
          "DELUXE",
          "DELUXE",
          "DELUXE",
          "BASIC",
          "BASIC",
          "DELUXE",
          "BASIC",
          "BASIC",
          "BASIC",
          "BASIC",
          "BASIC",
          "BASIC",
          "BASIC",
          "DELUXE",
          "BASIC",
          "BASIC",
          "BASIC",
          "DELUXE",
          "BASIC",
          "BASIC",
          "DELUXE",
          "BASIC",
          "BASIC",
          "DELUXE",
          "SUITE",
          "BASIC",
          "BASIC",
          "BASIC",
          "BASIC",
          "BASIC",
          "DELUXE",
          "BASIC",
          "DELUXE",
          "BASIC",
          "DELUXE",
          "BASIC",
          "BASIC",
          "BASIC",
          "BASIC",
          "BASIC",
          "BASIC",
          "BASIC",
          "BASIC",
          "BASIC",
          "BASIC",
          "BASIC",
          "BASIC",
          "BASIC",
          "BASIC",
          "BASIC",
          "BASIC",
          "BASIC",
          "BASIC",
          "BASIC",
          "BASIC",
          "BASIC",
          "DELUXE",
          "DELUXE",
          "BASIC",
          "BASIC",
          "BASIC",
          "DELUXE",
          "SUITE",
          "BASIC",
          "BASIC",
          "BASIC",
          "BASIC",
          "BASIC",
          "BASIC",
          "DELUXE",
          "SUITE",
          "BASIC",
          "BASIC",
          "BASIC",
          "BASIC",
          "DELUXE",
          "BASIC",
          "BASIC",
          "BASIC",
          "BASIC",
          "BASIC",
          "DELUXE",
          "DELUXE",
          "BASIC",
          "BASIC",
          "BASIC",
          "SUITE",
          "BASIC",
          "BASIC",
          "BASIC",
          "SUITE",
          "DELUXE",
          "BASIC",
          "BASIC",
          "BASIC",
          "BASIC",
          "BASIC",
          "BASIC",
          "BASIC",
          "BASIC",
          "BASIC",
          "BASIC",
          "BASIC",
          "DELUXE",
          "DELUXE",
          "DELUXE",
          "DELUXE",
          "BASIC",
          "BASIC",
          "DELUXE",
          "BASIC",
          "BASIC",
          "BASIC",
          "BASIC",
          "BASIC",
          "BASIC",
          "BASIC",
          "BASIC",
          "BASIC",
          "BASIC",
          "BASIC",
          "BASIC",
          "BASIC",
          "BASIC",
          "DELUXE",
          "BASIC",
          "DELUXE",
          "BASIC",
          "DELUXE",
          "BASIC",
          "DELUXE",
          "BASIC",
          "BASIC",
          "BASIC",
          "DELUXE",
          "BASIC",
          "BASIC",
          "BASIC",
          "BASIC",
          "BASIC",
          "BASIC",
          "BASIC",
          "DELUXE",
          "BASIC",
          "BASIC",
          "BASIC",
          "BASIC",
          "BASIC",
          "BASIC",
          "BASIC",
          "BASIC",
          "BASIC",
          "BASIC",
          "DELUXE",
          "BASIC",
          "BASIC",
          "DELUXE",
          "BASIC",
          "BASIC",
          "BASIC",
          "DELUXE",
          "BASIC",
          "DELUXE",
          "DELUXE",
          "DELUXE",
          "BASIC",
          "SUITE",
          "BASIC",
          "BASIC",
          "BASIC",
          "DELUXE",
          "DELUXE",
          "BASIC",
          "BASIC",
          "DELUXE",
          "BASIC",
          "DELUXE",
          "BASIC",
          "BASIC",
          "BASIC",
          "DELUXE",
          "BASIC",
          "BASIC",
          "BASIC",
          "BASIC",
          "BASIC",
          "BASIC",
          "BASIC",
          "BASIC",
          "DELUXE",
          "DELUXE",
          "DELUXE",
          "BASIC",
          "BASIC",
          "BASIC",
          "BASIC",
          "BASIC",
          "DELUXE",
          "BASIC",
          "BASIC",
          "SUITE",
          "DELUXE",
          "BASIC",
          "BASIC",
          "BASIC",
          "DELUXE",
          "BASIC",
          "BASIC",
          "BASIC",
          "BASIC",
          "BASIC",
          "BASIC",
          "DELUXE",
          "BASIC",
          "DELUXE",
          "BASIC",
          "BASIC",
          "DELUXE",
          "BASIC",
          "BASIC",
          "BASIC",
          "BASIC",
          "BASIC",
          "BASIC",
          "DELUXE",
          "BASIC",
          "BASIC",
          "BASIC",
          "BASIC",
          "BASIC",
          "BASIC",
          "DELUXE",
          "BASIC",
          "BASIC",
          "BASIC",
          "DELUXE",
          "BASIC",
          "DELUXE",
          "BASIC",
          "BASIC",
          "BASIC",
          "DELUXE",
          "DELUXE",
          "BASIC",
          "BASIC",
          "BASIC",
          "DELUXE",
          "BASIC",
          "BASIC",
          "BASIC",
          "BASIC",
          "BASIC",
          "BASIC",
          "BASIC",
          "BASIC",
          "DELUXE",
          "BASIC",
          "BASIC",
          "DELUXE",
          "BASIC",
          "BASIC",
          "BASIC",
          "DELUXE",
          "BASIC",
          "BASIC",
          "BASIC",
          "BASIC",
          "DELUXE",
          "BASIC",
          "DELUXE",
          "BASIC",
          "BASIC",
          "BASIC",
          "SUITE",
          "DELUXE",
          "DELUXE",
          "BASIC",
          "BASIC",
          "BASIC",
          "BASIC",
          "SUITE",
          "BASIC",
          "DELUXE",
          "BASIC",
          "DELUXE",
          "BASIC",
          "BASIC",
          "BASIC",
          "BASIC",
          "BASIC",
          "BASIC",
          "BASIC",
          "DELUXE",
          "DELUXE",
          "BASIC",
          "BASIC",
          "SUITE",
          "BASIC",
          "BASIC",
          "DELUXE",
          "BASIC",
          "BASIC",
          "BASIC",
          "DELUXE",
          "SUITE",
          "BASIC",
          "SUITE",
          "BASIC",
          "BASIC",
          "DELUXE",
          "DELUXE",
          "BASIC",
          "DELUXE",
          "BASIC",
          "BASIC",
          "BASIC",
          "BASIC",
          "BASIC",
          "SUITE",
          "DELUXE",
          "BASIC",
          "BASIC",
          "BASIC",
          "BASIC",
          "BASIC",
          "DELUXE",
          "DELUXE",
          "BASIC",
          "DELUXE",
          "BASIC",
          "BASIC",
          "BASIC",
          "BASIC",
          "BASIC",
          "DELUXE",
          "DELUXE",
          "DELUXE",
          "DELUXE",
          "BASIC",
          "BASIC",
          "DELUXE"
         ],
         "xaxis": "x",
         "yaxis": "y"
        }
       ],
       "layout": {
        "barmode": "group",
        "legend": {
         "title": {
          "text": "Data"
         },
         "tracegroupgap": 0
        },
        "margin": {
         "t": 60
        },
        "plot_bgcolor": "#F5F5F8",
        "template": {
         "data": {
          "bar": [
           {
            "error_x": {
             "color": "#2a3f5f"
            },
            "error_y": {
             "color": "#2a3f5f"
            },
            "marker": {
             "line": {
              "color": "#E5ECF6",
              "width": 0.5
             },
             "pattern": {
              "fillmode": "overlay",
              "size": 10,
              "solidity": 0.2
             }
            },
            "type": "bar"
           }
          ],
          "barpolar": [
           {
            "marker": {
             "line": {
              "color": "#E5ECF6",
              "width": 0.5
             },
             "pattern": {
              "fillmode": "overlay",
              "size": 10,
              "solidity": 0.2
             }
            },
            "type": "barpolar"
           }
          ],
          "carpet": [
           {
            "aaxis": {
             "endlinecolor": "#2a3f5f",
             "gridcolor": "white",
             "linecolor": "white",
             "minorgridcolor": "white",
             "startlinecolor": "#2a3f5f"
            },
            "baxis": {
             "endlinecolor": "#2a3f5f",
             "gridcolor": "white",
             "linecolor": "white",
             "minorgridcolor": "white",
             "startlinecolor": "#2a3f5f"
            },
            "type": "carpet"
           }
          ],
          "choropleth": [
           {
            "colorbar": {
             "outlinewidth": 0,
             "ticks": ""
            },
            "type": "choropleth"
           }
          ],
          "contour": [
           {
            "colorbar": {
             "outlinewidth": 0,
             "ticks": ""
            },
            "colorscale": [
             [
              0,
              "#0d0887"
             ],
             [
              0.1111111111111111,
              "#46039f"
             ],
             [
              0.2222222222222222,
              "#7201a8"
             ],
             [
              0.3333333333333333,
              "#9c179e"
             ],
             [
              0.4444444444444444,
              "#bd3786"
             ],
             [
              0.5555555555555556,
              "#d8576b"
             ],
             [
              0.6666666666666666,
              "#ed7953"
             ],
             [
              0.7777777777777778,
              "#fb9f3a"
             ],
             [
              0.8888888888888888,
              "#fdca26"
             ],
             [
              1,
              "#f0f921"
             ]
            ],
            "type": "contour"
           }
          ],
          "contourcarpet": [
           {
            "colorbar": {
             "outlinewidth": 0,
             "ticks": ""
            },
            "type": "contourcarpet"
           }
          ],
          "heatmap": [
           {
            "colorbar": {
             "outlinewidth": 0,
             "ticks": ""
            },
            "colorscale": [
             [
              0,
              "#0d0887"
             ],
             [
              0.1111111111111111,
              "#46039f"
             ],
             [
              0.2222222222222222,
              "#7201a8"
             ],
             [
              0.3333333333333333,
              "#9c179e"
             ],
             [
              0.4444444444444444,
              "#bd3786"
             ],
             [
              0.5555555555555556,
              "#d8576b"
             ],
             [
              0.6666666666666666,
              "#ed7953"
             ],
             [
              0.7777777777777778,
              "#fb9f3a"
             ],
             [
              0.8888888888888888,
              "#fdca26"
             ],
             [
              1,
              "#f0f921"
             ]
            ],
            "type": "heatmap"
           }
          ],
          "heatmapgl": [
           {
            "colorbar": {
             "outlinewidth": 0,
             "ticks": ""
            },
            "colorscale": [
             [
              0,
              "#0d0887"
             ],
             [
              0.1111111111111111,
              "#46039f"
             ],
             [
              0.2222222222222222,
              "#7201a8"
             ],
             [
              0.3333333333333333,
              "#9c179e"
             ],
             [
              0.4444444444444444,
              "#bd3786"
             ],
             [
              0.5555555555555556,
              "#d8576b"
             ],
             [
              0.6666666666666666,
              "#ed7953"
             ],
             [
              0.7777777777777778,
              "#fb9f3a"
             ],
             [
              0.8888888888888888,
              "#fdca26"
             ],
             [
              1,
              "#f0f921"
             ]
            ],
            "type": "heatmapgl"
           }
          ],
          "histogram": [
           {
            "marker": {
             "pattern": {
              "fillmode": "overlay",
              "size": 10,
              "solidity": 0.2
             }
            },
            "type": "histogram"
           }
          ],
          "histogram2d": [
           {
            "colorbar": {
             "outlinewidth": 0,
             "ticks": ""
            },
            "colorscale": [
             [
              0,
              "#0d0887"
             ],
             [
              0.1111111111111111,
              "#46039f"
             ],
             [
              0.2222222222222222,
              "#7201a8"
             ],
             [
              0.3333333333333333,
              "#9c179e"
             ],
             [
              0.4444444444444444,
              "#bd3786"
             ],
             [
              0.5555555555555556,
              "#d8576b"
             ],
             [
              0.6666666666666666,
              "#ed7953"
             ],
             [
              0.7777777777777778,
              "#fb9f3a"
             ],
             [
              0.8888888888888888,
              "#fdca26"
             ],
             [
              1,
              "#f0f921"
             ]
            ],
            "type": "histogram2d"
           }
          ],
          "histogram2dcontour": [
           {
            "colorbar": {
             "outlinewidth": 0,
             "ticks": ""
            },
            "colorscale": [
             [
              0,
              "#0d0887"
             ],
             [
              0.1111111111111111,
              "#46039f"
             ],
             [
              0.2222222222222222,
              "#7201a8"
             ],
             [
              0.3333333333333333,
              "#9c179e"
             ],
             [
              0.4444444444444444,
              "#bd3786"
             ],
             [
              0.5555555555555556,
              "#d8576b"
             ],
             [
              0.6666666666666666,
              "#ed7953"
             ],
             [
              0.7777777777777778,
              "#fb9f3a"
             ],
             [
              0.8888888888888888,
              "#fdca26"
             ],
             [
              1,
              "#f0f921"
             ]
            ],
            "type": "histogram2dcontour"
           }
          ],
          "mesh3d": [
           {
            "colorbar": {
             "outlinewidth": 0,
             "ticks": ""
            },
            "type": "mesh3d"
           }
          ],
          "parcoords": [
           {
            "line": {
             "colorbar": {
              "outlinewidth": 0,
              "ticks": ""
             }
            },
            "type": "parcoords"
           }
          ],
          "pie": [
           {
            "automargin": true,
            "type": "pie"
           }
          ],
          "scatter": [
           {
            "fillpattern": {
             "fillmode": "overlay",
             "size": 10,
             "solidity": 0.2
            },
            "type": "scatter"
           }
          ],
          "scatter3d": [
           {
            "line": {
             "colorbar": {
              "outlinewidth": 0,
              "ticks": ""
             }
            },
            "marker": {
             "colorbar": {
              "outlinewidth": 0,
              "ticks": ""
             }
            },
            "type": "scatter3d"
           }
          ],
          "scattercarpet": [
           {
            "marker": {
             "colorbar": {
              "outlinewidth": 0,
              "ticks": ""
             }
            },
            "type": "scattercarpet"
           }
          ],
          "scattergeo": [
           {
            "marker": {
             "colorbar": {
              "outlinewidth": 0,
              "ticks": ""
             }
            },
            "type": "scattergeo"
           }
          ],
          "scattergl": [
           {
            "marker": {
             "colorbar": {
              "outlinewidth": 0,
              "ticks": ""
             }
            },
            "type": "scattergl"
           }
          ],
          "scattermapbox": [
           {
            "marker": {
             "colorbar": {
              "outlinewidth": 0,
              "ticks": ""
             }
            },
            "type": "scattermapbox"
           }
          ],
          "scatterpolar": [
           {
            "marker": {
             "colorbar": {
              "outlinewidth": 0,
              "ticks": ""
             }
            },
            "type": "scatterpolar"
           }
          ],
          "scatterpolargl": [
           {
            "marker": {
             "colorbar": {
              "outlinewidth": 0,
              "ticks": ""
             }
            },
            "type": "scatterpolargl"
           }
          ],
          "scatterternary": [
           {
            "marker": {
             "colorbar": {
              "outlinewidth": 0,
              "ticks": ""
             }
            },
            "type": "scatterternary"
           }
          ],
          "surface": [
           {
            "colorbar": {
             "outlinewidth": 0,
             "ticks": ""
            },
            "colorscale": [
             [
              0,
              "#0d0887"
             ],
             [
              0.1111111111111111,
              "#46039f"
             ],
             [
              0.2222222222222222,
              "#7201a8"
             ],
             [
              0.3333333333333333,
              "#9c179e"
             ],
             [
              0.4444444444444444,
              "#bd3786"
             ],
             [
              0.5555555555555556,
              "#d8576b"
             ],
             [
              0.6666666666666666,
              "#ed7953"
             ],
             [
              0.7777777777777778,
              "#fb9f3a"
             ],
             [
              0.8888888888888888,
              "#fdca26"
             ],
             [
              1,
              "#f0f921"
             ]
            ],
            "type": "surface"
           }
          ],
          "table": [
           {
            "cells": {
             "fill": {
              "color": "#EBF0F8"
             },
             "line": {
              "color": "white"
             }
            },
            "header": {
             "fill": {
              "color": "#C8D4E3"
             },
             "line": {
              "color": "white"
             }
            },
            "type": "table"
           }
          ]
         },
         "layout": {
          "annotationdefaults": {
           "arrowcolor": "#2a3f5f",
           "arrowhead": 0,
           "arrowwidth": 1
          },
          "autotypenumbers": "strict",
          "coloraxis": {
           "colorbar": {
            "outlinewidth": 0,
            "ticks": ""
           }
          },
          "colorscale": {
           "diverging": [
            [
             0,
             "#8e0152"
            ],
            [
             0.1,
             "#c51b7d"
            ],
            [
             0.2,
             "#de77ae"
            ],
            [
             0.3,
             "#f1b6da"
            ],
            [
             0.4,
             "#fde0ef"
            ],
            [
             0.5,
             "#f7f7f7"
            ],
            [
             0.6,
             "#e6f5d0"
            ],
            [
             0.7,
             "#b8e186"
            ],
            [
             0.8,
             "#7fbc41"
            ],
            [
             0.9,
             "#4d9221"
            ],
            [
             1,
             "#276419"
            ]
           ],
           "sequential": [
            [
             0,
             "#0d0887"
            ],
            [
             0.1111111111111111,
             "#46039f"
            ],
            [
             0.2222222222222222,
             "#7201a8"
            ],
            [
             0.3333333333333333,
             "#9c179e"
            ],
            [
             0.4444444444444444,
             "#bd3786"
            ],
            [
             0.5555555555555556,
             "#d8576b"
            ],
            [
             0.6666666666666666,
             "#ed7953"
            ],
            [
             0.7777777777777778,
             "#fb9f3a"
            ],
            [
             0.8888888888888888,
             "#fdca26"
            ],
            [
             1,
             "#f0f921"
            ]
           ],
           "sequentialminus": [
            [
             0,
             "#0d0887"
            ],
            [
             0.1111111111111111,
             "#46039f"
            ],
            [
             0.2222222222222222,
             "#7201a8"
            ],
            [
             0.3333333333333333,
             "#9c179e"
            ],
            [
             0.4444444444444444,
             "#bd3786"
            ],
            [
             0.5555555555555556,
             "#d8576b"
            ],
            [
             0.6666666666666666,
             "#ed7953"
            ],
            [
             0.7777777777777778,
             "#fb9f3a"
            ],
            [
             0.8888888888888888,
             "#fdca26"
            ],
            [
             1,
             "#f0f921"
            ]
           ]
          },
          "colorway": [
           "#636efa",
           "#EF553B",
           "#00cc96",
           "#ab63fa",
           "#FFA15A",
           "#19d3f3",
           "#FF6692",
           "#B6E880",
           "#FF97FF",
           "#FECB52"
          ],
          "font": {
           "color": "#2a3f5f"
          },
          "geo": {
           "bgcolor": "white",
           "lakecolor": "white",
           "landcolor": "#E5ECF6",
           "showlakes": true,
           "showland": true,
           "subunitcolor": "white"
          },
          "hoverlabel": {
           "align": "left"
          },
          "hovermode": "closest",
          "mapbox": {
           "style": "light"
          },
          "paper_bgcolor": "white",
          "plot_bgcolor": "#E5ECF6",
          "polar": {
           "angularaxis": {
            "gridcolor": "white",
            "linecolor": "white",
            "ticks": ""
           },
           "bgcolor": "#E5ECF6",
           "radialaxis": {
            "gridcolor": "white",
            "linecolor": "white",
            "ticks": ""
           }
          },
          "scene": {
           "xaxis": {
            "backgroundcolor": "#E5ECF6",
            "gridcolor": "white",
            "gridwidth": 2,
            "linecolor": "white",
            "showbackground": true,
            "ticks": "",
            "zerolinecolor": "white"
           },
           "yaxis": {
            "backgroundcolor": "#E5ECF6",
            "gridcolor": "white",
            "gridwidth": 2,
            "linecolor": "white",
            "showbackground": true,
            "ticks": "",
            "zerolinecolor": "white"
           },
           "zaxis": {
            "backgroundcolor": "#E5ECF6",
            "gridcolor": "white",
            "gridwidth": 2,
            "linecolor": "white",
            "showbackground": true,
            "ticks": "",
            "zerolinecolor": "white"
           }
          },
          "shapedefaults": {
           "line": {
            "color": "#2a3f5f"
           }
          },
          "ternary": {
           "aaxis": {
            "gridcolor": "white",
            "linecolor": "white",
            "ticks": ""
           },
           "baxis": {
            "gridcolor": "white",
            "linecolor": "white",
            "ticks": ""
           },
           "bgcolor": "#E5ECF6",
           "caxis": {
            "gridcolor": "white",
            "linecolor": "white",
            "ticks": ""
           }
          },
          "title": {
           "x": 0.05
          },
          "xaxis": {
           "automargin": true,
           "gridcolor": "white",
           "linecolor": "white",
           "ticks": "",
           "title": {
            "standoff": 15
           },
           "zerolinecolor": "white",
           "zerolinewidth": 2
          },
          "yaxis": {
           "automargin": true,
           "gridcolor": "white",
           "linecolor": "white",
           "ticks": "",
           "title": {
            "standoff": 15
           },
           "zerolinecolor": "white",
           "zerolinewidth": 2
          }
         }
        },
        "title": {
         "text": "Real vs. Synthetic Data for column 'room_type'"
        },
        "xaxis": {
         "anchor": "y",
         "domain": [
          0,
          1
         ],
         "title": {
          "text": "Category"
         }
        },
        "yaxis": {
         "anchor": "x",
         "domain": [
          0,
          1
         ],
         "title": {
          "text": "Frequency"
         }
        }
       }
      }
     },
     "metadata": {},
     "output_type": "display_data"
    },
    {
     "data": {
      "application/vnd.plotly.v1+json": {
       "config": {
        "plotlyServerURL": "https://plot.ly"
       },
       "data": [
        {
         "fill": "tozeroy",
         "hovertemplate": "<b>Real</b><br>Value: %{x}<br>Frequency: %{y}<extra></extra>",
         "legendgroup": "Real",
         "marker": {
          "color": "#000036"
         },
         "mode": "lines",
         "name": "Real",
         "showlegend": true,
         "type": "scatter",
         "x": [
          0,
          0.09623999999999999,
          0.19247999999999998,
          0.28872,
          0.38495999999999997,
          0.48119999999999996,
          0.57744,
          0.67368,
          0.7699199999999999,
          0.8661599999999999,
          0.9623999999999999,
          1.0586399999999998,
          1.15488,
          1.2511199999999998,
          1.34736,
          1.4436,
          1.5398399999999999,
          1.63608,
          1.7323199999999999,
          1.82856,
          1.9247999999999998,
          2.02104,
          2.1172799999999996,
          2.21352,
          2.30976,
          2.406,
          2.5022399999999996,
          2.59848,
          2.69472,
          2.79096,
          2.8872,
          2.98344,
          3.0796799999999998,
          3.1759199999999996,
          3.27216,
          3.3684,
          3.4646399999999997,
          3.5608799999999996,
          3.65712,
          3.75336,
          3.8495999999999997,
          3.9458399999999996,
          4.04208,
          4.138319999999999,
          4.234559999999999,
          4.3308,
          4.42704,
          4.52328,
          4.61952,
          4.7157599999999995,
          4.812,
          4.90824,
          5.004479999999999,
          5.100719999999999,
          5.19696,
          5.2932,
          5.38944,
          5.4856799999999994,
          5.58192,
          5.67816,
          5.7744,
          5.87064,
          5.96688,
          6.06312,
          6.1593599999999995,
          6.255599999999999,
          6.351839999999999,
          6.44808,
          6.54432,
          6.64056,
          6.7368,
          6.83304,
          6.929279999999999,
          7.025519999999999,
          7.121759999999999,
          7.218,
          7.31424,
          7.41048,
          7.50672,
          7.60296,
          7.699199999999999,
          7.795439999999999,
          7.891679999999999,
          7.987919999999999,
          8.08416,
          8.180399999999999,
          8.276639999999999,
          8.372879999999999,
          8.469119999999998,
          8.565359999999998,
          8.6616,
          8.75784,
          8.85408,
          8.95032,
          9.04656,
          9.1428,
          9.23904,
          9.33528,
          9.431519999999999,
          9.52776,
          9.624,
          9.72024,
          9.81648,
          9.91272,
          10.008959999999998,
          10.105199999999998,
          10.201439999999998,
          10.29768,
          10.39392,
          10.49016,
          10.5864,
          10.68264,
          10.77888,
          10.875119999999999,
          10.971359999999999,
          11.067599999999999,
          11.16384,
          11.26008,
          11.35632,
          11.45256,
          11.5488,
          11.64504,
          11.74128,
          11.837519999999998,
          11.93376,
          12.03,
          12.12624,
          12.22248,
          12.318719999999999,
          12.414959999999999,
          12.511199999999999,
          12.607439999999999,
          12.703679999999999,
          12.79992,
          12.89616,
          12.9924,
          13.08864,
          13.18488,
          13.28112,
          13.37736,
          13.4736,
          13.569840000000001,
          13.66608,
          13.762319999999999,
          13.858559999999999,
          13.954799999999999,
          14.051039999999999,
          14.147279999999999,
          14.243519999999998,
          14.339759999999998,
          14.436,
          14.53224,
          14.62848,
          14.72472,
          14.82096,
          14.9172,
          15.01344,
          15.109679999999999,
          15.20592,
          15.30216,
          15.398399999999999,
          15.494639999999999,
          15.590879999999999,
          15.687119999999998,
          15.783359999999998,
          15.879599999999998,
          15.975839999999998,
          16.07208,
          16.16832,
          16.26456,
          16.360799999999998,
          16.45704,
          16.553279999999997,
          16.64952,
          16.745759999999997,
          16.842,
          16.938239999999997,
          17.03448,
          17.130719999999997,
          17.22696,
          17.3232,
          17.419439999999998,
          17.51568,
          17.611919999999998,
          17.70816,
          17.804399999999998,
          17.90064,
          17.996879999999997,
          18.09312,
          18.18936,
          18.2856,
          18.38184,
          18.47808,
          18.57432,
          18.67056,
          18.7668,
          18.863039999999998,
          18.95928,
          19.05552,
          19.15176,
          19.248,
          19.34424,
          19.44048,
          19.53672,
          19.63296,
          19.729200000000002,
          19.82544,
          19.921680000000002,
          20.017919999999997,
          20.11416,
          20.210399999999996,
          20.306639999999998,
          20.402879999999996,
          20.499119999999998,
          20.59536,
          20.691599999999998,
          20.78784,
          20.884079999999997,
          20.98032,
          21.076559999999997,
          21.1728,
          21.269039999999997,
          21.36528,
          21.46152,
          21.55776,
          21.654,
          21.750239999999998,
          21.84648,
          21.942719999999998,
          22.03896,
          22.135199999999998,
          22.23144,
          22.32768,
          22.42392,
          22.52016,
          22.6164,
          22.71264,
          22.80888,
          22.90512,
          23.001360000000002,
          23.0976,
          23.19384,
          23.29008,
          23.38632,
          23.48256,
          23.578799999999998,
          23.675039999999996,
          23.771279999999997,
          23.86752,
          23.963759999999997,
          24.06,
          24.156239999999997,
          24.25248,
          24.348719999999997,
          24.44496,
          24.541199999999996,
          24.637439999999998,
          24.73368,
          24.829919999999998,
          24.92616,
          25.022399999999998,
          25.11864,
          25.214879999999997,
          25.31112,
          25.407359999999997,
          25.5036,
          25.59984,
          25.69608,
          25.79232,
          25.88856,
          25.9848,
          26.081039999999998,
          26.17728,
          26.273519999999998,
          26.36976,
          26.466,
          26.56224,
          26.65848,
          26.75472,
          26.85096,
          26.9472,
          27.04344,
          27.139680000000002,
          27.235919999999997,
          27.33216,
          27.428399999999996,
          27.524639999999998,
          27.620879999999996,
          27.717119999999998,
          27.813359999999996,
          27.909599999999998,
          28.00584,
          28.102079999999997,
          28.19832,
          28.294559999999997,
          28.3908,
          28.487039999999997,
          28.58328,
          28.679519999999997,
          28.77576,
          28.872,
          28.968239999999998,
          29.06448,
          29.160719999999998,
          29.25696,
          29.353199999999998,
          29.44944,
          29.545679999999997,
          29.64192,
          29.73816,
          29.8344,
          29.93064,
          30.02688,
          30.12312,
          30.219359999999998,
          30.3156,
          30.41184,
          30.50808,
          30.60432,
          30.70056,
          30.796799999999998,
          30.893039999999996,
          30.989279999999997,
          31.085519999999995,
          31.181759999999997,
          31.278,
          31.374239999999997,
          31.47048,
          31.566719999999997,
          31.662959999999998,
          31.759199999999996,
          31.855439999999998,
          31.951679999999996,
          32.04792,
          32.14416,
          32.2404,
          32.33664,
          32.43288,
          32.52912,
          32.62535999999999,
          32.721599999999995,
          32.81784,
          32.91408,
          33.01032,
          33.106559999999995,
          33.202799999999996,
          33.29904,
          33.39528,
          33.491519999999994,
          33.587759999999996,
          33.684,
          33.78024,
          33.876479999999994,
          33.97272,
          34.06896,
          34.1652,
          34.26143999999999,
          34.35768,
          34.45392,
          34.55016,
          34.6464,
          34.74264,
          34.838879999999996,
          34.93512,
          35.03136,
          35.1276,
          35.223839999999996,
          35.320080000000004,
          35.41632,
          35.51256,
          35.608799999999995,
          35.705040000000004,
          35.80128,
          35.89752,
          35.993759999999995,
          36.09,
          36.18624,
          36.28247999999999,
          36.37872,
          36.474959999999996,
          36.5712,
          36.66743999999999,
          36.76368,
          36.859919999999995,
          36.95616,
          37.0524,
          37.14864,
          37.244879999999995,
          37.34112,
          37.43736,
          37.5336,
          37.629839999999994,
          37.726079999999996,
          37.82232,
          37.91856,
          38.014799999999994,
          38.11104,
          38.20728,
          38.30352,
          38.39975999999999,
          38.496,
          38.59224,
          38.68848,
          38.78472,
          38.88096,
          38.977199999999996,
          39.07344,
          39.16968,
          39.26592,
          39.362159999999996,
          39.458400000000005,
          39.55464,
          39.65088,
          39.747119999999995,
          39.843360000000004,
          39.9396,
          40.03583999999999,
          40.132079999999995,
          40.22832,
          40.32456,
          40.42079999999999,
          40.51704,
          40.613279999999996,
          40.70952,
          40.80575999999999,
          40.902,
          40.998239999999996,
          41.09448,
          41.19072,
          41.28696,
          41.383199999999995,
          41.47944,
          41.57568,
          41.67192,
          41.768159999999995,
          41.864399999999996,
          41.96064,
          42.05688,
          42.153119999999994,
          42.24936,
          42.3456,
          42.44184,
          42.538079999999994,
          42.63432,
          42.73056,
          42.8268,
          42.92304,
          43.01928,
          43.11552,
          43.21176,
          43.308,
          43.40424,
          43.500479999999996,
          43.59672,
          43.69296,
          43.789199999999994,
          43.885439999999996,
          43.98168,
          44.07792,
          44.17415999999999,
          44.270399999999995,
          44.36664,
          44.46288,
          44.55911999999999,
          44.65536,
          44.751599999999996,
          44.84784,
          44.94407999999999,
          45.04032,
          45.136559999999996,
          45.2328,
          45.32904,
          45.42528,
          45.521519999999995,
          45.61776,
          45.714,
          45.81024,
          45.906479999999995,
          46.002720000000004,
          46.09896,
          46.1952,
          46.291439999999994,
          46.38768,
          46.48392,
          46.58016,
          46.676399999999994,
          46.77264,
          46.86888,
          46.96512,
          47.06136,
          47.157599999999995,
          47.25384,
          47.35007999999999,
          47.44632,
          47.542559999999995,
          47.638799999999996,
          47.73504,
          47.83128,
          47.927519999999994,
          48.023759999999996
         ],
         "xaxis": "x",
         "y": [
          0.01751157773273591,
          0.017604707809214807,
          0.017686940878632637,
          0.017758335777264003,
          0.01781898650545314,
          0.017869022004252135,
          0.01790860577819474,
          0.01793793536593227,
          0.017957241661334805,
          0.017966788088522048,
          0.01796686963511642,
          0.017957811748811302,
          0.017939969103106385,
          0.01791372423877729,
          0.017879486088314182,
          0.017837688391178445,
          0.017788788008281223,
          0.01773326314458758,
          0.01767161148917993,
          0.01760434828248519,
          0.017532004320669828,
          0.017455123907441288,
          0.017374262763658076,
          0.017289985905248162,
          0.017202865499964238,
          0.017113478713466954,
          0.017022405555125027,
          0.016930226733757103,
          0.016837521533316153,
          0.01674486571823651,
          0.016652829477829693,
          0.01656197541873223,
          0.016472856613980146,
          0.0163860147168162,
          0.016301978146828565,
          0.016221260355483987,
          0.016144358177552415,
          0.016071750274333954,
          0.016003895673993674,
          0.015941232413693406,
          0.015884176287583172,
          0.015833119704085633,
          0.01578843065527893,
          0.015750451800557688,
          0.015719499666138042,
          0.015695863961367254,
          0.01567980701221272,
          0.015671563311733763,
          0.015671339186793323,
          0.01567931257974184,
          0.015695632943307513,
          0.015720421246456364,
          0.015753770088545307,
          0.015795743918679432,
          0.015846379356805603,
          0.015905685612727004,
          0.015973644998907324,
          0.01605021353265047,
          0.016135321622989432,
          0.016228874837400115,
          0.016330754743264963,
          0.01644081981885591,
          0.016558906428474175,
          0.016684829856287234,
          0.016818385393326613,
          0.016959349472066343,
          0.017107480842976332,
          0.017262521787447735,
          0.017424199361509032,
          0.017592226664796,
          0.017766304129300966,
          0.01794612082250789,
          0.018131355759617447,
          0.018321679219680097,
          0.01851675406058175,
          0.018716237027968475,
          0.018919780053349676,
          0.01912703153678319,
          0.019337637609721056,
          0.01955124337377903,
          0.019767494111385557,
          0.01998603646446817,
          0.020206519577542152,
          0.02042859620178399,
          0.020651923756891205,
          0.020876165347759355,
          0.021100990733238754,
          0.021326077244470637,
          0.02155111065054269,
          0.021775785969451747,
          0.02199980822260557,
          0.02222289313135025,
          0.02244476775425915,
          0.022665171064177005,
          0.022883854464264504,
          0.0231005822425472,
          0.023315131964725063,
          0.02352729480525419,
          0.023736875816962273,
          0.023943694139709062,
          0.02414758314884712,
          0.024348390544478227,
          0.024545978382733567,
          0.024740223050536213,
          0.024931015185519035,
          0.025118259542985837,
          0.02530187481200135,
          0.025481793382886263,
          0.025657961068569074,
          0.025830336782412727,
          0.02599889217528214,
          0.0261636112347531,
          0.02632448984948403,
          0.02648153534187033,
          0.026634765972189584,
          0.026784210417506935,
          0.026929907228661294,
          0.027071904268679076,
          0.0272102581359704,
          0.027345033575652235,
          0.027476302882310823,
          0.027604145297466742,
          0.02772864640493299,
          0.027849897527170923,
          0.027967995125637773,
          0.028083040207996467,
          0.02819513774491469,
          0.028304396099023358,
          0.02841092646843003,
          0.028514842346997565,
          0.02861625900339906,
          0.02871529298075089,
          0.028812061618407797,
          0.028906682597278414,
          0.02899927350978775,
          0.02908995145538032,
          0.029178832662219007,
          0.029266032135500372,
          0.02935166333257279,
          0.029435837864811264,
          0.029518665225983554,
          0.02960025254662046,
          0.029680704373701367,
          0.02976012247476671,
          0.029838605665391333,
          0.029916249658780456,
          0.029993146936102135,
          0.03006938663603437,
          0.030145054461887755,
          0.030220232604571722,
          0.030294999679591882,
          0.030369430676212807,
          0.03044359691688699,
          0.030517566025034495,
          0.030591401899270287,
          0.03066516469220278,
          0.030738910791979653,
          0.0308126928048275,
          0.03088655953692221,
          0.030960555974036522,
          0.031034723257538182,
          0.031109098655453755,
          0.031183715527473378,
          0.03125860328293948,
          0.03133378733104738,
          0.031409289022676395,
          0.03148512558346931,
          0.03156131003798446,
          0.03163785112495207,
          0.031714753203877274,
          0.031792016153442,
          0.03186963526236314,
          0.03194760111356688,
          0.03202589946273432,
          0.03210451111245546,
          0.03218341178340648,
          0.032262571984123425,
          0.032341956881093314,
          0.03242152617101229,
          0.03250123395717284,
          0.03258102863203571,
          0.03266085276811191,
          0.03274064301933434,
          0.03282033003512437,
          0.03289983838936717,
          0.03297908652649016,
          0.033057986726801734,
          0.03313644509318022,
          0.03321436156111979,
          0.0332916299340295,
          0.03336813794555168,
          0.0334437673505137,
          0.033518394045956974,
          0.03359188822349711,
          0.03366411455406146,
          0.033734932405829914,
          0.03380419609596828,
          0.03387175517649633,
          0.033937454754376144,
          0.03400113584564235,
          0.03406263576312431,
          0.03412178853704211,
          0.03417842536747949,
          0.03423237510747008,
          0.03428346477516407,
          0.034331520093281304,
          0.03437636605380592,
          0.034417827505635316,
          0.03445572976266935,
          0.03448989922961111,
          0.03452016404255863,
          0.03454635472128401,
          0.034568304829947584,
          0.034585851642854375,
          0.03459883681175292,
          0.034607107031089275,
          0.03461051469756683,
          0.034608918560330104,
          0.03460218435807904,
          0.03459018543944179,
          0.034572803362975475,
          0.034549928473239774,
          0.03452146044948198,
          0.034487308823597906,
          0.03444739346417993,
          0.034401645023633326,
          0.03435000534553789,
          0.0342924278296437,
          0.03422887775212445,
          0.0341593325389628,
          0.03408378199060731,
          0.03400222845632157,
          0.03391468695693607,
          0.03382118525501442,
          0.03372176387175243,
          0.03361647605023932,
          0.03350538766502405,
          0.03338857707824557,
          0.03326613494289293,
          0.03313816395407024,
          0.03300477854944027,
          0.03286610456030948,
          0.032722278815097025,
          0.032573448697196576,
          0.032419771659488616,
          0.032261414697998404,
          0.03209855378740766,
          0.031931373281327585,
          0.031760065280416035,
          0.0315848289715762,
          0.03140586994160824,
          0.031223399468793177,
          0.0310376337959763,
          0.03084879338877927,
          0.030657102182611327,
          0.03046278682216352,
          0.03026607589706641,
          0.03006719917735906,
          0.029866386852370634,
          0.029663868776538295,
          0.029459873725600074,
          0.029254628666485077,
          0.029048358044098832,
          0.028841283088055652,
          0.02863362114225111,
          0.028425585019995172,
          0.02821738238724137,
          0.028009215176253918,
          0.027801279031848616,
          0.027593762792136472,
          0.02738684800547863,
          0.027180708485144558,
          0.02697550990294055,
          0.026771409422853307,
          0.02656855537552994,
          0.026367086974194424,
          0.0261671340723832,
          0.025968816963668578,
          0.025772246223330464,
          0.02557752259173517,
          0.025384736898987195,
          0.025193970030232285,
          0.025005292930814122,
          0.024818766650320536,
          0.024634442424396448,
          0.02445236179305577,
          0.024272556754088688,
          0.024095049950035634,
          0.02391985488708764,
          0.02374697618417015,
          0.023576409850377712,
          0.02340814358884842,
          0.023242157125099076,
          0.0230784225577857,
          0.02291690472980908,
          0.0227575616176492,
          0.02260034473678816,
          0.022445199561066817,
          0.02229206595381458,
          0.02214087860859672,
          0.021991567497436304,
          0.021844058324389508,
          0.021698272982383023,
          0.02155413001125986,
          0.021411545055024666,
          0.021270431316331877,
          0.02113070000631871,
          0.020992260787949964,
          0.02085502221111264,
          0.02071889213777541,
          0.02058377815560906,
          0.02044958797855219,
          0.02031622983289701,
          0.020183612827566526,
          0.020051647307354682,
          0.0199202451880031,
          0.019789320272097313,
          0.01965878854487295,
          0.019528568449136176,
          0.01939858113861648,
          0.019268750709187377,
          0.01913900440750637,
          0.019009272816747157,
          0.018879490019213446,
          0.018749593735744193,
          0.018619525441939313,
          0.018489230461351213,
          0.018358658035904307,
          0.01822776137391892,
          0.018096497676225964,
          0.017964828140968336,
          0.01783271794778774,
          0.01770013622219572,
          0.01756705598102312,
          0.017433454059929444,
          0.017299311024038495,
          0.017164611062841534,
          0.017029341870578748,
          0.016893494513371087,
          0.016757063284428452,
          0.01662004554870363,
          0.016482441578399187,
          0.016344254380759878,
          0.016205489519601813,
          0.016066154932037013,
          0.015926260741850475,
          0.015785819070976613,
          0.01564484385049991,
          0.015503350632575288,
          0.015361356404624415,
          0.01521887940711526,
          0.015075938956175266,
          0.014932555272224153,
          0.014788749315737896,
          0.014644542631177147,
          0.014499957200025093,
          0.014355015303788545,
          0.014209739397717637,
          0.014064151995898307,
          0.013918275568264998,
          0.013772132449974658,
          0.013625744763471165,
          0.013479134353459763,
          0.013332322734899212,
          0.01318533105400955,
          0.013038180062184547,
          0.01289089010259213,
          0.012743481109143215,
          0.012595972617411423,
          0.012448383786991566,
          0.012300733434698258,
          0.012153040077923095,
          0.01200532198739473,
          0.011857597248518282,
          0.011709883830411353,
          0.01156219966170156,
          0.011414562712108585,
          0.011266991078797988,
          0.011119503076469858,
          0.010972117330127528,
          0.010824852869464264,
          0.01067772922380652,
          0.010530766516561846,
          0.01038398555813695,
          0.010237407936317248,
          0.010091056103132611,
          0.009944953457274279,
          0.009799124421174832,
          0.009653594511916662,
          0.009508390405193136,
          0.009363539991609994,
          0.009219072424682988,
          0.009075018159959324,
          0.00893140898476506,
          0.008788278038157826,
          0.008645659820742954,
          0.008503590194090329,
          0.00836210636957032,
          0.008221246886505558,
          0.008081051579615786,
          0.0079415615358089,
          0.007802819040448465,
          0.007664867513299211,
          0.0075277514344237705,
          0.007391516260369624,
          0.0072562083310484015,
          0.007121874767768961,
          0.006988563362940177,
          0.006856322462009211,
          0.006725200838246792,
          0.006595247561031112,
          0.006466511858318039,
          0.006339042974014878,
          0.006212890021001554,
          0.006088101830562331,
          0.005964726799007688,
          0.005842812732275738,
          0.005722406689309095,
          0.005603554825004036,
          0.005486302233525589,
          0.005370692792775132,
          0.005256769010785121,
          0.005144571874801012,
          0.00503414070379047,
          0.004925513005099088,
          0.004818724335945117,
          0.004713808170418309,
          0.00461079577261642,
          0.004509716076520077,
          0.0044105955731703035,
          0.004313458205676371,
          0.0042183252725412285,
          0.0041252153397518705,
          0.004034144162038932,
          0.003945124613666932,
          0.0038581666290719205,
          0.003773277153618542,
          0.0036904601047023327,
          0.0036097163433774903,
          0.0035310436566435574,
          0.0034544367504783908,
          0.0033798872536579755,
          0.003307383732357909,
          0.003236911715485238,
          0.003168453730644293,
          0.003101989350595169,
          0.003037495250020238,
          0.0029749452723704735,
          0.002914310506522171,
          0.0028555593729336364,
          0.00279865771895243,
          0.0027435689228858923,
          0.002690254006411661,
          0.0026386717548705415,
          0.00258877884495186,
          0.002540529979250867,
          0.0024938780271498966,
          0.002448774171448974,
          0.0024051680601483074,
          0.0023630079627642727,
          0.0023222409305422983,
          0.002282812959914792,
          0.002244669158539648,
          0.002207753913245373,
          0.0021720110592023307,
          0.00213738404963612,
          0.002103816125398757,
          0.002071250483716206,
          0.0020396304454365966,
          0.002008899620112885,
          0.001979002068265596,
          0.0019498824601870172,
          0.0019214862306663656,
          0.0018937597290368713,
          0.0018666503639700282,
          0.0018401067424692029,
          0.0018140788025443795,
          0.0017885179390820368,
          0.0017633771224584613,
          0.0017386110094815,
          0.001714176046284115,
          0.0016900305628335171,
          0.0016661348587613065,
          0.0016424512802631775,
          0.0016189442878607498,
          0.001595580514863173,
          0.0015723288164113307,
          0.0015491603090334537,
          0.0015260484006865177,
          0.0015029688113033792,
          0.0014798995839106612,
          0.001456821086426531,
          0.0014337160042909034,
          0.0014105693241225031,
          0.001387368308637763,
          0.0013641024631053404,
          0.0013407634936468964,
          0.001317345257729552,
          0.0012938437072278189,
          0.0012702568244628177
         ],
         "yaxis": "y"
        },
        {
         "fill": "tozeroy",
         "hovertemplate": "<b>Synthetic</b><br>Value: %{x}<br>Frequency: %{y}<extra></extra>",
         "legendgroup": "Synthetic",
         "marker": {
          "color": "#01E0C9"
         },
         "mode": "lines",
         "name": "Synthetic",
         "showlegend": true,
         "type": "scatter",
         "x": [
          0,
          0.09623999999999999,
          0.19247999999999998,
          0.28872,
          0.38495999999999997,
          0.48119999999999996,
          0.57744,
          0.67368,
          0.7699199999999999,
          0.8661599999999999,
          0.9623999999999999,
          1.0586399999999998,
          1.15488,
          1.2511199999999998,
          1.34736,
          1.4436,
          1.5398399999999999,
          1.63608,
          1.7323199999999999,
          1.82856,
          1.9247999999999998,
          2.02104,
          2.1172799999999996,
          2.21352,
          2.30976,
          2.406,
          2.5022399999999996,
          2.59848,
          2.69472,
          2.79096,
          2.8872,
          2.98344,
          3.0796799999999998,
          3.1759199999999996,
          3.27216,
          3.3684,
          3.4646399999999997,
          3.5608799999999996,
          3.65712,
          3.75336,
          3.8495999999999997,
          3.9458399999999996,
          4.04208,
          4.138319999999999,
          4.234559999999999,
          4.3308,
          4.42704,
          4.52328,
          4.61952,
          4.7157599999999995,
          4.812,
          4.90824,
          5.004479999999999,
          5.100719999999999,
          5.19696,
          5.2932,
          5.38944,
          5.4856799999999994,
          5.58192,
          5.67816,
          5.7744,
          5.87064,
          5.96688,
          6.06312,
          6.1593599999999995,
          6.255599999999999,
          6.351839999999999,
          6.44808,
          6.54432,
          6.64056,
          6.7368,
          6.83304,
          6.929279999999999,
          7.025519999999999,
          7.121759999999999,
          7.218,
          7.31424,
          7.41048,
          7.50672,
          7.60296,
          7.699199999999999,
          7.795439999999999,
          7.891679999999999,
          7.987919999999999,
          8.08416,
          8.180399999999999,
          8.276639999999999,
          8.372879999999999,
          8.469119999999998,
          8.565359999999998,
          8.6616,
          8.75784,
          8.85408,
          8.95032,
          9.04656,
          9.1428,
          9.23904,
          9.33528,
          9.431519999999999,
          9.52776,
          9.624,
          9.72024,
          9.81648,
          9.91272,
          10.008959999999998,
          10.105199999999998,
          10.201439999999998,
          10.29768,
          10.39392,
          10.49016,
          10.5864,
          10.68264,
          10.77888,
          10.875119999999999,
          10.971359999999999,
          11.067599999999999,
          11.16384,
          11.26008,
          11.35632,
          11.45256,
          11.5488,
          11.64504,
          11.74128,
          11.837519999999998,
          11.93376,
          12.03,
          12.12624,
          12.22248,
          12.318719999999999,
          12.414959999999999,
          12.511199999999999,
          12.607439999999999,
          12.703679999999999,
          12.79992,
          12.89616,
          12.9924,
          13.08864,
          13.18488,
          13.28112,
          13.37736,
          13.4736,
          13.569840000000001,
          13.66608,
          13.762319999999999,
          13.858559999999999,
          13.954799999999999,
          14.051039999999999,
          14.147279999999999,
          14.243519999999998,
          14.339759999999998,
          14.436,
          14.53224,
          14.62848,
          14.72472,
          14.82096,
          14.9172,
          15.01344,
          15.109679999999999,
          15.20592,
          15.30216,
          15.398399999999999,
          15.494639999999999,
          15.590879999999999,
          15.687119999999998,
          15.783359999999998,
          15.879599999999998,
          15.975839999999998,
          16.07208,
          16.16832,
          16.26456,
          16.360799999999998,
          16.45704,
          16.553279999999997,
          16.64952,
          16.745759999999997,
          16.842,
          16.938239999999997,
          17.03448,
          17.130719999999997,
          17.22696,
          17.3232,
          17.419439999999998,
          17.51568,
          17.611919999999998,
          17.70816,
          17.804399999999998,
          17.90064,
          17.996879999999997,
          18.09312,
          18.18936,
          18.2856,
          18.38184,
          18.47808,
          18.57432,
          18.67056,
          18.7668,
          18.863039999999998,
          18.95928,
          19.05552,
          19.15176,
          19.248,
          19.34424,
          19.44048,
          19.53672,
          19.63296,
          19.729200000000002,
          19.82544,
          19.921680000000002,
          20.017919999999997,
          20.11416,
          20.210399999999996,
          20.306639999999998,
          20.402879999999996,
          20.499119999999998,
          20.59536,
          20.691599999999998,
          20.78784,
          20.884079999999997,
          20.98032,
          21.076559999999997,
          21.1728,
          21.269039999999997,
          21.36528,
          21.46152,
          21.55776,
          21.654,
          21.750239999999998,
          21.84648,
          21.942719999999998,
          22.03896,
          22.135199999999998,
          22.23144,
          22.32768,
          22.42392,
          22.52016,
          22.6164,
          22.71264,
          22.80888,
          22.90512,
          23.001360000000002,
          23.0976,
          23.19384,
          23.29008,
          23.38632,
          23.48256,
          23.578799999999998,
          23.675039999999996,
          23.771279999999997,
          23.86752,
          23.963759999999997,
          24.06,
          24.156239999999997,
          24.25248,
          24.348719999999997,
          24.44496,
          24.541199999999996,
          24.637439999999998,
          24.73368,
          24.829919999999998,
          24.92616,
          25.022399999999998,
          25.11864,
          25.214879999999997,
          25.31112,
          25.407359999999997,
          25.5036,
          25.59984,
          25.69608,
          25.79232,
          25.88856,
          25.9848,
          26.081039999999998,
          26.17728,
          26.273519999999998,
          26.36976,
          26.466,
          26.56224,
          26.65848,
          26.75472,
          26.85096,
          26.9472,
          27.04344,
          27.139680000000002,
          27.235919999999997,
          27.33216,
          27.428399999999996,
          27.524639999999998,
          27.620879999999996,
          27.717119999999998,
          27.813359999999996,
          27.909599999999998,
          28.00584,
          28.102079999999997,
          28.19832,
          28.294559999999997,
          28.3908,
          28.487039999999997,
          28.58328,
          28.679519999999997,
          28.77576,
          28.872,
          28.968239999999998,
          29.06448,
          29.160719999999998,
          29.25696,
          29.353199999999998,
          29.44944,
          29.545679999999997,
          29.64192,
          29.73816,
          29.8344,
          29.93064,
          30.02688,
          30.12312,
          30.219359999999998,
          30.3156,
          30.41184,
          30.50808,
          30.60432,
          30.70056,
          30.796799999999998,
          30.893039999999996,
          30.989279999999997,
          31.085519999999995,
          31.181759999999997,
          31.278,
          31.374239999999997,
          31.47048,
          31.566719999999997,
          31.662959999999998,
          31.759199999999996,
          31.855439999999998,
          31.951679999999996,
          32.04792,
          32.14416,
          32.2404,
          32.33664,
          32.43288,
          32.52912,
          32.62535999999999,
          32.721599999999995,
          32.81784,
          32.91408,
          33.01032,
          33.106559999999995,
          33.202799999999996,
          33.29904,
          33.39528,
          33.491519999999994,
          33.587759999999996,
          33.684,
          33.78024,
          33.876479999999994,
          33.97272,
          34.06896,
          34.1652,
          34.26143999999999,
          34.35768,
          34.45392,
          34.55016,
          34.6464,
          34.74264,
          34.838879999999996,
          34.93512,
          35.03136,
          35.1276,
          35.223839999999996,
          35.320080000000004,
          35.41632,
          35.51256,
          35.608799999999995,
          35.705040000000004,
          35.80128,
          35.89752,
          35.993759999999995,
          36.09,
          36.18624,
          36.28247999999999,
          36.37872,
          36.474959999999996,
          36.5712,
          36.66743999999999,
          36.76368,
          36.859919999999995,
          36.95616,
          37.0524,
          37.14864,
          37.244879999999995,
          37.34112,
          37.43736,
          37.5336,
          37.629839999999994,
          37.726079999999996,
          37.82232,
          37.91856,
          38.014799999999994,
          38.11104,
          38.20728,
          38.30352,
          38.39975999999999,
          38.496,
          38.59224,
          38.68848,
          38.78472,
          38.88096,
          38.977199999999996,
          39.07344,
          39.16968,
          39.26592,
          39.362159999999996,
          39.458400000000005,
          39.55464,
          39.65088,
          39.747119999999995,
          39.843360000000004,
          39.9396,
          40.03583999999999,
          40.132079999999995,
          40.22832,
          40.32456,
          40.42079999999999,
          40.51704,
          40.613279999999996,
          40.70952,
          40.80575999999999,
          40.902,
          40.998239999999996,
          41.09448,
          41.19072,
          41.28696,
          41.383199999999995,
          41.47944,
          41.57568,
          41.67192,
          41.768159999999995,
          41.864399999999996,
          41.96064,
          42.05688,
          42.153119999999994,
          42.24936,
          42.3456,
          42.44184,
          42.538079999999994,
          42.63432,
          42.73056,
          42.8268,
          42.92304,
          43.01928,
          43.11552,
          43.21176,
          43.308,
          43.40424,
          43.500479999999996,
          43.59672,
          43.69296,
          43.789199999999994,
          43.885439999999996,
          43.98168,
          44.07792,
          44.17415999999999,
          44.270399999999995,
          44.36664,
          44.46288,
          44.55911999999999,
          44.65536,
          44.751599999999996,
          44.84784,
          44.94407999999999,
          45.04032,
          45.136559999999996,
          45.2328,
          45.32904,
          45.42528,
          45.521519999999995,
          45.61776,
          45.714,
          45.81024,
          45.906479999999995,
          46.002720000000004,
          46.09896,
          46.1952,
          46.291439999999994,
          46.38768,
          46.48392,
          46.58016,
          46.676399999999994,
          46.77264,
          46.86888,
          46.96512,
          47.06136,
          47.157599999999995,
          47.25384,
          47.35007999999999,
          47.44632,
          47.542559999999995,
          47.638799999999996,
          47.73504,
          47.83128,
          47.927519999999994,
          48.023759999999996
         ],
         "xaxis": "x",
         "y": [
          0.032411083390736915,
          0.0327134299723175,
          0.03300836983234837,
          0.03329571410846799,
          0.0335752819288355,
          0.03384690066035523,
          0.03411040614060588,
          0.03436564289297286,
          0.034612464324529864,
          0.03485073290626536,
          0.03508032033530037,
          0.03530110767879794,
          0.03551298549931365,
          0.03571585396139433,
          0.03590962291928135,
          0.036094211985632806,
          0.03626955058123041,
          0.03643557796569069,
          0.036592243249255856,
          0.03673950538578809,
          0.03687733314714822,
          0.037005705079186,
          0.0371246094396229,
          0.037234044118153224,
          0.037334016539140646,
          0.037424543547327986,
          0.03750565127702628,
          0.03757737500528614,
          0.03763975898959925,
          0.03769285629070903,
          0.03773672858115081,
          0.037771445940169644,
          0.03779708663569599,
          0.03781373689408714,
          0.03782149065836617,
          0.03782044933571288,
          0.03781072153497938,
          0.03779242279502198,
          0.03776567530464965,
          0.03773060761500724,
          0.03768735434521161,
          0.03763605588207029,
          0.037576858074710444,
          0.037509911924947785,
          0.0374353732742198,
          0.037353402487903066,
          0.03726416413782562,
          0.03716782668377386,
          0.03706456215477902,
          0.03695454583095522,
          0.03683795592663864,
          0.03671497327556153,
          0.036585781018768505,
          0.03645056429596129,
          0.03630950994092992,
          0.036162806181702145,
          0.0360106423460131,
          0.035853208572666724,
          0.035690695529328825,
          0.03552329413725805,
          0.03535119530345042,
          0.03517458966063275,
          0.0349936673155128,
          0.034808617605650224,
          0.03461962886528419,
          0.03442688820041173,
          0.034230581273377456,
          0.03403089209719931,
          0.03382800283981777,
          0.03362209363842218,
          0.033413342423971634,
          0.03320192475599457,
          0.03298801366771664,
          0.03277177952153471,
          0.03255338987482231,
          0.03233300935602124,
          0.03211079955094492,
          0.03188691889918927,
          0.0316615226005223,
          0.031434762531094666,
          0.03120678716929129,
          0.03097774153102095,
          0.030747767114218248,
          0.030517001852314003,
          0.030285580076410062,
          0.030053632485880003,
          0.02982128612709999,
          0.029588664380002506,
          0.029355886952131767,
          0.029123069879871618,
          0.028890325536506098,
          0.02865776264676773,
          0.02842548630752056,
          0.02819359801422364,
          0.027962195692816754,
          0.0277313737366686,
          0.027501223048228943,
          0.027271831085027922,
          0.027043281909667254,
          0.026815656243454285,
          0.026589031523332717,
          0.026363481961772062,
          0.026139078609284994,
          0.025915889419248425,
          0.025693979314715697,
          0.02547341025691582,
          0.025254241315145958,
          0.025036528737776703,
          0.02482032602409907,
          0.024605683996756705,
          0.0243926508745181,
          0.02418127234515812,
          0.023971591638230167,
          0.023763649597524913,
          0.023557484753025795,
          0.023353133392183506,
          0.023150629630347523,
          0.022950005480205392,
          0.022751290920094508,
          0.022554513961064573,
          0.02235970071258207,
          0.02216687544678121,
          0.02197606066117869,
          0.021787277139780965,
          0.021600544012525976,
          0.021415878813011352,
          0.021233297534473,
          0.021052814683987755,
          0.02087444333488409,
          0.020698195177354328,
          0.020524080567269426,
          0.020352108573207406,
          0.02018228702171261,
          0.02001462254081024,
          0.019849120601807557,
          0.019685785559418082,
          0.019524620690250915,
          0.019365628229711412,
          0.019208809407363685,
          0.019054164480808315,
          0.018901692768132507,
          0.018751392678990415,
          0.018603261744375172,
          0.018457296645143898,
          0.018313493239357957,
          0.018171846588501437,
          0.018032350982641023,
          0.01789499996458794,
          0.01775978635312466,
          0.017626702265354986,
          0.017495739138236377,
          0.01736688774935049,
          0.01724013823696675,
          0.01711548011944954,
          0.016992902314059824,
          0.016872393155196126,
          0.016753940412119677,
          0.016637531306203716,
          0.01652315252774457,
          0.01641079025236914,
          0.016300430157070084,
          0.016192057435896693,
          0.016085656815326557,
          0.015981212569340476,
          0.015878708534218768,
          0.015778128123076024,
          0.015679454340146934,
          0.015582669794834421,
          0.015487756715527816,
          0.015394696963197063,
          0.015303472044766718,
          0.015214063126271037,
          0.015126451045790232,
          0.015040616326165736,
          0.014956539187491756,
          0.014874199559377526,
          0.014793577092976285,
          0.01471465117277296,
          0.014637400928124909,
          0.014561805244547357,
          0.014487842774736758,
          0.014415491949323522,
          0.01434473098734726,
          0.014275537906447335,
          0.01420789053276146,
          0.01414176651052685,
          0.014077143311378493,
          0.014013998243340202,
          0.013952308459504858,
          0.013892050966402503,
          0.013833202632054238,
          0.013775740193713432,
          0.013719640265295369,
          0.013664879344499177,
          0.013611433819626002,
          0.013559279976100768,
          0.013508394002704469,
          0.013458751997526667,
          0.013410329973649064,
          0.013363103864572649,
          0.01331704952940159,
          0.013272142757799737,
          0.013228359274735741,
          0.013185674745034825,
          0.013144064777755874,
          0.013103504930413838,
          0.013063970713068649,
          0.01302543759230221,
          0.012987880995106001,
          0.01295127631270278,
          0.012915598904325693,
          0.01288082410097919,
          0.01284692720920593,
          0.012813883514884019,
          0.01278166828707933,
          0.012750256781976731,
          0.012719624246914446,
          0.012689745924545184,
          0.012660597057146858,
          0.012632152891105329,
          0.012604388681590613,
          0.012577279697447466,
          0.012550801226319614,
          0.01252492858002631,
          0.012499637100208481,
          0.012474902164260258,
          0.01245069919156074,
          0.012427003650018552,
          0.012403791062941203,
          0.012381037016238914,
          0.012358717165971166,
          0.012336807246242181,
          0.012315283077451167,
          0.012294120574898808,
          0.012273295757752597,
          0.01225278475836976,
          0.01223256383197558,
          0.012212609366692929,
          0.012192897893917412,
          0.012173406099030042,
          0.012154110832438426,
          0.012134989120935458,
          0.012116018179362607,
          0.012097175422563982,
          0.012078438477615168,
          0.012059785196309965,
          0.012041193667886148,
          0.012022642231970967,
          0.012004109491724955,
          0.011985574327161968,
          0.011967015908622713,
          0.011948413710376955,
          0.011929747524330146,
          0.011910997473808355,
          0.011892144027395218,
          0.011873168012794259,
          0.011854050630688779,
          0.011834773468572148,
          0.011815318514520133,
          0.011795668170877467,
          0.011775805267830267,
          0.011755713076836666,
          0.011735375323887172,
          0.011714776202567662,
          0.011693900386897195,
          0.011672733043914215,
          0.011651259845984308,
          0.011629466982804437,
          0.011607341173077499,
          0.011584869675834148,
          0.011562040301377636,
          0.011538841421829208,
          0.011515261981252689,
          0.011491291505337682,
          0.011466920110621693,
          0.011442138513233328,
          0.011416938037138957,
          0.011391310621877333,
          0.011365248829767501,
          0.011338745852576748,
          0.011311795517636364,
          0.011284392293395095,
          0.011256531294400893,
          0.011228208285702916,
          0.01119941968666768,
          0.011170162574204405,
          0.011140434685395505,
          0.01111023441953057,
          0.01107956083954258,
          0.011048413672847226,
          0.011016793311586868,
          0.010984700812282684,
          0.010952137894899282,
          0.010919106941327627,
          0.010885610993293148,
          0.010851653749697406,
          0.010817239563402161,
          0.010782373437466786,
          0.010747061020849751,
          0.010711308603587051,
          0.010675123111460405,
          0.010638512100169657,
          0.010601483749023942,
          0.010564046854167305,
          0.01052621082135495,
          0.010487985658296896,
          0.010449381966586114,
          0.010410410933229036,
          0.01037108432179599,
          0.010331414463210337,
          0.010291414246194,
          0.010251097107388463,
          0.010210477021169215,
          0.01016956848917228,
          0.010128386529550991,
          0.010086946665980968,
          0.010045264916430836,
          0.01000335778171625,
          0.009961242233853645,
          0.009918935704230254,
          0.009876456071605819,
          0.009833821649961081,
          0.009791051176207065,
          0.009748163797768635,
          0.009705179060054891,
          0.00966211689382764,
          0.009618997602478939,
          0.009575841849226743,
          0.00953267064423767,
          0.009489505331683613,
          0.00944636757673885,
          0.009403279352522316,
          0.009360262926989087,
          0.009317340849773238,
          0.00927453593898367,
          0.009231871267953008,
          0.009189370151937864,
          0.009147056134768518,
          0.00910495297544396,
          0.009063084634667287,
          0.009021475261315472,
          0.008980149178835804,
          0.008939130871560496,
          0.008898444970929877,
          0.008858116241612934,
          0.008818169567513846,
          0.008778629937650875,
          0.008739522431894442,
          0.008700872206549085,
          0.008662704479763852,
          0.008625044516754722,
          0.00858791761482198,
          0.008551349088144578,
          0.008515364252333528,
          0.008479988408725275,
          0.008445246828396105,
          0.008411164735877977,
          0.008377767292556274,
          0.008345079579729698,
          0.008313126581312488,
          0.00828193316615944,
          0.008251524069994009,
          0.008221923876920674,
          0.008193157000502393,
          0.008165247664385311,
          0.00813821988245268,
          0.008112097438491343,
          0.008086903865354704,
          0.00806266242360682,
          0.008039396079634024,
          0.008017127483210665,
          0.007995878944507848,
          0.007975672410534778,
          0.007956529441004147,
          0.00793847118361452,
          0.007921518348744478,
          0.00790569118355516,
          0.007891009445499806,
          0.00787749237524085,
          0.007865158668977577,
          0.00785402645018947,
          0.00784411324080282,
          0.007835435931790612,
          0.007828010753218661,
          0.007821853243753125,
          0.007816978219647806,
          0.007813399743232426,
          0.007811131090925897,
          0.007810184720801891,
          0.007810572239737085,
          0.0078123043701756574,
          0.007815390916546948,
          0.007819840731376702,
          0.007825661681135292,
          0.007832860611870373,
          0.007841443314674606,
          0.007851414491042367,
          0.007862777718173607,
          0.00787553541428595,
          0.007889688804000055,
          0.007905237883866588,
          0.007922181388107026,
          0.007940516754643655,
          0.007960240091497782,
          0.007981346143638627,
          0.00800382826036851,
          0.00802767836333331,
          0.008052886915250197,
          0.008079442889447829,
          0.008107333740316655,
          0.008136545374770291,
          0.008167062124820773,
          0.008198866721373156,
          0.008231940269347348,
          0.008266262224236093,
          0.008301810370210598,
          0.008338560799885987,
          0.008376487895860063,
          0.008415564314139711,
          0.00845576096956955,
          0.008497047023377495,
          0.008539389872951945,
          0.008582755143964052,
          0.008627106684948146,
          0.008672406564451488,
          0.008718615070862717,
          0.008765690715026106,
          0.008813590235746,
          0.008862268608282294,
          0.008911679055934502,
          0.008961773064807417,
          0.009012500401846854,
          0.009063809136228815,
          0.009115645664179625,
          0.009167954737298678,
          0.009220679494448393,
          0.009273761497269368,
          0.009327140769370598,
          0.009380755839237044,
          0.00943454378688795,
          0.009488440294310379,
          0.009542379699683315,
          0.009596295055397582,
          0.0096501181898668,
          0.009703779773113912,
          0.009757209386107212,
          0.009810335593808313,
          0.009863086021883223,
          0.009915387437016095,
          0.00996716583075297,
          0.010018346506791342,
          0.01006885417161861,
          0.010118613028390804,
          0.010167546873930296,
          0.010215579198709187,
          0.010262633289672581,
          0.01030863233574446,
          0.010353499535846359,
          0.010397158209247553,
          0.010439531908054077,
          0.010480544531633045,
          0.010520120442757382,
          0.010558184585246058,
          0.010594662602865708,
          0.010629480959248785,
          0.010662567058576045,
          0.010693849366762315,
          0.010723257532877097,
          0.010750722510524972,
          0.010776176678904782,
          0.010799553963261323,
          0.010820789954438843,
          0.010839822027242534,
          0.010856589457311085,
          0.010871033536202456,
          0.0108830976843936,
          0.010892727561895795,
          0.010899871176188241,
          0.010904478987175092,
          0.010906504008874345,
          0.010905901907551353,
          0.01090263109601547,
          0.010896652823804304,
          0.010887931262988166,
          0.010876433589335047,
          0.010862130058586656,
          0.010844994077605983,
          0.01082500227016863,
          0.01080213453718218,
          0.010776374111131144,
          0.010747707604559216,
          0.010716125052415277,
          0.010681619948105087,
          0.01064418927310686,
          0.010603833520026367,
          0.010560556708983718,
          0.010514366397242979,
          0.010465273682013783,
          0.010413293196372853,
          0.010358443098273091
         ],
         "yaxis": "y"
        }
       ],
       "layout": {
        "annotations": [
         {
          "showarrow": false,
          "text": "*Missing Values: Real Data (9.0%), Synthetic Data (7.6%)",
          "x": 1,
          "xref": "paper",
          "y": 1.05,
          "yref": "paper"
         }
        ],
        "barmode": "overlay",
        "hovermode": "closest",
        "legend": {
         "traceorder": "reversed"
        },
        "plot_bgcolor": "#F5F5F8",
        "template": {
         "data": {
          "bar": [
           {
            "error_x": {
             "color": "#2a3f5f"
            },
            "error_y": {
             "color": "#2a3f5f"
            },
            "marker": {
             "line": {
              "color": "#E5ECF6",
              "width": 0.5
             },
             "pattern": {
              "fillmode": "overlay",
              "size": 10,
              "solidity": 0.2
             }
            },
            "type": "bar"
           }
          ],
          "barpolar": [
           {
            "marker": {
             "line": {
              "color": "#E5ECF6",
              "width": 0.5
             },
             "pattern": {
              "fillmode": "overlay",
              "size": 10,
              "solidity": 0.2
             }
            },
            "type": "barpolar"
           }
          ],
          "carpet": [
           {
            "aaxis": {
             "endlinecolor": "#2a3f5f",
             "gridcolor": "white",
             "linecolor": "white",
             "minorgridcolor": "white",
             "startlinecolor": "#2a3f5f"
            },
            "baxis": {
             "endlinecolor": "#2a3f5f",
             "gridcolor": "white",
             "linecolor": "white",
             "minorgridcolor": "white",
             "startlinecolor": "#2a3f5f"
            },
            "type": "carpet"
           }
          ],
          "choropleth": [
           {
            "colorbar": {
             "outlinewidth": 0,
             "ticks": ""
            },
            "type": "choropleth"
           }
          ],
          "contour": [
           {
            "colorbar": {
             "outlinewidth": 0,
             "ticks": ""
            },
            "colorscale": [
             [
              0,
              "#0d0887"
             ],
             [
              0.1111111111111111,
              "#46039f"
             ],
             [
              0.2222222222222222,
              "#7201a8"
             ],
             [
              0.3333333333333333,
              "#9c179e"
             ],
             [
              0.4444444444444444,
              "#bd3786"
             ],
             [
              0.5555555555555556,
              "#d8576b"
             ],
             [
              0.6666666666666666,
              "#ed7953"
             ],
             [
              0.7777777777777778,
              "#fb9f3a"
             ],
             [
              0.8888888888888888,
              "#fdca26"
             ],
             [
              1,
              "#f0f921"
             ]
            ],
            "type": "contour"
           }
          ],
          "contourcarpet": [
           {
            "colorbar": {
             "outlinewidth": 0,
             "ticks": ""
            },
            "type": "contourcarpet"
           }
          ],
          "heatmap": [
           {
            "colorbar": {
             "outlinewidth": 0,
             "ticks": ""
            },
            "colorscale": [
             [
              0,
              "#0d0887"
             ],
             [
              0.1111111111111111,
              "#46039f"
             ],
             [
              0.2222222222222222,
              "#7201a8"
             ],
             [
              0.3333333333333333,
              "#9c179e"
             ],
             [
              0.4444444444444444,
              "#bd3786"
             ],
             [
              0.5555555555555556,
              "#d8576b"
             ],
             [
              0.6666666666666666,
              "#ed7953"
             ],
             [
              0.7777777777777778,
              "#fb9f3a"
             ],
             [
              0.8888888888888888,
              "#fdca26"
             ],
             [
              1,
              "#f0f921"
             ]
            ],
            "type": "heatmap"
           }
          ],
          "heatmapgl": [
           {
            "colorbar": {
             "outlinewidth": 0,
             "ticks": ""
            },
            "colorscale": [
             [
              0,
              "#0d0887"
             ],
             [
              0.1111111111111111,
              "#46039f"
             ],
             [
              0.2222222222222222,
              "#7201a8"
             ],
             [
              0.3333333333333333,
              "#9c179e"
             ],
             [
              0.4444444444444444,
              "#bd3786"
             ],
             [
              0.5555555555555556,
              "#d8576b"
             ],
             [
              0.6666666666666666,
              "#ed7953"
             ],
             [
              0.7777777777777778,
              "#fb9f3a"
             ],
             [
              0.8888888888888888,
              "#fdca26"
             ],
             [
              1,
              "#f0f921"
             ]
            ],
            "type": "heatmapgl"
           }
          ],
          "histogram": [
           {
            "marker": {
             "pattern": {
              "fillmode": "overlay",
              "size": 10,
              "solidity": 0.2
             }
            },
            "type": "histogram"
           }
          ],
          "histogram2d": [
           {
            "colorbar": {
             "outlinewidth": 0,
             "ticks": ""
            },
            "colorscale": [
             [
              0,
              "#0d0887"
             ],
             [
              0.1111111111111111,
              "#46039f"
             ],
             [
              0.2222222222222222,
              "#7201a8"
             ],
             [
              0.3333333333333333,
              "#9c179e"
             ],
             [
              0.4444444444444444,
              "#bd3786"
             ],
             [
              0.5555555555555556,
              "#d8576b"
             ],
             [
              0.6666666666666666,
              "#ed7953"
             ],
             [
              0.7777777777777778,
              "#fb9f3a"
             ],
             [
              0.8888888888888888,
              "#fdca26"
             ],
             [
              1,
              "#f0f921"
             ]
            ],
            "type": "histogram2d"
           }
          ],
          "histogram2dcontour": [
           {
            "colorbar": {
             "outlinewidth": 0,
             "ticks": ""
            },
            "colorscale": [
             [
              0,
              "#0d0887"
             ],
             [
              0.1111111111111111,
              "#46039f"
             ],
             [
              0.2222222222222222,
              "#7201a8"
             ],
             [
              0.3333333333333333,
              "#9c179e"
             ],
             [
              0.4444444444444444,
              "#bd3786"
             ],
             [
              0.5555555555555556,
              "#d8576b"
             ],
             [
              0.6666666666666666,
              "#ed7953"
             ],
             [
              0.7777777777777778,
              "#fb9f3a"
             ],
             [
              0.8888888888888888,
              "#fdca26"
             ],
             [
              1,
              "#f0f921"
             ]
            ],
            "type": "histogram2dcontour"
           }
          ],
          "mesh3d": [
           {
            "colorbar": {
             "outlinewidth": 0,
             "ticks": ""
            },
            "type": "mesh3d"
           }
          ],
          "parcoords": [
           {
            "line": {
             "colorbar": {
              "outlinewidth": 0,
              "ticks": ""
             }
            },
            "type": "parcoords"
           }
          ],
          "pie": [
           {
            "automargin": true,
            "type": "pie"
           }
          ],
          "scatter": [
           {
            "fillpattern": {
             "fillmode": "overlay",
             "size": 10,
             "solidity": 0.2
            },
            "type": "scatter"
           }
          ],
          "scatter3d": [
           {
            "line": {
             "colorbar": {
              "outlinewidth": 0,
              "ticks": ""
             }
            },
            "marker": {
             "colorbar": {
              "outlinewidth": 0,
              "ticks": ""
             }
            },
            "type": "scatter3d"
           }
          ],
          "scattercarpet": [
           {
            "marker": {
             "colorbar": {
              "outlinewidth": 0,
              "ticks": ""
             }
            },
            "type": "scattercarpet"
           }
          ],
          "scattergeo": [
           {
            "marker": {
             "colorbar": {
              "outlinewidth": 0,
              "ticks": ""
             }
            },
            "type": "scattergeo"
           }
          ],
          "scattergl": [
           {
            "marker": {
             "colorbar": {
              "outlinewidth": 0,
              "ticks": ""
             }
            },
            "type": "scattergl"
           }
          ],
          "scattermapbox": [
           {
            "marker": {
             "colorbar": {
              "outlinewidth": 0,
              "ticks": ""
             }
            },
            "type": "scattermapbox"
           }
          ],
          "scatterpolar": [
           {
            "marker": {
             "colorbar": {
              "outlinewidth": 0,
              "ticks": ""
             }
            },
            "type": "scatterpolar"
           }
          ],
          "scatterpolargl": [
           {
            "marker": {
             "colorbar": {
              "outlinewidth": 0,
              "ticks": ""
             }
            },
            "type": "scatterpolargl"
           }
          ],
          "scatterternary": [
           {
            "marker": {
             "colorbar": {
              "outlinewidth": 0,
              "ticks": ""
             }
            },
            "type": "scatterternary"
           }
          ],
          "surface": [
           {
            "colorbar": {
             "outlinewidth": 0,
             "ticks": ""
            },
            "colorscale": [
             [
              0,
              "#0d0887"
             ],
             [
              0.1111111111111111,
              "#46039f"
             ],
             [
              0.2222222222222222,
              "#7201a8"
             ],
             [
              0.3333333333333333,
              "#9c179e"
             ],
             [
              0.4444444444444444,
              "#bd3786"
             ],
             [
              0.5555555555555556,
              "#d8576b"
             ],
             [
              0.6666666666666666,
              "#ed7953"
             ],
             [
              0.7777777777777778,
              "#fb9f3a"
             ],
             [
              0.8888888888888888,
              "#fdca26"
             ],
             [
              1,
              "#f0f921"
             ]
            ],
            "type": "surface"
           }
          ],
          "table": [
           {
            "cells": {
             "fill": {
              "color": "#EBF0F8"
             },
             "line": {
              "color": "white"
             }
            },
            "header": {
             "fill": {
              "color": "#C8D4E3"
             },
             "line": {
              "color": "white"
             }
            },
            "type": "table"
           }
          ]
         },
         "layout": {
          "annotationdefaults": {
           "arrowcolor": "#2a3f5f",
           "arrowhead": 0,
           "arrowwidth": 1
          },
          "autotypenumbers": "strict",
          "coloraxis": {
           "colorbar": {
            "outlinewidth": 0,
            "ticks": ""
           }
          },
          "colorscale": {
           "diverging": [
            [
             0,
             "#8e0152"
            ],
            [
             0.1,
             "#c51b7d"
            ],
            [
             0.2,
             "#de77ae"
            ],
            [
             0.3,
             "#f1b6da"
            ],
            [
             0.4,
             "#fde0ef"
            ],
            [
             0.5,
             "#f7f7f7"
            ],
            [
             0.6,
             "#e6f5d0"
            ],
            [
             0.7,
             "#b8e186"
            ],
            [
             0.8,
             "#7fbc41"
            ],
            [
             0.9,
             "#4d9221"
            ],
            [
             1,
             "#276419"
            ]
           ],
           "sequential": [
            [
             0,
             "#0d0887"
            ],
            [
             0.1111111111111111,
             "#46039f"
            ],
            [
             0.2222222222222222,
             "#7201a8"
            ],
            [
             0.3333333333333333,
             "#9c179e"
            ],
            [
             0.4444444444444444,
             "#bd3786"
            ],
            [
             0.5555555555555556,
             "#d8576b"
            ],
            [
             0.6666666666666666,
             "#ed7953"
            ],
            [
             0.7777777777777778,
             "#fb9f3a"
            ],
            [
             0.8888888888888888,
             "#fdca26"
            ],
            [
             1,
             "#f0f921"
            ]
           ],
           "sequentialminus": [
            [
             0,
             "#0d0887"
            ],
            [
             0.1111111111111111,
             "#46039f"
            ],
            [
             0.2222222222222222,
             "#7201a8"
            ],
            [
             0.3333333333333333,
             "#9c179e"
            ],
            [
             0.4444444444444444,
             "#bd3786"
            ],
            [
             0.5555555555555556,
             "#d8576b"
            ],
            [
             0.6666666666666666,
             "#ed7953"
            ],
            [
             0.7777777777777778,
             "#fb9f3a"
            ],
            [
             0.8888888888888888,
             "#fdca26"
            ],
            [
             1,
             "#f0f921"
            ]
           ]
          },
          "colorway": [
           "#636efa",
           "#EF553B",
           "#00cc96",
           "#ab63fa",
           "#FFA15A",
           "#19d3f3",
           "#FF6692",
           "#B6E880",
           "#FF97FF",
           "#FECB52"
          ],
          "font": {
           "color": "#2a3f5f"
          },
          "geo": {
           "bgcolor": "white",
           "lakecolor": "white",
           "landcolor": "#E5ECF6",
           "showlakes": true,
           "showland": true,
           "subunitcolor": "white"
          },
          "hoverlabel": {
           "align": "left"
          },
          "hovermode": "closest",
          "mapbox": {
           "style": "light"
          },
          "paper_bgcolor": "white",
          "plot_bgcolor": "#E5ECF6",
          "polar": {
           "angularaxis": {
            "gridcolor": "white",
            "linecolor": "white",
            "ticks": ""
           },
           "bgcolor": "#E5ECF6",
           "radialaxis": {
            "gridcolor": "white",
            "linecolor": "white",
            "ticks": ""
           }
          },
          "scene": {
           "xaxis": {
            "backgroundcolor": "#E5ECF6",
            "gridcolor": "white",
            "gridwidth": 2,
            "linecolor": "white",
            "showbackground": true,
            "ticks": "",
            "zerolinecolor": "white"
           },
           "yaxis": {
            "backgroundcolor": "#E5ECF6",
            "gridcolor": "white",
            "gridwidth": 2,
            "linecolor": "white",
            "showbackground": true,
            "ticks": "",
            "zerolinecolor": "white"
           },
           "zaxis": {
            "backgroundcolor": "#E5ECF6",
            "gridcolor": "white",
            "gridwidth": 2,
            "linecolor": "white",
            "showbackground": true,
            "ticks": "",
            "zerolinecolor": "white"
           }
          },
          "shapedefaults": {
           "line": {
            "color": "#2a3f5f"
           }
          },
          "ternary": {
           "aaxis": {
            "gridcolor": "white",
            "linecolor": "white",
            "ticks": ""
           },
           "baxis": {
            "gridcolor": "white",
            "linecolor": "white",
            "ticks": ""
           },
           "bgcolor": "#E5ECF6",
           "caxis": {
            "gridcolor": "white",
            "linecolor": "white",
            "ticks": ""
           }
          },
          "title": {
           "x": 0.05
          },
          "xaxis": {
           "automargin": true,
           "gridcolor": "white",
           "linecolor": "white",
           "ticks": "",
           "title": {
            "standoff": 15
           },
           "zerolinecolor": "white",
           "zerolinewidth": 2
          },
          "yaxis": {
           "automargin": true,
           "gridcolor": "white",
           "linecolor": "white",
           "ticks": "",
           "title": {
            "standoff": 15
           },
           "zerolinecolor": "white",
           "zerolinewidth": 2
          }
         }
        },
        "title": {
         "text": "Real vs. Synthetic Data for column amenities_fee"
        },
        "xaxis": {
         "anchor": "y2",
         "domain": [
          0,
          1
         ],
         "title": {
          "text": "Value"
         },
         "zeroline": false
        },
        "yaxis": {
         "anchor": "free",
         "domain": [
          0,
          1
         ],
         "position": 0,
         "title": {
          "text": "Frequency"
         }
        }
       }
      }
     },
     "metadata": {},
     "output_type": "display_data"
    },
    {
     "data": {
      "application/vnd.plotly.v1+json": {
       "config": {
        "plotlyServerURL": "https://plot.ly"
       },
       "data": [
        {
         "fill": "tozeroy",
         "hovertemplate": "<b>Real</b><br>Value: %{x}<br>Frequency: %{y}<extra></extra>",
         "legendgroup": "Real",
         "marker": {
          "color": "#000036"
         },
         "mode": "lines",
         "name": "Real",
         "showlegend": true,
         "type": "scatter",
         "x": [
          "2020-01-05T00:00:00",
          "2020-01-05T17:39:50.400000",
          "2020-01-06T11:19:40.800000",
          "2020-01-07T04:59:31.200000",
          "2020-01-07T22:39:21.600000",
          "2020-01-08T16:19:12",
          "2020-01-09T09:59:02.400000",
          "2020-01-10T03:38:52.800000",
          "2020-01-10T21:18:43.200000",
          "2020-01-11T14:58:33.600000",
          "2020-01-12T08:38:24",
          "2020-01-13T02:18:14.400000",
          "2020-01-13T19:58:04.800000",
          "2020-01-14T13:37:55.200000",
          "2020-01-15T07:17:45.600000",
          "2020-01-16T00:57:36",
          "2020-01-16T18:37:26.400000",
          "2020-01-17T12:17:16.800000",
          "2020-01-18T05:57:07.200000",
          "2020-01-18T23:36:57.600000",
          "2020-01-19T17:16:48",
          "2020-01-20T10:56:38.400000",
          "2020-01-21T04:36:28.800000",
          "2020-01-21T22:16:19.200000",
          "2020-01-22T15:56:09.600000",
          "2020-01-23T09:36:00",
          "2020-01-24T03:15:50.400000",
          "2020-01-24T20:55:40.800000",
          "2020-01-25T14:35:31.200000",
          "2020-01-26T08:15:21.600000",
          "2020-01-27T01:55:12",
          "2020-01-27T19:35:02.400000",
          "2020-01-28T13:14:52.800000",
          "2020-01-29T06:54:43.200000",
          "2020-01-30T00:34:33.600000",
          "2020-01-30T18:14:24",
          "2020-01-31T11:54:14.400000",
          "2020-02-01T05:34:04.800000",
          "2020-02-01T23:13:55.200000",
          "2020-02-02T16:53:45.600000",
          "2020-02-03T10:33:36",
          "2020-02-04T04:13:26.400000",
          "2020-02-04T21:53:16.800000",
          "2020-02-05T15:33:07.200000",
          "2020-02-06T09:12:57.600000",
          "2020-02-07T02:52:48",
          "2020-02-07T20:32:38.400000",
          "2020-02-08T14:12:28.800000",
          "2020-02-09T07:52:19.200000",
          "2020-02-10T01:32:09.600000",
          "2020-02-10T19:12:00",
          "2020-02-11T12:51:50.400000",
          "2020-02-12T06:31:40.800000",
          "2020-02-13T00:11:31.200000",
          "2020-02-13T17:51:21.600000",
          "2020-02-14T11:31:12",
          "2020-02-15T05:11:02.400000",
          "2020-02-15T22:50:52.800000",
          "2020-02-16T16:30:43.200000",
          "2020-02-17T10:10:33.600000",
          "2020-02-18T03:50:24",
          "2020-02-18T21:30:14.400000",
          "2020-02-19T15:10:04.800000",
          "2020-02-20T08:49:55.200000",
          "2020-02-21T02:29:45.600000",
          "2020-02-21T20:09:36",
          "2020-02-22T13:49:26.400000",
          "2020-02-23T07:29:16.800000",
          "2020-02-24T01:09:07.200000",
          "2020-02-24T18:48:57.600000",
          "2020-02-25T12:28:48",
          "2020-02-26T06:08:38.400000",
          "2020-02-26T23:48:28.800000",
          "2020-02-27T17:28:19.200000",
          "2020-02-28T11:08:09.600000",
          "2020-02-29T04:48:00",
          "2020-02-29T22:27:50.400000",
          "2020-03-01T16:07:40.800000",
          "2020-03-02T09:47:31.200000",
          "2020-03-03T03:27:21.600000",
          "2020-03-03T21:07:12",
          "2020-03-04T14:47:02.400000",
          "2020-03-05T08:26:52.800000",
          "2020-03-06T02:06:43.200000",
          "2020-03-06T19:46:33.600000",
          "2020-03-07T13:26:24",
          "2020-03-08T07:06:14.400000",
          "2020-03-09T00:46:04.800000",
          "2020-03-09T18:25:55.200000",
          "2020-03-10T12:05:45.600000",
          "2020-03-11T05:45:36",
          "2020-03-11T23:25:26.400000",
          "2020-03-12T17:05:16.800000",
          "2020-03-13T10:45:07.200000",
          "2020-03-14T04:24:57.600000",
          "2020-03-14T22:04:48",
          "2020-03-15T15:44:38.400000",
          "2020-03-16T09:24:28.800000",
          "2020-03-17T03:04:19.200000",
          "2020-03-17T20:44:09.600000",
          "2020-03-18T14:24:00",
          "2020-03-19T08:03:50.400000",
          "2020-03-20T01:43:40.800000",
          "2020-03-20T19:23:31.200000",
          "2020-03-21T13:03:21.600000",
          "2020-03-22T06:43:12",
          "2020-03-23T00:23:02.400000",
          "2020-03-23T18:02:52.800000",
          "2020-03-24T11:42:43.200000",
          "2020-03-25T05:22:33.600000",
          "2020-03-25T23:02:24",
          "2020-03-26T16:42:14.400000",
          "2020-03-27T10:22:04.800000",
          "2020-03-28T04:01:55.200000",
          "2020-03-28T21:41:45.600000",
          "2020-03-29T15:21:36",
          "2020-03-30T09:01:26.400000",
          "2020-03-31T02:41:16.800000",
          "2020-03-31T20:21:07.200000",
          "2020-04-01T14:00:57.600000",
          "2020-04-02T07:40:48",
          "2020-04-03T01:20:38.400000",
          "2020-04-03T19:00:28.800000",
          "2020-04-04T12:40:19.200000",
          "2020-04-05T06:20:09.600000",
          "2020-04-06T00:00:00",
          "2020-04-06T17:39:50.400000",
          "2020-04-07T11:19:40.800000",
          "2020-04-08T04:59:31.200000",
          "2020-04-08T22:39:21.600000",
          "2020-04-09T16:19:12",
          "2020-04-10T09:59:02.400000",
          "2020-04-11T03:38:52.800000",
          "2020-04-11T21:18:43.200000",
          "2020-04-12T14:58:33.600000",
          "2020-04-13T08:38:24",
          "2020-04-14T02:18:14.400000",
          "2020-04-14T19:58:04.800000",
          "2020-04-15T13:37:55.200000",
          "2020-04-16T07:17:45.600000",
          "2020-04-17T00:57:36",
          "2020-04-17T18:37:26.400000",
          "2020-04-18T12:17:16.800000",
          "2020-04-19T05:57:07.200000",
          "2020-04-19T23:36:57.600000",
          "2020-04-20T17:16:48",
          "2020-04-21T10:56:38.400000",
          "2020-04-22T04:36:28.800000",
          "2020-04-22T22:16:19.200000",
          "2020-04-23T15:56:09.600000",
          "2020-04-24T09:36:00",
          "2020-04-25T03:15:50.400000",
          "2020-04-25T20:55:40.800000",
          "2020-04-26T14:35:31.200000",
          "2020-04-27T08:15:21.600000",
          "2020-04-28T01:55:12",
          "2020-04-28T19:35:02.400000",
          "2020-04-29T13:14:52.800000",
          "2020-04-30T06:54:43.200000",
          "2020-05-01T00:34:33.600000",
          "2020-05-01T18:14:24",
          "2020-05-02T11:54:14.400000",
          "2020-05-03T05:34:04.800000",
          "2020-05-03T23:13:55.200000",
          "2020-05-04T16:53:45.600000",
          "2020-05-05T10:33:36",
          "2020-05-06T04:13:26.400000",
          "2020-05-06T21:53:16.800000",
          "2020-05-07T15:33:07.200000",
          "2020-05-08T09:12:57.600000",
          "2020-05-09T02:52:48",
          "2020-05-09T20:32:38.400000",
          "2020-05-10T14:12:28.800000",
          "2020-05-11T07:52:19.200000",
          "2020-05-12T01:32:09.600000",
          "2020-05-12T19:12:00",
          "2020-05-13T12:51:50.400000",
          "2020-05-14T06:31:40.800000",
          "2020-05-15T00:11:31.200000",
          "2020-05-15T17:51:21.600000",
          "2020-05-16T11:31:12",
          "2020-05-17T05:11:02.400000",
          "2020-05-17T22:50:52.800000",
          "2020-05-18T16:30:43.200000",
          "2020-05-19T10:10:33.600000",
          "2020-05-20T03:50:24",
          "2020-05-20T21:30:14.400000",
          "2020-05-21T15:10:04.800000",
          "2020-05-22T08:49:55.200000",
          "2020-05-23T02:29:45.600000",
          "2020-05-23T20:09:36",
          "2020-05-24T13:49:26.400000",
          "2020-05-25T07:29:16.800000",
          "2020-05-26T01:09:07.200000",
          "2020-05-26T18:48:57.600000",
          "2020-05-27T12:28:48",
          "2020-05-28T06:08:38.400000",
          "2020-05-28T23:48:28.800000",
          "2020-05-29T17:28:19.200000",
          "2020-05-30T11:08:09.600000",
          "2020-05-31T04:48:00",
          "2020-05-31T22:27:50.400000",
          "2020-06-01T16:07:40.800000",
          "2020-06-02T09:47:31.200000",
          "2020-06-03T03:27:21.600000",
          "2020-06-03T21:07:12",
          "2020-06-04T14:47:02.400000",
          "2020-06-05T08:26:52.800000",
          "2020-06-06T02:06:43.200000",
          "2020-06-06T19:46:33.600000",
          "2020-06-07T13:26:24",
          "2020-06-08T07:06:14.400000",
          "2020-06-09T00:46:04.800000",
          "2020-06-09T18:25:55.200000",
          "2020-06-10T12:05:45.600000",
          "2020-06-11T05:45:36",
          "2020-06-11T23:25:26.400000",
          "2020-06-12T17:05:16.800000",
          "2020-06-13T10:45:07.200000",
          "2020-06-14T04:24:57.600000",
          "2020-06-14T22:04:48",
          "2020-06-15T15:44:38.400000",
          "2020-06-16T09:24:28.800000",
          "2020-06-17T03:04:19.200000",
          "2020-06-17T20:44:09.600000",
          "2020-06-18T14:24:00",
          "2020-06-19T08:03:50.400000",
          "2020-06-20T01:43:40.800000",
          "2020-06-20T19:23:31.200000",
          "2020-06-21T13:03:21.600000",
          "2020-06-22T06:43:12",
          "2020-06-23T00:23:02.400000",
          "2020-06-23T18:02:52.800000",
          "2020-06-24T11:42:43.200000",
          "2020-06-25T05:22:33.600000",
          "2020-06-25T23:02:24",
          "2020-06-26T16:42:14.400000",
          "2020-06-27T10:22:04.800000",
          "2020-06-28T04:01:55.200000",
          "2020-06-28T21:41:45.600000",
          "2020-06-29T15:21:36",
          "2020-06-30T09:01:26.400000",
          "2020-07-01T02:41:16.800000",
          "2020-07-01T20:21:07.200000",
          "2020-07-02T14:00:57.600000",
          "2020-07-03T07:40:48",
          "2020-07-04T01:20:38.400000",
          "2020-07-04T19:00:28.800000",
          "2020-07-05T12:40:19.200000",
          "2020-07-06T06:20:09.600000",
          "2020-07-07T00:00:00",
          "2020-07-07T17:39:50.400000",
          "2020-07-08T11:19:40.800000",
          "2020-07-09T04:59:31.200000",
          "2020-07-09T22:39:21.600000",
          "2020-07-10T16:19:12",
          "2020-07-11T09:59:02.400000",
          "2020-07-12T03:38:52.800000",
          "2020-07-12T21:18:43.200000",
          "2020-07-13T14:58:33.600000",
          "2020-07-14T08:38:24",
          "2020-07-15T02:18:14.400000",
          "2020-07-15T19:58:04.800000",
          "2020-07-16T13:37:55.200000",
          "2020-07-17T07:17:45.600000",
          "2020-07-18T00:57:36",
          "2020-07-18T18:37:26.400000",
          "2020-07-19T12:17:16.800000",
          "2020-07-20T05:57:07.200000",
          "2020-07-20T23:36:57.600000",
          "2020-07-21T17:16:48",
          "2020-07-22T10:56:38.400000",
          "2020-07-23T04:36:28.800000",
          "2020-07-23T22:16:19.200000",
          "2020-07-24T15:56:09.600000",
          "2020-07-25T09:36:00",
          "2020-07-26T03:15:50.400000",
          "2020-07-26T20:55:40.800000",
          "2020-07-27T14:35:31.200000",
          "2020-07-28T08:15:21.600000",
          "2020-07-29T01:55:12",
          "2020-07-29T19:35:02.400000",
          "2020-07-30T13:14:52.800000",
          "2020-07-31T06:54:43.200000",
          "2020-08-01T00:34:33.600000",
          "2020-08-01T18:14:24",
          "2020-08-02T11:54:14.400000",
          "2020-08-03T05:34:04.800000",
          "2020-08-03T23:13:55.200000",
          "2020-08-04T16:53:45.600000",
          "2020-08-05T10:33:36",
          "2020-08-06T04:13:26.400000",
          "2020-08-06T21:53:16.800000",
          "2020-08-07T15:33:07.200000",
          "2020-08-08T09:12:57.600000",
          "2020-08-09T02:52:48",
          "2020-08-09T20:32:38.400000",
          "2020-08-10T14:12:28.800000",
          "2020-08-11T07:52:19.200000",
          "2020-08-12T01:32:09.600000",
          "2020-08-12T19:12:00",
          "2020-08-13T12:51:50.400000",
          "2020-08-14T06:31:40.800000",
          "2020-08-15T00:11:31.200000",
          "2020-08-15T17:51:21.600000",
          "2020-08-16T11:31:12",
          "2020-08-17T05:11:02.400000",
          "2020-08-17T22:50:52.800000",
          "2020-08-18T16:30:43.200000",
          "2020-08-19T10:10:33.600000",
          "2020-08-20T03:50:24",
          "2020-08-20T21:30:14.400000",
          "2020-08-21T15:10:04.800000",
          "2020-08-22T08:49:55.200000",
          "2020-08-23T02:29:45.600000",
          "2020-08-23T20:09:36",
          "2020-08-24T13:49:26.400000",
          "2020-08-25T07:29:16.800000",
          "2020-08-26T01:09:07.200000",
          "2020-08-26T18:48:57.600000",
          "2020-08-27T12:28:48",
          "2020-08-28T06:08:38.400000",
          "2020-08-28T23:48:28.800000",
          "2020-08-29T17:28:19.200000",
          "2020-08-30T11:08:09.600000",
          "2020-08-31T04:48:00",
          "2020-08-31T22:27:50.400000",
          "2020-09-01T16:07:40.800000",
          "2020-09-02T09:47:31.200000",
          "2020-09-03T03:27:21.600000",
          "2020-09-03T21:07:12",
          "2020-09-04T14:47:02.400000",
          "2020-09-05T08:26:52.800000",
          "2020-09-06T02:06:43.200000",
          "2020-09-06T19:46:33.600000",
          "2020-09-07T13:26:24",
          "2020-09-08T07:06:14.400000",
          "2020-09-09T00:46:04.800000",
          "2020-09-09T18:25:55.200000",
          "2020-09-10T12:05:45.600000",
          "2020-09-11T05:45:36",
          "2020-09-11T23:25:26.400000",
          "2020-09-12T17:05:16.800000",
          "2020-09-13T10:45:07.200000",
          "2020-09-14T04:24:57.600000",
          "2020-09-14T22:04:48",
          "2020-09-15T15:44:38.400000",
          "2020-09-16T09:24:28.800000",
          "2020-09-17T03:04:19.200000",
          "2020-09-17T20:44:09.600000",
          "2020-09-18T14:24:00",
          "2020-09-19T08:03:50.400000",
          "2020-09-20T01:43:40.800000",
          "2020-09-20T19:23:31.200000",
          "2020-09-21T13:03:21.600000",
          "2020-09-22T06:43:12",
          "2020-09-23T00:23:02.400000",
          "2020-09-23T18:02:52.800000",
          "2020-09-24T11:42:43.200000",
          "2020-09-25T05:22:33.600000",
          "2020-09-25T23:02:24",
          "2020-09-26T16:42:14.400000",
          "2020-09-27T10:22:04.800000",
          "2020-09-28T04:01:55.200000",
          "2020-09-28T21:41:45.600000",
          "2020-09-29T15:21:36",
          "2020-09-30T09:01:26.400000",
          "2020-10-01T02:41:16.800000",
          "2020-10-01T20:21:07.200000",
          "2020-10-02T14:00:57.600000",
          "2020-10-03T07:40:48",
          "2020-10-04T01:20:38.400000",
          "2020-10-04T19:00:28.800000",
          "2020-10-05T12:40:19.200000",
          "2020-10-06T06:20:09.600000",
          "2020-10-07T00:00:00",
          "2020-10-07T17:39:50.400000",
          "2020-10-08T11:19:40.800000",
          "2020-10-09T04:59:31.200000",
          "2020-10-09T22:39:21.600000",
          "2020-10-10T16:19:12",
          "2020-10-11T09:59:02.400000",
          "2020-10-12T03:38:52.800000",
          "2020-10-12T21:18:43.200000",
          "2020-10-13T14:58:33.600000",
          "2020-10-14T08:38:24",
          "2020-10-15T02:18:14.400000",
          "2020-10-15T19:58:04.800000",
          "2020-10-16T13:37:55.200000",
          "2020-10-17T07:17:45.600000",
          "2020-10-18T00:57:36",
          "2020-10-18T18:37:26.400000",
          "2020-10-19T12:17:16.800000",
          "2020-10-20T05:57:07.200000",
          "2020-10-20T23:36:57.600000",
          "2020-10-21T17:16:48",
          "2020-10-22T10:56:38.400000",
          "2020-10-23T04:36:28.800000",
          "2020-10-23T22:16:19.200000",
          "2020-10-24T15:56:09.600000",
          "2020-10-25T09:36:00",
          "2020-10-26T03:15:50.400000",
          "2020-10-26T20:55:40.800000",
          "2020-10-27T14:35:31.200000",
          "2020-10-28T08:15:21.600000",
          "2020-10-29T01:55:12",
          "2020-10-29T19:35:02.400000",
          "2020-10-30T13:14:52.800000",
          "2020-10-31T06:54:43.200000",
          "2020-11-01T00:34:33.600000",
          "2020-11-01T18:14:24",
          "2020-11-02T11:54:14.400000",
          "2020-11-03T05:34:04.800000",
          "2020-11-03T23:13:55.200000",
          "2020-11-04T16:53:45.600000",
          "2020-11-05T10:33:36",
          "2020-11-06T04:13:26.400000",
          "2020-11-06T21:53:16.800000",
          "2020-11-07T15:33:07.200000",
          "2020-11-08T09:12:57.600000",
          "2020-11-09T02:52:48",
          "2020-11-09T20:32:38.400000",
          "2020-11-10T14:12:28.800000",
          "2020-11-11T07:52:19.200000",
          "2020-11-12T01:32:09.600000",
          "2020-11-12T19:12:00",
          "2020-11-13T12:51:50.400000",
          "2020-11-14T06:31:40.800000",
          "2020-11-15T00:11:31.200000",
          "2020-11-15T17:51:21.600000",
          "2020-11-16T11:31:12",
          "2020-11-17T05:11:02.400000",
          "2020-11-17T22:50:52.800000",
          "2020-11-18T16:30:43.200000",
          "2020-11-19T10:10:33.600000",
          "2020-11-20T03:50:24",
          "2020-11-20T21:30:14.400000",
          "2020-11-21T15:10:04.800000",
          "2020-11-22T08:49:55.200000",
          "2020-11-23T02:29:45.600000",
          "2020-11-23T20:09:36",
          "2020-11-24T13:49:26.400000",
          "2020-11-25T07:29:16.800000",
          "2020-11-26T01:09:07.200000",
          "2020-11-26T18:48:57.600000",
          "2020-11-27T12:28:48",
          "2020-11-28T06:08:38.400000",
          "2020-11-28T23:48:28.800000",
          "2020-11-29T17:28:19.200000",
          "2020-11-30T11:08:09.600000",
          "2020-12-01T04:48:00",
          "2020-12-01T22:27:50.400000",
          "2020-12-02T16:07:40.800000",
          "2020-12-03T09:47:31.200000",
          "2020-12-04T03:27:21.600000",
          "2020-12-04T21:07:12",
          "2020-12-05T14:47:02.400000",
          "2020-12-06T08:26:52.800000",
          "2020-12-07T02:06:43.200000",
          "2020-12-07T19:46:33.600000",
          "2020-12-08T13:26:24",
          "2020-12-09T07:06:14.400000",
          "2020-12-10T00:46:04.800000",
          "2020-12-10T18:25:55.200000",
          "2020-12-11T12:05:45.600000",
          "2020-12-12T05:45:36",
          "2020-12-12T23:25:26.400000",
          "2020-12-13T17:05:16.800000",
          "2020-12-14T10:45:07.200000",
          "2020-12-15T04:24:57.600000",
          "2020-12-15T22:04:48",
          "2020-12-16T15:44:38.400000",
          "2020-12-17T09:24:28.800000",
          "2020-12-18T03:04:19.200000",
          "2020-12-18T20:44:09.600000",
          "2020-12-19T14:24:00",
          "2020-12-20T08:03:50.400000",
          "2020-12-21T01:43:40.800000",
          "2020-12-21T19:23:31.200000",
          "2020-12-22T13:03:21.600000",
          "2020-12-23T06:43:12",
          "2020-12-24T00:23:02.400000",
          "2020-12-24T18:02:52.800000",
          "2020-12-25T11:42:43.200000",
          "2020-12-26T05:22:33.600000",
          "2020-12-26T23:02:24",
          "2020-12-27T16:42:14.400000",
          "2020-12-28T10:22:04.800000",
          "2020-12-29T04:01:55.200000",
          "2020-12-29T21:41:45.600000",
          "2020-12-30T15:21:36",
          "2020-12-31T09:01:26.400000",
          "2021-01-01T02:41:16.800000",
          "2021-01-01T20:21:07.200000",
          "2021-01-02T14:00:57.600000",
          "2021-01-03T07:40:48",
          "2021-01-04T01:20:38.400000",
          "2021-01-04T19:00:28.800000",
          "2021-01-05T12:40:19.200000",
          "2021-01-06T06:20:09.600000"
         ],
         "xaxis": "x",
         "y": [
          1.5251630571962152e-17,
          1.5529862518374555e-17,
          1.5807399573736684e-17,
          1.6084075528733184e-17,
          1.6359725528927274e-17,
          1.6634186363996903e-17,
          1.690729675201794e-17,
          1.7178897617984753e-17,
          1.7448832365701154e-17,
          1.7716947142285235e-17,
          1.7983091094489886e-17,
          1.8247116616122862e-17,
          1.8508879585886395e-17,
          1.8768239594954414e-17,
          1.9025060163720285e-17,
          1.927920894711397e-17,
          1.953055792801748e-17,
          1.9778983598277947e-17,
          2.0024367126947653e-17,
          2.026659451536613e-17,
          2.0505556738796026e-17,
          2.0741149874380404e-17,
          2.0973275215204584e-17,
          2.1201839370366382e-17,
          2.1426754350943267e-17,
          2.164793764187244e-17,
          2.186531225975222e-17,
          2.2078806796666844e-17,
          2.2288355450188828e-17,
          2.2493898039729055e-17,
          2.2695380009511756e-17,
          2.2892752418435845e-17,
          2.3085971917194097e-17,
          2.327500071300149e-17,
          2.3459806522385786e-17,
          2.3640362512477866e-17,
          2.3816647231307792e-17,
          2.3988644527642142e-17,
          2.415634346089789e-17,
          2.431973820173964e-17,
          2.4478827923937034e-17,
          2.463361668812826e-17,
          2.478411331810515e-17,
          2.4930331270274953e-17,
          2.507228849696014e-17,
          2.5210007304176305e-17,
          2.5343514204569327e-17,
          2.5472839766146244e-17,
          2.559801845747089e-17,
          2.5719088489945528e-17,
          2.5836091657826367e-17,
          2.594907317657164e-17,
          2.6058081520124727e-17,
          2.6163168257713416e-17,
          2.6264387890704585e-17,
          2.636179769005902e-17,
          2.645545753487153e-17,
          2.6545429752484045e-17,
          2.6631778960602524e-17,
          2.671457191183389e-17,
          2.6793877341025057e-17,
          2.6869765815740054e-17,
          2.6942309590198263e-17,
          2.7011582462938294e-17,
          2.7077659638462514e-17,
          2.7140617593057735e-17,
          2.7200533944977227e-17,
          2.725748732911447e-17,
          2.731155727627979e-17,
          2.7362824097155947e-17,
          2.741136877096903e-17,
          2.7457272838895568e-17,
          2.7500618302182368e-17,
          2.7541487524941838e-17,
          2.7579963141548592e-17,
          2.7616127968546363e-17,
          2.7650064920950607e-17,
          2.768185693280637e-17,
          2.7711586881852153e-17,
          2.7739337518112368e-17,
          2.776519139623802e-17,
          2.7789230811391877e-17,
          2.7811537738473363e-17,
          2.7832193774461905e-17,
          2.7851280083656865e-17,
          2.7868877345584683e-17,
          2.7885065705340864e-17,
          2.789992472613727e-17,
          2.7913533343820843e-17,
          2.792596982313836e-17,
          2.7937311715521896e-17,
          2.794763581817825e-17,
          2.7957018134273365e-17,
          2.7965533834008914e-17,
          2.797325721640246e-17,
          2.798026167159033e-17,
          2.798661964348793e-17,
          2.799240259265239e-17,
          2.799768095920967e-17,
          2.8002524125721366e-17,
          2.800700037988213e-17,
          2.801117687695526e-17,
          2.801511960186927e-17,
          2.801889333091643e-17,
          2.8022561593008997e-17,
          2.802618663046693e-17,
          2.802982935932768e-17,
          2.8033549329183586e-17,
          2.803740468257086e-17,
          2.804145211394785e-17,
          2.80457468283173e-17,
          2.8050342499561653e-17,
          2.8055291228574726e-17,
          2.806064350128653e-17,
          2.806644814669185e-17,
          2.807275229500488e-17,
          2.8079601336072634e-17,
          2.8087038878192684e-17,
          2.8095106707487405e-17,
          2.810384474799848e-17,
          2.8113291022670213e-17,
          2.8123481615398797e-17,
          2.813445063433008e-17,
          2.81462301765909e-17,
          2.8158850294645066e-17,
          2.817233896446595e-17,
          2.818672205571868e-17,
          2.820202330414512e-17,
          2.821826428634564e-17,
          2.8235464397145687e-17,
          2.825364082973548e-17,
          2.827280855876639e-17,
          2.8292980326578905e-17,
          2.831416663273584e-17,
          2.8336375727021736e-17,
          2.8359613606065267e-17,
          2.8383884013728356e-17,
          2.840918844539863e-17,
          2.8435526156306815e-17,
          2.846289417398154e-17,
          2.84912873149403e-17,
          2.852069820569809e-17,
          2.855111730816689e-17,
          2.858253294949641e-17,
          2.861493135639797e-17,
          2.864829669396943e-17,
          2.868261110902772e-17,
          2.871785477793612e-17,
          2.875400595889262e-17,
          2.8791041048633787e-17,
          2.8828934643481536e-17,
          2.886765960465133e-17,
          2.8907187127711535e-17,
          2.894748681607488e-17,
          2.8988526758375085e-17,
          2.903027360957028e-17,
          2.907269267559538e-17,
          2.9115748001362546e-17,
          2.9159402461901974e-17,
          2.920361785640614e-17,
          2.924835500493839e-17,
          2.9293573847538116e-17,
          2.933923354545077e-17,
          2.938529258419469e-17,
          2.9431708878159605e-17,
          2.9478439876431026e-17,
          2.952544266951201e-17,
          2.9572674096619576e-17,
          2.9620090853210745e-17,
          2.966764959840306e-17,
          2.97153070619368e-17,
          2.976302015033111e-17,
          2.98107460518871e-17,
          2.985844234018192e-17,
          2.990606707571366e-17,
          2.995357890534709e-17,
          3.0000937159230564e-17,
          3.0048101944847716e-17,
          3.009503423788749e-17,
          3.0141695969624355e-17,
          3.0188050110507466e-17,
          3.0234060749682673e-17,
          3.027969317017414e-17,
          3.032491391948372e-17,
          3.0369690875370167e-17,
          3.0413993306605166e-17,
          3.0457791928511045e-17,
          3.05010589531167e-17,
          3.0543768133790035e-17,
          3.058589480422301e-17,
          3.0627415911682315e-17,
          3.066831004445158e-17,
          3.070855745342856e-17,
          3.0748140067859173e-17,
          3.078704150521971e-17,
          3.082524707528993e-17,
          3.086274377847594e-17,
          3.089952029847962e-17,
          3.093556698942856e-17,
          3.097087585761149e-17,
          3.1005440537983224e-17,
          3.1039256265633774e-17,
          3.107231984243082e-17,
          3.110462959907178e-17,
          3.113618535280116e-17,
          3.116698836106177e-17,
          3.1197041271374325e-17,
          3.122634806774533e-17,
          3.125491401392526e-17,
          3.128274559384345e-17,
          3.1309850449558696e-17,
          3.133623731707413e-17,
          3.136191596036413e-17,
          3.138689710397117e-17,
          3.141119236452445e-17,
          3.143481418153953e-17,
          3.145777574784518e-17,
          3.148009093998654e-17,
          3.15017742489427e-17,
          3.1522840711485075e-17,
          3.154330584249789e-17,
          3.1563185568561354e-17,
          3.158249616309003e-17,
          3.1601254183295196e-17,
          3.161947640922907e-17,
          3.163717978514262e-17,
          3.165438136337125e-17,
          3.167109825094083e-17,
          3.1687347559060253e-17,
          3.1703146355646684e-17,
          3.171851162100246e-17,
          3.1733460206738755e-17,
          3.174800879801558e-17,
          3.176217387914134e-17,
          3.177597170255333e-17,
          3.1789418261168875e-17,
          3.180252926408038e-17,
          3.181532011553561e-17,
          3.182780589712783e-17,
          3.1840001353092506e-17,
          3.185192087859089e-17,
          3.186357851083615e-17,
          3.187498792290278e-17,
          3.1886162420040954e-17,
          3.189711493830108e-17,
          3.1907858045262927e-17,
          3.191840394264719e-17,
          3.1928764470582346e-17,
          3.193895111328612e-17,
          3.1948975005918497e-17,
          3.195884694235784e-17,
          3.196857738364767e-17,
          3.1978176466865276e-17,
          3.1987654014160656e-17,
          3.199701954172254e-17,
          3.2006282268431045e-17,
          3.201545112396576e-17,
          3.202453475614809e-17,
          3.203354153730632e-17,
          3.2042479569468e-17,
          3.205135668819579e-17,
          3.2060180464901834e-17,
          3.2068958207491776e-17,
          3.207769695920906e-17,
          3.2086403495569674e-17,
          3.209508431929883e-17,
          3.2103745653202083e-17,
          3.211239343092665e-17,
          3.212103328559013e-17,
          3.2129670536277715e-17,
          3.213831017243235e-17,
          3.2146956836184255e-17,
          3.215561480269042e-17,
          3.21642879585768e-17,
          3.217297977859697e-17,
          3.218169330064509e-17,
          3.2190431099276915e-17,
          3.21991952579187e-17,
          3.2207987339954595e-17,
          3.221680835890767e-17,
          3.222565874793998e-17,
          3.22345383289151e-17,
          3.2243446281276896e-17,
          3.2252381111011783e-17,
          3.2261340619968915e-17,
          3.2270321875821194e-17,
          3.227932118295763e-17,
          3.2288334054597143e-17,
          3.22973551864204e-17,
          3.230637843201338e-17,
          3.2315396780414176e-17,
          3.232440233605327e-17,
          3.233338630136788e-17,
          3.23423389623654e-17,
          3.235124967740103e-17,
          3.236010686942178e-17,
          3.236889802191682e-17,
          3.2377609678797774e-17,
          3.2386227448417774e-17,
          3.2394736011916804e-17,
          3.2403119136063387e-17,
          3.2411359690740746e-17,
          3.2419439671202825e-17,
          3.2427340225201696e-17,
          3.2435041685064834e-17,
          3.2442523604773134e-17,
          3.244976480206597e-17,
          3.2456743405572016e-17,
          3.24634369069371e-17,
          3.2469822217893604e-17,
          3.2475875732186373e-17,
          3.248157339224436e-17,
          3.248689076045757e-17,
          3.2491803094891584e-17,
          3.249628542924664e-17,
          3.250031265683739e-17,
          3.2503859618348853e-17,
          3.250690119309339e-17,
          3.250941239347311e-17,
          3.251136846232614e-17,
          3.2512744972814845e-17,
          3.251351793049212e-17,
          3.2513663877161466e-17,
          3.251315999613129e-17,
          3.2511984218443494e-17,
          3.251011532964498e-17,
          3.2507533076655175e-17,
          3.2504218274272627e-17,
          3.250015291085427e-17,
          3.249532025269262e-17,
          3.248970494661149e-17,
          3.2483293120297124e-17,
          3.2476072479880415e-17,
          3.2468032404286555e-17,
          3.245916403587117e-17,
          3.244946036686709e-17,
          3.2438916321173996e-17,
          3.2427528831029603e-17,
          3.2415296908117664e-17,
          3.2402221708673967e-17,
          3.238830659217558e-17,
          3.237355717320873e-17,
          3.2357981366134343e-17,
          3.234158942219065e-17,
          3.2324393958693934e-17,
          3.2306409980026665e-17,
          3.2287654890123256e-17,
          3.226814849619897e-17,
          3.224791300348959e-17,
          3.222697300080643e-17,
          3.220535543673877e-17,
          3.2183089586371734e-17,
          3.2160207008421476e-17,
          3.213674149272203e-17,
          3.2112728998038627e-17,
          3.208820758021254e-17,
          3.2063217310685737e-17,
          3.2037800185484496e-17,
          3.201200002478335e-17,
          3.1985862363204126e-17,
          3.195943433104382e-17,
          3.1932764526662173e-17,
          3.190590288029221e-17,
          3.18789005095796e-17,
          3.185180956718187e-17,
          3.1824683080803106e-17,
          3.179757478606206e-17,
          3.177053895263216e-17,
          3.174363020411573e-17,
          3.1716903332146224e-17,
          3.169041310524037e-17,
          3.166421407294379e-17,
          3.163836036584258e-17,
          3.1612905492029074e-17,
          3.158790213063566e-17,
          3.15634019230614e-17,
          3.1539455262538496e-17,
          3.151611108269343e-17,
          3.1493416645768856e-17,
          3.1471417331185055e-17,
          3.145015642511893e-17,
          3.1429674911787943e-17,
          3.141001126712332e-17,
          3.13912012555173e-17,
          3.1373277730326683e-17,
          3.135627043880242e-17,
          3.1340205832116104e-17,
          3.1325106881132834e-17,
          3.131099289857428e-17,
          3.12978793681947e-17,
          3.128577778157943e-17,
          3.127469548315025e-17,
          3.126463552394463e-17,
          3.125559652470932e-17,
          3.124757254882296e-17,
          3.1240552985536895e-17,
          3.123452244399114e-17,
          3.1229460658435515e-17,
          3.1225342405050986e-17,
          3.122213743073502e-17,
          3.121981039418009e-17,
          3.121832081953919e-17,
          3.1217623062936875e-17,
          3.1217666292047346e-17,
          3.121839447892458e-17,
          3.121974640623092e-17,
          3.122165568697636e-17,
          3.122405079783721e-17,
          3.122685512609175e-17,
          3.1229987030167967e-17,
          3.1233359913764416e-17,
          3.123688231346606e-17,
          3.1240457999743964e-17,
          3.1243986091187293e-17,
          3.124736118178704e-17,
          3.12504734810517e-17,
          3.1253208966704914e-17,
          3.1255449549682365e-17,
          3.125707325111313e-17,
          3.1257954390942084e-17,
          3.125796378782081e-17,
          3.125696896986523e-17,
          3.125483439585444e-17,
          3.125142168641862e-17,
          3.1246589864739247e-17,
          3.1240195606265816e-17,
          3.1232093496927194e-17,
          3.12221362993008e-17,
          3.121017522618085e-17,
          3.1196060220972593e-17,
          3.1179640244320914e-17,
          3.1160763566369287e-17,
          3.113927806403231e-17,
          3.1115031522649855e-17,
          3.1087871941385546e-17,
          3.1057647841716984e-17,
          3.102420857836301e-17,
          3.098740465198026e-17,
          3.0947088022961215e-17,
          3.090311242565797e-17,
          3.0855333682351263e-17,
          3.0803610016288135e-17,
          3.074780236310076e-17,
          3.0687774679930676e-17,
          3.062339425157015e-17,
          3.055453199294939e-17,
          3.048106274728584e-17,
          3.0402865579230636e-17,
          3.0319824062343824e-17,
          3.0231826560234926e-17,
          3.013876650072627e-17,
          3.004054264238389e-17,
          2.993705933279669e-17,
          2.982822675796881e-17,
          2.9713961182226545e-17,
          2.959418517804192e-17,
          2.946882784518512e-17,
          2.9337825018657044e-17,
          2.9201119464838186e-17,
          2.9058661065345595e-17,
          2.8910406988072104e-17,
          2.8756321844944554e-17,
          2.859637783591872e-17,
          2.843055487879293e-17,
          2.8258840724424505e-17,
          2.8081231056958007e-17,
          2.78977295787352e-17,
          2.7708348079537816e-17,
          2.7513106489903267e-17,
          2.7312032918229706e-17,
          2.710516367147305e-17,
          2.6892543259244068e-17,
          2.6674224381148848e-17,
          2.6450267897291696e-17,
          2.62207427818416e-17,
          2.59857260596708e-17,
          2.5745302726048142e-17,
          2.5499565649482205e-17,
          2.5248615457783025e-17,
          2.4992560407520103e-17,
          2.4731516237057478e-17,
          2.4465606003393526e-17,
          2.4194959903118706e-17,
          2.3919715077783532e-17,
          2.3640015404091562e-17,
          2.335601126929723e-17,
          2.3067859332306168e-17,
          2.2775722270972556e-17,
          2.2479768516131414e-17,
          2.21801719729925e-17,
          2.1877111730486928e-17,
          2.1570771759283434e-17,
          2.1261340599139147e-17,
          2.094901103637634e-17,
          2.0633979772218796e-17,
          2.0316447082835653e-17,
          1.9996616471916354e-17,
          1.9674694316627818e-17,
          1.9350889507881323e-17,
          1.9025413085771243e-17
         ],
         "yaxis": "y"
        },
        {
         "fill": "tozeroy",
         "hovertemplate": "<b>Synthetic</b><br>Value: %{x}<br>Frequency: %{y}<extra></extra>",
         "legendgroup": "Synthetic",
         "marker": {
          "color": "#01E0C9"
         },
         "mode": "lines",
         "name": "Synthetic",
         "showlegend": true,
         "type": "scatter",
         "x": [
          "2020-01-06T00:00:00",
          "2020-01-06T17:34:04.800000",
          "2020-01-07T11:08:09.600000",
          "2020-01-08T04:42:14.400000",
          "2020-01-08T22:16:19.200000",
          "2020-01-09T15:50:24",
          "2020-01-10T09:24:28.800000",
          "2020-01-11T02:58:33.600000",
          "2020-01-11T20:32:38.400000",
          "2020-01-12T14:06:43.200000",
          "2020-01-13T07:40:48",
          "2020-01-14T01:14:52.800000",
          "2020-01-14T18:48:57.600000",
          "2020-01-15T12:23:02.400000",
          "2020-01-16T05:57:07.200000",
          "2020-01-16T23:31:12",
          "2020-01-17T17:05:16.800000",
          "2020-01-18T10:39:21.600000",
          "2020-01-19T04:13:26.400000",
          "2020-01-19T21:47:31.200000",
          "2020-01-20T15:21:36",
          "2020-01-21T08:55:40.800000",
          "2020-01-22T02:29:45.600000",
          "2020-01-22T20:03:50.400000",
          "2020-01-23T13:37:55.200000",
          "2020-01-24T07:12:00",
          "2020-01-25T00:46:04.800000",
          "2020-01-25T18:20:09.600000",
          "2020-01-26T11:54:14.400000",
          "2020-01-27T05:28:19.200000",
          "2020-01-27T23:02:24",
          "2020-01-28T16:36:28.800000",
          "2020-01-29T10:10:33.600000",
          "2020-01-30T03:44:38.400000",
          "2020-01-30T21:18:43.200000",
          "2020-01-31T14:52:48",
          "2020-02-01T08:26:52.800000",
          "2020-02-02T02:00:57.600000",
          "2020-02-02T19:35:02.400000",
          "2020-02-03T13:09:07.200000",
          "2020-02-04T06:43:12",
          "2020-02-05T00:17:16.800000",
          "2020-02-05T17:51:21.600000",
          "2020-02-06T11:25:26.400000",
          "2020-02-07T04:59:31.200000",
          "2020-02-07T22:33:36",
          "2020-02-08T16:07:40.800000",
          "2020-02-09T09:41:45.600000",
          "2020-02-10T03:15:50.400000",
          "2020-02-10T20:49:55.200000",
          "2020-02-11T14:24:00",
          "2020-02-12T07:58:04.800000",
          "2020-02-13T01:32:09.600000",
          "2020-02-13T19:06:14.400000",
          "2020-02-14T12:40:19.200000",
          "2020-02-15T06:14:24",
          "2020-02-15T23:48:28.800000",
          "2020-02-16T17:22:33.600000",
          "2020-02-17T10:56:38.400000",
          "2020-02-18T04:30:43.200000",
          "2020-02-18T22:04:48",
          "2020-02-19T15:38:52.800000",
          "2020-02-20T09:12:57.600000",
          "2020-02-21T02:47:02.400000",
          "2020-02-21T20:21:07.200000",
          "2020-02-22T13:55:12",
          "2020-02-23T07:29:16.800000",
          "2020-02-24T01:03:21.600000",
          "2020-02-24T18:37:26.400000",
          "2020-02-25T12:11:31.200000",
          "2020-02-26T05:45:36",
          "2020-02-26T23:19:40.800000",
          "2020-02-27T16:53:45.600000",
          "2020-02-28T10:27:50.400000",
          "2020-02-29T04:01:55.200000",
          "2020-02-29T21:36:00",
          "2020-03-01T15:10:04.800000",
          "2020-03-02T08:44:09.600000",
          "2020-03-03T02:18:14.400000",
          "2020-03-03T19:52:19.200000",
          "2020-03-04T13:26:24",
          "2020-03-05T07:00:28.800000",
          "2020-03-06T00:34:33.600000",
          "2020-03-06T18:08:38.400000",
          "2020-03-07T11:42:43.200000",
          "2020-03-08T05:16:48",
          "2020-03-08T22:50:52.800000",
          "2020-03-09T16:24:57.600000",
          "2020-03-10T09:59:02.400000",
          "2020-03-11T03:33:07.200000",
          "2020-03-11T21:07:12",
          "2020-03-12T14:41:16.800000",
          "2020-03-13T08:15:21.600000",
          "2020-03-14T01:49:26.400000",
          "2020-03-14T19:23:31.200000",
          "2020-03-15T12:57:36",
          "2020-03-16T06:31:40.800000",
          "2020-03-17T00:05:45.600000",
          "2020-03-17T17:39:50.400000",
          "2020-03-18T11:13:55.200000",
          "2020-03-19T04:48:00",
          "2020-03-19T22:22:04.800000",
          "2020-03-20T15:56:09.600000",
          "2020-03-21T09:30:14.400000",
          "2020-03-22T03:04:19.200000",
          "2020-03-22T20:38:24",
          "2020-03-23T14:12:28.800000",
          "2020-03-24T07:46:33.600000",
          "2020-03-25T01:20:38.400000",
          "2020-03-25T18:54:43.200000",
          "2020-03-26T12:28:48",
          "2020-03-27T06:02:52.800000",
          "2020-03-27T23:36:57.600000",
          "2020-03-28T17:11:02.400000",
          "2020-03-29T10:45:07.200000",
          "2020-03-30T04:19:12",
          "2020-03-30T21:53:16.800000",
          "2020-03-31T15:27:21.600000",
          "2020-04-01T09:01:26.400000",
          "2020-04-02T02:35:31.200000",
          "2020-04-02T20:09:36",
          "2020-04-03T13:43:40.800000",
          "2020-04-04T07:17:45.600000",
          "2020-04-05T00:51:50.400000",
          "2020-04-05T18:25:55.200000",
          "2020-04-06T12:00:00",
          "2020-04-07T05:34:04.800000",
          "2020-04-07T23:08:09.600000",
          "2020-04-08T16:42:14.400000",
          "2020-04-09T10:16:19.200000",
          "2020-04-10T03:50:24",
          "2020-04-10T21:24:28.800000",
          "2020-04-11T14:58:33.600000",
          "2020-04-12T08:32:38.400000",
          "2020-04-13T02:06:43.200000",
          "2020-04-13T19:40:48",
          "2020-04-14T13:14:52.800000",
          "2020-04-15T06:48:57.600000",
          "2020-04-16T00:23:02.400000",
          "2020-04-16T17:57:07.200000",
          "2020-04-17T11:31:12",
          "2020-04-18T05:05:16.800000",
          "2020-04-18T22:39:21.600000",
          "2020-04-19T16:13:26.400000",
          "2020-04-20T09:47:31.200000",
          "2020-04-21T03:21:36",
          "2020-04-21T20:55:40.800000",
          "2020-04-22T14:29:45.600000",
          "2020-04-23T08:03:50.400000",
          "2020-04-24T01:37:55.200000",
          "2020-04-24T19:12:00",
          "2020-04-25T12:46:04.800000",
          "2020-04-26T06:20:09.600000",
          "2020-04-26T23:54:14.400000",
          "2020-04-27T17:28:19.200000",
          "2020-04-28T11:02:24",
          "2020-04-29T04:36:28.800000",
          "2020-04-29T22:10:33.600000",
          "2020-04-30T15:44:38.400000",
          "2020-05-01T09:18:43.200000",
          "2020-05-02T02:52:48",
          "2020-05-02T20:26:52.800000",
          "2020-05-03T14:00:57.600000",
          "2020-05-04T07:35:02.400000",
          "2020-05-05T01:09:07.200000",
          "2020-05-05T18:43:12",
          "2020-05-06T12:17:16.800000",
          "2020-05-07T05:51:21.600000",
          "2020-05-07T23:25:26.400000",
          "2020-05-08T16:59:31.200000",
          "2020-05-09T10:33:36",
          "2020-05-10T04:07:40.800000",
          "2020-05-10T21:41:45.600000",
          "2020-05-11T15:15:50.400000",
          "2020-05-12T08:49:55.200000",
          "2020-05-13T02:24:00",
          "2020-05-13T19:58:04.800000",
          "2020-05-14T13:32:09.600000",
          "2020-05-15T07:06:14.400000",
          "2020-05-16T00:40:19.200000",
          "2020-05-16T18:14:24",
          "2020-05-17T11:48:28.800000",
          "2020-05-18T05:22:33.600000",
          "2020-05-18T22:56:38.400000",
          "2020-05-19T16:30:43.200000",
          "2020-05-20T10:04:48",
          "2020-05-21T03:38:52.800000",
          "2020-05-21T21:12:57.600000",
          "2020-05-22T14:47:02.400000",
          "2020-05-23T08:21:07.200000",
          "2020-05-24T01:55:12",
          "2020-05-24T19:29:16.800000",
          "2020-05-25T13:03:21.600000",
          "2020-05-26T06:37:26.400000",
          "2020-05-27T00:11:31.200000",
          "2020-05-27T17:45:36",
          "2020-05-28T11:19:40.800000",
          "2020-05-29T04:53:45.600000",
          "2020-05-29T22:27:50.400000",
          "2020-05-30T16:01:55.200000",
          "2020-05-31T09:36:00",
          "2020-06-01T03:10:04.800000",
          "2020-06-01T20:44:09.600000",
          "2020-06-02T14:18:14.400000",
          "2020-06-03T07:52:19.200000",
          "2020-06-04T01:26:24",
          "2020-06-04T19:00:28.800000",
          "2020-06-05T12:34:33.600000",
          "2020-06-06T06:08:38.400000",
          "2020-06-06T23:42:43.200000",
          "2020-06-07T17:16:48",
          "2020-06-08T10:50:52.800000",
          "2020-06-09T04:24:57.600000",
          "2020-06-09T21:59:02.400000",
          "2020-06-10T15:33:07.200000",
          "2020-06-11T09:07:12",
          "2020-06-12T02:41:16.800000",
          "2020-06-12T20:15:21.600000",
          "2020-06-13T13:49:26.400000",
          "2020-06-14T07:23:31.200000",
          "2020-06-15T00:57:36",
          "2020-06-15T18:31:40.800000",
          "2020-06-16T12:05:45.600000",
          "2020-06-17T05:39:50.400000",
          "2020-06-17T23:13:55.200000",
          "2020-06-18T16:48:00",
          "2020-06-19T10:22:04.800000",
          "2020-06-20T03:56:09.600000",
          "2020-06-20T21:30:14.400000",
          "2020-06-21T15:04:19.200000",
          "2020-06-22T08:38:24",
          "2020-06-23T02:12:28.800000",
          "2020-06-23T19:46:33.600000",
          "2020-06-24T13:20:38.400000",
          "2020-06-25T06:54:43.200000",
          "2020-06-26T00:28:48",
          "2020-06-26T18:02:52.800000",
          "2020-06-27T11:36:57.600000",
          "2020-06-28T05:11:02.400000",
          "2020-06-28T22:45:07.200000",
          "2020-06-29T16:19:12",
          "2020-06-30T09:53:16.800000",
          "2020-07-01T03:27:21.600000",
          "2020-07-01T21:01:26.400000",
          "2020-07-02T14:35:31.200000",
          "2020-07-03T08:09:36",
          "2020-07-04T01:43:40.800000",
          "2020-07-04T19:17:45.600000",
          "2020-07-05T12:51:50.400000",
          "2020-07-06T06:25:55.200000",
          "2020-07-07T00:00:00",
          "2020-07-07T17:34:04.800000",
          "2020-07-08T11:08:09.600000",
          "2020-07-09T04:42:14.400000",
          "2020-07-09T22:16:19.200000",
          "2020-07-10T15:50:24",
          "2020-07-11T09:24:28.800000",
          "2020-07-12T02:58:33.600000",
          "2020-07-12T20:32:38.400000",
          "2020-07-13T14:06:43.200000",
          "2020-07-14T07:40:48",
          "2020-07-15T01:14:52.800000",
          "2020-07-15T18:48:57.600000",
          "2020-07-16T12:23:02.400000",
          "2020-07-17T05:57:07.200000",
          "2020-07-17T23:31:12",
          "2020-07-18T17:05:16.800000",
          "2020-07-19T10:39:21.600000",
          "2020-07-20T04:13:26.400000",
          "2020-07-20T21:47:31.200000",
          "2020-07-21T15:21:36",
          "2020-07-22T08:55:40.800000",
          "2020-07-23T02:29:45.600000",
          "2020-07-23T20:03:50.400000",
          "2020-07-24T13:37:55.200000",
          "2020-07-25T07:12:00",
          "2020-07-26T00:46:04.800000",
          "2020-07-26T18:20:09.600000",
          "2020-07-27T11:54:14.400000",
          "2020-07-28T05:28:19.200000",
          "2020-07-28T23:02:24",
          "2020-07-29T16:36:28.800000",
          "2020-07-30T10:10:33.600000",
          "2020-07-31T03:44:38.400000",
          "2020-07-31T21:18:43.200000",
          "2020-08-01T14:52:48",
          "2020-08-02T08:26:52.800000",
          "2020-08-03T02:00:57.600000",
          "2020-08-03T19:35:02.400000",
          "2020-08-04T13:09:07.200000",
          "2020-08-05T06:43:12",
          "2020-08-06T00:17:16.800000",
          "2020-08-06T17:51:21.600000",
          "2020-08-07T11:25:26.400000",
          "2020-08-08T04:59:31.200000",
          "2020-08-08T22:33:36",
          "2020-08-09T16:07:40.800000",
          "2020-08-10T09:41:45.600000",
          "2020-08-11T03:15:50.400000",
          "2020-08-11T20:49:55.200000",
          "2020-08-12T14:24:00",
          "2020-08-13T07:58:04.800000",
          "2020-08-14T01:32:09.600000",
          "2020-08-14T19:06:14.400000",
          "2020-08-15T12:40:19.200000",
          "2020-08-16T06:14:24",
          "2020-08-16T23:48:28.800000",
          "2020-08-17T17:22:33.600000",
          "2020-08-18T10:56:38.400000",
          "2020-08-19T04:30:43.200000",
          "2020-08-19T22:04:48",
          "2020-08-20T15:38:52.800000",
          "2020-08-21T09:12:57.600000",
          "2020-08-22T02:47:02.400000",
          "2020-08-22T20:21:07.200000",
          "2020-08-23T13:55:12",
          "2020-08-24T07:29:16.800000",
          "2020-08-25T01:03:21.600000",
          "2020-08-25T18:37:26.400000",
          "2020-08-26T12:11:31.200000",
          "2020-08-27T05:45:36",
          "2020-08-27T23:19:40.800000",
          "2020-08-28T16:53:45.600000",
          "2020-08-29T10:27:50.400000",
          "2020-08-30T04:01:55.200000",
          "2020-08-30T21:36:00",
          "2020-08-31T15:10:04.800000",
          "2020-09-01T08:44:09.600000",
          "2020-09-02T02:18:14.400000",
          "2020-09-02T19:52:19.200000",
          "2020-09-03T13:26:24",
          "2020-09-04T07:00:28.800000",
          "2020-09-05T00:34:33.600000",
          "2020-09-05T18:08:38.400000",
          "2020-09-06T11:42:43.200000",
          "2020-09-07T05:16:48",
          "2020-09-07T22:50:52.800000",
          "2020-09-08T16:24:57.600000",
          "2020-09-09T09:59:02.400000",
          "2020-09-10T03:33:07.200000",
          "2020-09-10T21:07:12",
          "2020-09-11T14:41:16.800000",
          "2020-09-12T08:15:21.600000",
          "2020-09-13T01:49:26.400000",
          "2020-09-13T19:23:31.200000",
          "2020-09-14T12:57:36",
          "2020-09-15T06:31:40.800000",
          "2020-09-16T00:05:45.600000",
          "2020-09-16T17:39:50.400000",
          "2020-09-17T11:13:55.200000",
          "2020-09-18T04:48:00",
          "2020-09-18T22:22:04.800000",
          "2020-09-19T15:56:09.600000",
          "2020-09-20T09:30:14.400000",
          "2020-09-21T03:04:19.200000",
          "2020-09-21T20:38:24",
          "2020-09-22T14:12:28.800000",
          "2020-09-23T07:46:33.600000",
          "2020-09-24T01:20:38.400000",
          "2020-09-24T18:54:43.200000",
          "2020-09-25T12:28:48",
          "2020-09-26T06:02:52.800000",
          "2020-09-26T23:36:57.600000",
          "2020-09-27T17:11:02.400000",
          "2020-09-28T10:45:07.200000",
          "2020-09-29T04:19:12",
          "2020-09-29T21:53:16.800000",
          "2020-09-30T15:27:21.600000",
          "2020-10-01T09:01:26.400000",
          "2020-10-02T02:35:31.200000",
          "2020-10-02T20:09:36",
          "2020-10-03T13:43:40.800000",
          "2020-10-04T07:17:45.600000",
          "2020-10-05T00:51:50.400000",
          "2020-10-05T18:25:55.200000",
          "2020-10-06T12:00:00",
          "2020-10-07T05:34:04.800000",
          "2020-10-07T23:08:09.600000",
          "2020-10-08T16:42:14.400000",
          "2020-10-09T10:16:19.200000",
          "2020-10-10T03:50:24",
          "2020-10-10T21:24:28.800000",
          "2020-10-11T14:58:33.600000",
          "2020-10-12T08:32:38.400000",
          "2020-10-13T02:06:43.200000",
          "2020-10-13T19:40:48",
          "2020-10-14T13:14:52.800000",
          "2020-10-15T06:48:57.600000",
          "2020-10-16T00:23:02.400000",
          "2020-10-16T17:57:07.200000",
          "2020-10-17T11:31:12",
          "2020-10-18T05:05:16.800000",
          "2020-10-18T22:39:21.600000",
          "2020-10-19T16:13:26.400000",
          "2020-10-20T09:47:31.200000",
          "2020-10-21T03:21:36",
          "2020-10-21T20:55:40.800000",
          "2020-10-22T14:29:45.600000",
          "2020-10-23T08:03:50.400000",
          "2020-10-24T01:37:55.200000",
          "2020-10-24T19:12:00",
          "2020-10-25T12:46:04.800000",
          "2020-10-26T06:20:09.600000",
          "2020-10-26T23:54:14.400000",
          "2020-10-27T17:28:19.200000",
          "2020-10-28T11:02:24",
          "2020-10-29T04:36:28.800000",
          "2020-10-29T22:10:33.600000",
          "2020-10-30T15:44:38.400000",
          "2020-10-31T09:18:43.200000",
          "2020-11-01T02:52:48",
          "2020-11-01T20:26:52.800000",
          "2020-11-02T14:00:57.600000",
          "2020-11-03T07:35:02.400000",
          "2020-11-04T01:09:07.200000",
          "2020-11-04T18:43:12",
          "2020-11-05T12:17:16.800000",
          "2020-11-06T05:51:21.600000",
          "2020-11-06T23:25:26.400000",
          "2020-11-07T16:59:31.200000",
          "2020-11-08T10:33:36",
          "2020-11-09T04:07:40.800000",
          "2020-11-09T21:41:45.600000",
          "2020-11-10T15:15:50.400000",
          "2020-11-11T08:49:55.200000",
          "2020-11-12T02:24:00",
          "2020-11-12T19:58:04.800000",
          "2020-11-13T13:32:09.600000",
          "2020-11-14T07:06:14.400000",
          "2020-11-15T00:40:19.200000",
          "2020-11-15T18:14:24",
          "2020-11-16T11:48:28.800000",
          "2020-11-17T05:22:33.600000",
          "2020-11-17T22:56:38.400000",
          "2020-11-18T16:30:43.200000",
          "2020-11-19T10:04:48",
          "2020-11-20T03:38:52.800000",
          "2020-11-20T21:12:57.600000",
          "2020-11-21T14:47:02.400000",
          "2020-11-22T08:21:07.200000",
          "2020-11-23T01:55:12",
          "2020-11-23T19:29:16.800000",
          "2020-11-24T13:03:21.600000",
          "2020-11-25T06:37:26.400000",
          "2020-11-26T00:11:31.200000",
          "2020-11-26T17:45:36",
          "2020-11-27T11:19:40.800000",
          "2020-11-28T04:53:45.600000",
          "2020-11-28T22:27:50.400000",
          "2020-11-29T16:01:55.200000",
          "2020-11-30T09:36:00",
          "2020-12-01T03:10:04.800000",
          "2020-12-01T20:44:09.600000",
          "2020-12-02T14:18:14.400000",
          "2020-12-03T07:52:19.200000",
          "2020-12-04T01:26:24",
          "2020-12-04T19:00:28.800000",
          "2020-12-05T12:34:33.600000",
          "2020-12-06T06:08:38.400000",
          "2020-12-06T23:42:43.200000",
          "2020-12-07T17:16:48",
          "2020-12-08T10:50:52.800000",
          "2020-12-09T04:24:57.600000",
          "2020-12-09T21:59:02.400000",
          "2020-12-10T15:33:07.200000",
          "2020-12-11T09:07:12",
          "2020-12-12T02:41:16.800000",
          "2020-12-12T20:15:21.600000",
          "2020-12-13T13:49:26.400000",
          "2020-12-14T07:23:31.200000",
          "2020-12-15T00:57:36",
          "2020-12-15T18:31:40.800000",
          "2020-12-16T12:05:45.600000",
          "2020-12-17T05:39:50.400000",
          "2020-12-17T23:13:55.200000",
          "2020-12-18T16:48:00",
          "2020-12-19T10:22:04.800000",
          "2020-12-20T03:56:09.600000",
          "2020-12-20T21:30:14.400000",
          "2020-12-21T15:04:19.200000",
          "2020-12-22T08:38:24",
          "2020-12-23T02:12:28.800000",
          "2020-12-23T19:46:33.600000",
          "2020-12-24T13:20:38.400000",
          "2020-12-25T06:54:43.200000",
          "2020-12-26T00:28:48",
          "2020-12-26T18:02:52.800000",
          "2020-12-27T11:36:57.600000",
          "2020-12-28T05:11:02.400000",
          "2020-12-28T22:45:07.200000",
          "2020-12-29T16:19:12",
          "2020-12-30T09:53:16.800000",
          "2020-12-31T03:27:21.600000",
          "2020-12-31T21:01:26.400000",
          "2021-01-01T14:35:31.200000",
          "2021-01-02T08:09:36",
          "2021-01-03T01:43:40.800000",
          "2021-01-03T19:17:45.600000",
          "2021-01-04T12:51:50.400000",
          "2021-01-05T06:25:55.200000"
         ],
         "xaxis": "x",
         "y": [
          1.403580687519747e-17,
          1.428671772499947e-17,
          1.45371847867325e-17,
          1.4787083864602973e-17,
          1.5036292510031234e-17,
          1.5284690218245967e-17,
          1.5532158617464616e-17,
          1.5778581650111087e-17,
          1.6023845745560063e-17,
          1.626783998390392e-17,
          1.6510456250312152e-17,
          1.6751589379596654e-17,
          1.6991137290601376e-17,
          1.7229001110143805e-17,
          1.7465085286220415e-17,
          1.7699297690276615e-17,
          1.793154970838822e-17,
          1.8161756321221672e-17,
          1.8389836172717938e-17,
          1.8615711627495436e-17,
          1.8839308816984327e-17,
          1.9060557674382852e-17,
          1.927939195857225e-17,
          1.9495749267142383e-17,
          1.9709571038754877e-17,
          1.9920802545109694e-17,
          2.0129392872789112e-17,
          2.0335294895343147e-17,
          2.0538465235963053e-17,
          2.0738864221155875e-17,
          2.0936455825862862e-17,
          2.1131207610464796e-17,
          2.1323090650169654e-17,
          2.1512079457295987e-17,
          2.1698151896962578e-17,
          2.188128909673209e-17,
          2.206147535076913e-17,
          2.2238698019059033e-17,
          2.2412947422261662e-17,
          2.2584216732779038e-17,
          2.2752501862584765e-17,
          2.2917801348406077e-17,
          2.3080116234797622e-17,
          2.3239449955665746e-17,
          2.3395808214788624e-17,
          2.354919886584236e-17,
          2.3699631792448714e-17,
          2.3847118788738444e-17,
          2.3991673440886007e-17,
          2.413331101006699e-17,
          2.4272048317265345e-17,
          2.4407903630312865e-17,
          2.454089655353582e-17,
          2.467104792035389e-17,
          2.4798379689131355e-17,
          2.4922914842568433e-17,
          2.504467729089087e-17,
          2.516369177904433e-17,
          2.5279983798104896e-17,
          2.539357950105241e-17,
          2.5504505623047145e-17,
          2.5612789406318143e-17,
          2.5718458529731702e-17,
          2.582154104309315e-17,
          2.5922065306211742e-17,
          2.602005993271799e-17,
          2.6115553738613476e-17,
          2.620857569551131e-17,
          2.6299154888491585e-17,
          2.6387320478490094e-17,
          2.6473101669120358e-17,
          2.6556527677800463e-17,
          2.663762771106128e-17,
          2.6716430943882672e-17,
          2.6792966502902414e-17,
          2.686726345333687e-17,
          2.6939350789432312e-17,
          2.7009257428270473e-17,
          2.707701220674828e-17,
          2.71426438815371e-17,
          2.7206181131836703e-17,
          2.7267652564736654e-17,
          2.7327086722991245e-17,
          2.7384512095023203e-17,
          2.743995712697574e-17,
          2.7493450236624045e-17,
          2.7545019828978828e-17,
          2.7594694313403584e-17,
          2.7642502122081593e-17,
          2.7688471729675644e-17,
          2.773263167402037e-17,
          2.7775010577703016e-17,
          2.7815637170391694e-17,
          2.785454031177222e-17,
          2.789174901496655e-17,
          2.7927292470311163e-17,
          2.796120006937394e-17,
          2.799350142909974e-17,
          2.8024226415978923e-17,
          2.805340517013206e-17,
          2.80810681292154e-17,
          2.810724605205168e-17,
          2.8131970041892184e-17,
          2.81552715692229e-17,
          2.8177182494025154e-17,
          2.8197735087405285e-17,
          2.8216962052509164e-17,
          2.823489654463471e-17,
          2.8251572190459125e-17,
          2.826702310629663e-17,
          2.8281283915299656e-17,
          2.829438976351846e-17,
          2.830637633473167e-17,
          2.8317279863959784e-17,
          2.8327137149571414e-17,
          2.8335985563892946e-17,
          2.834386306222941e-17,
          2.835080819020493e-17,
          2.8356860089329886e-17,
          2.836205850070166e-17,
          2.836644376674825e-17,
          2.837005683092077e-17,
          2.837293923524681e-17,
          2.8375133115655406e-17,
          2.8376681194988456e-17,
          2.8377626773616454e-17,
          2.837801371758118e-17,
          2.837788644419213e-17,
          2.837728990500945e-17,
          2.837626956615398e-17,
          2.8374871385890545e-17,
          2.837314178944045e-17,
          2.837112764098806e-17,
          2.8368876212855564e-17,
          2.836643515183181e-17,
          2.836385244265109e-17,
          2.8361176368632106e-17,
          2.835845546949715e-17,
          2.835573849640745e-17,
          2.8353074364263044e-17,
          2.83505121013294e-17,
          2.8348100796268147e-17,
          2.8345889542663586e-17,
          2.834392738115117e-17,
          2.8342263239269166e-17,
          2.834094586916841e-17,
          2.834002378333105e-17,
          2.833954518846109e-17,
          2.83395579177246e-17,
          2.834010936153056e-17,
          2.834124639705345e-17,
          2.834301531671411e-17,
          2.8345461755841585e-17,
          2.8348630619752356e-17,
          2.835256601048949e-17,
          2.8357311153472746e-17,
          2.836290832431708e-17,
          2.836939877608133e-17,
          2.8376822667213814e-17,
          2.838521899046156e-17,
          2.8394625503014065e-17,
          2.840507865814804e-17,
          2.841661353864077e-17,
          2.842926379221383e-17,
          2.844306156926415e-17,
          2.845803746313436e-17,
          2.8474220453163484e-17,
          2.8491637850751e-17,
          2.8510315248657295e-17,
          2.853027647374802e-17,
          2.8551543543378966e-17,
          2.8574136625602656e-17,
          2.859807400336019e-17,
          2.8623372042805783e-17,
          2.865004516589569e-17,
          2.8678105827347587e-17,
          2.8707564496066437e-17,
          2.873842964110248e-17,
          2.877070772219345e-17,
          2.880440318491986e-17,
          2.8839518460478025e-17,
          2.8876053970057257e-17,
          2.891400813378649e-17,
          2.895337738418985e-17,
          2.8994156184073465e-17,
          2.903633704874548e-17,
          2.9079910572447596e-17,
          2.912486545885793e-17,
          2.917118855551217e-17,
          2.921886489195987e-17,
          2.926787772147106e-17,
          2.931820856607867e-17,
          2.936983726473693e-17,
          2.942274202436181e-17,
          2.9476899473502224e-17,
          2.9532284718386417e-17,
          2.958887140107903e-17,
          2.964663175947254e-17,
          2.970553668883494e-17,
          2.9765555804634943e-17,
          2.98266575063553e-17,
          2.988880904201186e-17,
          2.995197657309796e-17,
          3.001612523966938e-17,
          3.0081219225296815e-17,
          3.014722182162089e-17,
          3.021409549224209e-17,
          3.028180193570354e-17,
          3.035030214732043e-17,
          3.041955647963244e-17,
          3.048952470127017e-17,
          3.0560166054031894e-17,
          3.063143930799433e-17,
          3.070330281449695e-17,
          3.077571455685061e-17,
          3.084863219864757e-17,
          3.092201312957306e-17,
          3.0995814508627626e-17,
          3.106999330470165e-17,
          3.114450633446399e-17,
          3.121931029753735e-17,
          3.129436180897394e-17,
          3.136961742904639e-17,
          3.1445033690403166e-17,
          3.1520567122659487e-17,
          3.1596174274503074e-17,
          3.167181173342725e-17,
          3.174743614321826e-17,
          3.182300421933658e-17,
          3.189847276235627e-17,
          3.197379866964175e-17,
          3.204893894544905e-17,
          3.212385070965787e-17,
          3.2198491205355605e-17,
          3.227281780549099e-17,
          3.2346788018842424e-17,
          3.242035949553446e-17,
          3.24934900323526e-17,
          3.2566137578108937e-17,
          3.2638260239303197e-17,
          3.2709816286333055e-17,
          3.2780764160503516e-17,
          3.2851062482073105e-17,
          3.292067005957558e-17,
          3.2989545900649327e-17,
          3.305764922458577e-17,
          3.3124939476806204e-17,
          3.3191376345463073e-17,
          3.32569197803345e-17,
          3.3321530014181254e-17,
          3.3385167586700984e-17,
          3.344779337120496e-17,
          3.3509368604119426e-17,
          3.3569854917387143e-17,
          3.3629214373826006e-17,
          3.3687409505479335e-17,
          3.37444033549592e-17,
          3.380015951976827e-17,
          3.385464219955613e-17,
          3.3907816246237076e-17,
          3.3959647216875575e-17,
          3.401010142921823e-17,
          3.40591460197221e-17,
          3.4106749003907456e-17,
          3.4152879338841017e-17,
          3.419750698752297e-17,
          3.4240602984939446e-17,
          3.428213950551268e-17,
          3.432208993166169e-17,
          3.4360428923174014e-17,
          3.4397132487061326e-17,
          3.443217804756375e-17,
          3.446554451595389e-17,
          3.4497212359773376e-17,
          3.452716367113213e-17,
          3.455538223369123e-17,
          3.45818535879406e-17,
          3.460656509438514e-17,
          3.46295059942516e-17,
          3.465066746732552e-17,
          3.46700426865388e-17,
          3.468762686892899e-17,
          3.470341732260388e-17,
          3.4717413489356817e-17,
          3.4729616982588475e-17,
          3.4740031620211584e-17,
          3.4748663452230065e-17,
          3.475552078270666e-17,
          3.476061418585464e-17,
          3.4763956516014405e-17,
          3.476556291130268e-17,
          3.476545079074895e-17,
          3.4763639844764304e-17,
          3.476015201881989e-17,
          3.47550114902421e-17,
          3.4748244638066924e-17,
          3.4739880005930485e-17,
          3.472994825800466e-17,
          3.4718482128025344e-17,
          3.4705516361495216e-17,
          3.4691087651177e-17,
          3.4675234566029976e-17,
          3.46579974737788e-17,
          3.463941845733303e-17,
          3.4619541225315925e-17,
          3.459841101698785e-17,
          3.4576074501883695e-17,
          3.4552579674512853e-17,
          3.4527975744498337e-17,
          3.450231302255708e-17,
          3.44756428027503e-17,
          3.444801724145074e-17,
          3.441948923349821e-17,
          3.4390112286029073e-17,
          3.4359940390480057e-17,
          3.4329027893282054e-17,
          3.429742936576622e-17,
          3.426519947380987e-17,
          3.423239284776021e-17,
          3.419906395316603e-17,
          3.416526696285075e-17,
          3.413105563085502e-17,
          3.4096483168767026e-17,
          3.406160212494652e-17,
          3.40264642671416e-17,
          3.399112046896933e-17,
          3.395562060072441e-17,
          3.392001342494859e-17,
          3.388434649717159e-17,
          3.384866607221164e-17,
          3.3813017016389044e-17,
          3.377744272597598e-17,
          3.3741985052175834e-17,
          3.3706684232888756e-17,
          3.3671578831479705e-17,
          3.3636705682735686e-17,
          3.3602099846153466e-17,
          3.356779456665946e-17,
          3.3533821242830267e-17,
          3.350020940262968e-17,
          3.3466986686649486e-17,
          3.343417883879079e-17,
          3.340180970428557e-17,
          3.336990123492005e-17,
          3.333847350127785e-17,
          3.3307544711782825e-17,
          3.3277131238289323e-17,
          3.3247247647923734e-17,
          3.321790674085194e-17,
          3.3189119593614177e-17,
          3.316089560763661e-17,
          3.313324256249995e-17,
          3.3106166673523843e-17,
          3.307967265319429e-17,
          3.305376377594862e-17,
          3.3028441945808716e-17,
          3.3003707766338126e-17,
          3.297956061238992e-17,
          3.295599870309856e-17,
          3.293301917556336e-17,
          3.29106181586699e-17,
          3.288879084649454e-17,
          3.286753157073663e-17,
          3.2846833871635686e-17,
          3.282669056683483e-17,
          3.280709381766374e-17,
          3.278803519233528e-17,
          3.2769505725559807e-17,
          3.275149597410924e-17,
          3.2733996067882344e-17,
          3.2716995756050624e-17,
          3.270048444789241e-17,
          3.2684451247953653e-17,
          3.2668884985207416e-17,
          3.265377423591822e-17,
          3.263910733995634e-17,
          3.2624872410341575e-17,
          3.2611057335841893e-17,
          3.2597649776487134e-17,
          3.2584637151904033e-17,
          3.2572006622420945e-17,
          3.255974506293362e-17,
          3.2547839029565206e-17,
          3.2536274719203253e-17,
          3.252503792203281e-17,
          3.2514113967233973e-17,
          3.250348766205334e-17,
          3.2493143224498915e-17,
          3.24830642099539e-17,
          3.247323343203972e-17,
          3.2463632878102234e-17,
          3.245424361972825e-17,
          3.244504571873869e-17,
          3.2436018129135097e-17,
          3.242713859551059e-17,
          3.241838354846491e-17,
          3.240972799758889e-17,
          3.240114542261135e-17,
          3.2392607663320985e-17,
          3.238408480889619e-17,
          3.237554508729392e-17,
          3.2366954755358274e-17,
          3.2358277990326935e-17,
          3.234947678341458e-17,
          3.2340510836162434e-17,
          3.233133746024197e-17,
          3.2321911481402216e-17,
          3.231218514824159e-17,
          3.2302108046483095e-17,
          3.229162701941672e-17,
          3.228068609516148e-17,
          3.22692264213835e-17,
          3.225718620808487e-17,
          3.2244500679058386e-17,
          3.223110203257591e-17,
          3.2216919411851134e-17,
          3.220187888578726e-17,
          3.2185903440487456e-17,
          3.2168912981966975e-17,
          3.215082435047515e-17,
          3.21315513467877e-17,
          3.211100477079263e-17,
          3.208909247264851e-17,
          3.206571941674768e-17,
          3.2040787758668186e-17,
          3.20141969352541e-17,
          3.198584376790992e-17,
          3.195562257914414e-17,
          3.192342532235079e-17,
          3.18891417247551e-17,
          3.185265944340827e-17,
          3.181386423405457e-17,
          3.17726401326424e-17,
          3.1728869649201635e-17,
          3.168243397375224e-17,
          3.1633213193856084e-17,
          3.158108652337802e-17,
          3.152593254196437e-17,
          3.146762944469984e-17,
          3.140605530135794e-17,
          3.1341088324609496e-17,
          3.12726071465058e-17,
          3.120049110252128e-17,
          3.1124620522380845e-17,
          3.104487702687573e-17,
          3.0961143829825284e-17,
          3.08733060443046e-17,
          3.0781250992239275e-17,
          3.068486851642933e-17,
          3.0584051294038296e-17,
          3.0478695150571556e-17,
          3.0368699373342006e-17,
          3.0253967023399015e-17,
          3.013440524490421e-17,
          3.0009925570912585e-17,
          2.988044422451357e-17,
          2.974588241430622e-17,
          2.960616662315332e-17,
          2.946122888920227e-17,
          2.9311007078147004e-17,
          2.915544514572494e-17,
          2.899449338947756e-17,
          2.882810868881056e-17,
          2.865625473241542e-17,
          2.8478902232166546e-17,
          2.8296029122622534e-17,
          2.810762074529905e-17,
          2.791367001694448e-17,
          2.7714177581076327e-17,
          2.7509151942080055e-17,
          2.729860958125479e-17,
          2.7082575054217226e-17,
          2.6861081069133715e-17,
          2.6634168545346554e-17,
          2.6401886651967505e-17,
          2.6164292826134046e-17,
          2.5921452770656387e-17,
          2.5673440430849572e-17,
          2.542033795044921e-17,
          2.5162235606548626e-17,
          2.4899231723566897e-17,
          2.4631432566363207e-17,
          2.435895221265321e-17,
          2.408191240495443e-17,
          2.3800442382395818e-17,
          2.351467869276269e-17,
          2.3224764985216728e-17,
          2.2930851784248278e-17,
          2.2633096245408307e-17,
          2.2331661893510905e-17,
          2.2026718344010106e-17,
          2.171844100831659e-17,
          2.1407010783915972e-17,
          2.1092613730166606e-17,
          2.0775440730704742e-17,
          2.045568714347197e-17,
          2.0133552439384416e-17,
          1.980923983070213e-17,
          1.9482955890231913e-17,
          1.9154910162488643e-17
         ],
         "yaxis": "y"
        }
       ],
       "layout": {
        "barmode": "overlay",
        "hovermode": "closest",
        "legend": {
         "traceorder": "reversed"
        },
        "plot_bgcolor": "#F5F5F8",
        "template": {
         "data": {
          "bar": [
           {
            "error_x": {
             "color": "#2a3f5f"
            },
            "error_y": {
             "color": "#2a3f5f"
            },
            "marker": {
             "line": {
              "color": "#E5ECF6",
              "width": 0.5
             },
             "pattern": {
              "fillmode": "overlay",
              "size": 10,
              "solidity": 0.2
             }
            },
            "type": "bar"
           }
          ],
          "barpolar": [
           {
            "marker": {
             "line": {
              "color": "#E5ECF6",
              "width": 0.5
             },
             "pattern": {
              "fillmode": "overlay",
              "size": 10,
              "solidity": 0.2
             }
            },
            "type": "barpolar"
           }
          ],
          "carpet": [
           {
            "aaxis": {
             "endlinecolor": "#2a3f5f",
             "gridcolor": "white",
             "linecolor": "white",
             "minorgridcolor": "white",
             "startlinecolor": "#2a3f5f"
            },
            "baxis": {
             "endlinecolor": "#2a3f5f",
             "gridcolor": "white",
             "linecolor": "white",
             "minorgridcolor": "white",
             "startlinecolor": "#2a3f5f"
            },
            "type": "carpet"
           }
          ],
          "choropleth": [
           {
            "colorbar": {
             "outlinewidth": 0,
             "ticks": ""
            },
            "type": "choropleth"
           }
          ],
          "contour": [
           {
            "colorbar": {
             "outlinewidth": 0,
             "ticks": ""
            },
            "colorscale": [
             [
              0,
              "#0d0887"
             ],
             [
              0.1111111111111111,
              "#46039f"
             ],
             [
              0.2222222222222222,
              "#7201a8"
             ],
             [
              0.3333333333333333,
              "#9c179e"
             ],
             [
              0.4444444444444444,
              "#bd3786"
             ],
             [
              0.5555555555555556,
              "#d8576b"
             ],
             [
              0.6666666666666666,
              "#ed7953"
             ],
             [
              0.7777777777777778,
              "#fb9f3a"
             ],
             [
              0.8888888888888888,
              "#fdca26"
             ],
             [
              1,
              "#f0f921"
             ]
            ],
            "type": "contour"
           }
          ],
          "contourcarpet": [
           {
            "colorbar": {
             "outlinewidth": 0,
             "ticks": ""
            },
            "type": "contourcarpet"
           }
          ],
          "heatmap": [
           {
            "colorbar": {
             "outlinewidth": 0,
             "ticks": ""
            },
            "colorscale": [
             [
              0,
              "#0d0887"
             ],
             [
              0.1111111111111111,
              "#46039f"
             ],
             [
              0.2222222222222222,
              "#7201a8"
             ],
             [
              0.3333333333333333,
              "#9c179e"
             ],
             [
              0.4444444444444444,
              "#bd3786"
             ],
             [
              0.5555555555555556,
              "#d8576b"
             ],
             [
              0.6666666666666666,
              "#ed7953"
             ],
             [
              0.7777777777777778,
              "#fb9f3a"
             ],
             [
              0.8888888888888888,
              "#fdca26"
             ],
             [
              1,
              "#f0f921"
             ]
            ],
            "type": "heatmap"
           }
          ],
          "heatmapgl": [
           {
            "colorbar": {
             "outlinewidth": 0,
             "ticks": ""
            },
            "colorscale": [
             [
              0,
              "#0d0887"
             ],
             [
              0.1111111111111111,
              "#46039f"
             ],
             [
              0.2222222222222222,
              "#7201a8"
             ],
             [
              0.3333333333333333,
              "#9c179e"
             ],
             [
              0.4444444444444444,
              "#bd3786"
             ],
             [
              0.5555555555555556,
              "#d8576b"
             ],
             [
              0.6666666666666666,
              "#ed7953"
             ],
             [
              0.7777777777777778,
              "#fb9f3a"
             ],
             [
              0.8888888888888888,
              "#fdca26"
             ],
             [
              1,
              "#f0f921"
             ]
            ],
            "type": "heatmapgl"
           }
          ],
          "histogram": [
           {
            "marker": {
             "pattern": {
              "fillmode": "overlay",
              "size": 10,
              "solidity": 0.2
             }
            },
            "type": "histogram"
           }
          ],
          "histogram2d": [
           {
            "colorbar": {
             "outlinewidth": 0,
             "ticks": ""
            },
            "colorscale": [
             [
              0,
              "#0d0887"
             ],
             [
              0.1111111111111111,
              "#46039f"
             ],
             [
              0.2222222222222222,
              "#7201a8"
             ],
             [
              0.3333333333333333,
              "#9c179e"
             ],
             [
              0.4444444444444444,
              "#bd3786"
             ],
             [
              0.5555555555555556,
              "#d8576b"
             ],
             [
              0.6666666666666666,
              "#ed7953"
             ],
             [
              0.7777777777777778,
              "#fb9f3a"
             ],
             [
              0.8888888888888888,
              "#fdca26"
             ],
             [
              1,
              "#f0f921"
             ]
            ],
            "type": "histogram2d"
           }
          ],
          "histogram2dcontour": [
           {
            "colorbar": {
             "outlinewidth": 0,
             "ticks": ""
            },
            "colorscale": [
             [
              0,
              "#0d0887"
             ],
             [
              0.1111111111111111,
              "#46039f"
             ],
             [
              0.2222222222222222,
              "#7201a8"
             ],
             [
              0.3333333333333333,
              "#9c179e"
             ],
             [
              0.4444444444444444,
              "#bd3786"
             ],
             [
              0.5555555555555556,
              "#d8576b"
             ],
             [
              0.6666666666666666,
              "#ed7953"
             ],
             [
              0.7777777777777778,
              "#fb9f3a"
             ],
             [
              0.8888888888888888,
              "#fdca26"
             ],
             [
              1,
              "#f0f921"
             ]
            ],
            "type": "histogram2dcontour"
           }
          ],
          "mesh3d": [
           {
            "colorbar": {
             "outlinewidth": 0,
             "ticks": ""
            },
            "type": "mesh3d"
           }
          ],
          "parcoords": [
           {
            "line": {
             "colorbar": {
              "outlinewidth": 0,
              "ticks": ""
             }
            },
            "type": "parcoords"
           }
          ],
          "pie": [
           {
            "automargin": true,
            "type": "pie"
           }
          ],
          "scatter": [
           {
            "fillpattern": {
             "fillmode": "overlay",
             "size": 10,
             "solidity": 0.2
            },
            "type": "scatter"
           }
          ],
          "scatter3d": [
           {
            "line": {
             "colorbar": {
              "outlinewidth": 0,
              "ticks": ""
             }
            },
            "marker": {
             "colorbar": {
              "outlinewidth": 0,
              "ticks": ""
             }
            },
            "type": "scatter3d"
           }
          ],
          "scattercarpet": [
           {
            "marker": {
             "colorbar": {
              "outlinewidth": 0,
              "ticks": ""
             }
            },
            "type": "scattercarpet"
           }
          ],
          "scattergeo": [
           {
            "marker": {
             "colorbar": {
              "outlinewidth": 0,
              "ticks": ""
             }
            },
            "type": "scattergeo"
           }
          ],
          "scattergl": [
           {
            "marker": {
             "colorbar": {
              "outlinewidth": 0,
              "ticks": ""
             }
            },
            "type": "scattergl"
           }
          ],
          "scattermapbox": [
           {
            "marker": {
             "colorbar": {
              "outlinewidth": 0,
              "ticks": ""
             }
            },
            "type": "scattermapbox"
           }
          ],
          "scatterpolar": [
           {
            "marker": {
             "colorbar": {
              "outlinewidth": 0,
              "ticks": ""
             }
            },
            "type": "scatterpolar"
           }
          ],
          "scatterpolargl": [
           {
            "marker": {
             "colorbar": {
              "outlinewidth": 0,
              "ticks": ""
             }
            },
            "type": "scatterpolargl"
           }
          ],
          "scatterternary": [
           {
            "marker": {
             "colorbar": {
              "outlinewidth": 0,
              "ticks": ""
             }
            },
            "type": "scatterternary"
           }
          ],
          "surface": [
           {
            "colorbar": {
             "outlinewidth": 0,
             "ticks": ""
            },
            "colorscale": [
             [
              0,
              "#0d0887"
             ],
             [
              0.1111111111111111,
              "#46039f"
             ],
             [
              0.2222222222222222,
              "#7201a8"
             ],
             [
              0.3333333333333333,
              "#9c179e"
             ],
             [
              0.4444444444444444,
              "#bd3786"
             ],
             [
              0.5555555555555556,
              "#d8576b"
             ],
             [
              0.6666666666666666,
              "#ed7953"
             ],
             [
              0.7777777777777778,
              "#fb9f3a"
             ],
             [
              0.8888888888888888,
              "#fdca26"
             ],
             [
              1,
              "#f0f921"
             ]
            ],
            "type": "surface"
           }
          ],
          "table": [
           {
            "cells": {
             "fill": {
              "color": "#EBF0F8"
             },
             "line": {
              "color": "white"
             }
            },
            "header": {
             "fill": {
              "color": "#C8D4E3"
             },
             "line": {
              "color": "white"
             }
            },
            "type": "table"
           }
          ]
         },
         "layout": {
          "annotationdefaults": {
           "arrowcolor": "#2a3f5f",
           "arrowhead": 0,
           "arrowwidth": 1
          },
          "autotypenumbers": "strict",
          "coloraxis": {
           "colorbar": {
            "outlinewidth": 0,
            "ticks": ""
           }
          },
          "colorscale": {
           "diverging": [
            [
             0,
             "#8e0152"
            ],
            [
             0.1,
             "#c51b7d"
            ],
            [
             0.2,
             "#de77ae"
            ],
            [
             0.3,
             "#f1b6da"
            ],
            [
             0.4,
             "#fde0ef"
            ],
            [
             0.5,
             "#f7f7f7"
            ],
            [
             0.6,
             "#e6f5d0"
            ],
            [
             0.7,
             "#b8e186"
            ],
            [
             0.8,
             "#7fbc41"
            ],
            [
             0.9,
             "#4d9221"
            ],
            [
             1,
             "#276419"
            ]
           ],
           "sequential": [
            [
             0,
             "#0d0887"
            ],
            [
             0.1111111111111111,
             "#46039f"
            ],
            [
             0.2222222222222222,
             "#7201a8"
            ],
            [
             0.3333333333333333,
             "#9c179e"
            ],
            [
             0.4444444444444444,
             "#bd3786"
            ],
            [
             0.5555555555555556,
             "#d8576b"
            ],
            [
             0.6666666666666666,
             "#ed7953"
            ],
            [
             0.7777777777777778,
             "#fb9f3a"
            ],
            [
             0.8888888888888888,
             "#fdca26"
            ],
            [
             1,
             "#f0f921"
            ]
           ],
           "sequentialminus": [
            [
             0,
             "#0d0887"
            ],
            [
             0.1111111111111111,
             "#46039f"
            ],
            [
             0.2222222222222222,
             "#7201a8"
            ],
            [
             0.3333333333333333,
             "#9c179e"
            ],
            [
             0.4444444444444444,
             "#bd3786"
            ],
            [
             0.5555555555555556,
             "#d8576b"
            ],
            [
             0.6666666666666666,
             "#ed7953"
            ],
            [
             0.7777777777777778,
             "#fb9f3a"
            ],
            [
             0.8888888888888888,
             "#fdca26"
            ],
            [
             1,
             "#f0f921"
            ]
           ]
          },
          "colorway": [
           "#636efa",
           "#EF553B",
           "#00cc96",
           "#ab63fa",
           "#FFA15A",
           "#19d3f3",
           "#FF6692",
           "#B6E880",
           "#FF97FF",
           "#FECB52"
          ],
          "font": {
           "color": "#2a3f5f"
          },
          "geo": {
           "bgcolor": "white",
           "lakecolor": "white",
           "landcolor": "#E5ECF6",
           "showlakes": true,
           "showland": true,
           "subunitcolor": "white"
          },
          "hoverlabel": {
           "align": "left"
          },
          "hovermode": "closest",
          "mapbox": {
           "style": "light"
          },
          "paper_bgcolor": "white",
          "plot_bgcolor": "#E5ECF6",
          "polar": {
           "angularaxis": {
            "gridcolor": "white",
            "linecolor": "white",
            "ticks": ""
           },
           "bgcolor": "#E5ECF6",
           "radialaxis": {
            "gridcolor": "white",
            "linecolor": "white",
            "ticks": ""
           }
          },
          "scene": {
           "xaxis": {
            "backgroundcolor": "#E5ECF6",
            "gridcolor": "white",
            "gridwidth": 2,
            "linecolor": "white",
            "showbackground": true,
            "ticks": "",
            "zerolinecolor": "white"
           },
           "yaxis": {
            "backgroundcolor": "#E5ECF6",
            "gridcolor": "white",
            "gridwidth": 2,
            "linecolor": "white",
            "showbackground": true,
            "ticks": "",
            "zerolinecolor": "white"
           },
           "zaxis": {
            "backgroundcolor": "#E5ECF6",
            "gridcolor": "white",
            "gridwidth": 2,
            "linecolor": "white",
            "showbackground": true,
            "ticks": "",
            "zerolinecolor": "white"
           }
          },
          "shapedefaults": {
           "line": {
            "color": "#2a3f5f"
           }
          },
          "ternary": {
           "aaxis": {
            "gridcolor": "white",
            "linecolor": "white",
            "ticks": ""
           },
           "baxis": {
            "gridcolor": "white",
            "linecolor": "white",
            "ticks": ""
           },
           "bgcolor": "#E5ECF6",
           "caxis": {
            "gridcolor": "white",
            "linecolor": "white",
            "ticks": ""
           }
          },
          "title": {
           "x": 0.05
          },
          "xaxis": {
           "automargin": true,
           "gridcolor": "white",
           "linecolor": "white",
           "ticks": "",
           "title": {
            "standoff": 15
           },
           "zerolinecolor": "white",
           "zerolinewidth": 2
          },
          "yaxis": {
           "automargin": true,
           "gridcolor": "white",
           "linecolor": "white",
           "ticks": "",
           "title": {
            "standoff": 15
           },
           "zerolinecolor": "white",
           "zerolinewidth": 2
          }
         }
        },
        "title": {
         "text": "Real vs. Synthetic Data for column checkin_date"
        },
        "xaxis": {
         "anchor": "y2",
         "domain": [
          0,
          1
         ],
         "title": {
          "text": "Value"
         },
         "zeroline": false
        },
        "yaxis": {
         "anchor": "free",
         "domain": [
          0,
          1
         ],
         "position": 0,
         "title": {
          "text": "Frequency"
         }
        }
       }
      }
     },
     "metadata": {},
     "output_type": "display_data"
    },
    {
     "data": {
      "application/vnd.plotly.v1+json": {
       "config": {
        "plotlyServerURL": "https://plot.ly"
       },
       "data": [
        {
         "fill": "tozeroy",
         "hovertemplate": "<b>Real</b><br>Value: %{x}<br>Frequency: %{y}<extra></extra>",
         "legendgroup": "Real",
         "marker": {
          "color": "#000036"
         },
         "mode": "lines",
         "name": "Real",
         "showlegend": true,
         "type": "scatter",
         "x": [
          "2020-01-07T00:00:00",
          "2020-01-07T17:36:57.600000",
          "2020-01-08T11:13:55.200000",
          "2020-01-09T04:50:52.800000",
          "2020-01-09T22:27:50.400000",
          "2020-01-10T16:04:48",
          "2020-01-11T09:41:45.600000",
          "2020-01-12T03:18:43.200000",
          "2020-01-12T20:55:40.800000",
          "2020-01-13T14:32:38.400000",
          "2020-01-14T08:09:36",
          "2020-01-15T01:46:33.600000",
          "2020-01-15T19:23:31.200000",
          "2020-01-16T13:00:28.800000",
          "2020-01-17T06:37:26.400000",
          "2020-01-18T00:14:24",
          "2020-01-18T17:51:21.600000",
          "2020-01-19T11:28:19.200000",
          "2020-01-20T05:05:16.800000",
          "2020-01-20T22:42:14.400000",
          "2020-01-21T16:19:12",
          "2020-01-22T09:56:09.600000",
          "2020-01-23T03:33:07.200000",
          "2020-01-23T21:10:04.800000",
          "2020-01-24T14:47:02.400000",
          "2020-01-25T08:24:00",
          "2020-01-26T02:00:57.600000",
          "2020-01-26T19:37:55.200000",
          "2020-01-27T13:14:52.800000",
          "2020-01-28T06:51:50.400000",
          "2020-01-29T00:28:48",
          "2020-01-29T18:05:45.600000",
          "2020-01-30T11:42:43.200000",
          "2020-01-31T05:19:40.800000",
          "2020-01-31T22:56:38.400000",
          "2020-02-01T16:33:36",
          "2020-02-02T10:10:33.600000",
          "2020-02-03T03:47:31.200000",
          "2020-02-03T21:24:28.800000",
          "2020-02-04T15:01:26.400000",
          "2020-02-05T08:38:24",
          "2020-02-06T02:15:21.600000",
          "2020-02-06T19:52:19.200000",
          "2020-02-07T13:29:16.800000",
          "2020-02-08T07:06:14.400000",
          "2020-02-09T00:43:12",
          "2020-02-09T18:20:09.600000",
          "2020-02-10T11:57:07.200000",
          "2020-02-11T05:34:04.800000",
          "2020-02-11T23:11:02.400000",
          "2020-02-12T16:48:00",
          "2020-02-13T10:24:57.600000",
          "2020-02-14T04:01:55.200000",
          "2020-02-14T21:38:52.800000",
          "2020-02-15T15:15:50.400000",
          "2020-02-16T08:52:48",
          "2020-02-17T02:29:45.600000",
          "2020-02-17T20:06:43.200000",
          "2020-02-18T13:43:40.800000",
          "2020-02-19T07:20:38.400000",
          "2020-02-20T00:57:36",
          "2020-02-20T18:34:33.600000",
          "2020-02-21T12:11:31.200000",
          "2020-02-22T05:48:28.800000",
          "2020-02-22T23:25:26.400000",
          "2020-02-23T17:02:24",
          "2020-02-24T10:39:21.600000",
          "2020-02-25T04:16:19.200000",
          "2020-02-25T21:53:16.800000",
          "2020-02-26T15:30:14.400000",
          "2020-02-27T09:07:12",
          "2020-02-28T02:44:09.600000",
          "2020-02-28T20:21:07.200000",
          "2020-02-29T13:58:04.800000",
          "2020-03-01T07:35:02.400000",
          "2020-03-02T01:12:00",
          "2020-03-02T18:48:57.600000",
          "2020-03-03T12:25:55.200000",
          "2020-03-04T06:02:52.800000",
          "2020-03-04T23:39:50.400000",
          "2020-03-05T17:16:48",
          "2020-03-06T10:53:45.600000",
          "2020-03-07T04:30:43.200000",
          "2020-03-07T22:07:40.800000",
          "2020-03-08T15:44:38.400000",
          "2020-03-09T09:21:36",
          "2020-03-10T02:58:33.600000",
          "2020-03-10T20:35:31.200000",
          "2020-03-11T14:12:28.800000",
          "2020-03-12T07:49:26.400000",
          "2020-03-13T01:26:24",
          "2020-03-13T19:03:21.600000",
          "2020-03-14T12:40:19.200000",
          "2020-03-15T06:17:16.800000",
          "2020-03-15T23:54:14.400000",
          "2020-03-16T17:31:12",
          "2020-03-17T11:08:09.600000",
          "2020-03-18T04:45:07.200000",
          "2020-03-18T22:22:04.800000",
          "2020-03-19T15:59:02.400000",
          "2020-03-20T09:36:00",
          "2020-03-21T03:12:57.600000",
          "2020-03-21T20:49:55.200000",
          "2020-03-22T14:26:52.800000",
          "2020-03-23T08:03:50.400000",
          "2020-03-24T01:40:48",
          "2020-03-24T19:17:45.600000",
          "2020-03-25T12:54:43.200000",
          "2020-03-26T06:31:40.800000",
          "2020-03-27T00:08:38.400000",
          "2020-03-27T17:45:36",
          "2020-03-28T11:22:33.600000",
          "2020-03-29T04:59:31.200000",
          "2020-03-29T22:36:28.800000",
          "2020-03-30T16:13:26.400000",
          "2020-03-31T09:50:24",
          "2020-04-01T03:27:21.600000",
          "2020-04-01T21:04:19.200000",
          "2020-04-02T14:41:16.800000",
          "2020-04-03T08:18:14.400000",
          "2020-04-04T01:55:12",
          "2020-04-04T19:32:09.600000",
          "2020-04-05T13:09:07.200000",
          "2020-04-06T06:46:04.800000",
          "2020-04-07T00:23:02.400000",
          "2020-04-07T18:00:00",
          "2020-04-08T11:36:57.600000",
          "2020-04-09T05:13:55.200000",
          "2020-04-09T22:50:52.800000",
          "2020-04-10T16:27:50.400000",
          "2020-04-11T10:04:48",
          "2020-04-12T03:41:45.600000",
          "2020-04-12T21:18:43.200000",
          "2020-04-13T14:55:40.800000",
          "2020-04-14T08:32:38.400000",
          "2020-04-15T02:09:36",
          "2020-04-15T19:46:33.600000",
          "2020-04-16T13:23:31.200000",
          "2020-04-17T07:00:28.800000",
          "2020-04-18T00:37:26.400000",
          "2020-04-18T18:14:24",
          "2020-04-19T11:51:21.600000",
          "2020-04-20T05:28:19.200000",
          "2020-04-20T23:05:16.800000",
          "2020-04-21T16:42:14.400000",
          "2020-04-22T10:19:12",
          "2020-04-23T03:56:09.600000",
          "2020-04-23T21:33:07.200000",
          "2020-04-24T15:10:04.800000",
          "2020-04-25T08:47:02.400000",
          "2020-04-26T02:24:00",
          "2020-04-26T20:00:57.600000",
          "2020-04-27T13:37:55.200000",
          "2020-04-28T07:14:52.800000",
          "2020-04-29T00:51:50.400000",
          "2020-04-29T18:28:48",
          "2020-04-30T12:05:45.600000",
          "2020-05-01T05:42:43.200000",
          "2020-05-01T23:19:40.800000",
          "2020-05-02T16:56:38.400000",
          "2020-05-03T10:33:36",
          "2020-05-04T04:10:33.600000",
          "2020-05-04T21:47:31.200000",
          "2020-05-05T15:24:28.800000",
          "2020-05-06T09:01:26.400000",
          "2020-05-07T02:38:24",
          "2020-05-07T20:15:21.600000",
          "2020-05-08T13:52:19.200000",
          "2020-05-09T07:29:16.800000",
          "2020-05-10T01:06:14.400000",
          "2020-05-10T18:43:12",
          "2020-05-11T12:20:09.600000",
          "2020-05-12T05:57:07.200000",
          "2020-05-12T23:34:04.800000",
          "2020-05-13T17:11:02.400000",
          "2020-05-14T10:48:00",
          "2020-05-15T04:24:57.600000",
          "2020-05-15T22:01:55.200000",
          "2020-05-16T15:38:52.800000",
          "2020-05-17T09:15:50.400000",
          "2020-05-18T02:52:48",
          "2020-05-18T20:29:45.600000",
          "2020-05-19T14:06:43.200000",
          "2020-05-20T07:43:40.800000",
          "2020-05-21T01:20:38.400000",
          "2020-05-21T18:57:36",
          "2020-05-22T12:34:33.600000",
          "2020-05-23T06:11:31.200000",
          "2020-05-23T23:48:28.800000",
          "2020-05-24T17:25:26.400000",
          "2020-05-25T11:02:24",
          "2020-05-26T04:39:21.600000",
          "2020-05-26T22:16:19.200000",
          "2020-05-27T15:53:16.800000",
          "2020-05-28T09:30:14.400000",
          "2020-05-29T03:07:12",
          "2020-05-29T20:44:09.600000",
          "2020-05-30T14:21:07.200000",
          "2020-05-31T07:58:04.800000",
          "2020-06-01T01:35:02.400000",
          "2020-06-01T19:12:00",
          "2020-06-02T12:48:57.600000",
          "2020-06-03T06:25:55.200000",
          "2020-06-04T00:02:52.800000",
          "2020-06-04T17:39:50.400000",
          "2020-06-05T11:16:48",
          "2020-06-06T04:53:45.600000",
          "2020-06-06T22:30:43.200000",
          "2020-06-07T16:07:40.800000",
          "2020-06-08T09:44:38.400000",
          "2020-06-09T03:21:36",
          "2020-06-09T20:58:33.600000",
          "2020-06-10T14:35:31.200000",
          "2020-06-11T08:12:28.800000",
          "2020-06-12T01:49:26.400000",
          "2020-06-12T19:26:24",
          "2020-06-13T13:03:21.600000",
          "2020-06-14T06:40:19.200000",
          "2020-06-15T00:17:16.800000",
          "2020-06-15T17:54:14.400000",
          "2020-06-16T11:31:12",
          "2020-06-17T05:08:09.600000",
          "2020-06-17T22:45:07.200000",
          "2020-06-18T16:22:04.800000",
          "2020-06-19T09:59:02.400000",
          "2020-06-20T03:36:00",
          "2020-06-20T21:12:57.600000",
          "2020-06-21T14:49:55.200000",
          "2020-06-22T08:26:52.800000",
          "2020-06-23T02:03:50.400000",
          "2020-06-23T19:40:48",
          "2020-06-24T13:17:45.600000",
          "2020-06-25T06:54:43.200000",
          "2020-06-26T00:31:40.800000",
          "2020-06-26T18:08:38.400000",
          "2020-06-27T11:45:36",
          "2020-06-28T05:22:33.600000",
          "2020-06-28T22:59:31.200000",
          "2020-06-29T16:36:28.800000",
          "2020-06-30T10:13:26.400000",
          "2020-07-01T03:50:24",
          "2020-07-01T21:27:21.600000",
          "2020-07-02T15:04:19.200000",
          "2020-07-03T08:41:16.800000",
          "2020-07-04T02:18:14.400000",
          "2020-07-04T19:55:12",
          "2020-07-05T13:32:09.600000",
          "2020-07-06T07:09:07.200000",
          "2020-07-07T00:46:04.800000",
          "2020-07-07T18:23:02.400000",
          "2020-07-08T12:00:00",
          "2020-07-09T05:36:57.600000",
          "2020-07-09T23:13:55.200000",
          "2020-07-10T16:50:52.800000",
          "2020-07-11T10:27:50.400000",
          "2020-07-12T04:04:48",
          "2020-07-12T21:41:45.600000",
          "2020-07-13T15:18:43.200000",
          "2020-07-14T08:55:40.800000",
          "2020-07-15T02:32:38.400000",
          "2020-07-15T20:09:36",
          "2020-07-16T13:46:33.600000",
          "2020-07-17T07:23:31.200000",
          "2020-07-18T01:00:28.800000",
          "2020-07-18T18:37:26.400000",
          "2020-07-19T12:14:24",
          "2020-07-20T05:51:21.600000",
          "2020-07-20T23:28:19.200000",
          "2020-07-21T17:05:16.800000",
          "2020-07-22T10:42:14.400000",
          "2020-07-23T04:19:12",
          "2020-07-23T21:56:09.600000",
          "2020-07-24T15:33:07.200000",
          "2020-07-25T09:10:04.800000",
          "2020-07-26T02:47:02.400000",
          "2020-07-26T20:24:00",
          "2020-07-27T14:00:57.600000",
          "2020-07-28T07:37:55.200000",
          "2020-07-29T01:14:52.800000",
          "2020-07-29T18:51:50.400000",
          "2020-07-30T12:28:48",
          "2020-07-31T06:05:45.600000",
          "2020-07-31T23:42:43.200000",
          "2020-08-01T17:19:40.800000",
          "2020-08-02T10:56:38.400000",
          "2020-08-03T04:33:36",
          "2020-08-03T22:10:33.600000",
          "2020-08-04T15:47:31.200000",
          "2020-08-05T09:24:28.800000",
          "2020-08-06T03:01:26.400000",
          "2020-08-06T20:38:24",
          "2020-08-07T14:15:21.600000",
          "2020-08-08T07:52:19.200000",
          "2020-08-09T01:29:16.800000",
          "2020-08-09T19:06:14.400000",
          "2020-08-10T12:43:12",
          "2020-08-11T06:20:09.600000",
          "2020-08-11T23:57:07.200000",
          "2020-08-12T17:34:04.800000",
          "2020-08-13T11:11:02.400000",
          "2020-08-14T04:48:00",
          "2020-08-14T22:24:57.600000",
          "2020-08-15T16:01:55.200000",
          "2020-08-16T09:38:52.800000",
          "2020-08-17T03:15:50.400000",
          "2020-08-17T20:52:48",
          "2020-08-18T14:29:45.600000",
          "2020-08-19T08:06:43.200000",
          "2020-08-20T01:43:40.800000",
          "2020-08-20T19:20:38.400000",
          "2020-08-21T12:57:36",
          "2020-08-22T06:34:33.600000",
          "2020-08-23T00:11:31.200000",
          "2020-08-23T17:48:28.800000",
          "2020-08-24T11:25:26.400000",
          "2020-08-25T05:02:24",
          "2020-08-25T22:39:21.600000",
          "2020-08-26T16:16:19.200000",
          "2020-08-27T09:53:16.800000",
          "2020-08-28T03:30:14.400000",
          "2020-08-28T21:07:12",
          "2020-08-29T14:44:09.600000",
          "2020-08-30T08:21:07.200000",
          "2020-08-31T01:58:04.800000",
          "2020-08-31T19:35:02.400000",
          "2020-09-01T13:12:00",
          "2020-09-02T06:48:57.600000",
          "2020-09-03T00:25:55.200000",
          "2020-09-03T18:02:52.800000",
          "2020-09-04T11:39:50.400000",
          "2020-09-05T05:16:48",
          "2020-09-05T22:53:45.600000",
          "2020-09-06T16:30:43.200000",
          "2020-09-07T10:07:40.800000",
          "2020-09-08T03:44:38.400000",
          "2020-09-08T21:21:36",
          "2020-09-09T14:58:33.600000",
          "2020-09-10T08:35:31.200000",
          "2020-09-11T02:12:28.800000",
          "2020-09-11T19:49:26.400000",
          "2020-09-12T13:26:24",
          "2020-09-13T07:03:21.600000",
          "2020-09-14T00:40:19.200000",
          "2020-09-14T18:17:16.800000",
          "2020-09-15T11:54:14.400000",
          "2020-09-16T05:31:12",
          "2020-09-16T23:08:09.600000",
          "2020-09-17T16:45:07.200000",
          "2020-09-18T10:22:04.800000",
          "2020-09-19T03:59:02.400000",
          "2020-09-19T21:36:00",
          "2020-09-20T15:12:57.600000",
          "2020-09-21T08:49:55.200000",
          "2020-09-22T02:26:52.800000",
          "2020-09-22T20:03:50.400000",
          "2020-09-23T13:40:48",
          "2020-09-24T07:17:45.600000",
          "2020-09-25T00:54:43.200000",
          "2020-09-25T18:31:40.800000",
          "2020-09-26T12:08:38.400000",
          "2020-09-27T05:45:36",
          "2020-09-27T23:22:33.600000",
          "2020-09-28T16:59:31.200000",
          "2020-09-29T10:36:28.800000",
          "2020-09-30T04:13:26.400000",
          "2020-09-30T21:50:24",
          "2020-10-01T15:27:21.600000",
          "2020-10-02T09:04:19.200000",
          "2020-10-03T02:41:16.800000",
          "2020-10-03T20:18:14.400000",
          "2020-10-04T13:55:12",
          "2020-10-05T07:32:09.600000",
          "2020-10-06T01:09:07.200000",
          "2020-10-06T18:46:04.800000",
          "2020-10-07T12:23:02.400000",
          "2020-10-08T06:00:00",
          "2020-10-08T23:36:57.600000",
          "2020-10-09T17:13:55.200000",
          "2020-10-10T10:50:52.800000",
          "2020-10-11T04:27:50.400000",
          "2020-10-11T22:04:48",
          "2020-10-12T15:41:45.600000",
          "2020-10-13T09:18:43.200000",
          "2020-10-14T02:55:40.800000",
          "2020-10-14T20:32:38.400000",
          "2020-10-15T14:09:36",
          "2020-10-16T07:46:33.600000",
          "2020-10-17T01:23:31.200000",
          "2020-10-17T19:00:28.800000",
          "2020-10-18T12:37:26.400000",
          "2020-10-19T06:14:24",
          "2020-10-19T23:51:21.600000",
          "2020-10-20T17:28:19.200000",
          "2020-10-21T11:05:16.800000",
          "2020-10-22T04:42:14.400000",
          "2020-10-22T22:19:12",
          "2020-10-23T15:56:09.600000",
          "2020-10-24T09:33:07.200000",
          "2020-10-25T03:10:04.800000",
          "2020-10-25T20:47:02.400000",
          "2020-10-26T14:24:00",
          "2020-10-27T08:00:57.600000",
          "2020-10-28T01:37:55.200000",
          "2020-10-28T19:14:52.800000",
          "2020-10-29T12:51:50.400000",
          "2020-10-30T06:28:48",
          "2020-10-31T00:05:45.600000",
          "2020-10-31T17:42:43.200000",
          "2020-11-01T11:19:40.800000",
          "2020-11-02T04:56:38.400000",
          "2020-11-02T22:33:36",
          "2020-11-03T16:10:33.600000",
          "2020-11-04T09:47:31.200000",
          "2020-11-05T03:24:28.800000",
          "2020-11-05T21:01:26.400000",
          "2020-11-06T14:38:24",
          "2020-11-07T08:15:21.600000",
          "2020-11-08T01:52:19.200000",
          "2020-11-08T19:29:16.800000",
          "2020-11-09T13:06:14.400000",
          "2020-11-10T06:43:12",
          "2020-11-11T00:20:09.600000",
          "2020-11-11T17:57:07.200000",
          "2020-11-12T11:34:04.800000",
          "2020-11-13T05:11:02.400000",
          "2020-11-13T22:48:00",
          "2020-11-14T16:24:57.600000",
          "2020-11-15T10:01:55.200000",
          "2020-11-16T03:38:52.800000",
          "2020-11-16T21:15:50.400000",
          "2020-11-17T14:52:48",
          "2020-11-18T08:29:45.600000",
          "2020-11-19T02:06:43.200000",
          "2020-11-19T19:43:40.800000",
          "2020-11-20T13:20:38.400000",
          "2020-11-21T06:57:36",
          "2020-11-22T00:34:33.600000",
          "2020-11-22T18:11:31.200000",
          "2020-11-23T11:48:28.800000",
          "2020-11-24T05:25:26.400000",
          "2020-11-24T23:02:24",
          "2020-11-25T16:39:21.600000",
          "2020-11-26T10:16:19.200000",
          "2020-11-27T03:53:16.800000",
          "2020-11-27T21:30:14.400000",
          "2020-11-28T15:07:12",
          "2020-11-29T08:44:09.600000",
          "2020-11-30T02:21:07.200000",
          "2020-11-30T19:58:04.800000",
          "2020-12-01T13:35:02.400000",
          "2020-12-02T07:12:00",
          "2020-12-03T00:48:57.600000",
          "2020-12-03T18:25:55.200000",
          "2020-12-04T12:02:52.800000",
          "2020-12-05T05:39:50.400000",
          "2020-12-05T23:16:48",
          "2020-12-06T16:53:45.600000",
          "2020-12-07T10:30:43.200000",
          "2020-12-08T04:07:40.800000",
          "2020-12-08T21:44:38.400000",
          "2020-12-09T15:21:36",
          "2020-12-10T08:58:33.600000",
          "2020-12-11T02:35:31.200000",
          "2020-12-11T20:12:28.800000",
          "2020-12-12T13:49:26.400000",
          "2020-12-13T07:26:24",
          "2020-12-14T01:03:21.600000",
          "2020-12-14T18:40:19.200000",
          "2020-12-15T12:17:16.800000",
          "2020-12-16T05:54:14.400000",
          "2020-12-16T23:31:12",
          "2020-12-17T17:08:09.600000",
          "2020-12-18T10:45:07.200000",
          "2020-12-19T04:22:04.800000",
          "2020-12-19T21:59:02.400000",
          "2020-12-20T15:36:00",
          "2020-12-21T09:12:57.600000",
          "2020-12-22T02:49:55.200000",
          "2020-12-22T20:26:52.800000",
          "2020-12-23T14:03:50.400000",
          "2020-12-24T07:40:48",
          "2020-12-25T01:17:45.600000",
          "2020-12-25T18:54:43.200000",
          "2020-12-26T12:31:40.800000",
          "2020-12-27T06:08:38.400000",
          "2020-12-27T23:45:36",
          "2020-12-28T17:22:33.600000",
          "2020-12-29T10:59:31.200000",
          "2020-12-30T04:36:28.800000",
          "2020-12-30T22:13:26.400000",
          "2020-12-31T15:50:24",
          "2021-01-01T09:27:21.600000",
          "2021-01-02T03:04:19.200000",
          "2021-01-02T20:41:16.800000",
          "2021-01-03T14:18:14.400000",
          "2021-01-04T07:55:12",
          "2021-01-05T01:32:09.600000",
          "2021-01-05T19:09:07.200000",
          "2021-01-06T12:46:04.800000",
          "2021-01-07T06:23:02.400000"
         ],
         "xaxis": "x",
         "y": [
          1.5197422546488184e-17,
          1.5470252751969864e-17,
          1.5742363354588137e-17,
          1.601359443348518e-17,
          1.628378736280524e-17,
          1.6552785079613898e-17,
          1.6820432347153615e-17,
          1.7086576012675456e-17,
          1.7351065259138204e-17,
          1.7613751850046866e-17,
          1.7874490366778126e-17,
          1.81331384377476e-17,
          1.8389556958809366e-17,
          1.8643610304341147e-17,
          1.8895166528465127e-17,
          1.9144097555940672e-17,
          1.9390279362284186e-17,
          1.9633592142717225e-17,
          1.987392046961533e-17,
          2.0111153438136207e-17,
          2.0345184799796363e-17,
          2.057591308379153e-17,
          2.0803241705905384e-17,
          2.102707906492503e-17,
          2.1247338626489692e-17,
          2.146393899438966e-17,
          2.1676803969356547e-17,
          2.1885862595434977e-17,
          2.2091049194091583e-17,
          2.2292303386225855e-17,
          2.248957010232684e-17,
          2.2682799581038667e-17,
          2.2871947356438008e-17,
          2.305697423438205e-17,
          2.3237846258285303e-17,
          2.3414534664749582e-17,
          2.3587015829478327e-17,
          2.375527120394136e-17,
          2.3919287243271503e-17,
          2.4079055325910357e-17,
          2.4234571665510888e-17,
          2.4385837215644226e-17,
          2.4532857567853906e-17,
          2.4675642843607044e-17,
          2.481420758071182e-17,
          2.4948570614746015e-17,
          2.5078754956064332e-17,
          2.5204787662933315e-17,
          2.5326699711336122e-17,
          2.544452586199032e-17,
          2.5558304525088848e-17,
          2.5668077623279137e-17,
          2.5773890453366642e-17,
          2.5875791547209007e-17,
          2.5973832532257348e-17,
          2.6068067992157238e-17,
          2.6158555327818256e-17,
          2.6245354619322197e-17,
          2.632852848901392e-17,
          2.64081419661e-17,
          2.6484262353035097e-17,
          2.655695909396265e-17,
          2.6626303645437566e-17,
          2.6692369349629602e-17,
          2.675523131018326e-17,
          2.6814966270868755e-17,
          2.687165249714164e-17,
          2.6925369660693326e-17,
          2.697619872704881e-17,
          2.7024221846245977e-17,
          2.7069522246596545e-17,
          2.7112184131514833e-17,
          2.7152292579371836e-17,
          2.7189933446312366e-17,
          2.7225193271957364e-17,
          2.7258159187888563e-17,
          2.7288918828805466e-17,
          2.731756024622392e-17,
          2.7344171824577248e-17,
          2.73688421995707e-17,
          2.7391660178628514e-17,
          2.7412714663270842e-17,
          2.7432094573251116e-17,
          2.744988877228205e-17,
          2.7466185995178026e-17,
          2.748107477624406e-17,
          2.7494643378741646e-17,
          2.7506979725269188e-17,
          2.751817132889903e-17,
          2.752830522492171e-17,
          2.7537467903056058e-17,
          2.754574523999542e-17,
          2.755322243216989e-17,
          2.755998392861923e-17,
          2.7566113363881745e-17,
          2.7571693490822262e-17,
          2.7576806113333418e-17,
          2.758153201886271e-17,
          2.758595091073285e-17,
          2.75901413402392e-17,
          2.7594180638524507e-17,
          2.7598144848247304e-17,
          2.7602108655078312e-17,
          2.7606145319073298e-17,
          2.7610326605988872e-17,
          2.7614722718622416e-17,
          2.7619402228272238e-17,
          2.762443200642957e-17,
          2.7629877156827796e-17,
          2.763580094798585e-17,
          2.764226474639876e-17,
          2.764932795053524e-17,
          2.76570479258164e-17,
          2.7665479940758092e-17,
          2.7674677104465858e-17,
          2.768469030568307e-17,
          2.7695568153594647e-17,
          2.770735692059582e-17,
          2.772010048724089e-17,
          2.77338402895852e-17,
          2.774861526914021e-17,
          2.7764461825656853e-17,
          2.778141377295575e-17,
          2.7799502298016424e-17,
          2.7818755923538096e-17,
          2.7839200474177303e-17,
          2.7860859046662986e-17,
          2.788375198398225e-17,
          2.790789685382272e-17,
          2.7933308431446794e-17,
          2.7959998687166295e-17,
          2.798797677856896e-17,
          2.8017249047643123e-17,
          2.8047819022928524e-17,
          2.807968742681009e-17,
          2.8112852188054847e-17,
          2.814730845968121e-17,
          2.8183048642225807e-17,
          2.822006241246506e-17,
          2.8258336757624874e-17,
          2.829785601509749e-17,
          2.833860191766594e-17,
          2.838055364421489e-17,
          2.8423687875892656e-17,
          2.846797885766578e-17,
          2.8513398465189694e-17,
          2.8559916276902294e-17,
          2.860749965122071e-17,
          2.865611380871147e-17,
          2.870572191907664e-17,
          2.875628519278439e-17,
          2.880776297715473e-17,
          2.886011285668575e-17,
          2.8913290757397154e-17,
          2.896725105494344e-17,
          2.902194668623563e-17,
          2.907732926429523e-17,
          2.913334919604466e-17,
          2.918995580272877e-17,
          2.924709744264706e-17,
          2.9304721635860604e-17,
          2.9362775190534194e-17,
          2.942120433055364e-17,
          2.94799548240582e-17,
          2.9538972112516486e-17,
          2.9598201439965866e-17,
          2.965758798203832e-17,
          2.971707697438111e-17,
          2.977661384008827e-17,
          2.983614431575478e-17,
          2.989561457576402e-17,
          2.9954971354430014e-17,
          3.001416206560834e-17,
          3.007313491940795e-17,
          3.013183903563599e-17,
          3.019022455361855e-17,
          3.024824273805657e-17,
          3.030584608057903e-17,
          3.036298839667906e-17,
          3.041962491772969e-17,
          3.047571237779401e-17,
          3.053120909496199e-17,
          3.058607504697244e-17,
          3.064027194088834e-17,
          3.0693763276628674e-17,
          3.074651440417617e-17,
          3.079849257430587e-17,
          3.084966698270976e-17,
          3.090000880741133e-17,
          3.0949491239398155e-17,
          3.0998089506424606e-17,
          3.104578088996444e-17,
          3.1092544735325267e-17,
          3.1138362454958746e-17,
          3.118321752503503e-17,
          3.1227095475375196e-17,
          3.126998387286166e-17,
          3.131187229848041e-17,
          3.135275231816569e-17,
          3.139261744765338e-17,
          3.1431463111569084e-17,
          3.146928659700087e-17,
          3.1506087001833767e-17,
          3.154186517813812e-17,
          3.1576623670929234e-17,
          3.1610366652632756e-17,
          3.1643099853603345e-17,
          3.167483048906753e-17,
          3.1705567182863696e-17,
          3.1735319888372605e-17,
          3.176409980703587e-17,
          3.179191930486788e-17,
          3.181879182737321e-17,
          3.184473181327982e-17,
          3.1869754607504304e-17,
          3.189387637375959e-17,
          3.191711400721258e-17,
          3.193948504759518e-17,
          3.1961007593159884e-17,
          3.1981700215864255e-17,
          3.20015818781554e-17,
          3.202067185170887e-17,
          3.20389896384651e-17,
          3.2056554894282366e-17,
          3.2073387355511186e-17,
          3.2089506768770657e-17,
          3.2104932824185267e-17,
          3.211968509231781e-17,
          3.213378296500854e-17,
          3.21472456003036e-17,
          3.2160091871631845e-17,
          3.217234032135846e-17,
          3.218400911881834e-17,
          3.219511602290426e-17,
          3.220567834925367e-17,
          3.2215712942053324e-17,
          3.2225236150450964e-17,
          3.22342638095361e-17,
          3.224281122582507e-17,
          3.2250893167158896e-17,
          3.225852385689793e-17,
          3.22657169722712e-17,
          3.2272485646717816e-17,
          3.2278842476032806e-17,
          3.228479952811246e-17,
          3.229036835607249e-17,
          3.2295560014497514e-17,
          3.230038507856359e-17,
          3.2304853665762324e-17,
          3.2308975459943756e-17,
          3.2312759737385034e-17,
          3.231621539458448e-17,
          3.231935097747529e-17,
          3.232217471174949e-17,
          3.2324694533980876e-17,
          3.232691812323712e-17,
          3.232885293287327e-17,
          3.2330506222204413e-17,
          3.233188508776003e-17,
          3.233299649383421e-17,
          3.233384730205346e-17,
          3.233444429969704e-17,
          3.233479422651972e-17,
          3.233490379984014e-17,
          3.233477973767665e-17,
          3.2334428779728905e-17,
          3.2333857706025036e-17,
          3.233307335307245e-17,
          3.233208262737299e-17,
          3.233089251618458e-17,
          3.232951009543534e-17,
          3.232794253471772e-17,
          3.2326197099315045e-17,
          3.2324281149236566e-17,
          3.232220213526005e-17,
          3.2319967592005476e-17,
          3.2317585128085827e-17,
          3.231506241340595e-17,
          3.2312407163699363e-17,
          3.2309627122419075e-17,
          3.230673004011448e-17,
          3.2303723651451364e-17,
          3.230061565004643e-17,
          3.22974136613086e-17,
          3.229412521349401e-17,
          3.229075770719785e-17,
          3.228731838351817e-17,
          3.2283814291140944e-17,
          3.228025225260422e-17,
          3.227663883000877e-17,
          3.227298029044986e-17,
          3.226928257144988e-17,
          3.226555124667443e-17,
          3.226179149221784e-17,
          3.2258008053742115e-17,
          3.225420521475284e-17,
          3.225038676629188e-17,
          3.2246555978319507e-17,
          3.2242715573055086e-17,
          3.2238867700532154e-17,
          3.223501391661785e-17,
          3.2231155163730315e-17,
          3.222729175447842e-17,
          3.2223423358429066e-17,
          3.221954899219518e-17,
          3.221566701301538e-17,
          3.2211775115982704e-17,
          3.220787033505495e-17,
          3.220394904796223e-17,
          3.220000698510383e-17,
          3.219603924250318e-17,
          3.219204029887072e-17,
          3.218800403679498e-17,
          3.218392376806352e-17,
          3.217979226308794e-17,
          3.217560178438431e-17,
          3.217134412403525e-17,
          3.216701064503549e-17,
          3.2162592326399895e-17,
          3.2158079811886714e-17,
          3.21534634621678e-17,
          3.21487334102542e-17,
          3.2143879619962396e-17,
          3.213889194718632e-17,
          3.213376020371964e-17,
          3.2128474223353264e-17,
          3.2123023929955014e-17,
          3.2117399407220646e-17,
          3.211159096977195e-17,
          3.2105589235259255e-17,
          3.209938519711707e-17,
          3.2092970297607757e-17,
          3.2086336500778673e-17,
          3.207947636495061e-17,
          3.207238311434907e-17,
          3.2065050709484624e-17,
          3.205747391588622e-17,
          3.204964837079024e-17,
          3.2041570647389364e-17,
          3.2033238316246935e-17,
          3.20246500034877e-17,
          3.201580544538318e-17,
          3.20067055389562e-17,
          3.1997352388240884e-17,
          3.198774934584602e-17,
          3.197790104948174e-17,
          3.1967813453128916e-17,
          3.195749385254234e-17,
          3.1946950904802074e-17,
          3.193619464164616e-17,
          3.192523647633744e-17,
          3.191408920384458e-17,
          3.190276699413847e-17,
          3.189128537843238e-17,
          3.187966122822089e-17,
          3.186791272699939e-17,
          3.185605933457789e-17,
          3.184412174392698e-17,
          3.183212183053015e-17,
          3.1820082594242195e-17,
          3.180802809368802e-17,
          3.1795983373265666e-17,
          3.1783974382849556e-17,
          3.1772027890322183e-17,
          3.176017138709296e-17,
          3.17484329867936e-17,
          3.1736841317372364e-17,
          3.1725425406838376e-17,
          3.171421456293521e-17,
          3.170323824705621e-17,
          3.1692525942736186e-17,
          3.168210701908638e-17,
          3.167201058956128e-17,
          3.166226536647225e-17,
          3.165289951168556e-17,
          3.164394048396385e-17,
          3.163541488342926e-17,
          3.162734829364613e-17,
          3.161976512183678e-17,
          3.1612688437757724e-17,
          3.1606139811778406e-17,
          3.1600139152712966e-17,
          3.159470454596611e-17,
          3.158985209256034e-17,
          3.15855957496151e-17,
          3.158194717285297e-17,
          3.157891556170724e-17,
          3.1576507507603054e-17,
          3.15747268459818e-17,
          3.1573574512630933e-17,
          3.157304840487466e-17,
          3.157314324817054e-17,
          3.157385046864404e-17,
          3.15751580720809e-17,
          3.1577050529880016e-17,
          3.1579508672452103e-17,
          3.1582509590530633e-17,
          3.158602654483994e-17,
          3.159002888454352e-17,
          3.1594481974870154e-17,
          3.1599347134292397e-17,
          3.160458158160325e-17,
          3.1610138393209796e-17,
          3.161596647093431e-17,
          3.1622010520583756e-17,
          3.162821104151554e-17,
          3.163450432740081e-17,
          3.164082247834997e-17,
          3.164709342453642e-17,
          3.1653240961419695e-17,
          3.1659184796637087e-17,
          3.1664840608601304e-17,
          3.1670120116805255e-17,
          3.167493116380601e-17,
          3.1679177808824886e-17,
          3.168276043286845e-17,
          3.168557585524507e-17,
          3.168751746131655e-17,
          3.168847534129719e-17,
          3.168833643987989e-17,
          3.1686984716439113e-17,
          3.1684301315533936e-17,
          3.1680164747402534e-17,
          3.167445107811683e-17,
          3.166703412903508e-17,
          3.165778568516865e-17,
          3.1646575712053334e-17,
          3.163327258069122e-17,
          3.1617743300110095e-17,
          3.15998537570633e-17,
          3.1579468962374726e-17,
          3.155645330341503e-17,
          3.153067080217559e-17,
          3.1501985378394365e-17,
          3.1470261117168044e-17,
          3.143536254047416e-17,
          3.1397154882014065e-17,
          3.1355504364771834e-17,
          3.131027848068205e-17,
          3.126134627178186e-17,
          3.1208578612219776e-17,
          3.1151848490487416e-17,
          3.109103129122992e-17,
          3.1026005075995224e-17,
          3.0956650862270755e-17,
          3.088285290016008e-17,
          3.080449894605215e-17,
          3.0721480532628734e-17,
          3.0633693234572304e-17,
          3.0541036929325563e-17,
          3.044341605226804e-17,
          3.034073984567949e-17,
          3.023292260086132e-17,
          3.011988389280965e-17,
          3.00015488068296e-17,
          2.987784815649993e-17,
          2.974871869241338e-17,
          2.961410330111859e-17,
          2.9473951193726495e-17,
          2.932821808364393e-17,
          2.917686635292317e-17,
          2.901986520674207e-17,
          2.885719081553382e-17,
          2.8688826444335926e-17,
          2.85147625689268e-17,
          2.8334996978360497e-17,
          2.8149534863531935e-17,
          2.79583888914411e-17,
          2.7761579264836825e-17,
          2.7559133766984178e-17,
          2.7351087791301848e-17,
          2.7137484355667628e-17,
          2.6918374101227522e-17,
          2.669381527556062e-17,
          2.6463873700124724e-17,
          2.6228622721912185e-17,
          2.5988143149305245e-17,
          2.574252317216087e-17,
          2.5491858266175315e-17,
          2.523625108165863e-17,
          2.4975811316852693e-17,
          2.471065557599243e-17,
          2.444090721235096e-17,
          2.4166696156530355e-17,
          2.3888158730343056e-17,
          2.3605437446629583e-17,
          2.331868079542399e-17,
          2.302804301692051e-17,
          2.2733683861708017e-17,
          2.2435768338826143e-17,
          2.2134466452186602e-17,
          2.182995292596924e-17,
          2.1522406919635442e-17,
          2.1212011733208907e-17,
          2.089895450355546e-17,
          2.058342589237179e-17,
          2.0265619766651872e-17,
          1.9945732872423582e-17,
          1.962396450254246e-17,
          1.930051615940264e-17
         ],
         "yaxis": "y"
        },
        {
         "fill": "tozeroy",
         "hovertemplate": "<b>Synthetic</b><br>Value: %{x}<br>Frequency: %{y}<extra></extra>",
         "legendgroup": "Synthetic",
         "marker": {
          "color": "#01E0C9"
         },
         "mode": "lines",
         "name": "Synthetic",
         "showlegend": true,
         "type": "scatter",
         "x": [
          "2020-01-07T00:00:00",
          "2020-01-07T17:34:04.800000",
          "2020-01-08T11:08:09.600000",
          "2020-01-09T04:42:14.400000",
          "2020-01-09T22:16:19.200000",
          "2020-01-10T15:50:24",
          "2020-01-11T09:24:28.800000",
          "2020-01-12T02:58:33.600000",
          "2020-01-12T20:32:38.400000",
          "2020-01-13T14:06:43.200000",
          "2020-01-14T07:40:48",
          "2020-01-15T01:14:52.800000",
          "2020-01-15T18:48:57.600000",
          "2020-01-16T12:23:02.400000",
          "2020-01-17T05:57:07.200000",
          "2020-01-17T23:31:12",
          "2020-01-18T17:05:16.800000",
          "2020-01-19T10:39:21.600000",
          "2020-01-20T04:13:26.400000",
          "2020-01-20T21:47:31.200000",
          "2020-01-21T15:21:36",
          "2020-01-22T08:55:40.800000",
          "2020-01-23T02:29:45.600000",
          "2020-01-23T20:03:50.400000",
          "2020-01-24T13:37:55.200000",
          "2020-01-25T07:12:00",
          "2020-01-26T00:46:04.800000",
          "2020-01-26T18:20:09.600000",
          "2020-01-27T11:54:14.400000",
          "2020-01-28T05:28:19.200000",
          "2020-01-28T23:02:24",
          "2020-01-29T16:36:28.800000",
          "2020-01-30T10:10:33.600000",
          "2020-01-31T03:44:38.400000",
          "2020-01-31T21:18:43.200000",
          "2020-02-01T14:52:48",
          "2020-02-02T08:26:52.800000",
          "2020-02-03T02:00:57.600000",
          "2020-02-03T19:35:02.400000",
          "2020-02-04T13:09:07.200000",
          "2020-02-05T06:43:12",
          "2020-02-06T00:17:16.800000",
          "2020-02-06T17:51:21.600000",
          "2020-02-07T11:25:26.400000",
          "2020-02-08T04:59:31.200000",
          "2020-02-08T22:33:36",
          "2020-02-09T16:07:40.800000",
          "2020-02-10T09:41:45.600000",
          "2020-02-11T03:15:50.400000",
          "2020-02-11T20:49:55.200000",
          "2020-02-12T14:24:00",
          "2020-02-13T07:58:04.800000",
          "2020-02-14T01:32:09.600000",
          "2020-02-14T19:06:14.400000",
          "2020-02-15T12:40:19.200000",
          "2020-02-16T06:14:24",
          "2020-02-16T23:48:28.800000",
          "2020-02-17T17:22:33.600000",
          "2020-02-18T10:56:38.400000",
          "2020-02-19T04:30:43.200000",
          "2020-02-19T22:04:48",
          "2020-02-20T15:38:52.800000",
          "2020-02-21T09:12:57.600000",
          "2020-02-22T02:47:02.400000",
          "2020-02-22T20:21:07.200000",
          "2020-02-23T13:55:12",
          "2020-02-24T07:29:16.800000",
          "2020-02-25T01:03:21.600000",
          "2020-02-25T18:37:26.400000",
          "2020-02-26T12:11:31.200000",
          "2020-02-27T05:45:36",
          "2020-02-27T23:19:40.800000",
          "2020-02-28T16:53:45.600000",
          "2020-02-29T10:27:50.400000",
          "2020-03-01T04:01:55.200000",
          "2020-03-01T21:36:00",
          "2020-03-02T15:10:04.800000",
          "2020-03-03T08:44:09.600000",
          "2020-03-04T02:18:14.400000",
          "2020-03-04T19:52:19.200000",
          "2020-03-05T13:26:24",
          "2020-03-06T07:00:28.800000",
          "2020-03-07T00:34:33.600000",
          "2020-03-07T18:08:38.400000",
          "2020-03-08T11:42:43.200000",
          "2020-03-09T05:16:48",
          "2020-03-09T22:50:52.800000",
          "2020-03-10T16:24:57.600000",
          "2020-03-11T09:59:02.400000",
          "2020-03-12T03:33:07.200000",
          "2020-03-12T21:07:12",
          "2020-03-13T14:41:16.800000",
          "2020-03-14T08:15:21.600000",
          "2020-03-15T01:49:26.400000",
          "2020-03-15T19:23:31.200000",
          "2020-03-16T12:57:36",
          "2020-03-17T06:31:40.800000",
          "2020-03-18T00:05:45.600000",
          "2020-03-18T17:39:50.400000",
          "2020-03-19T11:13:55.200000",
          "2020-03-20T04:48:00",
          "2020-03-20T22:22:04.800000",
          "2020-03-21T15:56:09.600000",
          "2020-03-22T09:30:14.400000",
          "2020-03-23T03:04:19.200000",
          "2020-03-23T20:38:24",
          "2020-03-24T14:12:28.800000",
          "2020-03-25T07:46:33.600000",
          "2020-03-26T01:20:38.400000",
          "2020-03-26T18:54:43.200000",
          "2020-03-27T12:28:48",
          "2020-03-28T06:02:52.800000",
          "2020-03-28T23:36:57.600000",
          "2020-03-29T17:11:02.400000",
          "2020-03-30T10:45:07.200000",
          "2020-03-31T04:19:12",
          "2020-03-31T21:53:16.800000",
          "2020-04-01T15:27:21.600000",
          "2020-04-02T09:01:26.400000",
          "2020-04-03T02:35:31.200000",
          "2020-04-03T20:09:36",
          "2020-04-04T13:43:40.800000",
          "2020-04-05T07:17:45.600000",
          "2020-04-06T00:51:50.400000",
          "2020-04-06T18:25:55.200000",
          "2020-04-07T12:00:00",
          "2020-04-08T05:34:04.800000",
          "2020-04-08T23:08:09.600000",
          "2020-04-09T16:42:14.400000",
          "2020-04-10T10:16:19.200000",
          "2020-04-11T03:50:24",
          "2020-04-11T21:24:28.800000",
          "2020-04-12T14:58:33.600000",
          "2020-04-13T08:32:38.400000",
          "2020-04-14T02:06:43.200000",
          "2020-04-14T19:40:48",
          "2020-04-15T13:14:52.800000",
          "2020-04-16T06:48:57.600000",
          "2020-04-17T00:23:02.400000",
          "2020-04-17T17:57:07.200000",
          "2020-04-18T11:31:12",
          "2020-04-19T05:05:16.800000",
          "2020-04-19T22:39:21.600000",
          "2020-04-20T16:13:26.400000",
          "2020-04-21T09:47:31.200000",
          "2020-04-22T03:21:36",
          "2020-04-22T20:55:40.800000",
          "2020-04-23T14:29:45.600000",
          "2020-04-24T08:03:50.400000",
          "2020-04-25T01:37:55.200000",
          "2020-04-25T19:12:00",
          "2020-04-26T12:46:04.800000",
          "2020-04-27T06:20:09.600000",
          "2020-04-27T23:54:14.400000",
          "2020-04-28T17:28:19.200000",
          "2020-04-29T11:02:24",
          "2020-04-30T04:36:28.800000",
          "2020-04-30T22:10:33.600000",
          "2020-05-01T15:44:38.400000",
          "2020-05-02T09:18:43.200000",
          "2020-05-03T02:52:48",
          "2020-05-03T20:26:52.800000",
          "2020-05-04T14:00:57.600000",
          "2020-05-05T07:35:02.400000",
          "2020-05-06T01:09:07.200000",
          "2020-05-06T18:43:12",
          "2020-05-07T12:17:16.800000",
          "2020-05-08T05:51:21.600000",
          "2020-05-08T23:25:26.400000",
          "2020-05-09T16:59:31.200000",
          "2020-05-10T10:33:36",
          "2020-05-11T04:07:40.800000",
          "2020-05-11T21:41:45.600000",
          "2020-05-12T15:15:50.400000",
          "2020-05-13T08:49:55.200000",
          "2020-05-14T02:24:00",
          "2020-05-14T19:58:04.800000",
          "2020-05-15T13:32:09.600000",
          "2020-05-16T07:06:14.400000",
          "2020-05-17T00:40:19.200000",
          "2020-05-17T18:14:24",
          "2020-05-18T11:48:28.800000",
          "2020-05-19T05:22:33.600000",
          "2020-05-19T22:56:38.400000",
          "2020-05-20T16:30:43.200000",
          "2020-05-21T10:04:48",
          "2020-05-22T03:38:52.800000",
          "2020-05-22T21:12:57.600000",
          "2020-05-23T14:47:02.400000",
          "2020-05-24T08:21:07.200000",
          "2020-05-25T01:55:12",
          "2020-05-25T19:29:16.800000",
          "2020-05-26T13:03:21.600000",
          "2020-05-27T06:37:26.400000",
          "2020-05-28T00:11:31.200000",
          "2020-05-28T17:45:36",
          "2020-05-29T11:19:40.800000",
          "2020-05-30T04:53:45.600000",
          "2020-05-30T22:27:50.400000",
          "2020-05-31T16:01:55.200000",
          "2020-06-01T09:36:00",
          "2020-06-02T03:10:04.800000",
          "2020-06-02T20:44:09.600000",
          "2020-06-03T14:18:14.400000",
          "2020-06-04T07:52:19.200000",
          "2020-06-05T01:26:24",
          "2020-06-05T19:00:28.800000",
          "2020-06-06T12:34:33.600000",
          "2020-06-07T06:08:38.400000",
          "2020-06-07T23:42:43.200000",
          "2020-06-08T17:16:48",
          "2020-06-09T10:50:52.800000",
          "2020-06-10T04:24:57.600000",
          "2020-06-10T21:59:02.400000",
          "2020-06-11T15:33:07.200000",
          "2020-06-12T09:07:12",
          "2020-06-13T02:41:16.800000",
          "2020-06-13T20:15:21.600000",
          "2020-06-14T13:49:26.400000",
          "2020-06-15T07:23:31.200000",
          "2020-06-16T00:57:36",
          "2020-06-16T18:31:40.800000",
          "2020-06-17T12:05:45.600000",
          "2020-06-18T05:39:50.400000",
          "2020-06-18T23:13:55.200000",
          "2020-06-19T16:48:00",
          "2020-06-20T10:22:04.800000",
          "2020-06-21T03:56:09.600000",
          "2020-06-21T21:30:14.400000",
          "2020-06-22T15:04:19.200000",
          "2020-06-23T08:38:24",
          "2020-06-24T02:12:28.800000",
          "2020-06-24T19:46:33.600000",
          "2020-06-25T13:20:38.400000",
          "2020-06-26T06:54:43.200000",
          "2020-06-27T00:28:48",
          "2020-06-27T18:02:52.800000",
          "2020-06-28T11:36:57.600000",
          "2020-06-29T05:11:02.400000",
          "2020-06-29T22:45:07.200000",
          "2020-06-30T16:19:12",
          "2020-07-01T09:53:16.800000",
          "2020-07-02T03:27:21.600000",
          "2020-07-02T21:01:26.400000",
          "2020-07-03T14:35:31.200000",
          "2020-07-04T08:09:36",
          "2020-07-05T01:43:40.800000",
          "2020-07-05T19:17:45.600000",
          "2020-07-06T12:51:50.400000",
          "2020-07-07T06:25:55.200000",
          "2020-07-08T00:00:00",
          "2020-07-08T17:34:04.800000",
          "2020-07-09T11:08:09.600000",
          "2020-07-10T04:42:14.400000",
          "2020-07-10T22:16:19.200000",
          "2020-07-11T15:50:24",
          "2020-07-12T09:24:28.800000",
          "2020-07-13T02:58:33.600000",
          "2020-07-13T20:32:38.400000",
          "2020-07-14T14:06:43.200000",
          "2020-07-15T07:40:48",
          "2020-07-16T01:14:52.800000",
          "2020-07-16T18:48:57.600000",
          "2020-07-17T12:23:02.400000",
          "2020-07-18T05:57:07.200000",
          "2020-07-18T23:31:12",
          "2020-07-19T17:05:16.800000",
          "2020-07-20T10:39:21.600000",
          "2020-07-21T04:13:26.400000",
          "2020-07-21T21:47:31.200000",
          "2020-07-22T15:21:36",
          "2020-07-23T08:55:40.800000",
          "2020-07-24T02:29:45.600000",
          "2020-07-24T20:03:50.400000",
          "2020-07-25T13:37:55.200000",
          "2020-07-26T07:12:00",
          "2020-07-27T00:46:04.800000",
          "2020-07-27T18:20:09.600000",
          "2020-07-28T11:54:14.400000",
          "2020-07-29T05:28:19.200000",
          "2020-07-29T23:02:24",
          "2020-07-30T16:36:28.800000",
          "2020-07-31T10:10:33.600000",
          "2020-08-01T03:44:38.400000",
          "2020-08-01T21:18:43.200000",
          "2020-08-02T14:52:48",
          "2020-08-03T08:26:52.800000",
          "2020-08-04T02:00:57.600000",
          "2020-08-04T19:35:02.400000",
          "2020-08-05T13:09:07.200000",
          "2020-08-06T06:43:12",
          "2020-08-07T00:17:16.800000",
          "2020-08-07T17:51:21.600000",
          "2020-08-08T11:25:26.400000",
          "2020-08-09T04:59:31.200000",
          "2020-08-09T22:33:36",
          "2020-08-10T16:07:40.800000",
          "2020-08-11T09:41:45.600000",
          "2020-08-12T03:15:50.400000",
          "2020-08-12T20:49:55.200000",
          "2020-08-13T14:24:00",
          "2020-08-14T07:58:04.800000",
          "2020-08-15T01:32:09.600000",
          "2020-08-15T19:06:14.400000",
          "2020-08-16T12:40:19.200000",
          "2020-08-17T06:14:24",
          "2020-08-17T23:48:28.800000",
          "2020-08-18T17:22:33.600000",
          "2020-08-19T10:56:38.400000",
          "2020-08-20T04:30:43.200000",
          "2020-08-20T22:04:48",
          "2020-08-21T15:38:52.800000",
          "2020-08-22T09:12:57.600000",
          "2020-08-23T02:47:02.400000",
          "2020-08-23T20:21:07.200000",
          "2020-08-24T13:55:12",
          "2020-08-25T07:29:16.800000",
          "2020-08-26T01:03:21.600000",
          "2020-08-26T18:37:26.400000",
          "2020-08-27T12:11:31.200000",
          "2020-08-28T05:45:36",
          "2020-08-28T23:19:40.800000",
          "2020-08-29T16:53:45.600000",
          "2020-08-30T10:27:50.400000",
          "2020-08-31T04:01:55.200000",
          "2020-08-31T21:36:00",
          "2020-09-01T15:10:04.800000",
          "2020-09-02T08:44:09.600000",
          "2020-09-03T02:18:14.400000",
          "2020-09-03T19:52:19.200000",
          "2020-09-04T13:26:24",
          "2020-09-05T07:00:28.800000",
          "2020-09-06T00:34:33.600000",
          "2020-09-06T18:08:38.400000",
          "2020-09-07T11:42:43.200000",
          "2020-09-08T05:16:48",
          "2020-09-08T22:50:52.800000",
          "2020-09-09T16:24:57.600000",
          "2020-09-10T09:59:02.400000",
          "2020-09-11T03:33:07.200000",
          "2020-09-11T21:07:12",
          "2020-09-12T14:41:16.800000",
          "2020-09-13T08:15:21.600000",
          "2020-09-14T01:49:26.400000",
          "2020-09-14T19:23:31.200000",
          "2020-09-15T12:57:36",
          "2020-09-16T06:31:40.800000",
          "2020-09-17T00:05:45.600000",
          "2020-09-17T17:39:50.400000",
          "2020-09-18T11:13:55.200000",
          "2020-09-19T04:48:00",
          "2020-09-19T22:22:04.800000",
          "2020-09-20T15:56:09.600000",
          "2020-09-21T09:30:14.400000",
          "2020-09-22T03:04:19.200000",
          "2020-09-22T20:38:24",
          "2020-09-23T14:12:28.800000",
          "2020-09-24T07:46:33.600000",
          "2020-09-25T01:20:38.400000",
          "2020-09-25T18:54:43.200000",
          "2020-09-26T12:28:48",
          "2020-09-27T06:02:52.800000",
          "2020-09-27T23:36:57.600000",
          "2020-09-28T17:11:02.400000",
          "2020-09-29T10:45:07.200000",
          "2020-09-30T04:19:12",
          "2020-09-30T21:53:16.800000",
          "2020-10-01T15:27:21.600000",
          "2020-10-02T09:01:26.400000",
          "2020-10-03T02:35:31.200000",
          "2020-10-03T20:09:36",
          "2020-10-04T13:43:40.800000",
          "2020-10-05T07:17:45.600000",
          "2020-10-06T00:51:50.400000",
          "2020-10-06T18:25:55.200000",
          "2020-10-07T12:00:00",
          "2020-10-08T05:34:04.800000",
          "2020-10-08T23:08:09.600000",
          "2020-10-09T16:42:14.400000",
          "2020-10-10T10:16:19.200000",
          "2020-10-11T03:50:24",
          "2020-10-11T21:24:28.800000",
          "2020-10-12T14:58:33.600000",
          "2020-10-13T08:32:38.400000",
          "2020-10-14T02:06:43.200000",
          "2020-10-14T19:40:48",
          "2020-10-15T13:14:52.800000",
          "2020-10-16T06:48:57.600000",
          "2020-10-17T00:23:02.400000",
          "2020-10-17T17:57:07.200000",
          "2020-10-18T11:31:12",
          "2020-10-19T05:05:16.800000",
          "2020-10-19T22:39:21.600000",
          "2020-10-20T16:13:26.400000",
          "2020-10-21T09:47:31.200000",
          "2020-10-22T03:21:36",
          "2020-10-22T20:55:40.800000",
          "2020-10-23T14:29:45.600000",
          "2020-10-24T08:03:50.400000",
          "2020-10-25T01:37:55.200000",
          "2020-10-25T19:12:00",
          "2020-10-26T12:46:04.800000",
          "2020-10-27T06:20:09.600000",
          "2020-10-27T23:54:14.400000",
          "2020-10-28T17:28:19.200000",
          "2020-10-29T11:02:24",
          "2020-10-30T04:36:28.800000",
          "2020-10-30T22:10:33.600000",
          "2020-10-31T15:44:38.400000",
          "2020-11-01T09:18:43.200000",
          "2020-11-02T02:52:48",
          "2020-11-02T20:26:52.800000",
          "2020-11-03T14:00:57.600000",
          "2020-11-04T07:35:02.400000",
          "2020-11-05T01:09:07.200000",
          "2020-11-05T18:43:12",
          "2020-11-06T12:17:16.800000",
          "2020-11-07T05:51:21.600000",
          "2020-11-07T23:25:26.400000",
          "2020-11-08T16:59:31.200000",
          "2020-11-09T10:33:36",
          "2020-11-10T04:07:40.800000",
          "2020-11-10T21:41:45.600000",
          "2020-11-11T15:15:50.400000",
          "2020-11-12T08:49:55.200000",
          "2020-11-13T02:24:00",
          "2020-11-13T19:58:04.800000",
          "2020-11-14T13:32:09.600000",
          "2020-11-15T07:06:14.400000",
          "2020-11-16T00:40:19.200000",
          "2020-11-16T18:14:24",
          "2020-11-17T11:48:28.800000",
          "2020-11-18T05:22:33.600000",
          "2020-11-18T22:56:38.400000",
          "2020-11-19T16:30:43.200000",
          "2020-11-20T10:04:48",
          "2020-11-21T03:38:52.800000",
          "2020-11-21T21:12:57.600000",
          "2020-11-22T14:47:02.400000",
          "2020-11-23T08:21:07.200000",
          "2020-11-24T01:55:12",
          "2020-11-24T19:29:16.800000",
          "2020-11-25T13:03:21.600000",
          "2020-11-26T06:37:26.400000",
          "2020-11-27T00:11:31.200000",
          "2020-11-27T17:45:36",
          "2020-11-28T11:19:40.800000",
          "2020-11-29T04:53:45.600000",
          "2020-11-29T22:27:50.400000",
          "2020-11-30T16:01:55.200000",
          "2020-12-01T09:36:00",
          "2020-12-02T03:10:04.800000",
          "2020-12-02T20:44:09.600000",
          "2020-12-03T14:18:14.400000",
          "2020-12-04T07:52:19.200000",
          "2020-12-05T01:26:24",
          "2020-12-05T19:00:28.800000",
          "2020-12-06T12:34:33.600000",
          "2020-12-07T06:08:38.400000",
          "2020-12-07T23:42:43.200000",
          "2020-12-08T17:16:48",
          "2020-12-09T10:50:52.800000",
          "2020-12-10T04:24:57.600000",
          "2020-12-10T21:59:02.400000",
          "2020-12-11T15:33:07.200000",
          "2020-12-12T09:07:12",
          "2020-12-13T02:41:16.800000",
          "2020-12-13T20:15:21.600000",
          "2020-12-14T13:49:26.400000",
          "2020-12-15T07:23:31.200000",
          "2020-12-16T00:57:36",
          "2020-12-16T18:31:40.800000",
          "2020-12-17T12:05:45.600000",
          "2020-12-18T05:39:50.400000",
          "2020-12-18T23:13:55.200000",
          "2020-12-19T16:48:00",
          "2020-12-20T10:22:04.800000",
          "2020-12-21T03:56:09.600000",
          "2020-12-21T21:30:14.400000",
          "2020-12-22T15:04:19.200000",
          "2020-12-23T08:38:24",
          "2020-12-24T02:12:28.800000",
          "2020-12-24T19:46:33.600000",
          "2020-12-25T13:20:38.400000",
          "2020-12-26T06:54:43.200000",
          "2020-12-27T00:28:48",
          "2020-12-27T18:02:52.800000",
          "2020-12-28T11:36:57.600000",
          "2020-12-29T05:11:02.400000",
          "2020-12-29T22:45:07.200000",
          "2020-12-30T16:19:12",
          "2020-12-31T09:53:16.800000",
          "2021-01-01T03:27:21.600000",
          "2021-01-01T21:01:26.400000",
          "2021-01-02T14:35:31.200000",
          "2021-01-03T08:09:36",
          "2021-01-04T01:43:40.800000",
          "2021-01-04T19:17:45.600000",
          "2021-01-05T12:51:50.400000",
          "2021-01-06T06:25:55.200000"
         ],
         "xaxis": "x",
         "y": [
          1.4693222645735942e-17,
          1.4963143131530168e-17,
          1.5232803981254e-17,
          1.5502056451122345e-17,
          1.5770752180978935e-17,
          1.603874342150045e-17,
          1.6305883259876038e-17,
          1.657202584340347e-17,
          1.6837026600491318e-17,
          1.7100742458530613e-17,
          1.7363032058161022e-17,
          1.7623755963424215e-17,
          1.7882776867350366e-17,
          1.813995979250643e-17,
          1.8395172286097303e-17,
          1.8648284609197466e-17,
          1.8899169919711522e-17,
          1.914770444871995e-17,
          1.9393767669845342e-17,
          1.963724246133446e-17,
          1.987801526054072e-17,
          2.0115976210560777e-17,
          2.035101929876108e-17,
          2.0583042486989595e-17,
          2.0811947833260566e-17,
          2.1037641604767896e-17,
          2.1260034382067238e-17,
          2.147904115432406e-17,
          2.1694581405519652e-17,
          2.1906579191570788e-17,
          2.2114963208304316e-17,
          2.2319666850281857e-17,
          2.252062826046407e-17,
          2.27177903707629e-17,
          2.2911100933515908e-17,
          2.310051254396481e-17,
          2.3285982653814578e-17,
          2.3467473576001142e-17,
          2.364495248078646e-17,
          2.3818391383319096e-17,
          2.3987767122838558e-17,
          2.4153061333685883e-17,
          2.431426040832038e-17,
          2.447135545253441e-17,
          2.462434223309656e-17,
          2.477322111803783e-17,
          2.4917997009825324e-17,
          2.5058679271657605e-17,
          2.5195281647149173e-17,
          2.5327822173652078e-17,
          2.5456323089490035e-17,
          2.558081073536446e-17,
          2.57013154502223e-17,
          2.5817871461853395e-17,
          2.5930516772507776e-17,
          2.603929303980655e-17,
          2.6144245453243532e-17,
          2.6245422606558234e-17,
          2.634287636626225e-17,
          2.6436661736615645e-17,
          2.6526836721330083e-17,
          2.6613462182289686e-17,
          2.669660169556479e-17,
          2.677632140500938e-17,
          2.6852689873713542e-17,
          2.6925777933593058e-17,
          2.699565853338407e-17,
          2.7062406585321897e-17,
          2.712609881076604e-17,
          2.718681358504162e-17,
          2.724463078175429e-17,
          2.7299631616843903e-17,
          2.7351898492628257e-17,
          2.7401514842092225e-17,
          2.7448564973668634e-17,
          2.7493133916760558e-17,
          2.7535307268244428e-17,
          2.75751710401957e-17,
          2.76128115090688e-17,
          2.7648315066568768e-17,
          2.768176807243967e-17,
          2.771325670939532e-17,
          2.7742866840415642e-17,
          2.7770683868624995e-17,
          2.7796792599967506e-17,
          2.7821277108888414e-17,
          2.7844220607229686e-17,
          2.7865705316540496e-17,
          2.788581234400102e-17,
          2.7904621562152354e-17,
          2.7922211492622413e-17,
          2.793865919403022e-17,
          2.795404015424857e-17,
          2.7968428187196235e-17,
          2.7981895334329635e-17,
          2.7994511770993584e-17,
          2.800634571778679e-17,
          2.801746335709066e-17,
          2.802792875490248e-17,
          2.803780378810732e-17,
          2.804714807731461e-17,
          2.805601892537729e-17,
          2.8064471261703574e-17,
          2.8072557592461445e-17,
          2.8080327956767056e-17,
          2.808782988893875e-17,
          2.8095108386888104e-17,
          2.810220588670861e-17,
          2.8109162243511576e-17,
          2.8116014718548485e-17,
          2.8122797972646193e-17,
          2.8129544065970276e-17,
          2.813628246411834e-17,
          2.814304005053401e-17,
          2.8149841145217784e-17,
          2.815670752969899e-17,
          2.816365847821792e-17,
          2.817071079505587e-17,
          2.817787885793422e-17,
          2.8185174667391746e-17,
          2.819260790203382e-17,
          2.820018597953301e-17,
          2.8207914123247516e-17,
          2.821579543430649e-17,
          2.822383096900022e-17,
          2.823201982129717e-17,
          2.824035921029437e-17,
          2.8248844572396136e-17,
          2.825746965800032e-17,
          2.826622663245793e-17,
          2.827510618105863e-17,
          2.828409761778138e-17,
          2.8293188997536724e-17,
          2.830236723161492e-17,
          2.831161820604229e-17,
          2.832092690253574e-17,
          2.8330277521736614e-17,
          2.833965360839322e-17,
          2.834903817815166e-17,
          2.835841384560688e-17,
          2.836776295325778e-17,
          2.8377067701001096e-17,
          2.83863102757948e-17,
          2.839547298111494e-17,
          2.840453836582521e-17,
          2.841348935207589e-17,
          2.842230936184507e-17,
          2.843098244173497e-17,
          2.84394933856351e-17,
          2.844782785486507e-17,
          2.8455972495411266e-17,
          2.846391505187637e-17,
          2.8471644477763816e-17,
          2.847915104172589e-17,
          2.848642642940999e-17,
          2.8493463840548494e-17,
          2.8500258080943373e-17,
          2.8506805649012934e-17,
          2.851310481657416e-17,
          2.8519155703552874e-17,
          2.852496034632747e-17,
          2.853052275942444e-17,
          2.8535848990307874e-17,
          2.854094716701771e-17,
          2.8545827538434674e-17,
          2.855050250696948e-17,
          2.855498665349626e-17,
          2.855929675437297e-17,
          2.856345179041565e-17,
          2.856747294771781e-17,
          2.857138361023311e-17,
          2.8575209344064006e-17,
          2.8578977873428035e-17,
          2.8582719048299824e-17,
          2.858646480375493e-17,
          2.859024911107155e-17,
          2.859410792067212e-17,
          2.859807909701899e-17,
          2.860220234560365e-17,
          2.860651913220088e-17,
          2.8611072594586015e-17,
          2.861590744694079e-17,
          2.8621069877204385e-17,
          2.8626607437648986e-17,
          2.8632568928988795e-17,
          2.863900427835634e-17,
          2.864596441150259e-17,
          2.8653501119604385e-17,
          2.866166692108147e-17,
          2.867051491884877e-17,
          2.868009865344815e-17,
          2.8690471952522426e-17,
          2.870168877711006e-17,
          2.87138030652549e-17,
          2.87268685734368e-17,
          2.8740938716341897e-17,
          2.8756066405497775e-17,
          2.877230388730879e-17,
          2.8789702581029493e-17,
          2.8808312917219457e-17,
          2.882818417721962e-17,
          2.884936433419478e-17,
          2.8871899896277953e-17,
          2.88958357523493e-17,
          2.892121502097557e-17,
          2.894807890302261e-17,
          2.897646653844687e-17,
          2.900641486775065e-17,
          2.90379584985778e-17,
          2.9071129577903126e-17,
          2.910595767025123e-17,
          2.914246964235744e-17,
          2.9180689554663866e-17,
          2.922063856001488e-17,
          2.926233480989325e-17,
          2.930579336850698e-17,
          2.9351026135014327e-17,
          2.939804177413821e-17,
          2.9446845655395665e-17,
          2.94974398011314e-17,
          2.9549822843518826e-17,
          2.960398999065418e-17,
          2.965993300183901e-17,
          2.9717640172109246e-17,
          2.977709632604421e-17,
          2.983828282084759e-17,
          2.9901177558660036e-17,
          2.996575500803867e-17,
          3.0031986234497094e-17,
          3.009983893997512e-17,
          3.01692775110698e-17,
          3.024026307584164e-17,
          3.031275356896703e-17,
          3.038670380499394e-17,
          3.0462065559419205e-17,
          3.0538787657295045e-17,
          3.06168160690365e-17,
          3.069609401309018e-17,
          3.077656206509399e-17,
          3.085815827315295e-17,
          3.0940818278827357e-17,
          3.102447544342249e-17,
          3.110906097915015e-17,
          3.1194504084730166e-17,
          3.1280732084984515e-17,
          3.136767057396468e-17,
          3.145524356116431e-17,
          3.154337362034745e-17,
          3.163198204053402e-17,
          3.1720988978674446e-17,
          3.1810313613559917e-17,
          3.189987430050564e-17,
          3.1989588726361096e-17,
          3.2079374064396906e-17,
          3.216914712864183e-17,
          3.225882452723858e-17,
          3.2348322814411926e-17,
          3.243755864064131e-17,
          3.252644890066363e-17,
          3.2614910878927594e-17,
          3.2702862392154945e-17,
          3.2790221928664576e-17,
          3.287690878415284e-17,
          3.2962843193628535e-17,
          3.304794645922258e-17,
          3.313214107362445e-17,
          3.321535083890254e-17,
          3.329750098050245e-17,
          3.3378518256222366e-17,
          3.3458331060006935e-17,
          3.353686952040455e-17,
          3.3614065593567795e-17,
          3.368985315068843e-17,
          3.3764168059793424e-17,
          3.383694826183643e-17,
          3.390813384105057e-17,
          3.39776670895413e-17,
          3.4045492566126467e-17,
          3.4111557149445e-17,
          3.417581008537619e-17,
          3.4238203028828136e-17,
          3.429869007997814e-17,
          3.4357227815056204e-17,
          3.441377531178508e-17,
          3.446829416960007e-17,
          3.452074852479332e-17,
          3.4571105060733124e-17,
          3.461933301332304e-17,
          3.46654041718807e-17,
          3.470929287562021e-17,
          3.4750976005936223e-17,
          3.4790432974688967e-17,
          3.482764570870579e-17,
          3.4862598630710563e-17,
          3.489527863690395e-17,
          3.4925675071415076e-17,
          3.4953779697853673e-17,
          3.497958666818741e-17,
          3.500309248917249e-17,
          3.502429598656174e-17,
          3.504319826731727e-17,
          3.505980268004579e-17,
          3.507411477387534e-17,
          3.5086142255984194e-17,
          3.5095894947989765e-17,
          3.510338474139592e-17,
          3.5108625552290376e-17,
          3.5111633275477875e-17,
          3.511242573822179e-17,
          3.5111022653760737e-17,
          3.51074455747544e-17,
          3.510171784680252e-17,
          3.509386456217107e-17,
          3.508391251384369e-17,
          3.507189015001083e-17,
          3.5057827529089936e-17,
          3.5041756275361486e-17,
          3.5023709535291246e-17,
          3.5003721934596627e-17,
          3.498182953610101e-17,
          3.495806979840788e-17,
          3.493248153541138e-17,
          3.4905104876651536e-17,
          3.4875981228503246e-17,
          3.4845153236180693e-17,
          3.4812664746524077e-17,
          3.4778560771525035e-17,
          3.474288745253419e-17,
          3.470569202508297e-17,
          3.466702278424554e-17,
          3.462692905044861e-17,
          3.458546113563689e-17,
          3.4542670309684275e-17,
          3.4498608766941815e-17,
          3.4453329592796314e-17,
          3.4406886730116137e-17,
          3.4359334945446985e-17,
          3.4310729794823923e-17,
          3.4261127589050867e-17,
          3.421058535830642e-17,
          3.415916081592386e-17,
          3.410691232119866e-17,
          3.4053898841067854e-17,
          3.400017991051409e-17,
          3.3945815591540875e-17,
          3.389086643057555e-17,
          3.383539341414914e-17,
          3.377945792271355e-17,
          3.3723121682460544e-17,
          3.36664467150065e-17,
          3.36094952848197e-17,
          3.35523298442679e-17,
          3.349501297618014e-17,
          3.3437607333812017e-17,
          3.3380175578127036e-17,
          3.3322780312305025e-17,
          3.3265484013408485e-17,
          3.3208348961139733e-17,
          3.3151437163641703e-17,
          3.309481028030053e-17,
          3.303852954152941e-17,
          3.2982655665515506e-17,
          3.292724877193632e-17,
          3.2872368292657265e-17,
          3.2818072879446556e-17,
          3.276442030874596e-17,
          3.2711467383562466e-17,
          3.265926983255805e-17,
          3.2607882206424755e-17,
          3.2557357771657263e-17,
          3.250774840184409e-17,
          3.245910446662029e-17,
          3.241147471843407e-17,
          3.2364906177302543e-17,
          3.231944401374222e-17,
          3.227513143008285e-17,
          3.223200954037859e-17,
          3.2190117249157414e-17,
          3.214949112925626e-17,
          3.211016529901079e-17,
          3.207217129907691e-17,
          3.2035537969182174e-17,
          3.200029132511296e-17,
          3.196645443626214e-17,
          3.193404730406842e-17,
          3.190308674169637e-17,
          3.187358625531304e-17,
          3.184555592733184e-17,
          3.181900230199874e-17,
          3.179392827370883e-17,
          3.1770332978449955e-17,
          3.174821168877116e-17,
          3.172755571268669e-17,
          3.1708352296925616e-17,
          3.1690584534944744e-17,
          3.1674231280120824e-17,
          3.165926706454287e-17,
          3.1645662023821973e-17,
          3.163338182833752e-17,
          3.162238762133187e-17,
          3.1612635964264433e-17,
          3.160407878982802e-17,
          3.159666336302282e-17,
          3.159033225067513e-17,
          3.158502329977593e-17,
          3.1580669625002294e-17,
          3.1577199605771026e-17,
          3.157453689315717e-17,
          3.157260042699301e-17,
          3.157130446344385e-17,
          3.15705586133359e-17,
          3.157026789148981e-17,
          3.157033277728774e-17,
          3.157064928667718e-17,
          3.157110905578794e-17,
          3.1571599436307745e-17,
          3.157200360273433e-17,
          3.1572200671587616e-17,
          3.1572065832634574e-17,
          3.157147049214356e-17,
          3.157028242815047e-17,
          3.1568365957682136e-17,
          3.156558211584495e-17,
          3.1561788846647824e-17,
          3.155684120539133e-17,
          3.15505915724125e-17,
          3.154288987793771e-17,
          3.153358383775281e-17,
          3.152251919936091e-17,
          3.150953999825805e-17,
          3.149448882391339e-17,
          3.147720709500491e-17,
          3.145753534341888e-17,
          3.143531350648194e-17,
          3.1410381226859265e-17,
          3.138257815951235e-17,
          3.13517442850756e-17,
          3.1317720228974224e-17,
          3.128034758557573e-17,
          3.1239469246631044e-17,
          3.1194929733238816e-17,
          3.114657553052994e-17,
          3.109425542425117e-17,
          3.103782083839785e-17,
          3.097712617303195e-17,
          3.091202914139416e-17,
          3.08423911054117e-17,
          3.076807740868458e-17,
          3.0688957706031224e-17,
          3.060490628865721e-17,
          3.051580240401454e-17,
          3.042153056942231e-17,
          3.032198087850905e-17,
          3.0217049299559366e-17,
          3.010663796484314e-17,
          2.999065545003465e-17,
          2.9869017042825853e-17,
          2.974164499987613e-17,
          2.960846879125077e-17,
          2.9469425331541987e-17,
          2.932445919687499e-17,
          2.917352282705731e-17,
          2.9016576712146724e-17,
          2.8853589562773576e-17,
          2.8684538463568156e-17,
          2.8509409009115837e-17,
          2.832819542188868e-17,
          2.8140900651676106e-17,
          2.794753645605763e-17,
          2.7748123461548027e-17,
          2.7542691205075612e-17,
          2.7331278155538858e-17,
          2.7113931715214574e-17,
          2.689070820087541e-17,
          2.666167280454113e-17,
          2.642689953381952e-17,
          2.61864711318932e-17,
          2.5940478977243527e-17,
          2.568902296329672e-17,
          2.5432211358200782e-17,
          2.5170160645046505e-17,
          2.490299534287451e-17,
          2.4630847808907947e-17,
          2.4353858022464075e-17,
          2.4072173351104073e-17,
          2.378594829959939e-17,
          2.349534424238856e-17,
          2.3200529140199807e-17,
          2.2901677241616628e-17,
          2.2598968770371958e-17,
          2.2292589599242276e-17,
          2.19827309114043e-17,
          2.1669588850196856e-17,
          2.13533641582665e-17,
          2.1034261807067477e-17,
          2.071249061776423e-17,
          2.038826287457223e-17,
          2.0061793931632127e-17,
          1.9733301814477654e-17,
          1.9403006817224643e-17
         ],
         "yaxis": "y"
        }
       ],
       "layout": {
        "annotations": [
         {
          "showarrow": false,
          "text": "*Missing Values: Real Data (4.0%), Synthetic Data (4.0%)",
          "x": 1,
          "xref": "paper",
          "y": 1.05,
          "yref": "paper"
         }
        ],
        "barmode": "overlay",
        "hovermode": "closest",
        "legend": {
         "traceorder": "reversed"
        },
        "plot_bgcolor": "#F5F5F8",
        "template": {
         "data": {
          "bar": [
           {
            "error_x": {
             "color": "#2a3f5f"
            },
            "error_y": {
             "color": "#2a3f5f"
            },
            "marker": {
             "line": {
              "color": "#E5ECF6",
              "width": 0.5
             },
             "pattern": {
              "fillmode": "overlay",
              "size": 10,
              "solidity": 0.2
             }
            },
            "type": "bar"
           }
          ],
          "barpolar": [
           {
            "marker": {
             "line": {
              "color": "#E5ECF6",
              "width": 0.5
             },
             "pattern": {
              "fillmode": "overlay",
              "size": 10,
              "solidity": 0.2
             }
            },
            "type": "barpolar"
           }
          ],
          "carpet": [
           {
            "aaxis": {
             "endlinecolor": "#2a3f5f",
             "gridcolor": "white",
             "linecolor": "white",
             "minorgridcolor": "white",
             "startlinecolor": "#2a3f5f"
            },
            "baxis": {
             "endlinecolor": "#2a3f5f",
             "gridcolor": "white",
             "linecolor": "white",
             "minorgridcolor": "white",
             "startlinecolor": "#2a3f5f"
            },
            "type": "carpet"
           }
          ],
          "choropleth": [
           {
            "colorbar": {
             "outlinewidth": 0,
             "ticks": ""
            },
            "type": "choropleth"
           }
          ],
          "contour": [
           {
            "colorbar": {
             "outlinewidth": 0,
             "ticks": ""
            },
            "colorscale": [
             [
              0,
              "#0d0887"
             ],
             [
              0.1111111111111111,
              "#46039f"
             ],
             [
              0.2222222222222222,
              "#7201a8"
             ],
             [
              0.3333333333333333,
              "#9c179e"
             ],
             [
              0.4444444444444444,
              "#bd3786"
             ],
             [
              0.5555555555555556,
              "#d8576b"
             ],
             [
              0.6666666666666666,
              "#ed7953"
             ],
             [
              0.7777777777777778,
              "#fb9f3a"
             ],
             [
              0.8888888888888888,
              "#fdca26"
             ],
             [
              1,
              "#f0f921"
             ]
            ],
            "type": "contour"
           }
          ],
          "contourcarpet": [
           {
            "colorbar": {
             "outlinewidth": 0,
             "ticks": ""
            },
            "type": "contourcarpet"
           }
          ],
          "heatmap": [
           {
            "colorbar": {
             "outlinewidth": 0,
             "ticks": ""
            },
            "colorscale": [
             [
              0,
              "#0d0887"
             ],
             [
              0.1111111111111111,
              "#46039f"
             ],
             [
              0.2222222222222222,
              "#7201a8"
             ],
             [
              0.3333333333333333,
              "#9c179e"
             ],
             [
              0.4444444444444444,
              "#bd3786"
             ],
             [
              0.5555555555555556,
              "#d8576b"
             ],
             [
              0.6666666666666666,
              "#ed7953"
             ],
             [
              0.7777777777777778,
              "#fb9f3a"
             ],
             [
              0.8888888888888888,
              "#fdca26"
             ],
             [
              1,
              "#f0f921"
             ]
            ],
            "type": "heatmap"
           }
          ],
          "heatmapgl": [
           {
            "colorbar": {
             "outlinewidth": 0,
             "ticks": ""
            },
            "colorscale": [
             [
              0,
              "#0d0887"
             ],
             [
              0.1111111111111111,
              "#46039f"
             ],
             [
              0.2222222222222222,
              "#7201a8"
             ],
             [
              0.3333333333333333,
              "#9c179e"
             ],
             [
              0.4444444444444444,
              "#bd3786"
             ],
             [
              0.5555555555555556,
              "#d8576b"
             ],
             [
              0.6666666666666666,
              "#ed7953"
             ],
             [
              0.7777777777777778,
              "#fb9f3a"
             ],
             [
              0.8888888888888888,
              "#fdca26"
             ],
             [
              1,
              "#f0f921"
             ]
            ],
            "type": "heatmapgl"
           }
          ],
          "histogram": [
           {
            "marker": {
             "pattern": {
              "fillmode": "overlay",
              "size": 10,
              "solidity": 0.2
             }
            },
            "type": "histogram"
           }
          ],
          "histogram2d": [
           {
            "colorbar": {
             "outlinewidth": 0,
             "ticks": ""
            },
            "colorscale": [
             [
              0,
              "#0d0887"
             ],
             [
              0.1111111111111111,
              "#46039f"
             ],
             [
              0.2222222222222222,
              "#7201a8"
             ],
             [
              0.3333333333333333,
              "#9c179e"
             ],
             [
              0.4444444444444444,
              "#bd3786"
             ],
             [
              0.5555555555555556,
              "#d8576b"
             ],
             [
              0.6666666666666666,
              "#ed7953"
             ],
             [
              0.7777777777777778,
              "#fb9f3a"
             ],
             [
              0.8888888888888888,
              "#fdca26"
             ],
             [
              1,
              "#f0f921"
             ]
            ],
            "type": "histogram2d"
           }
          ],
          "histogram2dcontour": [
           {
            "colorbar": {
             "outlinewidth": 0,
             "ticks": ""
            },
            "colorscale": [
             [
              0,
              "#0d0887"
             ],
             [
              0.1111111111111111,
              "#46039f"
             ],
             [
              0.2222222222222222,
              "#7201a8"
             ],
             [
              0.3333333333333333,
              "#9c179e"
             ],
             [
              0.4444444444444444,
              "#bd3786"
             ],
             [
              0.5555555555555556,
              "#d8576b"
             ],
             [
              0.6666666666666666,
              "#ed7953"
             ],
             [
              0.7777777777777778,
              "#fb9f3a"
             ],
             [
              0.8888888888888888,
              "#fdca26"
             ],
             [
              1,
              "#f0f921"
             ]
            ],
            "type": "histogram2dcontour"
           }
          ],
          "mesh3d": [
           {
            "colorbar": {
             "outlinewidth": 0,
             "ticks": ""
            },
            "type": "mesh3d"
           }
          ],
          "parcoords": [
           {
            "line": {
             "colorbar": {
              "outlinewidth": 0,
              "ticks": ""
             }
            },
            "type": "parcoords"
           }
          ],
          "pie": [
           {
            "automargin": true,
            "type": "pie"
           }
          ],
          "scatter": [
           {
            "fillpattern": {
             "fillmode": "overlay",
             "size": 10,
             "solidity": 0.2
            },
            "type": "scatter"
           }
          ],
          "scatter3d": [
           {
            "line": {
             "colorbar": {
              "outlinewidth": 0,
              "ticks": ""
             }
            },
            "marker": {
             "colorbar": {
              "outlinewidth": 0,
              "ticks": ""
             }
            },
            "type": "scatter3d"
           }
          ],
          "scattercarpet": [
           {
            "marker": {
             "colorbar": {
              "outlinewidth": 0,
              "ticks": ""
             }
            },
            "type": "scattercarpet"
           }
          ],
          "scattergeo": [
           {
            "marker": {
             "colorbar": {
              "outlinewidth": 0,
              "ticks": ""
             }
            },
            "type": "scattergeo"
           }
          ],
          "scattergl": [
           {
            "marker": {
             "colorbar": {
              "outlinewidth": 0,
              "ticks": ""
             }
            },
            "type": "scattergl"
           }
          ],
          "scattermapbox": [
           {
            "marker": {
             "colorbar": {
              "outlinewidth": 0,
              "ticks": ""
             }
            },
            "type": "scattermapbox"
           }
          ],
          "scatterpolar": [
           {
            "marker": {
             "colorbar": {
              "outlinewidth": 0,
              "ticks": ""
             }
            },
            "type": "scatterpolar"
           }
          ],
          "scatterpolargl": [
           {
            "marker": {
             "colorbar": {
              "outlinewidth": 0,
              "ticks": ""
             }
            },
            "type": "scatterpolargl"
           }
          ],
          "scatterternary": [
           {
            "marker": {
             "colorbar": {
              "outlinewidth": 0,
              "ticks": ""
             }
            },
            "type": "scatterternary"
           }
          ],
          "surface": [
           {
            "colorbar": {
             "outlinewidth": 0,
             "ticks": ""
            },
            "colorscale": [
             [
              0,
              "#0d0887"
             ],
             [
              0.1111111111111111,
              "#46039f"
             ],
             [
              0.2222222222222222,
              "#7201a8"
             ],
             [
              0.3333333333333333,
              "#9c179e"
             ],
             [
              0.4444444444444444,
              "#bd3786"
             ],
             [
              0.5555555555555556,
              "#d8576b"
             ],
             [
              0.6666666666666666,
              "#ed7953"
             ],
             [
              0.7777777777777778,
              "#fb9f3a"
             ],
             [
              0.8888888888888888,
              "#fdca26"
             ],
             [
              1,
              "#f0f921"
             ]
            ],
            "type": "surface"
           }
          ],
          "table": [
           {
            "cells": {
             "fill": {
              "color": "#EBF0F8"
             },
             "line": {
              "color": "white"
             }
            },
            "header": {
             "fill": {
              "color": "#C8D4E3"
             },
             "line": {
              "color": "white"
             }
            },
            "type": "table"
           }
          ]
         },
         "layout": {
          "annotationdefaults": {
           "arrowcolor": "#2a3f5f",
           "arrowhead": 0,
           "arrowwidth": 1
          },
          "autotypenumbers": "strict",
          "coloraxis": {
           "colorbar": {
            "outlinewidth": 0,
            "ticks": ""
           }
          },
          "colorscale": {
           "diverging": [
            [
             0,
             "#8e0152"
            ],
            [
             0.1,
             "#c51b7d"
            ],
            [
             0.2,
             "#de77ae"
            ],
            [
             0.3,
             "#f1b6da"
            ],
            [
             0.4,
             "#fde0ef"
            ],
            [
             0.5,
             "#f7f7f7"
            ],
            [
             0.6,
             "#e6f5d0"
            ],
            [
             0.7,
             "#b8e186"
            ],
            [
             0.8,
             "#7fbc41"
            ],
            [
             0.9,
             "#4d9221"
            ],
            [
             1,
             "#276419"
            ]
           ],
           "sequential": [
            [
             0,
             "#0d0887"
            ],
            [
             0.1111111111111111,
             "#46039f"
            ],
            [
             0.2222222222222222,
             "#7201a8"
            ],
            [
             0.3333333333333333,
             "#9c179e"
            ],
            [
             0.4444444444444444,
             "#bd3786"
            ],
            [
             0.5555555555555556,
             "#d8576b"
            ],
            [
             0.6666666666666666,
             "#ed7953"
            ],
            [
             0.7777777777777778,
             "#fb9f3a"
            ],
            [
             0.8888888888888888,
             "#fdca26"
            ],
            [
             1,
             "#f0f921"
            ]
           ],
           "sequentialminus": [
            [
             0,
             "#0d0887"
            ],
            [
             0.1111111111111111,
             "#46039f"
            ],
            [
             0.2222222222222222,
             "#7201a8"
            ],
            [
             0.3333333333333333,
             "#9c179e"
            ],
            [
             0.4444444444444444,
             "#bd3786"
            ],
            [
             0.5555555555555556,
             "#d8576b"
            ],
            [
             0.6666666666666666,
             "#ed7953"
            ],
            [
             0.7777777777777778,
             "#fb9f3a"
            ],
            [
             0.8888888888888888,
             "#fdca26"
            ],
            [
             1,
             "#f0f921"
            ]
           ]
          },
          "colorway": [
           "#636efa",
           "#EF553B",
           "#00cc96",
           "#ab63fa",
           "#FFA15A",
           "#19d3f3",
           "#FF6692",
           "#B6E880",
           "#FF97FF",
           "#FECB52"
          ],
          "font": {
           "color": "#2a3f5f"
          },
          "geo": {
           "bgcolor": "white",
           "lakecolor": "white",
           "landcolor": "#E5ECF6",
           "showlakes": true,
           "showland": true,
           "subunitcolor": "white"
          },
          "hoverlabel": {
           "align": "left"
          },
          "hovermode": "closest",
          "mapbox": {
           "style": "light"
          },
          "paper_bgcolor": "white",
          "plot_bgcolor": "#E5ECF6",
          "polar": {
           "angularaxis": {
            "gridcolor": "white",
            "linecolor": "white",
            "ticks": ""
           },
           "bgcolor": "#E5ECF6",
           "radialaxis": {
            "gridcolor": "white",
            "linecolor": "white",
            "ticks": ""
           }
          },
          "scene": {
           "xaxis": {
            "backgroundcolor": "#E5ECF6",
            "gridcolor": "white",
            "gridwidth": 2,
            "linecolor": "white",
            "showbackground": true,
            "ticks": "",
            "zerolinecolor": "white"
           },
           "yaxis": {
            "backgroundcolor": "#E5ECF6",
            "gridcolor": "white",
            "gridwidth": 2,
            "linecolor": "white",
            "showbackground": true,
            "ticks": "",
            "zerolinecolor": "white"
           },
           "zaxis": {
            "backgroundcolor": "#E5ECF6",
            "gridcolor": "white",
            "gridwidth": 2,
            "linecolor": "white",
            "showbackground": true,
            "ticks": "",
            "zerolinecolor": "white"
           }
          },
          "shapedefaults": {
           "line": {
            "color": "#2a3f5f"
           }
          },
          "ternary": {
           "aaxis": {
            "gridcolor": "white",
            "linecolor": "white",
            "ticks": ""
           },
           "baxis": {
            "gridcolor": "white",
            "linecolor": "white",
            "ticks": ""
           },
           "bgcolor": "#E5ECF6",
           "caxis": {
            "gridcolor": "white",
            "linecolor": "white",
            "ticks": ""
           }
          },
          "title": {
           "x": 0.05
          },
          "xaxis": {
           "automargin": true,
           "gridcolor": "white",
           "linecolor": "white",
           "ticks": "",
           "title": {
            "standoff": 15
           },
           "zerolinecolor": "white",
           "zerolinewidth": 2
          },
          "yaxis": {
           "automargin": true,
           "gridcolor": "white",
           "linecolor": "white",
           "ticks": "",
           "title": {
            "standoff": 15
           },
           "zerolinecolor": "white",
           "zerolinewidth": 2
          }
         }
        },
        "title": {
         "text": "Real vs. Synthetic Data for column checkout_date"
        },
        "xaxis": {
         "anchor": "y2",
         "domain": [
          0,
          1
         ],
         "title": {
          "text": "Value"
         },
         "zeroline": false
        },
        "yaxis": {
         "anchor": "free",
         "domain": [
          0,
          1
         ],
         "position": 0,
         "title": {
          "text": "Frequency"
         }
        }
       }
      }
     },
     "metadata": {},
     "output_type": "display_data"
    },
    {
     "data": {
      "application/vnd.plotly.v1+json": {
       "config": {
        "plotlyServerURL": "https://plot.ly"
       },
       "data": [
        {
         "fill": "tozeroy",
         "hovertemplate": "<b>Real</b><br>Value: %{x}<br>Frequency: %{y}<extra></extra>",
         "legendgroup": "Real",
         "marker": {
          "color": "#000036"
         },
         "mode": "lines",
         "name": "Real",
         "showlegend": true,
         "type": "scatter",
         "x": [
          83.8,
          84.48208,
          85.16416,
          85.84624,
          86.52832,
          87.21039999999999,
          87.89247999999999,
          88.57455999999999,
          89.25663999999999,
          89.93871999999999,
          90.6208,
          91.30288,
          91.98496,
          92.66704,
          93.34912,
          94.0312,
          94.71328,
          95.39536,
          96.07744,
          96.75952,
          97.4416,
          98.12368,
          98.80575999999999,
          99.48783999999999,
          100.16991999999999,
          100.852,
          101.53407999999999,
          102.21616,
          102.89823999999999,
          103.58032,
          104.2624,
          104.94448,
          105.62656,
          106.30864,
          106.99072,
          107.6728,
          108.35488,
          109.03696,
          109.71903999999999,
          110.40111999999999,
          111.08319999999999,
          111.76527999999999,
          112.44735999999999,
          113.12943999999999,
          113.81152,
          114.4936,
          115.17568,
          115.85775999999998,
          116.53984,
          117.22192,
          117.904,
          118.58607999999998,
          119.26816,
          119.95024,
          120.63231999999999,
          121.31439999999999,
          121.99647999999999,
          122.67856,
          123.36063999999999,
          124.04271999999999,
          124.72479999999999,
          125.40688,
          126.08895999999999,
          126.77104,
          127.45311999999998,
          128.1352,
          128.81727999999998,
          129.49936,
          130.18144,
          130.86352,
          131.54559999999998,
          132.22768,
          132.90976,
          133.59184,
          134.27392,
          134.956,
          135.63808,
          136.32016,
          137.00223999999997,
          137.68431999999999,
          138.3664,
          139.04847999999998,
          139.73056,
          140.41263999999998,
          141.09472,
          141.77679999999998,
          142.45888,
          143.14095999999998,
          143.82304,
          144.50511999999998,
          145.1872,
          145.86928,
          146.55136,
          147.23344,
          147.91552,
          148.5976,
          149.27967999999998,
          149.96176,
          150.64384,
          151.32592,
          152.00799999999998,
          152.69007999999997,
          153.37215999999998,
          154.05424,
          154.73631999999998,
          155.4184,
          156.10048,
          156.78256,
          157.46463999999997,
          158.14672,
          158.8288,
          159.51088,
          160.19295999999997,
          160.87503999999998,
          161.55712,
          162.23919999999998,
          162.92128,
          163.60335999999998,
          164.28544,
          164.96751999999998,
          165.6496,
          166.33168,
          167.01376,
          167.69583999999998,
          168.37791999999996,
          169.06,
          169.74208,
          170.42415999999997,
          171.10623999999999,
          171.78832,
          172.47039999999998,
          173.15248,
          173.83456,
          174.51664,
          175.19871999999998,
          175.88079999999997,
          176.56288,
          177.24496,
          177.92703999999998,
          178.60912,
          179.29119999999998,
          179.97328,
          180.65535999999997,
          181.33744,
          182.01952,
          182.70159999999998,
          183.38367999999997,
          184.06576,
          184.74784,
          185.42991999999998,
          186.11199999999997,
          186.79407999999998,
          187.47616,
          188.15823999999998,
          188.84032,
          189.5224,
          190.20448,
          190.88655999999997,
          191.56864,
          192.25072,
          192.9328,
          193.61487999999997,
          194.29695999999998,
          194.97904,
          195.66111999999998,
          196.34319999999997,
          197.02527999999998,
          197.70736,
          198.38943999999998,
          199.07152,
          199.7536,
          200.43568,
          201.11775999999998,
          201.79983999999996,
          202.48191999999997,
          203.164,
          203.84607999999997,
          204.52815999999999,
          205.21024,
          205.89231999999998,
          206.5744,
          207.25647999999998,
          207.93856,
          208.62063999999998,
          209.30271999999997,
          209.98479999999998,
          210.66688,
          211.34895999999998,
          212.03103999999996,
          212.71312,
          213.3952,
          214.07727999999997,
          214.75935999999996,
          215.44143999999994,
          216.12351999999998,
          216.80559999999997,
          217.48768,
          218.16976,
          218.85183999999998,
          219.53391999999997,
          220.216,
          220.89808,
          221.58015999999998,
          222.26223999999996,
          222.94431999999995,
          223.6264,
          224.30847999999997,
          224.99056000000002,
          225.67264,
          226.35472,
          227.03679999999997,
          227.71887999999996,
          228.40096,
          229.08303999999998,
          229.76511999999997,
          230.44719999999995,
          231.12928,
          231.81135999999998,
          232.49343999999996,
          233.17552,
          233.8576,
          234.53967999999998,
          235.22175999999996,
          235.90384,
          236.58592,
          237.26799999999997,
          237.95007999999996,
          238.63216,
          239.31423999999998,
          239.99631999999997,
          240.6784,
          241.36048,
          242.04255999999998,
          242.72463999999997,
          243.40671999999995,
          244.0888,
          244.77087999999998,
          245.45295999999996,
          246.13504,
          246.81712,
          247.49919999999997,
          248.18127999999996,
          248.86336,
          249.54543999999999,
          250.22751999999997,
          250.90959999999995,
          251.59168,
          252.27375999999998,
          252.95583999999997,
          253.63792,
          254.32,
          255.00207999999998,
          255.68415999999996,
          256.36624,
          257.04832,
          257.7304,
          258.41247999999996,
          259.09455999999994,
          259.77664,
          260.45871999999997,
          261.1408,
          261.82288,
          262.50496,
          263.18703999999997,
          263.86912,
          264.5512,
          265.23328,
          265.91535999999996,
          266.59743999999995,
          267.27952,
          267.9616,
          268.64368,
          269.32576,
          270.00784,
          270.68992,
          271.37199999999996,
          272.05408,
          272.73616,
          273.41823999999997,
          274.10031999999995,
          274.78239999999994,
          275.46448,
          276.14655999999997,
          276.82864,
          277.51072,
          278.1928,
          278.87487999999996,
          279.55696,
          280.23904,
          280.92112,
          281.60319999999996,
          282.28527999999994,
          282.96736,
          283.64943999999997,
          284.33152,
          285.0136,
          285.69568,
          286.37775999999997,
          287.05983999999995,
          287.74192,
          288.424,
          289.10607999999996,
          289.78815999999995,
          290.47024,
          291.15232,
          291.83439999999996,
          292.51648,
          293.19856,
          293.88063999999997,
          294.56271999999996,
          295.2448,
          295.92688,
          296.60895999999997,
          297.29103999999995,
          297.97311999999994,
          298.6552,
          299.33727999999996,
          300.01936,
          300.70144,
          301.38352,
          302.06559999999996,
          302.74767999999995,
          303.42976,
          304.11184,
          304.79391999999996,
          305.47599999999994,
          306.15808,
          306.84015999999997,
          307.52224,
          308.20432,
          308.8864,
          309.56847999999997,
          310.25055999999995,
          310.93264,
          311.61472,
          312.29679999999996,
          312.97887999999995,
          313.66095999999993,
          314.34304,
          315.02511999999996,
          315.7072,
          316.38928,
          317.07135999999997,
          317.75343999999996,
          318.43551999999994,
          319.1176,
          319.79967999999997,
          320.48175999999995,
          321.16383999999994,
          321.84592,
          322.52799999999996,
          323.21008,
          323.89216,
          324.57424,
          325.25631999999996,
          325.93839999999994,
          326.62048,
          327.30255999999997,
          327.98463999999996,
          328.66671999999994,
          329.3488,
          330.03087999999997,
          330.71295999999995,
          331.39504,
          332.07712,
          332.75919999999996,
          333.44127999999995,
          334.12336,
          334.80544,
          335.48751999999996,
          336.16959999999995,
          336.85168,
          337.53376,
          338.21583999999996,
          338.89792,
          339.58,
          340.26207999999997,
          340.94416,
          341.62624,
          342.30832,
          342.99039999999997,
          343.67248,
          344.35456,
          345.03664,
          345.71871999999996,
          346.4008,
          347.08287999999993,
          347.76496,
          348.44704,
          349.12912,
          349.8112,
          350.49327999999997,
          351.17536,
          351.85743999999994,
          352.53952,
          353.22159999999997,
          353.90368,
          354.58575999999994,
          355.26784,
          355.94992,
          356.632,
          357.31408,
          357.99616,
          358.67824,
          359.36031999999994,
          360.0424,
          360.72447999999997,
          361.40656,
          362.08863999999994,
          362.77072,
          363.4528,
          364.13487999999995,
          364.81696,
          365.49904,
          366.18112,
          366.86319999999995,
          367.54528,
          368.22736,
          368.90943999999996,
          369.59151999999995,
          370.2736,
          370.95568000000003,
          371.63775999999996,
          372.31984,
          373.00192,
          373.68399999999997,
          374.36607999999995,
          375.04816,
          375.73024,
          376.41231999999997,
          377.09439999999995,
          377.77648,
          378.45856,
          379.14063999999996,
          379.82272,
          380.5048,
          381.18688,
          381.86895999999996,
          382.55104,
          383.23312,
          383.91519999999997,
          384.59727999999996,
          385.27936,
          385.96144,
          386.64351999999997,
          387.3256,
          388.00768,
          388.68976,
          389.37183999999996,
          390.05392,
          390.73599999999993,
          391.41808,
          392.10015999999996,
          392.78224,
          393.46432,
          394.14639999999997,
          394.82848,
          395.51055999999994,
          396.19264,
          396.87471999999997,
          397.5568,
          398.23887999999994,
          398.92096,
          399.60303999999996,
          400.28512,
          400.9672,
          401.64928,
          402.33136,
          403.01343999999995,
          403.69552,
          404.3776,
          405.05968,
          405.74175999999994,
          406.42384,
          407.10591999999997,
          407.78799999999995,
          408.47008,
          409.15216,
          409.83424,
          410.51631999999995,
          411.1984,
          411.88048,
          412.56255999999996,
          413.24463999999995,
          413.92672,
          414.6088,
          415.29087999999996,
          415.97296,
          416.65504,
          417.33711999999997,
          418.01919999999996,
          418.70128,
          419.38336,
          420.06543999999997,
          420.74751999999995,
          421.4296,
          422.1116799999999,
          422.79375999999996,
          423.47584,
          424.15792
         ],
         "xaxis": "x",
         "y": [
          0.002992102776527498,
          0.0031745052654736567,
          0.0033638606016342864,
          0.0035600776665581438,
          0.0037630309452086246,
          0.003972559224693039,
          0.004188464490108039,
          0.004410511039705898,
          0.00463842484041325,
          0.004871893143216954,
          0.005110564376075181,
          0.005354048329823995,
          0.005601916650045914,
          0.005853703645067343,
          0.006108907417184171,
          0.006366991320911052,
          0.006627385748547717,
          0.006889490239698291,
          0.007152675907613831,
          0.007416288171405226,
          0.007679649779346938,
          0.007942064104716734,
          0.008202818691952196,
          0.008461189027404335,
          0.008716442505693006,
          0.008967842559668785,
          0.009214652919314942,
          0.009456141962628936,
          0.009691587119646518,
          0.009920279289352546,
          0.010141527228289602,
          0.010354661869253321,
          0.010559040528566046,
          0.010754050961058343,
          0.01093911522305636,
          0.011113693305366207,
          0.011277286500444862,
          0.011429440470623699,
          0.01156974798737403,
          0.011697851315129505,
          0.011813444217062999,
          0.011916273564398415,
          0.012006140535264258,
          0.012082901393700971,
          0.012146467844153396,
          0.012196806961543497,
          0.01223394070176082,
          0.012257945002058738,
          0.012268948485338892,
          0.01226713078658027,
          0.012252720523663729,
          0.012225992938503842,
          0.012187267237676517,
          0.012136903664585115,
          0.012075300337599243,
          0.012002889890506496,
          0.01192013595301621,
          0.011827529509935316,
          0.011725585177996616,
          0.011614837439165845,
          0.011495836868596718,
          0.011369146394265641,
          0.011235337623727153,
          0.011094987271420257,
          0.010948673717567602,
          0.010796973726984054,
          0.010640459353102889,
          0.010479695049282676,
          0.01031523500603469,
          0.010147620729260365,
          0.009977378870969873,
          0.009805019320317427,
          0.009631033559192441,
          0.009455893283096494,
          0.009280049284664051,
          0.009103930593991259,
          0.008927943866964178,
          0.008752473010057984,
          0.008577879027642649,
          0.008404500075703173,
          0.008232651704079863,
          0.008062627267872675,
          0.007894698487536796,
          0.00772911613643081,
          0.007566110834155007,
          0.00740589392393312,
          0.0072486584125277444,
          0.007094579951724796,
          0.006943817841250644,
          0.006796516034076914,
          0.006652804126390601,
          0.006512798316035633,
          0.006376602314932668,
          0.006244308202825396,
          0.006115997211651023,
          0.005991740431855404,
          0.0058715994340392584,
          0.005755626801395071,
          0.005643866570447563,
          0.005536354579611254,
          0.005433118727001063,
          0.005334179140749679,
          0.005239548266775141,
          0.005149230880484231,
          0.0050632240302730305,
          0.00498151692188066,
          0.0049040907536545665,
          0.004830918513585498,
          0.004761964749562881,
          0.004697185324682803,
          0.004636527169611703,
          0.004579928043971949,
          0.004527316318476371,
          0.004478610789105474,
          0.004433720534005176,
          0.004392544822995631,
          0.00435497308864051,
          0.004320884966745786,
          0.004290150412957257,
          0.004262629900826802,
          0.004238174705338797,
          0.004216627274453256,
          0.004197821689752342,
          0.004181584215795431,
          0.004167733936316896,
          0.004156083473962726,
          0.004146439788877979,
          0.0041386050501486015,
          0.004132377572885722,
          0.004127552812637969,
          0.004123924407842274,
          0.0041212852601900185,
          0.004119428642106041,
          0.004118149320020819,
          0.0041172446817690335,
          0.004116515856274059,
          0.00411576881367959,
          0.004114815434264772,
          0.004113474534824545,
          0.004111572841704597,
          0.00410894590034244,
          0.00410543891196972,
          0.004100907489063276,
          0.004095218322177135,
          0.0040882497519274365,
          0.0040798922411187455,
          0.004070048743272977,
          0.004058634965131166,
          0.004045579522022878,
          0.00403082398631703,
          0.00401432283046148,
          0.003996043267367176,
          0.003975964992077494,
          0.003954079829768204,
          0.003930391296132148,
          0.003904914077102961,
          0.003877673435652281,
          0.0038487045540459178,
          0.0038180518204612175,
          0.003785768069244675,
          0.0037519137843263642,
          0.0037165562754054135,
          0.003679768836483081,
          0.0036416298961523806,
          0.003602222168762924,
          0.003561631815177027,
          0.0035199476213286724,
          0.0034772602022032284,
          0.0034336612381861364,
          0.0033892427499975725,
          0.0033440964176512477,
          0.0032983129480638734,
          0.003251981495111961,
          0.003205189135097795,
          0.0031580203997602636,
          0.0031105568681606376,
          0.0030628768179994438,
          0.0030150549361879744,
          0.0029671620878151815,
          0.0029192651420240235,
          0.002871426852746941,
          0.0028237057917510073,
          0.002776156331011841,
          0.0027288286710732256,
          0.002681768911754799,
          0.002635019161342889,
          0.0025886176802357172,
          0.0025425990549111125,
          0.0024969943980376673,
          0.002451831570554409,
          0.0024071354215941163,
          0.002362928042216069,
          0.0023192290290399683,
          0.002276055754027964,
          0.0022334236368418093,
          0.0021913464164018295,
          0.0021498364184888326,
          0.0021089048164564,
          0.0020685618823544348,
          0.0020288172260033346,
          0.0019896800197991664,
          0.0019511592072715268,
          0.001913263693656316,
          0.0018760025169844885,
          0.0018393849984240799,
          0.0018034208708463152,
          0.001768120384817424,
          0.0017334943914457143,
          0.0016995544017387157,
          0.00166631262234796,
          0.0016337819677990847,
          0.0016019760495224573,
          0.0015709091422139157,
          0.0015405961282661804,
          0.0015110524212179253,
          0.0014822938693686528,
          0.0014543366409017029,
          0.001427197092043593,
          0.0014008916199635202,
          0.0013754365022802032,
          0.001350847725192194,
          0.0013271408023799811,
          0.00130433058694162,
          0.0012824310787155609,
          0.0012614552294132372,
          0.0012414147480273175,
          0.001222319908998008,
          0.0012041793656078078,
          0.0011869999710336172,
          0.0011707866094135592,
          0.0011555420391841191,
          0.0011412667508113726,
          0.001127958840879277,
          0.0011156139043094829,
          0.001104224946272616,
          0.0010937823151132735,
          0.0010842736573524914,
          0.0010756838955559192,
          0.0010679952295668544,
          0.0010611871613048615,
          0.0010552365430272007,
          0.0010501176486463393,
          0.0010458022673971532,
          0.001042259818856535,
          0.0010394574880409659,
          0.0010373603790485135,
          0.0010359316854750384,
          0.001035132875624055,
          0.0010349238903493568,
          0.0010352633512222085,
          0.0010361087766031713,
          0.0010374168031244697,
          0.0010391434100534985,
          0.0010412441440122019,
          0.0010436743415706128,
          0.0010463893473149199,
          0.0010493447251096468,
          0.0010524964604275413,
          0.0010558011518068807,
          0.001059216189710539,
          0.0010626999213003995,
          0.001066211799900055,
          0.0010697125181933838,
          0.0010731641244914293,
          0.001076530121689589,
          0.001079775548826321,
          0.0010828670454376566,
          0.001085772899173933,
          0.001088463077400976,
          0.0010909092437431465,
          0.0010930847607357691,
          0.0010949646799359753,
          0.0010965257209908103,
          0.0010977462412771275,
          0.0010986061978077739,
          0.0010990871031418073,
          0.0010991719770429213,
          0.0010988452956004402,
          0.0010980929394626322,
          0.0010969021427346497,
          0.001095261443965984,
          0.0010931606404982485,
          0.0010905907472672208,
          0.0010875439609576735,
          0.0010840136302003702,
          0.0010799942322823495,
          0.0010754813566194149,
          0.001070471695018487,
          0.0010649630385420042,
          0.0010589542805815703,
          0.001052445425557789,
          0.0010454376024916323,
          0.0010379330825431704,
          0.0010299352994887771,
          0.0010214488720103514,
          0.0010124796266010806,
          0.001003034619852696,
          0.000993122158879237,
          0.0009827518186514232,
          0.0009719344550628032,
          0.0009606822126219102,
          0.0009490085257616072,
          0.0009369281128746527,
          0.0009244569623201316,
          0.0009116123097952289,
          0.0008984126066271043,
          0.0008848774787066307,
          0.0008710276759553512,
          0.0008568850123857062,
          0.0008424722969784563,
          0.0008278132557571556,
          0.0008129324455842522,
          0.0007978551603343462,
          0.0007826073302152305,
          0.0007672154151044921,
          0.0007517062928479255,
          0.0007361071435246284,
          0.0007204453307226063,
          0.0007047482808880661,
          0.0006890433618121749,
          0.000673357761302225,
          0.0006577183670511122,
          0.0006421516486721066,
          0.0006266835428067263,
          0.0006113393421447914,
          0.0005961435891194682,
          0.0005811199749589189,
          0.0005662912446923021,
          0.0005516791086234424,
          0.0005373041607027769,
          0.0005231858041486164,
          0.0005093421845943033,
          0.0004957901309692491,
          0.000482545104260327,
          0.0004696211542460637,
          0.00045703088424963085,
          0.000444785423917886,
          0.00043289441000187367,
          0.00042136597508890067,
          0.000410206744216265,
          0.00039942183928099297,
          0.00038901489114722527,
          0.0003789880593416003,
          0.00036934205921608954,
          0.0003600761964454297,
          0.0003511884087116984,
          0.0003426753144102311,
          0.0003345322681881677,
          0.0003267534230987301,
          0.00031933179912019933,
          0.0003122593577485233,
          0.0003055270823263572,
          0.0002991250637197757,
          0.0002930425908972639,
          0.0002872682459051299,
          0.0002817900026701694,
          0.00027659532899576865,
          0.00027167129105327574,
          0.00026700465960804466,
          0.0002625820171610323,
          0.0002583898651339218,
          0.0002544147301804103,
          0.0002506432686702585,
          0.0002470623683675826,
          0.00024365924631218562,
          0.0002404215419136454,
          0.0002373374042834611,
          0.00023439557286138532,
          0.00023158545043856167,
          0.0002288971677422143,
          0.00022632163882405215,
          0.00022385060658656678,
          0.0002214766778869609,
          0.0002191933477761863,
          0.00021699501255882718,
          0.00021487697149637677,
          0.0002128354171196973,
          0.00021086741426374923,
          0.00020897086808657777,
          0.0002071444814824791,
          0.0002053877024437042,
          0.000203700662063408,
          0.00020208410400243134,
          0.00020053930636155625,
          0.000199067997007029,
          0.00019767226348850977,
          0.0001963544587635739,
          0.0001951171040001861,
          0.00019396278976721007,
          0.00019289407694238837,
          0.00019191339866709268,
          0.00019102296465756994,
          0.00019022466914387333,
          0.00018952000365093718,
          0.00018890997576244398,
          0.00018839503491862333,
          0.00018797500619555826,
          0.00018764903289781866,
          0.00018741552867031637,
          0.00018727213970135012,
          0.00018721571744911977,
          0.00018724230218082507,
          0.00018734711746909254,
          0.00018752457564711865,
          0.0001877682940837185,
          0.0001880711220044098,
          0.0001884251774566063,
          0.00018882189389756837,
          0.0001892520757744247,
          0.00018970596236753454,
          0.00019017329908267372,
          0.00019064341530474258,
          0.00019110530786637162,
          0.0001915477291391957,
          0.0001919592787236921,
          0.00019232849769512341,
          0.0001926439643579016,
          0.0001928943904680183,
          0.00019306871690233891,
          0.00019315620778368402,
          0.00019314654211076524,
          0.00019302990199115977,
          0.000192797056632536,
          0.00019243944131113586,
          0.0001919492306059952,
          0.00019131940526140485,
          0.00019054381211763046,
          0.0001896172166298795,
          0.00018853534757696706,
          0.00018729493364318402,
          0.00018589373163868731,
          0.0001843305462045627,
          0.00018260524092788858,
          0.0001807187408690573,
          0.00017867302657779204,
          0.00017647111974525525,
          0.00017411706070704638,
          0.00017161587807537892,
          0.00016897355083805998,
          0.0001661969633168749,
          0.00016329385342837982,
          0.00016027275473585984,
          0.000157142932822128,
          0.00015391431654891526,
          0.00015059742479970112,
          0.00014720328932896825,
          0.00014374337436197617,
          0.00014022949360521295,
          0.00013667372533876718,
          0.00013308832626788227,
          0.00012948564481206787,
          0.0001258780345062889,
          0.00012227776818011263,
          0.00011869695356727388,
          0.00011514745098011949,
          0.00011164079366090054,
          0.00010818811139510853,
          0.00010480005794118561,
          0.00010148674279619186,
          0.00009825766777867822,
          0.00009512166886831734,
          0.00009208686369714707,
          0.00008916060503986171,
          0.00008634944060083168,
          0.00008365907934377293,
          0.000081094364556645,
          0.00007865925378978875,
          0.00007635680574995775,
          0.00007418917417713817,
          0.00007215760867533273,
          0.00007026246241320705,
          0.00006850320655607905,
          0.00006687845123760921,
          0.00006538597282810162,
          0.0000640227472069867,
          0.00006278498870017699,
          0.00006166819429900286,
          0.00006066719273664452,
          0.00005977619796078416,
          0.000058988866507899645,
          0.00005829835825552994,
          0.000057697400004239225,
          0.00005717835132113733,
          0.00005673327206191248,
          0.00005635399097856382,
          0.00005603217481554787,
          0.00005575939729796553,
          0.000055527207421777175,
          0.0000553271964678436,
          0.00005515106317880388,
          0.00005499067656031362,
          0.00005483813579581424,
          0.00005468582679656301,
          0.00005452647494584131,
          0.000054353193637730565,
          0.000054159528256196443,
          0.00005393949528899394,
          0.000053687616322585804,
          0.00005339894671829198,
          0.00005306909882565797
         ],
         "yaxis": "y"
        },
        {
         "fill": "tozeroy",
         "hovertemplate": "<b>Synthetic</b><br>Value: %{x}<br>Frequency: %{y}<extra></extra>",
         "legendgroup": "Synthetic",
         "marker": {
          "color": "#01E0C9"
         },
         "mode": "lines",
         "name": "Synthetic",
         "showlegend": true,
         "type": "scatter",
         "x": [
          83.8,
          84.4028,
          85.0056,
          85.6084,
          86.21119999999999,
          86.814,
          87.4168,
          88.0196,
          88.6224,
          89.2252,
          89.828,
          90.43079999999999,
          91.03359999999999,
          91.6364,
          92.2392,
          92.842,
          93.4448,
          94.04759999999999,
          94.65039999999999,
          95.25319999999999,
          95.856,
          96.4588,
          97.0616,
          97.6644,
          98.2672,
          98.86999999999999,
          99.47279999999999,
          100.0756,
          100.6784,
          101.2812,
          101.884,
          102.48679999999999,
          103.08959999999999,
          103.69239999999999,
          104.2952,
          104.898,
          105.5008,
          106.1036,
          106.7064,
          107.30919999999999,
          107.91199999999999,
          108.5148,
          109.1176,
          109.7204,
          110.32319999999999,
          110.92599999999999,
          111.52879999999999,
          112.13159999999999,
          112.7344,
          113.3372,
          113.94,
          114.5428,
          115.1456,
          115.7484,
          116.35119999999999,
          116.95400000000001,
          117.5568,
          118.1596,
          118.76239999999999,
          119.36519999999999,
          119.96799999999999,
          120.57079999999999,
          121.1736,
          121.7764,
          122.3792,
          122.982,
          123.5848,
          124.1876,
          124.79039999999999,
          125.3932,
          125.996,
          126.59879999999998,
          127.2016,
          127.80439999999999,
          128.4072,
          129.01,
          129.6128,
          130.2156,
          130.8184,
          131.4212,
          132.024,
          132.6268,
          133.2296,
          133.8324,
          134.4352,
          135.03799999999998,
          135.64079999999998,
          136.2436,
          136.8464,
          137.4492,
          138.052,
          138.6548,
          139.2576,
          139.8604,
          140.4632,
          141.06599999999997,
          141.66879999999998,
          142.27159999999998,
          142.87439999999998,
          143.47719999999998,
          144.07999999999998,
          144.6828,
          145.2856,
          145.8884,
          146.4912,
          147.094,
          147.6968,
          148.2996,
          148.9024,
          149.5052,
          150.108,
          150.7108,
          151.3136,
          151.9164,
          152.5192,
          153.122,
          153.7248,
          154.3276,
          154.9304,
          155.5332,
          156.136,
          156.73879999999997,
          157.34159999999997,
          157.94439999999997,
          158.54719999999998,
          159.14999999999998,
          159.75279999999998,
          160.35559999999998,
          160.95839999999998,
          161.56119999999999,
          162.164,
          162.7668,
          163.3696,
          163.9724,
          164.5752,
          165.178,
          165.7808,
          166.3836,
          166.9864,
          167.5892,
          168.192,
          168.79479999999998,
          169.39759999999998,
          170.00039999999998,
          170.60320000000002,
          171.20600000000002,
          171.8088,
          172.4116,
          173.0144,
          173.6172,
          174.22,
          174.82279999999997,
          175.42559999999997,
          176.02839999999998,
          176.63119999999998,
          177.23399999999998,
          177.83679999999998,
          178.43959999999998,
          179.0424,
          179.6452,
          180.248,
          180.8508,
          181.4536,
          182.0564,
          182.6592,
          183.262,
          183.8648,
          184.4676,
          185.0704,
          185.6732,
          186.27599999999998,
          186.87879999999998,
          187.4816,
          188.0844,
          188.6872,
          189.28999999999996,
          189.89279999999997,
          190.49559999999997,
          191.0984,
          191.7012,
          192.30399999999997,
          192.90679999999998,
          193.50959999999998,
          194.11239999999998,
          194.71519999999998,
          195.31799999999998,
          195.92079999999999,
          196.5236,
          197.1264,
          197.7292,
          198.332,
          198.9348,
          199.5376,
          200.1404,
          200.7432,
          201.346,
          201.9488,
          202.5516,
          203.1544,
          203.7572,
          204.35999999999999,
          204.9628,
          205.5656,
          206.1684,
          206.7712,
          207.37399999999997,
          207.97679999999997,
          208.57959999999997,
          209.18239999999997,
          209.78519999999997,
          210.38799999999998,
          210.99079999999998,
          211.59359999999998,
          212.19639999999998,
          212.79919999999998,
          213.402,
          214.0048,
          214.6076,
          215.2104,
          215.8132,
          216.416,
          217.0188,
          217.6216,
          218.2244,
          218.8272,
          219.43,
          220.0328,
          220.63559999999995,
          221.2384,
          221.84119999999996,
          222.44400000000002,
          223.04679999999996,
          223.64959999999996,
          224.25239999999997,
          224.85519999999997,
          225.45799999999997,
          226.06079999999997,
          226.66359999999997,
          227.26639999999998,
          227.86919999999998,
          228.47199999999998,
          229.07479999999998,
          229.67759999999998,
          230.2804,
          230.8832,
          231.486,
          232.0888,
          232.6916,
          233.2944,
          233.8972,
          234.5,
          235.1028,
          235.70559999999995,
          236.3084,
          236.9112,
          237.514,
          238.1168,
          238.71959999999996,
          239.32240000000002,
          239.92519999999996,
          240.52800000000002,
          241.13079999999997,
          241.73359999999997,
          242.33639999999997,
          242.93919999999997,
          243.54199999999997,
          244.14479999999998,
          244.74759999999998,
          245.35039999999998,
          245.95319999999998,
          246.55599999999998,
          247.15879999999999,
          247.7616,
          248.3644,
          248.9672,
          249.57,
          250.1728,
          250.7756,
          251.3784,
          251.9812,
          252.584,
          253.1868,
          253.78959999999995,
          254.3924,
          254.99519999999995,
          255.598,
          256.20079999999996,
          256.80359999999996,
          257.4064,
          258.00919999999996,
          258.612,
          259.21479999999997,
          259.81759999999997,
          260.4204,
          261.0232,
          261.626,
          262.2288,
          262.8316,
          263.4344,
          264.0372,
          264.64,
          265.2428,
          265.8456,
          266.4484,
          267.0512,
          267.654,
          268.2568,
          268.8596,
          269.4624,
          270.0652,
          270.668,
          271.2708,
          271.87359999999995,
          272.4764,
          273.07919999999996,
          273.682,
          274.28479999999996,
          274.88759999999996,
          275.49039999999997,
          276.09319999999997,
          276.69599999999997,
          277.29879999999997,
          277.9016,
          278.5044,
          279.1072,
          279.71,
          280.3128,
          280.9156,
          281.5184,
          282.1212,
          282.724,
          283.3268,
          283.9296,
          284.5324,
          285.1352,
          285.73799999999994,
          286.3408,
          286.94359999999995,
          287.5464,
          288.1492,
          288.75199999999995,
          289.3548,
          289.95759999999996,
          290.5604,
          291.16319999999996,
          291.76599999999996,
          292.36879999999996,
          292.97159999999997,
          293.57439999999997,
          294.17719999999997,
          294.78,
          295.3828,
          295.9856,
          296.5884,
          297.1912,
          297.794,
          298.3968,
          298.9996,
          299.6024,
          300.2052,
          300.808,
          301.4108,
          302.0136,
          302.6164,
          303.2192,
          303.82199999999995,
          304.4248,
          305.02759999999995,
          305.6304,
          306.23319999999995,
          306.83599999999996,
          307.43879999999996,
          308.04159999999996,
          308.6444,
          309.24719999999996,
          309.84999999999997,
          310.45279999999997,
          311.05559999999997,
          311.6584,
          312.2612,
          312.864,
          313.4668,
          314.0696,
          314.6724,
          315.2752,
          315.878,
          316.4808,
          317.0836,
          317.6864,
          318.2892,
          318.892,
          319.4948,
          320.0976,
          320.7004,
          321.3032,
          321.90599999999995,
          322.5088,
          323.11159999999995,
          323.7144,
          324.31719999999996,
          324.91999999999996,
          325.52279999999996,
          326.12559999999996,
          326.72839999999997,
          327.33119999999997,
          327.93399999999997,
          328.53679999999997,
          329.1396,
          329.7424,
          330.3452,
          330.948,
          331.5508,
          332.1536,
          332.7564,
          333.3592,
          333.962,
          334.5648,
          335.1676,
          335.7704,
          336.3732,
          336.97599999999994,
          337.5788,
          338.18159999999995,
          338.7844,
          339.3872,
          339.99,
          340.5928,
          341.1956,
          341.7984,
          342.4012,
          343.00399999999996,
          343.6068,
          344.20959999999997,
          344.8124,
          345.41519999999997,
          346.01800000000003,
          346.6208,
          347.2236,
          347.8264,
          348.4292,
          349.03200000000004,
          349.6348,
          350.2376,
          350.8404,
          351.4432,
          352.046,
          352.6488,
          353.2516,
          353.8544,
          354.45719999999994,
          355.06,
          355.6628,
          356.2656,
          356.86839999999995,
          357.47119999999995,
          358.074,
          358.6768,
          359.2796,
          359.88239999999996,
          360.48519999999996,
          361.088,
          361.6908,
          362.29359999999997,
          362.89639999999997,
          363.4992,
          364.10200000000003,
          364.7048,
          365.3076,
          365.9104,
          366.5132,
          367.116,
          367.7188,
          368.3216,
          368.9244,
          369.52719999999994,
          370.13,
          370.7328,
          371.3356,
          371.9384,
          372.54119999999995,
          373.144,
          373.7468,
          374.3496,
          374.95239999999995,
          375.55519999999996,
          376.158,
          376.7608,
          377.36359999999996,
          377.96639999999996,
          378.56919999999997,
          379.172,
          379.7748,
          380.3776,
          380.9804,
          381.5832,
          382.18600000000004,
          382.7888,
          383.3916,
          383.9944,
          384.5972
         ],
         "xaxis": "x",
         "y": [
          0.0067517824301957475,
          0.0068717019558966865,
          0.00698849946109566,
          0.007101993959580953,
          0.007212012583116891,
          0.007318391191718416,
          0.007420974944068016,
          0.007519618824960201,
          0.007614188126945637,
          0.0077045588836557434,
          0.007790618252614209,
          0.007872264845683296,
          0.007949409005645966,
          0.008021973027786875,
          0.008089891325703787,
          0.008153110540951,
          0.008211589596487044,
          0.008265299694264615,
          0.008314224257661077,
          0.008358358819796496,
          0.008397710859124403,
          0.008432299584001383,
          0.00846215566824591,
          0.008487320939980312,
          0.008507848026311883,
          0.008523799956645846,
          0.008535249727635832,
          0.008542279832961769,
          0.008544981761283117,
          0.008543455465843728,
          0.00853780880930453,
          0.008528156987450847,
          0.008514621935463039,
          0.008497331720451995,
          0.008476419923946786,
          0.008452025017979566,
          0.008424289738345562,
          0.008393360458524176,
          0.008359386567631978,
          0.008322519855642606,
          0.00828291390895288,
          0.00824072351920182,
          0.008196104108061038,
          0.008149211170513464,
          0.008100199738925546,
          0.00804922386999635,
          0.007996436156439808,
          0.007941987265024047,
          0.007886025502357136,
          0.007828696409574372,
          0.007770142386848859,
          0.007710502348418169,
          0.007649911408595434,
          0.007588500599016635,
          0.0075263966171668405,
          0.007463721606029398,
          0.007400592964514035,
          0.007337123188143684,
          0.007273419739316636,
          0.007209584946310319,
          0.00714571593005755,
          0.007081904557603659,
          0.007018237421046278,
          0.006954795840666521,
          0.006891655890882125,
          0.006828888447589033,
          0.006766559255408087,
          0.006704729013316556,
          0.0066434534771205945,
          0.006582783577213831,
          0.0065227655500668625,
          0.006463441081904016,
          0.006404847463044991,
          0.0063470177514191595,
          0.006289980943799381,
          0.006233762153348262,
          0.006178382792122913,
          0.006123860757242824,
          0.006070210619488795,
          0.00601744381316876,
          0.005965568826156791,
          0.005914591389084949,
          0.005864514662742428,
          0.005815339422812543,
          0.0057670642411543835,
          0.00571968566291183,
          0.005673198378808408,
          0.005627595392060374,
          0.0055828681794126795,
          0.005539006845873361,
          0.005496000272789463,
          0.005453836258973168,
          0.005412501654649484,
          0.005371982488055571,
          0.00533226408457874,
          0.005293331178372208,
          0.005255168016437377,
          0.00521775845520728,
          0.00518108604970769,
          0.005145134135411895,
          0.005109885902939878,
          0.005075324465784815,
          0.00504143292127828,
          0.005008194405030779,
          0.00497559213910627,
          0.004943609474207939,
          0.00491222992616908,
          0.004881437207054968,
          0.004851215251192674,
          0.004821548236452668,
          0.0047924206011114865,
          0.004763817056627014,
          0.0047357225966583845,
          0.004708122502660553,
          0.004681002346379923,
          0.004654347989571255,
          0.004628145581249131,
          0.004602381552777791,
          0.004577042611092822,
          0.004552115730336423,
          0.004527588142175062,
          0.0045034473250542655,
          0.004479680992631007,
          0.004456277081608365,
          0.004433223739181645,
          0.0044105093102887105,
          0.004388122324841289,
          0.004366051485097328,
          0.004344285653318612,
          0.004322813839841713,
          0.004301625191675185,
          0.004280708981720781,
          0.004260054598702573,
          0.004239651537874324,
          0.004219489392563233,
          0.004199557846596604,
          0.00417984666764784,
          0.004160345701528848,
          0.004141044867447948,
          0.004121934154245646,
          0.004103003617614702,
          0.004084243378306807,
          0.00406564362132432,
          0.004047194596093545,
          0.004028886617614343,
          0.004010710068580472,
          0.003992655402465091,
          0.003974713147566792,
          0.003956873912012532,
          0.003939128389715559,
          0.003921467367287919,
          0.0039038817319086818,
          0.003886362480150614,
          0.003868900727768681,
          0.003851487720454405,
          0.003834114845559662,
          0.0038167736447924116,
          0.003799455827884565,
          0.0037821532872289064,
          0.003764858113477551,
          0.0037475626120885203,
          0.0037302593207998325,
          0.0037129410280021813,
          0.0036956007919713048,
          0.003678231960910092,
          0.003660828193738174,
          0.0036433834815531706,
          0.0036258921696736743,
          0.003608348980158355,
          0.0035907490346802377,
          0.003573087877618715,
          0.0035553614992154883,
          0.0035375663586246792,
          0.003519699406671207,
          0.003501758108116626,
          0.003483740463217541,
          0.003465645028348702,
          0.0034474709354520823,
          0.003429217910063483,
          0.0034108862876617587,
          0.003392477028080531,
          0.0033739917277209636,
          0.0033554326293046923,
          0.0033368026289106274,
          0.0033181052800463837,
          0.003299344794516175,
          0.0032805260398609836,
          0.0032616545331647226,
          0.003242736431040997,
          0.0032237785156396205,
          0.003204788176539664,
          0.0031857733884264393,
          0.0031667426844833157,
          0.0031477051254652473,
          0.003128670264459062,
          0.003109648107375564,
          0.003090649069259907,
          0.0030716839265491425,
          0.003052763765448836,
          0.003033899926643405,
          0.0030151039465976474,
          0.002996387495748156,
          0.0029777623139234863,
          0.0029592401433698556,
          0.002940832659794721,
          0.002922551401872914,
          0.002904407699689099,
          0.0028864126026155405,
          0.002868576807144748,
          0.0028509105852130203,
          0.002833423713562155,
          0.0028161254046926293,
          0.0027990242399624984,
          0.00278212810538148,
          0.002765444130639619,
          0.0027489786318940957,
          0.0027327370588166922,
          0.0027167239463779637,
          0.002700942871812628,
          0.002685396417174195,
          0.00267008613784623,
          0.002655012537332342,
          0.002640175048598514,
          0.002625572022189385,
          0.002611200721285555,
          0.0025970573238122403,
          0.00258313693165139,
          0.0025694335869501242,
          0.0025559402954589126,
          0.002542649056773591,
          0.0025295509012971252,
          0.002516635933680263,
          0.002503893382445425,
          0.002491311655446531,
          0.0024788784007685016,
          0.0024665805726253338,
          0.002454404501774889,
          0.002442335969932274,
          0.002430360287632595,
          0.002418462374967737,
          0.0024066268446015253,
          0.0023948380864526188,
          0.0023830803534255346,
          0.0023713378475669162,
          0.0023595948060267024,
          0.002347835586212054,
          0.0023360447495357497,
          0.0023242071431798256,
          0.0023123079793194784,
          0.002300332911281273,
          0.0022882681061429312,
          0.002276100313319509,
          0.002263816928721532,
          0.002251406054114686,
          0.0022388565513571566,
          0.0022261580912392794,
          0.0022133011967002017,
          0.002200277280247252,
          0.002187078675455174,
          0.0021736986624736345,
          0.002160131487522039,
          0.002146372376400333,
          0.00213241754209207,
          0.0021182641865821017,
          0.0021039104970542923,
          0.0020893556366751694,
          0.002074599730206597,
          0.002059643844724129,
          0.002044489965747802,
          0.002029140969117796,
          0.0020136005889694903,
          0.001997873382179932,
          0.001981964689671158,
          0.0019658805949649876,
          0.001949627880388774,
          0.0019332139813325322,
          0.001916646938954643,
          0.0018999353517265753,
          0.0018830883261964095,
          0.0018661154273374358,
          0.0018490266288310464,
          0.001831832263613901,
          0.0018145429749972573,
          0.0017971696686425412,
          0.0017797234656516587,
          0.0017622156570035311,
          0.0017446576595406627,
          0.001727060973680908,
          0.0017094371430012426,
          0.0016917977158115575,
          0.001674154208808673,
          0.001656518072873512,
          0.0016389006610480516,
          0.0016213131987041392,
          0.0016037667558928025,
          0.0015862722218414856,
          0.001568840281547127,
          0.0015514813943958445,
          0.0015342057747249212,
          0.0015170233742301954,
          0.0014999438661117105,
          0.0014829766308426023,
          0.0014661307434408063,
          0.001449414962119988,
          0.0014328377181953339,
          0.0014164071071210821,
          0.001400130880540071,
          0.001384016439230712,
          0.0013680708268437869,
          0.0013523007243297852,
          0.0013367124449672437,
          0.001321311929913282,
          0.0013061047442092112,
          0.001291096073186189,
          0.0012762907192287046,
          0.0012616930988662582,
          0.0012473072401764363,
          0.001233136780494879,
          0.0012191849644396817,
          0.0012054546422687914,
          0.001191948268599507,
          0.0011786679015283194,
          0.0011656152021975595,
          0.0011527914348621136,
          0.0011401974675148557,
          0.0011278337731334648,
          0.0011157004316136503,
          0.0011037971324547049,
          0.0010921231782625742,
          0.0010806774891334383,
          0.0010694586079769523,
          0.0010584647068332047,
          0.0010476935942308162,
          0.001037142723625837,
          0.0010268092029521224,
          0.0010166898053039627,
          0.0010067809807609049,
          0.0009970788693532513,
          0.000987579315154674,
          0.000978277881476121,
          0.000969169867122562,
          0.0009602503236617426,
          0.000951514073641778,
          0.0009429557296824993,
          0.0009345697143541905,
          0.0009263502807466056,
          0.0009182915336215612,
          0.0009103874510334886,
          0.0009026319062948965,
          0.0008950186901572874,
          0.0008875415330731122,
          0.0008801941274008617,
          0.0008729701494133232,
          0.0008658632809685723,
          0.000858867230704321,
          0.0008519757546188875,
          0.0008451826759062217,
          0.0008384819039180661,
          0.0008318674521334891,
          0.0008253334550244321,
          0.0008188741837157013,
          0.0008124840603486953,
          0.0008061576710700844,
          0.0007998897775794918,
          0.0007936753271837179,
          0.0007875094613192781,
          0.0007813875225194691,
          0.0007753050598170908,
          0.0007692578325886996,
          0.0007632418128611856,
          0.0007572531861158438,
          0.0007512883506392684,
          0.0007453439154838129,
          0.0007394166971131201,
          0.0007335037148200201,
          0.000727602185014891,
          0.0007217095144922634,
          0.0007158232927918151,
          0.0007099412837769792,
          0.0007040614165600786,
          0.0006981817759070388,
          0.0006923005922575024,
          0.0006864162314972874,
          0.0006805271846198464,
          0.0006746320574115409,
          0.0006687295602922388,
          0.0006628184984380765,
          0.000656897762307162,
          0.0006509663186817023,
          0.0006450232023315664,
          0.0006390675083948194,
          0.0006330983855602363,
          0.0006271150301256303,
          0.0006211166809938255,
          0.0006151026156556927,
          0.0006090721471967641,
          0.0006030246223509027,
          0.0005969594206112564,
          0.0005908759543956083,
          0.0005847736702502917,
          0.000578652051064155,
          0.0005725106192519496,
          0.0005663489408548505,
          0.0005601666304949527,
          0.0005539633571104307,
          0.0005477388503888443,
          0.0005414929078077789,
          0.0005352254021847926,
          0.0005289362896325088,
          0.0005226256178096563,
          0.0005162935343550802,
          0.0005099402953890414,
          0.0005035662739647232,
          0.0004971719683525684,
          0.000490758010041004,
          0.00048432517133914895,
          0.0004778743724703022,
          0.00047140668804920453,
          0.00046492335284132366,
          0.0004584257667086127,
          0.0004519154986532085,
          0.00044539428987844357,
          0.00043886405579509773,
          0.00043232688691002315,
          0.0004257850485440722,
          0.00041924097933642834,
          0.00041269728850307767,
          0.0004061567518279643,
          0.00039962230637646806,
          0.00039309704393190913,
          0.00038658420316698344,
          0.000380087160572994,
          0.0003736094201806896,
          0.0003671546021170204,
          0.0003607264300525006,
          0.0003543287176035927,
          0.00034796535376397,
          0.0003416402874472448,
          0.0003353575112319516,
          0.00032912104440703706,
          0.0003229349154228465,
          0.00031680314385857376,
          0.00031072972202221354,
          0.0003047185963033631,
          0.00029877364840249235,
          0.00029289867656276364,
          0.00028709737693191314,
          0.00028137332518218784,
          0.00027572995851587236,
          0.00027017055818243953,
          0.0002646982326309605,
          0.00025931590141799394,
          0.00025402627998684883,
          0.000248831865428876,
          0.00024373492333131894,
          0.00023873747580928476,
          0.00023384129081165602,
          0.00022904787278225095,
          0.00022435845474838863,
          0.00021977399189921875,
          0.00021529515670585324,
          0.00021092233562455137,
          0.0002066556274130275,
          0.00020249484307851022,
          0.00019843950746447936,
          0.00019448886247124355,
          0.00019064187189371442,
          0.00018689722784799202,
          0.000183253358746863,
          0.0001797084387729847,
          0.00017626039878766107,
          0.00017290693860262717,
          0.00016964554053237912,
          0.00016647348413529185,
          0.00016338786204322947,
          0.0001603855967715713,
          0.0001574634583946732,
          0.00015461808296578873,
          0.0001518459915554541,
          0.0001491436097783375,
          0.00014650728767558478,
          0.00014393331981783148,
          0.00014141796549322366,
          0.0001389574688451268,
          0.00013654807882555723,
          0.00013418606883284638,
          0.00013186775590555,
          0.00012958951934911484,
          0.00012734781867731744,
          0.00012513921075684722,
          0.0001229603660506607,
          0.00012080808386372316,
          0.00011867930650346586,
          0.00011657113227660064,
          0.00011448082725376343,
          0.00011240583574373282,
          0.00011034378942956048,
          0.00010829251512978094,
          0.00010625004115883385,
          0.00010421460227181917
         ],
         "yaxis": "y"
        }
       ],
       "layout": {
        "barmode": "overlay",
        "hovermode": "closest",
        "legend": {
         "traceorder": "reversed"
        },
        "plot_bgcolor": "#F5F5F8",
        "template": {
         "data": {
          "bar": [
           {
            "error_x": {
             "color": "#2a3f5f"
            },
            "error_y": {
             "color": "#2a3f5f"
            },
            "marker": {
             "line": {
              "color": "#E5ECF6",
              "width": 0.5
             },
             "pattern": {
              "fillmode": "overlay",
              "size": 10,
              "solidity": 0.2
             }
            },
            "type": "bar"
           }
          ],
          "barpolar": [
           {
            "marker": {
             "line": {
              "color": "#E5ECF6",
              "width": 0.5
             },
             "pattern": {
              "fillmode": "overlay",
              "size": 10,
              "solidity": 0.2
             }
            },
            "type": "barpolar"
           }
          ],
          "carpet": [
           {
            "aaxis": {
             "endlinecolor": "#2a3f5f",
             "gridcolor": "white",
             "linecolor": "white",
             "minorgridcolor": "white",
             "startlinecolor": "#2a3f5f"
            },
            "baxis": {
             "endlinecolor": "#2a3f5f",
             "gridcolor": "white",
             "linecolor": "white",
             "minorgridcolor": "white",
             "startlinecolor": "#2a3f5f"
            },
            "type": "carpet"
           }
          ],
          "choropleth": [
           {
            "colorbar": {
             "outlinewidth": 0,
             "ticks": ""
            },
            "type": "choropleth"
           }
          ],
          "contour": [
           {
            "colorbar": {
             "outlinewidth": 0,
             "ticks": ""
            },
            "colorscale": [
             [
              0,
              "#0d0887"
             ],
             [
              0.1111111111111111,
              "#46039f"
             ],
             [
              0.2222222222222222,
              "#7201a8"
             ],
             [
              0.3333333333333333,
              "#9c179e"
             ],
             [
              0.4444444444444444,
              "#bd3786"
             ],
             [
              0.5555555555555556,
              "#d8576b"
             ],
             [
              0.6666666666666666,
              "#ed7953"
             ],
             [
              0.7777777777777778,
              "#fb9f3a"
             ],
             [
              0.8888888888888888,
              "#fdca26"
             ],
             [
              1,
              "#f0f921"
             ]
            ],
            "type": "contour"
           }
          ],
          "contourcarpet": [
           {
            "colorbar": {
             "outlinewidth": 0,
             "ticks": ""
            },
            "type": "contourcarpet"
           }
          ],
          "heatmap": [
           {
            "colorbar": {
             "outlinewidth": 0,
             "ticks": ""
            },
            "colorscale": [
             [
              0,
              "#0d0887"
             ],
             [
              0.1111111111111111,
              "#46039f"
             ],
             [
              0.2222222222222222,
              "#7201a8"
             ],
             [
              0.3333333333333333,
              "#9c179e"
             ],
             [
              0.4444444444444444,
              "#bd3786"
             ],
             [
              0.5555555555555556,
              "#d8576b"
             ],
             [
              0.6666666666666666,
              "#ed7953"
             ],
             [
              0.7777777777777778,
              "#fb9f3a"
             ],
             [
              0.8888888888888888,
              "#fdca26"
             ],
             [
              1,
              "#f0f921"
             ]
            ],
            "type": "heatmap"
           }
          ],
          "heatmapgl": [
           {
            "colorbar": {
             "outlinewidth": 0,
             "ticks": ""
            },
            "colorscale": [
             [
              0,
              "#0d0887"
             ],
             [
              0.1111111111111111,
              "#46039f"
             ],
             [
              0.2222222222222222,
              "#7201a8"
             ],
             [
              0.3333333333333333,
              "#9c179e"
             ],
             [
              0.4444444444444444,
              "#bd3786"
             ],
             [
              0.5555555555555556,
              "#d8576b"
             ],
             [
              0.6666666666666666,
              "#ed7953"
             ],
             [
              0.7777777777777778,
              "#fb9f3a"
             ],
             [
              0.8888888888888888,
              "#fdca26"
             ],
             [
              1,
              "#f0f921"
             ]
            ],
            "type": "heatmapgl"
           }
          ],
          "histogram": [
           {
            "marker": {
             "pattern": {
              "fillmode": "overlay",
              "size": 10,
              "solidity": 0.2
             }
            },
            "type": "histogram"
           }
          ],
          "histogram2d": [
           {
            "colorbar": {
             "outlinewidth": 0,
             "ticks": ""
            },
            "colorscale": [
             [
              0,
              "#0d0887"
             ],
             [
              0.1111111111111111,
              "#46039f"
             ],
             [
              0.2222222222222222,
              "#7201a8"
             ],
             [
              0.3333333333333333,
              "#9c179e"
             ],
             [
              0.4444444444444444,
              "#bd3786"
             ],
             [
              0.5555555555555556,
              "#d8576b"
             ],
             [
              0.6666666666666666,
              "#ed7953"
             ],
             [
              0.7777777777777778,
              "#fb9f3a"
             ],
             [
              0.8888888888888888,
              "#fdca26"
             ],
             [
              1,
              "#f0f921"
             ]
            ],
            "type": "histogram2d"
           }
          ],
          "histogram2dcontour": [
           {
            "colorbar": {
             "outlinewidth": 0,
             "ticks": ""
            },
            "colorscale": [
             [
              0,
              "#0d0887"
             ],
             [
              0.1111111111111111,
              "#46039f"
             ],
             [
              0.2222222222222222,
              "#7201a8"
             ],
             [
              0.3333333333333333,
              "#9c179e"
             ],
             [
              0.4444444444444444,
              "#bd3786"
             ],
             [
              0.5555555555555556,
              "#d8576b"
             ],
             [
              0.6666666666666666,
              "#ed7953"
             ],
             [
              0.7777777777777778,
              "#fb9f3a"
             ],
             [
              0.8888888888888888,
              "#fdca26"
             ],
             [
              1,
              "#f0f921"
             ]
            ],
            "type": "histogram2dcontour"
           }
          ],
          "mesh3d": [
           {
            "colorbar": {
             "outlinewidth": 0,
             "ticks": ""
            },
            "type": "mesh3d"
           }
          ],
          "parcoords": [
           {
            "line": {
             "colorbar": {
              "outlinewidth": 0,
              "ticks": ""
             }
            },
            "type": "parcoords"
           }
          ],
          "pie": [
           {
            "automargin": true,
            "type": "pie"
           }
          ],
          "scatter": [
           {
            "fillpattern": {
             "fillmode": "overlay",
             "size": 10,
             "solidity": 0.2
            },
            "type": "scatter"
           }
          ],
          "scatter3d": [
           {
            "line": {
             "colorbar": {
              "outlinewidth": 0,
              "ticks": ""
             }
            },
            "marker": {
             "colorbar": {
              "outlinewidth": 0,
              "ticks": ""
             }
            },
            "type": "scatter3d"
           }
          ],
          "scattercarpet": [
           {
            "marker": {
             "colorbar": {
              "outlinewidth": 0,
              "ticks": ""
             }
            },
            "type": "scattercarpet"
           }
          ],
          "scattergeo": [
           {
            "marker": {
             "colorbar": {
              "outlinewidth": 0,
              "ticks": ""
             }
            },
            "type": "scattergeo"
           }
          ],
          "scattergl": [
           {
            "marker": {
             "colorbar": {
              "outlinewidth": 0,
              "ticks": ""
             }
            },
            "type": "scattergl"
           }
          ],
          "scattermapbox": [
           {
            "marker": {
             "colorbar": {
              "outlinewidth": 0,
              "ticks": ""
             }
            },
            "type": "scattermapbox"
           }
          ],
          "scatterpolar": [
           {
            "marker": {
             "colorbar": {
              "outlinewidth": 0,
              "ticks": ""
             }
            },
            "type": "scatterpolar"
           }
          ],
          "scatterpolargl": [
           {
            "marker": {
             "colorbar": {
              "outlinewidth": 0,
              "ticks": ""
             }
            },
            "type": "scatterpolargl"
           }
          ],
          "scatterternary": [
           {
            "marker": {
             "colorbar": {
              "outlinewidth": 0,
              "ticks": ""
             }
            },
            "type": "scatterternary"
           }
          ],
          "surface": [
           {
            "colorbar": {
             "outlinewidth": 0,
             "ticks": ""
            },
            "colorscale": [
             [
              0,
              "#0d0887"
             ],
             [
              0.1111111111111111,
              "#46039f"
             ],
             [
              0.2222222222222222,
              "#7201a8"
             ],
             [
              0.3333333333333333,
              "#9c179e"
             ],
             [
              0.4444444444444444,
              "#bd3786"
             ],
             [
              0.5555555555555556,
              "#d8576b"
             ],
             [
              0.6666666666666666,
              "#ed7953"
             ],
             [
              0.7777777777777778,
              "#fb9f3a"
             ],
             [
              0.8888888888888888,
              "#fdca26"
             ],
             [
              1,
              "#f0f921"
             ]
            ],
            "type": "surface"
           }
          ],
          "table": [
           {
            "cells": {
             "fill": {
              "color": "#EBF0F8"
             },
             "line": {
              "color": "white"
             }
            },
            "header": {
             "fill": {
              "color": "#C8D4E3"
             },
             "line": {
              "color": "white"
             }
            },
            "type": "table"
           }
          ]
         },
         "layout": {
          "annotationdefaults": {
           "arrowcolor": "#2a3f5f",
           "arrowhead": 0,
           "arrowwidth": 1
          },
          "autotypenumbers": "strict",
          "coloraxis": {
           "colorbar": {
            "outlinewidth": 0,
            "ticks": ""
           }
          },
          "colorscale": {
           "diverging": [
            [
             0,
             "#8e0152"
            ],
            [
             0.1,
             "#c51b7d"
            ],
            [
             0.2,
             "#de77ae"
            ],
            [
             0.3,
             "#f1b6da"
            ],
            [
             0.4,
             "#fde0ef"
            ],
            [
             0.5,
             "#f7f7f7"
            ],
            [
             0.6,
             "#e6f5d0"
            ],
            [
             0.7,
             "#b8e186"
            ],
            [
             0.8,
             "#7fbc41"
            ],
            [
             0.9,
             "#4d9221"
            ],
            [
             1,
             "#276419"
            ]
           ],
           "sequential": [
            [
             0,
             "#0d0887"
            ],
            [
             0.1111111111111111,
             "#46039f"
            ],
            [
             0.2222222222222222,
             "#7201a8"
            ],
            [
             0.3333333333333333,
             "#9c179e"
            ],
            [
             0.4444444444444444,
             "#bd3786"
            ],
            [
             0.5555555555555556,
             "#d8576b"
            ],
            [
             0.6666666666666666,
             "#ed7953"
            ],
            [
             0.7777777777777778,
             "#fb9f3a"
            ],
            [
             0.8888888888888888,
             "#fdca26"
            ],
            [
             1,
             "#f0f921"
            ]
           ],
           "sequentialminus": [
            [
             0,
             "#0d0887"
            ],
            [
             0.1111111111111111,
             "#46039f"
            ],
            [
             0.2222222222222222,
             "#7201a8"
            ],
            [
             0.3333333333333333,
             "#9c179e"
            ],
            [
             0.4444444444444444,
             "#bd3786"
            ],
            [
             0.5555555555555556,
             "#d8576b"
            ],
            [
             0.6666666666666666,
             "#ed7953"
            ],
            [
             0.7777777777777778,
             "#fb9f3a"
            ],
            [
             0.8888888888888888,
             "#fdca26"
            ],
            [
             1,
             "#f0f921"
            ]
           ]
          },
          "colorway": [
           "#636efa",
           "#EF553B",
           "#00cc96",
           "#ab63fa",
           "#FFA15A",
           "#19d3f3",
           "#FF6692",
           "#B6E880",
           "#FF97FF",
           "#FECB52"
          ],
          "font": {
           "color": "#2a3f5f"
          },
          "geo": {
           "bgcolor": "white",
           "lakecolor": "white",
           "landcolor": "#E5ECF6",
           "showlakes": true,
           "showland": true,
           "subunitcolor": "white"
          },
          "hoverlabel": {
           "align": "left"
          },
          "hovermode": "closest",
          "mapbox": {
           "style": "light"
          },
          "paper_bgcolor": "white",
          "plot_bgcolor": "#E5ECF6",
          "polar": {
           "angularaxis": {
            "gridcolor": "white",
            "linecolor": "white",
            "ticks": ""
           },
           "bgcolor": "#E5ECF6",
           "radialaxis": {
            "gridcolor": "white",
            "linecolor": "white",
            "ticks": ""
           }
          },
          "scene": {
           "xaxis": {
            "backgroundcolor": "#E5ECF6",
            "gridcolor": "white",
            "gridwidth": 2,
            "linecolor": "white",
            "showbackground": true,
            "ticks": "",
            "zerolinecolor": "white"
           },
           "yaxis": {
            "backgroundcolor": "#E5ECF6",
            "gridcolor": "white",
            "gridwidth": 2,
            "linecolor": "white",
            "showbackground": true,
            "ticks": "",
            "zerolinecolor": "white"
           },
           "zaxis": {
            "backgroundcolor": "#E5ECF6",
            "gridcolor": "white",
            "gridwidth": 2,
            "linecolor": "white",
            "showbackground": true,
            "ticks": "",
            "zerolinecolor": "white"
           }
          },
          "shapedefaults": {
           "line": {
            "color": "#2a3f5f"
           }
          },
          "ternary": {
           "aaxis": {
            "gridcolor": "white",
            "linecolor": "white",
            "ticks": ""
           },
           "baxis": {
            "gridcolor": "white",
            "linecolor": "white",
            "ticks": ""
           },
           "bgcolor": "#E5ECF6",
           "caxis": {
            "gridcolor": "white",
            "linecolor": "white",
            "ticks": ""
           }
          },
          "title": {
           "x": 0.05
          },
          "xaxis": {
           "automargin": true,
           "gridcolor": "white",
           "linecolor": "white",
           "ticks": "",
           "title": {
            "standoff": 15
           },
           "zerolinecolor": "white",
           "zerolinewidth": 2
          },
          "yaxis": {
           "automargin": true,
           "gridcolor": "white",
           "linecolor": "white",
           "ticks": "",
           "title": {
            "standoff": 15
           },
           "zerolinecolor": "white",
           "zerolinewidth": 2
          }
         }
        },
        "title": {
         "text": "Real vs. Synthetic Data for column room_rate"
        },
        "xaxis": {
         "anchor": "y2",
         "domain": [
          0,
          1
         ],
         "title": {
          "text": "Value"
         },
         "zeroline": false
        },
        "yaxis": {
         "anchor": "free",
         "domain": [
          0,
          1
         ],
         "position": 0,
         "title": {
          "text": "Frequency"
         }
        }
       }
      }
     },
     "metadata": {},
     "output_type": "display_data"
    }
   ],
   "source": [
    "for column in real_data.columns: # Cannot plot PII columns since they are unique and meant to be different\n",
    "    try:\n",
    "        fig = get_column_plot(\n",
    "            real_data=real_data,\n",
    "            synthetic_data=synthetic_data,\n",
    "            column_name=column,\n",
    "            metadata=metadata\n",
    "        )\n",
    "            \n",
    "        fig.show()\n",
    "    except:\n",
    "        pass\n",
    "\n",
    "# Note the missing values that were included by the synthesizer"
   ]
  },
  {
   "cell_type": "code",
   "execution_count": 13,
   "metadata": {},
   "outputs": [
    {
     "data": {
      "text/plain": [
       "(18.59, 9.67)"
      ]
     },
     "execution_count": 13,
     "metadata": {},
     "output_type": "execute_result"
    }
   ],
   "source": [
    "real_data[\"amenities_fee\"].median(), synthetic_data[\"amenities_fee\"].median()"
   ]
  },
  {
   "cell_type": "code",
   "execution_count": 14,
   "metadata": {},
   "outputs": [],
   "source": [
    "## Go back and reinstantiate GaussianCopulaSynthesizer with \"numerical_distributions\" argument line uncommented"
   ]
  },
  {
   "cell_type": "markdown",
   "metadata": {},
   "source": [
    "### Quality Report"
   ]
  },
  {
   "cell_type": "code",
   "execution_count": 30,
   "metadata": {},
   "outputs": [
    {
     "name": "stderr",
     "output_type": "stream",
     "text": [
      "Creating report:   0%|          | 0/4 [00:00<?, ?it/s]"
     ]
    },
    {
     "name": "stderr",
     "output_type": "stream",
     "text": [
      "Creating report: 100%|██████████| 4/4 [00:00<00:00, 31.15it/s]\n"
     ]
    },
    {
     "name": "stdout",
     "output_type": "stream",
     "text": [
      "\n",
      "Overall Quality Score: 50.35%\n",
      "\n",
      "Properties:\n",
      "Column Shapes: 53.58%\n",
      "Column Pair Trends: 47.12%\n"
     ]
    }
   ],
   "source": [
    "# Evaluating the Synthetic Data\n",
    "quality_report = evaluate_quality(\n",
    "    real_data,\n",
    "    synthetic_data,\n",
    "    metadata)"
   ]
  },
  {
   "cell_type": "code",
   "execution_count": 31,
   "metadata": {},
   "outputs": [
    {
     "data": {
      "text/plain": [
       "{'Column Shapes': [sdmetrics.single_table.multi_single_column.KSComplement,\n",
       "  sdmetrics.single_table.multi_single_column.TVComplement],\n",
       " 'Column Pair Trends': [sdmetrics.single_table.multi_column_pairs.CorrelationSimilarity,\n",
       "  sdmetrics.single_table.multi_column_pairs.ContingencySimilarity]}"
      ]
     },
     "execution_count": 31,
     "metadata": {},
     "output_type": "execute_result"
    }
   ],
   "source": [
    "quality_report.METRICS"
   ]
  },
  {
   "cell_type": "code",
   "execution_count": 36,
   "metadata": {},
   "outputs": [
    {
     "data": {
      "text/html": [
       "<div>\n",
       "<style scoped>\n",
       "    .dataframe tbody tr th:only-of-type {\n",
       "        vertical-align: middle;\n",
       "    }\n",
       "\n",
       "    .dataframe tbody tr th {\n",
       "        vertical-align: top;\n",
       "    }\n",
       "\n",
       "    .dataframe thead th {\n",
       "        text-align: right;\n",
       "    }\n",
       "</style>\n",
       "<table border=\"1\" class=\"dataframe\">\n",
       "  <thead>\n",
       "    <tr style=\"text-align: right;\">\n",
       "      <th></th>\n",
       "      <th>Column</th>\n",
       "      <th>Metric</th>\n",
       "      <th>Quality Score</th>\n",
       "    </tr>\n",
       "  </thead>\n",
       "  <tbody>\n",
       "    <tr>\n",
       "      <th>0</th>\n",
       "      <td>amenities_fee</td>\n",
       "      <td>KSComplement</td>\n",
       "      <td>0.226374</td>\n",
       "    </tr>\n",
       "    <tr>\n",
       "      <th>1</th>\n",
       "      <td>checkin_date</td>\n",
       "      <td>KSComplement</td>\n",
       "      <td>0.522000</td>\n",
       "    </tr>\n",
       "    <tr>\n",
       "      <th>2</th>\n",
       "      <td>checkout_date</td>\n",
       "      <td>KSComplement</td>\n",
       "      <td>0.504167</td>\n",
       "    </tr>\n",
       "    <tr>\n",
       "      <th>3</th>\n",
       "      <td>room_rate</td>\n",
       "      <td>KSComplement</td>\n",
       "      <td>0.824000</td>\n",
       "    </tr>\n",
       "    <tr>\n",
       "      <th>4</th>\n",
       "      <td>has_rewards</td>\n",
       "      <td>TVComplement</td>\n",
       "      <td>0.506000</td>\n",
       "    </tr>\n",
       "    <tr>\n",
       "      <th>5</th>\n",
       "      <td>room_type</td>\n",
       "      <td>TVComplement</td>\n",
       "      <td>0.632000</td>\n",
       "    </tr>\n",
       "  </tbody>\n",
       "</table>\n",
       "</div>"
      ],
      "text/plain": [
       "          Column        Metric  Quality Score\n",
       "0  amenities_fee  KSComplement       0.226374\n",
       "1   checkin_date  KSComplement       0.522000\n",
       "2  checkout_date  KSComplement       0.504167\n",
       "3      room_rate  KSComplement       0.824000\n",
       "4    has_rewards  TVComplement       0.506000\n",
       "5      room_type  TVComplement       0.632000"
      ]
     },
     "execution_count": 36,
     "metadata": {},
     "output_type": "execute_result"
    }
   ],
   "source": [
    "quality_report.get_details(property_name='Column Shapes')"
   ]
  },
  {
   "cell_type": "code",
   "execution_count": null,
   "metadata": {},
   "outputs": [
    {
     "data": {
      "application/vnd.plotly.v1+json": {
       "config": {
        "plotlyServerURL": "https://plot.ly"
       },
       "data": [
        {
         "alignmentgroup": "True",
         "customdata": [
          [
           "KSComplement"
          ],
          [
           "KSComplement"
          ],
          [
           "KSComplement"
          ],
          [
           "KSComplement"
          ]
         ],
         "hovertemplate": "<b>%{hovertext}</b><br><br>Metric=%{customdata[0]}<br>Quality Score=%{y}<extra></extra>",
         "hovertext": [
          "amenities_fee",
          "checkin_date",
          "checkout_date",
          "room_rate"
         ],
         "legendgroup": "KSComplement",
         "marker": {
          "color": "#000036",
          "pattern": {
           "shape": ""
          }
         },
         "name": "KSComplement",
         "offsetgroup": "KSComplement",
         "orientation": "v",
         "showlegend": true,
         "textposition": "auto",
         "type": "bar",
         "x": [
          "amenities_fee",
          "checkin_date",
          "checkout_date",
          "room_rate"
         ],
         "xaxis": "x",
         "y": [
          0.22637362637362635,
          0.522,
          0.5041666666666667,
          0.8240000000000001
         ],
         "yaxis": "y"
        },
        {
         "alignmentgroup": "True",
         "customdata": [
          [
           "TVComplement"
          ],
          [
           "TVComplement"
          ]
         ],
         "hovertemplate": "<b>%{hovertext}</b><br><br>Metric=%{customdata[0]}<br>Quality Score=%{y}<extra></extra>",
         "hovertext": [
          "has_rewards",
          "room_type"
         ],
         "legendgroup": "TVComplement",
         "marker": {
          "color": "#03AFF1",
          "pattern": {
           "shape": "/"
          }
         },
         "name": "TVComplement",
         "offsetgroup": "TVComplement",
         "orientation": "v",
         "showlegend": true,
         "textposition": "auto",
         "type": "bar",
         "x": [
          "has_rewards",
          "room_type"
         ],
         "xaxis": "x",
         "y": [
          0.506,
          0.632
         ],
         "yaxis": "y"
        }
       ],
       "layout": {
        "barmode": "relative",
        "legend": {
         "title": {
          "text": "Metric"
         },
         "tracegroupgap": 0
        },
        "margin": {
         "t": 150
        },
        "plot_bgcolor": "#F5F5F8",
        "template": {
         "data": {
          "bar": [
           {
            "error_x": {
             "color": "#2a3f5f"
            },
            "error_y": {
             "color": "#2a3f5f"
            },
            "marker": {
             "line": {
              "color": "#E5ECF6",
              "width": 0.5
             },
             "pattern": {
              "fillmode": "overlay",
              "size": 10,
              "solidity": 0.2
             }
            },
            "type": "bar"
           }
          ],
          "barpolar": [
           {
            "marker": {
             "line": {
              "color": "#E5ECF6",
              "width": 0.5
             },
             "pattern": {
              "fillmode": "overlay",
              "size": 10,
              "solidity": 0.2
             }
            },
            "type": "barpolar"
           }
          ],
          "carpet": [
           {
            "aaxis": {
             "endlinecolor": "#2a3f5f",
             "gridcolor": "white",
             "linecolor": "white",
             "minorgridcolor": "white",
             "startlinecolor": "#2a3f5f"
            },
            "baxis": {
             "endlinecolor": "#2a3f5f",
             "gridcolor": "white",
             "linecolor": "white",
             "minorgridcolor": "white",
             "startlinecolor": "#2a3f5f"
            },
            "type": "carpet"
           }
          ],
          "choropleth": [
           {
            "colorbar": {
             "outlinewidth": 0,
             "ticks": ""
            },
            "type": "choropleth"
           }
          ],
          "contour": [
           {
            "colorbar": {
             "outlinewidth": 0,
             "ticks": ""
            },
            "colorscale": [
             [
              0,
              "#0d0887"
             ],
             [
              0.1111111111111111,
              "#46039f"
             ],
             [
              0.2222222222222222,
              "#7201a8"
             ],
             [
              0.3333333333333333,
              "#9c179e"
             ],
             [
              0.4444444444444444,
              "#bd3786"
             ],
             [
              0.5555555555555556,
              "#d8576b"
             ],
             [
              0.6666666666666666,
              "#ed7953"
             ],
             [
              0.7777777777777778,
              "#fb9f3a"
             ],
             [
              0.8888888888888888,
              "#fdca26"
             ],
             [
              1,
              "#f0f921"
             ]
            ],
            "type": "contour"
           }
          ],
          "contourcarpet": [
           {
            "colorbar": {
             "outlinewidth": 0,
             "ticks": ""
            },
            "type": "contourcarpet"
           }
          ],
          "heatmap": [
           {
            "colorbar": {
             "outlinewidth": 0,
             "ticks": ""
            },
            "colorscale": [
             [
              0,
              "#0d0887"
             ],
             [
              0.1111111111111111,
              "#46039f"
             ],
             [
              0.2222222222222222,
              "#7201a8"
             ],
             [
              0.3333333333333333,
              "#9c179e"
             ],
             [
              0.4444444444444444,
              "#bd3786"
             ],
             [
              0.5555555555555556,
              "#d8576b"
             ],
             [
              0.6666666666666666,
              "#ed7953"
             ],
             [
              0.7777777777777778,
              "#fb9f3a"
             ],
             [
              0.8888888888888888,
              "#fdca26"
             ],
             [
              1,
              "#f0f921"
             ]
            ],
            "type": "heatmap"
           }
          ],
          "heatmapgl": [
           {
            "colorbar": {
             "outlinewidth": 0,
             "ticks": ""
            },
            "colorscale": [
             [
              0,
              "#0d0887"
             ],
             [
              0.1111111111111111,
              "#46039f"
             ],
             [
              0.2222222222222222,
              "#7201a8"
             ],
             [
              0.3333333333333333,
              "#9c179e"
             ],
             [
              0.4444444444444444,
              "#bd3786"
             ],
             [
              0.5555555555555556,
              "#d8576b"
             ],
             [
              0.6666666666666666,
              "#ed7953"
             ],
             [
              0.7777777777777778,
              "#fb9f3a"
             ],
             [
              0.8888888888888888,
              "#fdca26"
             ],
             [
              1,
              "#f0f921"
             ]
            ],
            "type": "heatmapgl"
           }
          ],
          "histogram": [
           {
            "marker": {
             "pattern": {
              "fillmode": "overlay",
              "size": 10,
              "solidity": 0.2
             }
            },
            "type": "histogram"
           }
          ],
          "histogram2d": [
           {
            "colorbar": {
             "outlinewidth": 0,
             "ticks": ""
            },
            "colorscale": [
             [
              0,
              "#0d0887"
             ],
             [
              0.1111111111111111,
              "#46039f"
             ],
             [
              0.2222222222222222,
              "#7201a8"
             ],
             [
              0.3333333333333333,
              "#9c179e"
             ],
             [
              0.4444444444444444,
              "#bd3786"
             ],
             [
              0.5555555555555556,
              "#d8576b"
             ],
             [
              0.6666666666666666,
              "#ed7953"
             ],
             [
              0.7777777777777778,
              "#fb9f3a"
             ],
             [
              0.8888888888888888,
              "#fdca26"
             ],
             [
              1,
              "#f0f921"
             ]
            ],
            "type": "histogram2d"
           }
          ],
          "histogram2dcontour": [
           {
            "colorbar": {
             "outlinewidth": 0,
             "ticks": ""
            },
            "colorscale": [
             [
              0,
              "#0d0887"
             ],
             [
              0.1111111111111111,
              "#46039f"
             ],
             [
              0.2222222222222222,
              "#7201a8"
             ],
             [
              0.3333333333333333,
              "#9c179e"
             ],
             [
              0.4444444444444444,
              "#bd3786"
             ],
             [
              0.5555555555555556,
              "#d8576b"
             ],
             [
              0.6666666666666666,
              "#ed7953"
             ],
             [
              0.7777777777777778,
              "#fb9f3a"
             ],
             [
              0.8888888888888888,
              "#fdca26"
             ],
             [
              1,
              "#f0f921"
             ]
            ],
            "type": "histogram2dcontour"
           }
          ],
          "mesh3d": [
           {
            "colorbar": {
             "outlinewidth": 0,
             "ticks": ""
            },
            "type": "mesh3d"
           }
          ],
          "parcoords": [
           {
            "line": {
             "colorbar": {
              "outlinewidth": 0,
              "ticks": ""
             }
            },
            "type": "parcoords"
           }
          ],
          "pie": [
           {
            "automargin": true,
            "type": "pie"
           }
          ],
          "scatter": [
           {
            "fillpattern": {
             "fillmode": "overlay",
             "size": 10,
             "solidity": 0.2
            },
            "type": "scatter"
           }
          ],
          "scatter3d": [
           {
            "line": {
             "colorbar": {
              "outlinewidth": 0,
              "ticks": ""
             }
            },
            "marker": {
             "colorbar": {
              "outlinewidth": 0,
              "ticks": ""
             }
            },
            "type": "scatter3d"
           }
          ],
          "scattercarpet": [
           {
            "marker": {
             "colorbar": {
              "outlinewidth": 0,
              "ticks": ""
             }
            },
            "type": "scattercarpet"
           }
          ],
          "scattergeo": [
           {
            "marker": {
             "colorbar": {
              "outlinewidth": 0,
              "ticks": ""
             }
            },
            "type": "scattergeo"
           }
          ],
          "scattergl": [
           {
            "marker": {
             "colorbar": {
              "outlinewidth": 0,
              "ticks": ""
             }
            },
            "type": "scattergl"
           }
          ],
          "scattermapbox": [
           {
            "marker": {
             "colorbar": {
              "outlinewidth": 0,
              "ticks": ""
             }
            },
            "type": "scattermapbox"
           }
          ],
          "scatterpolar": [
           {
            "marker": {
             "colorbar": {
              "outlinewidth": 0,
              "ticks": ""
             }
            },
            "type": "scatterpolar"
           }
          ],
          "scatterpolargl": [
           {
            "marker": {
             "colorbar": {
              "outlinewidth": 0,
              "ticks": ""
             }
            },
            "type": "scatterpolargl"
           }
          ],
          "scatterternary": [
           {
            "marker": {
             "colorbar": {
              "outlinewidth": 0,
              "ticks": ""
             }
            },
            "type": "scatterternary"
           }
          ],
          "surface": [
           {
            "colorbar": {
             "outlinewidth": 0,
             "ticks": ""
            },
            "colorscale": [
             [
              0,
              "#0d0887"
             ],
             [
              0.1111111111111111,
              "#46039f"
             ],
             [
              0.2222222222222222,
              "#7201a8"
             ],
             [
              0.3333333333333333,
              "#9c179e"
             ],
             [
              0.4444444444444444,
              "#bd3786"
             ],
             [
              0.5555555555555556,
              "#d8576b"
             ],
             [
              0.6666666666666666,
              "#ed7953"
             ],
             [
              0.7777777777777778,
              "#fb9f3a"
             ],
             [
              0.8888888888888888,
              "#fdca26"
             ],
             [
              1,
              "#f0f921"
             ]
            ],
            "type": "surface"
           }
          ],
          "table": [
           {
            "cells": {
             "fill": {
              "color": "#EBF0F8"
             },
             "line": {
              "color": "white"
             }
            },
            "header": {
             "fill": {
              "color": "#C8D4E3"
             },
             "line": {
              "color": "white"
             }
            },
            "type": "table"
           }
          ]
         },
         "layout": {
          "annotationdefaults": {
           "arrowcolor": "#2a3f5f",
           "arrowhead": 0,
           "arrowwidth": 1
          },
          "autotypenumbers": "strict",
          "coloraxis": {
           "colorbar": {
            "outlinewidth": 0,
            "ticks": ""
           }
          },
          "colorscale": {
           "diverging": [
            [
             0,
             "#8e0152"
            ],
            [
             0.1,
             "#c51b7d"
            ],
            [
             0.2,
             "#de77ae"
            ],
            [
             0.3,
             "#f1b6da"
            ],
            [
             0.4,
             "#fde0ef"
            ],
            [
             0.5,
             "#f7f7f7"
            ],
            [
             0.6,
             "#e6f5d0"
            ],
            [
             0.7,
             "#b8e186"
            ],
            [
             0.8,
             "#7fbc41"
            ],
            [
             0.9,
             "#4d9221"
            ],
            [
             1,
             "#276419"
            ]
           ],
           "sequential": [
            [
             0,
             "#0d0887"
            ],
            [
             0.1111111111111111,
             "#46039f"
            ],
            [
             0.2222222222222222,
             "#7201a8"
            ],
            [
             0.3333333333333333,
             "#9c179e"
            ],
            [
             0.4444444444444444,
             "#bd3786"
            ],
            [
             0.5555555555555556,
             "#d8576b"
            ],
            [
             0.6666666666666666,
             "#ed7953"
            ],
            [
             0.7777777777777778,
             "#fb9f3a"
            ],
            [
             0.8888888888888888,
             "#fdca26"
            ],
            [
             1,
             "#f0f921"
            ]
           ],
           "sequentialminus": [
            [
             0,
             "#0d0887"
            ],
            [
             0.1111111111111111,
             "#46039f"
            ],
            [
             0.2222222222222222,
             "#7201a8"
            ],
            [
             0.3333333333333333,
             "#9c179e"
            ],
            [
             0.4444444444444444,
             "#bd3786"
            ],
            [
             0.5555555555555556,
             "#d8576b"
            ],
            [
             0.6666666666666666,
             "#ed7953"
            ],
            [
             0.7777777777777778,
             "#fb9f3a"
            ],
            [
             0.8888888888888888,
             "#fdca26"
            ],
            [
             1,
             "#f0f921"
            ]
           ]
          },
          "colorway": [
           "#636efa",
           "#EF553B",
           "#00cc96",
           "#ab63fa",
           "#FFA15A",
           "#19d3f3",
           "#FF6692",
           "#B6E880",
           "#FF97FF",
           "#FECB52"
          ],
          "font": {
           "color": "#2a3f5f"
          },
          "geo": {
           "bgcolor": "white",
           "lakecolor": "white",
           "landcolor": "#E5ECF6",
           "showlakes": true,
           "showland": true,
           "subunitcolor": "white"
          },
          "hoverlabel": {
           "align": "left"
          },
          "hovermode": "closest",
          "mapbox": {
           "style": "light"
          },
          "paper_bgcolor": "white",
          "plot_bgcolor": "#E5ECF6",
          "polar": {
           "angularaxis": {
            "gridcolor": "white",
            "linecolor": "white",
            "ticks": ""
           },
           "bgcolor": "#E5ECF6",
           "radialaxis": {
            "gridcolor": "white",
            "linecolor": "white",
            "ticks": ""
           }
          },
          "scene": {
           "xaxis": {
            "backgroundcolor": "#E5ECF6",
            "gridcolor": "white",
            "gridwidth": 2,
            "linecolor": "white",
            "showbackground": true,
            "ticks": "",
            "zerolinecolor": "white"
           },
           "yaxis": {
            "backgroundcolor": "#E5ECF6",
            "gridcolor": "white",
            "gridwidth": 2,
            "linecolor": "white",
            "showbackground": true,
            "ticks": "",
            "zerolinecolor": "white"
           },
           "zaxis": {
            "backgroundcolor": "#E5ECF6",
            "gridcolor": "white",
            "gridwidth": 2,
            "linecolor": "white",
            "showbackground": true,
            "ticks": "",
            "zerolinecolor": "white"
           }
          },
          "shapedefaults": {
           "line": {
            "color": "#2a3f5f"
           }
          },
          "ternary": {
           "aaxis": {
            "gridcolor": "white",
            "linecolor": "white",
            "ticks": ""
           },
           "baxis": {
            "gridcolor": "white",
            "linecolor": "white",
            "ticks": ""
           },
           "bgcolor": "#E5ECF6",
           "caxis": {
            "gridcolor": "white",
            "linecolor": "white",
            "ticks": ""
           }
          },
          "title": {
           "x": 0.05
          },
          "xaxis": {
           "automargin": true,
           "gridcolor": "white",
           "linecolor": "white",
           "ticks": "",
           "title": {
            "standoff": 15
           },
           "zerolinecolor": "white",
           "zerolinewidth": 2
          },
          "yaxis": {
           "automargin": true,
           "gridcolor": "white",
           "linecolor": "white",
           "ticks": "",
           "title": {
            "standoff": 15
           },
           "zerolinecolor": "white",
           "zerolinewidth": 2
          }
         }
        },
        "title": {
         "text": "Data Quality: Column Shapes (Average Score=0.54)"
        },
        "xaxis": {
         "anchor": "y",
         "categoryorder": "total ascending",
         "domain": [
          0,
          1
         ],
         "title": {
          "text": "Column Name"
         }
        },
        "yaxis": {
         "anchor": "x",
         "domain": [
          0,
          1
         ],
         "range": [
          0,
          1
         ],
         "title": {
          "text": "Quality Score"
         }
        }
       }
      }
     },
     "metadata": {},
     "output_type": "display_data"
    }
   ],
   "source": [
    "quality_report.get_visualization(property_name='Column Shapes')"
   ]
  },
  {
   "cell_type": "code",
   "execution_count": 37,
   "metadata": {},
   "outputs": [
    {
     "data": {
      "text/html": [
       "<div>\n",
       "<style scoped>\n",
       "    .dataframe tbody tr th:only-of-type {\n",
       "        vertical-align: middle;\n",
       "    }\n",
       "\n",
       "    .dataframe tbody tr th {\n",
       "        vertical-align: top;\n",
       "    }\n",
       "\n",
       "    .dataframe thead th {\n",
       "        text-align: right;\n",
       "    }\n",
       "</style>\n",
       "<table border=\"1\" class=\"dataframe\">\n",
       "  <thead>\n",
       "    <tr style=\"text-align: right;\">\n",
       "      <th></th>\n",
       "      <th>Column 1</th>\n",
       "      <th>Column 2</th>\n",
       "      <th>Metric</th>\n",
       "      <th>Quality Score</th>\n",
       "      <th>Real Correlation</th>\n",
       "      <th>Synthetic Correlation</th>\n",
       "    </tr>\n",
       "  </thead>\n",
       "  <tbody>\n",
       "    <tr>\n",
       "      <th>0</th>\n",
       "      <td>amenities_fee</td>\n",
       "      <td>checkin_date</td>\n",
       "      <td>CorrelationSimilarity</td>\n",
       "      <td>0.515705</td>\n",
       "      <td>0.031410</td>\n",
       "      <td>1.000000</td>\n",
       "    </tr>\n",
       "    <tr>\n",
       "      <th>1</th>\n",
       "      <td>amenities_fee</td>\n",
       "      <td>checkout_date</td>\n",
       "      <td>CorrelationSimilarity</td>\n",
       "      <td>0.511524</td>\n",
       "      <td>0.023049</td>\n",
       "      <td>1.000000</td>\n",
       "    </tr>\n",
       "    <tr>\n",
       "      <th>2</th>\n",
       "      <td>amenities_fee</td>\n",
       "      <td>room_rate</td>\n",
       "      <td>CorrelationSimilarity</td>\n",
       "      <td>0.495574</td>\n",
       "      <td>0.008852</td>\n",
       "      <td>-1.000000</td>\n",
       "    </tr>\n",
       "    <tr>\n",
       "      <th>3</th>\n",
       "      <td>checkin_date</td>\n",
       "      <td>checkout_date</td>\n",
       "      <td>CorrelationSimilarity</td>\n",
       "      <td>0.977441</td>\n",
       "      <td>0.999953</td>\n",
       "      <td>0.954834</td>\n",
       "    </tr>\n",
       "    <tr>\n",
       "      <th>4</th>\n",
       "      <td>checkin_date</td>\n",
       "      <td>room_rate</td>\n",
       "      <td>CorrelationSimilarity</td>\n",
       "      <td>0.558993</td>\n",
       "      <td>0.017820</td>\n",
       "      <td>-0.864195</td>\n",
       "    </tr>\n",
       "    <tr>\n",
       "      <th>5</th>\n",
       "      <td>checkout_date</td>\n",
       "      <td>room_rate</td>\n",
       "      <td>CorrelationSimilarity</td>\n",
       "      <td>0.627076</td>\n",
       "      <td>0.008203</td>\n",
       "      <td>-0.737646</td>\n",
       "    </tr>\n",
       "    <tr>\n",
       "      <th>6</th>\n",
       "      <td>has_rewards</td>\n",
       "      <td>room_type</td>\n",
       "      <td>ContingencySimilarity</td>\n",
       "      <td>0.468000</td>\n",
       "      <td>NaN</td>\n",
       "      <td>NaN</td>\n",
       "    </tr>\n",
       "    <tr>\n",
       "      <th>7</th>\n",
       "      <td>amenities_fee</td>\n",
       "      <td>has_rewards</td>\n",
       "      <td>ContingencySimilarity</td>\n",
       "      <td>0.272000</td>\n",
       "      <td>NaN</td>\n",
       "      <td>NaN</td>\n",
       "    </tr>\n",
       "    <tr>\n",
       "      <th>8</th>\n",
       "      <td>checkin_date</td>\n",
       "      <td>has_rewards</td>\n",
       "      <td>ContingencySimilarity</td>\n",
       "      <td>0.224000</td>\n",
       "      <td>NaN</td>\n",
       "      <td>NaN</td>\n",
       "    </tr>\n",
       "    <tr>\n",
       "      <th>9</th>\n",
       "      <td>checkout_date</td>\n",
       "      <td>has_rewards</td>\n",
       "      <td>ContingencySimilarity</td>\n",
       "      <td>0.506000</td>\n",
       "      <td>NaN</td>\n",
       "      <td>NaN</td>\n",
       "    </tr>\n",
       "    <tr>\n",
       "      <th>10</th>\n",
       "      <td>has_rewards</td>\n",
       "      <td>room_rate</td>\n",
       "      <td>ContingencySimilarity</td>\n",
       "      <td>0.454000</td>\n",
       "      <td>NaN</td>\n",
       "      <td>NaN</td>\n",
       "    </tr>\n",
       "    <tr>\n",
       "      <th>11</th>\n",
       "      <td>amenities_fee</td>\n",
       "      <td>room_type</td>\n",
       "      <td>ContingencySimilarity</td>\n",
       "      <td>0.190000</td>\n",
       "      <td>NaN</td>\n",
       "      <td>NaN</td>\n",
       "    </tr>\n",
       "    <tr>\n",
       "      <th>12</th>\n",
       "      <td>checkin_date</td>\n",
       "      <td>room_type</td>\n",
       "      <td>ContingencySimilarity</td>\n",
       "      <td>0.208000</td>\n",
       "      <td>NaN</td>\n",
       "      <td>NaN</td>\n",
       "    </tr>\n",
       "    <tr>\n",
       "      <th>13</th>\n",
       "      <td>checkout_date</td>\n",
       "      <td>room_type</td>\n",
       "      <td>ContingencySimilarity</td>\n",
       "      <td>0.630000</td>\n",
       "      <td>NaN</td>\n",
       "      <td>NaN</td>\n",
       "    </tr>\n",
       "    <tr>\n",
       "      <th>14</th>\n",
       "      <td>room_rate</td>\n",
       "      <td>room_type</td>\n",
       "      <td>ContingencySimilarity</td>\n",
       "      <td>0.430000</td>\n",
       "      <td>NaN</td>\n",
       "      <td>NaN</td>\n",
       "    </tr>\n",
       "  </tbody>\n",
       "</table>\n",
       "</div>"
      ],
      "text/plain": [
       "         Column 1       Column 2                 Metric  Quality Score  \\\n",
       "0   amenities_fee   checkin_date  CorrelationSimilarity       0.515705   \n",
       "1   amenities_fee  checkout_date  CorrelationSimilarity       0.511524   \n",
       "2   amenities_fee      room_rate  CorrelationSimilarity       0.495574   \n",
       "3    checkin_date  checkout_date  CorrelationSimilarity       0.977441   \n",
       "4    checkin_date      room_rate  CorrelationSimilarity       0.558993   \n",
       "5   checkout_date      room_rate  CorrelationSimilarity       0.627076   \n",
       "6     has_rewards      room_type  ContingencySimilarity       0.468000   \n",
       "7   amenities_fee    has_rewards  ContingencySimilarity       0.272000   \n",
       "8    checkin_date    has_rewards  ContingencySimilarity       0.224000   \n",
       "9   checkout_date    has_rewards  ContingencySimilarity       0.506000   \n",
       "10    has_rewards      room_rate  ContingencySimilarity       0.454000   \n",
       "11  amenities_fee      room_type  ContingencySimilarity       0.190000   \n",
       "12   checkin_date      room_type  ContingencySimilarity       0.208000   \n",
       "13  checkout_date      room_type  ContingencySimilarity       0.630000   \n",
       "14      room_rate      room_type  ContingencySimilarity       0.430000   \n",
       "\n",
       "    Real Correlation  Synthetic Correlation  \n",
       "0           0.031410               1.000000  \n",
       "1           0.023049               1.000000  \n",
       "2           0.008852              -1.000000  \n",
       "3           0.999953               0.954834  \n",
       "4           0.017820              -0.864195  \n",
       "5           0.008203              -0.737646  \n",
       "6                NaN                    NaN  \n",
       "7                NaN                    NaN  \n",
       "8                NaN                    NaN  \n",
       "9                NaN                    NaN  \n",
       "10               NaN                    NaN  \n",
       "11               NaN                    NaN  \n",
       "12               NaN                    NaN  \n",
       "13               NaN                    NaN  \n",
       "14               NaN                    NaN  "
      ]
     },
     "execution_count": 37,
     "metadata": {},
     "output_type": "execute_result"
    }
   ],
   "source": [
    "quality_report.get_details(property_name='Column Pair Trends')\n",
    "# No ContingencySimilarities because those only apply to comparisons between 2 categorical columns, and we only have 1 (room_type)"
   ]
  },
  {
   "cell_type": "markdown",
   "metadata": {},
   "source": [
    "### For more evaluation metrics, see - https://docs.sdv.dev/sdmetrics/metrics/metrics-glossary"
   ]
  },
  {
   "cell_type": "markdown",
   "metadata": {},
   "source": [
    "# Conditional Sampling"
   ]
  },
  {
   "cell_type": "markdown",
   "metadata": {},
   "source": [
    "### Fixed Conditions"
   ]
  },
  {
   "cell_type": "code",
   "execution_count": 15,
   "metadata": {},
   "outputs": [],
   "source": [
    "from sdv.sampling import Condition\n",
    "\n",
    "suite_guests_with_rewards = Condition(\n",
    "    num_rows=250,\n",
    "    column_values={'room_type': 'SUITE', 'has_rewards': True}\n",
    ")\n",
    "\n",
    "suite_guests_without_rewards = Condition(\n",
    "    num_rows=250,\n",
    "    column_values={'room_type': 'SUITE', 'has_rewards': False}\n",
    ")"
   ]
  },
  {
   "cell_type": "code",
   "execution_count": 17,
   "metadata": {},
   "outputs": [
    {
     "name": "stderr",
     "output_type": "stream",
     "text": [
      "Sampling conditions: 100%|██████████| 500/500 [00:00<00:00, 1224.87it/s]\n"
     ]
    }
   ],
   "source": [
    "synthetic_data = synthesizer.sample_from_conditions(\n",
    "    conditions=[suite_guests_with_rewards, suite_guests_without_rewards],\n",
    "    output_file_path='synthetic_simulated_scenario.csv'\n",
    ")"
   ]
  },
  {
   "cell_type": "code",
   "execution_count": 18,
   "metadata": {},
   "outputs": [
    {
     "data": {
      "text/plain": [
       "(500, 9)"
      ]
     },
     "execution_count": 18,
     "metadata": {},
     "output_type": "execute_result"
    }
   ],
   "source": [
    "synthetic_data.shape"
   ]
  },
  {
   "cell_type": "code",
   "execution_count": 19,
   "metadata": {},
   "outputs": [
    {
     "data": {
      "text/plain": [
       "has_rewards\n",
       "True     250\n",
       "False    250\n",
       "Name: count, dtype: int64"
      ]
     },
     "execution_count": 19,
     "metadata": {},
     "output_type": "execute_result"
    }
   ],
   "source": [
    "synthetic_data[\"has_rewards\"].value_counts()"
   ]
  },
  {
   "cell_type": "markdown",
   "metadata": {},
   "source": [
    "### Condition on Known Column Values"
   ]
  },
  {
   "cell_type": "code",
   "execution_count": 20,
   "metadata": {},
   "outputs": [],
   "source": [
    "import pandas as pd"
   ]
  },
  {
   "cell_type": "code",
   "execution_count": 21,
   "metadata": {},
   "outputs": [],
   "source": [
    "existing_column_data = pd.DataFrame(data={\n",
    "    'room_type': ['SUITE', 'SUITE', 'DELUXE', 'BASIC', 'BASIC'],\n",
    "    'has_rewards': [True, True, True, False, False]\n",
    "})"
   ]
  },
  {
   "cell_type": "code",
   "execution_count": 22,
   "metadata": {},
   "outputs": [
    {
     "data": {
      "text/html": [
       "<div>\n",
       "<style scoped>\n",
       "    .dataframe tbody tr th:only-of-type {\n",
       "        vertical-align: middle;\n",
       "    }\n",
       "\n",
       "    .dataframe tbody tr th {\n",
       "        vertical-align: top;\n",
       "    }\n",
       "\n",
       "    .dataframe thead th {\n",
       "        text-align: right;\n",
       "    }\n",
       "</style>\n",
       "<table border=\"1\" class=\"dataframe\">\n",
       "  <thead>\n",
       "    <tr style=\"text-align: right;\">\n",
       "      <th></th>\n",
       "      <th>room_type</th>\n",
       "      <th>has_rewards</th>\n",
       "    </tr>\n",
       "  </thead>\n",
       "  <tbody>\n",
       "    <tr>\n",
       "      <th>0</th>\n",
       "      <td>SUITE</td>\n",
       "      <td>True</td>\n",
       "    </tr>\n",
       "    <tr>\n",
       "      <th>1</th>\n",
       "      <td>SUITE</td>\n",
       "      <td>True</td>\n",
       "    </tr>\n",
       "    <tr>\n",
       "      <th>2</th>\n",
       "      <td>DELUXE</td>\n",
       "      <td>True</td>\n",
       "    </tr>\n",
       "    <tr>\n",
       "      <th>3</th>\n",
       "      <td>BASIC</td>\n",
       "      <td>False</td>\n",
       "    </tr>\n",
       "    <tr>\n",
       "      <th>4</th>\n",
       "      <td>BASIC</td>\n",
       "      <td>False</td>\n",
       "    </tr>\n",
       "  </tbody>\n",
       "</table>\n",
       "</div>"
      ],
      "text/plain": [
       "  room_type  has_rewards\n",
       "0     SUITE         True\n",
       "1     SUITE         True\n",
       "2    DELUXE         True\n",
       "3     BASIC        False\n",
       "4     BASIC        False"
      ]
     },
     "execution_count": 22,
     "metadata": {},
     "output_type": "execute_result"
    }
   ],
   "source": [
    "existing_column_data.head()"
   ]
  },
  {
   "cell_type": "code",
   "execution_count": 23,
   "metadata": {},
   "outputs": [
    {
     "name": "stderr",
     "output_type": "stream",
     "text": [
      "Sampling remaining columns: 100%|██████████| 5/5 [00:00<00:00, 24.52it/s]\n"
     ]
    }
   ],
   "source": [
    "synthetic_data = synthesizer.sample_remaining_columns(\n",
    "    known_columns=existing_column_data,\n",
    "    max_tries_per_batch=500\n",
    ")"
   ]
  },
  {
   "cell_type": "code",
   "execution_count": 24,
   "metadata": {},
   "outputs": [
    {
     "data": {
      "text/html": [
       "<div>\n",
       "<style scoped>\n",
       "    .dataframe tbody tr th:only-of-type {\n",
       "        vertical-align: middle;\n",
       "    }\n",
       "\n",
       "    .dataframe tbody tr th {\n",
       "        vertical-align: top;\n",
       "    }\n",
       "\n",
       "    .dataframe thead th {\n",
       "        text-align: right;\n",
       "    }\n",
       "</style>\n",
       "<table border=\"1\" class=\"dataframe\">\n",
       "  <thead>\n",
       "    <tr style=\"text-align: right;\">\n",
       "      <th></th>\n",
       "      <th>guest_email</th>\n",
       "      <th>has_rewards</th>\n",
       "      <th>room_type</th>\n",
       "      <th>amenities_fee</th>\n",
       "      <th>checkin_date</th>\n",
       "      <th>checkout_date</th>\n",
       "      <th>room_rate</th>\n",
       "      <th>billing_address</th>\n",
       "      <th>credit_card_number</th>\n",
       "    </tr>\n",
       "  </thead>\n",
       "  <tbody>\n",
       "    <tr>\n",
       "      <th>0</th>\n",
       "      <td>christophermiller@example.com</td>\n",
       "      <td>True</td>\n",
       "      <td>SUITE</td>\n",
       "      <td>0.00</td>\n",
       "      <td>03 Feb 2020</td>\n",
       "      <td>28 Feb 2020</td>\n",
       "      <td>255.17</td>\n",
       "      <td>6897 Joseph Meadow Suite 514\\nVillarrealberg, ...</td>\n",
       "      <td>30343480880655</td>\n",
       "    </tr>\n",
       "    <tr>\n",
       "      <th>1</th>\n",
       "      <td>dgarcia@example.org</td>\n",
       "      <td>True</td>\n",
       "      <td>SUITE</td>\n",
       "      <td>NaN</td>\n",
       "      <td>07 May 2020</td>\n",
       "      <td>20 May 2020</td>\n",
       "      <td>159.66</td>\n",
       "      <td>930 Matthew Union Suite 195\\nWest Cynthia, NM ...</td>\n",
       "      <td>4930915359735</td>\n",
       "    </tr>\n",
       "    <tr>\n",
       "      <th>2</th>\n",
       "      <td>iwhite@example.org</td>\n",
       "      <td>True</td>\n",
       "      <td>DELUXE</td>\n",
       "      <td>NaN</td>\n",
       "      <td>24 Jun 2020</td>\n",
       "      <td>11 Jul 2020</td>\n",
       "      <td>109.88</td>\n",
       "      <td>96602 Carl Spur Apt. 379\\nCatherineberg, NM 41348</td>\n",
       "      <td>6573028438398211</td>\n",
       "    </tr>\n",
       "    <tr>\n",
       "      <th>3</th>\n",
       "      <td>tsanchez@example.com</td>\n",
       "      <td>False</td>\n",
       "      <td>BASIC</td>\n",
       "      <td>9.62</td>\n",
       "      <td>13 May 2020</td>\n",
       "      <td>19 Apr 2020</td>\n",
       "      <td>112.56</td>\n",
       "      <td>24570 Wilson Walks\\nWest Megan, WY 54869</td>\n",
       "      <td>3582077138450885</td>\n",
       "    </tr>\n",
       "    <tr>\n",
       "      <th>4</th>\n",
       "      <td>bellshawn@example.com</td>\n",
       "      <td>False</td>\n",
       "      <td>BASIC</td>\n",
       "      <td>NaN</td>\n",
       "      <td>22 Jul 2020</td>\n",
       "      <td>20 Jul 2020</td>\n",
       "      <td>134.78</td>\n",
       "      <td>Unit 2094 Box 3077\\nDPO AE 02522</td>\n",
       "      <td>4142271383722418</td>\n",
       "    </tr>\n",
       "  </tbody>\n",
       "</table>\n",
       "</div>"
      ],
      "text/plain": [
       "                     guest_email  has_rewards room_type  amenities_fee  \\\n",
       "0  christophermiller@example.com         True     SUITE           0.00   \n",
       "1            dgarcia@example.org         True     SUITE            NaN   \n",
       "2             iwhite@example.org         True    DELUXE            NaN   \n",
       "3           tsanchez@example.com        False     BASIC           9.62   \n",
       "4          bellshawn@example.com        False     BASIC            NaN   \n",
       "\n",
       "  checkin_date checkout_date  room_rate  \\\n",
       "0  03 Feb 2020   28 Feb 2020     255.17   \n",
       "1  07 May 2020   20 May 2020     159.66   \n",
       "2  24 Jun 2020   11 Jul 2020     109.88   \n",
       "3  13 May 2020   19 Apr 2020     112.56   \n",
       "4  22 Jul 2020   20 Jul 2020     134.78   \n",
       "\n",
       "                                     billing_address  credit_card_number  \n",
       "0  6897 Joseph Meadow Suite 514\\nVillarrealberg, ...      30343480880655  \n",
       "1  930 Matthew Union Suite 195\\nWest Cynthia, NM ...       4930915359735  \n",
       "2  96602 Carl Spur Apt. 379\\nCatherineberg, NM 41348    6573028438398211  \n",
       "3           24570 Wilson Walks\\nWest Megan, WY 54869    3582077138450885  \n",
       "4                   Unit 2094 Box 3077\\nDPO AE 02522    4142271383722418  "
      ]
     },
     "execution_count": 24,
     "metadata": {},
     "output_type": "execute_result"
    }
   ],
   "source": [
    "synthetic_data"
   ]
  },
  {
   "cell_type": "markdown",
   "metadata": {},
   "source": [
    "# Saving & Loading"
   ]
  },
  {
   "cell_type": "code",
   "execution_count": 25,
   "metadata": {},
   "outputs": [],
   "source": [
    "save_path = \"basic_synthesizer.pkl\"\n",
    "synthesizer.save(save_path)"
   ]
  },
  {
   "cell_type": "code",
   "execution_count": 26,
   "metadata": {},
   "outputs": [],
   "source": [
    "loaded_synthesizer = SingleTablePreset.load(save_path)"
   ]
  },
  {
   "cell_type": "code",
   "execution_count": 27,
   "metadata": {},
   "outputs": [
    {
     "data": {
      "text/html": [
       "<div>\n",
       "<style scoped>\n",
       "    .dataframe tbody tr th:only-of-type {\n",
       "        vertical-align: middle;\n",
       "    }\n",
       "\n",
       "    .dataframe tbody tr th {\n",
       "        vertical-align: top;\n",
       "    }\n",
       "\n",
       "    .dataframe thead th {\n",
       "        text-align: right;\n",
       "    }\n",
       "</style>\n",
       "<table border=\"1\" class=\"dataframe\">\n",
       "  <thead>\n",
       "    <tr style=\"text-align: right;\">\n",
       "      <th></th>\n",
       "      <th>guest_email</th>\n",
       "      <th>has_rewards</th>\n",
       "      <th>room_type</th>\n",
       "      <th>amenities_fee</th>\n",
       "      <th>checkin_date</th>\n",
       "      <th>checkout_date</th>\n",
       "      <th>room_rate</th>\n",
       "      <th>billing_address</th>\n",
       "      <th>credit_card_number</th>\n",
       "    </tr>\n",
       "  </thead>\n",
       "  <tbody>\n",
       "    <tr>\n",
       "      <th>0</th>\n",
       "      <td>zrivera@example.net</td>\n",
       "      <td>False</td>\n",
       "      <td>DELUXE</td>\n",
       "      <td>7.12</td>\n",
       "      <td>17 Jun 2020</td>\n",
       "      <td>18 May 2020</td>\n",
       "      <td>167.53</td>\n",
       "      <td>4421 Terry Inlet\\nSouth Leeborough, ND 01324</td>\n",
       "      <td>4939771093271108</td>\n",
       "    </tr>\n",
       "    <tr>\n",
       "      <th>1</th>\n",
       "      <td>david46@example.com</td>\n",
       "      <td>False</td>\n",
       "      <td>BASIC</td>\n",
       "      <td>34.26</td>\n",
       "      <td>18 Oct 2020</td>\n",
       "      <td>NaN</td>\n",
       "      <td>125.53</td>\n",
       "      <td>7166 Blackburn Extension\\nSouth Dennisberg, PA...</td>\n",
       "      <td>3515171266282087</td>\n",
       "    </tr>\n",
       "  </tbody>\n",
       "</table>\n",
       "</div>"
      ],
      "text/plain": [
       "           guest_email  has_rewards room_type  amenities_fee checkin_date  \\\n",
       "0  zrivera@example.net        False    DELUXE           7.12  17 Jun 2020   \n",
       "1  david46@example.com        False     BASIC          34.26  18 Oct 2020   \n",
       "\n",
       "  checkout_date  room_rate                                    billing_address  \\\n",
       "0   18 May 2020     167.53       4421 Terry Inlet\\nSouth Leeborough, ND 01324   \n",
       "1           NaN     125.53  7166 Blackburn Extension\\nSouth Dennisberg, PA...   \n",
       "\n",
       "   credit_card_number  \n",
       "0    4939771093271108  \n",
       "1    3515171266282087  "
      ]
     },
     "execution_count": 27,
     "metadata": {},
     "output_type": "execute_result"
    }
   ],
   "source": [
    "loaded_synthesizer.sample(2)"
   ]
  },
  {
   "cell_type": "code",
   "execution_count": null,
   "metadata": {},
   "outputs": [],
   "source": []
  }
 ],
 "metadata": {
  "kernelspec": {
   "display_name": "venv",
   "language": "python",
   "name": "python3"
  },
  "language_info": {
   "codemirror_mode": {
    "name": "ipython",
    "version": 3
   },
   "file_extension": ".py",
   "mimetype": "text/x-python",
   "name": "python",
   "nbconvert_exporter": "python",
   "pygments_lexer": "ipython3",
   "version": "3.10.13"
  },
  "orig_nbformat": 4
 },
 "nbformat": 4,
 "nbformat_minor": 2
}
